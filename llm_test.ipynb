{
  "nbformat": 4,
  "nbformat_minor": 0,
  "metadata": {
    "colab": {
      "provenance": [],
      "collapsed_sections": [
        "ssSWUETlmJqF",
        "tld0b4TkAp4x",
        "rEHwVrOoAtAR",
        "aQ_mm5_FAvHI",
        "NhkqnpjGAyJi",
        "nDn9UkBYA1jx",
        "yKRXfcWdD7iC",
        "nCcBEtt-oBYc",
        "3vQREwYvNBKu",
        "Rv4VQiLLX6Gl"
      ],
      "gpuType": "T4"
    },
    "kernelspec": {
      "name": "python3",
      "display_name": "Python 3"
    },
    "language_info": {
      "name": "python"
    },
    "widgets": {
	  "state": {}
	},
    "accelerator": "GPU"
  },
  "cells": [
    {
      "cell_type": "markdown",
      "source": [
        "# Network Initialization"
      ],
      "metadata": {
        "id": "ssSWUETlmJqF"
      }
    },
    {
      "cell_type": "code",
      "source": [
        "!pip install lark groq -q"
      ],
      "metadata": {
        "id": "s2fRMtssl37b",
        "colab": {
          "base_uri": "https://localhost:8080/"
        },
        "outputId": "6bf7aed8-d823-4cfd-f04b-44e7f5358188"
      },
      "execution_count": 1,
      "outputs": [
        {
          "output_type": "stream",
          "name": "stdout",
          "text": [
            "\u001b[?25l   \u001b[90m━━━━━━━━━━━━━━━━━━━━━━━━━━━━━━━━━━━━━━━━\u001b[0m \u001b[32m0.0/111.0 kB\u001b[0m \u001b[31m?\u001b[0m eta \u001b[36m-:--:--\u001b[0m\r\u001b[2K   \u001b[90m━━━━━━━━━━━━━━━━━━━━━━━━━━━━━━━━━━━━━━━━\u001b[0m \u001b[32m111.0/111.0 kB\u001b[0m \u001b[31m9.2 MB/s\u001b[0m eta \u001b[36m0:00:00\u001b[0m\n",
            "\u001b[?25h\u001b[?25l   \u001b[90m━━━━━━━━━━━━━━━━━━━━━━━━━━━━━━━━━━━━━━━━\u001b[0m \u001b[32m0.0/130.8 kB\u001b[0m \u001b[31m?\u001b[0m eta \u001b[36m-:--:--\u001b[0m\r\u001b[2K   \u001b[90m━━━━━━━━━━━━━━━━━━━━━━━━━━━━━━━━━━━━━━━━\u001b[0m \u001b[32m130.8/130.8 kB\u001b[0m \u001b[31m10.0 MB/s\u001b[0m eta \u001b[36m0:00:00\u001b[0m\n",
            "\u001b[?25h"
          ]
        }
      ]
    },
    {
      "cell_type": "code",
      "source": [
        "from google.colab import drive\n",
        "from typing import Any, Callable, Literal\n",
        "from datetime import datetime\n",
        "from tqdm.auto import tqdm\n",
        "from PIL import Image, ImageDraw, ImageFont\n",
        "from sklearn.metrics import roc_auc_score\n",
        "from groq import Groq\n",
        "import os\n",
        "import shutil\n",
        "import io\n",
        "import re\n",
        "import json\n",
        "import base64\n",
        "import random\n",
        "import inspect\n",
        "import time\n",
        "import lark\n",
        "import torch\n",
        "import pandas as pd\n",
        "import matplotlib.pyplot as plt\n",
        "\n",
        "ROOT_DIR = os.getcwd()\n",
        "DRIVE_DATASETS_DIR = os.path.join(ROOT_DIR, 'drive', 'MyDrive', 'Thesis', 'visudo_pc', 'datasets')\n",
        "DRIVE_LOGS_DIR = os.path.join(ROOT_DIR, 'drive', 'MyDrive', 'Thesis', 'visudo_pc', 'logs')\n",
        "DATASETS_DIR = os.path.join(ROOT_DIR, 'data', 'datasets', 'visudo_pc')\n",
        "GROQ_API_KEY = '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'"
      ],
      "metadata": {
        "id": "fOd37di8lyWE"
      },
      "execution_count": 2,
      "outputs": []
    },
    {
      "cell_type": "code",
      "source": [
        "drive.mount('/content/drive')\n",
        "if not os.path.exists(DATASETS_DIR):\n",
        "    os.makedirs(DATASETS_DIR)\n",
        "for file_name in os.listdir(DRIVE_DATASETS_DIR):\n",
        "    if file_name.endswith('.pt'):\n",
        "        file_path = os.path.join(DRIVE_DATASETS_DIR, file_name)\n",
        "        shutil.copy(file_path, DATASETS_DIR)"
      ],
      "metadata": {
        "id": "YeIF_HiJmcAk",
        "colab": {
          "base_uri": "https://localhost:8080/"
        },
        "outputId": "e01e571b-2348-499e-c1ec-0948e5f87176"
      },
      "execution_count": 3,
      "outputs": [
        {
          "output_type": "stream",
          "name": "stdout",
          "text": [
            "Mounted at /content/drive\n"
          ]
        }
      ]
    },
    {
      "cell_type": "markdown",
      "source": [
        "# LTN"
      ],
      "metadata": {
        "id": "tld0b4TkAp4x"
      }
    },
    {
      "cell_type": "markdown",
      "source": [
        "## FOL Grammar"
      ],
      "metadata": {
        "id": "rEHwVrOoAtAR"
      }
    },
    {
      "cell_type": "code",
      "source": [
        "CONSTANT_TERMINAL = 'constant'\n",
        "VARIABLE_TERMINAL = 'variable'\n",
        "FUNCTION_TERMINAL = 'function'\n",
        "PREDICATE_TERMINAL = 'predicate'\n",
        "WRAPPER_TERMINAL = 'wrapper'\n",
        "LOGICAL_NOT_TERMINAL = 'logical_not'\n",
        "LOGICAL_AND_TERMINAL = 'logical_and'\n",
        "LOGICAL_OR_TERMINAL = 'logical_or'\n",
        "IMPLIES_TERMINAL = 'implies'\n",
        "IFF_TERMINAL = 'iff'\n",
        "EXISTS_TERMINAL = 'exists'\n",
        "FORALL_TERMINAL = 'forall'\n",
        "\n",
        "CONSTANT_SYMBOL = 'C'\n",
        "VARIABLE_SYMBOL = 'x'\n",
        "FUNCTION_SYMBOL = 'f'\n",
        "PREDICATE_SYMBOL = 'P'\n",
        "WRAPPER_SYMBOL = ''\n",
        "LOGICAL_NOT_SYMBOL = '!'\n",
        "LOGICAL_AND_SYMBOL = '&'\n",
        "LOGICAL_OR_SYMBOL = '|'\n",
        "IMPLIES_SYMBOL = 'implies'\n",
        "IFF_SYMBOL = 'iff'\n",
        "EXISTS_SYMBOL = 'exists'\n",
        "FORALL_SYMBOL = 'forall'\n",
        "\n",
        "FOL_GRAMMAR = f'''\n",
        "//// Explanations ////\n",
        "\n",
        "    // {CONSTANT_TERMINAL} identifiers always start with \"{CONSTANT_SYMBOL}\"\n",
        "    // {VARIABLE_TERMINAL} identifiers always start with \"{VARIABLE_SYMBOL}\"\n",
        "    // {FUNCTION_TERMINAL} identifiers always start with \"{FUNCTION_SYMBOL}\"\n",
        "    // {PREDICATE_TERMINAL} identifiers always start with \"{PREDICATE_SYMBOL}\"\n",
        "    // wrapper symbol is \"{WRAPPER_SYMBOL}(\" and \")\"\n",
        "    // negation symbol is \"{LOGICAL_NOT_SYMBOL}\"\n",
        "    // conjunction symbol is \"{LOGICAL_AND_SYMBOL}\"\n",
        "    // disjunction symbol is \"{LOGICAL_OR_SYMBOL}\"\n",
        "    // implication symbol is \"{IMPLIES_SYMBOL}\"\n",
        "    // equivalence symbol is \"{IFF_SYMBOL}\"\n",
        "    // universal quantifier symbol is \"{FORALL_SYMBOL}\"\n",
        "    // existential quantifier symbol is \"{EXISTS_SYMBOL}\"\n",
        "\n",
        "//// Initialization ////\n",
        "\n",
        "    // imports\n",
        "     %import common.WS\n",
        "     %ignore WS\n",
        "\n",
        "    // entry point\n",
        "    ?start: expression\n",
        "\n",
        "//// Term-Level Terminal Definitions  ////\n",
        "\n",
        "    // Tree Structure:\n",
        "    // term\n",
        "    // ├─atom\n",
        "    // │ └─{CONSTANT_TERMINAL}, {VARIABLE_TERMINAL}\n",
        "    // └─mapper\n",
        "    //   └─{FUNCTION_TERMINAL}\n",
        "\n",
        "    // Abstract Terminal (no precedence)\n",
        "    ?term: {CONSTANT_TERMINAL} | {VARIABLE_TERMINAL} | {FUNCTION_TERMINAL}\n",
        "\n",
        "    // Concrete Terminals (no precedence)\n",
        "    {CONSTANT_TERMINAL}: /{CONSTANT_SYMBOL}[a-z0-9_]*/\n",
        "    {VARIABLE_TERMINAL}: /{VARIABLE_SYMBOL}[a-z0-9_]*/\n",
        "    {FUNCTION_TERMINAL}: /{FUNCTION_SYMBOL}[a-z0-9_]*/ \"(\" term (\",\" term)* \")\"\n",
        "\n",
        "//// Expression-Level Terminal Definitions ////\n",
        "\n",
        "    // Tree Structure:\n",
        "    // expression\n",
        "    // ├─evaluator\n",
        "    // │ └─{PREDICATE_TERMINAL}\n",
        "    // ├─unary_connective\n",
        "    // │ └─{WRAPPER_TERMINAL}, {LOGICAL_NOT_TERMINAL}\n",
        "    // ├─binary_connective\n",
        "    // │ └─{LOGICAL_AND_TERMINAL}, {LOGICAL_OR_TERMINAL}, {IMPLIES_TERMINAL}, {IFF_TERMINAL}\n",
        "    // └─quantifier\n",
        "    //   └─{EXISTS_TERMINAL}, {FORALL_TERMINAL}\n",
        "\n",
        "    // Abstract Terminal (ascending precedence)\n",
        "    ?expression: level_0\n",
        "    ?level_0: level_1 | {EXISTS_TERMINAL} | {FORALL_TERMINAL}\n",
        "    ?level_1: level_2 | {IFF_TERMINAL} | {IMPLIES_TERMINAL}\n",
        "    ?level_2: level_3 | {LOGICAL_OR_TERMINAL}\n",
        "    ?level_3: level_4 | {LOGICAL_AND_TERMINAL}\n",
        "    ?level_4: level_5 | {LOGICAL_NOT_TERMINAL} | {WRAPPER_TERMINAL}\n",
        "    ?level_5: predicate\n",
        "\n",
        "    // Concrete Terminals (ascending precedence)\n",
        "    {EXISTS_TERMINAL}: \"{EXISTS_SYMBOL}\" {VARIABLE_TERMINAL} (\",\" {VARIABLE_TERMINAL})* expression\n",
        "    {FORALL_TERMINAL}: \"{FORALL_SYMBOL}\" {VARIABLE_TERMINAL} (\",\" {VARIABLE_TERMINAL})* expression\n",
        "    {IFF_TERMINAL}: level_1 \"{IFF_SYMBOL}\" level_2\n",
        "    {IMPLIES_TERMINAL}: level_1 \"{IMPLIES_SYMBOL}\" level_2\n",
        "    {LOGICAL_OR_TERMINAL}: level_2 \"{LOGICAL_OR_SYMBOL}\" level_3\n",
        "    {LOGICAL_AND_TERMINAL}: level_4 \"{LOGICAL_AND_SYMBOL}\" level_3\n",
        "    {LOGICAL_NOT_TERMINAL}: \"{LOGICAL_NOT_SYMBOL}\" level_4\n",
        "    {WRAPPER_TERMINAL}: \"{WRAPPER_SYMBOL}(\" expression \")\"\n",
        "    {PREDICATE_TERMINAL}: /{PREDICATE_SYMBOL}[a-z0-9_]*/ \"(\" term (\",\" term)* \")\"\n",
        "'''"
      ],
      "metadata": {
        "id": "0TWedeN_A5QZ"
      },
      "execution_count": null,
      "outputs": []
    },
    {
      "cell_type": "markdown",
      "source": [
        "## Groundings"
      ],
      "metadata": {
        "id": "aQ_mm5_FAvHI"
      }
    },
    {
      "cell_type": "code",
      "source": [
        "class Grd():\n",
        "\n",
        "    # Implicit Super Grounding\n",
        "    class Base():\n",
        "        def __init__(self, description:str, content:None|str|torch.Tensor|torch.nn.Module|Callable[..., torch.Tensor], hyper_arg_dict:dict[str, int|float]) -> None:\n",
        "            self.description = description\n",
        "            self.content = content\n",
        "            self.hyper_arg_dict = hyper_arg_dict\n",
        "        def __repr__(self) -> str:\n",
        "            return self.__str__()\n",
        "        def __str__(self) -> str:\n",
        "            return self.description\n",
        "        def __call__(self, *args:Any) -> Any:\n",
        "            raise NotImplementedError()\n",
        "\n",
        "    # Explicit Groundings\n",
        "    class Empty(Base):\n",
        "        def __init__(self) -> None:\n",
        "            super().__init__('empty', None, {})\n",
        "        def __call__(self) -> None:\n",
        "            return self.content\n",
        "\n",
        "    class Command(Base):\n",
        "        def __init__(self, command:str) -> None:\n",
        "            super().__init__('command', command, {})\n",
        "        def __call__(self) -> str:\n",
        "            return self.content\n",
        "\n",
        "    class Value(Base):\n",
        "        def __init__(self, tensor:torch.Tensor) -> None:\n",
        "            shape = 'scalar' if tensor.ndim == 0 else f'{tensor.shape[0]}x0' if tensor.ndim == 1 else 'x'.join(str(dim) for dim in tensor.shape)\n",
        "            trainability = 'trainable' if tensor.requires_grad else 'non-trainable'\n",
        "            super().__init__(f'tensor[{shape}, {trainability}]', tensor, {})\n",
        "        def __call__(self) -> torch.Tensor:\n",
        "            return self.content\n",
        "\n",
        "    class Network(Base):\n",
        "        def __init__(self, network:torch.nn.Module) -> None:\n",
        "            tot_params = sum(tensor.numel() for tensor in network.parameters())\n",
        "            tot_trainable_params = sum(tensor.numel() for tensor in network.parameters() if tensor.requires_grad)\n",
        "            super().__init__(f'network[{tot_params} params, {tot_trainable_params} trainable]', network, {})\n",
        "        def __call__(self, *args:torch.Tensor) -> torch.Tensor:\n",
        "            return self.content(*args)\n",
        "\n",
        "    class Routine(Base):\n",
        "        @classmethod\n",
        "        def wrap(cls, description:str) -> Callable[[Callable[..., torch.Tensor]], 'Grd.Routine']:\n",
        "            def decorator(routine: Callable[..., torch.Tensor]) -> Grd.Routine:\n",
        "                return Grd.Routine(staticmethod(routine), description)\n",
        "            return decorator\n",
        "        def __init__(self, routine:Callable[..., torch.Tensor], description:str):\n",
        "            signature = inspect.signature(routine).parameters\n",
        "            assert all(arg_value.annotation is not inspect._empty for arg_value in signature.values()), \"The routine must be type-hinted!\"\n",
        "            hyper_arg_dict = dict[str, int|float]()\n",
        "            for arg_name, arg_value in signature.items():\n",
        "                if arg_value.annotation in (int, float):\n",
        "                    hyper_arg_dict[arg_name] = arg_value.default if arg_value.default is not inspect._empty else None\n",
        "            if len(hyper_arg_dict) > 0:\n",
        "                hyper_arg = f', {len(hyper_arg_dict)} hyper-arg' + ('s' if len(hyper_arg_dict) > 1 else '') + f', {sum(hyper_arg_value is None for hyper_arg_value in hyper_arg_dict.values())} empty'\n",
        "            else:\n",
        "                hyper_arg = ''\n",
        "            super().__init__(f'{routine.__name__}[{description}{hyper_arg}]', routine, hyper_arg_dict)\n",
        "        def __call__(self, *args:torch.Tensor) -> torch.Tensor:\n",
        "            return self.content(*args, **self.hyper_arg_dict)"
      ],
      "metadata": {
        "id": "QY4IH2zDA_xx"
      },
      "execution_count": null,
      "outputs": []
    },
    {
      "cell_type": "markdown",
      "source": [
        "### Tests"
      ],
      "metadata": {
        "id": "8Cs8H14Y2mBk"
      }
    },
    {
      "cell_type": "code",
      "source": [
        "a = 'hi'\n",
        "b = Grd.Command(a)\n",
        "print('command')\n",
        "print('description', b.description)\n",
        "print('content', b.content, a is b.content)\n",
        "print('arg_dict', b.hyper_arg_dict)\n",
        "print('call', b())\n",
        "print()\n",
        "\n",
        "a = torch.tensor([1, 2, 3])\n",
        "b = Grd.Value(a)\n",
        "print('value')\n",
        "print('description', b.description)\n",
        "print('content', b.content, a is b.content)\n",
        "print('arg_dict', b.hyper_arg_dict)\n",
        "print('call', b())\n",
        "print()\n",
        "\n",
        "a = torch.nn.Linear(3, 4)\n",
        "b = Grd.Network(a)\n",
        "c = torch.tensor([1.0, 2.0, 3.0])\n",
        "print('network')\n",
        "print('description', b.description)\n",
        "print('content', b.content, a is b.content)\n",
        "print('arg_dict', b.hyper_arg_dict)\n",
        "print('call', b(c))\n",
        "print()\n",
        "\n",
        "def a(x:torch.Tensor) -> torch.Tensor:\n",
        "    return x\n",
        "b = Grd.Routine(a, 'x + 1')\n",
        "c = torch.tensor([1.0, 2.0, 3.0])\n",
        "print('routine')\n",
        "print('description', b.description)\n",
        "print('content', b.content, a is b.content)\n",
        "print('arg_dict', b.hyper_arg_dict)\n",
        "print('call', b(c))\n",
        "print()\n",
        "\n",
        "def a(reduction_list:list[int], x:torch.Tensor, y:int, z:float=6.5) -> torch.Tensor:\n",
        "    return x[reduction_list] + y\n",
        "b = Grd.Routine(a, 'x + 1')\n",
        "c = torch.tensor([1.0, 2.0, 3.0])\n",
        "print('routine')\n",
        "print('description', b.description)\n",
        "print('content', b.content, a is b.content)\n",
        "print('arg_dict', b.hyper_arg_dict)\n",
        "b.hyper_arg_dict['y'] = 1\n",
        "print('call', b([1,2], c))\n",
        "print()"
      ],
      "metadata": {
        "colab": {
          "base_uri": "https://localhost:8080/"
        },
        "id": "JoB0ajwn2kRd",
        "outputId": "581b8ee3-fd4d-4478-9fd0-a67ee3f2ef8b"
      },
      "execution_count": null,
      "outputs": [
        {
          "output_type": "stream",
          "name": "stdout",
          "text": [
            "command\n",
            "description command\n",
            "content hi True\n",
            "arg_dict {}\n",
            "call hi\n",
            "\n",
            "value\n",
            "description tensor[3x0, non-trainable]\n",
            "content tensor([1, 2, 3]) True\n",
            "arg_dict {}\n",
            "call tensor([1, 2, 3])\n",
            "\n",
            "network\n",
            "description network[16 params, 16 trainable]\n",
            "content Linear(in_features=3, out_features=4, bias=True) True\n",
            "arg_dict {}\n",
            "call tensor([-0.0422,  0.9244,  0.0816, -1.4042], grad_fn=<ViewBackward0>)\n",
            "\n",
            "routine\n",
            "description a[x + 1]\n",
            "content <function a at 0x7cb6b7bda480> True\n",
            "arg_dict {}\n",
            "call tensor([1., 2., 3.])\n",
            "\n",
            "routine\n",
            "description a[x + 1, 2 hyper-args, 1 empty]\n",
            "content <function a at 0x7cb6b7bdaf20> True\n",
            "arg_dict {'y': None, 'z': 6.5}\n",
            "call tensor([3., 4.])\n",
            "\n"
          ]
        }
      ]
    },
    {
      "cell_type": "markdown",
      "source": [
        "## Blocks"
      ],
      "metadata": {
        "id": "NhkqnpjGAyJi"
      }
    },
    {
      "cell_type": "code",
      "source": [
        "class Blk():\n",
        "\n",
        "    # Abstract Super Block\n",
        "    class Base():\n",
        "        PRINT_PRIORITY = 0\n",
        "        TERMINAL:str|None = None\n",
        "        def __init__(self, name:str, symbol:str, *children:'Blk.Base') -> None:\n",
        "            self.name = name\n",
        "            self.symbol = symbol\n",
        "            self.children = children\n",
        "            self.current_grd:Grd.Base = Grd.Empty()\n",
        "            self.default_grd_dict = {k: v for k, v in self.__class__.__dict__.items() if isinstance(v, Grd.Routine)}\n",
        "            self.global_blk_list = list['Blk.Base']()\n",
        "            self.global_domain_list = list[str]()\n",
        "            self.involved_domain_set = set[str]()\n",
        "            self.arg_shape_dict = dict[str, list[str]]()\n",
        "            self.inp_shape_list = list[str]()\n",
        "            self.out_shape_list = list[str]()\n",
        "        def __repr__(self) -> str:\n",
        "            return self.__str__()\n",
        "        def __str__(self) -> str:\n",
        "            raise NotImplementedError()\n",
        "        def __call__(self, **value_dict:torch.Tensor) -> torch.Tensor:\n",
        "            raise NotImplementedError()\n",
        "        def setup_blks(self, global_blk_list:list['Blk.Base']) -> None:\n",
        "            for child in self.children:\n",
        "                child.setup_blks(global_blk_list)\n",
        "            global_blk_list.append(self)\n",
        "            self.global_blk_list = global_blk_list\n",
        "        def setup_domains(self, global_domain_list:list[str]) -> None:\n",
        "            for child in self.children:\n",
        "                child.setup_domains(global_domain_list)\n",
        "            if isinstance(self, Blk.Quantifier):\n",
        "                for variable in self.children[:-1]:\n",
        "                    if variable.name not in global_domain_list:\n",
        "                        global_domain_list.append(variable.name)\n",
        "            global_domain_list.sort()\n",
        "            self.global_domain_list = global_domain_list\n",
        "        def setup_shapes(self) -> None:\n",
        "            for child in self.children:\n",
        "                child.setup_shapes()\n",
        "            if isinstance(self, Blk.Atom):\n",
        "                self.out_shape_list.append('B*')\n",
        "                if self.name in self.global_domain_list:\n",
        "                    self.involved_domain_set = {self.name}\n",
        "                    self.out_shape_list.append(f'D{self.name}')\n",
        "                self.out_shape_list.append(f'E{self.name}')\n",
        "            elif isinstance(self, Blk.Mapper):\n",
        "                for term in self.children:\n",
        "                    self.involved_domain_set.update(term.involved_domain_set)\n",
        "                    self.arg_shape_dict[term.name] = term.out_shape_list\n",
        "                self.out_shape_list.append('B*')\n",
        "                for domain in self.global_domain_list:\n",
        "                    self.out_shape_list.append(f'D{domain}' if domain in self.involved_domain_set else '1')\n",
        "                self.out_shape_list.append(f'E{self.name}')\n",
        "            elif isinstance(self, Blk.BinaryConnective):\n",
        "                left, right = self.children\n",
        "                self.involved_domain_set.update(left.involved_domain_set)\n",
        "                self.involved_domain_set.update(right.involved_domain_set)\n",
        "                self.arg_shape_dict['left_tensor'] = ['B*'] + [f'D{domain}*' for domain in self.global_domain_list]\n",
        "                self.arg_shape_dict['right_tensor'] = ['B*'] + [f'D{domain}*' for domain in self.global_domain_list]\n",
        "                self.out_shape_list = ['B*'] + [f'D{domain}*' for domain in self.global_domain_list]\n",
        "            elif isinstance(self, Blk.UnaryConnective):\n",
        "                body = self.children[0]\n",
        "                self.involved_domain_set.update(body.involved_domain_set)\n",
        "                self.arg_shape_dict['tensor'] = ['B*'] + [f'D{domain}*' for domain in self.global_domain_list]\n",
        "                self.out_shape_list = ['B*'] + [f'D{domain}*' for domain in self.global_domain_list]\n",
        "            elif isinstance(self, Blk.Quantifier):\n",
        "                body = self.children[-1]\n",
        "                self.involved_domain_set.update(self.global_domain_list)\n",
        "                for variable in self.children[:-1]:\n",
        "                    self.involved_domain_set.remove(variable.name)\n",
        "                self.arg_shape_dict['tensor'] = ['B*'] + [f'D{domain}*' for domain in self.global_domain_list]\n",
        "                self.out_shape_list = ['B*'] + [f'D{domain}**' for domain in self.global_domain_list]\n",
        "            elif isinstance(self, Blk.Evaluator):\n",
        "                for term in self.children:\n",
        "                    self.involved_domain_set.update(term.involved_domain_set)\n",
        "                    self.arg_shape_dict[term.name] = term.out_shape_list\n",
        "                self.out_shape_list.append('B*')\n",
        "                for domain in self.global_domain_list:\n",
        "                    self.out_shape_list.append(f'D{domain}' if domain in self.involved_domain_set else '1')\n",
        "        def ground(self, **context_dict:Grd.Command|Grd.Value|Grd.Network|Grd.Routine) -> None:\n",
        "            if self.name in context_dict:\n",
        "                temporary_ground = context_dict[self.name]\n",
        "                if isinstance(temporary_ground, Grd.Command):\n",
        "                    self.current_grd = self.default_grd_dict[temporary_ground()]\n",
        "                else:\n",
        "                    self.current_grd = temporary_ground\n",
        "            for child in self.children:\n",
        "                child.ground(**context_dict)\n",
        "        def control(self, **hyper_arg_dict:dict[str, int|float]) -> None:\n",
        "            if self.name in hyper_arg_dict:\n",
        "                for arg_name, arg_value in hyper_arg_dict[self.name].items():\n",
        "                    if arg_name in self.current_grd.hyper_arg_dict:\n",
        "                        self.current_grd.hyper_arg_dict[arg_name] = arg_value\n",
        "            for child in self.children:\n",
        "                child.control(**hyper_arg_dict)\n",
        "\n",
        "    # Abstract High-Level Blocks\n",
        "    class Term(Base):\n",
        "        def __init__(self, name:str, symbol:str, *children:'Blk.Base') -> None:\n",
        "            super().__init__(name, symbol, *children)\n",
        "\n",
        "    class Expression(Base):\n",
        "        def __init__(self, name:str, symbol:str, *children:'Blk.Base') -> None:\n",
        "            super().__init__(name, symbol, *children)\n",
        "\n",
        "    # Abstract Medium-Level Blocks\n",
        "    class Atom(Term):\n",
        "        PRINT_PRIORITY = 1\n",
        "        def __init__(self, name:str, symbol:str) -> None:\n",
        "            super().__init__(name, symbol)\n",
        "            self.current_grd:Grd.Empty|Grd.Value = Grd.Empty()\n",
        "        def __str__(self) -> str:\n",
        "            return self.name\n",
        "        def __call__(self, **value_dict:torch.Tensor) -> torch.Tensor:\n",
        "            if isinstance(self.current_grd, Grd.Empty):\n",
        "                return value_dict[self.name]\n",
        "            return self.current_grd()\n",
        "\n",
        "    class Mapper(Term):\n",
        "        PRINT_PRIORITY = 2\n",
        "        def __init__(self, name:str, symbol:str, *terms:'Blk.Term') -> None:\n",
        "            super().__init__(name, symbol, *terms)\n",
        "            self.current_grd:Grd.Empty|Grd.Network|Grd.Routine = Grd.Empty()\n",
        "        def __str__(self) -> str:\n",
        "            return self.name + '(' + ', '.join(str(child) for child in self.children) + ')'\n",
        "        def __call__(self, **value_dict:torch.Tensor) -> torch.Tensor:\n",
        "            return self.current_grd(*[term(**value_dict) for term in self.children])\n",
        "\n",
        "    class Evaluator(Expression):\n",
        "        PRINT_PRIORITY = 3\n",
        "        def __init__(self, name:str, symbol:str, *terms:'Blk.Term') -> None:\n",
        "            super().__init__(name, symbol, *terms)\n",
        "            self.current_grd:Grd.Empty|Grd.Network|Grd.Routine = Grd.Empty()\n",
        "        def __str__(self) -> str:\n",
        "            return self.name + '(' + ', '.join(str(child) for child in self.children) + ')'\n",
        "        def __call__(self, **value_dict:torch.Tensor) -> torch.Tensor:\n",
        "            return self.current_grd(*[term(**value_dict) for term in self.children])\n",
        "\n",
        "    class UnaryConnective(Expression):\n",
        "        PRINT_PRIORITY = 4\n",
        "        def __init__(self, name:str, symbol:str, default_grd:Grd.Routine, body:'Blk.Expression') -> None:\n",
        "            super().__init__(name, symbol, body)\n",
        "            self.current_grd = default_grd\n",
        "        def __str__(self) -> str:\n",
        "            return self.symbol + '(' + str(self.children[0]) + ')'\n",
        "        def __call__(self, **value_dict:torch.Tensor) -> torch.Tensor:\n",
        "            body = self.children[0]\n",
        "            return self.current_grd(body(**value_dict))\n",
        "\n",
        "    class BinaryConnective(Expression):\n",
        "        PRINT_PRIORITY = 5\n",
        "        def __init__(self, name:str, symbol:str, default_grd:Grd.Routine, left:'Blk.Expression', right:'Blk.Expression') -> None:\n",
        "            super().__init__(name, symbol, left, right)\n",
        "            self.current_grd = default_grd\n",
        "        def __str__(self) -> str:\n",
        "            return str(self.children[0]) + ' ' + self.symbol + ' ' + str(self.children[1])\n",
        "        def __call__(self, **value_dict:torch.Tensor) -> torch.Tensor:\n",
        "            left, right = self.children\n",
        "            return self.current_grd(left(**value_dict), right(**value_dict))\n",
        "\n",
        "    class Quantifier(Expression):\n",
        "        PRINT_PRIORITY = 6\n",
        "        def __init__(self, name:str, symbol:str, default_grd:Grd.Routine, body:'Blk.Expression', *variables:'Blk.Variable') -> None:\n",
        "            super().__init__(name, symbol, *variables, body)\n",
        "            self.current_grd = default_grd\n",
        "        def __str__(self) -> str:\n",
        "            return self.symbol + '[' + ', '.join(str(child) for child in self.children[:-1]) + '](' + str(self.children[-1]) + ')'\n",
        "        def __call__(self, **value_dict:torch.Tensor) -> torch.Tensor:\n",
        "            variable_list = self.children[:-1]\n",
        "            body = self.children[-1]\n",
        "            reduction_dim_list = [self.global_domain_list.index(variable.name) + 1 for variable in variable_list]\n",
        "            return self.current_grd(reduction_dim_list, body(**value_dict))\n",
        "\n",
        "    # Concrete Blocks\n",
        "    class Constant(Atom):\n",
        "        TERMINAL = CONSTANT_TERMINAL\n",
        "        def __init__(self, in_list:list[lark.Token]) -> None:\n",
        "            super().__init__(in_list[0].value, CONSTANT_SYMBOL)\n",
        "\n",
        "    class Variable(Atom):\n",
        "        TERMINAL = VARIABLE_TERMINAL\n",
        "        def __init__(self, in_list:list[lark.Token]) -> None:\n",
        "            super().__init__(in_list[0].value, VARIABLE_SYMBOL)\n",
        "\n",
        "    class Function(Mapper):\n",
        "        TERMINAL = FUNCTION_TERMINAL\n",
        "        def __init__(self, in_list:list['lark.Token|Blk.Term']) -> None:\n",
        "            super().__init__(in_list[0].value, FUNCTION_SYMBOL, *in_list[1:])\n",
        "\n",
        "    class Predicate(Evaluator):\n",
        "        TERMINAL = PREDICATE_TERMINAL\n",
        "        def __init__(self, in_list:list['lark.Token|Blk.Term']) -> None:\n",
        "            super().__init__(in_list[0].value, PREDICATE_SYMBOL, *in_list[1:])\n",
        "\n",
        "    class Wrapper(UnaryConnective):\n",
        "        TERMINAL = WRAPPER_TERMINAL\n",
        "        def __init__(self, in_list:list['Blk.Expression']) -> None:\n",
        "            super().__init__(WRAPPER_TERMINAL, WRAPPER_SYMBOL, self.identity, in_list[0])\n",
        "        @Grd.Routine.wrap('x')\n",
        "        def identity(tensor:torch.Tensor) -> torch.Tensor:\n",
        "            return tensor\n",
        "\n",
        "    class LogicalNot(UnaryConnective):\n",
        "        TERMINAL = LOGICAL_NOT_TERMINAL\n",
        "        def __init__(self, in_list:list['Blk.Expression']) -> None:\n",
        "            super().__init__(LOGICAL_NOT_TERMINAL, LOGICAL_NOT_SYMBOL, self.complementation, in_list[0])\n",
        "        @Grd.Routine.wrap('1 - x')\n",
        "        def complementation(tensor:torch.Tensor) -> torch.Tensor:\n",
        "            return 1.0 - tensor\n",
        "\n",
        "    class LogicalAnd(BinaryConnective):\n",
        "        TERMINAL = LOGICAL_AND_TERMINAL\n",
        "        def __init__(self, in_list:list['Blk.Expression']) -> None:\n",
        "            super().__init__(LOGICAL_AND_TERMINAL, LOGICAL_AND_SYMBOL, self.lukasiewicz, in_list[0], in_list[1])\n",
        "        @Grd.Routine.wrap('max(0, x1 + x2 - 1)')\n",
        "        def lukasiewicz(left_tensor:torch.Tensor, right_tensor:torch.Tensor) -> torch.Tensor:\n",
        "            return torch.maximum(torch.tensor(0.0, device=left_tensor.device), left_tensor + right_tensor - 1.0)\n",
        "        @Grd.Routine.wrap('min(x1, x2)')\n",
        "        def godel(left_tensor:torch.Tensor, right_tensor:torch.Tensor) -> torch.Tensor:\n",
        "            return torch.minimum(left_tensor, right_tensor)\n",
        "        @Grd.Routine.wrap('x1 * x2')\n",
        "        def goguen(left_tensor:torch.Tensor, right_tensor:torch.Tensor) -> torch.Tensor:\n",
        "            return left_tensor * right_tensor\n",
        "\n",
        "    class LogicalOr(BinaryConnective):\n",
        "        TERMINAL = LOGICAL_OR_TERMINAL\n",
        "        def __init__(self, in_list:list[Any]) -> None:\n",
        "            super().__init__(LOGICAL_OR_TERMINAL, LOGICAL_OR_SYMBOL, self.lukasiewicz, in_list[0], in_list[1])\n",
        "        @Grd.Routine.wrap('min(1, x1 + x2)')\n",
        "        def lukasiewicz(left_tensor:torch.Tensor, right_tensor:torch.Tensor) -> torch.Tensor:\n",
        "            return torch.minimum(torch.tensor(1.0, device=left_tensor.device), left_tensor + right_tensor)\n",
        "        @Grd.Routine.wrap('max(x1, x2)')\n",
        "        def godel(left_tensor:torch.Tensor, right_tensor:torch.Tensor) -> torch.Tensor:\n",
        "            return torch.maximum(left_tensor, right_tensor)\n",
        "        @Grd.Routine.wrap('1 - (1 - x1) * (1 - x2)')\n",
        "        def goguen(left_tensor:torch.Tensor, right_tensor:torch.Tensor) -> torch.Tensor:\n",
        "            return 1.0 - (1.0 - left_tensor) * (1.0 - right_tensor)\n",
        "\n",
        "    class Implies(BinaryConnective):\n",
        "        TERMINAL = IMPLIES_TERMINAL\n",
        "        def __init__(self, in_list:list['Blk.Expression']) -> None:\n",
        "            super().__init__(IMPLIES_TERMINAL, IMPLIES_SYMBOL, self.lukasiewicz, in_list[0], in_list[1])\n",
        "        @Grd.Routine.wrap('min(1, 1 - x1 + x2)')\n",
        "        def lukasiewicz(left_tensor:torch.Tensor, right_tensor:torch.Tensor) -> torch.Tensor:\n",
        "            return torch.minimum(torch.tensor(1.0, device=left_tensor.device), 1 - left_tensor + right_tensor)\n",
        "        @Grd.Routine.wrap('1 if x1 <= x2 else x2')\n",
        "        def godel(left_tensor:torch.Tensor, right_tensor:torch.Tensor) -> torch.Tensor:\n",
        "            return torch.where(left_tensor <= right_tensor, torch.tensor(1.0, device=left_tensor.device), right_tensor)\n",
        "        @Grd.Routine.wrap('1 if x1 <=x2 else x2 / x1')\n",
        "        def goguen(left_tensor:torch.Tensor, right_tensor:torch.Tensor) -> torch.Tensor:\n",
        "            return torch.where(left_tensor <= right_tensor, torch.tensor(1.0, device=left_tensor.device), right_tensor / torch.clamp(left_tensor, min=1e-6))\n",
        "        @Grd.Routine.wrap('max(1 - x1, x2)')\n",
        "        def kleene_dienes(left_tensor:torch.Tensor, right_tensor:torch.Tensor) -> torch.Tensor:\n",
        "            return torch.maximum(1 - left_tensor, right_tensor)\n",
        "        @Grd.Routine.wrap('1 - x1 + x1 * x2')\n",
        "        def reichenbach(left_tensor:torch.Tensor, right_tensor:torch.Tensor) -> torch.Tensor:\n",
        "            return 1.0 - left_tensor + left_tensor * right_tensor\n",
        "\n",
        "    class Iff(BinaryConnective):\n",
        "        TERMINAL = IFF_TERMINAL\n",
        "        def __init__(self, in_list:list['Blk.Expression']) -> None:\n",
        "            super().__init__(IFF_TERMINAL, IFF_SYMBOL, self.linear_similarity, in_list[0], in_list[1])\n",
        "        @Grd.Routine.wrap('1 - |x1 - x2|')\n",
        "        def linear_similarity(left_tensor:torch.Tensor, right_tensor:torch.Tensor) -> torch.Tensor:\n",
        "            return 1.0 - torch.abs(left_tensor - right_tensor)\n",
        "\n",
        "    class ForAll(Quantifier):\n",
        "        TERMINAL = FORALL_TERMINAL\n",
        "        def __init__(self, in_list:list['Blk.Variable|Blk.Expression']) -> None:\n",
        "            super().__init__(FORALL_TERMINAL, FORALL_SYMBOL, self.lukasiewicz, in_list[-1], *in_list[:-1])\n",
        "        @Grd.Routine.wrap('max(0, sum(xi) - n + 1)')\n",
        "        def lukasiewicz(reduction_dim_list:list[int], tensor:torch.Tensor) -> torch.Tensor:\n",
        "            sum_tensor = torch.sum(tensor, dim=reduction_dim_list, keepdim=True)\n",
        "            n = torch.prod(torch.tensor([tensor.size(dim) for dim in reduction_dim_list], device=tensor.device))\n",
        "            return torch.maximum(torch.tensor(0.0, device=tensor.device), sum_tensor - n + 1)\n",
        "        @Grd.Routine.wrap('min(xi)')\n",
        "        def godel(reduction_dim_list:list[int], tensor:torch.Tensor) -> torch.Tensor:\n",
        "            return torch.amin(tensor, dim=reduction_dim_list, keepdim=True)\n",
        "        @Grd.Routine.wrap('prod(xi)')\n",
        "        def goguen(reduction_dim_list:list[int], tensor:torch.Tensor) -> torch.Tensor:\n",
        "            prod_tensor = tensor\n",
        "            for dim in sorted(reduction_dim_list, reverse=True):\n",
        "                prod_tensor = torch.prod(prod_tensor, dim=dim, keepdim=True)\n",
        "            return prod_tensor\n",
        "        @Grd.Routine.wrap('1 - mean((1 - xi) ** p) ** (1 / p)')\n",
        "        def power_mean(reduction_dim_list:list[int], tensor:torch.Tensor, p:int=2) -> torch.Tensor:\n",
        "            return 1.0 - torch.mean((1.0 - tensor) ** p, dim=reduction_dim_list, keepdim=True) ** (1 / p)\n",
        "\n",
        "    class Exists(Quantifier):\n",
        "        TERMINAL = EXISTS_TERMINAL\n",
        "        def __init__(self, in_list:list['Blk.Variable|Blk.Expression']) -> None:\n",
        "            super().__init__(EXISTS_TERMINAL, EXISTS_SYMBOL, self.lukasiewicz, in_list[-1], *in_list[:-1])\n",
        "        @Grd.Routine.wrap('min(1, sum(xi))')\n",
        "        def lukasiewicz(reduction_dim_list:list[int], tensor:torch.Tensor) -> torch.Tensor:\n",
        "            sum_tensor = torch.sum(tensor, dim=reduction_dim_list, keepdim=True)\n",
        "            return torch.minimum(torch.tensor(1.0, device=tensor.device), sum_tensor)\n",
        "        @Grd.Routine.wrap('max(xi)')\n",
        "        def godel(reduction_dim_list:list[int], tensor:torch.Tensor) -> torch.Tensor:\n",
        "            return torch.amax(tensor, dim=reduction_dim_list, keepdim=True)\n",
        "        @Grd.Routine.wrap('1 - prod(1 - xi)')\n",
        "        def goguen(reduction_dim_list:list[int], tensor:torch.Tensor) -> torch.Tensor:\n",
        "            prod_tensor = 1.0 - tensor\n",
        "            for dim in sorted(reduction_dim_list, reverse=True):\n",
        "                prod_tensor = torch.prod(prod_tensor, dim=dim, keepdim=True)\n",
        "            return 1.0 - prod_tensor\n",
        "        @Grd.Routine.wrap('mean(xi ** p) ** (1 / p)')\n",
        "        def power_mean(reduction_dim_list:list[int], tensor:torch.Tensor, p:int=1) -> torch.Tensor:\n",
        "            return torch.mean(tensor ** p, dim=reduction_dim_list, keepdim=True) ** (1 / p)"
      ],
      "metadata": {
        "id": "45sakg6uBDah"
      },
      "execution_count": null,
      "outputs": []
    },
    {
      "cell_type": "markdown",
      "source": [
        "## Builder"
      ],
      "metadata": {
        "id": "nDn9UkBYA1jx"
      }
    },
    {
      "cell_type": "code",
      "source": [
        "class LTNBuilder():\n",
        "\n",
        "    # Explicit Formula\n",
        "    class Formula():\n",
        "        def __init__(self, fol_rule:str, fol_tree:lark.Tree, ltn_expression:'Blk.Expression') -> None:\n",
        "            self._fol_rule = fol_rule\n",
        "            self._fol_tree = fol_tree\n",
        "            self._ltn_expression = ltn_expression\n",
        "        def __call__(self, **value_dict:torch.Tensor) -> torch.Tensor:\n",
        "            output = self._ltn_expression(**value_dict).squeeze()\n",
        "            if output.ndim == 0:\n",
        "                output = output.unsqueeze(0)\n",
        "            return output\n",
        "        def get_parameters(self) -> list[torch.nn.Parameter]:\n",
        "            parameter_list = list[torch.nn.Parameter]()\n",
        "            for blk in self._ltn_expression.global_blk_list:\n",
        "                if isinstance(blk.current_grd, Grd.Value):\n",
        "                    parameter_list.append(blk.current_grd.content)\n",
        "                elif isinstance(blk.current_grd, Grd.Network):\n",
        "                    parameter_list += list(blk.current_grd.content.parameters())\n",
        "            return parameter_list\n",
        "        def set_config(self, mode:Literal['device', 'status'], param:str) -> None:\n",
        "            if mode == 'device':\n",
        "                for blk in self._ltn_expression.global_blk_list:\n",
        "                    if isinstance(blk.current_grd, Grd.Value):\n",
        "                        blk.current_grd.content = blk.current_grd.content.to(param)\n",
        "                    elif isinstance(blk.current_grd, Grd.Network):\n",
        "                        blk.current_grd.content = blk.current_grd.content.to(param)\n",
        "            elif mode == 'status':\n",
        "                if param == 'train':\n",
        "                    for blk in self._ltn_expression.global_blk_list:\n",
        "                        if isinstance(blk.current_grd, Grd.Value):\n",
        "                            blk.current_grd.content.requires_grad = True\n",
        "                        elif isinstance(blk.current_grd, Grd.Network):\n",
        "                            blk.current_grd.content.train()\n",
        "                elif param == 'eval':\n",
        "                    for blk in self._ltn_expression.global_blk_list:\n",
        "                        if isinstance(blk.current_grd, Grd.Value):\n",
        "                            blk.current_grd.content.requires_grad = False\n",
        "                        elif isinstance(blk.current_grd, Grd.Network):\n",
        "                            blk.current_grd.content.eval()\n",
        "        def ground(self, **raw_context_dict:str|torch.Tensor|torch.nn.Module|Callable[..., torch.Tensor]) -> None:\n",
        "            context_dict = dict[str, Grd.Command|Grd.Value|Grd.Network|Grd.Routine]()\n",
        "            for blk_name in raw_context_dict:\n",
        "                if isinstance(raw_context_dict[blk_name], str):\n",
        "                    context_dict[blk_name] = Grd.Command(raw_context_dict[blk_name])\n",
        "                elif isinstance(raw_context_dict[blk_name], torch.Tensor):\n",
        "                    context_dict[blk_name] = Grd.Value(raw_context_dict[blk_name])\n",
        "                elif isinstance(raw_context_dict[blk_name], torch.nn.Module):\n",
        "                    context_dict[blk_name] = Grd.Network(raw_context_dict[blk_name])\n",
        "                elif isinstance(raw_context_dict[blk_name], Callable):\n",
        "                    context_dict[blk_name] = Grd.Routine(raw_context_dict[blk_name], 'n/a')\n",
        "            self._ltn_expression.ground(**context_dict)\n",
        "        def control(self, **hyper_arg_dict:dict[str, int|float]) -> None:\n",
        "            self._ltn_expression.control(**hyper_arg_dict)\n",
        "        def get(self, mode:Literal['raw', 'parsed', 'tree', 'info']) -> str:\n",
        "            output = None\n",
        "            if mode == 'raw':\n",
        "                output = self._fol_rule\n",
        "            elif mode == 'parsed':\n",
        "                output = self._ltn_expression\n",
        "            elif mode == 'tree':\n",
        "                output = self._fol_tree.pretty()[:-1]\n",
        "            elif mode == 'info':\n",
        "                ungrounded_blk_dict = dict[tuple[int, str], str]()\n",
        "                grounded_blk_dict = dict[tuple[int, str], str]()\n",
        "                for blk in self._ltn_expression.global_blk_list:\n",
        "                    if isinstance(blk.current_grd, Grd.Empty):\n",
        "                        ungrounded_blk_dict[blk.PRINT_PRIORITY, blk.name] = f'  {blk.name} -> {blk.TERMINAL}'\n",
        "                    else:\n",
        "                        grounded_blk_dict[blk.PRINT_PRIORITY, blk.name] = f'  {blk.name} -> {blk.current_grd}'\n",
        "                        if len(blk.default_grd_dict) > 0:\n",
        "                            grounded_blk_dict[blk.PRINT_PRIORITY, blk.name] += '*, ' + ', '.join(str(grd) for grd in blk.default_grd_dict.values() if grd != blk.current_grd)\n",
        "                ungrounded_blk_dict = dict(sorted(ungrounded_blk_dict.items(), key=lambda item: item[0]))\n",
        "                grounded_blk_dict = dict(sorted(grounded_blk_dict.items(), key=lambda item: item[0]))\n",
        "                output = ''\n",
        "                if len(ungrounded_blk_dict) > 0:\n",
        "                    output += '\\nUngrounded Symbols:\\n' + '\\n'.join(ungrounded_blk_dict.values())\n",
        "                if len(grounded_blk_dict) > 0:\n",
        "                    output += '\\nGrounded Symbols:\\n' + '\\n'.join(grounded_blk_dict.values())\n",
        "                output = output[1:] if output.startswith('\\n') else output\n",
        "                output += (\n",
        "                    '\\nFootnotes:'\n",
        "                    '\\n  * -> current grounding'\n",
        "                )\n",
        "            elif mode == 'shapes':\n",
        "                blk_dict = dict[tuple[int, str], str]()\n",
        "                for blk in self._ltn_expression.global_blk_list:\n",
        "                    shapes = list[str]()\n",
        "                    if len(blk.arg_shape_dict) > 0:\n",
        "                        argument_shape_list = list[str]()\n",
        "                        for arg in blk.arg_shape_dict:\n",
        "                            argument_shape_list.append(f'{arg}[' + ', '.join(blk.arg_shape_dict[arg]) + ']')\n",
        "                        shapes.append('  inp shape -> ' + ', '.join(argument_shape_list))\n",
        "                    if len(blk.inp_shape_list) > 0:\n",
        "                        shapes.append('  inp shape -> ' + ', '.join(blk.inp_shape_list))\n",
        "                    if len(blk.out_shape_list) > 0:\n",
        "                        shapes.append('  out shape -> ' + ', '.join(blk.out_shape_list))\n",
        "                    blk_dict[blk.PRINT_PRIORITY, blk.name] = '\\n'.join(shapes)\n",
        "                blk_dict = dict(sorted(blk_dict.items(), key=lambda item: item[0]))\n",
        "                output = '\\n'.join(f'{blk_name}:\\n{blk_shapes}' for (_, blk_name), blk_shapes in blk_dict.items())\n",
        "                output += (\n",
        "                    '\\nFootnotes:'\n",
        "                    '\\n  B -> batch size'\n",
        "                    '\\n  Dx -> domain size of `x`'\n",
        "                    '\\n  Ex -> extra dimensions of `x`'\n",
        "                    '\\n  * -> the dimension can also be equal to `1` but not missing'\n",
        "                    '\\n  ** -> the dimension is equal to `1` if its corresponding variable is involved in the quantifier'\n",
        "                )\n",
        "            return output\n",
        "\n",
        "    def __init__(self, fol_grammar=FOL_GRAMMAR) -> None:\n",
        "        self._fol_parser = lark.Lark(fol_grammar)\n",
        "        self._fol_transformer = lark.Transformer()\n",
        "        for Block in Blk.__dict__.values():\n",
        "            if isinstance(Block, type) and issubclass(Block, Blk.Base) and Block.TERMINAL is not None:\n",
        "                setattr(self._fol_transformer, Block.TERMINAL, Block)\n",
        "\n",
        "    def make_formula(self, fol_rule:str) -> Formula:\n",
        "        fol_tree = self._fol_parser.parse(fol_rule)\n",
        "        ltn_expression:Blk.Expression = self._fol_transformer.transform(fol_tree)\n",
        "        ltn_expression.setup_blks(list['Blk.Base']())\n",
        "        ltn_expression.setup_domains(list[str]())\n",
        "        ltn_expression.setup_shapes()\n",
        "        ltn_formula = LTNBuilder.Formula(fol_rule, fol_tree, ltn_expression)\n",
        "        return ltn_formula"
      ],
      "metadata": {
        "id": "0YkkpeeqA1Ba"
      },
      "execution_count": null,
      "outputs": []
    },
    {
      "cell_type": "markdown",
      "source": [
        "### Tests"
      ],
      "metadata": {
        "id": "DzVyCFUx_t-7"
      }
    },
    {
      "cell_type": "code",
      "source": [
        "fol_rule = 'forall x P(x)'\n",
        "ltn_formula = LTNBuilder().make_formula(fol_rule)\n",
        "\n",
        "def foo(x:torch.Tensor, y:int) -> torch.Tensor:\n",
        "    return x + y\n",
        "ltn_formula.ground(\n",
        "    P=foo,\n",
        "    forall='power_mean'\n",
        ")\n",
        "ltn_formula.control(\n",
        "    P={'y': 1}\n",
        ")\n",
        "\n",
        "print('Raw')\n",
        "print(ltn_formula.get('raw'))\n",
        "print()\n",
        "\n",
        "print('Parsed')\n",
        "print(ltn_formula.get('parsed'))\n",
        "print()\n",
        "\n",
        "print('Tree')\n",
        "print(ltn_formula.get('tree'))\n",
        "print()\n",
        "\n",
        "print('Info')\n",
        "print(ltn_formula.get('info'))\n",
        "print()\n",
        "\n",
        "print('Shapes')\n",
        "print(ltn_formula.get('shapes'))\n",
        "print()\n",
        "\n",
        "y = ltn_formula(x=torch.tensor([[1.0], [2.0]]))\n",
        "print(y)\n",
        "\n",
        "ltn_formula.control(\n",
        "    P={'y': 5}\n",
        ")\n",
        "y = ltn_formula(x=torch.tensor([[1.0], [2.0]]))\n",
        "print(y)"
      ],
      "metadata": {
        "colab": {
          "base_uri": "https://localhost:8080/"
        },
        "id": "qAtqbvKI0Kkg",
        "outputId": "16b68c06-ab11-4ba3-9440-8198cef54870"
      },
      "execution_count": null,
      "outputs": [
        {
          "output_type": "stream",
          "name": "stdout",
          "text": [
            "Raw\n",
            "forall x P(x)\n",
            "\n",
            "Parsed\n",
            "forall[x](P(x))\n",
            "\n",
            "Tree\n",
            "forall\n",
            "  variable\tx\n",
            "  predicate\n",
            "    P\n",
            "    variable\tx\n",
            "\n",
            "Info\n",
            "Ungrounded Symbols:\n",
            "  x -> variable\n",
            "Grounded Symbols:\n",
            "  P -> foo[n/a, 1 hyper-arg, 1 empty]\n",
            "  forall -> power_mean[1 - mean((1 - xi) ** p) ** (1 / p), 1 hyper-arg, 0 empty]*, lukasiewicz[max(0, sum(xi) - n + 1)], godel[min(xi)], goguen[prod(xi)]\n",
            "Footnotes:\n",
            "  * -> current grounding\n",
            "\n",
            "Shapes\n",
            "x:\n",
            "  out shape -> B*, Dx, Ex\n",
            "P:\n",
            "  inp shape -> x[B*, Dx, Ex]\n",
            "  out shape -> B*, Dx\n",
            "forall:\n",
            "  inp shape -> tensor[B*, Dx*]\n",
            "  out shape -> B*, Dx**\n",
            "Footnotes:\n",
            "  B -> batch size\n",
            "  Dx -> domain size of `x`\n",
            "  Ex -> extra dimensions of `x`\n",
            "  * -> the dimension can also be equal to `1` but not missing\n",
            "  ** -> the dimension is equal to `1` if its corresponding variable is involved in the quantifier\n",
            "\n",
            "tensor([nan, nan])\n",
            "tensor([nan, nan])\n"
          ]
        }
      ]
    },
    {
      "cell_type": "markdown",
      "source": [
        "# Platform"
      ],
      "metadata": {
        "id": "AcozSyi2mM30"
      }
    },
    {
      "cell_type": "markdown",
      "source": [
        "## Groundings Tools"
      ],
      "metadata": {
        "id": "yKRXfcWdD7iC"
      }
    },
    {
      "cell_type": "code",
      "source": [
        "class VisualEncoder(torch.nn.Module):\n",
        "\n",
        "    def __init__(self,\n",
        "                 device:str,\n",
        "                 symbol_size,\n",
        "                 cnn_hidden_dims:tuple[int, ...],\n",
        "                 embed_dim:int,\n",
        "                 drop_prob:float) -> None:\n",
        "        super().__init__()\n",
        "        self.device = device\n",
        "        self.symbol_size = symbol_size\n",
        "        self.cnn_hidden_dims = cnn_hidden_dims\n",
        "        self.embed_dim = embed_dim\n",
        "        self.drop_prob = drop_prob\n",
        "        cnn_list = torch.nn.ModuleList()\n",
        "        last_cnn_hidden_dim = 1\n",
        "        pooled_side = symbol_size\n",
        "        for cnn_hidden_dim in cnn_hidden_dims:\n",
        "            cnn_list.append(torch.nn.Conv2d(in_channels=last_cnn_hidden_dim, out_channels=cnn_hidden_dim, kernel_size=3, stride=1, padding=1))\n",
        "            cnn_list.append(torch.nn.ReLU())\n",
        "            cnn_list.append(torch.nn.BatchNorm2d(num_features=cnn_hidden_dim))\n",
        "            cnn_list.append(torch.nn.MaxPool2d(kernel_size=2, stride=2))\n",
        "            last_cnn_hidden_dim = cnn_hidden_dim\n",
        "            pooled_side = pooled_side // 2\n",
        "        self.cnn = torch.nn.Sequential(*cnn_list)\n",
        "        self.cnn_projection = torch.nn.Sequential(\n",
        "            torch.nn.Linear(in_features=last_cnn_hidden_dim * pooled_side * pooled_side, out_features=embed_dim - 2),\n",
        "            torch.nn.Dropout(p=drop_prob)\n",
        "        )\n",
        "        self.to(device)\n",
        "\n",
        "    def forward(self, symbols:torch.Tensor) -> torch.Tensor:\n",
        "        '''\n",
        "        inputs:\n",
        "            symbols: Tensor[batch_size, dimension, dimension, symbol_size, symbol_size][cpu][torch.uint8]\n",
        "        outputs:\n",
        "            embeds: Tensor[batch_size, total_symbols, embed_dim][device][torch.float32]\n",
        "        '''\n",
        "        batch_size, dimension, _, symbol_size, _ = symbols.shape\n",
        "        total_symbols = dimension ** 2\n",
        "        symbols = symbols.reshape(batch_size, total_symbols, symbol_size, symbol_size) # Tensor[batch_size, total_symbols, symbol_size, symbol_size][device][torch.uint8]\n",
        "        indices = torch.cartesian_prod(torch.arange(dimension), torch.arange(dimension)).expand(batch_size, -1, 2).to(torch.uint8) # Tensor[batch_size, total_symbols, 2][cpu][torch.uint8]\n",
        "        symbols = symbols.to(self.device).to(torch.float32) / 255 # Tensor[batch_size, total_symbols, symbol_size, symbol_size][device][torch.float32]\n",
        "        indices = indices.to(self.device).to(torch.float32) # Tensor[batch_size, total_symbols, 2][device][torch.float32]\n",
        "        embeds = symbols.view(-1, 1, self.symbol_size, self.symbol_size) # Tensor[batch_size*total_symbols, 1, symbol_size, symbol_size][device][torch.float32]\n",
        "        embeds = self.cnn(embeds) # Tensor[batch_size*total_symbols, last_cnn_hidden_dim, pooled_side, pooled_side][device][torch.float32]\n",
        "        embeds = embeds.reshape(batch_size, total_symbols, -1) # Tensor[batch_size, total_symbols, last_cnn_hidden_dim*pooled_side*pooled_side][device][torch.float32]\n",
        "        embeds = self.cnn_projection(embeds) # Tensor[batch_size, total_symbols, embed_dim - 2][device][torch.float32]\n",
        "        embeds = torch.cat((embeds, indices), dim=-1) # Tensor[batch_size, total_symbols, embed_dim][device][torch.float32]\n",
        "        return embeds"
      ],
      "metadata": {
        "id": "lSZVofln3hIw"
      },
      "execution_count": null,
      "outputs": []
    },
    {
      "cell_type": "code",
      "source": [
        "def binary_similarity(left_tensor:torch.Tensor, right_tensor:torch.Tensor) -> torch.Tensor:\n",
        "    '''\n",
        "    formula:\n",
        "        y = (x1 == x2)\n",
        "    inputs:\n",
        "        left_tensor: Tensor[B, Dl, E][device][torch.float]\n",
        "        right_tensor: Tensor[B, Dr, E][device][torch.float]\n",
        "    outputs:\n",
        "        output: Tensor[B, Dl, Dr][device][torch.float]\n",
        "    footnotes:\n",
        "        B: batch size, i.e, `batch_size`\n",
        "        Dl: domain size of `left_tensor`\n",
        "        Dr: domain size of `right_tensor`\n",
        "        E: extra dimension of the tensors\n",
        "    '''\n",
        "    left_tensor = left_tensor.unsqueeze(2) # Tensor[B, Dl, 1, E][device][torch.float32]\n",
        "    right_tensor = right_tensor.unsqueeze(1) # Tensor[B, 1, Dr, E][device][torch.float32]\n",
        "    similarity = (left_tensor == right_tensor).all(dim=-1) # Tensor[B, Dl, Dr][device][torch.bool]\n",
        "    return similarity.to(torch.float32)\n",
        "\n",
        "def jaccard_similarity(left_tensor:torch.Tensor, right_tensor:torch.Tensor, eps:float=1e-6, p:int=2) -> torch.Tensor:\n",
        "    '''\n",
        "    formula:\n",
        "        y = ||x1|| ** 2\n",
        "    inputs:\n",
        "        left_tensor: Tensor[B, Dl, E][device][torch.float]\n",
        "        right_tensor: Tensor[B, Dr, E][device][torch.float]\n",
        "        exp: exponentiation power\n",
        "        eps: stability parameter\n",
        "    outputs:\n",
        "        output: Tensor[B, Dl, Dr][device][torch.float]\n",
        "    footnotes:\n",
        "        B: batch size, i.e, `batch_size`\n",
        "        Dl: domain size of `left_tensor`\n",
        "        Dr: domain size of `right_tensor`\n",
        "        E: extra dimension of the tensors\n",
        "    '''\n",
        "    left_tensor = left_tensor.unsqueeze(2) # Tensor[B, Dl, 1, E][device][torch.float32]\n",
        "    right_tensor = right_tensor.unsqueeze(1) # Tensor[B, 1, Dr, E][device][torch.float32]\n",
        "    left_norm = (left_tensor * left_tensor).sum(dim=-1) # Tensor[B, Dl, 1][device][torch.float32]\n",
        "    right_norm = (right_tensor * right_tensor).sum(dim=-1) # Tensor[B, 1, Dr][device][torch.float32]\n",
        "    dot_product = (left_tensor * right_tensor).sum(dim=-1) # Tensor[B, Dl, Dr][device][torch.float32]\n",
        "    similarity = 2 * dot_product / (left_norm + right_norm + eps) # Tensor[B, Dl, Dr][device][torch.float32]\n",
        "    similarity = torch.where((left_norm < eps) & (right_norm < eps), torch.ones_like(similarity), similarity) # Tensor[B, Dl, Dr][device][torch.float32]\n",
        "    return similarity ** p\n",
        "\n",
        "def exponential_similarity(left_tensor:torch.Tensor, right_tensor:torch.Tensor, eps:float=0.1, p:int=2) -> torch.Tensor:\n",
        "    '''\n",
        "    inputs:\n",
        "        left_tensor: Tensor[B, Dl, E][device][torch.float]\n",
        "        right_tensor: Tensor[B, Dr, E][device][torch.float]\n",
        "        k: norm order\n",
        "    outputs:\n",
        "        output: Tensor[B, Dl, Dr][device][torch.float]\n",
        "    footnotes:\n",
        "        B: batch size, i.e, `batch_size`\n",
        "        Dl: domain size of `left_tensor`\n",
        "        Dr: domain size of `right_tensor`\n",
        "        E: extra dimension of the tensors\n",
        "    '''\n",
        "    left_tensor = left_tensor.unsqueeze(2) # Tensor[B, Dl, 1, E][device][torch.float32]\n",
        "    right_tensor = right_tensor.unsqueeze(1) # Tensor[B, 1, Dr, E][device][torch.float32]\n",
        "    distance = torch.norm(left_tensor - right_tensor, p=p, dim=-1) # Tensor[B, Dl, Dr][device][torch.float32]\n",
        "    similarity = torch.exp(-torch.relu(distance - eps)) # Tensor[B, Dl, Dr][device][torch.float32]\n",
        "    return similarity.to(torch.float32)\n",
        "\n",
        "def row_similarity(x1:torch.Tensor, x2:torch.Tensor) -> torch.Tensor:\n",
        "    _, _, E = x1.shape\n",
        "    x1 = x1[:, :, (E - 2,)]\n",
        "    x2 = x2[:, :, (E - 2,)]\n",
        "    return binary_similarity(x1, x2)\n",
        "\n",
        "def col_similarity(x1:torch.Tensor, x2:torch.Tensor) -> torch.Tensor:\n",
        "    _, _, E = x1.shape\n",
        "    x1 = x1[:, :, (E - 1,)]\n",
        "    x2 = x2[:, :, (E - 1,)]\n",
        "    return binary_similarity(x1, x2)\n",
        "\n",
        "def block_similarity(x1:torch.Tensor, x2:torch.Tensor) -> torch.Tensor:\n",
        "    _, D, E = x1.shape\n",
        "    total_samples_per_side = int(D ** 0.25)\n",
        "    x1 = x1[:, :, E - 2:] // total_samples_per_side\n",
        "    x2 = x2[:, :, E - 2:] // total_samples_per_side\n",
        "    return binary_similarity(x1, x2)\n",
        "\n",
        "def loc_similarity(x1:torch.Tensor, x2:torch.Tensor) -> torch.Tensor:\n",
        "    _, _, E = x1.shape\n",
        "    x1 = x1[:, :, E - 2:]\n",
        "    x2 = x2[:, :, E - 2:]\n",
        "    return binary_similarity(x1, x2)\n",
        "\n",
        "def digit_similarity(x1:torch.Tensor, x2:torch.Tensor) -> torch.Tensor:\n",
        "    _, _, E = x1.shape\n",
        "    x1 = x1[:, :, (0,)]\n",
        "    x2 = x2[:, :, (0,)]\n",
        "    return binary_similarity(x1, x2)\n",
        "\n",
        "def vector_similarity(x1:torch.Tensor, x2:torch.Tensor) -> torch.Tensor:\n",
        "    _, _, E = x1.shape\n",
        "    x1 = x1[:, :, :E - 2]\n",
        "    x2 = x2[:, :, :E - 2]\n",
        "    return exponential_similarity(x1, x2)"
      ],
      "metadata": {
        "id": "Ie5nzSqnCz6B"
      },
      "execution_count": null,
      "outputs": []
    },
    {
      "cell_type": "markdown",
      "source": [
        "### Test"
      ],
      "metadata": {
        "id": "nCcBEtt-oBYc"
      }
    },
    {
      "cell_type": "code",
      "source": [
        "x1 = torch.tensor([[\n",
        "    [1, 2, 3.5],\n",
        "    [0.5, 2, 3.5],\n",
        "    [0, 0, 0]\n",
        "]])\n",
        "j = jaccard_similarity(x1, x1)\n",
        "e = exponential_similarity(x1, x1, 1)\n",
        "print(j)\n",
        "print(e)"
      ],
      "metadata": {
        "colab": {
          "base_uri": "https://localhost:8080/"
        },
        "id": "JOi3LsFlik9S",
        "outputId": "7bdcb143-0ff5-4119-8903-9f5ec561b5b5"
      },
      "execution_count": null,
      "outputs": [
        {
          "output_type": "stream",
          "name": "stdout",
          "text": [
            "tensor([[[1.0000, 0.9852, 0.0000],\n",
            "         [0.9852, 1.0000, 0.0000],\n",
            "         [0.0000, 0.0000, 1.0000]]])\n",
            "tensor([[[1.0000, 0.6065, 0.0015],\n",
            "         [0.6065, 1.0000, 0.0025],\n",
            "         [0.0015, 0.0025, 1.0000]]])\n"
          ]
        }
      ]
    },
    {
      "cell_type": "markdown",
      "source": [
        "## Operation Tools"
      ],
      "metadata": {
        "id": "3vQREwYvNBKu"
      }
    },
    {
      "cell_type": "code",
      "source": [
        "class Logger():\n",
        "\n",
        "    def __init__(self,\n",
        "                 dataset_name:str,\n",
        "                 device:str,\n",
        "                 max_iterations:int,\n",
        "                 vlm_load:int,\n",
        "                 termination_auc:float,\n",
        "                 learning_rate:float,\n",
        "                 batch_size:int,\n",
        "                 tot_epochs:int,\n",
        "                 symbol_size:int,\n",
        "                 cnn_hidden_dims:tuple[int, ...],\n",
        "                 embed_dim:int,\n",
        "                 drop_prob:float,\n",
        "                 observation_delay:int,\n",
        "                 observation_patience:int,\n",
        "                 ) -> None:\n",
        "        self.dataset_name = dataset_name\n",
        "        self.device = device\n",
        "        self.max_iterations = max_iterations\n",
        "        self.vlm_load = vlm_load\n",
        "        self.termination_auc = termination_auc\n",
        "        self.learning_rate = learning_rate\n",
        "        self.batch_size = batch_size\n",
        "        self.tot_epochs = tot_epochs\n",
        "        self.symbol_size = symbol_size\n",
        "        self.cnn_hidden_dims = cnn_hidden_dims\n",
        "        self.embed_dim = embed_dim\n",
        "        self.drop_prob = drop_prob\n",
        "        self.observation_delay = observation_delay\n",
        "        self.observation_patience = observation_patience\n",
        "        self.name = dataset_name + ' ' + datetime.now().strftime('%Y-%m-%d %H-%M-%S')\n",
        "        self.json_path = os.path.join(DRIVE_LOGS_DIR, self.name + '.json')\n",
        "        self.csv_path = os.path.join(DRIVE_LOGS_DIR, self.name + '.csv')\n",
        "        with open(self.json_path, 'w') as json_file:\n",
        "            json.dump({\n",
        "                'dataset_name': dataset_name,\n",
        "                'device': device,\n",
        "                'max_iterations': max_iterations,\n",
        "                'vlm_load': vlm_load,\n",
        "                'termination_auc': termination_auc,\n",
        "                'learning_rate': learning_rate,\n",
        "                'batch_size': batch_size,\n",
        "                'tot_epochs': tot_epochs,\n",
        "                'symbol_size': symbol_size,\n",
        "                'cnn_hidden_dims': cnn_hidden_dims,\n",
        "                'embed_dim': embed_dim,\n",
        "                'drop_prob': drop_prob,\n",
        "                'observation_delay': observation_delay,\n",
        "                'observation_patience': observation_patience\n",
        "            }, json_file, indent=2)\n",
        "        pd.DataFrame(columns=[\n",
        "            'trial',\n",
        "            'system_role',\n",
        "            'response',\n",
        "            'extracted_fol_rule',\n",
        "            'exception_message',\n",
        "            'stop_epoch',\n",
        "            'best_epoch',\n",
        "            'train_loss',\n",
        "            'val_loss',\n",
        "            'test_loss',\n",
        "            'train_auc',\n",
        "            'val_auc',\n",
        "            'test_auc',\n",
        "            'vlm_delay',\n",
        "            'dltn_delay',\n",
        "            'dev_delay',\n",
        "            'eval_delay'\n",
        "        ], dtype=object).to_csv(self.csv_path, index=False)\n",
        "\n",
        "    def dump(self, key:str, param:Any, do_print:bool) -> None:\n",
        "        log_df = pd.read_csv(self.csv_path, dtype=object)\n",
        "        if key == 'trial':\n",
        "            index = log_df.shape[0]\n",
        "            prefix = ''\n",
        "        else:\n",
        "            index = log_df.shape[0] - 1\n",
        "            prefix = '  '\n",
        "        log_df.loc[index, key] = param\n",
        "        if do_print:\n",
        "            print(f'{prefix}{key} -> {param}')\n",
        "        log_df.to_csv(self.csv_path, index=False)\n",
        "\n",
        "\n",
        "def symbols_to_images(vlm_indices:torch.Tensor, dimension:int, symbol_size:int, symbols:torch.Tensor, labels:torch.Tensor) -> tuple[list[Image.Image], list[str]]:\n",
        "\n",
        "    n_blocks = int(dimension ** 0.5)\n",
        "    padding = int(0.2 * symbol_size)\n",
        "    margin = 20\n",
        "\n",
        "    padded_symbol_size = symbol_size + 2 * padding\n",
        "    images = torch.zeros((vlm_indices.shape[0], dimension * padded_symbol_size, dimension * padded_symbol_size), dtype=torch.uint8)\n",
        "    for n, vlm_index in enumerate(vlm_indices):\n",
        "        for i in range(dimension):\n",
        "            for j in range(dimension):\n",
        "                images[n, i * symbol_size + (2 * i + 1) * padding:(i + 1) * symbol_size + (2 * i + 1) * padding, j * symbol_size + (2 * j + 1) * padding:(j + 1) * symbol_size + (2 * j + 1) * padding] = symbols[vlm_index, i, j, :, :]\n",
        "        for l in range(n_blocks + 1):\n",
        "            images[n, min(dimension * padded_symbol_size - 1,  l * padded_symbol_size * n_blocks), :] = 255\n",
        "            images[n, :, min(dimension * padded_symbol_size - 1,  l * padded_symbol_size * n_blocks)] = 255\n",
        "\n",
        "    pil_image_list = list[Image.Image]()\n",
        "    base64_image_list = list[str]()\n",
        "    for n, vlm_index in enumerate(vlm_indices):\n",
        "        raw_pil_image = Image.fromarray(images[n].numpy(), mode='L')\n",
        "        pil_image = Image.new('L', (raw_pil_image.width, raw_pil_image.height + margin), 0)\n",
        "        pil_image.paste(raw_pil_image, (0, 0))\n",
        "        text = f'Label: {train_labels[vlm_index].item()}'\n",
        "        draw = ImageDraw.Draw(pil_image)\n",
        "        font = ImageFont.load_default(12)\n",
        "        bbox = draw.textbbox((0, 0), text, font=font)\n",
        "        text_width = bbox[2] - bbox[0]\n",
        "        text_height = bbox[3] - bbox[1]\n",
        "        text_x = (pil_image.width - text_width) // 2\n",
        "        text_y = raw_pil_image.height + (margin - text_height) // 2\n",
        "        draw.text((text_x, text_y), text, fill=255, font=font)\n",
        "        buffer = io.BytesIO()\n",
        "        pil_image.save(buffer, format='PNG')\n",
        "        buffer.seek(0)\n",
        "        pil_image_list.append(pil_image)\n",
        "        base64_image_list.append(base64.b64encode(buffer.read()).decode('utf-8'))\n",
        "\n",
        "    return pil_image_list, base64_image_list"
      ],
      "metadata": {
        "id": "Vy-MIjvyNAHY"
      },
      "execution_count": null,
      "outputs": []
    },
    {
      "cell_type": "markdown",
      "source": [
        "## Discovery Loop"
      ],
      "metadata": {
        "id": "d9COhg-qkoSx"
      }
    },
    {
      "cell_type": "code",
      "source": [
        "ltn_builder = LTNBuilder()\n",
        "client = Groq(api_key=GROQ_API_KEY)"
      ],
      "metadata": {
        "id": "a2Tfvvnl3al5"
      },
      "execution_count": null,
      "outputs": []
    },
    {
      "cell_type": "code",
      "source": [
        "## Logger\n",
        "logger = Logger(\n",
        "    dataset_name = 'fmnist_4x4_split_11',\n",
        "    device = 'cuda' if torch.cuda.is_available() else 'cpu',\n",
        "    max_iterations = 20,\n",
        "    vlm_load = 3,\n",
        "    termination_auc = 0.95,\n",
        "    learning_rate = 0.001,\n",
        "    batch_size = 64,\n",
        "    tot_epochs = 400,\n",
        "    symbol_size = 28,\n",
        "    cnn_hidden_dims = (16, 32, 64),\n",
        "    embed_dim = 128,\n",
        "    drop_prob = 0.1,\n",
        "    observation_delay = 100,\n",
        "    observation_patience = 50\n",
        ")\n",
        "\n",
        "## Dataset Handling\n",
        "dataset_path = os.path.join(DATASETS_DIR, f'{logger.dataset_name}.pt')\n",
        "data_dict:dict[str, dict[str, torch.Tensor]] = torch.load(dataset_path)\n",
        "\n",
        "train_dict = data_dict['train']\n",
        "train_symbols = train_dict['symbols']\n",
        "train_digits = train_dict['digits']\n",
        "train_labels = train_dict['labels']\n",
        "\n",
        "val_dict = data_dict['val']\n",
        "val_symbols = val_dict['symbols']\n",
        "val_digits = val_dict['digits']\n",
        "val_labels = val_dict['labels']\n",
        "\n",
        "test_dict = data_dict['test']\n",
        "test_symbols = test_dict['symbols']\n",
        "test_digits = test_dict['digits']\n",
        "test_labels = test_dict['labels']\n",
        "\n",
        "n_images, dimension, _, symbol_size, _ = train_symbols.shape\n",
        "\n",
        "## Initialization\n",
        "observation_counter = 0\n",
        "best_model_epoch = -1\n",
        "best_train_loss = float('inf')\n",
        "best_train_auc = 0.0\n",
        "best_val_loss = float('inf')\n",
        "best_val_auc = 0.0\n",
        "best_model_state = torch.nn.Module()\n",
        "history_list = list[tuple[str, str, float]]()\n",
        "\n",
        "# Loop\n",
        "for trial in range(logger.max_iterations):\n",
        "\n",
        "    ## Trial\n",
        "    logger.dump('trial', trial, True)\n",
        "\n",
        "    # VLM\n",
        "    vlm_start_time = time.time()\n",
        "    system_role = (\n",
        "        'You are a helpful assistant that can extract the First-Order Logic (FOL) rule from images.'\n",
        "        '\\nTHE GRAMMAR OF FOL:'\n",
        "        '\\n- Constants: Not allowed in the rule.'\n",
        "        '\\n- Variables: Your options are `x1`, `x2`, ..., which represent visual objects.'\n",
        "        '\\n- Functions: Not allowed in the rule.'\n",
        "        '\\n- Predicates: Your options are `P_same_row`, `P_same_col`, `P_same_block`, `P_same_loc`, and `P_same_value`.'\n",
        "        '\\n- To compare variables, only use predicates.'\n",
        "        '\\n- The symbols used for logical AND, OR, and NOT are respectively `&`, `|`, and `!`'\n",
        "        '\\n- The symbols used for implication and equivalence are respectively `implies` and `iff`.'\n",
        "        '\\n- The symbols used for universal and existential quantifiers are respectively `forall` and `exists`.'\n",
        "        '\\n- Use parentheses for preserving operation precedence.'\n",
        "        '\\nWHAT YOU MUST CONSIDER:'\n",
        "        '\\n- Use your own knowledge to analyze and deeply think about the images provided as your reference.'\n",
        "        '\\n- All the images must follow the same rule that you extract.'\n",
        "        '\\n- The rule applies to the visual objects within each image.'\n",
        "        '\\n- The visual objects may represent numbers rather than what they really are.'\n",
        "        '\\n- At the end of your chain of thought, put the extracted rule in the following template:'\n",
        "        '\\n  EXTRACTED_RULE: \"the rule you extracted\"'\n",
        "    )\n",
        "    if len(history_list) > 0:\n",
        "        system_role += '\\nHISTORY OF PREVIOUS TRIALS:'\n",
        "        for old_trial, (error_message, extracted_fol_rule, avg_test_auc) in enumerate(history_list):\n",
        "            system_role += f'\\n- Trial {old_trial+1} -> '\n",
        "            if error_message != '':\n",
        "                system_role += f'error: \"{error_message}\"'\n",
        "            else:\n",
        "                system_role += f'extracted rule: \"{extracted_fol_rule}\", average auc: {avg_test_auc}'\n",
        "        if avg_test_auc < logger.termination_auc:\n",
        "            system_role += '\\nIMPORTANT LESSON FROM HISTORY:'\n",
        "            if all(extracted_fol_rule == '' for _, extracted_fol_rule, _ in history_list):\n",
        "                system_role += '- Pay attention to the the instructions!'\n",
        "            else:\n",
        "                system_role += '- The next FOL rule must be an improved version of the above!'\n",
        "    logger.dump('system_role', system_role, False)\n",
        "\n",
        "    user_role = [{'type': 'text', 'text': 'These are the reference images:'}]\n",
        "    vlm_indices = torch.randperm(n_images)[:logger.vlm_load]\n",
        "    _, base64_image_list = symbols_to_images(vlm_indices, dimension, symbol_size, train_symbols, train_labels)\n",
        "    for base64_image in base64_image_list:\n",
        "        user_role.append({'type': 'image_url', 'image_url': {'url': f'data:image/png;base64,{base64_image}'}})\n",
        "\n",
        "    chat_completion = client.chat.completions.create(\n",
        "        messages=[\n",
        "            {'role': 'system', 'content': system_role},\n",
        "            {'role': 'user', 'content': user_role}\n",
        "        ],\n",
        "        model='meta-llama/llama-4-maverick-17b-128e-instruct',\n",
        "    )\n",
        "    response = chat_completion.choices[0].message.content\n",
        "    vlm_end_time = time.time()\n",
        "    logger.dump('response', response, False)\n",
        "\n",
        "    # D-LTN\n",
        "    dltn_start_time = time.time()\n",
        "    try:\n",
        "        extracted_fol_rule:str = re.search(r'EXTRACTED_RULE\\s*:\\s*\"([^\"]*)\"', response).group(1)\n",
        "        logger.dump('extracted_fol_rule', extracted_fol_rule, True)\n",
        "    except:\n",
        "        exception_message = 'No FOL rule could not be extracted from your response!'\n",
        "        history_list.append((exception_message, '', 0.0))\n",
        "        logger.dump('exception_message', exception_message, True)\n",
        "        continue\n",
        "\n",
        "    try:\n",
        "        ltn_formula = ltn_builder.make_formula(extracted_fol_rule)\n",
        "    except:\n",
        "        exception_message = 'No FOL rule could not be parsed from your response!'\n",
        "        history_list.append((exception_message, '', 0.0))\n",
        "        logger.dump('exception_message', exception_message, True)\n",
        "        continue\n",
        "\n",
        "    try:\n",
        "        ltn_formula.ground(\n",
        "            P_same_row=row_similarity,\n",
        "            P_same_col=col_similarity,\n",
        "            P_same_block=block_similarity,\n",
        "            P_same_loc=loc_similarity,\n",
        "            P_same_value=vector_similarity,\n",
        "            logical_and='goguen',\n",
        "            logical_or='goguen',\n",
        "            implies='reichenbach',\n",
        "            forall='power_mean',\n",
        "            exists='power_mean'\n",
        "        )\n",
        "        ltn_formula(\n",
        "            x1=torch.rand(1, 4, 4, device=logger.device),\n",
        "            x2=torch.rand(1, 4, 4, device=logger.device)\n",
        "        )\n",
        "    except:\n",
        "        exception_message = 'There were problems with your groundings!'\n",
        "        history_list.append((exception_message, '', 0.0))\n",
        "        logger.dump('exception_message', exception_message, True)\n",
        "        continue\n",
        "    dltn_end_time = time.time()\n",
        "\n",
        "    ## Visual Encoder\n",
        "    visual_encoder = VisualEncoder(\n",
        "        device = logger.device,\n",
        "        symbol_size = logger.symbol_size,\n",
        "        cnn_hidden_dims = logger.cnn_hidden_dims,\n",
        "        embed_dim = logger.embed_dim,\n",
        "        drop_prob = logger.drop_prob\n",
        "    )\n",
        "    optimizer = torch.optim.Adam(visual_encoder.parameters(), lr=logger.learning_rate)\n",
        "\n",
        "    ## Development\n",
        "    dev_start_time = time.time()\n",
        "    for epoch in range(logger.tot_epochs):\n",
        "\n",
        "        if epoch < 20:\n",
        "            power_mean_p = 1\n",
        "        elif epoch < 120:\n",
        "            power_mean_p = 2\n",
        "        elif epoch < 140:\n",
        "            power_mean_p = 4\n",
        "        elif epoch < 170:\n",
        "            power_mean_p = 6\n",
        "        elif epoch < 200:\n",
        "            power_mean_p = 8\n",
        "        else:\n",
        "            power_mean_p = 10\n",
        "        ltn_formula.control(\n",
        "            forall = {'p': power_mean_p}\n",
        "        )\n",
        "\n",
        "        visual_encoder.train()\n",
        "        train_loss_list = list[float]()\n",
        "        train_auc_list = list[float]()\n",
        "        for step in range(train_symbols.shape[0] // logger.batch_size):\n",
        "            x_train = visual_encoder(train_symbols[step * logger.batch_size:(step + 1) * logger.batch_size])\n",
        "            predictions = ltn_formula(\n",
        "                x1=x_train,\n",
        "                x2=x_train\n",
        "            )\n",
        "            targets = train_labels[step * logger.batch_size:(step + 1) * logger.batch_size].to(logger.device).to(torch.float32)\n",
        "            loss = torch.nn.functional.binary_cross_entropy(predictions, targets)\n",
        "            optimizer.zero_grad()\n",
        "            loss.backward()\n",
        "            optimizer.step()\n",
        "            try:\n",
        "                auc = roc_auc_score(targets.detach().cpu().numpy(), predictions.detach().cpu().numpy())\n",
        "            except ValueError:\n",
        "                auc = 0.5\n",
        "            train_loss_list.append(loss.item())\n",
        "            train_auc_list.append(auc)\n",
        "        avg_train_loss = sum(train_loss_list) / len(train_loss_list)\n",
        "        avg_train_auc = sum(train_auc_list) / len(train_auc_list)\n",
        "\n",
        "        visual_encoder.eval()\n",
        "        with torch.no_grad():\n",
        "            x_val = visual_encoder(val_symbols)\n",
        "            predictions = ltn_formula(\n",
        "                x1=x_val,\n",
        "                x2=x_val\n",
        "            )\n",
        "            targets = val_labels.to(logger.device).to(torch.float32)\n",
        "            loss = torch.nn.functional.binary_cross_entropy(predictions, targets)\n",
        "            try:\n",
        "                auc = roc_auc_score(targets.detach().cpu().numpy(), predictions.detach().cpu().numpy())\n",
        "            except ValueError:\n",
        "                auc = 0.5\n",
        "            avg_val_loss = loss.item()\n",
        "            avg_val_auc = auc\n",
        "\n",
        "        if epoch >= logger.observation_delay:\n",
        "            if avg_val_loss < best_val_loss:\n",
        "                best_model_epoch = epoch\n",
        "                best_train_loss = avg_train_loss\n",
        "                best_train_auc = avg_train_auc\n",
        "                best_val_loss = avg_val_loss\n",
        "                best_val_auc = avg_val_auc\n",
        "                best_model_state = visual_encoder.state_dict()\n",
        "                observation_counter = 0\n",
        "            else:\n",
        "                observation_counter += 1\n",
        "            if observation_counter >= logger.observation_patience:\n",
        "                break\n",
        "    dev_end_time = time.time()\n",
        "    logger.dump('stop_epoch', epoch, True)\n",
        "    logger.dump('best_epoch', best_model_epoch, True)\n",
        "    logger.dump('train_loss', avg_train_loss, True)\n",
        "    logger.dump('val_loss', avg_val_loss, True)\n",
        "    logger.dump('train_auc', avg_train_auc, True)\n",
        "    logger.dump('val_auc', avg_val_auc, True)\n",
        "\n",
        "    ## Evaluation\n",
        "    visual_encoder.load_state_dict(best_model_state)\n",
        "    visual_encoder.eval()\n",
        "    with torch.no_grad():\n",
        "        x_test = visual_encoder(test_symbols)\n",
        "        predictions = ltn_formula(\n",
        "            x1=x_test,\n",
        "            x2=x_test\n",
        "        )\n",
        "        targets = test_labels.to(logger.device).to(torch.float32)\n",
        "        loss = torch.nn.functional.binary_cross_entropy(predictions, targets)\n",
        "        try:\n",
        "            auc = roc_auc_score(targets.detach().cpu().numpy(), predictions.detach().cpu().numpy())\n",
        "        except ValueError:\n",
        "            auc = 0.5\n",
        "        avg_test_loss = loss.item()\n",
        "        avg_test_auc = auc\n",
        "    eval_end_time = time.time()\n",
        "    logger.dump('test_loss', avg_test_loss, True)\n",
        "    logger.dump('test_auc', avg_test_auc, True)\n",
        "\n",
        "    ## Delays\n",
        "    vlm_delay = vlm_end_time - vlm_start_time\n",
        "    dltn_delay = dltn_end_time - dltn_start_time\n",
        "    dev_delay = dev_end_time - dev_start_time\n",
        "    eval_delay = eval_end_time - dev_end_time\n",
        "    logger.dump('vlm_delay', vlm_delay, True)\n",
        "    logger.dump('dltn_delay', dltn_delay, True)\n",
        "    logger.dump('dev_delay', dev_delay, True)\n",
        "    logger.dump('eval_delay', eval_delay, True)\n",
        "\n",
        "    ## Loop Completion\n",
        "    history_list.append(('', extracted_fol_rule, avg_test_auc))\n",
        "    if avg_test_auc >= logger.termination_auc:\n",
        "        break"
      ],
      "metadata": {
        "id": "uYzeJOvfoiOf"
      },
      "execution_count": null,
      "outputs": []
    },
    {
      "cell_type": "markdown",
      "source": [
        "## Rule Test"
      ],
      "metadata": {
        "id": "cEooKbC22xng"
      }
    },
    {
      "cell_type": "code",
      "source": [
        "# ltn_formula = LTNBuilder().make_formula('forall x1, x2 !P_same_loc(x1, x2) & (P_same_row(x1, x2) | P_same_col(x1, x2) | P_same_block(x1, x2)) implies !P_same_value(x1, x2)') #mnist\n",
        "ltn_formula = LTNBuilder().make_formula('forall x1 forall x2 (P_same_row(x1, x2) | P_same_col(x1, x2) | P_same_block(x1, x2)) & !P_same_loc(x1, x2) implies !P_same_value(x1, x2)') #emnist\n",
        "# ltn_formula = LTNBuilder().make_formula('forall x1, x2 (!P_same_loc(x1, x2) & P_same_value(x1, x2)) implies (!P_same_row(x1, x2) & !P_same_col(x1, x2) & !P_same_block(x1, x2))') #kmnist\n",
        "print(ltn_formula.get('parsed'))\n",
        "\n",
        "dataset_name = 'emnist_4x4_split_11'\n",
        "device = 'cuda' if torch.cuda.is_available() else 'cpu'\n",
        "termination_auc = 0.95\n",
        "learning_rate = 0.001\n",
        "batch_size = 64\n",
        "tot_epochs = 400\n",
        "symbol_size = 28\n",
        "cnn_hidden_dims = (16, 32, 64)\n",
        "embed_dim = 128\n",
        "drop_prob = 0.1\n",
        "observation_delay = 100\n",
        "observation_patience = 50\n",
        "\n",
        "dataset_path = os.path.join(DATASETS_DIR, f'{dataset_name}.pt')\n",
        "data_dict:dict[str, dict[str, torch.Tensor]] = torch.load(dataset_path)\n",
        "\n",
        "train_dict = data_dict['train']\n",
        "train_symbols = train_dict['symbols']\n",
        "train_digits = train_dict['digits']\n",
        "train_labels = train_dict['labels']\n",
        "\n",
        "val_dict = data_dict['val']\n",
        "val_symbols = val_dict['symbols']\n",
        "val_digits = val_dict['digits']\n",
        "val_labels = val_dict['labels']\n",
        "\n",
        "test_dict = data_dict['test']\n",
        "test_symbols = test_dict['symbols']\n",
        "test_digits = test_dict['digits']\n",
        "test_labels = test_dict['labels']\n",
        "\n",
        "ltn_formula.ground(\n",
        "    P_same_row=row_similarity,\n",
        "    P_same_col=col_similarity,\n",
        "    P_same_block=block_similarity,\n",
        "    P_same_loc=loc_similarity,\n",
        "    P_same_value=vector_similarity,\n",
        "    logical_and='goguen',\n",
        "    logical_or='goguen',\n",
        "    implies='reichenbach',\n",
        "    forall='power_mean',\n",
        "    exists='power_mean'\n",
        ")\n",
        "print(ltn_formula.get('info'))\n",
        "\n",
        "visual_encoder = VisualEncoder(\n",
        "    device = device,\n",
        "    symbol_size = symbol_size,\n",
        "    cnn_hidden_dims = cnn_hidden_dims,\n",
        "    embed_dim = embed_dim,\n",
        "    drop_prob = drop_prob\n",
        ")\n",
        "optimizer = torch.optim.Adam(visual_encoder.parameters(), lr=learning_rate)\n",
        "\n",
        "observation_counter = 0\n",
        "best_model_epoch = -1\n",
        "best_train_loss = float('inf')\n",
        "best_train_auc = 0.0\n",
        "best_val_loss = float('inf')\n",
        "best_val_auc = 0.0\n",
        "best_model_state = torch.nn.Module()\n",
        "history_list = list[tuple[str, str, float]]()\n",
        "\n",
        "for epoch in range(tot_epochs):\n",
        "    pbar = tqdm(total=train_symbols.shape[0] // batch_size, desc=f'Epoch {epoch}/{tot_epochs}')\n",
        "\n",
        "    if epoch < 20:\n",
        "        power_mean_p = 1\n",
        "    elif epoch < 120:\n",
        "        power_mean_p = 2\n",
        "    elif epoch < 140:\n",
        "        power_mean_p = 4\n",
        "    elif epoch < 170:\n",
        "        power_mean_p = 6\n",
        "    elif epoch < 200:\n",
        "        power_mean_p = 8\n",
        "    else:\n",
        "        power_mean_p = 10\n",
        "    ltn_formula.control(\n",
        "        forall = {'p': power_mean_p}\n",
        "    )\n",
        "\n",
        "    visual_encoder.train()\n",
        "    train_loss_list = list[float]()\n",
        "    train_auc_list = list[float]()\n",
        "    for step in range(pbar.total):\n",
        "        x_train = visual_encoder(train_symbols[step * batch_size:(step + 1) * batch_size])\n",
        "        predictions = ltn_formula(\n",
        "            x1=x_train,\n",
        "            x2=x_train\n",
        "        )\n",
        "        targets = train_labels[step * batch_size:(step + 1) * batch_size].to(device).to(torch.float32)\n",
        "        loss = torch.nn.functional.binary_cross_entropy(predictions, targets)\n",
        "        optimizer.zero_grad()\n",
        "        loss.backward()\n",
        "        optimizer.step()\n",
        "        try:\n",
        "            auc = roc_auc_score(targets.detach().cpu().numpy(), predictions.detach().cpu().numpy())\n",
        "        except ValueError:\n",
        "            auc = 0.5\n",
        "        train_loss_list.append(loss.item())\n",
        "        train_auc_list.append(auc)\n",
        "        avg_train_loss = sum(train_loss_list) / len(train_loss_list)\n",
        "        avg_train_auc = sum(train_auc_list) / len(train_auc_list)\n",
        "        pbar.set_postfix_str(f'Train (Loss: {avg_train_loss:.4f}, AUC: {avg_train_auc:.4f})')\n",
        "        pbar.update()\n",
        "\n",
        "    visual_encoder.eval()\n",
        "    with torch.no_grad():\n",
        "        x_val = visual_encoder(val_symbols)\n",
        "        predictions = ltn_formula(\n",
        "            x1=x_val,\n",
        "            x2=x_val\n",
        "        )\n",
        "        targets = val_labels.to(device).to(torch.float32)\n",
        "        loss = torch.nn.functional.binary_cross_entropy(predictions, targets)\n",
        "        accuracy = ((predictions >= 0.5).to(device).to(torch.float32) == targets).to(torch.float32).mean()\n",
        "        try:\n",
        "            auc = roc_auc_score(targets.detach().cpu().numpy(), predictions.detach().cpu().numpy())\n",
        "        except ValueError:\n",
        "            auc = 0.5\n",
        "        avg_val_loss = loss.item()\n",
        "        avg_val_auc = auc\n",
        "        pbar.set_postfix_str(f'Train (Loss: {avg_train_loss:.4f}, AUC: {avg_train_auc:.4f}), Val (Loss: {avg_val_loss:.4f}, AUC: {avg_val_auc:.4f})')\n",
        "    pbar.close()\n",
        "\n",
        "    if epoch >= observation_delay:\n",
        "        if avg_val_loss < best_val_loss:\n",
        "            best_model_epoch = epoch\n",
        "            best_train_loss = avg_train_loss\n",
        "            best_train_auc = avg_train_auc\n",
        "            best_val_loss = avg_val_loss\n",
        "            best_val_auc = avg_val_auc\n",
        "            best_model_state = visual_encoder.state_dict()\n",
        "            observation_counter = 0\n",
        "        else:\n",
        "            observation_counter += 1\n",
        "        if observation_counter >= observation_patience:\n",
        "            break\n",
        "\n",
        "visual_encoder.load_state_dict(best_model_state)\n",
        "visual_encoder.eval()\n",
        "with torch.no_grad():\n",
        "    x_test = visual_encoder(test_symbols)\n",
        "    predictions = ltn_formula(\n",
        "        x1=x_test,\n",
        "        x2=x_test\n",
        "    )\n",
        "    targets = test_labels.to(device).to(torch.float32)\n",
        "    loss = torch.nn.functional.binary_cross_entropy(predictions, targets)\n",
        "    try:\n",
        "        auc = roc_auc_score(targets.detach().cpu().numpy(), predictions.detach().cpu().numpy())\n",
        "    except ValueError:\n",
        "        auc = 0.5\n",
        "\n",
        "print('stop_epoch', epoch)\n",
        "print('best_epoch', best_model_epoch)\n",
        "print('train_loss', avg_train_loss)\n",
        "print('val_loss', avg_val_loss)\n",
        "print('train_auc', avg_train_auc)\n",
        "print('val_auc', avg_val_auc)\n",
        "print('test_loss', loss.item())\n",
        "print('test_auc', auc)"
      ],
      "metadata": {
        "colab": {
          "base_uri": "https://localhost:8080/",
          "height": 1000,
          "referenced_widgets": [
            "6d354d5e207b418fb638f4850b88cabe",
            "71e8fcc0928c4c99b151acfd90022656",
            "d331d3ee94af467baff9705b4ca44b03",
            "fe400d5ee9c4411dbcaf451f80fd3a89",
            "2b6b807c7b284755830b735397245ba2",
            "93f10b1356a346e6965b94e7dc891ba5",
            "262c71edd9764f42a7123b9838baa2ba",
            "4707a535cfbd442da35e4c2131ee7c12",
            "4196aa952a9d4a8bb880fda6e3655fa4",
            "a838aebfe43a4c389e74caf28ec6c4d4",
            "50796929666a4d6eb7b93dc28d39ede4",
            "616dc3504c5f43d89bf91b018e7ec80e",
            "4fc10892f7b84b338047573b3f90877b",
            "2f9ad679c2ab45fb94931779b95382da",
            "9af7632b7345408a919dc4c1ee310933",
            "0d59dfe2d86c4c7b87e720b4e72f75b5",
            "ba1cdd0501904df5a47a06351100b41c",
            "32955585adff4755a8534c0f34ee3281",
            "9f70b8957e554176b7dab7c7998008f0",
            "81699ff079ff4a8f80dfd99f2f59443e",
            "32a7f62bb05f41139cb7a25db0ae2e6c",
            "b3e43a3b0ebc46599a99ef3e4d63516c",
            "e85899bae370445489803dbe1fdd355e",
            "65a14ff2a25043b7ac74adb849de0027",
            "9bf21e9dc7714b1b86d48e5ef75cc666",
            "8fe71d58b9bb4b17a7672ceb79e9e005",
            "ffac93ba8de748208314265ab8a03360",
            "895e6d8b7b9648e484e8c880092fded8",
            "230e018d264540169bc95f4637d3e0c7",
            "09055fdb3fa541dabff127d36a4bd597",
            "0b519e66dca843218bf8588b138532cd",
            "3839896503e24c698dedd9ef092b23be",
            "e480035725174cd5a2997b5f049188a0",
            "d758c788e3424aa596220c96275e51ca",
            "468ab11b29854e6f8edde01bef9460fb",
            "0dfc90d52e184ba7ba5e95e334858763",
            "c5ff3808cf664b558f193210f538c72f",
            "0786a055148d48d68767bae31c878400",
            "9154c0c17fcc4209a14c24cb8075608d",
            "6b262d95fd3f49d1b8bc21d513b7f640",
            "f68ef848907040ecae796481665f2d72",
            "411272e524354008b3f5f9584b2c04a9",
            "9de844e49a3c4724a5aed53d04cd6824",
            "22ec76c510a44d59aed4aaf5dd6c9183",
            "1254c00d656541fe9b96e9ab99e92213",
            "59b7cb4004954f4796841ce17ccfc469",
            "404a0643423340fc8f62b4ed6c20296a",
            "7d865cbb6843473cb9c2811eca31f441",
            "187dff96a2d54b999a269d3734e2a0e3",
            "e6fd87acab5543b1b6f3302a24c5867c",
            "a555387ebd434049869fbc5b2596a1b2",
            "21e67e07b96a4108b19a9033fc4f5ba6",
            "42cf41b7d0d84f6f8da5fffcc8c10cdf",
            "aec0c1dbafed442786ccd96ac0639fea",
            "0b6c38aa25ff4ce69a19f0201af0cf7c",
            "830331a4575d449c8a670100a7a440f8",
            "e8f95cee2d3847ec80b86c063898d8ba",
            "f23df65b1c834f5f886c5f937f3ddc46",
            "dd4843af02c24a96a211a58ed0678c19",
            "f3ad2a5e43a84a53b4dc45b9cda1829b",
            "40fcac7643cf4c1487cbba25fd8cc29c",
            "89565a6a2eb749518f52be5c43158353",
            "89e4041618934f19b647ffcf225800b2",
            "0690745bdc89459aba12806ce5f678c6",
            "701fee058d7546bc9477e13757002fbb",
            "e1c53316aae5474f9796976915654264",
            "6adc5a67f275468791f31422ccc8af3b",
            "edb01f9310884610a7ee857acbc0b014",
            "326b94ee23df46a1afd8a42bc93c4cd8",
            "3db667967d7443e1bb6a69dd798062ff",
            "8acd2e97e142425c8f548f813434b80c",
            "748d756a993443b9867fc06a2ac26f97",
            "0e5417b8d21b46d4844fb6df28944fda",
            "8252e162a43247848c8be72a2b287d00",
            "5d946f34f9044246a65e1ca41ebd1f0a",
            "3c6c33a9f87b4983a6b220190d415802",
            "3454ccbbcc7b43b282ed7365f01416d6",
            "a2a44f96ccdc4276af51c1091aff30a3",
            "b4c0a90b8dfd45dc99a3f3ec3b7dd67d",
            "52730b4f01b4451088afd3eb44d80798",
            "d59f0d678b574d07b9b55aa03893e1ff",
            "6124fb9b63d54bbcb77dfe997706f41e",
            "08d882f5c67a496ab9eb2184ce46d334",
            "6c8ab92f45bc4c6eaabdc9589b8c08e3",
            "2bfd05974f314bbd80d2f1838f67b47f",
            "a97d22d2d03a4d0c98acdecdb38697a8",
            "151628e09bd0464587e16cd9017cee8d",
            "f89a3921708e49d2af5d52b67e71ab43",
            "889735d583f34ee9b4fca5779d46dc08",
            "09e03a9fb2574a61a6830e28e336e36c",
            "bf9d795b548943128347123f58671bd4",
            "336bda299e644a218ee3ef97f4665074",
            "3195e3b581f34f289babf8f5c67a3378",
            "03d7fb035ac04a9298db026f05147104",
            "ee8bf27d5f5243eaa1f24b8e5288a076",
            "a9ac8372b355462f83bdf605704d6899",
            "851147604be842ce9f7613bd2816d516",
            "8edef3a4bbe649d382a972e966faa5c4",
            "0fdad961e8a8427fb36bd83ac485e294",
            "a84516092ef94981892953f6f8320e55",
            "8d9a9092c9eb4788bddff511a195ea0d",
            "0a393c1335604310b06f08a425e2e0cb",
            "828d7babeffd4ee78be6e0e6b798d061",
            "0df38d457d2a496b9bea37732bf84394",
            "a1bbfeb9f020446aa1ad8318dc1f8ecf",
            "5f4bd147ab5c4835ba77cce131abc6a6",
            "8a5b6d6bf41d4bc9975354a258207346",
            "2d6de4e6862840dd8b72752c09c5d126",
            "1119a7ef6e9a4eba81c96e7e86fd2b91",
            "bb5186b8a0474d03ba5534a0850d83ab",
            "0fa73e101b4947b898f3bf1f35bef1f2",
            "24753e589a194ae8acff14e5fe613b9d",
            "daec671b9ead4d52ac41e6ad595c5653",
            "45673371644a4b50b47afd8f37b6ff88",
            "2d7210266fa74863822f7e3154008f54",
            "f0ecd06f9e3a4fccbce10032276ac2da",
            "3f6971e0b19b4befbfc0b4df6371f996",
            "2941fb700c2b41b7834235a68ee8f078",
            "1f3ddb18efe34845b8924aaa6ca4d4e3",
            "f0502c2d0fc34d24b6b943d5c2d1758d",
            "f4bc4560be7c4bcebe58f936f9538268",
            "cd000476f4004f42b95a75c8fdfa059a",
            "41adee56ac074a80af312999760d22ff",
            "e69b5cc597ad4fbdad7514aad12d24bb",
            "e9c710e265a047bb8be38c3763853449",
            "46594e527a7542fb8fe00667dab16406",
            "b9eb804fd3904cb5b5f7d0adad923bc2",
            "8149df163edd4d5eb7f106e1ad154346",
            "d192a28a38084865b5696bf1f3ac9f53",
            "d04b6b4ac7b14a09bcc08f7cf6c6d406",
            "ebc96ae69f8f41688f6739d418e9d2cb",
            "70339ed9dfba401ebd8cf09fc84af8a7",
            "f2b6a1560e7947029c931919ea020f9d",
            "64ab9f5a67264541bc00c680624ea2ea",
            "8d45d891e435475383634f2d10086ff6",
            "73ce31b2a73841aab24e48369714b12c",
            "bc4ce93190624a47b8cb9ccdaadb6a10",
            "ea6b497975e94865ad1077e496e08952",
            "ff504a049bce4a4faad4e29772288ec9",
            "c66962ffc9b64cf8913b8aac3ee53d19",
            "8580218ddd7740e1b6ca83c72527f8fc",
            "532f7ed0f3234800a84167379103dfd1",
            "969570cee5e14a9d84f2f4dee4c3a1e9",
            "89696fa760e14e6985ad5e9dbf383dcf",
            "735f37579a0347beac8ca64ba2535c95",
            "9741f8f7105c45d788c11ff2b7297332",
            "5092af071d994def938079acdcf09d5d",
            "9018a08f5bef4e0cb5efa3145d00e588",
            "13cfcdcc6576472f9120572a5575c55c",
            "14c783cc56fe403e93a1d402f31177b4",
            "281a0c74bc144fadbb92525ab9e656a0",
            "e7df4c3dd1144d6a8800a17a5a0b08f5",
            "16945e2c30eb4a1aa488f8b72f0a92f1",
            "c9b430d2a55c4df8840b38b6bea8182f",
            "23f9a3b15d05456db3c359bcfec441f6",
            "dab5aec526954067885773d82aa8a623",
            "15a90b7d67de4e9eb676a9736a55d7f4",
            "20310cb561ce489b914b6fcf929281c6",
            "d06c91c6c62e4c54b254edd87e30ccbb",
            "39c4705d9c83479eacf6872e01d30e6b",
            "3b6b0179327049b79f03fc34eb1c8a28",
            "d1a47c81948344b58bb8520571dbc993",
            "c1e74e92a5d04f34bf019324a1d8051a",
            "c29bcf332b5c410f9376feaf39764bf4",
            "351771f883134e8c86819f321091de3b",
            "a50aea5015034ac49e9124ec41892b4e",
            "63d49302818c4276a297e3b6dd121418",
            "b1d884d9e0c3490c811e71ea1539adb8",
            "857a3e6554e842b1988469a2706c2456",
            "52ac3266f01147f5b6503bb79d04023b",
            "2244e9fda1d74e3c811405089f29baa0",
            "740f417e83224c5fac10caceb7e50cba",
            "1906c7850df744d39bec618ba265875a",
            "0eeb758086b041db91bf38e67cbcb81d",
            "0427fc22bf174b33aca2d5cc7d5c43fb",
            "459c83cc3ff54538affce7a6e838929a",
            "a18537a05f8c476583a3b05e9eea3129",
            "09eb6d634eba4baf9860815da59e4ffa",
            "dcb9d0b8b763449ba251ca2c522352e9",
            "0e105cdfd76143a0a7fac8d3aa88225b",
            "e64f98e1fb5545aba85e9f8cbe391923",
            "236d1d0e9e764c7fbb74037597ba358b",
            "87f4f34c4f3b4dfa9d34b2bd4593aab7",
            "83feea78674a44a6bc1525e93728718e",
            "77dbaa5b1af24b5397ea4965e59e1c91",
            "39ca8c90bffd4487a82049d3177ef346",
            "bc431ca690224ddcb83ab866d374c133",
            "7406f72f7fbd4d7e933228e8a4cd0cb0",
            "1248f619a3c44879b42d9e5925bdc65c",
            "15cf895b73ee4914bc6ae11ddadeb5c1",
            "222a9c0cdfa749359de8a1b34c81320d",
            "84180ea2fd3542eda4fcf1372fe6a63d",
            "b35405677e0040858f3cf797cd1c4fb6",
            "f45ec50889964993ac935bbca3445ca9",
            "ebc4aed6f67d448da9278d1625d58282",
            "23bfb95b703748e2af39e2c8e3298f0f",
            "0687c4664b0f4a2392940c383f83dc82",
            "6119cf422f9a42b38a542963b2bcecf5",
            "df1ad970b562456ebda4a2158038a4ae",
            "54caa610b48e40babceeee5e76ebb925",
            "1be785cf1bfb4088b629f53d57037094",
            "508861c4b8504ac7879e8c408528db5d",
            "65457d53c72e469f9a97df3b315e1eb9",
            "71d9c4b506fc4570bc82edaae73d4516",
            "0b0c77192f16405abb62372fbcb2f7a4",
            "85f3d467b7044f68a7b53098094926e1",
            "3bdd960214984ef09bc8bc9825dcc788",
            "ceb5838879884ff586af0938eedb15bf",
            "f8eccaa2e60d4810a9c9275db6e34f76",
            "2b0798f4e83248bc9bd8b672c6f5c5dd",
            "eaf1f9f78e764c749e58a00836e7d0dd",
            "a84e26e3eb4347beab3ac8521af7ad01",
            "4172283a369647669e74950d98f4fea9",
            "d60c4e20b81e415e9697b208a116e0d8",
            "ebdcba7b46f34dd6bbf29537e34e9bf2",
            "197f4888e2f74ee497b85bf31a30e562",
            "c3a0111f5ece4c7ab0bb7d513ade939f",
            "2d6e5d6db4f7457285a3b72779cbf126",
            "adb772d645bc4ae9a9b7d96cb4aaec45",
            "30761a41eb8a49e3acb93e073858adfc",
            "46366a89bd5745feaeb4c8c3210478ea",
            "7920e03d85ab4e15a58f32af54e65660",
            "efa3be4a4beb427db874f9f4f42e90d5",
            "878dc70a33d04e9c9ba0ce0cc364403e",
            "d70787e12652483387e0b333ebdb83f0",
            "436715e1d5434c4db146add6ca1adc46",
            "5552adc935004b6fbfa12c83a0cc2a13",
            "18f341b402bf4c6b818e8f10ac827638",
            "174f9418155545258bcd1f499f6bb9c0",
            "de3c67947740442cb32f2e97cdd3a776",
            "175f5f14c254483cbec95c74e94b7f62",
            "fff1439f5a9746be9e19869cc2a5c38f",
            "47e88e1eca1547bbb9a4e8f51cfce723",
            "65adf655898347d4848037a141e5df45",
            "1eb7b0d06097475da990a8fb512d122e",
            "3fe5d5d7f57d4e4897c2f9ea6e1736a2",
            "784a5bae3b584d8d82a0c6e3bf014b24",
            "1b5e6e5df54c4093b855cc0c0826d0a3",
            "efd60252ae644936a89d117b8b2d2f2d",
            "f492839385764d3ebd5c97695821c64d",
            "114a71bb25dc4dc99f49740bc9676858",
            "28c343b0fec64400ab80e05b8612ef75",
            "9ba852b21cb1447fb2ab9cefe04f2f6a",
            "0514f14c3ee94851a1918c2f7413bfde",
            "ccd2cce6743d409ebff5ace4c59a196f",
            "351ce993cef242b3bd622668d0aff63e",
            "40676eee2f8e4a738a23e90f7eb8d82e",
            "792a960ca1a04d2db0fc8a015a3e47b1",
            "f4e812719de3452b81b3618e863975b4",
            "e83aa464811a41e8b494d3b7881cb6a3",
            "cbf0f605fe4f448fbfb962180333ae83",
            "65bbb610f404476988961db390bd6ac8",
            "f6ba6446ee13493880cded740d41da9c",
            "178aa4a5b7ec47328b4760d5e3e0ac8d",
            "3dae139a5f69487cad12be6169fa089c",
            "cef2b95dad8743958134193af80543f3",
            "c48fd4f4826849ddb57933bdd4a2df23",
            "ed483e8fa6904541b192da4b82947349",
            "d8cf2101a6b44421a3dc10a5353442e1",
            "518acf8e65c641a7a0c7267adda36d77",
            "ef595a8aaf404a7b98e1ffd6116d6e01",
            "2c2f371e18ce41ea9fcb464f6f8e3119",
            "826109b29118419da92f11328f6d1dd1",
            "e1b6782561a04327aab33a3b5823e8d4",
            "e5ed15b3a0774ddfb6601ca51a16bddc",
            "118d801a76df45f19dcde6817319f69a",
            "a49d7fcdae904f15b8463b4fbc19f281",
            "5a8e7d26bdbd4c83a4bdf885c6f675d6",
            "aac0c4eb9cca422aabf68e4d23443770",
            "2e312eeba918462fb4fe8cb06641d729",
            "7067f1c9cd4e4fa7ab749ffbefa93dae",
            "4e487fa929224293b9c5bcf7878c7925",
            "6791a94950c2451f81c85d402c67b7df",
            "2069ce2090b2457d883c50d8f66e8e54",
            "622c20e67e89475c98b77dbc694660c6",
            "52f02366ef9c4504ba215378031a4fe3",
            "cbda60db6d9c4ef6a57efff19852ee49",
            "66ee09df0a454848a0b313a23a42687a",
            "6342a5e14b2c413ea354b0259d1ae5ca",
            "534932b100c04646abc79d72c2ad232b",
            "f362bdbe4c3a4300b873978414b1bdc1",
            "3b3d8b89f84e4a10bb1981ba81d02b91",
            "1f3accb4e37b48119e81d225bee5ddf8",
            "3399efe998684862ae1c30636ab80f85",
            "85ac173396af417db5485a01661f294d",
            "3ffe68af50414f42b5e93d16c33e5f9e",
            "3ebe5e2fa88243a0803f95d3e8a21e07",
            "fb1f322bc21c4a68a535bb169ba7f359",
            "2d0f7cd63e5e4e119143b4c0f89202cd",
            "2c7058508fe04b459ae680a4765d8a2e",
            "cfa6d1b2a94b489fbeb1a591f28834c4",
            "e9bd594a8a094b2fbd5db44f6efb8e42",
            "8c77fe8502ca41648b4ad758fab15d40",
            "90531fe4ea4b49dcb143de42e547fc90",
            "a6c2461398c04827972e81b7fae00a8a",
            "b96a41df30be4f57acf059fd83641f33",
            "efa346305bd744569dacec3bb4463d83",
            "d70ea70b6e584cdbbd786ce09ec07609",
            "b693fbbd6f5447e5882ee456262bebec",
            "83426cecfa694c0b95409bcf11be6b68",
            "921c2eb845174520b727d566bf57e9a3",
            "2f84457049984706b3807e4db6f8edeb",
            "c24f8fe64b654bdfbdbe184a197ad85d",
            "1f46bfdc130d4c108c3336cbd4830e07",
            "8d0d56f003b441f7973ae70581d109e8",
            "ceb1a3c9e6bc4563b1147620f4cd8507",
            "216c5bb502bb4c5bb6425c54a2272128",
            "4af3761b22684f099ad148654cd47cf2",
            "c306c1dc894c4d30924f6f9d505a1784",
            "77b9b0f777434f37996c8aa2bbdd5ae7",
            "c750f64644e34c5f807e687f14d3c959",
            "68b3b6031a5d4008b961b71d3dbc558f",
            "e5a8ce5aecb44086ae3c882cc39bd7d4",
            "361baf932cd34514b5ac8c8fc0937ab4",
            "db5511b3abd043c6ba92abcef5ab16d9",
            "865c230dde64419ca6f7772396ca7eef",
            "049420fb934c40d4b0c7e902490e4c5d",
            "6d7742a899624b6bbd35698e171d78ba",
            "15c6d849623041abbc541b44e45d611a",
            "250dbd93aa174f47bf9fbab9b4e68fec",
            "25c0c131896b4246b27a87507b936bf0",
            "9bd5d2a68a384f78b78e5190c5cc9e92",
            "0a4e7cfef3594bc8b64f4c89b6f7693f",
            "d7b04b44d17549aa846bb0111eba4a36",
            "4a38bd92a66d4a96833695b6a514f8db",
            "9302ac12bb4c49eeb13a1b35b57c9588",
            "4ac5183e55694940844f880e11e3f815",
            "302bc3e38dc14293bd08c040671f778a",
            "30cdf56186a14339a2277dfffaec573b",
            "dd6e6a2858614135912f371d1a8962a2",
            "fa3a268796444250b33323b1629ef1fc",
            "d96d37ec9d784a11a02eb8c91942b68d",
            "294c1e8a0e1f4445a0ab9bab0ba2a244",
            "366eb8bd0bbb48e5bb962bda3eff5f16",
            "b94f3e6c95154f839af98749f5cfa805",
            "ca8b9f7e26294d849230cfcd61724a14",
            "40cbe91ff38f46d2963c07eaf3033697",
            "69c50fd9c77a41d6a4d2b00de3703ad5",
            "b75aab67fcab4909870f2021a1d74f43",
            "694d8456719149c5afcfa03feb65e516",
            "1709c46f0dcb46bc93f7abf3718fa157",
            "9ac9da78c9994e25868cf030f631c48c",
            "90512c99435a4bb78baf0e21cfcbca50",
            "8ea4259737b1434bbeed9a5b28fd1253",
            "0acf6a0fa5a04312a70bfe45dd0df6be",
            "589bd96410a44bc9b84853d74640a56e",
            "9477212017a04291a41c37e2c3fedd92",
            "9beb7bea1e1b405c923bd50de0fdb3d3",
            "70c09f05bac043058591047131344b66",
            "ab6835d95feb41028aa5c6c93c2c932c",
            "74cf040497ce4b5fb6d4d55d182df2bf",
            "b37b192cb4f541269dc0069206a8b7a4",
            "12f0a6b49ab142368192eb324a227a92",
            "78bcdb38a785416f97d43c72ddb9dfc7",
            "158f24b6a61441c7a77cc434614ce695",
            "fb0a0d5aeee347c898c4a112beb8a9bb",
            "f46014a8cd144b0e80dca63b3475c672",
            "4ba75a21f65b48608bcbf645064cc45c",
            "613d7869d27142838852aaf065122b0b",
            "596667f96fa54b5e92483a9c16ee8243",
            "dca98acf6791473ca9989b3d98ed027e",
            "37c78a11015d4a3a855f0a0928caaa6a",
            "619d3a8b801647d080d3275f8df01c5a",
            "5345a288d4474821b527a90a7f30d8ce",
            "97b0f49581fc40aa8cba279b216b2b1a",
            "d3e6aade41074c7aa4f080ccac2a7959",
            "b39224729543499b861732694d93f000",
            "75e154ed5b90494db8e1e62293a87b66",
            "441c68e86568446eba7e137f01e21ee2",
            "7586146a4ad242959344afd0ba2d7541",
            "92cca2a34c5f46fe9f58907120ee28d7",
            "6fd662b0530742b089d495f36da2a8be",
            "6a2dd62cee1545e8b50efbbb93956caf",
            "1fee604a117a4f039b125f6b3219d086",
            "620dc848c71c452584e018382d0da9e7",
            "fefd2c970e1f4946a40592337cb2b84a",
            "6bafa620a3144dc28a43baec23911242",
            "5af6ee3a6e414d87b87bc6b43ad19ee5",
            "caf389a6dc0741709e51886e26aa2e42",
            "3e0536366751411eb7e3f23255c2f6ed",
            "32c23dd4c66e4f2abaa234031142a1ad",
            "1c0a1c309d524e7fb6a0681ba9a3ec9e",
            "89c5424334dd4ef4bdf9855fd2247b04",
            "878062c9dab44d8dbdd75b859d8ded25",
            "545a6dcd7ef04cc494981074a6914788",
            "19dfe17931864e098374e0a43c3a576f",
            "ec082d8b74f044138d53e258cb08fbae",
            "a87edadadeec4faf9d13501fd2a27290",
            "1b977f3fff5d4ae4afd972d7c1f30354",
            "306c040d0c4f43ca9e628171ce86f4e8",
            "1dc4d33990e8477995f2508b7565080d",
            "1be7b2efc42944c9abc8a5065197c4e5",
            "4ba8c0b8615a4795bf70832e7ab60ff8",
            "31bfa7f7c33644c2b33093519a5076f2",
            "6ab81e24d8d5471dab158f9f4df0d58e",
            "554c470a3d6d4915af2f6ced3b416159",
            "d07f6e84e73d49e3988c2726acae8e92",
            "7c23c04aacc844dbb5abbcd9571596e3",
            "6a6e6543ce43446690b9d0c95f4ad3a8",
            "25d1b336b9d242cbae5d5004748f93df",
            "d88cfabce58a4c6099275fa819279fb2",
            "5a9793f316a1463e80e77ea95835a39d",
            "c8756305b825468cb1b1f0a26da4027f",
            "ea0782e740a64ab69051f2ddafe702e5",
            "c931d145dde34e519e370625187c19bc",
            "782e2aa490e84293bb39e790704e3fab",
            "0e859819ab1a4932be30cf3ec4b6f769",
            "42a5f7277a86460e9145ee88ebc124aa",
            "945189b606914b0aaa3a6533bce1b77a",
            "845a5a5e338f4551be9f7ccecc6562d7",
            "94f3bddde97e4dbda054d9a53ef2e0f2",
            "ccf006522a934095b41cbdbe50c18ec4",
            "27f2287d4e29411a94e5cba41e320a28",
            "7f888d45f9aa413d88409c34a468a336",
            "520a4422074d4ef7a2b4ed3a51e7853d",
            "7075a3aeae094917bd15f18c091be9d5",
            "54a78d8479c64032953f66a1b19a7b37",
            "0c6d9ac3009b4d8aa9d8e5da805b3691",
            "f87dcbaa4e5b41aea58d57faa74a101c",
            "ec839c676f7d46bf9212a919a23ca278",
            "4c19219787b44ead98753d5186090643",
            "7b0be739e0ea4955a71fbda00ee7be77",
            "235e41cebbc447ea9c8412804312b7eb",
            "058761b1abc148439fabcd1e8d7ef3e2",
            "fe8666b3b7ea4e08b8276cb42dff3d9c",
            "fa926a7ab6c74bfda43127bd5cbc714e",
            "23df37086bc8492f9cc7bf8fe233e2fd",
            "e2924ee5c5b341a1b9ff9ea2b228ab44",
            "ec2658cc594f459c80a011cc62e91a5a",
            "494f1d5868ff4226889fc77b6bb66442",
            "3738479b01d043afbe0d7740eb26b6ef",
            "335b131959554e99a9ea2bc01a23222a",
            "b83a1307ef1d4080bc088a98b51a895f",
            "8db4b055d1fd40fcbbfe3717eba286c4",
            "61af1c963b944573957abe65e4837e3b",
            "d486eaa366e944f1b2d7ead24851702d",
            "a914334890524f51af16a02fc8313922",
            "09930fee8cb04d20b1ee47f972a42863",
            "73f09c953cbc4ea38b82ee38dd4b7db7",
            "7faab98d61a14fce8996d3587c010838",
            "2fbd893cff544ca7b7adcae4e0e7990e",
            "0b20a89713984e15b5a1d4ad399951a3",
            "b0eb6552e17b4c96baa6144b21b9fbc7",
            "e034d528d95e493a97063a4f42e7a761",
            "ec2406ea19a74f07aa923028e9d0fad7",
            "5b62c5629c4145709503f161c58371dd",
            "d475b23561e249be924ec8ef8cdbf61a",
            "591d2393a2414361b83e8b7fd26dee87",
            "4c881baa92eb4b37bbc727ef04b565bf",
            "827d237db1eb4e55862e61f4925caa85",
            "d48d1f63d47245dfbef81c4f822e8dc3",
            "ba6801418b194556ae1f80d5cb1b9cfb",
            "ba82b60f287a42d7aef876a43f182b31",
            "a368781124224ea491159a78dd3defd4",
            "81ae8c7ced5042bea34ab092cafc81c9",
            "2b4bada4da61401c9593d36f52eec26e",
            "7f83f2ab45e444e4bc0505a08b1264d0",
            "74d71f52ae084eb9a9394a201d0dcb80",
            "c02f192601ac4a2eae755efe3838b961",
            "b1fce0aba5dc47d39d8d7b93d955d183",
            "a6c262f6c57c4f0aa48dc962c21deaeb",
            "8e22747afc4145c28e98c49f4b4c4b4c",
            "8e2db891545f4e0788b7d28e2a0baba2",
            "2abc2e305f5e432fbe12bbc867fb9494",
            "16e29675a7ec4444baff6702ec6ff28f",
            "45fb164f26d94d3a9a0a5c42a8b6eef6",
            "55c4fbfbcca048d883d1cb09cce3e5b1",
            "f3b55f141203471aa96a07b64579bd83",
            "1bb315f64dbd45178535b188cad3fb7d",
            "576011005a7e46409990fda47ebc3882",
            "18a4e73ea00449649c65f804f1222c0b",
            "2c578c9b1e4c47919542e6691bd1618e",
            "e0b4cb704b874007aa991b1952c18be3",
            "67827cde05df41d3b0ebc8be1093c414",
            "93a3938a8ba94a779fea2a013ff1c83e",
            "e539abdb17fd43b9b5c7e6f42a270554",
            "8c17efd3add24d13ab1c4ca5ce5927de",
            "68943ce826a44afea80c41fe6ab027f7",
            "799688a2c3ea42cf840fd3f98a4ae209",
            "76a0dc42240c442baacb6d93a488bbb0",
            "129ba75e8b9142e4bea48dc40e9e9334",
            "853089ed6a5a45acb8446636f82d3330",
            "ca51f1d81ff547a0b368d27433fe3f84",
            "3b8484ceeb1d42e3b281e0b91ac7c417",
            "1ddfbc278d454170818ae2ce48242b1d",
            "29611fdd19d147e5bb8851326c33ee8c",
            "681235bd62474ae1ba54d665e25e0f18",
            "160dce0c59664141934dbb21d8cf6760",
            "aa1b19e6b9354f609cccb7f6031383cc",
            "654493d7a3e44f7794464d2c42ed71f8",
            "eedb3465d0504aadbf95a7c283dadba0",
            "ea0ac9d922424111b02486b604cf9137",
            "24e3f0f1ddc748e387398840d89294a8",
            "d76eee07fe8e498697ea23aa36a37db5",
            "b4197f6bb4f6401b96f6302f52399368",
            "fc5f8b5187234450bec6900f9914772b",
            "513eb8ca4ad744bfaedd3f55cba0ed7d",
            "54def5257b2a489e914e0d38a8ef95c8",
            "29546218de654a46a6496f2d5a3ee928",
            "d4d9a03d08d74fd7a8e77f402cd4acdf",
            "af610a64b0fd48cb9ba4eb82cfb719a4",
            "26f2715faeac4a45857ee2d35949b012",
            "a81d1edf9cd24d25bb29aac56c15b1da",
            "7fb586b5926e4a478c6ac398d9443079",
            "d3c9b42c2b594ca5a287b9a140f88782",
            "afc7da463738449fb76d1df2f408ded1",
            "70b9bc6e333249c3bc5eb3e34a13a27a",
            "921c48b725b7475f808bfeb33cdb674b",
            "2122071c51a84e46ae648c6141582498",
            "399f455096994349b8bb383672b9f659",
            "55e80be04dbe41379d1687cf8e1202a8",
            "1441894c7da54301bcd26aa5f96fc0a2",
            "b11491fc00de41e18469808716336f13",
            "c82f36b1ee7b4c85a32ddfd33e8c0712",
            "5ed6dc746b904f3c9cd707d79de69bad",
            "79796ccab7274004bb424d67e9ea93a9",
            "664961fe1795492aa95015ba5f63f9d2",
            "5ae73c89d02d47e48d78bc05dc41e60b",
            "a8bdd908e5424e95a036ef8f9da8166c",
            "1ee29a68578c4e40b5677c734539d569",
            "15ba8f13d206469084bed7f4703bd4b8",
            "521d0dedb5ab4110a0d96c4d7de8ee4a",
            "6a119f37b9884de6b46ff38b40bbb9f6",
            "034f806adada4b309c48f6502e17882d",
            "55b8922701b44ebebf2ca894b9d9a9d2",
            "c7575f5c1293474aa9142ce3edd64add",
            "0404cfbf332c4142854447b34723beea",
            "b390af90573946afa3905d9f7bf22ef9",
            "a0034c49ae794657ba64afa1a633fd4b",
            "bfbe17dc93524046b567596b2a0dfa26",
            "efa7254274a84e5fb167aa696f9c319c",
            "f165d3636f1543a18740e7a677c25be9",
            "96a13b4f857348e58646d1e2efe9204e",
            "ca937cadbab04018874c3614dc177efa",
            "898b30a95ece41b280738efdf9e6bd6f",
            "cbcf9b86437b4d38819368a08fd0f9dd",
            "504230b7d3e0472fbafba83e32cf470c",
            "fe6a86f8dad7410e926deca998c39098",
            "d5a00ba532464f748260200372f45354",
            "7b46dae5d3b0483ab87074219ebb0769",
            "2f828f731f6d493fbf01620a910e8550",
            "69fb7f6a18734665ab99038c300f07f5",
            "d204406e83d847599d7cac2f354ceee3",
            "84a2006bc41a4f5c8a5e93ee71397610",
            "92a4b72208fe4dc9903a2b78be1530c5",
            "691a2e31793244d996f41d4e7de35606",
            "227025f5e0c5473da1dde056615fa2f9",
            "055b4bfed430440aa758bee01da7af6f",
            "a49122358b194747968d3d127bf86075",
            "5e3bec295e194b6e899649d1449c86de",
            "7a9483ebb63d4d38837b05c1d5e2eb71",
            "11c74a23c9cd49c1a8b0835035255a83",
            "54baf3a6eaa94901b0f8e4c7aa7e736d",
            "198c2a1258eb4edb839aa91faed0ed91",
            "43bbd3a11bfa49d59f34746b8c357d69",
            "d1ee7a5e36374630856c812c87b44e97",
            "2f1e7ed232e14990bd8e8581076cae11",
            "8484d63d3fb046b290fef1c3137434e5",
            "0bbddaa1ea1b42e29d379e758345c18b",
            "03a5efd632c044379e02026fb90f493b",
            "f83f5c53d9b94e36b1c0b5c20c317738",
            "cf25a71418cd4f79b712a5cfe23c5684",
            "d8ad33ebbfd34cd1952f62789472235d",
            "5fc7815187834941aabe7c8bfac20349",
            "042aad40af9d458aaf9ead9489abbbb2",
            "18030c38fb5049c88ea6f86e6885f287",
            "6c4d778836b949b399ee34d495d387be",
            "01a9790e2cd74fde9a056463274939c8",
            "38b5ad1f330a4475aaebf3aeff807020",
            "69653d1c2d9644aa87601bfe56067772",
            "e8c0daef2e5d45b296ee2cb689efd5f2",
            "560ca96c53144d85a47c25c27e6ce56e",
            "4f076617a17742fda6851dc41c71cac9",
            "8b7cd9e3b7974b3b9d74ddde121b6b9a",
            "b6e666fa34fe459db70df5005a2114d4",
            "dbb54c60af454170aed204b1641f5627",
            "d1a38acc2bb44e918a4eae97fd0899d1",
            "67aac3e2c06643d29ae0edd8a1647c46",
            "b8baba37a7f24321b37be581835cf62e",
            "4cbd54d1c48b4243bdb6371ffc697e12",
            "165166262b864fba97fb7acb78f123d3",
            "20d552167dcd4cc7bc3b83ec7740a370",
            "85307f74829f4497b46627ad357187e6",
            "641337cdda8d450c82493849d501689c",
            "f807390b6a4348ef8b3f5c36e35d6fe4",
            "3ef96f82f1aa4ccf9060c31403f2d643",
            "0e5b92ae89a8460d9c8a431dd43408f2",
            "87791cb2c2164cb5ae2b730371088a10",
            "6143e9057fd64315872d8754ec14a51b",
            "5606f57138094a8c94ff4e10a2c413ec",
            "acedd7effd064826bb42afaeee6095f7",
            "695934a47c684b2fa7d25f512cf74a54",
            "dad0d7005a0c4d7f911b73a61ce0d0f7",
            "dfd5bdb1e8824b97b049b5ca0467d535",
            "b7b86c09f089400e91a48adaee6db8a5",
            "9f4d8e0752ac4d4191a0d502936518b5",
            "2b2a7f766bab489d85c6c173ae9477e6",
            "6287701842e94f41a2e92f6b7385f3cd",
            "9cddcb392ea445ff8cdeeb68f5d59c1f",
            "2aa0d3959ce743c0adae04deb74c656a",
            "cc3bafa3dabc4b82bc456d2f92a8bec4",
            "2b5af6777173412ca6505953e63e72a1",
            "48bea88eaada4a29a66d96e1ce3740fd",
            "60bad95725b8432296009c46cf590fef",
            "4dada30207d44b08ab654b9c053885b3",
            "04c80bf81b04404888fafcc69c7765fc",
            "21f07a5cd75f4a3788e86e2c8eaf8160",
            "55898f7d3ba04e1a8fc83f185af146b6",
            "ab99cfd63b494a9bab7fccc75639097a",
            "03a3cf14a7ee4bbabdb94bfee7d13176",
            "6022b40e10fb4309b1cbc8fa5a4885b3",
            "6e6b133d2373449c9d1d561c7aedc406",
            "2a950ecef6bb4c2eab822f1be195e0e5",
            "b0eae9ff60b74e1cb35f783b24fcb96b",
            "db32591aa0214c998e1d1d33b54edaf3",
            "4b9ebf19253445889e7df7451bfba590",
            "429f851486cd44a68b270c3c4f3c8397",
            "594461b5709743ff8e51359a9bc74778",
            "d93fff08154e4a22ad4d49597cb27ca5",
            "1b385ffd7f044741a6fbcd5b4d32406e",
            "c259e9a59c404ea0b6573da75304a35d",
            "797b3e50dbe541aeb8ca7f67a1996672",
            "980e278f3436450b9f7f16017ca30b20",
            "dbecd27d29114356bbe544686c3d800b",
            "66574608acc5412ea880a7ea6b4c51f2",
            "79b4b66acc114468801cf997c060dfa0",
            "a6c92e6b0d114eefa69935b694517cd5",
            "5bd6e0723c194a07b3667fad277c849b",
            "c7e94fbd1ada4ed4b9df3013010dbf75",
            "9d298eef8e844aa6b28793d52aa24d87",
            "f282d8540eea4363829a4b5fb44a391a",
            "6e7aacebcf6348589589bdfff9ac2465",
            "1ccb60f61a284467b7f9d5d73883e8b0",
            "70606735458345b3999af19acef1226c",
            "17f6e5ccc1e4471c9ca38f86a31bfabe",
            "dd843ede4b7743ea91158d83b08744f9",
            "40e2fb0d9182407597fc659761e41aa3",
            "778a16e59e9f48b3b2f8e338dd6aaf66",
            "2023b4ef00da47fe89dad553373574e9",
            "97a9be13db604ad6958b836e0e343538",
            "c7cfb4fc070148d4832a21d2038c512a",
            "657cbd1ca0a84adf87cb2c5aec86e338",
            "6d4946d8058840ad818d2220702c328d",
            "6d55562db7d243b196c158b4d8dc0203",
            "deabecfc416641f9b70bd113b866304e",
            "ee8d23ef1a284b57b26c27271f1b05aa",
            "1252d8ecea4c4c249cb7d30e5398bbb0",
            "35cafc947bc848eb8d37e786771f8618",
            "8e802c9ece7e4e5d910de8c59e365511",
            "6ac2a2ffc0734f7f823fd76ae39de0ab",
            "eb8887dc3f07440c9b203a1d98d66fea",
            "ca6f882c3dd24e8dbfe29180896c97ce",
            "c1c0c5789d36484587d3f1ce5146ccbd",
            "a3f57c89bc104e9fbe963664482aa3ee",
            "18a62647e27d47cdbddebed2f7852f11",
            "0400e03c3192498e8f697244d7a4c313",
            "a40fbd039ac94cac9a3014a7666bba03",
            "cd518cf5785f4742a3b99b8bf3676d27",
            "db07cd472bd349e8a3d6bbeb091bb815",
            "7d61fe778bda4333a8c1cf24e4f1f644",
            "53e49184f58a4ee8a62a6cc9ae0dbf63",
            "007bd7ab5c92487b91624a22864fb5a0",
            "5cf4068d2378489793f74473d8dad723",
            "c67d6c64d8d341e5a81842252f53e13c",
            "68caa0f31c0241f09d44abe11e6c5c9f",
            "5f50d73b19c44eb6b1880319f1d894cd",
            "c34e6b2ee1174852a6f5cb900636aabb",
            "591db59b62af4c6baffc5bfecc5fa710",
            "280070c0b5974ae7a43407c2460279bf",
            "3544d768d2dc4cd2b0be8aaa9c713afe",
            "379d7a70a46a43c989320f5f5dc9fe56",
            "0f136370d26c4c368eb17204d3438f2c",
            "7e0e548f2e7c4daa97499922e9a63795",
            "637ba22595f240d48eaad07a1dac91a9",
            "0541b723b0974a6d8558701b18af6321",
            "535bb47d48574f478e9b754577549384",
            "333bb24767814d3eb259784f586a26f6",
            "a1917605f6e045728b53a12a76222d3f",
            "6ede933bce9c4eefb16910cdc18873a4",
            "80cc06b76300448db822842b84f43a74",
            "e27fdaccc11c427fa85a077b1a5c3fcb",
            "f350048c870740c9939426b364875cb1",
            "83c8228f251d451f829f350767a92263",
            "b0a226fd821448738ac0b0a5ad46fff5",
            "b8daa6adf49f4dff918af28257101e95",
            "274a20cf6e024b478db92ee44bb574ba",
            "27fb8c5aa3ab4de1a0d6af1c14efe525",
            "9e12aacc50de43f9bf4fd3a84c70bb1c",
            "c64dc338d51145bfa6c96b56099f7b68",
            "23bed85784d34a919245109e929ca517",
            "8722d0527cb24caeb63788180ab9c0d3",
            "6136270fbe7d4e7081a5c6572b3b608b",
            "4fe00ea827bb481082fe05d9e5291d68",
            "8a94bd8d75b34639aea9780640f5039e",
            "8ce932f63c284d10bb086c94a36ccbf8",
            "fdf9425fa21a4a9b825077923d8f3df6",
            "1349e55bdb7c46358be387ff65abf89e",
            "8c09a1c78f864073b7b26501c7b93d64",
            "a78c246a057d48f8bfd9ef1c3da42346",
            "4b3341fbff1d4a429119125b60f312ed",
            "d10bfb40f1d147dfab9c9444f2938480",
            "245136a9f2fc4bdbbca96639c6f34d3c",
            "16b1cd128dc041f694f74949e029178e",
            "ee34a6df91034cbb8ab4760200908749",
            "07343c61b25446c8871c4d22b3c7b42a",
            "f85af17d6a234db99e4f67fdac6d43cc",
            "47bc519634af42ababf923d7c9c4d9f1",
            "bea240ecdf9e47cc83995ac57af71ae2",
            "73f5fbf760c944779ebd3bc271c4f874",
            "5a9212d135f34adbae07cf522c94f1a6",
            "ba0b3795537946c3ade85f71c5bb3c47",
            "b3b5e7538eb5492982cb96a3b928676c",
            "467b9d4e3f864b598ae5a32888e90f5b",
            "794e28100db846c1a85dbb28d40b7996",
            "89d2a0702ab04b1ba27f1bd59debd8d6",
            "063317907a8e4da1a22624ae20e6f0f6",
            "182c84a25a00475cacc4d1c30560ddd0",
            "6d289506b97c405198cc3eb5d15f5ce4",
            "6ec1501b95664d80a6f8e988e57ad346",
            "cdc4031d501e40418cbcd060050a9e01",
            "74f84fa3986b4c4b955cea1d52c63483",
            "4fe09dee98704c1a9ea5eba1423b20de",
            "e2ebe990b1704bf2ada68dcd1b481bff",
            "5ff2d891700344e69d7fc2cdde92d91b",
            "0a7821ee65264acf9d43af6bba3b4e36",
            "956fc81f49e647d089ccbccd5e478eb1",
            "c18cf4357dde432c86ec5e14532be28b",
            "9d304b6b08504f8db8d02c94f5d962b6",
            "56e23281a23d4b1a9ca4c56126c15954",
            "c16931b4f26748ce9d72208275558158",
            "f5ddb29f01b24d398f29d7fe0bdcb4e1",
            "be1f00b48b184857a7b08c6b061bf637",
            "0a0efc7bb9b14410970b3814ea827956",
            "5089abc213fa4c59b00b01413d54f2d8",
            "6f809cd6d14b4007b3e11b64b45ff5f3",
            "f89626976a5f467bb7b9454614e0e5e8",
            "c3a12ca3844e4f2ea2beabd639656fc2",
            "6fabf50e6f184d4f85d4ca618a24357f",
            "ff4d30d2d6884a7f9d2a97d244b67bf4",
            "85ffc0eaf6f54cdda0223ff3c20a6e4b",
            "756b380c7ccc4dcdbaf8f103e82dbffb",
            "4f5a9afcb37a4689a424c2db6c147ff8",
            "8437ab0ae6bb4b5ca37ec3ef7727b73f",
            "cdcc6c687dc04899b004fb624c4b78b0",
            "3d3d548f4dee4e7fb8c0f97f0e215e5a",
            "618b20a5823e46a0956943c0e2dbd2fe",
            "94a18a6dbcc34a46a48c0e0279b992df",
            "bff38691c11b4025828b85339251157a",
            "58cd4285a9514f21b93a17a8f193f9d3",
            "aa6d1bd1f9a748019826ac069409c1e3",
            "a8c7d0ab7beb475faa8004922ef57e1a",
            "06cb1801458440919fe5e13ba077bd51",
            "9bae931d496944929374917617326d3e",
            "43f0ef5a7f554c29a95794a0a007851b",
            "ba99d4c8b5864978a86ac4a3fa1e55b1",
            "d4bf6524b99648bcb84f7b29a59ea3c4",
            "53e75e73b4a944a2bf985e5394e2808f",
            "8be981a6224e4887aecf9449528b461a",
            "a6573d87c61748c2b291d05cf97c11a9",
            "54837f6b115640e789269a56bb493a31",
            "2a5953132a304a7c99c6bf7c04a09c6b",
            "8a5dae35d9a440869f3874ff4173a30f",
            "9f3954162a91439bb77619aa73495a4b",
            "96280b38816c468a9bc949b9309bcacb",
            "0188a9a009be40c4b1c219a50bced1bd",
            "fd1be45c02f24831815817b9fa87dff6",
            "5f35bdae129044e7a3aba4df2895549b",
            "3a69432095ed45339fe77fe0ed679948",
            "c9a82b400c3a49548bdb91b148d2f6b3",
            "f2008f4e2b114108be3b1c810c9f6b69",
            "4696b6d66f794eb0bb4bb935b13dcf32",
            "29f66b1fc4f949809873d33e6661f72a",
            "8b122e49e9c845b0bfbda0b7a31ab719",
            "cefaf367611048e1abd7fb79114f078c",
            "e849e273084445b799e3e6eba04f14a3",
            "82599b5045dd4bc6b6a6e9b27ee02b47",
            "763d803310d64d158580edf4c944af3c",
            "0ba3a7ceb9074b5eb665e3eeafc9a34e",
            "2f418f54cc1a4aa19158abf4a5126d45",
            "d5687cedacc941e29ea82c1b6144b4cf",
            "8a72d60b4a1f4b599d042ec1ec95771a",
            "12e0a00d6b95474ca4c3054d46b6267b",
            "b3eaa6d14ec54d03bc43798cef7cc59e",
            "62057716e7954bc69bf7808fe9d662c2",
            "0410878e622e4896bb7273d20891122e",
            "2fbdd52cb0444ec4b6338d6372037d41",
            "7fcdce9e67d34675ae595bd6cb328d47",
            "e93f7f6ae6784cc0969440784e7fe351",
            "125eda0020b34b258b4f9c5af37e3bab",
            "85bfa81e85c34581bf2a7a87533c6253",
            "80f265f8f41848c583404031f7a82ac6",
            "fad79510f8fe44b1938bcbab13a72177",
            "028a6d6d0ad74cbc9d5f2b9259ee83bb",
            "169cdee7bd24470db25c7cb0eb5907a6",
            "3d053f0073624bcdafb6235e34769585",
            "a4a6bd50ce9749eabb1bef3db3c39967",
            "8381d8c927df4b96affc4b2bf132b19e",
            "8134d974445042c4985995598fa24446",
            "c6bdc951b1a24459ad5de37a6707275c",
            "38b6d925eb2a4e8696db5c89cf74538c",
            "beb6b672a41c45899e9d4d0488140f6b",
            "7143e3bb863e41caba734d13d1800102",
            "ad803aab6a0348169795793f377e0c30",
            "e324c79fcbad413485a10828f1de21c7",
            "337de59c707c429e977b65f3a244952a",
            "7fc3eca380f24cc8a9aeac4b66f11df4",
            "66500f00cbb14579ad705332136e0b62",
            "f2a131d54a8740d482319b6d305307e3",
            "2c5418932e4d4ac8b17c17979981d9ee",
            "69eca7ec050545cba630b91a10a6053a",
            "8c18baa338144b85b6a02932f8bbacae",
            "97ad75f4d11241bd8730ff590c5f907c",
            "03418fdc576449e3afbfa89d0cb2303d",
            "05e110ccb4364b9e98718bb78265dc30",
            "e90e597a86b3475188b91fa0535c7614",
            "3e1c2464785f417cbdedbe0e5a0730d1",
            "7369500bdd3845e98e51c43c43444151",
            "9f349ad8b00f43cbbd998d9ab6aa3a01",
            "eb5fb97a843e49feafbfde0e18612ca8",
            "1cf3e104d75e41e895e2351cc8812115",
            "1f393f9bbafd416687c7a725f6cc88bb",
            "8d919ea2fb9b40c6931bd707c64927d4",
            "6942484622c84dd08e479922dcc15329",
            "4a23c7482c67472a995740bdecf04d00",
            "623e3fb8bf4d446dbc9e5d7d8a4ab785",
            "7fcb1409bf764f0b846ba12ad6ed7147",
            "7cb148bfb2f14071aefd4e4102c9157c",
            "da5f4007194046f3bb1b963dbade1b61",
            "93d3867cceea435ca1f72d8c85a4cb88",
            "61299528dc2742348ec6afa3a126c20e",
            "ff8ad1d27b1e4cff982dc97b147914db",
            "5afc19dc432d4067b765338a51a43839",
            "95b909918bdd48a09e94b40bcc92a532",
            "c67216a79cf34779a5540eaeaa2920fc",
            "09962bdde7b6440d8e5cb0589f3c0623",
            "e3a874e35bf145ce84cd15fb419dea39",
            "3734925927994ee8af4f0f4700f3bc99",
            "d2aa5efbccc242f1a34b160830c0bc87",
            "739e7a04594b4d39afd7400f56ebdc3c",
            "f90a0f01143d42659164c1b75384718d",
            "cc0d7333d5094a858d633146ecf99b5b",
            "37baed37b95941e994f932e679f89932",
            "573d8b90e0664a478fb8c67ab68a52cd",
            "582800436dcb4275824de26017afe76d",
            "c1f6a4e2833547b4aa4db87bd26c71f1",
            "ac85f7c194c84b6bb95e06e07b86530b",
            "097befce58664ed28008216cdafafaaf",
            "a6bc77f2e0554dd89d2252d0d88a9122",
            "deb60a7d525a43ec9b3c9eb368635b6d",
            "f611d30febf2433fa3f32a2f3856a5dd",
            "f6d22611442e4faa8e61976c67810bf4",
            "b8733f4d9e194015a0cdd18a4b42f3f1",
            "fc4068f8ada342a884f290694735c355",
            "7290a0f4d7554cda9d07645268bb62a8",
            "08614e88348b4e83888d9aa1282823f9",
            "ba3527f2e45845ffa6ba84384f05bafa",
            "9511af04889b49679c07b2e8e40ef853",
            "9b42cd057c4843539945ac861f474e59",
            "352a1f74b5634cf0b417fac39a73ed36",
            "ec9abd86a41543dbba1210bc90120e3d",
            "ff414fd3b8b246868be0554fcaf40ce1",
            "3e05884adaf14ff7907879ca254708d9",
            "6e450517b2d74b359596cbe10e9e6e4d",
            "290a8b55e62c44cd940005b7c3637257",
            "34885306740a4b33807d8f4f7d9db5d0",
            "936be2a050d242f2aed51919c28a5d19",
            "77fd39dc71634423826c0e2156ad24b5",
            "0abc4da9930b4c5c8a331cc3a0f30d47",
            "7cd65fe5097c42d499e9f2714fcaec5d",
            "1562dbf0a7b44ba0b1b22361f74950d4",
            "a84c611368bc463cb088e9bb99078ee3",
            "4c9bcce5c9cc4977aa765b9f2624a66b",
            "1d2a252d31a3499b8f04451da5782dc6",
            "9d08181a48ec42e6b894701d9b1c2664",
            "65604b643bc94c20a9c269d9c927e77f",
            "3793f9da61a541248845adf9517724bc",
            "f35fcc29477e4f3685dcbf6713a5d05d",
            "4ca4085c0b344a1aa9a61c520beb69fe",
            "0eb26da1855b45999a03224379bf45eb",
            "24398fa32da044febceb446c5c8a03e8",
            "c81c78b026784f09807a227ceb68b27e",
            "68f013483dcd4934a249a3ee7830e0ae",
            "539b5311e4e54b8980c94b50727cbd11",
            "1e700c9ccd12414d8501d2291cc1f059",
            "99d675a489e9401ebb7fac7d100e0b75",
            "dd5ffec949f642cf8dbb38100dd34589",
            "0d6d1dedeab949a2827c54e967cab97e",
            "de50b8a8502a4c14bd784cd19d6323ed",
            "a3bebd7cbb61418296fd52e92bc3b9ec",
            "c98ed451b64148038811fe94d833ca7b",
            "0e61e75e8d954eb79bc31759d0e961a5",
            "864b9af40cc24cf396b050234a390092",
            "ca2707ebb8c0493181e7e9c58fa302b2",
            "d7ad63ddb32a487fa6c045f60f4f1c45",
            "7452283ecdc84d05ac0c76b8ce20db7f",
            "7046e7441b804aee8bbcee81402fcfdb",
            "28285ada80d047c787f57ec8ff492906",
            "841c3bb79ffc40aa87852241ff5ee9a1",
            "48baf22397354d2b90a33b3aa4724eb4",
            "6c39eee447a0441cb21c1165c9785d52",
            "4bb95419ea29459193bfea4578f7b9c6",
            "da26cc7430f74ef489363efe29177bf6",
            "943cb66a64714399813af7d7b1fcc70d",
            "dd1643e12374495c9874b546ffcd5845",
            "f6c0851fda224b6e868d2a17cfb9acc2",
            "8662b42762814a139b0bcbe47fb42065",
            "985e4a1f3db14347bb63c18bbefd987b",
            "4d8f55eb7bbd4608995a796602cd0b4a",
            "a03f058ca0a740fca16d37485460188a",
            "2fb20b360bde4dbf8457b4e303146023",
            "3f52c4d724344159adae1d6ac91f08fc",
            "450bf4e421c444e4ba6da9f58490e713",
            "c2058689c218444590d26d3c5f80d86e",
            "c99a817bdacc4204a98d60ffc10757b2",
            "22ecc91dcbe34ae0a869ecb921cdd636",
            "1a05bdcefcfb444281a5c3e469621cbc",
            "71b15a84549443858f34304318a5860a",
            "b8d4e3f5b71643ec8bdfff3147f06a68",
            "7a667f76a76643ba95f141ea862836dd",
            "4f52fd28fb164c428d7f1953b4810727",
            "40f79e603f834a9f98b08010d33a0497",
            "88ae331364bb422686e421b380114984",
            "f681ed46dc62469a9dc6b3b142256957",
            "28f541f1ebdc4890bc63241d446740ba",
            "8b258207681a42c1bf4c30489b2ec961",
            "958f4bb64c6f4e2fbf96b05c7db90238",
            "51f91cd0e236426ca704ff9dccfc6a37",
            "99661a06ff66445c876da943d2d9e1f2",
            "33828277b125470e8ed66534982580d5",
            "5a0d1ef435144202a37739513d2bc58e",
            "aca0927af20e47639ca564255737df42",
            "af97d37768fd425085c90c991f1569f6",
            "97beaade00aa4454a61b66ec95d1434b",
            "de5c95bb5b244b069364297678c92d49",
            "56a714a814c04d2a836e54208c2a4217",
            "1952a9c41bb945d3877ac25a95ddcb1a",
            "04489c7b0c0e4ea884c0dca03f1817a5",
            "4b89a213dada4e79aafedb4fca24b9ff",
            "23219e36e78f4a1bbd892c333966b1a0",
            "56d6e3908e634b20b00f360e5da03e80",
            "459a4b715f824082baec0e0782608816",
            "772da965790d42ea8b377b7d5d8b06b4",
            "d997caa69f6645f6b37e09113f806718",
            "a14fda17e66e48168de3ab8c79fef7df",
            "3e6909e3d1534d43aebf972e8124a44c",
            "6e731c81d15b46edbe2533ca5b2ce520",
            "2066744f81e04e668ea2897d1fd76d2b",
            "6473891106a8426890f6f6c55e7e39bd",
            "461a3b783db342fab8bcab6204b585e7",
            "6cbe1d0a638146d2bc12404ec54f0f8f",
            "7727badd0e694811b4b4d4f59b99e8b7",
            "91ba56d2473d4737a78affe66ff270c2",
            "bc148a26b9e447a0a2d5ed4f14594da2",
            "3e425eaf03cc4a02b80aa3db70a89ccf",
            "7bd184e073c74fe7953cb6dfd4a9b4c4",
            "9a5725fe56274e00af0bc2b31b272b0a",
            "274b4d2139574f94b5ef81af0e96b207",
            "6903856bdf9441e9a6a2d70fb996160c",
            "ea2c083604c24ee3a823f150faccacef",
            "bd82b3bc66724c16a4071508a6257e6f",
            "c7f8ee8239ee44009ad988c6615d0278",
            "84767c39ec2f4fa98e1edb7597abf7db",
            "a0453fa4b46e40cb894e1c8d2e464491",
            "d669feb5c7c74c9ea2d1cedae2e77b11",
            "87a0e1e6b79b4f22b379df4716fbe15c",
            "a3f6c559a05b4f4992c2e3ba6b9cc8dc",
            "1c9112e4f8544f47a337aa76bd446eba",
            "52465a620e3a40a0a6bb3e615a8c919e",
            "7e328f3bb7414efcbc06d67ea4f13e32",
            "23bcf28aa22d47e6b01f50768c026e7a",
            "274185ebb9d14a6083ecad768ea7d3cf",
            "ddb4c09bf75a4158a0ed5a2d920e49f5",
            "b2bc4c3e6ace459cafd6a633086f2190",
            "2b32100ebc244885a0a9928dd27ecabf",
            "7bb98ed76dc04e9ab302961db4cfba31",
            "48cba20e0b8140adbd1b1bbdba46f28e",
            "f579c44d26e9463196e9d6c665910d1c",
            "da122d1c4219448e96f439379b1d7106",
            "1b3caf34417d4b97a8f4ff0e0fb2e794",
            "c013f1c460d14a2195bb6ff6283e0571",
            "cb7695998ad547d4bc9675b1a23edf36",
            "c28fed87eb2e42749523f11de4fa2902",
            "f2fc72fb7de149ea8e0c00e8b8614788",
            "4df59848efb149f9899a9f1938d9ad75",
            "a8758f705e33418c96159aac20e2304f",
            "1e94044791c749feaedfd8ef0dc0a9e1",
            "272643b6f9a74c6b8382b0ac51c912b8",
            "c3a99cc7dc9a4303b4af6916155639a7",
            "296f32dd3bcc40868151cb2b6a713360",
            "e8f147e418504cfc8fe37d97d6a59d05",
            "c0a1ba936723467db91f947cdc7ffedd",
            "979b851cfedb40f78ad24d495b9dfa59",
            "d528630a310b416d901c344f54dedb32",
            "b670de7a5a31458ebd2bb70457908353",
            "492aada84d0f48238330ae7df4fcb10a",
            "ef5d5593a72e49ac8e214501e0255526",
            "aa89f019215c4e33a8a5866e8304e52f",
            "0203e4b1369848759c9eaecc96b00998",
            "80adb6ef3b5c4112b7e9fafb08c4e4b2",
            "38886c009ada47c39eb4d99e7ebe0b29",
            "8185ab1f5fca45beb9d89a419deae7b0",
            "09e2d731b9c24a25a82cde5698d1eec9",
            "d55dacffa5044dfea6c65dd55f0866cf",
            "63b99eb7a8d140809dc6099c331349ed",
            "eff2e122052b4eb797f0ea1370b3f13f",
            "e067a7a5ef4a448c8617f29a41ad8e03",
            "b6ccbe7d194c4f369bf5173f4e844415",
            "2b593b49a20d4341a75e4ebf35a85085",
            "dda7e332688c4b18b4c48f59327ef7b7",
            "bac5e92e195f4f06931c8cc6bf73863f",
            "504da9feb0dc49f6b784b61a362d3fb3",
            "7f294fc2ec3940089781313036b807ae",
            "c561ce48987543d3891a128fdeab1ed3",
            "ddee8d30c581499493b94e487ad1758a",
            "4625165bad264585a1784d7adc04ec99",
            "bffdbb3625814709b8fd83c9c8a8fb4f",
            "df3427e64db4401ca6ec9232668e1f92",
            "793e5ebd076245a69e5e74fcbdc6b56e",
            "7bbf7fbed7544f3faa4c909e897bf859",
            "0dcd0f3a2dfc488abc928d9368c824df",
            "d86b024f4ebc48ecbf0febb2774bfb6e",
            "716e364f3e854a4fbdb10a8ca4430f27",
            "e24b7bfd49634bb397bb16416b2b635a",
            "0ed291e4a11a4090b1ebd09e2f6402a8",
            "ec02e22b0e524dccaa37367fd506b3ff",
            "b11ee32885b94d809bd3b1fa69b75470",
            "e4589bd5cf7b4aaa98f96ca5f8f15795",
            "b649f0d3e3724932a8a99d6829f7ddd3",
            "807310cdb4824763afa2fcc74b6b6489",
            "6b1475c3d0c04f14a4f8d841c8cb4618",
            "70261efe11dc44568d69994b18ba8b18",
            "787e863f5e8f43ed87d3c12954a39252",
            "422eafabd0704d44b7f123f2c9befbad",
            "3f0bd68a64fd430c885c5faa6013a48c",
            "d430e5806bd9416aa2fd7f3ecbee25c8",
            "ceb1f64e101f4d64bbe1b70df80724b8",
            "7c3b34a1bdc8440db156ac5afc81f5c2",
            "90d2c44efe7647a0989ae2261724d041",
            "4d1db09463764952be98c581cf414bc1",
            "35b0e4876fec4a66a900f14f23e0b01e",
            "911a4df8044941df8818c5b754d9c915",
            "6ad5b98f8ab54df9b0bb69ac479a52bb",
            "27dde34ec31246aa9d5b3de2c8f473d6",
            "0058fb1fbd06454bb9f5686f97beb683",
            "33a00818b8be4ca1a8eb3b1e2367336d",
            "5049d79d2b7e4946b89ed5bf54fe47b5",
            "dcc1c578fd184dc7adfbcc1c3f49781c",
            "2472aa602d034044ba06acc6566609fd",
            "86729404e02348bcb7fb6c2a4efb9e36",
            "64877ac37db34ed7ad939a75fb727f74",
            "ade66602f2334456910b97c97dc00d6d",
            "0e7272d19c3a4bf0a8a4e9f12a24d80d",
            "80a6bc64e386412fbf16ce858ca12e49",
            "c0374d3b534f49b4935934db9a1174ed",
            "434932dc31354fb1ad5a2a6fa6e0aec7",
            "cd5ddc34a8d4402888b84e5950ac936d",
            "25bde25978f040f88a205627b071459f",
            "5bba1754a1ab4a5fba4b4b6d4ddb5b47",
            "77bf1f325e12499e83a651b4b2fcb712",
            "e5d9ba57a4ff422ba3daa24a60bfc7e1",
            "023975be9c3647aba7e625a2817a771b",
            "7fcc56b87d7a4fa3a9365379a648aacf",
            "75edbb7c42454128996e1dd795ad74b0",
            "ec5a63160d2543a6b4039320da9f4e5d",
            "8100531ef34a4ad98b861403c06811cf",
            "1ea98b77362a4f37aa1c72084fd42de1",
            "c4e06588c6674aa7b80008f6e1e23a76",
            "36b555764fbe4cf390ed5c40738d29cf",
            "48138f4970a7433583f44beaed1ce316",
            "faa285e72c0e482ebc8b681f10237f7c",
            "8a34544c4ab04415b2cf7c8259bba5a6",
            "5a3d1ff570444603919669dc3046f1a6",
            "28f796db3dea4d9382df5583e1e3a0e1",
            "873f186f13f4495db39c8ef372e9ae63",
            "b1e8ab2552454f1597ccf479f4f0d3d2",
            "26c3c44edfd1485a96ad91164d324d71",
            "060934077dd547fcb60b28ee0307a6c1",
            "f77df278e3a548688514f47033fb038b",
            "97686f5bc7c944a3a21eff38ca61aa85",
            "a47ad8ed3e264c3aaa430aea65ec21e3",
            "3c14c8e12e0146deb8a0cacefc243a48",
            "41db6c068bd444fc9f9996c9769d5cdd",
            "539cd8fac2754f2dbd6ab34727e35f4a",
            "0b506ad1580e4339a73db05d8685db71",
            "71c298c014f2459aa96d69acede4f42c",
            "c96fddc994cd47849fa38520c7e77107",
            "91c4c167f0e3478aaea67eb3cb102f11",
            "929182388fdc4fb6bf41489824f5fd4c",
            "8918a6dcabe64ac3b7d5413fa0f84c82",
            "3c997fd829bb4b6e806d7d7979b854d1",
            "cfbce943835d46328e80b7d2aa26a1fd",
            "430878c42f4545ba84bca5fee568315e",
            "5164d1befa754dc7918bd361d59388c2",
            "6fddc53cf052488e8fae21390981ec6d",
            "085bade9e52841bda8d2b52ed7b072a7",
            "c1f89885899a4b6796202cabb774ea7f",
            "aad0a925d9f54e048e137268fabdbdde",
            "6a021416e2234581ab1e13720a33f90c",
            "912d1dd692eb4bd39e7f9d0af6cbbfcf",
            "dd79b4f6919b458f8e11f4559c7c70e4",
            "e006f438fd37412e99976cda4794b4f1",
            "99a6a1f6465e4b9c832367cbda28155e",
            "c7b09f74508c4419990f5c19cd968096",
            "1f4d28908a3e4f118b495a8d1c035261",
            "0fbdabeae8b64be390d3b85b2013b7e5",
            "f171ac0ba4634d28941f955fb602f5a8",
            "aa8b9759467848f684df0d4ab38796e2",
            "d889af4fca884e84bf4029022b68cdb1",
            "f809e4f4c83b45e58229e81eba061e9f",
            "434fe7d64cdd4179a7f10dd977a084af",
            "33581a42018544f28f9d1ceaa1303acd",
            "4797010cd91e47d895fa89e1923b8edc",
            "16c8455eb7bc48b2a3b8eb3aa202ded4",
            "dd42b77ea48149999dcbdade95ce2033",
            "38ff278864a04f6fb51b91dbc7bb8fcc",
            "a06eb28d5a0646cb9755bba65b246412",
            "73b79853d8374609bde275171e866f21",
            "3ae6e41dc3c2429e8336f8af8f35c430",
            "6e0358c210e54d548059345451a67a2e",
            "6e5312c4882c4e1ea868aa8fe1627564",
            "bbc1fd24d1914e2cbaba65eb63d1ede1",
            "3cda43bfd06a4e2f8378d94673bf2d24",
            "0b63ac3b24c242679aafa5529afa28db",
            "bb4c3b730a28403f8cff8fe415775848",
            "434ddaa1ef86469badb7fb3582fabd2b",
            "3a2aee1f47dd4b218224880c4acd36a7",
            "4f11ddd682074025988c50c3da4e3a8a",
            "59f2d4f604f34718aa53f741eecda838",
            "7dca1e9fb707450eab9d032f28945804",
            "2723ed9b7cf44f8bae4b1b64ed782e16",
            "8fad932ff3f64b85b488c6c33dcaad2f",
            "e16ed1b691d54d34943d6c2745ed8c25",
            "c2d45edb36bb423d89ef901f408375dc",
            "ccaceafa8d2b48e1ae0593f823e25b0a",
            "667a3586c14d430da301674d811fcca2",
            "e87697fbf7a54befb2f9c7d25a0b42d8",
            "8cb4b35ddf83496a895dbfb5e018e1f2",
            "342762e8622c4c5b8666c33855a5d3cf",
            "e09ece0afd5a4e84b1c81f622d1cea2a",
            "66ad4ae002cf48de8f119d1defbb5a48",
            "a177be9d985f4ac392e2489e16354dc1",
            "50989713898f4416a261173fd3c289ea",
            "6aa362d7efab4ed0a2f45c61bda78dd5",
            "b57f49fac16e42428d6484ea58c10e57",
            "c4abddf78f914740b419a4c1c81bce64",
            "f89380e0a3c54899a5236e97d5a82cd8",
            "5adeb77151f5404a83a6f9673f3b15f6",
            "38667ddb47064e4cb9cbfc1ae58a8016",
            "007a34a40de2464290002fd9e6cf4149",
            "7621d7e339654c73aceeedcf99e0b915",
            "61b063380ae94569b9a471c61738f36d",
            "3d285bdbf31845f7bcef26d341c99f88",
            "93ab1fd3eed74293be00490539794582",
            "ae8b5e4c139d4a69aea33cb2cc77279b",
            "0f77361be8df458ca9fbcc76cb4cb95a",
            "0109f853534d4e84a86732773ce58dbc",
            "26cb5be46f22405dabf65268c420500f",
            "b1583972af8b4b03b7bce5aee6aec6ab",
            "4bdfab3884ca4950b2030781bc20c6fa",
            "136da44dc37a46f9abd12ba99c5d184b",
            "56147ee202d045cbb655ceed44b9841d",
            "b79f9f8bbe8c4c48a12eb2cb2c803a13",
            "8ea17d4ab1b7466085fa20f31534d5a9",
            "1e4f229b8a184daa993a239d8a9cb795",
            "618cae00352f4b4d8c415cfc797455e2",
            "a83e793949f940fd80de19942665a8d1",
            "ce574d390e704d0887294d7e39ce6b57",
            "7a0cdab83b5144dda6aaeaa72ac55893",
            "230330318a2642f28f0de4d9390fb075",
            "04933730c6e94cc48eea2d59050782c4",
            "f5524eb3df3d4e04a861857645963080",
            "b903d15fc0bd42c58f79a8e0b79be2ab",
            "e598905b94e34ae7896c7682e6589b23",
            "dc1f0544884040c6860d564368485bae",
            "7853d101c5654d5bafcacd8f64c2a48c",
            "11fae5c85b1047ffb1a786813de0bc66",
            "273136a0ae51451aa7b4a827dfa3331c",
            "e0ddf86ff27a433aa32b1b4c01ff00e7",
            "1d5d61a4a3ae43808614340091213d05",
            "577193cee794455f8d8f9b72dc3e07a7",
            "29be23c8c38340a489ccd678b35bca30",
            "764cf97b62524898a7cafce45986e1f9",
            "776bd67f3be34294948f66a6e6523bb8",
            "4fc8d39d6f674e34996d6cb3c88402e4",
            "b79ce7f74517484f843b21b7b11c8dc2",
            "c61841de1bb24750bc0426e3506d39f0",
            "66628c1e5c66441a8061b6b4124a1ad7",
            "608be5fd2bc1401abb435129db44e2ab",
            "fc7e7c809ee24450b6ad371c2dd5a6bf",
            "9f511903e3644411a8158705ac898b7d",
            "2d7ff447ab5f44cfb88bf6337653d19c",
            "52deebcc3ce84361adb6b8ae7e3826cb",
            "87011310c97743699f39f4c510f283bf",
            "a4f0e130e2d84cc8a2cc4470c62f0db7",
            "930a274d2a304db9aa6a75b0ff755388",
            "dc69943945f64e4f9d84d4f34040bcf5",
            "b61c0705c20e4e9a98c413c10adca282",
            "0ff33464badb4d5abaaf7ca93851f0c9",
            "e5dba032b2244690a102ee51965bb44e",
            "b9659bebdf8a47ccab88f0808b2a0599",
            "13da456dfbbd4c768efc83e002d33398",
            "fc3b8c9643054ebc8e4f9e8d8d35f852",
            "14b1290bdc3d41bf85cd77fe7096c88a",
            "f23822cac4dc4a2daed2d119d979e5bc",
            "0e5f6c14d48045d285fbc59e1e1afca0",
            "25185c23ba194cca8e5f8c94e755b3d0",
            "69a2f8b1bb9b434fb371389cd821b9fc",
            "a9ca7dbf208b444c92559697a4b95e55",
            "30a25ed3a9d94112b5ce9a563112cb68",
            "e6b174a6080e47cb93132d4f1acc22df",
            "d3002e295b38445cbc46378534bc098f",
            "7c833e1341664fae9a90fdfed2260dfb",
            "dfcfcc409ddd45899d3254c0f4f025f7",
            "db0f4681ea4a4b778c378faf10d3c989",
            "3ef28dce43e54c7687d4aed487d08cc9",
            "7460c6941b1c413087313fdaa64bd6a6",
            "c0145a1af34549a0a5c731bc244aa25b",
            "f4f49aff1ef64153881484351157694f",
            "37bc4643d386434f9f3fb8d788e7c330",
            "06cae309897347778d635ae4ef00b941",
            "3c42b27237b64e76b0a4ad23208c8d52",
            "30c9f583fedb43ae9d3911fbb5bbb066",
            "751db1a221cc48049ff74a653c574920",
            "2c9c57bc0418456890d8b000079600a3",
            "d03dbc7e635d435fbbd70c2f12ae917c",
            "c1d09ddec24f414f91db52b4ad7adaac",
            "05142694ddc74066a070b9d7750eb404",
            "2acf166273d847ccbe05943e03467c08",
            "e98f481e4a3c4cb7bc6ad1562e15ed68",
            "8089f6c38a2147e7a2313c241673f33b",
            "aa169869fb5a4cf7b66a8fa4adad5eea",
            "892a7be60fff405fb7b7087976ae833d",
            "46b765cd2c9b46799bcb926b27535aae",
            "9634df54487a4ede8d0026c47eeda0ed",
            "49eace5c266244a8aa845658d97077c3",
            "c8bed85a0ad94a3781ef2e2ea4db23cc",
            "939c2432d3ea45c09e82248553943100",
            "048008b764334606a206e007aee3b69c",
            "ae80e85e4ee64693b4ace068cd104213",
            "57c64ba5a7424fdba6dd95fca2b64e05",
            "601169303bf54c92872d70c687651bc0",
            "799588343f20437e915dc3033ed6154f",
            "f7953617f47f46319b47c15fffd5cf0b",
            "dd4714c9fb8349e8b9df2efa056a70ad",
            "2b5a3898b254417fae1f0ecd8c3fc79f",
            "88ff694f364d4edc8444c2a2f9959d78",
            "b65623995cc847f9b5b95454d54a4bf9",
            "fac99bb7c70340629bcbcc84751d7987",
            "8035bdd5c9af45f5825651c4477230dc",
            "6e603410c11d4e87bb0d5364b521aab3",
            "90bdf7a699b240de9a8f7e800eedc126",
            "bb275d3fd25543a795809d433025070e",
            "bbcc83657c48445492f6f4bb918360a9",
            "79d2d13b6c554612ab9dc332f34044c0",
            "5c01cf394a9c45e3bfafbfe4221b22e0",
            "8a9cd66ff81e4ef9bac37927890a6b9f",
            "4af4d18b393448688785951772e7294d",
            "067d80f6009a43568bb87e3d51f47567",
            "7e22b80312904851997083a7d3ad12e0",
            "27b9f59771404200912d8613dffe9210",
            "0c15e9f95bb4490d8317e6a73fb8672b",
            "7e37c9c0e2984ce19f3fb526ebc1a8dc",
            "97eb58096f6546bab22fb609e1d5d13d",
            "d26453d6d8834a05b7f255509e273c7b",
            "2c1042ff4711497d99792240d89ec3a3",
            "ee46e9010375420795772715711e610a",
            "4dfcc0212b2b49c38913a173d89e8607",
            "254e93467a604094bf31e7b09f879861",
            "c7c57a773343473584a4973611538f40",
            "03a9087cae6848778bdd54d0b5c0c9f5",
            "c1aaa460b1864aa4a9095aa480bc167c",
            "4c401532546648738472d16a33231504",
            "94b76c209eb745249e0263d9ff4a42d1",
            "0662773717d941ceb13664eca15ae553",
            "bafa73f628484f82a5750450cfb91261",
            "06e40699ddff4df7ab2569934c69c14a",
            "17fa42e363bc44f3b542c899f9ab5705",
            "703dad20bcec45b0b97a529b3677f22f",
            "88b20ecb64ed4aad8df056a4e9709769",
            "66c35277a9764e9d84425e139db73dad",
            "dfea2a686cde4fafa29b6017f1d6085e",
            "1a004420fae54f9bae0eeecaa3c334e5",
            "0c364f34f48d4a94b3e2a8a93c40d424",
            "e5aa88af0b3a4ddab3b8699e2ccc2dde",
            "be4ae5f3f36e435594c92d12f89161f7",
            "e6fd198327474e8590cb8814e56da10d",
            "d0933735dc8f4bea8e7479b31c80ec08",
            "f074ef10064c4ea1aca9954aa94556c2",
            "60efeb972887487e9413d9f6fa7f5dae",
            "5328f8adb9ac46aaab34bdea46482db6",
            "dc58d2ad420948eab2c3e5c1c8de6992",
            "3dcc5c84831a4816b6d9a6ee30b9d87a",
            "7ba8936c5605496fb8f2fd39ae5584ed",
            "cc25b535d09d4300931e7ce34e6f97e3",
            "17fc81e47d424a5b9a9a9feac295c632",
            "387c13615b6141a087fe8ee52fb0fe83",
            "ed467e4237cd406595c1afbd905b7b2d",
            "ebb64b3356884004a25ba9420f27aee0",
            "c39cccb85bd7481abc1a2886431aa077",
            "b6ac56f99de149a8b722dfa1ed5bddd4",
            "c419f6570b394e64bb7b547a712b34a5",
            "3622084c4b30434c90b6a12ca97a9e22",
            "9ad307d41eae49459c965c504db396e6",
            "7be2eb57368743fd8888ff2ff6fd1dca",
            "84bf408a0a1d4e2c8c9f7bcca9d31750",
            "10faa82bcc6f44b0913fdc9903d3ab74",
            "131b52200d2c41a0b1e66eb4566fa21e",
            "64eb9f7f94634d45886e2f88a682478d",
            "bedb8f080e6b40dab16fb4a0896143f1",
            "6c0f3f5e8bc4408c986958293c63f8ab",
            "f246692cb7344b94b2dafb368ca80a87",
            "2601039d006541639d0c292ef5e9ed63",
            "d71f7127536a4a0facc768a5d6c34340",
            "d0a0951974e74c4185fef1940ae03cb2",
            "f506c01e17554cb79d860e94c45cb8c6",
            "2e6c58e3097f48be94f3185473bb311e",
            "153fadf050ae4b6298878c27d5ee6bf6",
            "8e7377bfec7d4f3dae85993c1dccf642",
            "7738c6373a044713b0ddc33b6ea729e8",
            "773c0b3e06c043d8b775a43e70c62208",
            "96a89a11ffb249f38799d989a1ab0cb9",
            "f7f3813ede7f4a6cbc590a024dc6b040",
            "c4921bd88e01495098f277a242a1f3df",
            "9d231606b3e0463c8a9d9447a2f0da67",
            "ff5ea692571445ab9cd610564bbdbf00",
            "d31ad7d1f776473bb54860bf00e42c7b",
            "e25976dff7d94664b47dc41bdc701a9f",
            "e7c01eedb5bb4af6944ea3418f5fffce",
            "9500215a622e439eaa55772fa4e22236",
            "274871077c634708b1f89cff306bfd75",
            "584fa56d1866488093c848589970a527",
            "7786fce12b804b8ea84f5190939d6051",
            "f900d896430b432a9a54bd8a2223bac3",
            "1922bd1320d748468dc37ad53f1b2479",
            "bb5a5f5ae4024e0fbd242984ad5e86c1",
            "6a52cd6c643d4981af78080cdbd94d4e",
            "53bc213dd0e1407588006ad47abdcc12",
            "1e3fa9cd94cd4d34a7b8ef9a3b2d39fd",
            "5111052b327e450496e3740d9896bd21",
            "833b49e42af8478ab86e810e54110029",
            "fbe324fddf0646e995eada32eaabce6e",
            "1acf1af2c5fb4315abee039ab867aeb0",
            "8187b96be14c4b1496df196932d04b98",
            "8d7aa02abb814683bbf321d182998240",
            "b22f78d4d4c84024974eef9fabeec108",
            "8051ba6021844a799d6f098005c04d2e",
            "fd95308122dc48e1bc7eb39c5d97b179",
            "a389c5512dd544e6830b7ec281c108e1",
            "20274f2b66794275b55146fac9cf68b6",
            "63b2189b95994a1c9ec6aa8ac281f6bd",
            "bf01e3d4ba85456eb8a07722b975c6cb",
            "1c6253021b9b4924b638952b2056baa0",
            "14ab59a5425e423589a4d0654ca886dd",
            "609439e7f2a8499b84e67be92d1defab",
            "e461f82f23a74a10a54d3d236caec62a",
            "c39e562b5b8444769a1765b0d49610c3",
            "1fec764705ba4ea5bd58a4abcd814040",
            "0cf5cabcf2044b86b3e264ccf82c3587",
            "b1d009a7ea944b63b88582f6fc7f974f",
            "c16e123a2fad4a7eb67e95e9e5ea7c24",
            "d229db13f18f45f98c56e386c07efd90",
            "5d6fb9df690a4695b4f88eea8fef43ff",
            "0bbe513e924442c08a1f2abf54aa6fa4",
            "026999cba05540d99b9ff516209569b0",
            "915d32af1fa44a94b78a6d7d35f3b5d4",
            "a6e05e7062fe4e11ad7e6d29f27b20c6",
            "c636154270364760bae131c2ef6738ad",
            "617af1ff44e045e3a2de5d2e7ac60d68",
            "5bf5f9fde6574111a93677d95675af10",
            "4f0847f4d260454daeac274d2493130e",
            "dd3cbc46ec3a4d4fb1c0c73d773c8683",
            "c859decdec7a4184ad01390e7b9aaf3b",
            "8d57275efa5b46e7971d93f7640ecf1c",
            "c60d433457e64c09a846ba9ada50f3cf",
            "53df1ca8df564c1785c9f7276824e032",
            "a452941ecfc34bb79f89fe41749235ba",
            "c47a37fac8b841a8899f7dbadb819b0a",
            "c80ca4662a5a4ef48ddaf69841926836",
            "e7d1d98f5b85473faef3a4b1d8d09529",
            "989c099104744dcda9da4ca932b1046f",
            "46b0dca6e6f648aebd96ed7bd049a70f",
            "0fa48f7ab46540fcabc8fc4b2e9357fa",
            "b833f7eebf6948cab1c4aadbaf108cc4",
            "d68aacecfa394ab38c95b7c8dccb4d2f",
            "f3cb512e956a4425bd99345f61875aec",
            "6c2446b642c245a6ae2f995004d6e5f2",
            "4805409691e5409dbd68e4016ab4879d",
            "729671fe41254eb4bf5a584087944a8e",
            "47f49614c4ed46acb0de13c867c850a0",
            "12839c802f884780b829f6411fba32dd",
            "c61da7be2e3b45d2b5c52e5340bbb486",
            "48e3a86233294175a00ba3f07579403c",
            "7b542c1d88884c3b8c3a6af4ca0a6ce4",
            "0f783e36ae7d4a56b2ebd1e6a84f4368",
            "3be425a8e7274bf3952199e709e68e61",
            "8bede903491f464b8bc69bab3a928b2b",
            "a92f732f93c5451f82785763f065577e",
            "4a1ae7d805f440939b61474888bf42b7",
            "a525d192c69e46a9958f5636855f077b",
            "1ee4789faa5749ed90e465e0ccd8d8c1",
            "24aad9d7f4c34e4588f888010d765a87",
            "25729a25b5214cb4b429b2f5001ef56d",
            "a2de55912653414f80091da35749bdd0",
            "4e1141bba1fc426a93bc025b57ba3d18",
            "437f5eb6a47a4074bf14aaddd291a8ae",
            "843d358ea48b40309882e78829967adb",
            "7830e27781af458688bfdc5f3066454f",
            "33eca06d05b9424babb3de7f07b693c6",
            "5d7eb6c3eaf24bacae49cf99a709bd56",
            "0e98718f006d48b486804ab25dfb6e00",
            "0bc8107ae70f4e3f892e752a91d2bcf7",
            "14b8359fe79d42169620856cf5b2ba2e",
            "9868310cd62541d99b7fab58ae0e6f4a",
            "cdd8dea1315f4ea0bcd0121d349bf4e2",
            "cc6905055dc948efbe4adb5894150dc3",
            "5dc836004d5b478aad3c046258d2b158",
            "c71263c5f64b461e8647e11e6959bbd5",
            "469a1978cd2345ddbd4da81373dbfaee",
            "db58564ed88b4b83abc1b5194b44618b",
            "bdf4cea85d154a7bbfa9d12e9f54a488",
            "b549787ef6194b839fc97a2816c33ce1",
            "bd77fad629ea4ad19d18ed43dcc2c72e",
            "29e1eb91c7434286b0d4abd30d7c16d3",
            "41fe4e2a254247ec99d77331ce5a30ca",
            "820a82f9b065479fadc73ab7a50a5632",
            "e79ad49214884981ae11e1296b524822",
            "124797df68c7436a9c9327dd4c4c6762",
            "22d1297b36d24887a29775f6fbddc16b",
            "2874d3c4f13244bd94deedf8a2bd2467",
            "48a6eea548b34e9b834388c459744bf0",
            "44a8f0365f8e4b60a3de1ec94f30c78f",
            "dcb2d68d2edf44778ca1fdb2e73600d4",
            "d446839c679e4c1da93354ee7549e693",
            "c0015a8b1da148cba7063012cdb29135",
            "a2e30772566247dbbfe182a954ad5fb7",
            "4ee32a01d7a84637928f7d976c73e5ca",
            "75abdbd43d774b2ab78da956346e349a",
            "aef86f762ce540bda91c9e94bf1a353a",
            "a9c092d77c724d27968e364831c306fe",
            "f95cc07d56244bb69765bd749a8d6a1b",
            "fda63268a1ef4e3389814d2d423a8ca5",
            "88554fef86e340899dab62dc67ef2686",
            "7369477738114c069c350ec8b35f8c05",
            "a8fcd74dd27c4cfc84011629aedfd886",
            "5c52a9c9f1fe4ef3929aeb41e0b84915",
            "d4e596a61b3f41738b55cc267e3df883",
            "e14e541224074b87a0fcbfc33026635f",
            "b75171e0ab564981899d02108ff78625",
            "f3aa97d99423419c9a1c33165481021f",
            "45c59afa307742d9b8059f244dbf09d3",
            "44eb47cc1ab245f7ae04764e67d2d439",
            "297c32dec5f6477386cb314d8537f814",
            "c39d77b4dbd744f8a4ded0810c4394e7",
            "f1473afcee8c499eb55559be51069081",
            "e2f7dea0d2514c6c9fd0cea2f797b1de",
            "94d01572d0c346ed995dfc65a300cc52",
            "5830d13ec1334a2ca86753588eab2981",
            "785f68dd33114e93bd47a66fd2bf15f5",
            "a78c3c3172ed46828ca239d0fb690e7d",
            "c87040fecc7c45cf84028b12792c2cb2",
            "3723f483143b4c119e97ac580b9c908f",
            "7aa88f79bbfa41b59c68c01a251b1a46",
            "3f1f1730f2334ef9a71ddbd5c03bbccf",
            "10c5f83e0dd94459be6f111358c7f5b9",
            "3c1e94767e934eeaaefaa502c4ae2cd3",
            "ebc5a77a82d74c30a60d229de6853fe1",
            "11d925a717434bc9abea140918b0ac52",
            "5008ef21d4cb4424bb16e56bfa40bd43",
            "55b32b1628bd4c138150dff9e2eb041e",
            "fe33161c6b5f439f8c8ae9e2beb414ea",
            "07f19f0f5790499d857bf5fb169d5560",
            "0e11d6032f5841c1afc65cd0f8dfb511",
            "ac61b829929f4e70942e72ab7e7d5b3d",
            "67a6c554ed3145ccbb557e26762c43c0",
            "5c69c2f55e5a450da00fd64604a343f5",
            "e7d1f3d5d6724d1382342571c0aaf615",
            "c4d4436b8f53422cbc735ad347c860d4",
            "c69a33c6fdbd441d8240a005030594cd",
            "5997062d4d784ee0ab11609df2731a26",
            "614805e31ea8465190a3f24dc8f0a5f7",
            "cdb6a93a5e884017b12d5d65b05fa426",
            "8b14acfe486e4201ae17c897f0d462d4",
            "682dde8cdcc045f9bc1441170fb6ada1",
            "f182c852f6bf4b28afe99ea47bc234c4",
            "ef70096f6cf940fa929bfd007bfe7ab3",
            "641d22c3e13d4f2aa9f460f4503100f1",
            "258fb4fa298143268e20de46ffb73101",
            "117fcc5bdd674771bfbb2b6667acf95f",
            "b8b89b989861471da2fa4d2af040f15b",
            "e004781b78b64e62b8a797043b7d5653",
            "81acb8fba2d947749f9d52ff333d45ed",
            "db70a97361144229be75e2882a94312e",
            "d1d274b5cc654f86b272f3f94a6d18f1",
            "60e9bd59bfce48289faf62d9da7ad401",
            "32e6327ec8fe428595088ac1bbdc1e4f",
            "823fe12b1ed44c66a3e456e596441ce7",
            "b38951f07025490ab3218f1799dcdec1",
            "f9032597f8a94d2483d7590fe58ded1f",
            "067b27169adf4349b8c62326a399a639",
            "7fb2745ee50946e787100d8230463178",
            "1d61ec43bfe74e9c92bf7fdf684262e7",
            "4599eef2ac5c400f9b6cab400caef1df",
            "cf643f90ffce4984ade9ab42efd97119",
            "f116fcf6434543d09481537886bcff4c",
            "dc4773f4b87a463990ead1c92a71a926",
            "3c123dd1d1734bbca93b14add6b252e7",
            "e1cb20d085e048a0b641691193002fd0",
            "158dcddb25a6485ab23b200508692579",
            "c7afc9a0b6ba42adbd00a611201046f0",
            "f0af1e7516b540d784a9a0efdac12710",
            "f7020461d9ad4c53ac8d2e708ac0bb86",
            "0486e26e80d143eaad5c3a156b598507",
            "4bda26e6811e42ba9b080acb73f3a300",
            "380996f9980048cc8cdcc72fd31e5214",
            "3ad88d95bedf415e89edf69c449b55d7",
            "31e964190ebd41c09a4b154140503034",
            "e0f8398bde7f4ee286c5f2e7b19981c6",
            "c44f78ff32784c68bb6cd20dd209da27",
            "d88deb5976004ceeab1a2181153a9709",
            "7385afc00f3e41aeb6d928b647e3a89c",
            "63337f087fef4548a44a4e46ad547bc0",
            "76fc19d4f67d477eb653d0af06f24b8d",
            "aeb568daeb4d4e0db6a35b83f3cabd36",
            "0abbde9d947f4b4c8d82037afca766b7",
            "1fe73629fbbc475c8e591f1e69ca2650",
            "4682d606d2dd419a95b863ad2d9de533",
            "26db792e0b6040bbacffb3028103ad8c",
            "ce66cbf5552b4f168cc897c3f110f846",
            "97fda3003adf4567ac7bd7c462887ebb",
            "4c373cdf49014d6aae56e3d67df63f02",
            "191a2eccbf7141708ed21edec938bd55",
            "658513f91dac417c9fddbb1dadf69a26",
            "0258fb9bdddf485b838a261ae6b285e9",
            "e43201b49e444917aadcd03eab1942d3",
            "cada43ca22fa406492bb6a2efc8d01ef",
            "0d2cdc370498417c818a23e652b9f05a",
            "4592065d600742a2a1cfb917983be18a",
            "a97bdc58847e4e5fa920191f092251bf",
            "d40fde196b0249099a00a15c65039cef",
            "4b65a0bca0ca4377b5a03cce8c74114f",
            "bdaaf5951bc2452e9651e977d022e58d",
            "e548b3c3da954d4ba7eff8842901e9dc",
            "1897600a29934427b6e70323a1a01925",
            "178ff6d93bcd4732b55d5e3b99ebede6",
            "9b73afe6f4924b1196f1ff8f79d90bfb",
            "5cc076d48add41728f4bea9ee649f74f",
            "278eed682f2c475291de37431025d1c3",
            "44891236591442989a1c1ff0b30dfab8",
            "f7640fd882cf4e5b9203d4f0be610d73",
            "4e6ed48e27a640c99b79aad66eb2d12c",
            "2cd97687e6f74decb254fd66e50c36ca",
            "ab1427f1eb594274be68eb804bb03a47",
            "fffad5fbe9cb43cbb7726ce6e1ea8107",
            "4f173b30002240e5b4d6a14cc6ab4200",
            "ae1d3bc6ee66474d89aae96c1c52396e",
            "51c146dc67c643abbaa19de75d8c2d08",
            "ee1d3f9c18294ec4be8a1d045f62df25",
            "ebc69e04dfb94a57a5570dfa4f8e604c",
            "07a18c69fb4a4162aa8ff97cc5aa1a62",
            "542b7450ffb14d1b8b78bcf79bf5926c",
            "3b56946aa1f94872a84cfb7f904cd3a8",
            "a33bebfe700e4b2a87e1636616a08a20",
            "73d12f13090149fb937e08ac34f619ff",
            "0cf10da463dc4919a4d161eabcb693e2",
            "36398c94d11f4ea4a41256dcc961f91e",
            "ade86eebf9bc4c169c66959672229913",
            "d98afcf4535149c8ad196c7458d9bdc9",
            "2c9e1537766e466fa872549d2f441375",
            "d7303b5b42d146588ec1a8d0b8fd78d4",
            "af5ab4f88e8345ca95bc2cc58bb622fa",
            "37d0ba10f0dd4d24bcea6f64befd4846",
            "6d2a1ae14a614f2aab7d81facc56c769",
            "aa70869bbfb74b2fa03123faee41b395",
            "3a014ddaba604a818faef3d3ba4a6225",
            "5c5a884402ba43b1bec82181a94f21d4",
            "af90ed74384b49aaa58bf4ebc7887718",
            "7e89bb33e56e4d95b27d7eebdbfe6d8b",
            "527031b3435047f892abff9d0ac48e31",
            "4377198c909c42b2b66a8f50de50578b",
            "8978385e34cf47c2b75866917980bab7",
            "b04f9f4382b3469a9c88631cc99050c7",
            "d77a60ead6e5400fac21cbe82e60891e",
            "45e9d5e3c2c846f7b4c24eaf4a75703d",
            "10de6e970eeb400c94c7b7381a4aef0d",
            "e76630b16d4e4050ab88d40723fcda28",
            "1ce99603c6f64bcb9943f407631f588a",
            "2b548944a25240239a758335f6e0edbf",
            "e07467ecd4614500be0f9e2b266b5c3e",
            "4be5b85fbade4496b48d42ef8b65f407",
            "82924b5d5eb546a695977873c627f0c3",
            "29fbe3c0b31645e7be379dd20c881509",
            "b3186676776545b784e418472e592113",
            "b51580f9fb244294bc1666270c987e2b",
            "c765851aefef4e59bd8850fccb56620e",
            "b6d414f5c5894cf3b15ea9d0b4ca2ee1",
            "83fe1fa62f3840e1a3842cf9c58930a9",
            "adbef497d8fa4ad78b3a86d2366c78c0",
            "62b055e9373e4bcbb7e3c85920bb5aaf",
            "2064525ea13a427cbecced3500b6e6e1",
            "9646c79304bd44e5b00f0038ee2dfc2e",
            "74418c4867484aa6a3dfbb89839b30b8",
            "3fb007115549427794cabddfae97e3b9",
            "14213d187ebf4a08a11df122477e7ec8",
            "becbb85285be4ae2b3837934857d5f5c",
            "764dd6ce45fd4bec88b76e2b201191db",
            "b63b477596694353929e87d0e5d5e6d5",
            "92aa5c259b954226af0481ba8cc22344",
            "63dd5e68d9b7464ba123ea146ae61d0e",
            "6d4538447b5c473d9d685b6e67e04d3b",
            "60cf1b2d79144c5a900b2b08d8bbfae3",
            "caa4bf84b4824f5f8ec1344aaabfc138",
            "22a23d421be94c409d328eaa0ae04dcf",
            "1a188d1dfd224fad8d62167a08a2ea9c",
            "dc65e5a50fc94291a0d88cf4a2d1531a",
            "c7709d7d14fc422487182872d32176ff",
            "77afe57701e1420095de0838a897045e",
            "c5805584f0e64bfeba85999e19cef2da",
            "bf05f7804c07441f8e26ba765de0d4da",
            "a00d0d4075c0419c86227fe19ef1cd2a",
            "28ada1d7253b4cf7a505b3dd69eeab70",
            "83032b5660474174bd62f67755fb645b",
            "5000e5a2a3f24d83a3d8aad38e808526",
            "bb736714005c46ac93b441ed584c1f2d",
            "6b700300978940d3a02a0cc1c9a71d0e",
            "1a76abe0f6dd41cf89acd0dc6e392726",
            "c5102445220b49a5bfb34963dee45f9d",
            "d80c1a03720b4553bc1db399333c51ec",
            "8a2f9d575cb2402c97d5e4d85a9e81ac",
            "ee230eeb71664532a0cef0859394e881",
            "7aafb42e7913427da93c65cb3f31d953",
            "8d777c24b4134d29bce242dddf169cf1",
            "61193be1b1ab46cf989f48923bb29f5d",
            "3e704e19db6643488783933cf03d2ead",
            "9cefce7047cf495ab18372bb6752a3bb",
            "81ffe6a7dea8447faf5b81e96550c19d",
            "0a82615201774118b2f25dbbfdd0c849",
            "077f36db8675467e816c1e7e2529196e",
            "fa312277c58d450189532871dc768891",
            "526a0c117b2e4d9194b4372517de908e",
            "75b46585dafd419292b17f9e45f64eb6",
            "16ab6249a4554beea92ab9413ed8d098",
            "08ab861004b94eaeb5ff3698275b03cd",
            "55f9739942b449fba0a645a9f1787f1b",
            "264987852d7b4e668a30f7e8d69d9407",
            "ede5ed9722004b4bae155b1e08bc585b",
            "5b6da482df514247b52240c5e04d731e",
            "1c065d4109094f32b988a61a165123b1",
            "06e88eaba96d4626a901fff3d273fe8e",
            "1a2c072e918848ff95cb187c546ba82c",
            "a010dfd6fa964d98bb5857549bec0927",
            "af3b3bdda16641949ba5c4b6c63088ee",
            "bd1c9519d8d24a9fbffca1be8f96f126",
            "41a7ada3217543cdaf6a63ddc1060bc8",
            "21f61189e2ba418c9d905cf3a91b3b1c",
            "4c6dbcaf46654b0c920973860bcfa20c",
            "c7e185ac2b4b4f3bafa48b3bbe466795",
            "bfdfac26729c47ebb3fcc51219a1bc0a",
            "2cf40b30fbee4bd5bae79f261c41fb16",
            "edc41330fcf04bf3998ce5530d2aac43",
            "9b011710d3204fa18bbaba263f8e058f",
            "d9231697c02e458e9da54b30a297a432",
            "481de66380ca47faa10413f2f7180bd9",
            "eef2ec8757054453bb596c50f02e557a",
            "3edcedf413fe44fb8f94eac4153d0e80",
            "08267bcd34d74a18b9ae8a2f801e08dc",
            "974108a343c44ed5bd80f2fd847f1ace",
            "07ada81edb164dacbd71ae7777a76d88",
            "01c6002cff0e495885b81787343b2d65",
            "90d73aa77ba14e7fa91e6394503cfea5",
            "d6dcc16dec1e42adaba526b5a7fac2ee",
            "b2785e3c991548f9b7b83f5decea524d",
            "bcc901c3e96541048fb8637993273a34",
            "a23e20e2bca84a6b94f3b9285501af2f",
            "b9af438c4b284959ad4f8bfd115bae3a",
            "725cc25aa3e1411fb1c2f5ff9d094301",
            "d78956712429423bbb66c740ed4d2541",
            "8c2f2124a9af409a93b0d3ed70413b57",
            "a7b8f73dddab48a7b8eb784c2b7eb728",
            "c88a19bca7584fc4bef438fe3186aad2",
            "e1b39374be3c40f88132fcb73a1fa655",
            "a1b559a8e00448c7838cbbe97ec386cd",
            "d24d11b9c00c474793c30656bcbd7ccd",
            "e5b2468bffdf438082c62fd144602012",
            "3bae164ebc5e4681800e79ad453c5883",
            "bfb7e7b5b7534bb5bbe9ebb1b1b81706",
            "90792ede2b244b319e1dd459561660ba",
            "5bfd7715d0e04d84a871a286c44fcff1",
            "4049342cca79458ab16e617713e8eb9b",
            "5e5cc8a383d94d97bd1db911012db6d6",
            "7b194a2350ad44b9b67757e8798527ce",
            "d52c2a433d8c45f096db730d7c0f135f",
            "7195df44de924dfaae5faf11f8254ad1",
            "47153e526f314e4687e3796947ac50cd",
            "ff345d8038b84d1db42f53862032f693",
            "6b870e169f1f4bbb9b3caecfc016256b",
            "465acdb4ff7145d2b777bdb3e278a3af",
            "c83e0a3fc9e142029997d98974b464f1",
            "623f0b87b0dc4e4bae5dbb35610dab6c",
            "534dd1fe5c3d4f63b6fe25c6ab098bfc",
            "0f44fa827e384bacb309d4e3b8d43a6f",
            "313c7465300047b484a55ddab8fcdd1e",
            "e25b8232635d44109b4c279e670175fd",
            "9e5b96a0181c4ff6b711f06a4aed0f48",
            "02ee4eba0f46423aa8680bddb0418f37",
            "f66f2efd528143e9af8cf31a3215d6d5",
            "cd3dd484d23c49df948aa85a8eb82658",
            "3fa1642938fb474d8ad8f63232e575f2",
            "e864eaf6db8143bbae59e5b41faf5a65",
            "4d310f9d0c00450e89987fa5328db3a3",
            "a55152061c4840798855d811626d0a2c",
            "1b18cbe9ab364b5da7796d2dfb7e5300",
            "ddad5156ea204c3a97d8eb0bb9364f7b",
            "a90052abc6514bcfb3b6e2d30d226637",
            "befbf6a3c15b473187de12e2637b049d",
            "4af7859a787644f6bf01c99b5370c9b9",
            "ab53395c9bb84f9aa97918717f52a31c",
            "380fcce9a09e443695fc228981ab3d2a",
            "685e1e53bbdf4421bc8d6a73ca19e635",
            "849e23b800644b7c82d2249cfe2bd070",
            "b6181519f4384601975f97950d0ce8b7",
            "36966fddafc94038804685509afc4b0e",
            "bfce5731e6e540cebc2b463d59424117",
            "82ea168c38df43498f8b4be4ac1677cc",
            "999f713ea8b444b9991caab16d14ba03",
            "d0bab45fd50248eb901b364a77727ee0",
            "0844ef319463464399db36dc752ba9fc",
            "85aa632ff9a34218b844831e324d6c9f",
            "ddcc1f9384914ac092e872499b21c6ef",
            "e83c48610b654ddb81fc0d1b54c07896",
            "bfd8727a46c643f784d14d938e5e168a",
            "b1f470a3d47c4b828b854709c3387f02",
            "07577540880c48dcb7620d357d970d95",
            "2ba190609c6846b496ffec690722a13b",
            "cc4f4f0fbb8146109acc0d6ff0d1b15d",
            "e8e1853f933b4e47b12a4de065d30617",
            "09ec4cce907f40e58a19ea4dedcf8300",
            "38c4cd45eb2b455487a8e28c5cc1f6f5",
            "5d7974e0f3b749e2abef4d38dbb457ac",
            "fd02fb1d50004507bb7181e7834f0088",
            "0f8603d9b115476a96d2616b5b57036d",
            "d848d39ad5ba45dc98e74febf8c0b8d6",
            "ece75112ce2a43a38ae383137b1c22a4",
            "62eb7c7a3e62487583c2037b3d5f9a53",
            "6636d8e4cf6245e7ba4ca43674f99517",
            "ea00cdac594b4704876b9db4f4ab0666",
            "6c12f7814e1a4058aec831668ad0ec2b",
            "86c8d4513b124545b9b69bfd652ae8af",
            "f2dbe6ab9fbc40a897f61bdb94ff1a19",
            "ab73f38af59e4808bf745ac8bd7ece93",
            "f04c9012abcb49fbbfe92d9c23844e2e",
            "09e5513d97cf4606aa6f1bfcda8ae068",
            "0ac6a4904587486795a644c12c1a30cc",
            "ffa3ce221011449c933471053b0f2ded",
            "2e32e2ad132e415ebc9bba7f3d41dba4",
            "4f46b9604eca42e1b91aff78981c149d",
            "8ffa55a592eb459f97db9f6e00a8d51f",
            "6ef6350857884e2eb04627274e831d24",
            "6b77b858ac204ed381f83148f191275f",
            "ac15b1c8c87f44ef96cb89bd3c0625ea",
            "57b1143b68334798b8b376ebdf5a3e85",
            "6d01aa492e064a479f89dd759ae59ad4",
            "98861fdc835441ccbc2b6ba6ee4c49eb",
            "ceb0101eb75a439097b15b2990bab520",
            "4ed69f375923446b8d31fa625ab6cedf",
            "75dca7b40155427f988f56596051a76f",
            "74b4df7802ec4154bc975232c8ef12ca",
            "06ce6808ca19405bb00b8e278716d6da",
            "8fab6693e72f47cab5778cf4059f2d42",
            "88e592e05c0444e6908969c7eb59d56e",
            "f94a2eae910f4c94ae71869a637ce2f4",
            "957540c53dfe4141915725026211409a",
            "82f0c86daa7d45ebaf9255f3323e76fe",
            "9cc63c9250da4248ad8655d953213c3d",
            "89e135ec948641bebd231e33a2e53e94",
            "dfc2100508ee4063a977b6d502c62da9",
            "4d46a02a1a9a4941acc1f1fb3e779b21",
            "494e0e9419d04b6a95e25cfb3ee4faa4",
            "b08193d68b9d4153a211dfcc124aadaa",
            "89cf73f67b034959bcd3aa273a62f8b5",
            "c6e78d599c3f49848a629edc5e65053a",
            "3ebd6e0660b4422485b7f551f89bd4e4",
            "bc916131d853432ab2144c485731e30c",
            "c6f77104328249eca0e77db00f3d8035",
            "e935c4f380564c4c831dac84bdc12ed6",
            "d63c02b9816b4288ae444a9b8ccf8567",
            "bff0ebfe95c64914bb2cad3c00592400",
            "cca3b6d9a7ba465fa8acd22c63f97564",
            "4073b550cc3b4906913cd9a34e81ab13",
            "b4748d6a31af43049f884b010f335bd2",
            "04baa30b0faf492b98ef62658b0a4e03",
            "18c4eaa9e07948639886bbb1b16015e8",
            "2911fd94e4c1461ebe3c93cf570e62d8",
            "827c45be1eed45bd821c7fe394083b2b",
            "b1705d7b7f3d458ead7d411a9cb65286",
            "f5f43237230f4e7d874bdc6874472605",
            "b6a046470de64f5391d319c7968a7711",
            "d3a42bca3dbf4e9ca811993051e2d47a",
            "6147a4346e804328bf78c4bba127131c",
            "88e9e9736383401c813ec8449a0e0a9e",
            "2f054e89b2b24e25bc0241a34c4f8640",
            "1ece366481414c0eb890c80792604cd4",
            "56a64d21bb5343df8f3004f63364ab1b",
            "a35fa8419ca141b0bbdbf97a9bd5da74",
            "c5aec58cda7b456ca7232ab943b803fd",
            "7ce6e2c309004d1d8f853fc78d341598",
            "af9323bf008340bfbec231d6fbc20a47",
            "25757d1f12df4d47b537e4cc402b0d54",
            "2a4868a57f3f42ac8febcf1f6cb121c1",
            "a603da53700048a7bcbb561ab859b637",
            "c4b2bb101be543498d31017d05de634e",
            "ba25088d1f5b46d49f7c9d5dc0208742",
            "714162323b8349b9807b405eddb0a3ad",
            "941319e8b9bf4e0c97af0a80febf22bc",
            "3dab9ccadda84935be31e9831c33baee",
            "dcb9e8c5a36e452199bfc5d1d34ae4d9",
            "34f521ed595949b490670c99761b18d4",
            "d7cb0be8207541e3a7ccc4061bd65589",
            "9033d95dd41240538319ff1c761a3766",
            "4729c7b314954f2b8aa64e231a1d061f",
            "d6c86150fd2f4d4da904dcb57517ac6e",
            "9505f5dda7e34987b571b75f0072a7eb",
            "ed3acef7c93440a289d6aae629124b1a",
            "c6dbffa51890490b887eb790c6208a9a",
            "91f6b1bf3d54417b89dcd8ab5c8c21f3",
            "6b6c74a459584437976384b45cba45db",
            "363e8807dedf492982f024adce29ec7c",
            "d4e30ebeea07469c8f2cd4f65e98e6df",
            "0bf58a109e2d419a8191b27a72d3e71f",
            "5e846aaf189d4fa7b5952815b72f749e",
            "f97708245f2b42dfafb39726fa54e5d7",
            "ab274d944546424ab733088118f6964d",
            "87de850c22f642ceacbda893fae43dfe",
            "da589452c9184ebebfea31be0e7968b7",
            "e1bb117746664b2189c885a090072c34",
            "2740d1ffc5404f42824b71efc35199d8",
            "55fbd9ec878e4e48a6e4a097d4d299af",
            "26d4ed624f9645268b37dac5ddaecf17",
            "cc07a5501a594c2189aed86bec02adc9",
            "9ab12f520ab840c68856d6c8a712e5cd",
            "512e0555bf6d429eaf2439b09229b05a",
            "1d8c3ff826a74deba801a8edec8697f9",
            "8bc2f1d17dc54c5fa03bd70b1a9106bb",
            "767b36224f58408f92c1df8689223e4d",
            "366c1b2c7f3847cfa1d35836d2502b67",
            "bc823b4c71d742a59fd70f73a5a77956",
            "68a1a05f55624e9bb7189a48dbdb4288",
            "cff6cdff0d9c49f88df3c1aa397ce85c",
            "f93ac3978eb3401c85353d06bda95f23",
            "c634b273c6ab493c85851daedcce946f",
            "53c78a2d4769451e94984807408ee89a",
            "4cfa3dd956eb489d84e98bda9fb9d30a",
            "a523320169104e98842c0243927dce93",
            "acac10ea156b46c79392186558789c29",
            "b090d8ef5bf64e048107a706382ff4b7",
            "5ad40b5b561844cbb40c991e39d0ecb0",
            "f6b7390ef1d74cf7bf811161f326cb62",
            "819fe6d3445a4495b210a0af5b4ed04f",
            "5d861b730aa8451ea5e9b9264ab6a540",
            "042a4b1e1b384598a74c10408eccde7e",
            "a2abe663f4f7450e99c592a8f25238c4",
            "cfbbfd40c30744d9991101b974ec3c08",
            "250249ae6de4450aadbcc1bbe757c123",
            "c22c1c252c9c4c41b0f9602609c4477e",
            "49c37e91d526487fbcbf0d061b597ae9",
            "18efc434b0ad49d6bf219421cb464476",
            "7a4e7796ba5c4f76995ed7570ae9f971",
            "605623b908574102a5787ae202863d0e",
            "17823c3d923a41bcaeca095d1d4c004c",
            "14f5d4b34b5042ad8f29aad8804591ab",
            "3987e739e838416c82246ad9826a43d2",
            "eea1104b018f46849fb210320d4552bd",
            "46e5d264af19405baf614862b86ebdb1",
            "82cb7a31523a4f09aa34e3ea746aacaa",
            "0b179a233cd141e19e2fc78590ef5a44",
            "52a8a46f50ec4cbe8926910a98736ace",
            "627adc29651c4c67819de55046f4d757",
            "13396278a26f4790b95052515771208f",
            "6063e78ca11d4d7cb06c7193a59b70bd",
            "2ccfcebf180f4099b0daf0350a8121f4",
            "8c611395a7784e9d938b55cbafc39b5f",
            "c14e7ff24ae74b94b8a2323e1650225c",
            "d69caa6495034043968acfcf38633c9e",
            "5ab76c7057c74782be7f920bcbfec110",
            "f462021d5cc444149c73b1554445b9ce",
            "3f4a1d17dd9f46f69669d5b8a95ad846",
            "1876e308b99e4b4b96e50a17ea0e3452",
            "cb965184f91f4dd9ab7d8e7f465bcb51",
            "369e2cccdf7b42719471c5c945329724",
            "20b9b616b1e7443b940509eb647f848e",
            "450e08ecd2094550b73389622d5d08dd",
            "ff21351ff2e94405adac6e40510c74f6",
            "cf015f1e07e54044916a725cba57f6d3",
            "553073a5973f4385aeefbafde4e44506",
            "6561bcddf8d849d08cd2277474a42814",
            "1fc227240ee540d5a60bfcff086b28aa",
            "2cd3b1059e6345d58035ecec389897dc",
            "35352ae5f19c4a818a0f23c06e6171f9",
            "0359d0a9376e4b6bb2b5f6e77cc161f5",
            "a29b461233b345fbae8b593b4c6713c6",
            "e08fa2166040471dac5481c1ca05d60d",
            "b6cedd2c051840049228043421c4f475",
            "ab47188873954d698c8c9106630393c3",
            "b6983674f3364229a074dd7276760ecc",
            "0320fc1189dd49a09670b2890a465e4b",
            "db9240a021c34e399bb4f3b037a6f0da",
            "7873a343e07c4a42b5e53f092d6517cc",
            "9a940fec600540f486ad4a150b2e0c24",
            "5b92225f2b164d5fb0b98b7f69d9cf89",
            "eff6a3c42fe845a78779a70f38cd23a8",
            "9df12e9730794df183d331a107fc2c4a",
            "43ef05fe32614edc91cb4c3147901998",
            "25c5dde0d39d44eab7abd53cb93d83bb",
            "c71604efeb40464ca57cd68e5e9e9b44",
            "06141baa7e3d4d5bad8245b115b91fec",
            "d6dcee38736a44dfbb56b17a91f92f8a",
            "8dbbc975472743778c1898f65c287667",
            "31d867da889b4151ae5ad8fb0b784758",
            "e05f197ada924614b96d1d6babff583f",
            "b5ceb6abf9714fa98652c5759ba2613a",
            "8cff8e8c01514b1aabebfbf866ff6785",
            "b278b08b3dcd4ebc84b793127a93e87d",
            "2889b65933d14a93b85dc1ee1356a6f3",
            "de11ac68bed24301aa649cb0dd122f29",
            "8e809c00c6b84728ab8f4924b1b8778b",
            "ce4fcdf2bff44925ab408ada3e08bf82",
            "aa92dbe86f3945948d7ecc0765254155",
            "e758c02f74e44a5db158e19bbcb78f53",
            "fe8de30e09f44753836b0733932efd97",
            "1e9258c25900492c9b66d382a44df169",
            "0707a4b8f6644edfaccace0d4a095ac8",
            "1a0eb87c8c16424388cd6cd7659d39c2",
            "e54fb9a5921f440f866badb224942671",
            "a20db446c0964db78e8a5308011d0812",
            "9d4e5d469dd04c41bf231550ab436e36",
            "bd4db18c4e184a0ab0e72274efa16761",
            "b514e1112bb243cd832bb6ee82f712f4",
            "fc511c9d46d647f581a918878cc92fba",
            "008e3d2ae6a74a5bb3bc54ec1c7620a6",
            "717cd3d67889417487d26f8f4cc17c1f",
            "2444092f4a3146209c65d74c36e23ce6",
            "611f53b8ae914aa5bbdc3fc1618070e0",
            "1714cc43c40447cb8a1fcdeb4767dcf1",
            "bea73091f52e46faa8168b3f17ad669a",
            "a96f599205344e138ce535e8f7e247fc",
            "af21ac679e4d43208112ddeb120bfc15",
            "ce88a197287343968a705f374980f2bf",
            "e951378764c34794a6dfff0cc6cd0a75",
            "6c40bdeada954026b576ea6941f3c966",
            "0836677e00504cf58ef3f631e53693f3",
            "60f500a5c73e4d2b843d8dae06b5d98e",
            "7d861d9d0405403eb2988dd0be31845e",
            "1602121d589847f6b94b3433a656412c",
            "512f9cc78b8e43f1a0cfd3201901ca36",
            "aa2a84a2d887471991b5d237a017960f",
            "78fee8dec78d45c88224eaffeea64158",
            "b6faabc05a664af5a771ee6e237b47b6",
            "9d1e87efe5d8428eab279777784e8f27",
            "cce53efc270a44cf856c6625b2348f00",
            "0bf2d44c3d3a4932873d7cd18aa292ab",
            "b3ad0bdf4b2a4b198923c54e2f4bab0b",
            "5585bcde135d4a58b9a3c630a91e0c0e",
            "ab1c0d473fe64704a27d5ea096038735",
            "17b5805bf5ea4859a88fb93ea80eaaa5",
            "05338337f2fb4be2a681c127329685d0",
            "f7d4229f87874653856a6ef6e63021a6",
            "c38fec7725784aff9595dd044856707d",
            "1f8ec1b634dd4fb880e8430800d43597",
            "b1119b48532f478a9bccb9b0d9c307da",
            "807c1d4977544dada1c886fba4596818",
            "3d361f8d81394adfb276cc1218bdca87",
            "5b816c5221534a18a87d90b16b09597b",
            "2a9476bdd1664fef838b2c9a2c80b0f3",
            "31be9a108c394a2884d2756468cc9859",
            "a6c86b23ad6c4b848675f401b9c046aa",
            "05ad2127b275439d844f54a591b5e9ab",
            "fb690399afa6413ba2bb0d1aab04ec7d",
            "767116c04f5a46199f5ce3a03822005c",
            "84084a122f5a4453b1b8d0b9b795b1e8",
            "9f71c2e1fe5e496b9d7dd1bd77218768",
            "51e47def3695482d8256c789a83fba2d",
            "a02a91161fc947b5ac87de61dbe9ab06",
            "3fbba1b5c307414f9a73734810df0156",
            "ee7d353f8a2e4fa593367cf029fcf9bb",
            "41322e75b8b24f0ca942a863694c7cd1",
            "f1172cf7731943d8a4c2b9bd1b2eafb7",
            "66c4c85fb2b146589e2e9fe3226b8d3f",
            "98e80f1f1409404ea2dcf7aa5d356c53",
            "ad3a9a48940e4e3081bf9bada00754b8",
            "c0cf7b3ebe4f461fb5f0edb4c97e8068",
            "2d423eac3c534c6abbf3973266a5c0d0",
            "c92180afa75147ec82aa1ef3bf210811",
            "623b7c861c514f7788afa8378aab6205",
            "224976f9437044ed8f0fe2ccf1d56527",
            "5cf951e811df4f189ea480bbb7a21886",
            "a831534e826a4397ad2f3cc522c315ec",
            "21dc5231a2d4432eb0037a0e6f6645ae",
            "5a2196a2d7fb429198e02e87abde7cf9",
            "8eac5b6af90749b596a1c47bc7fbc0ce",
            "39d80cabed6146ed95036331d3778dff",
            "f31efb935f494b0c81bc82d979b70735",
            "6e75f64e66c44a7f8a91ed3c9727ab7b",
            "827be3a2a21046c38452ed4fc58d66a0",
            "a3d40d32f7c24844b294e14475449602",
            "82abd8e7230c4d63b7ac2798d3abf12e",
            "ef441eb9a9a74d5c8fcb78725a4668e2",
            "ff17aad71c5b48d680d0bc6def941cb1",
            "101c7e9093f5409db78e4200c41f4c90",
            "c69767c5b39a4bd19fca803c9275dbee",
            "dd13ee47eb16469988b38d4d2b965f63",
            "097262c2386842cba8a2654dd735bf6a",
            "6989777a69d04bfc8e43238e5bc7f6d1",
            "d7e5b13bf51442889decb1d6f2d2c1ea",
            "fffc7a958035494ba9a9d9e1dcb9b30e",
            "9f67651f8ee6490cb3cdea2ef3b28aed",
            "6424729518344e7dacaef4bfe05057d9",
            "22ee36fa2e8749489fe0cc20ff698afb",
            "36d244e66eeb44dea7e9456b4dd13090",
            "e163fda0b9764130a68b5722595064ce",
            "bbf5be9cff2d451cabb4907672a19d0f",
            "4a4783fad98248e68961b8ed76237f01",
            "ca525698518544c4b2799bf3138b6085",
            "9ca03404131e482baa162b3fdd8b543f",
            "11f6bec4b59e4eeeb63158e8b22822be",
            "99b92a6f0cb445618d6b098b27daca8c",
            "5bf42fc076eb455ea6584c609604c90c",
            "6d289a22236c411285d8204788dcc87c",
            "e85ee466f9874c64a6e6d1f92882fe7d",
            "89aa5ece1c624e4bba2a6baa2ea1ab4a",
            "90aaee8f7b8f478fb0acd65964ed5dbf",
            "83921c8abe934b669b592fe2f9e3091e",
            "967cd2790abf4e11996ed080f6c4df37",
            "cbc244b99b274b9eb359fb6b02e24684",
            "13a6afdb080741c5a2e426a31416afba",
            "b0f700a4788c47c4b32f7b912c47a527",
            "a8e9665ba2e24814aeb709aff3ed7361",
            "5080e285c0d84abba42a6902e1f03d7b",
            "a6a31fb5bbf9482993e9208fafbd805e",
            "2b263ccae0d74afbbcb4c5e286217591",
            "772c25d274634937bf0dc8a1fb78fad6",
            "8cc9ee3a16c64ae4befec47ec344b726",
            "0d3e9b49254e4b0a995d2d492f93b0df",
            "a18f3ae982ed4074be32767c9ee82750",
            "368fea6879af45408906ad3ace1ffa74",
            "8d80e68c23924439817f73e0ac0793eb",
            "165891d8efe847a69dcb341b4971ca0a",
            "2ee9b43be905461c94500b27519bb9cc",
            "e09ccc5fe9794ba986644429ba725a79",
            "7d7a19e7c0b24d8698739d990e815673",
            "e913a8d84a7e4ae8b6c42bdaa871e719",
            "708c3e5287b84d938885a42765e14471",
            "d9295ffd2963487c88ad79f70429e683",
            "1272d7f16cc04796bc7bfd6d0414e400",
            "9181ca35a92e4a99b5cb4fc989bbf960",
            "3fc8eaa8a6a14092aff7ec7b5aac80a5",
            "5a1c822715b841a99ace5a59e0fc1dfb",
            "7a395fd589ce4d1b89763c65e9748dc2",
            "82663371811a4393aad6b7bb2de4e53b",
            "bd9f449c96df4dad8d67ef6b92e856b1",
            "39b17f9f406d4b8eb83c7ba8995a5137",
            "c8f17e0b93e745ddb53a654187e802b6",
            "9f9e920542f04374a96385b9aaa9bab3",
            "06ef5f09467b4ce4b32958cc14b8afcf",
            "d27d2c2c86c84862bd430f59f823fe85",
            "28bd8ee918b647c38152435fbe777467",
            "c87a98e0228a425e94900c519363c6a0",
            "203d04a4203b4821b52ada43e2015f91",
            "e532fc5ce03d47cc896f419654a668de",
            "ce7083219ff64f68863d1a90fab281d5",
            "bcfcb94a2fbe463aa6ce9c2f51f6c77a",
            "c140e9a24c3843bf9719b180853b2f85",
            "ba38486bc0a84d0cb81be5705bd33799",
            "d08e9eec59bf4ec1b777ed34aa17cdf5",
            "1f62aebfd4c1401b880e06f59331d4a7",
            "8d9e4855e92b42628c1cb41c6bb10c45",
            "dda25b27085c498dab473b5716f8d146",
            "d3a4fd8cfe6248d0816705c8d0d758a5",
            "c61823c34a7a4606bfb2f15e5bcee500",
            "1a4510f73c9b47bab6b33010b6f7a754",
            "0a255b4740104abe9261ae8e1378b3ba",
            "49257fe81e8e4bf1a794022afe09b939",
            "47ba38350d4a4330b61c616365a13bf0",
            "8cbc9c94a27346e3976943a3db3efe63",
            "9afc1fa9b3654fe3b4d0790b2e3467b4",
            "812a4c98e5054004be1b08de04ba4298",
            "4fe6f6617ed24657a84043833c29dcdd",
            "03b10dc130fe4683bb3f86a5452eda29",
            "0bd486de39ad44deb87c3c4fdcc044db",
            "b23d5be702c8429eba1e4bf82ec40bb8",
            "da54fb9746c4471db59d6920ec41c213",
            "a6be9c45dbfe4bf79db096418f04c045",
            "66fc3336e9014b46999ef8007f01d05e",
            "ba81b45651434effbe8f28fdefd0e231",
            "63213d3a9f0f4e3c8f032a27b283831f",
            "e7572227716a456c9cfa671628708384",
            "1994d281e9cd458d92c975503f48d93c",
            "281d86e5a19a4eb69c6ba49dfb95c2f4",
            "e647eaa0601d4973b01bc3526f879c35",
            "3e7882f882d641adbef38fdfaab9060b",
            "5bd2d2bec1fd4c80a336ed44858c2948",
            "838edbe43fb24780b3a63e6ecc6a3fff",
            "ed0728dfd5ab4361960b3e15598a3643",
            "58051dd96cb841cab8c7c3583461eb6e",
            "3670715b38cb4661a4730ad4433e27bb",
            "a88f5c6b6ecc458c8be5a96077e60080",
            "c6ed9b5e72c949e09dbb56bf369b841f",
            "3833178e13814ecebe92893cc163ada5",
            "854bbca549264b59b159fa8cf4829a64",
            "faaf486950284387bac1e98d29d9dc44",
            "d90eae5b240948e5b2a00d510defd74c",
            "2dd3a597d4a84601a031bd6eeaa7f525",
            "6e1906a4ee274b888c09e53d0efaea34",
            "802aa01dd2ea445f890fa91f3a0ffcad",
            "3fcf7ca8841a4778b40d6321e4d6cdca",
            "1613ffcd26214855a33ff5b2ccc75187",
            "a25d86f11d124894a8486902df6d49b3",
            "cdf6f2ee4d164ea6bf49c385a224790c",
            "9db5bc1388514b9fb87b630a14c1a137",
            "eb703e56c1864b66a39d1868dc227f66",
            "d917fcda8034442ebd0a3328809b7160",
            "1e0cc9f654e747a8876d4b0bda9df621",
            "6583d3f183f646419320ea3c7feab8ac",
            "91ab704ef28c4c4e9a4257a47caa6d85",
            "3d5adce58f084658b06620f9d31f4346",
            "dd11b6d5424f4ce8a6a39b402569a02e",
            "412ecdb71d4c4ae8bb3aacd426f900dd",
            "b9ba97b0a4724e498e26dee2c36951c0",
            "ceab853d62c7496bbfd24694ff1216ce",
            "29c5edf8b7424251830d02e13ab3d1f9",
            "f1ea63a7873a4ce08eea4b5c1d98df61",
            "b4a1a319c8dd43659362220acd5701b6",
            "dfa23f0772ae4e99b281ecebc2885eae",
            "74d8a3dc11674d31bbf58f46944977be",
            "12d410eae8da4e11bff290c71b4f9ea7",
            "221d721139654008a6d8c15b50b5d312",
            "5e0bd49802a4473a9abc7c65263b87ce",
            "31d01caafa2d40cb90ad8a794b3b82d0",
            "a99d91cb7c604169aeb746738d4c1ad8",
            "2238707a13ce4cde9ff1582947d47ce6",
            "55e299c7530f45df8c0f86a5b1306bbd",
            "037dceabf9e44a2793021e05903bc4ce",
            "77729547074547278f2bb2fb0b1322a7",
            "3a775aadd17042ea8924f7c28a90e352",
            "8db27ccb8fbe49998ba07bafb9f1e230",
            "94dcdbc91b28465084920add3ef9e484",
            "6735de62c94849afb1855893c4db7126",
            "09aafd0cd88d4a1396fa66632ca8ec81",
            "198f4a0a22d848c8aae252b461765efa",
            "3ce2ccf7af0545b9ad9ce5760e0faf59",
            "dab8b44a6ad042418f6c4c6b0e4ab9a1",
            "02c552a947c94ee1a8a2dbe7443bea32",
            "ce0ce4c2445c4f80a3b23bf712a25234",
            "35ed9da5133b4d4dae217a1810d9344e",
            "0950dacc99f445fc9df57ce9891a7f0a",
            "c763f421832047a39a03a7161c5210ab",
            "a24cb0e000b74293bc734669ecefde90",
            "9faa3f69e14c459a9c8f96b540966d30",
            "b06766ce5ab94ec289b7b94620155ee6",
            "b301e575a21146d59642850d7a4ac522",
            "9683de2f51f548d29de42bfe656d02b6",
            "769a5b0e6beb4ab19d6dc4e78b9ba08c",
            "d2c2cf8dc5e54612be6b2c6755cf6f92",
            "fc5ba960281d4365b78afd15183d3721",
            "25570bc7882648b0b76fdddfb5c00c61",
            "5e5ab47af4074230ba4ad1cd1ea79820",
            "3500f3ca04254449891edfc1c050d2df",
            "5a9e669593554721bd1acebd0a27bc69",
            "2361f858a7b14af9902a25ccbdf6c588",
            "a19061d1f6d646128379652f24622323",
            "e248bf2e56f64a5fab5f38e03cb53391",
            "69a07524768f49c8bab87370a6a836c3",
            "e5986dd9a9d94e4fad6b8b84d629f12b",
            "918b2581912c4f29abbdc3b7ff9d70d4",
            "0201665b6b914674b017a70b756bc2e6",
            "ffb2bc9ba7a849a797206c60fbf2b1a7",
            "22689ffdcb6b4ed497c5a31181d5cf10",
            "c8ed7960357744fd8ab3ee4920215e14",
            "c61759b57e4c4f7faa3cb2eeb1412265",
            "2de313fef6da4ee18458cbbb10132b05",
            "e347ea058be84079952455bfc703a22a",
            "dbfc7f5017b849a9a76323680aaf3d99",
            "f35eeb80e50543d39b01e5d7401fa7ce",
            "46445a8a4a474f88a3410718ec40ee51",
            "0f5658bdb33143cdace948b8a2e305de",
            "45dd7b5ee35643579f9bc3c749591f90",
            "8838444e0cee4998a98338f68cb35212",
            "20e58c1f637746c284929396226759d7",
            "ea9186cd406a4a97bf863883e73c0889",
            "ec754baf204a40ddb6b09762956dcfff",
            "fd49f49e20aa43fb860af090b316f800",
            "fc060d29c06049a98d8e792c6f6e5470",
            "ee2479e56f664e4a9159e0204c402f60",
            "3464a2ae9d7e49d9843dccbb48cb0681",
            "e242ec9a21384d5e83cb913a20403862",
            "599617ec318a48baac26c9bc0a944797",
            "2d9e143eb76745df97cfb51bcdc9a967",
            "6dc162ee71594070928c6f41c813dc72",
            "07c48cba06564bc9ae348685e2f65416",
            "8532716873084b858c017aae887ceba3",
            "12b8946c506d462499dde1cccc352ec7",
            "4b6591335b0a441c8d53d7749d9b425c",
            "36b8865ccf884e4c9d8b00bbab1452e9",
            "6890658796ab42dc98c524e1b14721de",
            "22c2c75eb47d4fc996472f6c577b123f",
            "7e19fcfd941b4186aaacde6c7d8a4adf",
            "11016776d1784ffaa9b9508102e2711f",
            "4d3e39d2acff416d9cd826f77c932db5",
            "5ae3662307f349faad21883fddb21b80",
            "7541d8db4c3541908ddb893f466f1453",
            "10a04bfeb88344179a966dc393df630a",
            "120505992c0748148430326ea9410082",
            "840a46b2f73e48d68dd90a3087112f63",
            "adfe16c2b1544790a632a5ba5db2030e",
            "09eb19170ae54b43839ba55f6a94578f",
            "bbea6828d41b4a5886a417bfe2f6ae79",
            "c4d36dd5c13d4a03893dfc532c2ffb17",
            "326d1d1f81664147aa1c0bf3d7272d9b",
            "67802da08c084d97863e3dffd556bb5a",
            "39d0f554392249a7aa04d57617660401",
            "d65c00d76fed44168253b9f86322986d",
            "2a9022489a5141488cbc529ffff2ddee",
            "c02797bfeb3e4836bfef1ec303771bcf",
            "37adbb455d9847e58fa175fa8ab8192a",
            "eeb54995cb8c4ec49d3a9d607fd9c2ef",
            "acf80a6c65ef49cbbcb21f0bac2cc409",
            "fc2ce5f4ec79424182bc06b5275574f3",
            "d6c37a4ed59942aca50c712da406c94a",
            "b17d27381a2d4308bb53fec693e45b06",
            "7007bca28baf450bbe2cfa2c5e1e69ea",
            "4590ced2fcfe49349ee620c34d93ddf5",
            "ab22471115a64376ba2d51257696462f",
            "f4691ae11a214c36b18326c18f89a18c",
            "42c89fc409f44a10b635da327a068551",
            "8aa5a65e57924c94b4d416cec93548ab",
            "e92387c4cfdf4e6085e4d87d82acbf49",
            "605281cb91614be5a51d0914ccad2f85",
            "5f17428b959b476783fbf61db7b28113",
            "f3de9b16c57843d081e43ce5ce3de53f",
            "d63308b1cb7a4fdda0c80a89f3c79867",
            "3d1a4a6d451d4af2a506e299589a0c95",
            "71857ccb45fe4fd5a915cede84be66ca",
            "2db88ac30af74d309c47ec760f1a1116",
            "f97bb3b4b2c04633b27cf70e0567e1d8",
            "dcbd7a8bf2e343529b73d9fa21a45db6",
            "1c56742fe74b40fd964909602fa36735",
            "92824a8e6e624bd485e573264b0e93b9",
            "9a8ed38ec78e4b418220a47e58c945c1",
            "b11d10fc1a364ac68275dbff9c18a050",
            "92c4fa90cd93493da9206ff171629896",
            "f8e5877c23ca438e9304972b90d96a74",
            "e2c7a1e7791849959fe8c027bc1cda69",
            "361fe1b0fd804eb8a54ad35284d3d9e0",
            "28500455aee1468090465e6373ed7358",
            "dd631122f0af48bbacf9236e7dd0762f",
            "77e7b06c437a4cba971b20e9579cf816",
            "dec1423995e64f7a87172798e7844474",
            "e77ddf838d664f539a1290c6874d66fc",
            "9a43a2c6bcdd42989c9dfc3a0c77343a",
            "b124983a329544ce9a1784720fc6d515",
            "fbd6fc75652b44a7b67484ac85f882a3",
            "aa9754fbfe204975afad322f7deab4f5",
            "eef701957edb4bda90b38f12271b2fee",
            "7ce3b8eff1124559a85641da5cfff58d",
            "e8dfca08d2bf44e9a9887b26c831e5be",
            "0453a2f3507443a2b7c9e57ef68b5a0e",
            "053cf6844b0c49c9841114e27fb4f595",
            "8c60021eecca4ca0bb34457d14cefc0e",
            "23e7c9d9fe1d448ab49b20907ea0bf14",
            "62beb7b7394144beaa9b8d591c808ff6",
            "4644e97158464e58aaeb1533565e785f",
            "a7ca8163913f46dba5f582b7958aac39",
            "5300d5195c244e2c89b867abfcb35475",
            "1ae64e3eb0894a408837c670e6473e69",
            "f4a186acd5a04451977601737377411d",
            "226393dcac4b4bd991b393b70b87829b",
            "d096b9fb00d2458d8605f87a046cb1a2",
            "ec407dd6952449a79b0139c356c6fdbb",
            "7afaea3adcf44837a4d0791700605814",
            "726eada25cb0485c86e045bf48e818c8",
            "87a7cd5088b94a77ada2ae18df407c30",
            "9360792cd9b246eba3cbc371f8f4b1a1",
            "b73e19fe92214192b63e52f216d0b946",
            "1741c47ec3fc4d049f51801f7a5516e8",
            "021fc31d0c414622a1e8ad30273e5b48",
            "c795ba172f164e6493a8ab924b4d01ac",
            "c0ed770e0a17405f8052043f518c768b",
            "94c006aa0a684317a651936cdadbf058",
            "603979e0c6c64403a1946c4012934164",
            "a45c77e29a584e8bb1bc4d276dab5d13",
            "38205f3d31de46bcb02b6cebc39b6bbd",
            "076597e6832040debc2920ef8b983231",
            "d834f3a057ed422ba003cc9aa93d5ed5",
            "60c1a7cb6a0d44b0b67f4962292d2f46",
            "c7851ca214104e7e92e0622930e088ff",
            "a0b5753f9bc74aa28003b8387e18188c",
            "a12e04072a574adba8c4f3ee2c101cee",
            "96b0f823b82d47a4b8a71325671778d5",
            "7736f35a784c40f592fd2e7333de179d",
            "fea3d21527944fe79ffba82ff72f03e7",
            "5f0aa7c823a643f3b4eab5697f2aa55a",
            "31f536d20c9a4850b8b5a976d26cd6f6",
            "bd8e1c8f60134e5a9013670292584d4a",
            "faea2e780d36469eacd71a396c31b368",
            "bd5590c0c43a4f1bad60e3c44acf6ac1",
            "a6012081864246d0874fb39dc593b625",
            "0c4796e2945b40fbbe83e92020fb0772",
            "0ac471b9d5414d45873573247cfcaed8",
            "2a62a7c5329541798c5e7784917f7376",
            "bc6a9b4d97e14736b8fed896671b536c",
            "9a2f2c7e85da47f7b45082e515084835",
            "ec85ca0ac1d6473db22180f091c72286",
            "50e9c1a2be384b1395a410fc37c4408f",
            "ed2daf31ed824349a105eab8546d3a6b",
            "bc361a16fe0d4279a812bf1c05ac107e",
            "8d6f739dc5954a74b3c4efd00160fa52",
            "532e664f642c4afd956391c0ed453d9d",
            "3b9b9bcc5f3646ed8f5494fed1d2d3ca",
            "b27e8e34f137464f98c77edfbc040fe6",
            "6cbf930737384c55b71834043b365e09",
            "aa2937ff24d34bfa87e4cd697bff18b2",
            "270fd0a7f7f44afc8609d618e8e84053",
            "a4b3810b5a4040a6b76230510b6ac135",
            "e9dbb6ae19074605aaff4809f12c25d9",
            "7391d5880f3d43db8a6dea5ce536d724",
            "2d2144239fac4cc9954a27a88b847933",
            "e1129080c04c465d83933a4cdd4dc7fa",
            "dbd72cb5938543099b909bc4431d7788",
            "054260de237b4c67b44d6657480028bf",
            "9de3a66ffbb84e8f84b805017cf4c4b2",
            "7cc51f877d264634b6b5372ad8b9758d",
            "0a1b6fa8da8140578a9de887cebc3552",
            "229a7551b15f4f7caaf88329fe5f7f4c",
            "b9e390c8d9174e9e8bae3927737de299",
            "7e5f0cb1760b45f8b8c68296b87ec6d3",
            "61b2d7c31ee949a1a3f80f3588144659",
            "7279e8fa9f4c46f0afd27bc6cec2d409",
            "abff52ce085d4d0da0abd5682fb066a1",
            "706cc2c2f68048d58a2aa0d917229957",
            "5e70f0d9c3cc48b1b480dfd9d1579620",
            "aff2959b951e4f59a2736657784cb60e",
            "9fc3f730065c4868a42ff9408c8e1300",
            "b6c14b701b1f47d89d9b991c5511ff84",
            "ee070033997b426e8b4e3fd629b85b03",
            "4a59b03d0a74496abc702ad9ab42145b",
            "493096795f8148ff9267fcba91e46827",
            "e9f9ba05d63043ff82d632131833ec7f",
            "779719b0217443a695d43adf58cd14eb",
            "b057d63725d648fb8f4e767849a22ef0",
            "396e3b2608d9495a8f04ad14045359c4",
            "79a474b68fda409798fc025306b4b364",
            "46b5dd72e97b44da8745283c34ccb368",
            "a4a7bd8b1181419481c374d7a7071d59",
            "5093936047d648cdb406f739420bc4d7",
            "fed80aeceaed4749bf7b2daef1214bdd",
            "0158bea8a1f9421ba2237c31428ec718",
            "1f62bc70482f4f95b96dd51b8f52d10c",
            "640784e5ffa44936b5c96a3c9286e719",
            "e06a43d399a94507b67e1492de470fcc",
            "bccef421a36847e0b840b8393e7878a9",
            "126ebcb78c264258832a8690ff39d7a4",
            "5bc20580f3264da2841215be2e3ad69b",
            "2da67b6e2e3641b6ba752aba90fdec93",
            "711d07a4222f4e1f937649603a68f356",
            "fa9edffcf14c4f7d81272163afed155f",
            "e212a1c484b54f3c9640a6384a3b29f3",
            "101d42c53dc848b091ff033db56e5d70",
            "dfd9992654b34890b43dda8fcab2e3dd",
            "ec6611f4011441b288452dcdd808661a",
            "ff10295f6529452b83b8b4812114a9e8",
            "264c22023cdc43dca4e70017ed91880b",
            "c11f09b887a4448eb011d3edd416ede6",
            "fabccea90fd348bf953b0aeda1280e4f",
            "a8440a63e1e7462a83b31cda886162d8",
            "94fd6fb798ce479295327a9f15a56f43",
            "ea4b2c449193490592a6918347e2afbf",
            "5e48b78b30e549779095decc8d070870",
            "e20d47b41dd14c1aaa459ae3a2e232d3",
            "eb855152e83b4feda3004bd2e10652e8",
            "62bbd8c599bd4e6e8adfc1b0fd12f0bd",
            "f3788bd40ced464399e89a633e74d97b",
            "d382bb8842ac432296a7e6acfecc76e5",
            "bdd2ec4324bc438b8809cb764b4a655b",
            "b7bf7327dd6e4f9e9ff2c931fa5a27d0",
            "d87e6875a3e94458a1e3410ab3687878",
            "cafcac5c9f974260851ef75229c65455",
            "692bbef3cb8b4660a22f945cae99686a",
            "e03f253240bd416c927ed86294b6ffb5",
            "e718ca709a6846ee835f9d6e43af684b",
            "8bd2664558594560a43d71efb19f5494",
            "63e33eb8821f49749f49a39fcb41ae65",
            "c1a261318a754ff9ab4726429af81cb2",
            "6abcb7450d8a42949615fdfdf8804217",
            "0a1ff6b973b74a86a93ad8ba7b922e96",
            "4ef08977cf284f87a9971733af818492",
            "41f67399d36e45409aa9f0fb46e03b59",
            "9f183fa7815a4691b39111a8ee839672",
            "3b7ab19de06f4cf095868ee61d50b6f4",
            "9b97ad08fb6a47cbbb240135aa92d249",
            "0d7ea2382efc4e90a1c828116c8ef45c",
            "42464828bb25420cb7874ea701e5c095",
            "92f8f25849444373b5a773d4c80989e6",
            "f284b5ee91a9422fbec5b04b97288d31",
            "28d93cf818174a5fb666da2d40280814",
            "949b0ad719794bc9b1f53125cd4c9190",
            "0d88eb7debed42e0b3f5f61754d74b5c",
            "4bd352a2374e41cb8742ad5eee586e92",
            "ffeb44f431294097b65ea2b36803c465",
            "b045092425d14f6f9daf34981532b3f9",
            "077e42317a52485aa4808ff054277567",
            "c97194cd2b244103bfe231a7bf12154b",
            "0e788433a0ba42688de8c6d85ea573d4",
            "737a028993a2422091122ea898a3acf4",
            "c965fab4ee14433bb44e9ed67d2c0b3f",
            "626f5b06dbf540ad8cda11de7d887823",
            "10cbdd4e85ad40138a1b4b558b73254c",
            "faf6fd13098a4edaa80cf899af116202",
            "e5cd47c8cb39425ebcbab46c8983de45",
            "1d9d15f88c5e467b8dabdb45ad34dbe2",
            "a159ac6f587748e689392438dfa01bc1",
            "ff0fbfc1775e4e9b94b7eb344cc00c53",
            "a75d7341dcbb4af1bd2554e78b05fdc3",
            "b13f5205dae2482eb5b412552f073f4e",
            "0546a6554f38440ebcf1f38d816b4a1b",
            "4c6e491947ed4abb852fd8dbd8196f2d",
            "54b409ff624f44d89f86be6c3a4028be",
            "5615a05d77ad46f69bc33e51cd0021f5",
            "cf552a5516c540dca2d23efb8ffab1ed",
            "e172716b408c47d5b945a2e91202be6a",
            "7dc098a33aaf4feb92135be5d56d1db6",
            "041727269ee04e5cb130bc7f86659f10",
            "a0cc14cfc9a941ccb69385565e5e3577",
            "003ab44d15f04bda9565674b374846c3",
            "a44ab48c23dc4db2bc6fc9c694f4e5e4",
            "ba7f360488f84bdca4b6eac8f09fc73a",
            "37a54138c5ec4143bdc6a9d0d8feee16",
            "10317a5210e8471094d043d1b570e508",
            "75700d6d272a4243a145d64092c307f9",
            "d45719331460428789b46561d8682d17",
            "66ccc945d24e40f6adbd3e8c027866cb",
            "225b441927254edfab7b9b6b00e40e28",
            "32cbcce149fd47668b69245cde344a18",
            "f7e381c002c74482bb7d1064b3599d55",
            "913edcf73015407d888593916be72b4f",
            "4fafaa66858d44bba5837b379470544d",
            "f2e10c1b979c48b0bd7fc805dd773ae4",
            "387f42271de344fb8eae3fecf7719e5f",
            "7fa8bee0f1f145208ef30a7d6cd1e8cf",
            "0bd8805e70b74e1dbabac2e82d5fd35b",
            "913b35556b7045f88b70c9acb6c8908f",
            "967e610438394560b271a55513b9f6b7",
            "5c44435ce3cb45e5bfff4d116fb0679f",
            "2cd4c0fc68e04be2a503be8cc555a4b1",
            "6fcd62996ac2404da7a35ffd89d01abd",
            "dd5107df86054046a7502454e60919e8",
            "032be5a8f64446c6ba1b1040cf7c02ea",
            "db8bd1d36e274a1bbe819d7e5b2d908b",
            "d26c3a1879414244bdd731c62fede99e",
            "ccf31b828dc64400901aec69aed00380",
            "26a6209cc6fd4ffcbd289c19ed150fd2",
            "8a16f7d173404f769333cb0da7297509",
            "92c53e1e6b2c460384abe234739f6c52",
            "602193a8b0ae4386bc4ab00ec32bf72e",
            "817b10e232d64d11bb9f37e966785e8b",
            "91edc6e3223e4ce68b49aa296f233906",
            "f304ae6632ed499b96ecfadefac78030",
            "276779c667564344bff34ead3510636e",
            "0e27e0338bc84ed79571fdecf4780df1",
            "d66e80a4178f41ad8bc6f837acd65d5c",
            "25260fc22a3c4932b56cc1d86dc8dce0",
            "67ca0afec17546048ec2d4fe86aaac99",
            "ebc07a26fef84175967b30e251ef5fff",
            "8a6b2c81d5ce49d6a72c8f39abc0ec91",
            "9adb5503a984405d87f35f005734bcc4",
            "49f2fadd55204a49a64c7bfc19f00f9f",
            "5e4ce7016de24578b8cf95c307b5040d",
            "680eb8f9f346463090660ea11df72b33",
            "80f7fc086e4e4b8c897cad010e35a711",
            "8746afa9262741eea297860f298053ba",
            "0ed89cd738c74fdda9d8fad42fe63eb0",
            "5ab725509b5b4277b337855530a97e67",
            "f26d427503b14c4abb25d747b217bc20",
            "4eccedc6f1b6407090eaac2280f775e8",
            "393252ff96a74880b0fb3307e1be5ef5",
            "6c1353ad98b74de0bcf3cce44f97e7e7",
            "a98a766527f14b50a89d1010e94b3695",
            "0b4185a362e34ec7830a1e4b4f9996cc",
            "4dfd2aa9b1fc442b88cdb426f2c1295e",
            "46e834648118487b8d8d4a3f46c1dceb",
            "7bf79ed6bc1b4d98bedc93e358a63c7d",
            "35ff1deb98af4752ba5f753aa9032d0e",
            "b699e4637b584d5bb4ed329080b120dd",
            "16b45a22a4824bce887bbc6e88900b3d",
            "19c731c61cfd48d18b5a30d416be9a20",
            "0196ac950b5f4541bf194f6c42919132",
            "d49023d828b74d78afe420f24a99e7b2",
            "44787e3738d041d6821aab84363be75c",
            "d5a5e272ab91419498ca9321e623a4f6",
            "c058a711817849f28687d267e82c20e1"
          ]
        },
        "id": "FK-bjtr0oWkI",
        "outputId": "e86eebfe-0f15-494d-dd8f-593605f5b1ee"
      },
      "execution_count": null,
      "outputs": [
        {
          "output_type": "stream",
          "name": "stdout",
          "text": [
            "forall[x1](forall[x2]((P_same_row(x1, x2) | P_same_col(x1, x2) | P_same_block(x1, x2)) & !(P_same_loc(x1, x2)) implies !(P_same_value(x1, x2))))\n",
            "Ungrounded Symbols:\n",
            "  x1 -> variable\n",
            "  x2 -> variable\n",
            "Grounded Symbols:\n",
            "  P_same_block -> block_similarity[n/a]\n",
            "  P_same_col -> col_similarity[n/a]\n",
            "  P_same_loc -> loc_similarity[n/a]\n",
            "  P_same_row -> row_similarity[n/a]\n",
            "  P_same_value -> vector_similarity[n/a]\n",
            "  logical_not -> complementation[1 - x]*, \n",
            "  wrapper -> identity[x]*, \n",
            "  implies -> reichenbach[1 - x1 + x1 * x2]*, lukasiewicz[min(1, 1 - x1 + x2)], godel[1 if x1 <= x2 else x2], goguen[1 if x1 <=x2 else x2 / x1], kleene_dienes[max(1 - x1, x2)]\n",
            "  logical_and -> goguen[x1 * x2]*, lukasiewicz[max(0, x1 + x2 - 1)], godel[min(x1, x2)]\n",
            "  logical_or -> goguen[1 - (1 - x1) * (1 - x2)]*, lukasiewicz[min(1, x1 + x2)], godel[max(x1, x2)]\n",
            "  forall -> power_mean[1 - mean((1 - xi) ** p) ** (1 / p), 1 hyper-arg, 0 empty]*, lukasiewicz[max(0, sum(xi) - n + 1)], godel[min(xi)], goguen[prod(xi)]\n",
            "Footnotes:\n",
            "  * -> current grounding\n"
          ]
        },
        {
          "output_type": "display_data",
          "data": {
            "text/plain": [
              "Epoch 0/400:   0%|          | 0/3 [00:00<?, ?it/s]"
            ],
            "application/vnd.jupyter.widget-view+json": {
              "version_major": 2,
              "version_minor": 0,
              "model_id": "6d354d5e207b418fb638f4850b88cabe"
            }
          },
          "metadata": {}
        },
        {
          "output_type": "display_data",
          "data": {
            "text/plain": [
              "Epoch 1/400:   0%|          | 0/3 [00:00<?, ?it/s]"
            ],
            "application/vnd.jupyter.widget-view+json": {
              "version_major": 2,
              "version_minor": 0,
              "model_id": "616dc3504c5f43d89bf91b018e7ec80e"
            }
          },
          "metadata": {}
        },
        {
          "output_type": "display_data",
          "data": {
            "text/plain": [
              "Epoch 2/400:   0%|          | 0/3 [00:00<?, ?it/s]"
            ],
            "application/vnd.jupyter.widget-view+json": {
              "version_major": 2,
              "version_minor": 0,
              "model_id": "e85899bae370445489803dbe1fdd355e"
            }
          },
          "metadata": {}
        },
        {
          "output_type": "display_data",
          "data": {
            "text/plain": [
              "Epoch 3/400:   0%|          | 0/3 [00:00<?, ?it/s]"
            ],
            "application/vnd.jupyter.widget-view+json": {
              "version_major": 2,
              "version_minor": 0,
              "model_id": "d758c788e3424aa596220c96275e51ca"
            }
          },
          "metadata": {}
        },
        {
          "output_type": "display_data",
          "data": {
            "text/plain": [
              "Epoch 4/400:   0%|          | 0/3 [00:00<?, ?it/s]"
            ],
            "application/vnd.jupyter.widget-view+json": {
              "version_major": 2,
              "version_minor": 0,
              "model_id": "1254c00d656541fe9b96e9ab99e92213"
            }
          },
          "metadata": {}
        },
        {
          "output_type": "display_data",
          "data": {
            "text/plain": [
              "Epoch 5/400:   0%|          | 0/3 [00:00<?, ?it/s]"
            ],
            "application/vnd.jupyter.widget-view+json": {
              "version_major": 2,
              "version_minor": 0,
              "model_id": "830331a4575d449c8a670100a7a440f8"
            }
          },
          "metadata": {}
        },
        {
          "output_type": "display_data",
          "data": {
            "text/plain": [
              "Epoch 6/400:   0%|          | 0/3 [00:00<?, ?it/s]"
            ],
            "application/vnd.jupyter.widget-view+json": {
              "version_major": 2,
              "version_minor": 0,
              "model_id": "6adc5a67f275468791f31422ccc8af3b"
            }
          },
          "metadata": {}
        },
        {
          "output_type": "display_data",
          "data": {
            "text/plain": [
              "Epoch 7/400:   0%|          | 0/3 [00:00<?, ?it/s]"
            ],
            "application/vnd.jupyter.widget-view+json": {
              "version_major": 2,
              "version_minor": 0,
              "model_id": "a2a44f96ccdc4276af51c1091aff30a3"
            }
          },
          "metadata": {}
        },
        {
          "output_type": "display_data",
          "data": {
            "text/plain": [
              "Epoch 8/400:   0%|          | 0/3 [00:00<?, ?it/s]"
            ],
            "application/vnd.jupyter.widget-view+json": {
              "version_major": 2,
              "version_minor": 0,
              "model_id": "889735d583f34ee9b4fca5779d46dc08"
            }
          },
          "metadata": {}
        },
        {
          "output_type": "display_data",
          "data": {
            "text/plain": [
              "Epoch 9/400:   0%|          | 0/3 [00:00<?, ?it/s]"
            ],
            "application/vnd.jupyter.widget-view+json": {
              "version_major": 2,
              "version_minor": 0,
              "model_id": "a84516092ef94981892953f6f8320e55"
            }
          },
          "metadata": {}
        },
        {
          "output_type": "display_data",
          "data": {
            "text/plain": [
              "Epoch 10/400:   0%|          | 0/3 [00:00<?, ?it/s]"
            ],
            "application/vnd.jupyter.widget-view+json": {
              "version_major": 2,
              "version_minor": 0,
              "model_id": "0fa73e101b4947b898f3bf1f35bef1f2"
            }
          },
          "metadata": {}
        },
        {
          "output_type": "display_data",
          "data": {
            "text/plain": [
              "Epoch 11/400:   0%|          | 0/3 [00:00<?, ?it/s]"
            ],
            "application/vnd.jupyter.widget-view+json": {
              "version_major": 2,
              "version_minor": 0,
              "model_id": "cd000476f4004f42b95a75c8fdfa059a"
            }
          },
          "metadata": {}
        },
        {
          "output_type": "display_data",
          "data": {
            "text/plain": [
              "Epoch 12/400:   0%|          | 0/3 [00:00<?, ?it/s]"
            ],
            "application/vnd.jupyter.widget-view+json": {
              "version_major": 2,
              "version_minor": 0,
              "model_id": "f2b6a1560e7947029c931919ea020f9d"
            }
          },
          "metadata": {}
        },
        {
          "output_type": "display_data",
          "data": {
            "text/plain": [
              "Epoch 13/400:   0%|          | 0/3 [00:00<?, ?it/s]"
            ],
            "application/vnd.jupyter.widget-view+json": {
              "version_major": 2,
              "version_minor": 0,
              "model_id": "89696fa760e14e6985ad5e9dbf383dcf"
            }
          },
          "metadata": {}
        },
        {
          "output_type": "display_data",
          "data": {
            "text/plain": [
              "Epoch 14/400:   0%|          | 0/3 [00:00<?, ?it/s]"
            ],
            "application/vnd.jupyter.widget-view+json": {
              "version_major": 2,
              "version_minor": 0,
              "model_id": "23f9a3b15d05456db3c359bcfec441f6"
            }
          },
          "metadata": {}
        },
        {
          "output_type": "display_data",
          "data": {
            "text/plain": [
              "Epoch 15/400:   0%|          | 0/3 [00:00<?, ?it/s]"
            ],
            "application/vnd.jupyter.widget-view+json": {
              "version_major": 2,
              "version_minor": 0,
              "model_id": "a50aea5015034ac49e9124ec41892b4e"
            }
          },
          "metadata": {}
        },
        {
          "output_type": "display_data",
          "data": {
            "text/plain": [
              "Epoch 16/400:   0%|          | 0/3 [00:00<?, ?it/s]"
            ],
            "application/vnd.jupyter.widget-view+json": {
              "version_major": 2,
              "version_minor": 0,
              "model_id": "a18537a05f8c476583a3b05e9eea3129"
            }
          },
          "metadata": {}
        },
        {
          "output_type": "display_data",
          "data": {
            "text/plain": [
              "Epoch 17/400:   0%|          | 0/3 [00:00<?, ?it/s]"
            ],
            "application/vnd.jupyter.widget-view+json": {
              "version_major": 2,
              "version_minor": 0,
              "model_id": "7406f72f7fbd4d7e933228e8a4cd0cb0"
            }
          },
          "metadata": {}
        },
        {
          "output_type": "display_data",
          "data": {
            "text/plain": [
              "Epoch 18/400:   0%|          | 0/3 [00:00<?, ?it/s]"
            ],
            "application/vnd.jupyter.widget-view+json": {
              "version_major": 2,
              "version_minor": 0,
              "model_id": "df1ad970b562456ebda4a2158038a4ae"
            }
          },
          "metadata": {}
        },
        {
          "output_type": "display_data",
          "data": {
            "text/plain": [
              "Epoch 19/400:   0%|          | 0/3 [00:00<?, ?it/s]"
            ],
            "application/vnd.jupyter.widget-view+json": {
              "version_major": 2,
              "version_minor": 0,
              "model_id": "2b0798f4e83248bc9bd8b672c6f5c5dd"
            }
          },
          "metadata": {}
        },
        {
          "output_type": "display_data",
          "data": {
            "text/plain": [
              "Epoch 20/400:   0%|          | 0/3 [00:00<?, ?it/s]"
            ],
            "application/vnd.jupyter.widget-view+json": {
              "version_major": 2,
              "version_minor": 0,
              "model_id": "46366a89bd5745feaeb4c8c3210478ea"
            }
          },
          "metadata": {}
        },
        {
          "output_type": "display_data",
          "data": {
            "text/plain": [
              "Epoch 21/400:   0%|          | 0/3 [00:00<?, ?it/s]"
            ],
            "application/vnd.jupyter.widget-view+json": {
              "version_major": 2,
              "version_minor": 0,
              "model_id": "fff1439f5a9746be9e19869cc2a5c38f"
            }
          },
          "metadata": {}
        },
        {
          "output_type": "display_data",
          "data": {
            "text/plain": [
              "Epoch 22/400:   0%|          | 0/3 [00:00<?, ?it/s]"
            ],
            "application/vnd.jupyter.widget-view+json": {
              "version_major": 2,
              "version_minor": 0,
              "model_id": "9ba852b21cb1447fb2ab9cefe04f2f6a"
            }
          },
          "metadata": {}
        },
        {
          "output_type": "display_data",
          "data": {
            "text/plain": [
              "Epoch 23/400:   0%|          | 0/3 [00:00<?, ?it/s]"
            ],
            "application/vnd.jupyter.widget-view+json": {
              "version_major": 2,
              "version_minor": 0,
              "model_id": "178aa4a5b7ec47328b4760d5e3e0ac8d"
            }
          },
          "metadata": {}
        },
        {
          "output_type": "display_data",
          "data": {
            "text/plain": [
              "Epoch 24/400:   0%|          | 0/3 [00:00<?, ?it/s]"
            ],
            "application/vnd.jupyter.widget-view+json": {
              "version_major": 2,
              "version_minor": 0,
              "model_id": "e5ed15b3a0774ddfb6601ca51a16bddc"
            }
          },
          "metadata": {}
        },
        {
          "output_type": "display_data",
          "data": {
            "text/plain": [
              "Epoch 25/400:   0%|          | 0/3 [00:00<?, ?it/s]"
            ],
            "application/vnd.jupyter.widget-view+json": {
              "version_major": 2,
              "version_minor": 0,
              "model_id": "52f02366ef9c4504ba215378031a4fe3"
            }
          },
          "metadata": {}
        },
        {
          "output_type": "display_data",
          "data": {
            "text/plain": [
              "Epoch 26/400:   0%|          | 0/3 [00:00<?, ?it/s]"
            ],
            "application/vnd.jupyter.widget-view+json": {
              "version_major": 2,
              "version_minor": 0,
              "model_id": "3ebe5e2fa88243a0803f95d3e8a21e07"
            }
          },
          "metadata": {}
        },
        {
          "output_type": "display_data",
          "data": {
            "text/plain": [
              "Epoch 27/400:   0%|          | 0/3 [00:00<?, ?it/s]"
            ],
            "application/vnd.jupyter.widget-view+json": {
              "version_major": 2,
              "version_minor": 0,
              "model_id": "d70ea70b6e584cdbbd786ce09ec07609"
            }
          },
          "metadata": {}
        },
        {
          "output_type": "display_data",
          "data": {
            "text/plain": [
              "Epoch 28/400:   0%|          | 0/3 [00:00<?, ?it/s]"
            ],
            "application/vnd.jupyter.widget-view+json": {
              "version_major": 2,
              "version_minor": 0,
              "model_id": "c306c1dc894c4d30924f6f9d505a1784"
            }
          },
          "metadata": {}
        },
        {
          "output_type": "display_data",
          "data": {
            "text/plain": [
              "Epoch 29/400:   0%|          | 0/3 [00:00<?, ?it/s]"
            ],
            "application/vnd.jupyter.widget-view+json": {
              "version_major": 2,
              "version_minor": 0,
              "model_id": "250dbd93aa174f47bf9fbab9b4e68fec"
            }
          },
          "metadata": {}
        },
        {
          "output_type": "display_data",
          "data": {
            "text/plain": [
              "Epoch 30/400:   0%|          | 0/3 [00:00<?, ?it/s]"
            ],
            "application/vnd.jupyter.widget-view+json": {
              "version_major": 2,
              "version_minor": 0,
              "model_id": "fa3a268796444250b33323b1629ef1fc"
            }
          },
          "metadata": {}
        },
        {
          "output_type": "display_data",
          "data": {
            "text/plain": [
              "Epoch 31/400:   0%|          | 0/3 [00:00<?, ?it/s]"
            ],
            "application/vnd.jupyter.widget-view+json": {
              "version_major": 2,
              "version_minor": 0,
              "model_id": "9ac9da78c9994e25868cf030f631c48c"
            }
          },
          "metadata": {}
        },
        {
          "output_type": "display_data",
          "data": {
            "text/plain": [
              "Epoch 32/400:   0%|          | 0/3 [00:00<?, ?it/s]"
            ],
            "application/vnd.jupyter.widget-view+json": {
              "version_major": 2,
              "version_minor": 0,
              "model_id": "12f0a6b49ab142368192eb324a227a92"
            }
          },
          "metadata": {}
        },
        {
          "output_type": "display_data",
          "data": {
            "text/plain": [
              "Epoch 33/400:   0%|          | 0/3 [00:00<?, ?it/s]"
            ],
            "application/vnd.jupyter.widget-view+json": {
              "version_major": 2,
              "version_minor": 0,
              "model_id": "5345a288d4474821b527a90a7f30d8ce"
            }
          },
          "metadata": {}
        },
        {
          "output_type": "display_data",
          "data": {
            "text/plain": [
              "Epoch 34/400:   0%|          | 0/3 [00:00<?, ?it/s]"
            ],
            "application/vnd.jupyter.widget-view+json": {
              "version_major": 2,
              "version_minor": 0,
              "model_id": "620dc848c71c452584e018382d0da9e7"
            }
          },
          "metadata": {}
        },
        {
          "output_type": "display_data",
          "data": {
            "text/plain": [
              "Epoch 35/400:   0%|          | 0/3 [00:00<?, ?it/s]"
            ],
            "application/vnd.jupyter.widget-view+json": {
              "version_major": 2,
              "version_minor": 0,
              "model_id": "19dfe17931864e098374e0a43c3a576f"
            }
          },
          "metadata": {}
        },
        {
          "output_type": "display_data",
          "data": {
            "text/plain": [
              "Epoch 36/400:   0%|          | 0/3 [00:00<?, ?it/s]"
            ],
            "application/vnd.jupyter.widget-view+json": {
              "version_major": 2,
              "version_minor": 0,
              "model_id": "d07f6e84e73d49e3988c2726acae8e92"
            }
          },
          "metadata": {}
        },
        {
          "output_type": "display_data",
          "data": {
            "text/plain": [
              "Epoch 37/400:   0%|          | 0/3 [00:00<?, ?it/s]"
            ],
            "application/vnd.jupyter.widget-view+json": {
              "version_major": 2,
              "version_minor": 0,
              "model_id": "42a5f7277a86460e9145ee88ebc124aa"
            }
          },
          "metadata": {}
        },
        {
          "output_type": "display_data",
          "data": {
            "text/plain": [
              "Epoch 38/400:   0%|          | 0/3 [00:00<?, ?it/s]"
            ],
            "application/vnd.jupyter.widget-view+json": {
              "version_major": 2,
              "version_minor": 0,
              "model_id": "f87dcbaa4e5b41aea58d57faa74a101c"
            }
          },
          "metadata": {}
        },
        {
          "output_type": "display_data",
          "data": {
            "text/plain": [
              "Epoch 39/400:   0%|          | 0/3 [00:00<?, ?it/s]"
            ],
            "application/vnd.jupyter.widget-view+json": {
              "version_major": 2,
              "version_minor": 0,
              "model_id": "494f1d5868ff4226889fc77b6bb66442"
            }
          },
          "metadata": {}
        },
        {
          "output_type": "display_data",
          "data": {
            "text/plain": [
              "Epoch 40/400:   0%|          | 0/3 [00:00<?, ?it/s]"
            ],
            "application/vnd.jupyter.widget-view+json": {
              "version_major": 2,
              "version_minor": 0,
              "model_id": "2fbd893cff544ca7b7adcae4e0e7990e"
            }
          },
          "metadata": {}
        },
        {
          "output_type": "display_data",
          "data": {
            "text/plain": [
              "Epoch 41/400:   0%|          | 0/3 [00:00<?, ?it/s]"
            ],
            "application/vnd.jupyter.widget-view+json": {
              "version_major": 2,
              "version_minor": 0,
              "model_id": "ba6801418b194556ae1f80d5cb1b9cfb"
            }
          },
          "metadata": {}
        },
        {
          "output_type": "display_data",
          "data": {
            "text/plain": [
              "Epoch 42/400:   0%|          | 0/3 [00:00<?, ?it/s]"
            ],
            "application/vnd.jupyter.widget-view+json": {
              "version_major": 2,
              "version_minor": 0,
              "model_id": "8e2db891545f4e0788b7d28e2a0baba2"
            }
          },
          "metadata": {}
        },
        {
          "output_type": "display_data",
          "data": {
            "text/plain": [
              "Epoch 43/400:   0%|          | 0/3 [00:00<?, ?it/s]"
            ],
            "application/vnd.jupyter.widget-view+json": {
              "version_major": 2,
              "version_minor": 0,
              "model_id": "67827cde05df41d3b0ebc8be1093c414"
            }
          },
          "metadata": {}
        },
        {
          "output_type": "display_data",
          "data": {
            "text/plain": [
              "Epoch 44/400:   0%|          | 0/3 [00:00<?, ?it/s]"
            ],
            "application/vnd.jupyter.widget-view+json": {
              "version_major": 2,
              "version_minor": 0,
              "model_id": "1ddfbc278d454170818ae2ce48242b1d"
            }
          },
          "metadata": {}
        },
        {
          "output_type": "display_data",
          "data": {
            "text/plain": [
              "Epoch 45/400:   0%|          | 0/3 [00:00<?, ?it/s]"
            ],
            "application/vnd.jupyter.widget-view+json": {
              "version_major": 2,
              "version_minor": 0,
              "model_id": "fc5f8b5187234450bec6900f9914772b"
            }
          },
          "metadata": {}
        },
        {
          "output_type": "display_data",
          "data": {
            "text/plain": [
              "Epoch 46/400:   0%|          | 0/3 [00:00<?, ?it/s]"
            ],
            "application/vnd.jupyter.widget-view+json": {
              "version_major": 2,
              "version_minor": 0,
              "model_id": "70b9bc6e333249c3bc5eb3e34a13a27a"
            }
          },
          "metadata": {}
        },
        {
          "output_type": "display_data",
          "data": {
            "text/plain": [
              "Epoch 47/400:   0%|          | 0/3 [00:00<?, ?it/s]"
            ],
            "application/vnd.jupyter.widget-view+json": {
              "version_major": 2,
              "version_minor": 0,
              "model_id": "5ae73c89d02d47e48d78bc05dc41e60b"
            }
          },
          "metadata": {}
        },
        {
          "output_type": "display_data",
          "data": {
            "text/plain": [
              "Epoch 48/400:   0%|          | 0/3 [00:00<?, ?it/s]"
            ],
            "application/vnd.jupyter.widget-view+json": {
              "version_major": 2,
              "version_minor": 0,
              "model_id": "a0034c49ae794657ba64afa1a633fd4b"
            }
          },
          "metadata": {}
        },
        {
          "output_type": "display_data",
          "data": {
            "text/plain": [
              "Epoch 49/400:   0%|          | 0/3 [00:00<?, ?it/s]"
            ],
            "application/vnd.jupyter.widget-view+json": {
              "version_major": 2,
              "version_minor": 0,
              "model_id": "7b46dae5d3b0483ab87074219ebb0769"
            }
          },
          "metadata": {}
        },
        {
          "output_type": "display_data",
          "data": {
            "text/plain": [
              "Epoch 50/400:   0%|          | 0/3 [00:00<?, ?it/s]"
            ],
            "application/vnd.jupyter.widget-view+json": {
              "version_major": 2,
              "version_minor": 0,
              "model_id": "7a9483ebb63d4d38837b05c1d5e2eb71"
            }
          },
          "metadata": {}
        },
        {
          "output_type": "display_data",
          "data": {
            "text/plain": [
              "Epoch 51/400:   0%|          | 0/3 [00:00<?, ?it/s]"
            ],
            "application/vnd.jupyter.widget-view+json": {
              "version_major": 2,
              "version_minor": 0,
              "model_id": "cf25a71418cd4f79b712a5cfe23c5684"
            }
          },
          "metadata": {}
        },
        {
          "output_type": "display_data",
          "data": {
            "text/plain": [
              "Epoch 52/400:   0%|          | 0/3 [00:00<?, ?it/s]"
            ],
            "application/vnd.jupyter.widget-view+json": {
              "version_major": 2,
              "version_minor": 0,
              "model_id": "4f076617a17742fda6851dc41c71cac9"
            }
          },
          "metadata": {}
        },
        {
          "output_type": "display_data",
          "data": {
            "text/plain": [
              "Epoch 53/400:   0%|          | 0/3 [00:00<?, ?it/s]"
            ],
            "application/vnd.jupyter.widget-view+json": {
              "version_major": 2,
              "version_minor": 0,
              "model_id": "641337cdda8d450c82493849d501689c"
            }
          },
          "metadata": {}
        },
        {
          "output_type": "display_data",
          "data": {
            "text/plain": [
              "Epoch 54/400:   0%|          | 0/3 [00:00<?, ?it/s]"
            ],
            "application/vnd.jupyter.widget-view+json": {
              "version_major": 2,
              "version_minor": 0,
              "model_id": "b7b86c09f089400e91a48adaee6db8a5"
            }
          },
          "metadata": {}
        },
        {
          "output_type": "display_data",
          "data": {
            "text/plain": [
              "Epoch 55/400:   0%|          | 0/3 [00:00<?, ?it/s]"
            ],
            "application/vnd.jupyter.widget-view+json": {
              "version_major": 2,
              "version_minor": 0,
              "model_id": "04c80bf81b04404888fafcc69c7765fc"
            }
          },
          "metadata": {}
        },
        {
          "output_type": "display_data",
          "data": {
            "text/plain": [
              "Epoch 56/400:   0%|          | 0/3 [00:00<?, ?it/s]"
            ],
            "application/vnd.jupyter.widget-view+json": {
              "version_major": 2,
              "version_minor": 0,
              "model_id": "429f851486cd44a68b270c3c4f3c8397"
            }
          },
          "metadata": {}
        },
        {
          "output_type": "display_data",
          "data": {
            "text/plain": [
              "Epoch 57/400:   0%|          | 0/3 [00:00<?, ?it/s]"
            ],
            "application/vnd.jupyter.widget-view+json": {
              "version_major": 2,
              "version_minor": 0,
              "model_id": "5bd6e0723c194a07b3667fad277c849b"
            }
          },
          "metadata": {}
        },
        {
          "output_type": "display_data",
          "data": {
            "text/plain": [
              "Epoch 58/400:   0%|          | 0/3 [00:00<?, ?it/s]"
            ],
            "application/vnd.jupyter.widget-view+json": {
              "version_major": 2,
              "version_minor": 0,
              "model_id": "2023b4ef00da47fe89dad553373574e9"
            }
          },
          "metadata": {}
        },
        {
          "output_type": "display_data",
          "data": {
            "text/plain": [
              "Epoch 59/400:   0%|          | 0/3 [00:00<?, ?it/s]"
            ],
            "application/vnd.jupyter.widget-view+json": {
              "version_major": 2,
              "version_minor": 0,
              "model_id": "6ac2a2ffc0734f7f823fd76ae39de0ab"
            }
          },
          "metadata": {}
        },
        {
          "output_type": "display_data",
          "data": {
            "text/plain": [
              "Epoch 60/400:   0%|          | 0/3 [00:00<?, ?it/s]"
            ],
            "application/vnd.jupyter.widget-view+json": {
              "version_major": 2,
              "version_minor": 0,
              "model_id": "53e49184f58a4ee8a62a6cc9ae0dbf63"
            }
          },
          "metadata": {}
        },
        {
          "output_type": "display_data",
          "data": {
            "text/plain": [
              "Epoch 61/400:   0%|          | 0/3 [00:00<?, ?it/s]"
            ],
            "application/vnd.jupyter.widget-view+json": {
              "version_major": 2,
              "version_minor": 0,
              "model_id": "0f136370d26c4c368eb17204d3438f2c"
            }
          },
          "metadata": {}
        },
        {
          "output_type": "display_data",
          "data": {
            "text/plain": [
              "Epoch 62/400:   0%|          | 0/3 [00:00<?, ?it/s]"
            ],
            "application/vnd.jupyter.widget-view+json": {
              "version_major": 2,
              "version_minor": 0,
              "model_id": "83c8228f251d451f829f350767a92263"
            }
          },
          "metadata": {}
        },
        {
          "output_type": "display_data",
          "data": {
            "text/plain": [
              "Epoch 63/400:   0%|          | 0/3 [00:00<?, ?it/s]"
            ],
            "application/vnd.jupyter.widget-view+json": {
              "version_major": 2,
              "version_minor": 0,
              "model_id": "8a94bd8d75b34639aea9780640f5039e"
            }
          },
          "metadata": {}
        },
        {
          "output_type": "display_data",
          "data": {
            "text/plain": [
              "Epoch 64/400:   0%|          | 0/3 [00:00<?, ?it/s]"
            ],
            "application/vnd.jupyter.widget-view+json": {
              "version_major": 2,
              "version_minor": 0,
              "model_id": "07343c61b25446c8871c4d22b3c7b42a"
            }
          },
          "metadata": {}
        },
        {
          "output_type": "display_data",
          "data": {
            "text/plain": [
              "Epoch 65/400:   0%|          | 0/3 [00:00<?, ?it/s]"
            ],
            "application/vnd.jupyter.widget-view+json": {
              "version_major": 2,
              "version_minor": 0,
              "model_id": "063317907a8e4da1a22624ae20e6f0f6"
            }
          },
          "metadata": {}
        },
        {
          "output_type": "display_data",
          "data": {
            "text/plain": [
              "Epoch 66/400:   0%|          | 0/3 [00:00<?, ?it/s]"
            ],
            "application/vnd.jupyter.widget-view+json": {
              "version_major": 2,
              "version_minor": 0,
              "model_id": "c18cf4357dde432c86ec5e14532be28b"
            }
          },
          "metadata": {}
        },
        {
          "output_type": "display_data",
          "data": {
            "text/plain": [
              "Epoch 67/400:   0%|          | 0/3 [00:00<?, ?it/s]"
            ],
            "application/vnd.jupyter.widget-view+json": {
              "version_major": 2,
              "version_minor": 0,
              "model_id": "6fabf50e6f184d4f85d4ca618a24357f"
            }
          },
          "metadata": {}
        },
        {
          "output_type": "display_data",
          "data": {
            "text/plain": [
              "Epoch 68/400:   0%|          | 0/3 [00:00<?, ?it/s]"
            ],
            "application/vnd.jupyter.widget-view+json": {
              "version_major": 2,
              "version_minor": 0,
              "model_id": "58cd4285a9514f21b93a17a8f193f9d3"
            }
          },
          "metadata": {}
        },
        {
          "output_type": "display_data",
          "data": {
            "text/plain": [
              "Epoch 69/400:   0%|          | 0/3 [00:00<?, ?it/s]"
            ],
            "application/vnd.jupyter.widget-view+json": {
              "version_major": 2,
              "version_minor": 0,
              "model_id": "54837f6b115640e789269a56bb493a31"
            }
          },
          "metadata": {}
        },
        {
          "output_type": "display_data",
          "data": {
            "text/plain": [
              "Epoch 70/400:   0%|          | 0/3 [00:00<?, ?it/s]"
            ],
            "application/vnd.jupyter.widget-view+json": {
              "version_major": 2,
              "version_minor": 0,
              "model_id": "4696b6d66f794eb0bb4bb935b13dcf32"
            }
          },
          "metadata": {}
        },
        {
          "output_type": "display_data",
          "data": {
            "text/plain": [
              "Epoch 71/400:   0%|          | 0/3 [00:00<?, ?it/s]"
            ],
            "application/vnd.jupyter.widget-view+json": {
              "version_major": 2,
              "version_minor": 0,
              "model_id": "12e0a00d6b95474ca4c3054d46b6267b"
            }
          },
          "metadata": {}
        },
        {
          "output_type": "display_data",
          "data": {
            "text/plain": [
              "Epoch 72/400:   0%|          | 0/3 [00:00<?, ?it/s]"
            ],
            "application/vnd.jupyter.widget-view+json": {
              "version_major": 2,
              "version_minor": 0,
              "model_id": "028a6d6d0ad74cbc9d5f2b9259ee83bb"
            }
          },
          "metadata": {}
        },
        {
          "output_type": "display_data",
          "data": {
            "text/plain": [
              "Epoch 73/400:   0%|          | 0/3 [00:00<?, ?it/s]"
            ],
            "application/vnd.jupyter.widget-view+json": {
              "version_major": 2,
              "version_minor": 0,
              "model_id": "e324c79fcbad413485a10828f1de21c7"
            }
          },
          "metadata": {}
        },
        {
          "output_type": "display_data",
          "data": {
            "text/plain": [
              "Epoch 74/400:   0%|          | 0/3 [00:00<?, ?it/s]"
            ],
            "application/vnd.jupyter.widget-view+json": {
              "version_major": 2,
              "version_minor": 0,
              "model_id": "e90e597a86b3475188b91fa0535c7614"
            }
          },
          "metadata": {}
        },
        {
          "output_type": "display_data",
          "data": {
            "text/plain": [
              "Epoch 75/400:   0%|          | 0/3 [00:00<?, ?it/s]"
            ],
            "application/vnd.jupyter.widget-view+json": {
              "version_major": 2,
              "version_minor": 0,
              "model_id": "7fcb1409bf764f0b846ba12ad6ed7147"
            }
          },
          "metadata": {}
        },
        {
          "output_type": "display_data",
          "data": {
            "text/plain": [
              "Epoch 76/400:   0%|          | 0/3 [00:00<?, ?it/s]"
            ],
            "application/vnd.jupyter.widget-view+json": {
              "version_major": 2,
              "version_minor": 0,
              "model_id": "3734925927994ee8af4f0f4700f3bc99"
            }
          },
          "metadata": {}
        },
        {
          "output_type": "display_data",
          "data": {
            "text/plain": [
              "Epoch 77/400:   0%|          | 0/3 [00:00<?, ?it/s]"
            ],
            "application/vnd.jupyter.widget-view+json": {
              "version_major": 2,
              "version_minor": 0,
              "model_id": "a6bc77f2e0554dd89d2252d0d88a9122"
            }
          },
          "metadata": {}
        },
        {
          "output_type": "display_data",
          "data": {
            "text/plain": [
              "Epoch 78/400:   0%|          | 0/3 [00:00<?, ?it/s]"
            ],
            "application/vnd.jupyter.widget-view+json": {
              "version_major": 2,
              "version_minor": 0,
              "model_id": "352a1f74b5634cf0b417fac39a73ed36"
            }
          },
          "metadata": {}
        },
        {
          "output_type": "display_data",
          "data": {
            "text/plain": [
              "Epoch 79/400:   0%|          | 0/3 [00:00<?, ?it/s]"
            ],
            "application/vnd.jupyter.widget-view+json": {
              "version_major": 2,
              "version_minor": 0,
              "model_id": "1562dbf0a7b44ba0b1b22361f74950d4"
            }
          },
          "metadata": {}
        },
        {
          "output_type": "display_data",
          "data": {
            "text/plain": [
              "Epoch 80/400:   0%|          | 0/3 [00:00<?, ?it/s]"
            ],
            "application/vnd.jupyter.widget-view+json": {
              "version_major": 2,
              "version_minor": 0,
              "model_id": "c81c78b026784f09807a227ceb68b27e"
            }
          },
          "metadata": {}
        },
        {
          "output_type": "display_data",
          "data": {
            "text/plain": [
              "Epoch 81/400:   0%|          | 0/3 [00:00<?, ?it/s]"
            ],
            "application/vnd.jupyter.widget-view+json": {
              "version_major": 2,
              "version_minor": 0,
              "model_id": "864b9af40cc24cf396b050234a390092"
            }
          },
          "metadata": {}
        },
        {
          "output_type": "display_data",
          "data": {
            "text/plain": [
              "Epoch 82/400:   0%|          | 0/3 [00:00<?, ?it/s]"
            ],
            "application/vnd.jupyter.widget-view+json": {
              "version_major": 2,
              "version_minor": 0,
              "model_id": "943cb66a64714399813af7d7b1fcc70d"
            }
          },
          "metadata": {}
        },
        {
          "output_type": "display_data",
          "data": {
            "text/plain": [
              "Epoch 83/400:   0%|          | 0/3 [00:00<?, ?it/s]"
            ],
            "application/vnd.jupyter.widget-view+json": {
              "version_major": 2,
              "version_minor": 0,
              "model_id": "c99a817bdacc4204a98d60ffc10757b2"
            }
          },
          "metadata": {}
        },
        {
          "output_type": "display_data",
          "data": {
            "text/plain": [
              "Epoch 84/400:   0%|          | 0/3 [00:00<?, ?it/s]"
            ],
            "application/vnd.jupyter.widget-view+json": {
              "version_major": 2,
              "version_minor": 0,
              "model_id": "8b258207681a42c1bf4c30489b2ec961"
            }
          },
          "metadata": {}
        },
        {
          "output_type": "display_data",
          "data": {
            "text/plain": [
              "Epoch 85/400:   0%|          | 0/3 [00:00<?, ?it/s]"
            ],
            "application/vnd.jupyter.widget-view+json": {
              "version_major": 2,
              "version_minor": 0,
              "model_id": "1952a9c41bb945d3877ac25a95ddcb1a"
            }
          },
          "metadata": {}
        },
        {
          "output_type": "display_data",
          "data": {
            "text/plain": [
              "Epoch 86/400:   0%|          | 0/3 [00:00<?, ?it/s]"
            ],
            "application/vnd.jupyter.widget-view+json": {
              "version_major": 2,
              "version_minor": 0,
              "model_id": "2066744f81e04e668ea2897d1fd76d2b"
            }
          },
          "metadata": {}
        },
        {
          "output_type": "display_data",
          "data": {
            "text/plain": [
              "Epoch 87/400:   0%|          | 0/3 [00:00<?, ?it/s]"
            ],
            "application/vnd.jupyter.widget-view+json": {
              "version_major": 2,
              "version_minor": 0,
              "model_id": "6903856bdf9441e9a6a2d70fb996160c"
            }
          },
          "metadata": {}
        },
        {
          "output_type": "display_data",
          "data": {
            "text/plain": [
              "Epoch 88/400:   0%|          | 0/3 [00:00<?, ?it/s]"
            ],
            "application/vnd.jupyter.widget-view+json": {
              "version_major": 2,
              "version_minor": 0,
              "model_id": "7e328f3bb7414efcbc06d67ea4f13e32"
            }
          },
          "metadata": {}
        },
        {
          "output_type": "display_data",
          "data": {
            "text/plain": [
              "Epoch 89/400:   0%|          | 0/3 [00:00<?, ?it/s]"
            ],
            "application/vnd.jupyter.widget-view+json": {
              "version_major": 2,
              "version_minor": 0,
              "model_id": "c013f1c460d14a2195bb6ff6283e0571"
            }
          },
          "metadata": {}
        },
        {
          "output_type": "display_data",
          "data": {
            "text/plain": [
              "Epoch 90/400:   0%|          | 0/3 [00:00<?, ?it/s]"
            ],
            "application/vnd.jupyter.widget-view+json": {
              "version_major": 2,
              "version_minor": 0,
              "model_id": "c0a1ba936723467db91f947cdc7ffedd"
            }
          },
          "metadata": {}
        },
        {
          "output_type": "display_data",
          "data": {
            "text/plain": [
              "Epoch 91/400:   0%|          | 0/3 [00:00<?, ?it/s]"
            ],
            "application/vnd.jupyter.widget-view+json": {
              "version_major": 2,
              "version_minor": 0,
              "model_id": "09e2d731b9c24a25a82cde5698d1eec9"
            }
          },
          "metadata": {}
        },
        {
          "output_type": "display_data",
          "data": {
            "text/plain": [
              "Epoch 92/400:   0%|          | 0/3 [00:00<?, ?it/s]"
            ],
            "application/vnd.jupyter.widget-view+json": {
              "version_major": 2,
              "version_minor": 0,
              "model_id": "c561ce48987543d3891a128fdeab1ed3"
            }
          },
          "metadata": {}
        },
        {
          "output_type": "display_data",
          "data": {
            "text/plain": [
              "Epoch 93/400:   0%|          | 0/3 [00:00<?, ?it/s]"
            ],
            "application/vnd.jupyter.widget-view+json": {
              "version_major": 2,
              "version_minor": 0,
              "model_id": "0ed291e4a11a4090b1ebd09e2f6402a8"
            }
          },
          "metadata": {}
        },
        {
          "output_type": "display_data",
          "data": {
            "text/plain": [
              "Epoch 94/400:   0%|          | 0/3 [00:00<?, ?it/s]"
            ],
            "application/vnd.jupyter.widget-view+json": {
              "version_major": 2,
              "version_minor": 0,
              "model_id": "d430e5806bd9416aa2fd7f3ecbee25c8"
            }
          },
          "metadata": {}
        },
        {
          "output_type": "display_data",
          "data": {
            "text/plain": [
              "Epoch 95/400:   0%|          | 0/3 [00:00<?, ?it/s]"
            ],
            "application/vnd.jupyter.widget-view+json": {
              "version_major": 2,
              "version_minor": 0,
              "model_id": "5049d79d2b7e4946b89ed5bf54fe47b5"
            }
          },
          "metadata": {}
        },
        {
          "output_type": "display_data",
          "data": {
            "text/plain": [
              "Epoch 96/400:   0%|          | 0/3 [00:00<?, ?it/s]"
            ],
            "application/vnd.jupyter.widget-view+json": {
              "version_major": 2,
              "version_minor": 0,
              "model_id": "25bde25978f040f88a205627b071459f"
            }
          },
          "metadata": {}
        },
        {
          "output_type": "display_data",
          "data": {
            "text/plain": [
              "Epoch 97/400:   0%|          | 0/3 [00:00<?, ?it/s]"
            ],
            "application/vnd.jupyter.widget-view+json": {
              "version_major": 2,
              "version_minor": 0,
              "model_id": "36b555764fbe4cf390ed5c40738d29cf"
            }
          },
          "metadata": {}
        },
        {
          "output_type": "display_data",
          "data": {
            "text/plain": [
              "Epoch 98/400:   0%|          | 0/3 [00:00<?, ?it/s]"
            ],
            "application/vnd.jupyter.widget-view+json": {
              "version_major": 2,
              "version_minor": 0,
              "model_id": "97686f5bc7c944a3a21eff38ca61aa85"
            }
          },
          "metadata": {}
        },
        {
          "output_type": "display_data",
          "data": {
            "text/plain": [
              "Epoch 99/400:   0%|          | 0/3 [00:00<?, ?it/s]"
            ],
            "application/vnd.jupyter.widget-view+json": {
              "version_major": 2,
              "version_minor": 0,
              "model_id": "3c997fd829bb4b6e806d7d7979b854d1"
            }
          },
          "metadata": {}
        },
        {
          "output_type": "display_data",
          "data": {
            "text/plain": [
              "Epoch 100/400:   0%|          | 0/3 [00:00<?, ?it/s]"
            ],
            "application/vnd.jupyter.widget-view+json": {
              "version_major": 2,
              "version_minor": 0,
              "model_id": "e006f438fd37412e99976cda4794b4f1"
            }
          },
          "metadata": {}
        },
        {
          "output_type": "display_data",
          "data": {
            "text/plain": [
              "Epoch 101/400:   0%|          | 0/3 [00:00<?, ?it/s]"
            ],
            "application/vnd.jupyter.widget-view+json": {
              "version_major": 2,
              "version_minor": 0,
              "model_id": "4797010cd91e47d895fa89e1923b8edc"
            }
          },
          "metadata": {}
        },
        {
          "output_type": "display_data",
          "data": {
            "text/plain": [
              "Epoch 102/400:   0%|          | 0/3 [00:00<?, ?it/s]"
            ],
            "application/vnd.jupyter.widget-view+json": {
              "version_major": 2,
              "version_minor": 0,
              "model_id": "0b63ac3b24c242679aafa5529afa28db"
            }
          },
          "metadata": {}
        },
        {
          "output_type": "display_data",
          "data": {
            "text/plain": [
              "Epoch 103/400:   0%|          | 0/3 [00:00<?, ?it/s]"
            ],
            "application/vnd.jupyter.widget-view+json": {
              "version_major": 2,
              "version_minor": 0,
              "model_id": "ccaceafa8d2b48e1ae0593f823e25b0a"
            }
          },
          "metadata": {}
        },
        {
          "output_type": "display_data",
          "data": {
            "text/plain": [
              "Epoch 104/400:   0%|          | 0/3 [00:00<?, ?it/s]"
            ],
            "application/vnd.jupyter.widget-view+json": {
              "version_major": 2,
              "version_minor": 0,
              "model_id": "c4abddf78f914740b419a4c1c81bce64"
            }
          },
          "metadata": {}
        },
        {
          "output_type": "display_data",
          "data": {
            "text/plain": [
              "Epoch 105/400:   0%|          | 0/3 [00:00<?, ?it/s]"
            ],
            "application/vnd.jupyter.widget-view+json": {
              "version_major": 2,
              "version_minor": 0,
              "model_id": "0109f853534d4e84a86732773ce58dbc"
            }
          },
          "metadata": {}
        },
        {
          "output_type": "display_data",
          "data": {
            "text/plain": [
              "Epoch 106/400:   0%|          | 0/3 [00:00<?, ?it/s]"
            ],
            "application/vnd.jupyter.widget-view+json": {
              "version_major": 2,
              "version_minor": 0,
              "model_id": "ce574d390e704d0887294d7e39ce6b57"
            }
          },
          "metadata": {}
        },
        {
          "output_type": "display_data",
          "data": {
            "text/plain": [
              "Epoch 107/400:   0%|          | 0/3 [00:00<?, ?it/s]"
            ],
            "application/vnd.jupyter.widget-view+json": {
              "version_major": 2,
              "version_minor": 0,
              "model_id": "e0ddf86ff27a433aa32b1b4c01ff00e7"
            }
          },
          "metadata": {}
        },
        {
          "output_type": "display_data",
          "data": {
            "text/plain": [
              "Epoch 108/400:   0%|          | 0/3 [00:00<?, ?it/s]"
            ],
            "application/vnd.jupyter.widget-view+json": {
              "version_major": 2,
              "version_minor": 0,
              "model_id": "fc7e7c809ee24450b6ad371c2dd5a6bf"
            }
          },
          "metadata": {}
        },
        {
          "output_type": "display_data",
          "data": {
            "text/plain": [
              "Epoch 109/400:   0%|          | 0/3 [00:00<?, ?it/s]"
            ],
            "application/vnd.jupyter.widget-view+json": {
              "version_major": 2,
              "version_minor": 0,
              "model_id": "b9659bebdf8a47ccab88f0808b2a0599"
            }
          },
          "metadata": {}
        },
        {
          "output_type": "display_data",
          "data": {
            "text/plain": [
              "Epoch 110/400:   0%|          | 0/3 [00:00<?, ?it/s]"
            ],
            "application/vnd.jupyter.widget-view+json": {
              "version_major": 2,
              "version_minor": 0,
              "model_id": "d3002e295b38445cbc46378534bc098f"
            }
          },
          "metadata": {}
        },
        {
          "output_type": "display_data",
          "data": {
            "text/plain": [
              "Epoch 111/400:   0%|          | 0/3 [00:00<?, ?it/s]"
            ],
            "application/vnd.jupyter.widget-view+json": {
              "version_major": 2,
              "version_minor": 0,
              "model_id": "30c9f583fedb43ae9d3911fbb5bbb066"
            }
          },
          "metadata": {}
        },
        {
          "output_type": "display_data",
          "data": {
            "text/plain": [
              "Epoch 112/400:   0%|          | 0/3 [00:00<?, ?it/s]"
            ],
            "application/vnd.jupyter.widget-view+json": {
              "version_major": 2,
              "version_minor": 0,
              "model_id": "46b765cd2c9b46799bcb926b27535aae"
            }
          },
          "metadata": {}
        },
        {
          "output_type": "display_data",
          "data": {
            "text/plain": [
              "Epoch 113/400:   0%|          | 0/3 [00:00<?, ?it/s]"
            ],
            "application/vnd.jupyter.widget-view+json": {
              "version_major": 2,
              "version_minor": 0,
              "model_id": "dd4714c9fb8349e8b9df2efa056a70ad"
            }
          },
          "metadata": {}
        },
        {
          "output_type": "display_data",
          "data": {
            "text/plain": [
              "Epoch 114/400:   0%|          | 0/3 [00:00<?, ?it/s]"
            ],
            "application/vnd.jupyter.widget-view+json": {
              "version_major": 2,
              "version_minor": 0,
              "model_id": "5c01cf394a9c45e3bfafbfe4221b22e0"
            }
          },
          "metadata": {}
        },
        {
          "output_type": "display_data",
          "data": {
            "text/plain": [
              "Epoch 115/400:   0%|          | 0/3 [00:00<?, ?it/s]"
            ],
            "application/vnd.jupyter.widget-view+json": {
              "version_major": 2,
              "version_minor": 0,
              "model_id": "ee46e9010375420795772715711e610a"
            }
          },
          "metadata": {}
        },
        {
          "output_type": "display_data",
          "data": {
            "text/plain": [
              "Epoch 116/400:   0%|          | 0/3 [00:00<?, ?it/s]"
            ],
            "application/vnd.jupyter.widget-view+json": {
              "version_major": 2,
              "version_minor": 0,
              "model_id": "17fa42e363bc44f3b542c899f9ab5705"
            }
          },
          "metadata": {}
        },
        {
          "output_type": "display_data",
          "data": {
            "text/plain": [
              "Epoch 117/400:   0%|          | 0/3 [00:00<?, ?it/s]"
            ],
            "application/vnd.jupyter.widget-view+json": {
              "version_major": 2,
              "version_minor": 0,
              "model_id": "f074ef10064c4ea1aca9954aa94556c2"
            }
          },
          "metadata": {}
        },
        {
          "output_type": "display_data",
          "data": {
            "text/plain": [
              "Epoch 118/400:   0%|          | 0/3 [00:00<?, ?it/s]"
            ],
            "application/vnd.jupyter.widget-view+json": {
              "version_major": 2,
              "version_minor": 0,
              "model_id": "c39cccb85bd7481abc1a2886431aa077"
            }
          },
          "metadata": {}
        },
        {
          "output_type": "display_data",
          "data": {
            "text/plain": [
              "Epoch 119/400:   0%|          | 0/3 [00:00<?, ?it/s]"
            ],
            "application/vnd.jupyter.widget-view+json": {
              "version_major": 2,
              "version_minor": 0,
              "model_id": "6c0f3f5e8bc4408c986958293c63f8ab"
            }
          },
          "metadata": {}
        },
        {
          "output_type": "display_data",
          "data": {
            "text/plain": [
              "Epoch 120/400:   0%|          | 0/3 [00:00<?, ?it/s]"
            ],
            "application/vnd.jupyter.widget-view+json": {
              "version_major": 2,
              "version_minor": 0,
              "model_id": "96a89a11ffb249f38799d989a1ab0cb9"
            }
          },
          "metadata": {}
        },
        {
          "output_type": "display_data",
          "data": {
            "text/plain": [
              "Epoch 121/400:   0%|          | 0/3 [00:00<?, ?it/s]"
            ],
            "application/vnd.jupyter.widget-view+json": {
              "version_major": 2,
              "version_minor": 0,
              "model_id": "7786fce12b804b8ea84f5190939d6051"
            }
          },
          "metadata": {}
        },
        {
          "output_type": "display_data",
          "data": {
            "text/plain": [
              "Epoch 122/400:   0%|          | 0/3 [00:00<?, ?it/s]"
            ],
            "application/vnd.jupyter.widget-view+json": {
              "version_major": 2,
              "version_minor": 0,
              "model_id": "8187b96be14c4b1496df196932d04b98"
            }
          },
          "metadata": {}
        },
        {
          "output_type": "display_data",
          "data": {
            "text/plain": [
              "Epoch 123/400:   0%|          | 0/3 [00:00<?, ?it/s]"
            ],
            "application/vnd.jupyter.widget-view+json": {
              "version_major": 2,
              "version_minor": 0,
              "model_id": "609439e7f2a8499b84e67be92d1defab"
            }
          },
          "metadata": {}
        },
        {
          "output_type": "display_data",
          "data": {
            "text/plain": [
              "Epoch 124/400:   0%|          | 0/3 [00:00<?, ?it/s]"
            ],
            "application/vnd.jupyter.widget-view+json": {
              "version_major": 2,
              "version_minor": 0,
              "model_id": "915d32af1fa44a94b78a6d7d35f3b5d4"
            }
          },
          "metadata": {}
        },
        {
          "output_type": "display_data",
          "data": {
            "text/plain": [
              "Epoch 125/400:   0%|          | 0/3 [00:00<?, ?it/s]"
            ],
            "application/vnd.jupyter.widget-view+json": {
              "version_major": 2,
              "version_minor": 0,
              "model_id": "a452941ecfc34bb79f89fe41749235ba"
            }
          },
          "metadata": {}
        },
        {
          "output_type": "display_data",
          "data": {
            "text/plain": [
              "Epoch 126/400:   0%|          | 0/3 [00:00<?, ?it/s]"
            ],
            "application/vnd.jupyter.widget-view+json": {
              "version_major": 2,
              "version_minor": 0,
              "model_id": "4805409691e5409dbd68e4016ab4879d"
            }
          },
          "metadata": {}
        },
        {
          "output_type": "display_data",
          "data": {
            "text/plain": [
              "Epoch 127/400:   0%|          | 0/3 [00:00<?, ?it/s]"
            ],
            "application/vnd.jupyter.widget-view+json": {
              "version_major": 2,
              "version_minor": 0,
              "model_id": "4a1ae7d805f440939b61474888bf42b7"
            }
          },
          "metadata": {}
        },
        {
          "output_type": "display_data",
          "data": {
            "text/plain": [
              "Epoch 128/400:   0%|          | 0/3 [00:00<?, ?it/s]"
            ],
            "application/vnd.jupyter.widget-view+json": {
              "version_major": 2,
              "version_minor": 0,
              "model_id": "5d7eb6c3eaf24bacae49cf99a709bd56"
            }
          },
          "metadata": {}
        },
        {
          "output_type": "display_data",
          "data": {
            "text/plain": [
              "Epoch 129/400:   0%|          | 0/3 [00:00<?, ?it/s]"
            ],
            "application/vnd.jupyter.widget-view+json": {
              "version_major": 2,
              "version_minor": 0,
              "model_id": "bdf4cea85d154a7bbfa9d12e9f54a488"
            }
          },
          "metadata": {}
        },
        {
          "output_type": "display_data",
          "data": {
            "text/plain": [
              "Epoch 130/400:   0%|          | 0/3 [00:00<?, ?it/s]"
            ],
            "application/vnd.jupyter.widget-view+json": {
              "version_major": 2,
              "version_minor": 0,
              "model_id": "44a8f0365f8e4b60a3de1ec94f30c78f"
            }
          },
          "metadata": {}
        },
        {
          "output_type": "display_data",
          "data": {
            "text/plain": [
              "Epoch 131/400:   0%|          | 0/3 [00:00<?, ?it/s]"
            ],
            "application/vnd.jupyter.widget-view+json": {
              "version_major": 2,
              "version_minor": 0,
              "model_id": "88554fef86e340899dab62dc67ef2686"
            }
          },
          "metadata": {}
        },
        {
          "output_type": "display_data",
          "data": {
            "text/plain": [
              "Epoch 132/400:   0%|          | 0/3 [00:00<?, ?it/s]"
            ],
            "application/vnd.jupyter.widget-view+json": {
              "version_major": 2,
              "version_minor": 0,
              "model_id": "c39d77b4dbd744f8a4ded0810c4394e7"
            }
          },
          "metadata": {}
        },
        {
          "output_type": "display_data",
          "data": {
            "text/plain": [
              "Epoch 133/400:   0%|          | 0/3 [00:00<?, ?it/s]"
            ],
            "application/vnd.jupyter.widget-view+json": {
              "version_major": 2,
              "version_minor": 0,
              "model_id": "10c5f83e0dd94459be6f111358c7f5b9"
            }
          },
          "metadata": {}
        },
        {
          "output_type": "display_data",
          "data": {
            "text/plain": [
              "Epoch 134/400:   0%|          | 0/3 [00:00<?, ?it/s]"
            ],
            "application/vnd.jupyter.widget-view+json": {
              "version_major": 2,
              "version_minor": 0,
              "model_id": "5c69c2f55e5a450da00fd64604a343f5"
            }
          },
          "metadata": {}
        },
        {
          "output_type": "display_data",
          "data": {
            "text/plain": [
              "Epoch 135/400:   0%|          | 0/3 [00:00<?, ?it/s]"
            ],
            "application/vnd.jupyter.widget-view+json": {
              "version_major": 2,
              "version_minor": 0,
              "model_id": "641d22c3e13d4f2aa9f460f4503100f1"
            }
          },
          "metadata": {}
        },
        {
          "output_type": "display_data",
          "data": {
            "text/plain": [
              "Epoch 136/400:   0%|          | 0/3 [00:00<?, ?it/s]"
            ],
            "application/vnd.jupyter.widget-view+json": {
              "version_major": 2,
              "version_minor": 0,
              "model_id": "b38951f07025490ab3218f1799dcdec1"
            }
          },
          "metadata": {}
        },
        {
          "output_type": "display_data",
          "data": {
            "text/plain": [
              "Epoch 137/400:   0%|          | 0/3 [00:00<?, ?it/s]"
            ],
            "application/vnd.jupyter.widget-view+json": {
              "version_major": 2,
              "version_minor": 0,
              "model_id": "158dcddb25a6485ab23b200508692579"
            }
          },
          "metadata": {}
        },
        {
          "output_type": "display_data",
          "data": {
            "text/plain": [
              "Epoch 138/400:   0%|          | 0/3 [00:00<?, ?it/s]"
            ],
            "application/vnd.jupyter.widget-view+json": {
              "version_major": 2,
              "version_minor": 0,
              "model_id": "d88deb5976004ceeab1a2181153a9709"
            }
          },
          "metadata": {}
        },
        {
          "output_type": "display_data",
          "data": {
            "text/plain": [
              "Epoch 139/400:   0%|          | 0/3 [00:00<?, ?it/s]"
            ],
            "application/vnd.jupyter.widget-view+json": {
              "version_major": 2,
              "version_minor": 0,
              "model_id": "4c373cdf49014d6aae56e3d67df63f02"
            }
          },
          "metadata": {}
        },
        {
          "output_type": "display_data",
          "data": {
            "text/plain": [
              "Epoch 140/400:   0%|          | 0/3 [00:00<?, ?it/s]"
            ],
            "application/vnd.jupyter.widget-view+json": {
              "version_major": 2,
              "version_minor": 0,
              "model_id": "bdaaf5951bc2452e9651e977d022e58d"
            }
          },
          "metadata": {}
        },
        {
          "output_type": "display_data",
          "data": {
            "text/plain": [
              "Epoch 141/400:   0%|          | 0/3 [00:00<?, ?it/s]"
            ],
            "application/vnd.jupyter.widget-view+json": {
              "version_major": 2,
              "version_minor": 0,
              "model_id": "ab1427f1eb594274be68eb804bb03a47"
            }
          },
          "metadata": {}
        },
        {
          "output_type": "display_data",
          "data": {
            "text/plain": [
              "Epoch 142/400:   0%|          | 0/3 [00:00<?, ?it/s]"
            ],
            "application/vnd.jupyter.widget-view+json": {
              "version_major": 2,
              "version_minor": 0,
              "model_id": "73d12f13090149fb937e08ac34f619ff"
            }
          },
          "metadata": {}
        },
        {
          "output_type": "display_data",
          "data": {
            "text/plain": [
              "Epoch 143/400:   0%|          | 0/3 [00:00<?, ?it/s]"
            ],
            "application/vnd.jupyter.widget-view+json": {
              "version_major": 2,
              "version_minor": 0,
              "model_id": "3a014ddaba604a818faef3d3ba4a6225"
            }
          },
          "metadata": {}
        },
        {
          "output_type": "display_data",
          "data": {
            "text/plain": [
              "Epoch 144/400:   0%|          | 0/3 [00:00<?, ?it/s]"
            ],
            "application/vnd.jupyter.widget-view+json": {
              "version_major": 2,
              "version_minor": 0,
              "model_id": "e76630b16d4e4050ab88d40723fcda28"
            }
          },
          "metadata": {}
        },
        {
          "output_type": "display_data",
          "data": {
            "text/plain": [
              "Epoch 145/400:   0%|          | 0/3 [00:00<?, ?it/s]"
            ],
            "application/vnd.jupyter.widget-view+json": {
              "version_major": 2,
              "version_minor": 0,
              "model_id": "83fe1fa62f3840e1a3842cf9c58930a9"
            }
          },
          "metadata": {}
        },
        {
          "output_type": "display_data",
          "data": {
            "text/plain": [
              "Epoch 146/400:   0%|          | 0/3 [00:00<?, ?it/s]"
            ],
            "application/vnd.jupyter.widget-view+json": {
              "version_major": 2,
              "version_minor": 0,
              "model_id": "92aa5c259b954226af0481ba8cc22344"
            }
          },
          "metadata": {}
        },
        {
          "output_type": "display_data",
          "data": {
            "text/plain": [
              "Epoch 147/400:   0%|          | 0/3 [00:00<?, ?it/s]"
            ],
            "application/vnd.jupyter.widget-view+json": {
              "version_major": 2,
              "version_minor": 0,
              "model_id": "bf05f7804c07441f8e26ba765de0d4da"
            }
          },
          "metadata": {}
        },
        {
          "output_type": "display_data",
          "data": {
            "text/plain": [
              "Epoch 148/400:   0%|          | 0/3 [00:00<?, ?it/s]"
            ],
            "application/vnd.jupyter.widget-view+json": {
              "version_major": 2,
              "version_minor": 0,
              "model_id": "ee230eeb71664532a0cef0859394e881"
            }
          },
          "metadata": {}
        },
        {
          "output_type": "display_data",
          "data": {
            "text/plain": [
              "Epoch 149/400:   0%|          | 0/3 [00:00<?, ?it/s]"
            ],
            "application/vnd.jupyter.widget-view+json": {
              "version_major": 2,
              "version_minor": 0,
              "model_id": "75b46585dafd419292b17f9e45f64eb6"
            }
          },
          "metadata": {}
        },
        {
          "output_type": "display_data",
          "data": {
            "text/plain": [
              "Epoch 150/400:   0%|          | 0/3 [00:00<?, ?it/s]"
            ],
            "application/vnd.jupyter.widget-view+json": {
              "version_major": 2,
              "version_minor": 0,
              "model_id": "af3b3bdda16641949ba5c4b6c63088ee"
            }
          },
          "metadata": {}
        },
        {
          "output_type": "display_data",
          "data": {
            "text/plain": [
              "Epoch 151/400:   0%|          | 0/3 [00:00<?, ?it/s]"
            ],
            "application/vnd.jupyter.widget-view+json": {
              "version_major": 2,
              "version_minor": 0,
              "model_id": "481de66380ca47faa10413f2f7180bd9"
            }
          },
          "metadata": {}
        },
        {
          "output_type": "display_data",
          "data": {
            "text/plain": [
              "Epoch 152/400:   0%|          | 0/3 [00:00<?, ?it/s]"
            ],
            "application/vnd.jupyter.widget-view+json": {
              "version_major": 2,
              "version_minor": 0,
              "model_id": "a23e20e2bca84a6b94f3b9285501af2f"
            }
          },
          "metadata": {}
        },
        {
          "output_type": "display_data",
          "data": {
            "text/plain": [
              "Epoch 153/400:   0%|          | 0/3 [00:00<?, ?it/s]"
            ],
            "application/vnd.jupyter.widget-view+json": {
              "version_major": 2,
              "version_minor": 0,
              "model_id": "3bae164ebc5e4681800e79ad453c5883"
            }
          },
          "metadata": {}
        },
        {
          "output_type": "display_data",
          "data": {
            "text/plain": [
              "Epoch 154/400:   0%|          | 0/3 [00:00<?, ?it/s]"
            ],
            "application/vnd.jupyter.widget-view+json": {
              "version_major": 2,
              "version_minor": 0,
              "model_id": "6b870e169f1f4bbb9b3caecfc016256b"
            }
          },
          "metadata": {}
        },
        {
          "output_type": "display_data",
          "data": {
            "text/plain": [
              "Epoch 155/400:   0%|          | 0/3 [00:00<?, ?it/s]"
            ],
            "application/vnd.jupyter.widget-view+json": {
              "version_major": 2,
              "version_minor": 0,
              "model_id": "cd3dd484d23c49df948aa85a8eb82658"
            }
          },
          "metadata": {}
        },
        {
          "output_type": "display_data",
          "data": {
            "text/plain": [
              "Epoch 156/400:   0%|          | 0/3 [00:00<?, ?it/s]"
            ],
            "application/vnd.jupyter.widget-view+json": {
              "version_major": 2,
              "version_minor": 0,
              "model_id": "380fcce9a09e443695fc228981ab3d2a"
            }
          },
          "metadata": {}
        },
        {
          "output_type": "display_data",
          "data": {
            "text/plain": [
              "Epoch 157/400:   0%|          | 0/3 [00:00<?, ?it/s]"
            ],
            "application/vnd.jupyter.widget-view+json": {
              "version_major": 2,
              "version_minor": 0,
              "model_id": "ddcc1f9384914ac092e872499b21c6ef"
            }
          },
          "metadata": {}
        },
        {
          "output_type": "display_data",
          "data": {
            "text/plain": [
              "Epoch 158/400:   0%|          | 0/3 [00:00<?, ?it/s]"
            ],
            "application/vnd.jupyter.widget-view+json": {
              "version_major": 2,
              "version_minor": 0,
              "model_id": "fd02fb1d50004507bb7181e7834f0088"
            }
          },
          "metadata": {}
        },
        {
          "output_type": "display_data",
          "data": {
            "text/plain": [
              "Epoch 159/400:   0%|          | 0/3 [00:00<?, ?it/s]"
            ],
            "application/vnd.jupyter.widget-view+json": {
              "version_major": 2,
              "version_minor": 0,
              "model_id": "f04c9012abcb49fbbfe92d9c23844e2e"
            }
          },
          "metadata": {}
        },
        {
          "output_type": "display_data",
          "data": {
            "text/plain": [
              "Epoch 160/400:   0%|          | 0/3 [00:00<?, ?it/s]"
            ],
            "application/vnd.jupyter.widget-view+json": {
              "version_major": 2,
              "version_minor": 0,
              "model_id": "6d01aa492e064a479f89dd759ae59ad4"
            }
          },
          "metadata": {}
        },
        {
          "output_type": "display_data",
          "data": {
            "text/plain": [
              "Epoch 161/400:   0%|          | 0/3 [00:00<?, ?it/s]"
            ],
            "application/vnd.jupyter.widget-view+json": {
              "version_major": 2,
              "version_minor": 0,
              "model_id": "82f0c86daa7d45ebaf9255f3323e76fe"
            }
          },
          "metadata": {}
        },
        {
          "output_type": "display_data",
          "data": {
            "text/plain": [
              "Epoch 162/400:   0%|          | 0/3 [00:00<?, ?it/s]"
            ],
            "application/vnd.jupyter.widget-view+json": {
              "version_major": 2,
              "version_minor": 0,
              "model_id": "c6f77104328249eca0e77db00f3d8035"
            }
          },
          "metadata": {}
        },
        {
          "output_type": "display_data",
          "data": {
            "text/plain": [
              "Epoch 163/400:   0%|          | 0/3 [00:00<?, ?it/s]"
            ],
            "application/vnd.jupyter.widget-view+json": {
              "version_major": 2,
              "version_minor": 0,
              "model_id": "b1705d7b7f3d458ead7d411a9cb65286"
            }
          },
          "metadata": {}
        },
        {
          "output_type": "display_data",
          "data": {
            "text/plain": [
              "Epoch 164/400:   0%|          | 0/3 [00:00<?, ?it/s]"
            ],
            "application/vnd.jupyter.widget-view+json": {
              "version_major": 2,
              "version_minor": 0,
              "model_id": "7ce6e2c309004d1d8f853fc78d341598"
            }
          },
          "metadata": {}
        },
        {
          "output_type": "display_data",
          "data": {
            "text/plain": [
              "Epoch 165/400:   0%|          | 0/3 [00:00<?, ?it/s]"
            ],
            "application/vnd.jupyter.widget-view+json": {
              "version_major": 2,
              "version_minor": 0,
              "model_id": "34f521ed595949b490670c99761b18d4"
            }
          },
          "metadata": {}
        },
        {
          "output_type": "display_data",
          "data": {
            "text/plain": [
              "Epoch 166/400:   0%|          | 0/3 [00:00<?, ?it/s]"
            ],
            "application/vnd.jupyter.widget-view+json": {
              "version_major": 2,
              "version_minor": 0,
              "model_id": "d4e30ebeea07469c8f2cd4f65e98e6df"
            }
          },
          "metadata": {}
        },
        {
          "output_type": "display_data",
          "data": {
            "text/plain": [
              "Epoch 167/400:   0%|          | 0/3 [00:00<?, ?it/s]"
            ],
            "application/vnd.jupyter.widget-view+json": {
              "version_major": 2,
              "version_minor": 0,
              "model_id": "cc07a5501a594c2189aed86bec02adc9"
            }
          },
          "metadata": {}
        },
        {
          "output_type": "display_data",
          "data": {
            "text/plain": [
              "Epoch 168/400:   0%|          | 0/3 [00:00<?, ?it/s]"
            ],
            "application/vnd.jupyter.widget-view+json": {
              "version_major": 2,
              "version_minor": 0,
              "model_id": "c634b273c6ab493c85851daedcce946f"
            }
          },
          "metadata": {}
        },
        {
          "output_type": "display_data",
          "data": {
            "text/plain": [
              "Epoch 169/400:   0%|          | 0/3 [00:00<?, ?it/s]"
            ],
            "application/vnd.jupyter.widget-view+json": {
              "version_major": 2,
              "version_minor": 0,
              "model_id": "a2abe663f4f7450e99c592a8f25238c4"
            }
          },
          "metadata": {}
        },
        {
          "output_type": "display_data",
          "data": {
            "text/plain": [
              "Epoch 170/400:   0%|          | 0/3 [00:00<?, ?it/s]"
            ],
            "application/vnd.jupyter.widget-view+json": {
              "version_major": 2,
              "version_minor": 0,
              "model_id": "eea1104b018f46849fb210320d4552bd"
            }
          },
          "metadata": {}
        },
        {
          "output_type": "display_data",
          "data": {
            "text/plain": [
              "Epoch 171/400:   0%|          | 0/3 [00:00<?, ?it/s]"
            ],
            "application/vnd.jupyter.widget-view+json": {
              "version_major": 2,
              "version_minor": 0,
              "model_id": "d69caa6495034043968acfcf38633c9e"
            }
          },
          "metadata": {}
        },
        {
          "output_type": "display_data",
          "data": {
            "text/plain": [
              "Epoch 172/400:   0%|          | 0/3 [00:00<?, ?it/s]"
            ],
            "application/vnd.jupyter.widget-view+json": {
              "version_major": 2,
              "version_minor": 0,
              "model_id": "553073a5973f4385aeefbafde4e44506"
            }
          },
          "metadata": {}
        },
        {
          "output_type": "display_data",
          "data": {
            "text/plain": [
              "Epoch 173/400:   0%|          | 0/3 [00:00<?, ?it/s]"
            ],
            "application/vnd.jupyter.widget-view+json": {
              "version_major": 2,
              "version_minor": 0,
              "model_id": "0320fc1189dd49a09670b2890a465e4b"
            }
          },
          "metadata": {}
        },
        {
          "output_type": "display_data",
          "data": {
            "text/plain": [
              "Epoch 174/400:   0%|          | 0/3 [00:00<?, ?it/s]"
            ],
            "application/vnd.jupyter.widget-view+json": {
              "version_major": 2,
              "version_minor": 0,
              "model_id": "d6dcee38736a44dfbb56b17a91f92f8a"
            }
          },
          "metadata": {}
        },
        {
          "output_type": "display_data",
          "data": {
            "text/plain": [
              "Epoch 175/400:   0%|          | 0/3 [00:00<?, ?it/s]"
            ],
            "application/vnd.jupyter.widget-view+json": {
              "version_major": 2,
              "version_minor": 0,
              "model_id": "aa92dbe86f3945948d7ecc0765254155"
            }
          },
          "metadata": {}
        },
        {
          "output_type": "display_data",
          "data": {
            "text/plain": [
              "Epoch 176/400:   0%|          | 0/3 [00:00<?, ?it/s]"
            ],
            "application/vnd.jupyter.widget-view+json": {
              "version_major": 2,
              "version_minor": 0,
              "model_id": "fc511c9d46d647f581a918878cc92fba"
            }
          },
          "metadata": {}
        },
        {
          "output_type": "display_data",
          "data": {
            "text/plain": [
              "Epoch 177/400:   0%|          | 0/3 [00:00<?, ?it/s]"
            ],
            "application/vnd.jupyter.widget-view+json": {
              "version_major": 2,
              "version_minor": 0,
              "model_id": "6c40bdeada954026b576ea6941f3c966"
            }
          },
          "metadata": {}
        },
        {
          "output_type": "display_data",
          "data": {
            "text/plain": [
              "Epoch 178/400:   0%|          | 0/3 [00:00<?, ?it/s]"
            ],
            "application/vnd.jupyter.widget-view+json": {
              "version_major": 2,
              "version_minor": 0,
              "model_id": "0bf2d44c3d3a4932873d7cd18aa292ab"
            }
          },
          "metadata": {}
        },
        {
          "output_type": "display_data",
          "data": {
            "text/plain": [
              "Epoch 179/400:   0%|          | 0/3 [00:00<?, ?it/s]"
            ],
            "application/vnd.jupyter.widget-view+json": {
              "version_major": 2,
              "version_minor": 0,
              "model_id": "3d361f8d81394adfb276cc1218bdca87"
            }
          },
          "metadata": {}
        },
        {
          "output_type": "display_data",
          "data": {
            "text/plain": [
              "Epoch 180/400:   0%|          | 0/3 [00:00<?, ?it/s]"
            ],
            "application/vnd.jupyter.widget-view+json": {
              "version_major": 2,
              "version_minor": 0,
              "model_id": "a02a91161fc947b5ac87de61dbe9ab06"
            }
          },
          "metadata": {}
        },
        {
          "output_type": "display_data",
          "data": {
            "text/plain": [
              "Epoch 181/400:   0%|          | 0/3 [00:00<?, ?it/s]"
            ],
            "application/vnd.jupyter.widget-view+json": {
              "version_major": 2,
              "version_minor": 0,
              "model_id": "623b7c861c514f7788afa8378aab6205"
            }
          },
          "metadata": {}
        },
        {
          "output_type": "display_data",
          "data": {
            "text/plain": [
              "Epoch 182/400:   0%|          | 0/3 [00:00<?, ?it/s]"
            ],
            "application/vnd.jupyter.widget-view+json": {
              "version_major": 2,
              "version_minor": 0,
              "model_id": "a3d40d32f7c24844b294e14475449602"
            }
          },
          "metadata": {}
        },
        {
          "output_type": "display_data",
          "data": {
            "text/plain": [
              "Epoch 183/400:   0%|          | 0/3 [00:00<?, ?it/s]"
            ],
            "application/vnd.jupyter.widget-view+json": {
              "version_major": 2,
              "version_minor": 0,
              "model_id": "9f67651f8ee6490cb3cdea2ef3b28aed"
            }
          },
          "metadata": {}
        },
        {
          "output_type": "display_data",
          "data": {
            "text/plain": [
              "Epoch 184/400:   0%|          | 0/3 [00:00<?, ?it/s]"
            ],
            "application/vnd.jupyter.widget-view+json": {
              "version_major": 2,
              "version_minor": 0,
              "model_id": "5bf42fc076eb455ea6584c609604c90c"
            }
          },
          "metadata": {}
        },
        {
          "output_type": "display_data",
          "data": {
            "text/plain": [
              "Epoch 185/400:   0%|          | 0/3 [00:00<?, ?it/s]"
            ],
            "application/vnd.jupyter.widget-view+json": {
              "version_major": 2,
              "version_minor": 0,
              "model_id": "5080e285c0d84abba42a6902e1f03d7b"
            }
          },
          "metadata": {}
        },
        {
          "output_type": "display_data",
          "data": {
            "text/plain": [
              "Epoch 186/400:   0%|          | 0/3 [00:00<?, ?it/s]"
            ],
            "application/vnd.jupyter.widget-view+json": {
              "version_major": 2,
              "version_minor": 0,
              "model_id": "e09ccc5fe9794ba986644429ba725a79"
            }
          },
          "metadata": {}
        },
        {
          "output_type": "display_data",
          "data": {
            "text/plain": [
              "Epoch 187/400:   0%|          | 0/3 [00:00<?, ?it/s]"
            ],
            "application/vnd.jupyter.widget-view+json": {
              "version_major": 2,
              "version_minor": 0,
              "model_id": "bd9f449c96df4dad8d67ef6b92e856b1"
            }
          },
          "metadata": {}
        },
        {
          "output_type": "display_data",
          "data": {
            "text/plain": [
              "Epoch 188/400:   0%|          | 0/3 [00:00<?, ?it/s]"
            ],
            "application/vnd.jupyter.widget-view+json": {
              "version_major": 2,
              "version_minor": 0,
              "model_id": "bcfcb94a2fbe463aa6ce9c2f51f6c77a"
            }
          },
          "metadata": {}
        },
        {
          "output_type": "display_data",
          "data": {
            "text/plain": [
              "Epoch 189/400:   0%|          | 0/3 [00:00<?, ?it/s]"
            ],
            "application/vnd.jupyter.widget-view+json": {
              "version_major": 2,
              "version_minor": 0,
              "model_id": "49257fe81e8e4bf1a794022afe09b939"
            }
          },
          "metadata": {}
        },
        {
          "output_type": "display_data",
          "data": {
            "text/plain": [
              "Epoch 190/400:   0%|          | 0/3 [00:00<?, ?it/s]"
            ],
            "application/vnd.jupyter.widget-view+json": {
              "version_major": 2,
              "version_minor": 0,
              "model_id": "66fc3336e9014b46999ef8007f01d05e"
            }
          },
          "metadata": {}
        },
        {
          "output_type": "display_data",
          "data": {
            "text/plain": [
              "Epoch 191/400:   0%|          | 0/3 [00:00<?, ?it/s]"
            ],
            "application/vnd.jupyter.widget-view+json": {
              "version_major": 2,
              "version_minor": 0,
              "model_id": "58051dd96cb841cab8c7c3583461eb6e"
            }
          },
          "metadata": {}
        },
        {
          "output_type": "display_data",
          "data": {
            "text/plain": [
              "Epoch 192/400:   0%|          | 0/3 [00:00<?, ?it/s]"
            ],
            "application/vnd.jupyter.widget-view+json": {
              "version_major": 2,
              "version_minor": 0,
              "model_id": "3fcf7ca8841a4778b40d6321e4d6cdca"
            }
          },
          "metadata": {}
        },
        {
          "output_type": "display_data",
          "data": {
            "text/plain": [
              "Epoch 193/400:   0%|          | 0/3 [00:00<?, ?it/s]"
            ],
            "application/vnd.jupyter.widget-view+json": {
              "version_major": 2,
              "version_minor": 0,
              "model_id": "dd11b6d5424f4ce8a6a39b402569a02e"
            }
          },
          "metadata": {}
        },
        {
          "output_type": "display_data",
          "data": {
            "text/plain": [
              "Epoch 194/400:   0%|          | 0/3 [00:00<?, ?it/s]"
            ],
            "application/vnd.jupyter.widget-view+json": {
              "version_major": 2,
              "version_minor": 0,
              "model_id": "5e0bd49802a4473a9abc7c65263b87ce"
            }
          },
          "metadata": {}
        },
        {
          "output_type": "display_data",
          "data": {
            "text/plain": [
              "Epoch 195/400:   0%|          | 0/3 [00:00<?, ?it/s]"
            ],
            "application/vnd.jupyter.widget-view+json": {
              "version_major": 2,
              "version_minor": 0,
              "model_id": "09aafd0cd88d4a1396fa66632ca8ec81"
            }
          },
          "metadata": {}
        },
        {
          "output_type": "display_data",
          "data": {
            "text/plain": [
              "Epoch 196/400:   0%|          | 0/3 [00:00<?, ?it/s]"
            ],
            "application/vnd.jupyter.widget-view+json": {
              "version_major": 2,
              "version_minor": 0,
              "model_id": "b06766ce5ab94ec289b7b94620155ee6"
            }
          },
          "metadata": {}
        },
        {
          "output_type": "display_data",
          "data": {
            "text/plain": [
              "Epoch 197/400:   0%|          | 0/3 [00:00<?, ?it/s]"
            ],
            "application/vnd.jupyter.widget-view+json": {
              "version_major": 2,
              "version_minor": 0,
              "model_id": "a19061d1f6d646128379652f24622323"
            }
          },
          "metadata": {}
        },
        {
          "output_type": "display_data",
          "data": {
            "text/plain": [
              "Epoch 198/400:   0%|          | 0/3 [00:00<?, ?it/s]"
            ],
            "application/vnd.jupyter.widget-view+json": {
              "version_major": 2,
              "version_minor": 0,
              "model_id": "e347ea058be84079952455bfc703a22a"
            }
          },
          "metadata": {}
        },
        {
          "output_type": "display_data",
          "data": {
            "text/plain": [
              "Epoch 199/400:   0%|          | 0/3 [00:00<?, ?it/s]"
            ],
            "application/vnd.jupyter.widget-view+json": {
              "version_major": 2,
              "version_minor": 0,
              "model_id": "fc060d29c06049a98d8e792c6f6e5470"
            }
          },
          "metadata": {}
        },
        {
          "output_type": "display_data",
          "data": {
            "text/plain": [
              "Epoch 200/400:   0%|          | 0/3 [00:00<?, ?it/s]"
            ],
            "application/vnd.jupyter.widget-view+json": {
              "version_major": 2,
              "version_minor": 0,
              "model_id": "36b8865ccf884e4c9d8b00bbab1452e9"
            }
          },
          "metadata": {}
        },
        {
          "output_type": "display_data",
          "data": {
            "text/plain": [
              "Epoch 201/400:   0%|          | 0/3 [00:00<?, ?it/s]"
            ],
            "application/vnd.jupyter.widget-view+json": {
              "version_major": 2,
              "version_minor": 0,
              "model_id": "adfe16c2b1544790a632a5ba5db2030e"
            }
          },
          "metadata": {}
        },
        {
          "output_type": "display_data",
          "data": {
            "text/plain": [
              "Epoch 202/400:   0%|          | 0/3 [00:00<?, ?it/s]"
            ],
            "application/vnd.jupyter.widget-view+json": {
              "version_major": 2,
              "version_minor": 0,
              "model_id": "eeb54995cb8c4ec49d3a9d607fd9c2ef"
            }
          },
          "metadata": {}
        },
        {
          "output_type": "display_data",
          "data": {
            "text/plain": [
              "Epoch 203/400:   0%|          | 0/3 [00:00<?, ?it/s]"
            ],
            "application/vnd.jupyter.widget-view+json": {
              "version_major": 2,
              "version_minor": 0,
              "model_id": "e92387c4cfdf4e6085e4d87d82acbf49"
            }
          },
          "metadata": {}
        },
        {
          "output_type": "display_data",
          "data": {
            "text/plain": [
              "Epoch 204/400:   0%|          | 0/3 [00:00<?, ?it/s]"
            ],
            "application/vnd.jupyter.widget-view+json": {
              "version_major": 2,
              "version_minor": 0,
              "model_id": "92824a8e6e624bd485e573264b0e93b9"
            }
          },
          "metadata": {}
        },
        {
          "output_type": "display_data",
          "data": {
            "text/plain": [
              "Epoch 205/400:   0%|          | 0/3 [00:00<?, ?it/s]"
            ],
            "application/vnd.jupyter.widget-view+json": {
              "version_major": 2,
              "version_minor": 0,
              "model_id": "e77ddf838d664f539a1290c6874d66fc"
            }
          },
          "metadata": {}
        },
        {
          "output_type": "display_data",
          "data": {
            "text/plain": [
              "Epoch 206/400:   0%|          | 0/3 [00:00<?, ?it/s]"
            ],
            "application/vnd.jupyter.widget-view+json": {
              "version_major": 2,
              "version_minor": 0,
              "model_id": "23e7c9d9fe1d448ab49b20907ea0bf14"
            }
          },
          "metadata": {}
        },
        {
          "output_type": "display_data",
          "data": {
            "text/plain": [
              "Epoch 207/400:   0%|          | 0/3 [00:00<?, ?it/s]"
            ],
            "application/vnd.jupyter.widget-view+json": {
              "version_major": 2,
              "version_minor": 0,
              "model_id": "62beb7b7394144beaa9b8d591c808ff6"
            }
          },
          "metadata": {}
        },
        {
          "output_type": "display_data",
          "data": {
            "text/plain": [
              "Epoch 208/400:   0%|          | 0/3 [00:00<?, ?it/s]"
            ],
            "application/vnd.jupyter.widget-view+json": {
              "version_major": 2,
              "version_minor": 0,
              "model_id": "38205f3d31de46bcb02b6cebc39b6bbd"
            }
          },
          "metadata": {}
        },
        {
          "output_type": "display_data",
          "data": {
            "text/plain": [
              "Epoch 209/400:   0%|          | 0/3 [00:00<?, ?it/s]"
            ],
            "application/vnd.jupyter.widget-view+json": {
              "version_major": 2,
              "version_minor": 0,
              "model_id": "31f536d20c9a4850b8b5a976d26cd6f6"
            }
          },
          "metadata": {}
        },
        {
          "output_type": "display_data",
          "data": {
            "text/plain": [
              "Epoch 210/400:   0%|          | 0/3 [00:00<?, ?it/s]"
            ],
            "application/vnd.jupyter.widget-view+json": {
              "version_major": 2,
              "version_minor": 0,
              "model_id": "50e9c1a2be384b1395a410fc37c4408f"
            }
          },
          "metadata": {}
        },
        {
          "output_type": "display_data",
          "data": {
            "text/plain": [
              "Epoch 211/400:   0%|          | 0/3 [00:00<?, ?it/s]"
            ],
            "application/vnd.jupyter.widget-view+json": {
              "version_major": 2,
              "version_minor": 0,
              "model_id": "e9dbb6ae19074605aaff4809f12c25d9"
            }
          },
          "metadata": {}
        },
        {
          "output_type": "display_data",
          "data": {
            "text/plain": [
              "Epoch 212/400:   0%|          | 0/3 [00:00<?, ?it/s]"
            ],
            "application/vnd.jupyter.widget-view+json": {
              "version_major": 2,
              "version_minor": 0,
              "model_id": "7e5f0cb1760b45f8b8c68296b87ec6d3"
            }
          },
          "metadata": {}
        },
        {
          "output_type": "display_data",
          "data": {
            "text/plain": [
              "Epoch 213/400:   0%|          | 0/3 [00:00<?, ?it/s]"
            ],
            "application/vnd.jupyter.widget-view+json": {
              "version_major": 2,
              "version_minor": 0,
              "model_id": "493096795f8148ff9267fcba91e46827"
            }
          },
          "metadata": {}
        },
        {
          "output_type": "display_data",
          "data": {
            "text/plain": [
              "Epoch 214/400:   0%|          | 0/3 [00:00<?, ?it/s]"
            ],
            "application/vnd.jupyter.widget-view+json": {
              "version_major": 2,
              "version_minor": 0,
              "model_id": "1f62bc70482f4f95b96dd51b8f52d10c"
            }
          },
          "metadata": {}
        },
        {
          "output_type": "display_data",
          "data": {
            "text/plain": [
              "Epoch 215/400:   0%|          | 0/3 [00:00<?, ?it/s]"
            ],
            "application/vnd.jupyter.widget-view+json": {
              "version_major": 2,
              "version_minor": 0,
              "model_id": "dfd9992654b34890b43dda8fcab2e3dd"
            }
          },
          "metadata": {}
        },
        {
          "output_type": "display_data",
          "data": {
            "text/plain": [
              "Epoch 216/400:   0%|          | 0/3 [00:00<?, ?it/s]"
            ],
            "application/vnd.jupyter.widget-view+json": {
              "version_major": 2,
              "version_minor": 0,
              "model_id": "eb855152e83b4feda3004bd2e10652e8"
            }
          },
          "metadata": {}
        },
        {
          "output_type": "display_data",
          "data": {
            "text/plain": [
              "Epoch 217/400:   0%|          | 0/3 [00:00<?, ?it/s]"
            ],
            "application/vnd.jupyter.widget-view+json": {
              "version_major": 2,
              "version_minor": 0,
              "model_id": "8bd2664558594560a43d71efb19f5494"
            }
          },
          "metadata": {}
        },
        {
          "output_type": "display_data",
          "data": {
            "text/plain": [
              "Epoch 218/400:   0%|          | 0/3 [00:00<?, ?it/s]"
            ],
            "application/vnd.jupyter.widget-view+json": {
              "version_major": 2,
              "version_minor": 0,
              "model_id": "42464828bb25420cb7874ea701e5c095"
            }
          },
          "metadata": {}
        },
        {
          "output_type": "display_data",
          "data": {
            "text/plain": [
              "Epoch 219/400:   0%|          | 0/3 [00:00<?, ?it/s]"
            ],
            "application/vnd.jupyter.widget-view+json": {
              "version_major": 2,
              "version_minor": 0,
              "model_id": "0e788433a0ba42688de8c6d85ea573d4"
            }
          },
          "metadata": {}
        },
        {
          "output_type": "display_data",
          "data": {
            "text/plain": [
              "Epoch 220/400:   0%|          | 0/3 [00:00<?, ?it/s]"
            ],
            "application/vnd.jupyter.widget-view+json": {
              "version_major": 2,
              "version_minor": 0,
              "model_id": "b13f5205dae2482eb5b412552f073f4e"
            }
          },
          "metadata": {}
        },
        {
          "output_type": "display_data",
          "data": {
            "text/plain": [
              "Epoch 221/400:   0%|          | 0/3 [00:00<?, ?it/s]"
            ],
            "application/vnd.jupyter.widget-view+json": {
              "version_major": 2,
              "version_minor": 0,
              "model_id": "a44ab48c23dc4db2bc6fc9c694f4e5e4"
            }
          },
          "metadata": {}
        },
        {
          "output_type": "display_data",
          "data": {
            "text/plain": [
              "Epoch 222/400:   0%|          | 0/3 [00:00<?, ?it/s]"
            ],
            "application/vnd.jupyter.widget-view+json": {
              "version_major": 2,
              "version_minor": 0,
              "model_id": "4fafaa66858d44bba5837b379470544d"
            }
          },
          "metadata": {}
        },
        {
          "output_type": "display_data",
          "data": {
            "text/plain": [
              "Epoch 223/400:   0%|          | 0/3 [00:00<?, ?it/s]"
            ],
            "application/vnd.jupyter.widget-view+json": {
              "version_major": 2,
              "version_minor": 0,
              "model_id": "032be5a8f64446c6ba1b1040cf7c02ea"
            }
          },
          "metadata": {}
        },
        {
          "output_type": "display_data",
          "data": {
            "text/plain": [
              "Epoch 224/400:   0%|          | 0/3 [00:00<?, ?it/s]"
            ],
            "application/vnd.jupyter.widget-view+json": {
              "version_major": 2,
              "version_minor": 0,
              "model_id": "276779c667564344bff34ead3510636e"
            }
          },
          "metadata": {}
        },
        {
          "output_type": "display_data",
          "data": {
            "text/plain": [
              "Epoch 225/400:   0%|          | 0/3 [00:00<?, ?it/s]"
            ],
            "application/vnd.jupyter.widget-view+json": {
              "version_major": 2,
              "version_minor": 0,
              "model_id": "80f7fc086e4e4b8c897cad010e35a711"
            }
          },
          "metadata": {}
        },
        {
          "output_type": "display_data",
          "data": {
            "text/plain": [
              "Epoch 226/400:   0%|          | 0/3 [00:00<?, ?it/s]"
            ],
            "application/vnd.jupyter.widget-view+json": {
              "version_major": 2,
              "version_minor": 0,
              "model_id": "46e834648118487b8d8d4a3f46c1dceb"
            }
          },
          "metadata": {}
        },
        {
          "output_type": "error",
          "ename": "RuntimeError",
          "evalue": "CUDA error: device-side assert triggered\nCUDA kernel errors might be asynchronously reported at some other API call, so the stacktrace below might be incorrect.\nFor debugging consider passing CUDA_LAUNCH_BLOCKING=1\nCompile with `TORCH_USE_CUDA_DSA` to enable device-side assertions.\n",
          "traceback": [
            "\u001b[0;31m---------------------------------------------------------------------------\u001b[0m",
            "\u001b[0;31mRuntimeError\u001b[0m                              Traceback (most recent call last)",
            "\u001b[0;32m/tmp/ipython-input-18-528057691.py\u001b[0m in \u001b[0;36m<cell line: 0>\u001b[0;34m()\u001b[0m\n\u001b[1;32m     98\u001b[0m         \u001b[0mloss\u001b[0m \u001b[0;34m=\u001b[0m \u001b[0mtorch\u001b[0m\u001b[0;34m.\u001b[0m\u001b[0mnn\u001b[0m\u001b[0;34m.\u001b[0m\u001b[0mfunctional\u001b[0m\u001b[0;34m.\u001b[0m\u001b[0mbinary_cross_entropy\u001b[0m\u001b[0;34m(\u001b[0m\u001b[0mpredictions\u001b[0m\u001b[0;34m,\u001b[0m \u001b[0mtargets\u001b[0m\u001b[0;34m)\u001b[0m\u001b[0;34m\u001b[0m\u001b[0;34m\u001b[0m\u001b[0m\n\u001b[1;32m     99\u001b[0m         \u001b[0moptimizer\u001b[0m\u001b[0;34m.\u001b[0m\u001b[0mzero_grad\u001b[0m\u001b[0;34m(\u001b[0m\u001b[0;34m)\u001b[0m\u001b[0;34m\u001b[0m\u001b[0;34m\u001b[0m\u001b[0m\n\u001b[0;32m--> 100\u001b[0;31m         \u001b[0mloss\u001b[0m\u001b[0;34m.\u001b[0m\u001b[0mbackward\u001b[0m\u001b[0;34m(\u001b[0m\u001b[0;34m)\u001b[0m\u001b[0;34m\u001b[0m\u001b[0;34m\u001b[0m\u001b[0m\n\u001b[0m\u001b[1;32m    101\u001b[0m         \u001b[0moptimizer\u001b[0m\u001b[0;34m.\u001b[0m\u001b[0mstep\u001b[0m\u001b[0;34m(\u001b[0m\u001b[0;34m)\u001b[0m\u001b[0;34m\u001b[0m\u001b[0;34m\u001b[0m\u001b[0m\n\u001b[1;32m    102\u001b[0m         \u001b[0;32mtry\u001b[0m\u001b[0;34m:\u001b[0m\u001b[0;34m\u001b[0m\u001b[0;34m\u001b[0m\u001b[0m\n",
            "\u001b[0;32m/usr/local/lib/python3.11/dist-packages/torch/_tensor.py\u001b[0m in \u001b[0;36mbackward\u001b[0;34m(self, gradient, retain_graph, create_graph, inputs)\u001b[0m\n\u001b[1;32m    624\u001b[0m                 \u001b[0minputs\u001b[0m\u001b[0;34m=\u001b[0m\u001b[0minputs\u001b[0m\u001b[0;34m,\u001b[0m\u001b[0;34m\u001b[0m\u001b[0;34m\u001b[0m\u001b[0m\n\u001b[1;32m    625\u001b[0m             )\n\u001b[0;32m--> 626\u001b[0;31m         torch.autograd.backward(\n\u001b[0m\u001b[1;32m    627\u001b[0m             \u001b[0mself\u001b[0m\u001b[0;34m,\u001b[0m \u001b[0mgradient\u001b[0m\u001b[0;34m,\u001b[0m \u001b[0mretain_graph\u001b[0m\u001b[0;34m,\u001b[0m \u001b[0mcreate_graph\u001b[0m\u001b[0;34m,\u001b[0m \u001b[0minputs\u001b[0m\u001b[0;34m=\u001b[0m\u001b[0minputs\u001b[0m\u001b[0;34m\u001b[0m\u001b[0;34m\u001b[0m\u001b[0m\n\u001b[1;32m    628\u001b[0m         )\n",
            "\u001b[0;32m/usr/local/lib/python3.11/dist-packages/torch/autograd/__init__.py\u001b[0m in \u001b[0;36mbackward\u001b[0;34m(tensors, grad_tensors, retain_graph, create_graph, grad_variables, inputs)\u001b[0m\n\u001b[1;32m    345\u001b[0m     \u001b[0;31m# some Python versions print out the first line of a multi-line function\u001b[0m\u001b[0;34m\u001b[0m\u001b[0;34m\u001b[0m\u001b[0m\n\u001b[1;32m    346\u001b[0m     \u001b[0;31m# calls in the traceback and some print out the last line\u001b[0m\u001b[0;34m\u001b[0m\u001b[0;34m\u001b[0m\u001b[0m\n\u001b[0;32m--> 347\u001b[0;31m     _engine_run_backward(\n\u001b[0m\u001b[1;32m    348\u001b[0m         \u001b[0mtensors\u001b[0m\u001b[0;34m,\u001b[0m\u001b[0;34m\u001b[0m\u001b[0;34m\u001b[0m\u001b[0m\n\u001b[1;32m    349\u001b[0m         \u001b[0mgrad_tensors_\u001b[0m\u001b[0;34m,\u001b[0m\u001b[0;34m\u001b[0m\u001b[0;34m\u001b[0m\u001b[0m\n",
            "\u001b[0;32m/usr/local/lib/python3.11/dist-packages/torch/autograd/graph.py\u001b[0m in \u001b[0;36m_engine_run_backward\u001b[0;34m(t_outputs, *args, **kwargs)\u001b[0m\n\u001b[1;32m    821\u001b[0m         \u001b[0munregister_hooks\u001b[0m \u001b[0;34m=\u001b[0m \u001b[0m_register_logging_hooks_on_whole_graph\u001b[0m\u001b[0;34m(\u001b[0m\u001b[0mt_outputs\u001b[0m\u001b[0;34m)\u001b[0m\u001b[0;34m\u001b[0m\u001b[0;34m\u001b[0m\u001b[0m\n\u001b[1;32m    822\u001b[0m     \u001b[0;32mtry\u001b[0m\u001b[0;34m:\u001b[0m\u001b[0;34m\u001b[0m\u001b[0;34m\u001b[0m\u001b[0m\n\u001b[0;32m--> 823\u001b[0;31m         return Variable._execution_engine.run_backward(  # Calls into the C++ engine to run the backward pass\n\u001b[0m\u001b[1;32m    824\u001b[0m             \u001b[0mt_outputs\u001b[0m\u001b[0;34m,\u001b[0m \u001b[0;34m*\u001b[0m\u001b[0margs\u001b[0m\u001b[0;34m,\u001b[0m \u001b[0;34m**\u001b[0m\u001b[0mkwargs\u001b[0m\u001b[0;34m\u001b[0m\u001b[0;34m\u001b[0m\u001b[0m\n\u001b[1;32m    825\u001b[0m         )  # Calls into the C++ engine to run the backward pass\n",
            "\u001b[0;31mRuntimeError\u001b[0m: CUDA error: device-side assert triggered\nCUDA kernel errors might be asynchronously reported at some other API call, so the stacktrace below might be incorrect.\nFor debugging consider passing CUDA_LAUNCH_BLOCKING=1\nCompile with `TORCH_USE_CUDA_DSA` to enable device-side assertions.\n"
          ]
        }
      ]
    },
    {
      "cell_type": "markdown",
      "source": [
        "# Other Tests"
      ],
      "metadata": {
        "id": "Rv4VQiLLX6Gl"
      }
    },
    {
      "cell_type": "code",
      "source": [
        "data_dict:dict[str, dict[str, torch.Tensor]] = torch.load(os.path.join(DATASETS_DIR, 'mnist_4x4_split_11.pt'))\n",
        "\n",
        "train_dict = data_dict['train']\n",
        "train_symbols = train_dict['symbols']\n",
        "train_digits = train_dict['digits']\n",
        "train_labels = train_dict['labels']\n",
        "\n",
        "n_images, dimension, _, symbol_size, _ = train_symbols.shape\n",
        "n_blocks = int(dimension ** 0.5)\n",
        "\n",
        "vlm_indices = torch.randperm(n_images)[:5]\n",
        "pil_image_list, base64_image_list = symbols_to_images(vlm_indices, dimension, symbol_size, train_symbols, train_labels)\n",
        "\n",
        "n_rows = torch.floor(torch.tensor(vlm_indices.shape[0] ** 0.5)).int().item()\n",
        "n_cols = torch.ceil(torch.tensor(vlm_indices.shape[0] / n_rows)).int().item()\n",
        "fig, axs = plt.subplots(nrows=n_rows, ncols=n_cols, figsize=(n_cols * 2.5, n_rows * 2.5))\n",
        "for k, ax in enumerate(axs.flatten()):\n",
        "    ax.axis('off')\n",
        "    if k < vlm_indices.shape[0]:\n",
        "        ax.imshow(pil_image_list[k], cmap='gray')\n",
        "        ax.set_title(f'Img: {k}, Idx: {vlm_indices[k]}', fontsize=10)\n",
        "fig.tight_layout()\n",
        "fig.show()\n",
        "\n",
        "for n, vlm_index in enumerate(vlm_indices):\n",
        "    print(f'Img: {k}, Idx: {vlm_index}, Lbl: {train_labels[vlm_index].item()}')\n",
        "    print(test_digits[n, :, :])"
      ],
      "metadata": {
        "id": "MkWleaM7X-ya"
      },
      "execution_count": null,
      "outputs": []
    }
  ]
}