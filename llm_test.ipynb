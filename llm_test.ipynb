{
  "nbformat": 4,
  "nbformat_minor": 0,
  "metadata": {
    "colab": {
      "provenance": [],
      "collapsed_sections": [
        "ssSWUETlmJqF",
        "tld0b4TkAp4x",
        "rEHwVrOoAtAR",
        "aQ_mm5_FAvHI",
        "NhkqnpjGAyJi",
        "nDn9UkBYA1jx",
        "yKRXfcWdD7iC",
        "nCcBEtt-oBYc",
        "3vQREwYvNBKu",
        "d9COhg-qkoSx",
        "Rv4VQiLLX6Gl"
      ],
      "gpuType": "T4"
    },
    "kernelspec": {
      "name": "python3",
      "display_name": "Python 3"
    },
    "language_info": {
      "name": "python"
    },
    "accelerator": "GPU"
  },
  "cells": [
    {
      "cell_type": "markdown",
      "source": [
        "# Network Initialization"
      ],
      "metadata": {
        "id": "ssSWUETlmJqF"
      }
    },
    {
      "cell_type": "code",
      "source": [
        "!pip install lark groq -q"
      ],
      "metadata": {
        "id": "s2fRMtssl37b"
      },
      "execution_count": 1,
      "outputs": []
    },
    {
      "cell_type": "code",
      "source": [
        "from google.colab import drive\n",
        "from typing import Any, Callable, Literal\n",
        "from datetime import datetime\n",
        "from tqdm.auto import tqdm\n",
        "from PIL import Image, ImageDraw, ImageFont\n",
        "from sklearn.metrics import roc_auc_score\n",
        "from groq import Groq\n",
        "import os\n",
        "import shutil\n",
        "import io\n",
        "import re\n",
        "import json\n",
        "import base64\n",
        "import random\n",
        "import inspect\n",
        "import time\n",
        "import lark\n",
        "import torch\n",
        "import pandas as pd\n",
        "import matplotlib.pyplot as plt\n",
        "\n",
        "ROOT_DIR = os.getcwd()\n",
        "DRIVE_DATASETS_DIR = os.path.join(ROOT_DIR, 'drive', 'MyDrive', 'Thesis', 'visudo_pc', 'datasets')\n",
        "DRIVE_LOGS_DIR = os.path.join(ROOT_DIR, 'drive', 'MyDrive', 'Thesis', 'visudo_pc', 'logs')\n",
        "DATASETS_DIR = os.path.join(ROOT_DIR, 'data', 'datasets', 'visudo_pc')\n",
        "GROQ_API_KEY = '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'"
      ],
      "metadata": {
        "id": "fOd37di8lyWE"
      },
      "execution_count": 2,
      "outputs": []
    },
    {
      "cell_type": "code",
      "source": [
        "drive.mount('/content/drive')\n",
        "if not os.path.exists(DATASETS_DIR):\n",
        "    os.makedirs(DATASETS_DIR)\n",
        "for file_name in os.listdir(DRIVE_DATASETS_DIR):\n",
        "    if file_name.endswith('.pt'):\n",
        "        file_path = os.path.join(DRIVE_DATASETS_DIR, file_name)\n",
        "        shutil.copy(file_path, DATASETS_DIR)"
      ],
      "metadata": {
        "id": "YeIF_HiJmcAk",
        "colab": {
          "base_uri": "https://localhost:8080/"
        },
        "outputId": "7ab4ba81-c1b6-405b-959a-57b7d5c6a0aa"
      },
      "execution_count": 3,
      "outputs": [
        {
          "output_type": "stream",
          "name": "stdout",
          "text": [
            "Drive already mounted at /content/drive; to attempt to forcibly remount, call drive.mount(\"/content/drive\", force_remount=True).\n"
          ]
        }
      ]
    },
    {
      "cell_type": "markdown",
      "source": [
        "# LTN"
      ],
      "metadata": {
        "id": "tld0b4TkAp4x"
      }
    },
    {
      "cell_type": "markdown",
      "source": [
        "## FOL Grammar"
      ],
      "metadata": {
        "id": "rEHwVrOoAtAR"
      }
    },
    {
      "cell_type": "code",
      "source": [
        "CONSTANT_TERMINAL = 'constant'\n",
        "VARIABLE_TERMINAL = 'variable'\n",
        "FUNCTION_TERMINAL = 'function'\n",
        "PREDICATE_TERMINAL = 'predicate'\n",
        "WRAPPER_TERMINAL = 'wrapper'\n",
        "LOGICAL_NOT_TERMINAL = 'logical_not'\n",
        "LOGICAL_AND_TERMINAL = 'logical_and'\n",
        "LOGICAL_OR_TERMINAL = 'logical_or'\n",
        "IMPLIES_TERMINAL = 'implies'\n",
        "IFF_TERMINAL = 'iff'\n",
        "EXISTS_TERMINAL = 'exists'\n",
        "FORALL_TERMINAL = 'forall'\n",
        "\n",
        "CONSTANT_SYMBOL = 'C'\n",
        "VARIABLE_SYMBOL = 'x'\n",
        "FUNCTION_SYMBOL = 'f'\n",
        "PREDICATE_SYMBOL = 'P'\n",
        "WRAPPER_SYMBOL = ''\n",
        "LOGICAL_NOT_SYMBOL = '!'\n",
        "LOGICAL_AND_SYMBOL = '&'\n",
        "LOGICAL_OR_SYMBOL = '|'\n",
        "IMPLIES_SYMBOL = 'implies'\n",
        "IFF_SYMBOL = 'iff'\n",
        "EXISTS_SYMBOL = 'exists'\n",
        "FORALL_SYMBOL = 'forall'\n",
        "\n",
        "FOL_GRAMMAR = f'''\n",
        "//// Explanations ////\n",
        "\n",
        "    // {CONSTANT_TERMINAL} identifiers always start with \"{CONSTANT_SYMBOL}\"\n",
        "    // {VARIABLE_TERMINAL} identifiers always start with \"{VARIABLE_SYMBOL}\"\n",
        "    // {FUNCTION_TERMINAL} identifiers always start with \"{FUNCTION_SYMBOL}\"\n",
        "    // {PREDICATE_TERMINAL} identifiers always start with \"{PREDICATE_SYMBOL}\"\n",
        "    // wrapper symbol is \"{WRAPPER_SYMBOL}(\" and \")\"\n",
        "    // negation symbol is \"{LOGICAL_NOT_SYMBOL}\"\n",
        "    // conjunction symbol is \"{LOGICAL_AND_SYMBOL}\"\n",
        "    // disjunction symbol is \"{LOGICAL_OR_SYMBOL}\"\n",
        "    // implication symbol is \"{IMPLIES_SYMBOL}\"\n",
        "    // equivalence symbol is \"{IFF_SYMBOL}\"\n",
        "    // universal quantifier symbol is \"{FORALL_SYMBOL}\"\n",
        "    // existential quantifier symbol is \"{EXISTS_SYMBOL}\"\n",
        "\n",
        "//// Initialization ////\n",
        "\n",
        "    // imports\n",
        "     %import common.WS\n",
        "     %ignore WS\n",
        "\n",
        "    // entry point\n",
        "    ?start: expression\n",
        "\n",
        "//// Term-Level Terminal Definitions  ////\n",
        "\n",
        "    // Tree Structure:\n",
        "    // term\n",
        "    // ├─atom\n",
        "    // │ └─{CONSTANT_TERMINAL}, {VARIABLE_TERMINAL}\n",
        "    // └─mapper\n",
        "    //   └─{FUNCTION_TERMINAL}\n",
        "\n",
        "    // Abstract Terminal (no precedence)\n",
        "    ?term: {CONSTANT_TERMINAL} | {VARIABLE_TERMINAL} | {FUNCTION_TERMINAL}\n",
        "\n",
        "    // Concrete Terminals (no precedence)\n",
        "    {CONSTANT_TERMINAL}: /{CONSTANT_SYMBOL}[a-z0-9_]*/\n",
        "    {VARIABLE_TERMINAL}: /{VARIABLE_SYMBOL}[a-z0-9_]*/\n",
        "    {FUNCTION_TERMINAL}: /{FUNCTION_SYMBOL}[a-z0-9_]*/ \"(\" term (\",\" term)* \")\"\n",
        "\n",
        "//// Expression-Level Terminal Definitions ////\n",
        "\n",
        "    // Tree Structure:\n",
        "    // expression\n",
        "    // ├─evaluator\n",
        "    // │ └─{PREDICATE_TERMINAL}\n",
        "    // ├─unary_connective\n",
        "    // │ └─{WRAPPER_TERMINAL}, {LOGICAL_NOT_TERMINAL}\n",
        "    // ├─binary_connective\n",
        "    // │ └─{LOGICAL_AND_TERMINAL}, {LOGICAL_OR_TERMINAL}, {IMPLIES_TERMINAL}, {IFF_TERMINAL}\n",
        "    // └─quantifier\n",
        "    //   └─{EXISTS_TERMINAL}, {FORALL_TERMINAL}\n",
        "\n",
        "    // Abstract Terminal (ascending precedence)\n",
        "    ?expression: level_0\n",
        "    ?level_0: level_1 | {EXISTS_TERMINAL} | {FORALL_TERMINAL}\n",
        "    ?level_1: level_2 | {IFF_TERMINAL} | {IMPLIES_TERMINAL}\n",
        "    ?level_2: level_3 | {LOGICAL_OR_TERMINAL}\n",
        "    ?level_3: level_4 | {LOGICAL_AND_TERMINAL}\n",
        "    ?level_4: level_5 | {LOGICAL_NOT_TERMINAL} | {WRAPPER_TERMINAL}\n",
        "    ?level_5: predicate\n",
        "\n",
        "    // Concrete Terminals (ascending precedence)\n",
        "    {EXISTS_TERMINAL}: \"{EXISTS_SYMBOL}\" {VARIABLE_TERMINAL} (\",\" {VARIABLE_TERMINAL})* expression\n",
        "    {FORALL_TERMINAL}: \"{FORALL_SYMBOL}\" {VARIABLE_TERMINAL} (\",\" {VARIABLE_TERMINAL})* expression\n",
        "    {IFF_TERMINAL}: level_1 \"{IFF_SYMBOL}\" level_2\n",
        "    {IMPLIES_TERMINAL}: level_1 \"{IMPLIES_SYMBOL}\" level_2\n",
        "    {LOGICAL_OR_TERMINAL}: level_2 \"{LOGICAL_OR_SYMBOL}\" level_3\n",
        "    {LOGICAL_AND_TERMINAL}: level_4 \"{LOGICAL_AND_SYMBOL}\" level_3\n",
        "    {LOGICAL_NOT_TERMINAL}: \"{LOGICAL_NOT_SYMBOL}\" level_4\n",
        "    {WRAPPER_TERMINAL}: \"{WRAPPER_SYMBOL}(\" expression \")\"\n",
        "    {PREDICATE_TERMINAL}: /{PREDICATE_SYMBOL}[a-z0-9_]*/ \"(\" term (\",\" term)* \")\"\n",
        "'''"
      ],
      "metadata": {
        "id": "0TWedeN_A5QZ"
      },
      "execution_count": 4,
      "outputs": []
    },
    {
      "cell_type": "markdown",
      "source": [
        "## Groundings"
      ],
      "metadata": {
        "id": "aQ_mm5_FAvHI"
      }
    },
    {
      "cell_type": "code",
      "source": [
        "class Grd():\n",
        "\n",
        "    # Implicit Super Grounding\n",
        "    class Base():\n",
        "        def __init__(self, description:str, content:None|str|torch.Tensor|torch.nn.Module|Callable[..., torch.Tensor], hyper_arg_dict:dict[str, int|float]) -> None:\n",
        "            self.description = description\n",
        "            self.content = content\n",
        "            self.hyper_arg_dict = hyper_arg_dict\n",
        "        def __repr__(self) -> str:\n",
        "            return self.__str__()\n",
        "        def __str__(self) -> str:\n",
        "            return self.description\n",
        "        def __call__(self, *args:Any) -> Any:\n",
        "            raise NotImplementedError()\n",
        "\n",
        "    # Explicit Groundings\n",
        "    class Empty(Base):\n",
        "        def __init__(self) -> None:\n",
        "            super().__init__('empty', None, {})\n",
        "        def __call__(self) -> None:\n",
        "            return self.content\n",
        "\n",
        "    class Command(Base):\n",
        "        def __init__(self, command:str) -> None:\n",
        "            super().__init__('command', command, {})\n",
        "        def __call__(self) -> str:\n",
        "            return self.content\n",
        "\n",
        "    class Value(Base):\n",
        "        def __init__(self, tensor:torch.Tensor) -> None:\n",
        "            shape = 'scalar' if tensor.ndim == 0 else f'{tensor.shape[0]}x0' if tensor.ndim == 1 else 'x'.join(str(dim) for dim in tensor.shape)\n",
        "            trainability = 'trainable' if tensor.requires_grad else 'non-trainable'\n",
        "            super().__init__(f'tensor[{shape}, {trainability}]', tensor, {})\n",
        "        def __call__(self) -> torch.Tensor:\n",
        "            return self.content\n",
        "\n",
        "    class Network(Base):\n",
        "        def __init__(self, network:torch.nn.Module) -> None:\n",
        "            tot_params = sum(tensor.numel() for tensor in network.parameters())\n",
        "            tot_trainable_params = sum(tensor.numel() for tensor in network.parameters() if tensor.requires_grad)\n",
        "            super().__init__(f'network[{tot_params} params, {tot_trainable_params} trainable]', network, {})\n",
        "        def __call__(self, *args:torch.Tensor) -> torch.Tensor:\n",
        "            return self.content(*args)\n",
        "\n",
        "    class Routine(Base):\n",
        "        @classmethod\n",
        "        def wrap(cls, description:str) -> Callable[[Callable[..., torch.Tensor]], 'Grd.Routine']:\n",
        "            def decorator(routine: Callable[..., torch.Tensor]) -> Grd.Routine:\n",
        "                return Grd.Routine(staticmethod(routine), description)\n",
        "            return decorator\n",
        "        def __init__(self, routine:Callable[..., torch.Tensor], description:str):\n",
        "            signature = inspect.signature(routine).parameters\n",
        "            assert all(arg_value.annotation is not inspect._empty for arg_value in signature.values()), \"The routine must be type-hinted!\"\n",
        "            hyper_arg_dict = dict[str, int|float]()\n",
        "            for arg_name, arg_value in signature.items():\n",
        "                if arg_value.annotation in (int, float):\n",
        "                    hyper_arg_dict[arg_name] = arg_value.default if arg_value.default is not inspect._empty else None\n",
        "            if len(hyper_arg_dict) > 0:\n",
        "                hyper_arg = f', {len(hyper_arg_dict)} hyper-arg' + ('s' if len(hyper_arg_dict) > 1 else '') + f', {sum(hyper_arg_value is None for hyper_arg_value in hyper_arg_dict.values())} empty'\n",
        "            else:\n",
        "                hyper_arg = ''\n",
        "            super().__init__(f'{routine.__name__}[{description}{hyper_arg}]', routine, hyper_arg_dict)\n",
        "        def __call__(self, *args:torch.Tensor) -> torch.Tensor:\n",
        "            return self.content(*args, **self.hyper_arg_dict)"
      ],
      "metadata": {
        "id": "QY4IH2zDA_xx"
      },
      "execution_count": 5,
      "outputs": []
    },
    {
      "cell_type": "markdown",
      "source": [
        "### Tests"
      ],
      "metadata": {
        "id": "8Cs8H14Y2mBk"
      }
    },
    {
      "cell_type": "code",
      "source": [
        "a = 'hi'\n",
        "b = Grd.Command(a)\n",
        "print('command')\n",
        "print('description', b.description)\n",
        "print('content', b.content, a is b.content)\n",
        "print('arg_dict', b.hyper_arg_dict)\n",
        "print('call', b())\n",
        "print()\n",
        "\n",
        "a = torch.tensor([1, 2, 3])\n",
        "b = Grd.Value(a)\n",
        "print('value')\n",
        "print('description', b.description)\n",
        "print('content', b.content, a is b.content)\n",
        "print('arg_dict', b.hyper_arg_dict)\n",
        "print('call', b())\n",
        "print()\n",
        "\n",
        "a = torch.nn.Linear(3, 4)\n",
        "b = Grd.Network(a)\n",
        "c = torch.tensor([1.0, 2.0, 3.0])\n",
        "print('network')\n",
        "print('description', b.description)\n",
        "print('content', b.content, a is b.content)\n",
        "print('arg_dict', b.hyper_arg_dict)\n",
        "print('call', b(c))\n",
        "print()\n",
        "\n",
        "def a(x:torch.Tensor) -> torch.Tensor:\n",
        "    return x\n",
        "b = Grd.Routine(a, 'x + 1')\n",
        "c = torch.tensor([1.0, 2.0, 3.0])\n",
        "print('routine')\n",
        "print('description', b.description)\n",
        "print('content', b.content, a is b.content)\n",
        "print('arg_dict', b.hyper_arg_dict)\n",
        "print('call', b(c))\n",
        "print()\n",
        "\n",
        "def a(reduction_list:list[int], x:torch.Tensor, y:int, z:float=6.5) -> torch.Tensor:\n",
        "    return x[reduction_list] + y\n",
        "b = Grd.Routine(a, 'x + 1')\n",
        "c = torch.tensor([1.0, 2.0, 3.0])\n",
        "print('routine')\n",
        "print('description', b.description)\n",
        "print('content', b.content, a is b.content)\n",
        "print('arg_dict', b.hyper_arg_dict)\n",
        "b.hyper_arg_dict['y'] = 1\n",
        "print('call', b([1,2], c))\n",
        "print()"
      ],
      "metadata": {
        "colab": {
          "base_uri": "https://localhost:8080/"
        },
        "id": "JoB0ajwn2kRd",
        "outputId": "84d083a1-da34-44a6-e52b-2240c6219f23"
      },
      "execution_count": 6,
      "outputs": [
        {
          "output_type": "stream",
          "name": "stdout",
          "text": [
            "command\n",
            "description command\n",
            "content hi True\n",
            "arg_dict {}\n",
            "call hi\n",
            "\n",
            "value\n",
            "description tensor[3x0, non-trainable]\n",
            "content tensor([1, 2, 3]) True\n",
            "arg_dict {}\n",
            "call tensor([1, 2, 3])\n",
            "\n",
            "network\n",
            "description network[16 params, 16 trainable]\n",
            "content Linear(in_features=3, out_features=4, bias=True) True\n",
            "arg_dict {}\n",
            "call tensor([ 0.1570, -0.3990,  1.1329,  1.1768], grad_fn=<ViewBackward0>)\n",
            "\n",
            "routine\n",
            "description a[x + 1]\n",
            "content <function a at 0x7f90b5a1c400> True\n",
            "arg_dict {}\n",
            "call tensor([1., 2., 3.])\n",
            "\n",
            "routine\n",
            "description a[x + 1, 2 hyper-args, 1 empty]\n",
            "content <function a at 0x7f90b5a1cf40> True\n",
            "arg_dict {'y': None, 'z': 6.5}\n",
            "call tensor([3., 4.])\n",
            "\n"
          ]
        }
      ]
    },
    {
      "cell_type": "markdown",
      "source": [
        "## Blocks"
      ],
      "metadata": {
        "id": "NhkqnpjGAyJi"
      }
    },
    {
      "cell_type": "code",
      "source": [
        "class Blk():\n",
        "\n",
        "    # Abstract Super Block\n",
        "    class Base():\n",
        "        PRINT_PRIORITY = 0\n",
        "        TERMINAL:str|None = None\n",
        "        def __init__(self, name:str, symbol:str, *children:'Blk.Base') -> None:\n",
        "            self.name = name\n",
        "            self.symbol = symbol\n",
        "            self.children = children\n",
        "            self.current_grd:Grd.Base = Grd.Empty()\n",
        "            self.default_grd_dict = {k: v for k, v in self.__class__.__dict__.items() if isinstance(v, Grd.Routine)}\n",
        "            self.global_blk_list = list['Blk.Base']()\n",
        "            self.global_domain_list = list[str]()\n",
        "            self.involved_domain_set = set[str]()\n",
        "            self.arg_shape_dict = dict[str, list[str]]()\n",
        "            self.inp_shape_list = list[str]()\n",
        "            self.out_shape_list = list[str]()\n",
        "        def __repr__(self) -> str:\n",
        "            return self.__str__()\n",
        "        def __str__(self) -> str:\n",
        "            raise NotImplementedError()\n",
        "        def __call__(self, **value_dict:torch.Tensor) -> torch.Tensor:\n",
        "            raise NotImplementedError()\n",
        "        def setup_blks(self, global_blk_list:list['Blk.Base']) -> None:\n",
        "            for child in self.children:\n",
        "                child.setup_blks(global_blk_list)\n",
        "            global_blk_list.append(self)\n",
        "            self.global_blk_list = global_blk_list\n",
        "        def setup_domains(self, global_domain_list:list[str]) -> None:\n",
        "            for child in self.children:\n",
        "                child.setup_domains(global_domain_list)\n",
        "            if isinstance(self, Blk.Quantifier):\n",
        "                for variable in self.children[:-1]:\n",
        "                    if variable.name not in global_domain_list:\n",
        "                        global_domain_list.append(variable.name)\n",
        "            global_domain_list.sort()\n",
        "            self.global_domain_list = global_domain_list\n",
        "        def setup_shapes(self) -> None:\n",
        "            for child in self.children:\n",
        "                child.setup_shapes()\n",
        "            if isinstance(self, Blk.Atom):\n",
        "                self.out_shape_list.append('B*')\n",
        "                if self.name in self.global_domain_list:\n",
        "                    self.involved_domain_set = {self.name}\n",
        "                    self.out_shape_list.append(f'D{self.name}')\n",
        "                self.out_shape_list.append(f'E{self.name}')\n",
        "            elif isinstance(self, Blk.Mapper):\n",
        "                for term in self.children:\n",
        "                    self.involved_domain_set.update(term.involved_domain_set)\n",
        "                    self.arg_shape_dict[term.name] = term.out_shape_list\n",
        "                self.out_shape_list.append('B*')\n",
        "                for domain in self.global_domain_list:\n",
        "                    self.out_shape_list.append(f'D{domain}' if domain in self.involved_domain_set else '1')\n",
        "                self.out_shape_list.append(f'E{self.name}')\n",
        "            elif isinstance(self, Blk.BinaryConnective):\n",
        "                left, right = self.children\n",
        "                self.involved_domain_set.update(left.involved_domain_set)\n",
        "                self.involved_domain_set.update(right.involved_domain_set)\n",
        "                self.arg_shape_dict['left_tensor'] = ['B*'] + [f'D{domain}*' for domain in self.global_domain_list]\n",
        "                self.arg_shape_dict['right_tensor'] = ['B*'] + [f'D{domain}*' for domain in self.global_domain_list]\n",
        "                self.out_shape_list = ['B*'] + [f'D{domain}*' for domain in self.global_domain_list]\n",
        "            elif isinstance(self, Blk.UnaryConnective):\n",
        "                body = self.children[0]\n",
        "                self.involved_domain_set.update(body.involved_domain_set)\n",
        "                self.arg_shape_dict['tensor'] = ['B*'] + [f'D{domain}*' for domain in self.global_domain_list]\n",
        "                self.out_shape_list = ['B*'] + [f'D{domain}*' for domain in self.global_domain_list]\n",
        "            elif isinstance(self, Blk.Quantifier):\n",
        "                body = self.children[-1]\n",
        "                self.involved_domain_set.update(self.global_domain_list)\n",
        "                for variable in self.children[:-1]:\n",
        "                    self.involved_domain_set.remove(variable.name)\n",
        "                self.arg_shape_dict['tensor'] = ['B*'] + [f'D{domain}*' for domain in self.global_domain_list]\n",
        "                self.out_shape_list = ['B*'] + [f'D{domain}**' for domain in self.global_domain_list]\n",
        "            elif isinstance(self, Blk.Evaluator):\n",
        "                for term in self.children:\n",
        "                    self.involved_domain_set.update(term.involved_domain_set)\n",
        "                    self.arg_shape_dict[term.name] = term.out_shape_list\n",
        "                self.out_shape_list.append('B*')\n",
        "                for domain in self.global_domain_list:\n",
        "                    self.out_shape_list.append(f'D{domain}' if domain in self.involved_domain_set else '1')\n",
        "        def ground(self, **context_dict:Grd.Command|Grd.Value|Grd.Network|Grd.Routine) -> None:\n",
        "            if self.name in context_dict:\n",
        "                temporary_ground = context_dict[self.name]\n",
        "                if isinstance(temporary_ground, Grd.Command):\n",
        "                    self.current_grd = self.default_grd_dict[temporary_ground()]\n",
        "                else:\n",
        "                    self.current_grd = temporary_ground\n",
        "            for child in self.children:\n",
        "                child.ground(**context_dict)\n",
        "        def control(self, **hyper_arg_dict:dict[str, int|float]) -> None:\n",
        "            if self.name in hyper_arg_dict:\n",
        "                for arg_name, arg_value in hyper_arg_dict[self.name].items():\n",
        "                    if arg_name in self.current_grd.hyper_arg_dict:\n",
        "                        self.current_grd.hyper_arg_dict[arg_name] = arg_value\n",
        "            for child in self.children:\n",
        "                child.control(**hyper_arg_dict)\n",
        "\n",
        "    # Abstract High-Level Blocks\n",
        "    class Term(Base):\n",
        "        def __init__(self, name:str, symbol:str, *children:'Blk.Base') -> None:\n",
        "            super().__init__(name, symbol, *children)\n",
        "\n",
        "    class Expression(Base):\n",
        "        def __init__(self, name:str, symbol:str, *children:'Blk.Base') -> None:\n",
        "            super().__init__(name, symbol, *children)\n",
        "\n",
        "    # Abstract Medium-Level Blocks\n",
        "    class Atom(Term):\n",
        "        PRINT_PRIORITY = 1\n",
        "        def __init__(self, name:str, symbol:str) -> None:\n",
        "            super().__init__(name, symbol)\n",
        "            self.current_grd:Grd.Empty|Grd.Value = Grd.Empty()\n",
        "        def __str__(self) -> str:\n",
        "            return self.name\n",
        "        def __call__(self, **value_dict:torch.Tensor) -> torch.Tensor:\n",
        "            if isinstance(self.current_grd, Grd.Empty):\n",
        "                return value_dict[self.name]\n",
        "            return self.current_grd()\n",
        "\n",
        "    class Mapper(Term):\n",
        "        PRINT_PRIORITY = 2\n",
        "        def __init__(self, name:str, symbol:str, *terms:'Blk.Term') -> None:\n",
        "            super().__init__(name, symbol, *terms)\n",
        "            self.current_grd:Grd.Empty|Grd.Network|Grd.Routine = Grd.Empty()\n",
        "        def __str__(self) -> str:\n",
        "            return self.name + '(' + ', '.join(str(child) for child in self.children) + ')'\n",
        "        def __call__(self, **value_dict:torch.Tensor) -> torch.Tensor:\n",
        "            return self.current_grd(*[term(**value_dict) for term in self.children])\n",
        "\n",
        "    class Evaluator(Expression):\n",
        "        PRINT_PRIORITY = 3\n",
        "        def __init__(self, name:str, symbol:str, *terms:'Blk.Term') -> None:\n",
        "            super().__init__(name, symbol, *terms)\n",
        "            self.current_grd:Grd.Empty|Grd.Network|Grd.Routine = Grd.Empty()\n",
        "        def __str__(self) -> str:\n",
        "            return self.name + '(' + ', '.join(str(child) for child in self.children) + ')'\n",
        "        def __call__(self, **value_dict:torch.Tensor) -> torch.Tensor:\n",
        "            return self.current_grd(*[term(**value_dict) for term in self.children])\n",
        "\n",
        "    class UnaryConnective(Expression):\n",
        "        PRINT_PRIORITY = 4\n",
        "        def __init__(self, name:str, symbol:str, default_grd:Grd.Routine, body:'Blk.Expression') -> None:\n",
        "            super().__init__(name, symbol, body)\n",
        "            self.current_grd = default_grd\n",
        "        def __str__(self) -> str:\n",
        "            return self.symbol + '(' + str(self.children[0]) + ')'\n",
        "        def __call__(self, **value_dict:torch.Tensor) -> torch.Tensor:\n",
        "            body = self.children[0]\n",
        "            return self.current_grd(body(**value_dict))\n",
        "\n",
        "    class BinaryConnective(Expression):\n",
        "        PRINT_PRIORITY = 5\n",
        "        def __init__(self, name:str, symbol:str, default_grd:Grd.Routine, left:'Blk.Expression', right:'Blk.Expression') -> None:\n",
        "            super().__init__(name, symbol, left, right)\n",
        "            self.current_grd = default_grd\n",
        "        def __str__(self) -> str:\n",
        "            return str(self.children[0]) + ' ' + self.symbol + ' ' + str(self.children[1])\n",
        "        def __call__(self, **value_dict:torch.Tensor) -> torch.Tensor:\n",
        "            left, right = self.children\n",
        "            return self.current_grd(left(**value_dict), right(**value_dict))\n",
        "\n",
        "    class Quantifier(Expression):\n",
        "        PRINT_PRIORITY = 6\n",
        "        def __init__(self, name:str, symbol:str, default_grd:Grd.Routine, body:'Blk.Expression', *variables:'Blk.Variable') -> None:\n",
        "            super().__init__(name, symbol, *variables, body)\n",
        "            self.current_grd = default_grd\n",
        "        def __str__(self) -> str:\n",
        "            return self.symbol + '[' + ', '.join(str(child) for child in self.children[:-1]) + '](' + str(self.children[-1]) + ')'\n",
        "        def __call__(self, **value_dict:torch.Tensor) -> torch.Tensor:\n",
        "            variable_list = self.children[:-1]\n",
        "            body = self.children[-1]\n",
        "            reduction_dim_list = [self.global_domain_list.index(variable.name) + 1 for variable in variable_list]\n",
        "            return self.current_grd(reduction_dim_list, body(**value_dict))\n",
        "\n",
        "    # Concrete Blocks\n",
        "    class Constant(Atom):\n",
        "        TERMINAL = CONSTANT_TERMINAL\n",
        "        def __init__(self, in_list:list[lark.Token]) -> None:\n",
        "            super().__init__(in_list[0].value, CONSTANT_SYMBOL)\n",
        "\n",
        "    class Variable(Atom):\n",
        "        TERMINAL = VARIABLE_TERMINAL\n",
        "        def __init__(self, in_list:list[lark.Token]) -> None:\n",
        "            super().__init__(in_list[0].value, VARIABLE_SYMBOL)\n",
        "\n",
        "    class Function(Mapper):\n",
        "        TERMINAL = FUNCTION_TERMINAL\n",
        "        def __init__(self, in_list:list['lark.Token|Blk.Term']) -> None:\n",
        "            super().__init__(in_list[0].value, FUNCTION_SYMBOL, *in_list[1:])\n",
        "\n",
        "    class Predicate(Evaluator):\n",
        "        TERMINAL = PREDICATE_TERMINAL\n",
        "        def __init__(self, in_list:list['lark.Token|Blk.Term']) -> None:\n",
        "            super().__init__(in_list[0].value, PREDICATE_SYMBOL, *in_list[1:])\n",
        "\n",
        "    class Wrapper(UnaryConnective):\n",
        "        TERMINAL = WRAPPER_TERMINAL\n",
        "        def __init__(self, in_list:list['Blk.Expression']) -> None:\n",
        "            super().__init__(WRAPPER_TERMINAL, WRAPPER_SYMBOL, self.identity, in_list[0])\n",
        "        @Grd.Routine.wrap('x')\n",
        "        def identity(tensor:torch.Tensor) -> torch.Tensor:\n",
        "            return tensor\n",
        "\n",
        "    class LogicalNot(UnaryConnective):\n",
        "        TERMINAL = LOGICAL_NOT_TERMINAL\n",
        "        def __init__(self, in_list:list['Blk.Expression']) -> None:\n",
        "            super().__init__(LOGICAL_NOT_TERMINAL, LOGICAL_NOT_SYMBOL, self.complementation, in_list[0])\n",
        "        @Grd.Routine.wrap('1 - x')\n",
        "        def complementation(tensor:torch.Tensor) -> torch.Tensor:\n",
        "            return 1.0 - tensor\n",
        "\n",
        "    class LogicalAnd(BinaryConnective):\n",
        "        TERMINAL = LOGICAL_AND_TERMINAL\n",
        "        def __init__(self, in_list:list['Blk.Expression']) -> None:\n",
        "            super().__init__(LOGICAL_AND_TERMINAL, LOGICAL_AND_SYMBOL, self.lukasiewicz, in_list[0], in_list[1])\n",
        "        @Grd.Routine.wrap('max(0, x1 + x2 - 1)')\n",
        "        def lukasiewicz(left_tensor:torch.Tensor, right_tensor:torch.Tensor) -> torch.Tensor:\n",
        "            return torch.maximum(torch.tensor(0.0, device=left_tensor.device), left_tensor + right_tensor - 1.0)\n",
        "        @Grd.Routine.wrap('min(x1, x2)')\n",
        "        def godel(left_tensor:torch.Tensor, right_tensor:torch.Tensor) -> torch.Tensor:\n",
        "            return torch.minimum(left_tensor, right_tensor)\n",
        "        @Grd.Routine.wrap('x1 * x2')\n",
        "        def goguen(left_tensor:torch.Tensor, right_tensor:torch.Tensor) -> torch.Tensor:\n",
        "            return left_tensor * right_tensor\n",
        "\n",
        "    class LogicalOr(BinaryConnective):\n",
        "        TERMINAL = LOGICAL_OR_TERMINAL\n",
        "        def __init__(self, in_list:list[Any]) -> None:\n",
        "            super().__init__(LOGICAL_OR_TERMINAL, LOGICAL_OR_SYMBOL, self.lukasiewicz, in_list[0], in_list[1])\n",
        "        @Grd.Routine.wrap('min(1, x1 + x2)')\n",
        "        def lukasiewicz(left_tensor:torch.Tensor, right_tensor:torch.Tensor) -> torch.Tensor:\n",
        "            return torch.minimum(torch.tensor(1.0, device=left_tensor.device), left_tensor + right_tensor)\n",
        "        @Grd.Routine.wrap('max(x1, x2)')\n",
        "        def godel(left_tensor:torch.Tensor, right_tensor:torch.Tensor) -> torch.Tensor:\n",
        "            return torch.maximum(left_tensor, right_tensor)\n",
        "        @Grd.Routine.wrap('1 - (1 - x1) * (1 - x2)')\n",
        "        def goguen(left_tensor:torch.Tensor, right_tensor:torch.Tensor) -> torch.Tensor:\n",
        "            return 1.0 - (1.0 - left_tensor) * (1.0 - right_tensor)\n",
        "\n",
        "    class Implies(BinaryConnective):\n",
        "        TERMINAL = IMPLIES_TERMINAL\n",
        "        def __init__(self, in_list:list['Blk.Expression']) -> None:\n",
        "            super().__init__(IMPLIES_TERMINAL, IMPLIES_SYMBOL, self.lukasiewicz, in_list[0], in_list[1])\n",
        "        @Grd.Routine.wrap('min(1, 1 - x1 + x2)')\n",
        "        def lukasiewicz(left_tensor:torch.Tensor, right_tensor:torch.Tensor) -> torch.Tensor:\n",
        "            return torch.minimum(torch.tensor(1.0, device=left_tensor.device), 1 - left_tensor + right_tensor)\n",
        "        @Grd.Routine.wrap('1 if x1 <= x2 else x2')\n",
        "        def godel(left_tensor:torch.Tensor, right_tensor:torch.Tensor) -> torch.Tensor:\n",
        "            return torch.where(left_tensor <= right_tensor, torch.tensor(1.0, device=left_tensor.device), right_tensor)\n",
        "        @Grd.Routine.wrap('1 if x1 <=x2 else x2 / x1')\n",
        "        def goguen(left_tensor:torch.Tensor, right_tensor:torch.Tensor) -> torch.Tensor:\n",
        "            return torch.where(left_tensor <= right_tensor, torch.tensor(1.0, device=left_tensor.device), right_tensor / torch.clamp(left_tensor, min=1e-6))\n",
        "        @Grd.Routine.wrap('max(1 - x1, x2)')\n",
        "        def kleene_dienes(left_tensor:torch.Tensor, right_tensor:torch.Tensor) -> torch.Tensor:\n",
        "            return torch.maximum(1 - left_tensor, right_tensor)\n",
        "        @Grd.Routine.wrap('1 - x1 + x1 * x2')\n",
        "        def reichenbach(left_tensor:torch.Tensor, right_tensor:torch.Tensor) -> torch.Tensor:\n",
        "            return 1.0 - left_tensor + left_tensor * right_tensor\n",
        "\n",
        "    class Iff(BinaryConnective):\n",
        "        TERMINAL = IFF_TERMINAL\n",
        "        def __init__(self, in_list:list['Blk.Expression']) -> None:\n",
        "            super().__init__(IFF_TERMINAL, IFF_SYMBOL, self.linear_similarity, in_list[0], in_list[1])\n",
        "        @Grd.Routine.wrap('1 - |x1 - x2|')\n",
        "        def linear_similarity(left_tensor:torch.Tensor, right_tensor:torch.Tensor) -> torch.Tensor:\n",
        "            return 1.0 - torch.abs(left_tensor - right_tensor)\n",
        "\n",
        "    class ForAll(Quantifier):\n",
        "        TERMINAL = FORALL_TERMINAL\n",
        "        def __init__(self, in_list:list['Blk.Variable|Blk.Expression']) -> None:\n",
        "            super().__init__(FORALL_TERMINAL, FORALL_SYMBOL, self.lukasiewicz, in_list[-1], *in_list[:-1])\n",
        "        @Grd.Routine.wrap('max(0, sum(xi) - n + 1)')\n",
        "        def lukasiewicz(reduction_dim_list:list[int], tensor:torch.Tensor) -> torch.Tensor:\n",
        "            sum_tensor = torch.sum(tensor, dim=reduction_dim_list, keepdim=True)\n",
        "            n = torch.prod(torch.tensor([tensor.size(dim) for dim in reduction_dim_list], device=tensor.device))\n",
        "            return torch.maximum(torch.tensor(0.0, device=tensor.device), sum_tensor - n + 1)\n",
        "        @Grd.Routine.wrap('min(xi)')\n",
        "        def godel(reduction_dim_list:list[int], tensor:torch.Tensor) -> torch.Tensor:\n",
        "            return torch.amin(tensor, dim=reduction_dim_list, keepdim=True)\n",
        "        @Grd.Routine.wrap('prod(xi)')\n",
        "        def goguen(reduction_dim_list:list[int], tensor:torch.Tensor) -> torch.Tensor:\n",
        "            prod_tensor = tensor\n",
        "            for dim in sorted(reduction_dim_list, reverse=True):\n",
        "                prod_tensor = torch.prod(prod_tensor, dim=dim, keepdim=True)\n",
        "            return prod_tensor\n",
        "        @Grd.Routine.wrap('1 - mean((1 - xi) ** p) ** (1 / p)')\n",
        "        def power_mean(reduction_dim_list:list[int], tensor:torch.Tensor, p:int=2) -> torch.Tensor:\n",
        "            return 1.0 - torch.mean((1.0 - tensor) ** p, dim=reduction_dim_list, keepdim=True) ** (1 / p)\n",
        "\n",
        "    class Exists(Quantifier):\n",
        "        TERMINAL = EXISTS_TERMINAL\n",
        "        def __init__(self, in_list:list['Blk.Variable|Blk.Expression']) -> None:\n",
        "            super().__init__(EXISTS_TERMINAL, EXISTS_SYMBOL, self.lukasiewicz, in_list[-1], *in_list[:-1])\n",
        "        @Grd.Routine.wrap('min(1, sum(xi))')\n",
        "        def lukasiewicz(reduction_dim_list:list[int], tensor:torch.Tensor) -> torch.Tensor:\n",
        "            sum_tensor = torch.sum(tensor, dim=reduction_dim_list, keepdim=True)\n",
        "            return torch.minimum(torch.tensor(1.0, device=tensor.device), sum_tensor)\n",
        "        @Grd.Routine.wrap('max(xi)')\n",
        "        def godel(reduction_dim_list:list[int], tensor:torch.Tensor) -> torch.Tensor:\n",
        "            return torch.amax(tensor, dim=reduction_dim_list, keepdim=True)\n",
        "        @Grd.Routine.wrap('1 - prod(1 - xi)')\n",
        "        def goguen(reduction_dim_list:list[int], tensor:torch.Tensor) -> torch.Tensor:\n",
        "            prod_tensor = 1.0 - tensor\n",
        "            for dim in sorted(reduction_dim_list, reverse=True):\n",
        "                prod_tensor = torch.prod(prod_tensor, dim=dim, keepdim=True)\n",
        "            return 1.0 - prod_tensor\n",
        "        @Grd.Routine.wrap('mean(xi ** p) ** (1 / p)')\n",
        "        def power_mean(reduction_dim_list:list[int], tensor:torch.Tensor, p:int=1) -> torch.Tensor:\n",
        "            return torch.mean(tensor ** p, dim=reduction_dim_list, keepdim=True) ** (1 / p)"
      ],
      "metadata": {
        "id": "45sakg6uBDah"
      },
      "execution_count": 7,
      "outputs": []
    },
    {
      "cell_type": "markdown",
      "source": [
        "## Builder"
      ],
      "metadata": {
        "id": "nDn9UkBYA1jx"
      }
    },
    {
      "cell_type": "code",
      "source": [
        "class LTNBuilder():\n",
        "\n",
        "    # Explicit Formula\n",
        "    class Formula():\n",
        "        def __init__(self, fol_rule:str, fol_tree:lark.Tree, ltn_expression:'Blk.Expression') -> None:\n",
        "            self._fol_rule = fol_rule\n",
        "            self._fol_tree = fol_tree\n",
        "            self._ltn_expression = ltn_expression\n",
        "        def __call__(self, **value_dict:torch.Tensor) -> torch.Tensor:\n",
        "            output = self._ltn_expression(**value_dict).squeeze()\n",
        "            if output.ndim == 0:\n",
        "                output = output.unsqueeze(0)\n",
        "            return output\n",
        "        def get_parameters(self) -> list[torch.nn.Parameter]:\n",
        "            parameter_list = list[torch.nn.Parameter]()\n",
        "            for blk in self._ltn_expression.global_blk_list:\n",
        "                if isinstance(blk.current_grd, Grd.Value):\n",
        "                    parameter_list.append(blk.current_grd.content)\n",
        "                elif isinstance(blk.current_grd, Grd.Network):\n",
        "                    parameter_list += list(blk.current_grd.content.parameters())\n",
        "            return parameter_list\n",
        "        def set_config(self, mode:Literal['device', 'status'], param:str) -> None:\n",
        "            if mode == 'device':\n",
        "                for blk in self._ltn_expression.global_blk_list:\n",
        "                    if isinstance(blk.current_grd, Grd.Value):\n",
        "                        blk.current_grd.content = blk.current_grd.content.to(param)\n",
        "                    elif isinstance(blk.current_grd, Grd.Network):\n",
        "                        blk.current_grd.content = blk.current_grd.content.to(param)\n",
        "            elif mode == 'status':\n",
        "                if param == 'train':\n",
        "                    for blk in self._ltn_expression.global_blk_list:\n",
        "                        if isinstance(blk.current_grd, Grd.Value):\n",
        "                            blk.current_grd.content.requires_grad = True\n",
        "                        elif isinstance(blk.current_grd, Grd.Network):\n",
        "                            blk.current_grd.content.train()\n",
        "                elif param == 'eval':\n",
        "                    for blk in self._ltn_expression.global_blk_list:\n",
        "                        if isinstance(blk.current_grd, Grd.Value):\n",
        "                            blk.current_grd.content.requires_grad = False\n",
        "                        elif isinstance(blk.current_grd, Grd.Network):\n",
        "                            blk.current_grd.content.eval()\n",
        "        def ground(self, **raw_context_dict:str|torch.Tensor|torch.nn.Module|Callable[..., torch.Tensor]) -> None:\n",
        "            context_dict = dict[str, Grd.Command|Grd.Value|Grd.Network|Grd.Routine]()\n",
        "            for blk_name in raw_context_dict:\n",
        "                if isinstance(raw_context_dict[blk_name], str):\n",
        "                    context_dict[blk_name] = Grd.Command(raw_context_dict[blk_name])\n",
        "                elif isinstance(raw_context_dict[blk_name], torch.Tensor):\n",
        "                    context_dict[blk_name] = Grd.Value(raw_context_dict[blk_name])\n",
        "                elif isinstance(raw_context_dict[blk_name], torch.nn.Module):\n",
        "                    context_dict[blk_name] = Grd.Network(raw_context_dict[blk_name])\n",
        "                elif isinstance(raw_context_dict[blk_name], Callable):\n",
        "                    context_dict[blk_name] = Grd.Routine(raw_context_dict[blk_name], 'n/a')\n",
        "            self._ltn_expression.ground(**context_dict)\n",
        "        def control(self, **hyper_arg_dict:dict[str, int|float]) -> None:\n",
        "            self._ltn_expression.control(**hyper_arg_dict)\n",
        "        def get(self, mode:Literal['raw', 'parsed', 'tree', 'info']) -> str:\n",
        "            output = None\n",
        "            if mode == 'raw':\n",
        "                output = self._fol_rule\n",
        "            elif mode == 'parsed':\n",
        "                output = self._ltn_expression\n",
        "            elif mode == 'tree':\n",
        "                output = self._fol_tree.pretty()[:-1]\n",
        "            elif mode == 'info':\n",
        "                ungrounded_blk_dict = dict[tuple[int, str], str]()\n",
        "                grounded_blk_dict = dict[tuple[int, str], str]()\n",
        "                for blk in self._ltn_expression.global_blk_list:\n",
        "                    if isinstance(blk.current_grd, Grd.Empty):\n",
        "                        ungrounded_blk_dict[blk.PRINT_PRIORITY, blk.name] = f'  {blk.name} -> {blk.TERMINAL}'\n",
        "                    else:\n",
        "                        grounded_blk_dict[blk.PRINT_PRIORITY, blk.name] = f'  {blk.name} -> {blk.current_grd}'\n",
        "                        if len(blk.default_grd_dict) > 0:\n",
        "                            grounded_blk_dict[blk.PRINT_PRIORITY, blk.name] += '*, ' + ', '.join(str(grd) for grd in blk.default_grd_dict.values() if grd != blk.current_grd)\n",
        "                ungrounded_blk_dict = dict(sorted(ungrounded_blk_dict.items(), key=lambda item: item[0]))\n",
        "                grounded_blk_dict = dict(sorted(grounded_blk_dict.items(), key=lambda item: item[0]))\n",
        "                output = ''\n",
        "                if len(ungrounded_blk_dict) > 0:\n",
        "                    output += '\\nUngrounded Symbols:\\n' + '\\n'.join(ungrounded_blk_dict.values())\n",
        "                if len(grounded_blk_dict) > 0:\n",
        "                    output += '\\nGrounded Symbols:\\n' + '\\n'.join(grounded_blk_dict.values())\n",
        "                output = output[1:] if output.startswith('\\n') else output\n",
        "                output += (\n",
        "                    '\\nFootnotes:'\n",
        "                    '\\n  * -> current grounding'\n",
        "                )\n",
        "            elif mode == 'shapes':\n",
        "                blk_dict = dict[tuple[int, str], str]()\n",
        "                for blk in self._ltn_expression.global_blk_list:\n",
        "                    shapes = list[str]()\n",
        "                    if len(blk.arg_shape_dict) > 0:\n",
        "                        argument_shape_list = list[str]()\n",
        "                        for arg in blk.arg_shape_dict:\n",
        "                            argument_shape_list.append(f'{arg}[' + ', '.join(blk.arg_shape_dict[arg]) + ']')\n",
        "                        shapes.append('  inp shape -> ' + ', '.join(argument_shape_list))\n",
        "                    if len(blk.inp_shape_list) > 0:\n",
        "                        shapes.append('  inp shape -> ' + ', '.join(blk.inp_shape_list))\n",
        "                    if len(blk.out_shape_list) > 0:\n",
        "                        shapes.append('  out shape -> ' + ', '.join(blk.out_shape_list))\n",
        "                    blk_dict[blk.PRINT_PRIORITY, blk.name] = '\\n'.join(shapes)\n",
        "                blk_dict = dict(sorted(blk_dict.items(), key=lambda item: item[0]))\n",
        "                output = '\\n'.join(f'{blk_name}:\\n{blk_shapes}' for (_, blk_name), blk_shapes in blk_dict.items())\n",
        "                output += (\n",
        "                    '\\nFootnotes:'\n",
        "                    '\\n  B -> batch size'\n",
        "                    '\\n  Dx -> domain size of `x`'\n",
        "                    '\\n  Ex -> extra dimensions of `x`'\n",
        "                    '\\n  * -> the dimension can also be equal to `1` but not missing'\n",
        "                    '\\n  ** -> the dimension is equal to `1` if its corresponding variable is involved in the quantifier'\n",
        "                )\n",
        "            return output\n",
        "\n",
        "    def __init__(self, fol_grammar=FOL_GRAMMAR) -> None:\n",
        "        self._fol_parser = lark.Lark(fol_grammar)\n",
        "        self._fol_transformer = lark.Transformer()\n",
        "        for Block in Blk.__dict__.values():\n",
        "            if isinstance(Block, type) and issubclass(Block, Blk.Base) and Block.TERMINAL is not None:\n",
        "                setattr(self._fol_transformer, Block.TERMINAL, Block)\n",
        "\n",
        "    def make_formula(self, fol_rule:str) -> Formula:\n",
        "        fol_tree = self._fol_parser.parse(fol_rule)\n",
        "        ltn_expression:Blk.Expression = self._fol_transformer.transform(fol_tree)\n",
        "        ltn_expression.setup_blks(list['Blk.Base']())\n",
        "        ltn_expression.setup_domains(list[str]())\n",
        "        ltn_expression.setup_shapes()\n",
        "        ltn_formula = LTNBuilder.Formula(fol_rule, fol_tree, ltn_expression)\n",
        "        return ltn_formula"
      ],
      "metadata": {
        "id": "0YkkpeeqA1Ba"
      },
      "execution_count": 8,
      "outputs": []
    },
    {
      "cell_type": "markdown",
      "source": [
        "### Tests"
      ],
      "metadata": {
        "id": "DzVyCFUx_t-7"
      }
    },
    {
      "cell_type": "code",
      "source": [
        "fol_rule = 'forall x P(x)'\n",
        "ltn_formula = LTNBuilder().make_formula(fol_rule)\n",
        "\n",
        "def foo(x:torch.Tensor, y:int) -> torch.Tensor:\n",
        "    return x + y\n",
        "ltn_formula.ground(\n",
        "    P=foo,\n",
        "    forall='power_mean'\n",
        ")\n",
        "ltn_formula.control(\n",
        "    P={'y': 1}\n",
        ")\n",
        "\n",
        "print('Raw')\n",
        "print(ltn_formula.get('raw'))\n",
        "print()\n",
        "\n",
        "print('Parsed')\n",
        "print(ltn_formula.get('parsed'))\n",
        "print()\n",
        "\n",
        "print('Tree')\n",
        "print(ltn_formula.get('tree'))\n",
        "print()\n",
        "\n",
        "print('Info')\n",
        "print(ltn_formula.get('info'))\n",
        "print()\n",
        "\n",
        "print('Shapes')\n",
        "print(ltn_formula.get('shapes'))\n",
        "print()\n",
        "\n",
        "y = ltn_formula(x=torch.tensor([[1.0], [2.0]]))\n",
        "print(y)\n",
        "\n",
        "ltn_formula.control(\n",
        "    P={'y': 5}\n",
        ")\n",
        "y = ltn_formula(x=torch.tensor([[1.0], [2.0]]))\n",
        "print(y)"
      ],
      "metadata": {
        "colab": {
          "base_uri": "https://localhost:8080/"
        },
        "id": "qAtqbvKI0Kkg",
        "outputId": "b09ce8ed-21f2-428b-d3a2-00976bdd53ab"
      },
      "execution_count": 9,
      "outputs": [
        {
          "output_type": "stream",
          "name": "stdout",
          "text": [
            "Raw\n",
            "forall x P(x)\n",
            "\n",
            "Parsed\n",
            "forall[x](P(x))\n",
            "\n",
            "Tree\n",
            "forall\n",
            "  variable\tx\n",
            "  predicate\n",
            "    P\n",
            "    variable\tx\n",
            "\n",
            "Info\n",
            "Ungrounded Symbols:\n",
            "  x -> variable\n",
            "Grounded Symbols:\n",
            "  P -> foo[n/a, 1 hyper-arg, 1 empty]\n",
            "  forall -> power_mean[1 - mean((1 - xi) ** p) ** (1 / p), 1 hyper-arg, 0 empty]*, lukasiewicz[max(0, sum(xi) - n + 1)], godel[min(xi)], goguen[prod(xi)]\n",
            "Footnotes:\n",
            "  * -> current grounding\n",
            "\n",
            "Shapes\n",
            "x:\n",
            "  out shape -> B*, Dx, Ex\n",
            "P:\n",
            "  inp shape -> x[B*, Dx, Ex]\n",
            "  out shape -> B*, Dx\n",
            "forall:\n",
            "  inp shape -> tensor[B*, Dx*]\n",
            "  out shape -> B*, Dx**\n",
            "Footnotes:\n",
            "  B -> batch size\n",
            "  Dx -> domain size of `x`\n",
            "  Ex -> extra dimensions of `x`\n",
            "  * -> the dimension can also be equal to `1` but not missing\n",
            "  ** -> the dimension is equal to `1` if its corresponding variable is involved in the quantifier\n",
            "\n",
            "tensor([ 0., -1.])\n",
            "tensor([-4., -5.])\n"
          ]
        }
      ]
    },
    {
      "cell_type": "markdown",
      "source": [
        "# Platform"
      ],
      "metadata": {
        "id": "AcozSyi2mM30"
      }
    },
    {
      "cell_type": "markdown",
      "source": [
        "## Groundings Tools"
      ],
      "metadata": {
        "id": "yKRXfcWdD7iC"
      }
    },
    {
      "cell_type": "code",
      "source": [
        "class VisualEncoder(torch.nn.Module):\n",
        "\n",
        "    def __init__(self,\n",
        "                 device:str,\n",
        "                 symbol_size,\n",
        "                 cnn_hidden_dims:tuple[int, ...],\n",
        "                 embed_dim:int,\n",
        "                 drop_prob:float) -> None:\n",
        "        super().__init__()\n",
        "        self.device = device\n",
        "        self.symbol_size = symbol_size\n",
        "        self.cnn_hidden_dims = cnn_hidden_dims\n",
        "        self.embed_dim = embed_dim\n",
        "        self.drop_prob = drop_prob\n",
        "        cnn_list = torch.nn.ModuleList()\n",
        "        last_cnn_hidden_dim = 1\n",
        "        pooled_side = symbol_size\n",
        "        for cnn_hidden_dim in cnn_hidden_dims:\n",
        "            cnn_list.append(torch.nn.Conv2d(in_channels=last_cnn_hidden_dim, out_channels=cnn_hidden_dim, kernel_size=3, stride=1, padding=1))\n",
        "            cnn_list.append(torch.nn.ReLU())\n",
        "            cnn_list.append(torch.nn.GroupNorm(num_groups=4, num_channels=cnn_hidden_dim))\n",
        "            cnn_list.append(torch.nn.MaxPool2d(kernel_size=2, stride=2))\n",
        "            last_cnn_hidden_dim = cnn_hidden_dim\n",
        "            pooled_side = pooled_side // 2\n",
        "        self.cnn = torch.nn.Sequential(*cnn_list)\n",
        "        self.cnn_projection = torch.nn.Sequential(\n",
        "            torch.nn.Linear(in_features=last_cnn_hidden_dim * pooled_side * pooled_side, out_features=embed_dim - 2),\n",
        "            torch.nn.Dropout(p=drop_prob)\n",
        "        )\n",
        "        self.to(device)\n",
        "\n",
        "    def forward(self, symbols:torch.Tensor) -> torch.Tensor:\n",
        "        '''\n",
        "        inputs:\n",
        "            symbols: Tensor[batch_size, dimension, dimension, symbol_size, symbol_size][cpu][torch.uint8]\n",
        "        outputs:\n",
        "            embeds: Tensor[batch_size, total_symbols, embed_dim][device][torch.float32]\n",
        "        '''\n",
        "        batch_size, dimension, _, symbol_size, _ = symbols.shape\n",
        "        total_symbols = dimension ** 2\n",
        "        symbols = symbols.reshape(batch_size, total_symbols, symbol_size, symbol_size) # Tensor[batch_size, total_symbols, symbol_size, symbol_size][device][torch.uint8]\n",
        "        indices = torch.cartesian_prod(torch.arange(dimension), torch.arange(dimension)).expand(batch_size, -1, 2).to(torch.uint8) # Tensor[batch_size, total_symbols, 2][cpu][torch.uint8]\n",
        "        symbols = symbols.to(self.device).to(torch.float32) / 255 # Tensor[batch_size, total_symbols, symbol_size, symbol_size][device][torch.float32]\n",
        "        indices = indices.to(self.device).to(torch.float32) # Tensor[batch_size, total_symbols, 2][device][torch.float32]\n",
        "        embeds = symbols.view(-1, 1, self.symbol_size, self.symbol_size) # Tensor[batch_size*total_symbols, 1, symbol_size, symbol_size][device][torch.float32]\n",
        "        embeds = self.cnn(embeds) # Tensor[batch_size*total_symbols, last_cnn_hidden_dim, pooled_side, pooled_side][device][torch.float32]\n",
        "        embeds = embeds.reshape(batch_size, total_symbols, -1) # Tensor[batch_size, total_symbols, last_cnn_hidden_dim*pooled_side*pooled_side][device][torch.float32]\n",
        "        embeds = self.cnn_projection(embeds) # Tensor[batch_size, total_symbols, embed_dim - 2][device][torch.float32]\n",
        "        embeds = torch.cat((embeds, indices), dim=-1) # Tensor[batch_size, total_symbols, embed_dim][device][torch.float32]\n",
        "        return embeds"
      ],
      "metadata": {
        "id": "lSZVofln3hIw"
      },
      "execution_count": 22,
      "outputs": []
    },
    {
      "cell_type": "code",
      "source": [
        "def binary_similarity(left_tensor:torch.Tensor, right_tensor:torch.Tensor) -> torch.Tensor:\n",
        "    '''\n",
        "    formula:\n",
        "        y = (x1 == x2)\n",
        "    inputs:\n",
        "        left_tensor: Tensor[B, Dl, E][device][torch.float]\n",
        "        right_tensor: Tensor[B, Dr, E][device][torch.float]\n",
        "    outputs:\n",
        "        output: Tensor[B, Dl, Dr][device][torch.float]\n",
        "    footnotes:\n",
        "        B: batch size, i.e, `batch_size`\n",
        "        Dl: domain size of `left_tensor`\n",
        "        Dr: domain size of `right_tensor`\n",
        "        E: extra dimension of the tensors\n",
        "    '''\n",
        "    left_tensor = left_tensor.unsqueeze(2) # Tensor[B, Dl, 1, E][device][torch.float32]\n",
        "    right_tensor = right_tensor.unsqueeze(1) # Tensor[B, 1, Dr, E][device][torch.float32]\n",
        "    similarity = (left_tensor == right_tensor).all(dim=-1) # Tensor[B, Dl, Dr][device][torch.bool]\n",
        "    return similarity.to(torch.float32)\n",
        "\n",
        "def jaccard_similarity(left_tensor:torch.Tensor, right_tensor:torch.Tensor, eps:float=1e-6, p:int=2) -> torch.Tensor:\n",
        "    '''\n",
        "    formula:\n",
        "        y = ||x1|| ** 2\n",
        "    inputs:\n",
        "        left_tensor: Tensor[B, Dl, E][device][torch.float]\n",
        "        right_tensor: Tensor[B, Dr, E][device][torch.float]\n",
        "        exp: exponentiation power\n",
        "        eps: stability parameter\n",
        "    outputs:\n",
        "        output: Tensor[B, Dl, Dr][device][torch.float]\n",
        "    footnotes:\n",
        "        B: batch size, i.e, `batch_size`\n",
        "        Dl: domain size of `left_tensor`\n",
        "        Dr: domain size of `right_tensor`\n",
        "        E: extra dimension of the tensors\n",
        "    '''\n",
        "    left_tensor = left_tensor.unsqueeze(2) # Tensor[B, Dl, 1, E][device][torch.float32]\n",
        "    right_tensor = right_tensor.unsqueeze(1) # Tensor[B, 1, Dr, E][device][torch.float32]\n",
        "    left_norm = (left_tensor * left_tensor).sum(dim=-1) # Tensor[B, Dl, 1][device][torch.float32]\n",
        "    right_norm = (right_tensor * right_tensor).sum(dim=-1) # Tensor[B, 1, Dr][device][torch.float32]\n",
        "    dot_product = (left_tensor * right_tensor).sum(dim=-1) # Tensor[B, Dl, Dr][device][torch.float32]\n",
        "    similarity = 2 * dot_product / (left_norm + right_norm + eps) # Tensor[B, Dl, Dr][device][torch.float32]\n",
        "    similarity = torch.where((left_norm < eps) & (right_norm < eps), torch.ones_like(similarity), similarity) # Tensor[B, Dl, Dr][device][torch.float32]\n",
        "    return similarity ** p\n",
        "\n",
        "def exponential_similarity(left_tensor:torch.Tensor, right_tensor:torch.Tensor, eps:float=0.1, p:int=2) -> torch.Tensor:\n",
        "    '''\n",
        "    inputs:\n",
        "        left_tensor: Tensor[B, Dl, E][device][torch.float]\n",
        "        right_tensor: Tensor[B, Dr, E][device][torch.float]\n",
        "        k: norm order\n",
        "    outputs:\n",
        "        output: Tensor[B, Dl, Dr][device][torch.float]\n",
        "    footnotes:\n",
        "        B: batch size, i.e, `batch_size`\n",
        "        Dl: domain size of `left_tensor`\n",
        "        Dr: domain size of `right_tensor`\n",
        "        E: extra dimension of the tensors\n",
        "    '''\n",
        "    left_tensor = left_tensor.unsqueeze(2) # Tensor[B, Dl, 1, E][device][torch.float32]\n",
        "    right_tensor = right_tensor.unsqueeze(1) # Tensor[B, 1, Dr, E][device][torch.float32]\n",
        "    distance = torch.nn.functional.pairwise_distance(left_tensor, right_tensor, p=p) # Tensor[B, Dl, Dr][device][torch.float32]\n",
        "    similarity = torch.exp(-torch.relu(distance - eps)) # Tensor[B, Dl, Dr][device][torch.float32]\n",
        "    return similarity.to(torch.float32)\n",
        "\n",
        "def row_similarity(x1:torch.Tensor, x2:torch.Tensor) -> torch.Tensor:\n",
        "    _, _, E = x1.shape\n",
        "    x1 = x1[:, :, (E - 2,)]\n",
        "    x2 = x2[:, :, (E - 2,)]\n",
        "    return binary_similarity(x1, x2)\n",
        "\n",
        "def col_similarity(x1:torch.Tensor, x2:torch.Tensor) -> torch.Tensor:\n",
        "    _, _, E = x1.shape\n",
        "    x1 = x1[:, :, (E - 1,)]\n",
        "    x2 = x2[:, :, (E - 1,)]\n",
        "    return binary_similarity(x1, x2)\n",
        "\n",
        "def block_similarity(x1:torch.Tensor, x2:torch.Tensor) -> torch.Tensor:\n",
        "    _, D, E = x1.shape\n",
        "    total_samples_per_side = int(D ** 0.25)\n",
        "    x1 = x1[:, :, E - 2:] // total_samples_per_side\n",
        "    x2 = x2[:, :, E - 2:] // total_samples_per_side\n",
        "    return binary_similarity(x1, x2)\n",
        "\n",
        "def loc_similarity(x1:torch.Tensor, x2:torch.Tensor) -> torch.Tensor:\n",
        "    _, _, E = x1.shape\n",
        "    x1 = x1[:, :, E - 2:]\n",
        "    x2 = x2[:, :, E - 2:]\n",
        "    return binary_similarity(x1, x2)\n",
        "\n",
        "def digit_similarity(x1:torch.Tensor, x2:torch.Tensor) -> torch.Tensor:\n",
        "    _, _, E = x1.shape\n",
        "    x1 = x1[:, :, (0,)]\n",
        "    x2 = x2[:, :, (0,)]\n",
        "    return binary_similarity(x1, x2)\n",
        "\n",
        "def vector_similarity(x1:torch.Tensor, x2:torch.Tensor) -> torch.Tensor:\n",
        "    _, _, E = x1.shape\n",
        "    x1 = x1[:, :, :E - 2]\n",
        "    x2 = x2[:, :, :E - 2]\n",
        "    return jaccard_similarity(x1, x2)"
      ],
      "metadata": {
        "id": "Ie5nzSqnCz6B"
      },
      "execution_count": 16,
      "outputs": []
    },
    {
      "cell_type": "markdown",
      "source": [
        "### Test"
      ],
      "metadata": {
        "id": "nCcBEtt-oBYc"
      }
    },
    {
      "cell_type": "code",
      "source": [
        "x1 = torch.tensor([[\n",
        "    [1, 2, 3.5],\n",
        "    [0.5, 2, 3.5],\n",
        "    [0, 0, 0]\n",
        "]])\n",
        "j = jaccard_similarity(x1, x1)\n",
        "e = exponential_similarity(x1, x1, 1)\n",
        "print(j)\n",
        "print(e)"
      ],
      "metadata": {
        "colab": {
          "base_uri": "https://localhost:8080/"
        },
        "id": "JOi3LsFlik9S",
        "outputId": "37ee54a0-c57b-4fc8-9125-661a7cdfeaf9"
      },
      "execution_count": 12,
      "outputs": [
        {
          "output_type": "stream",
          "name": "stdout",
          "text": [
            "tensor([[[1.0000, 0.9852, 0.0000],\n",
            "         [0.9852, 1.0000, 0.0000],\n",
            "         [0.0000, 0.0000, 1.0000]]])\n",
            "tensor([[[1.0000, 1.0000, 0.0427],\n",
            "         [1.0000, 1.0000, 0.0468],\n",
            "         [0.0427, 0.0468, 1.0000]]])\n"
          ]
        }
      ]
    },
    {
      "cell_type": "markdown",
      "source": [
        "## Operation Tools"
      ],
      "metadata": {
        "id": "3vQREwYvNBKu"
      }
    },
    {
      "cell_type": "code",
      "source": [
        "class Logger():\n",
        "\n",
        "    def __init__(self,\n",
        "                 dataset_name:str,\n",
        "                 device:str,\n",
        "                 max_iterations:int,\n",
        "                 vlm_load:int,\n",
        "                 termination_auc:float,\n",
        "                 learning_rate:float,\n",
        "                 batch_size:int,\n",
        "                 tot_epochs:int,\n",
        "                 symbol_size:int,\n",
        "                 cnn_hidden_dims:tuple[int, ...],\n",
        "                 embed_dim:int,\n",
        "                 drop_prob:float,\n",
        "                 observation_delay:int,\n",
        "                 observation_patience:int,\n",
        "                 ) -> None:\n",
        "        self.dataset_name = dataset_name\n",
        "        self.device = device\n",
        "        self.max_iterations = max_iterations\n",
        "        self.vlm_load = vlm_load\n",
        "        self.termination_auc = termination_auc\n",
        "        self.learning_rate = learning_rate\n",
        "        self.batch_size = batch_size\n",
        "        self.tot_epochs = tot_epochs\n",
        "        self.symbol_size = symbol_size\n",
        "        self.cnn_hidden_dims = cnn_hidden_dims\n",
        "        self.embed_dim = embed_dim\n",
        "        self.drop_prob = drop_prob\n",
        "        self.observation_delay = observation_delay\n",
        "        self.observation_patience = observation_patience\n",
        "        self.name = dataset_name + ' ' + datetime.now().strftime('%Y-%m-%d %H-%M-%S')\n",
        "        self.json_path = os.path.join(DRIVE_LOGS_DIR, self.name + '.json')\n",
        "        self.csv_path = os.path.join(DRIVE_LOGS_DIR, self.name + '.csv')\n",
        "        with open(self.json_path, 'w') as json_file:\n",
        "            json.dump({\n",
        "                'dataset_name': dataset_name,\n",
        "                'device': device,\n",
        "                'max_iterations': max_iterations,\n",
        "                'vlm_load': vlm_load,\n",
        "                'termination_auc': termination_auc,\n",
        "                'learning_rate': learning_rate,\n",
        "                'batch_size': batch_size,\n",
        "                'tot_epochs': tot_epochs,\n",
        "                'symbol_size': symbol_size,\n",
        "                'cnn_hidden_dims': cnn_hidden_dims,\n",
        "                'embed_dim': embed_dim,\n",
        "                'drop_prob': drop_prob,\n",
        "                'observation_delay': observation_delay,\n",
        "                'observation_patience': observation_patience\n",
        "            }, json_file, indent=2)\n",
        "        pd.DataFrame(columns=[\n",
        "            'trial',\n",
        "            'system_role',\n",
        "            'response',\n",
        "            'extracted_fol_rule',\n",
        "            'exception_message',\n",
        "            'stop_epoch',\n",
        "            'best_epoch',\n",
        "            'train_loss',\n",
        "            'val_loss',\n",
        "            'test_loss',\n",
        "            'train_auc',\n",
        "            'val_auc',\n",
        "            'test_auc',\n",
        "            'vlm_delay',\n",
        "            'dltn_delay',\n",
        "            'dev_delay',\n",
        "            'eval_delay'\n",
        "        ], dtype=object).to_csv(self.csv_path, index=False)\n",
        "\n",
        "    def dump(self, key:str, param:Any, do_print:bool) -> None:\n",
        "        log_df = pd.read_csv(self.csv_path, dtype=object)\n",
        "        if key == 'trial':\n",
        "            index = log_df.shape[0]\n",
        "            prefix = ''\n",
        "        else:\n",
        "            index = log_df.shape[0] - 1\n",
        "            prefix = '  '\n",
        "        log_df.loc[index, key] = param\n",
        "        if do_print:\n",
        "            print(f'{prefix}{key} -> {param}')\n",
        "        log_df.to_csv(self.csv_path, index=False)\n",
        "\n",
        "\n",
        "def symbols_to_images(vlm_indices:torch.Tensor, dimension:int, symbol_size:int, symbols:torch.Tensor, labels:torch.Tensor) -> tuple[list[Image.Image], list[str]]:\n",
        "\n",
        "    n_blocks = int(dimension ** 0.5)\n",
        "    padding = int(0.2 * symbol_size)\n",
        "    margin = 20\n",
        "\n",
        "    padded_symbol_size = symbol_size + 2 * padding\n",
        "    images = torch.zeros((vlm_indices.shape[0], dimension * padded_symbol_size, dimension * padded_symbol_size), dtype=torch.uint8)\n",
        "    for n, vlm_index in enumerate(vlm_indices):\n",
        "        for i in range(dimension):\n",
        "            for j in range(dimension):\n",
        "                images[n, i * symbol_size + (2 * i + 1) * padding:(i + 1) * symbol_size + (2 * i + 1) * padding, j * symbol_size + (2 * j + 1) * padding:(j + 1) * symbol_size + (2 * j + 1) * padding] = symbols[vlm_index, i, j, :, :]\n",
        "        for l in range(n_blocks + 1):\n",
        "            images[n, min(dimension * padded_symbol_size - 1,  l * padded_symbol_size * n_blocks), :] = 255\n",
        "            images[n, :, min(dimension * padded_symbol_size - 1,  l * padded_symbol_size * n_blocks)] = 255\n",
        "\n",
        "    pil_image_list = list[Image.Image]()\n",
        "    base64_image_list = list[str]()\n",
        "    for n, vlm_index in enumerate(vlm_indices):\n",
        "        raw_pil_image = Image.fromarray(images[n].numpy(), mode='L')\n",
        "        pil_image = Image.new('L', (raw_pil_image.width, raw_pil_image.height + margin), 0)\n",
        "        pil_image.paste(raw_pil_image, (0, 0))\n",
        "        text = f'Label: {train_labels[vlm_index].item()}'\n",
        "        draw = ImageDraw.Draw(pil_image)\n",
        "        font = ImageFont.load_default(12)\n",
        "        bbox = draw.textbbox((0, 0), text, font=font)\n",
        "        text_width = bbox[2] - bbox[0]\n",
        "        text_height = bbox[3] - bbox[1]\n",
        "        text_x = (pil_image.width - text_width) // 2\n",
        "        text_y = raw_pil_image.height + (margin - text_height) // 2\n",
        "        draw.text((text_x, text_y), text, fill=255, font=font)\n",
        "        buffer = io.BytesIO()\n",
        "        pil_image.save(buffer, format='PNG')\n",
        "        buffer.seek(0)\n",
        "        pil_image_list.append(pil_image)\n",
        "        base64_image_list.append(base64.b64encode(buffer.read()).decode('utf-8'))\n",
        "\n",
        "    return pil_image_list, base64_image_list"
      ],
      "metadata": {
        "id": "Vy-MIjvyNAHY"
      },
      "execution_count": 13,
      "outputs": []
    },
    {
      "cell_type": "markdown",
      "source": [
        "## Discovery Loop"
      ],
      "metadata": {
        "id": "d9COhg-qkoSx"
      }
    },
    {
      "cell_type": "code",
      "source": [
        "ltn_builder = LTNBuilder()\n",
        "client = Groq(api_key=GROQ_API_KEY)"
      ],
      "metadata": {
        "id": "a2Tfvvnl3al5"
      },
      "execution_count": 26,
      "outputs": []
    },
    {
      "cell_type": "code",
      "source": [
        "## Logger\n",
        "logger = Logger(\n",
        "    dataset_name = 'fmnist_4x4_split_11',\n",
        "    device = 'cuda' if torch.cuda.is_available() else 'cpu',\n",
        "    max_iterations = 20,\n",
        "    vlm_load = 3,\n",
        "    termination_auc = 0.95,\n",
        "    learning_rate = 0.001,\n",
        "    batch_size = 64,\n",
        "    tot_epochs = 400,\n",
        "    symbol_size = 28,\n",
        "    cnn_hidden_dims = (16, 32, 64),\n",
        "    embed_dim = 128,\n",
        "    drop_prob = 0.1,\n",
        "    observation_delay = 100,\n",
        "    observation_patience = 50\n",
        ")\n",
        "\n",
        "## Dataset Handling\n",
        "dataset_path = os.path.join(DATASETS_DIR, f'{logger.dataset_name}.pt')\n",
        "data_dict:dict[str, dict[str, torch.Tensor]] = torch.load(dataset_path)\n",
        "\n",
        "train_dict = data_dict['train']\n",
        "train_symbols = train_dict['symbols']\n",
        "train_digits = train_dict['digits']\n",
        "train_labels = train_dict['labels']\n",
        "\n",
        "val_dict = data_dict['val']\n",
        "val_symbols = val_dict['symbols']\n",
        "val_digits = val_dict['digits']\n",
        "val_labels = val_dict['labels']\n",
        "\n",
        "test_dict = data_dict['test']\n",
        "test_symbols = test_dict['symbols']\n",
        "test_digits = test_dict['digits']\n",
        "test_labels = test_dict['labels']\n",
        "\n",
        "n_images, dimension, _, symbol_size, _ = train_symbols.shape\n",
        "\n",
        "## Initialization\n",
        "observation_counter = 0\n",
        "best_model_epoch = -1\n",
        "best_train_loss = float('inf')\n",
        "best_train_auc = 0.0\n",
        "best_val_loss = float('inf')\n",
        "best_val_auc = 0.0\n",
        "best_model_state = torch.nn.Module()\n",
        "history_list = list[tuple[str, str, float]]()\n",
        "\n",
        "# Loop\n",
        "for trial in range(logger.max_iterations):\n",
        "\n",
        "    ## Trial\n",
        "    logger.dump('trial', trial, True)\n",
        "\n",
        "    # VLM\n",
        "    vlm_start_time = time.time()\n",
        "    system_role = (\n",
        "        'You are a helpful assistant that can extract the First-Order Logic (FOL) rule from images.'\n",
        "        '\\nTHE GRAMMAR OF FOL:'\n",
        "        '\\n- Constants: Not allowed in the rule.'\n",
        "        '\\n- Variables: Your options are `x1`, `x2`, ..., which represent visual objects.'\n",
        "        '\\n- Functions: Not allowed in the rule.'\n",
        "        '\\n- Predicates: Your options are `P_same_row`, `P_same_col`, `P_same_block`, `P_same_loc`, and `P_same_value`.'\n",
        "        '\\n- To compare variables, only use predicates.'\n",
        "        '\\n- The symbols used for logical AND, OR, and NOT are respectively `&`, `|`, and `!`'\n",
        "        '\\n- The symbols used for implication and equivalence are respectively `implies` and `iff`.'\n",
        "        '\\n- The symbols used for universal and existential quantifiers are respectively `forall` and `exists`.'\n",
        "        '\\n- Use parentheses for preserving operation precedence.'\n",
        "        '\\nWHAT YOU MUST CONSIDER:'\n",
        "        '\\n- Use your own knowledge to analyze and deeply think about the images provided as your reference.'\n",
        "        '\\n- All the images must follow the same rule that you extract.'\n",
        "        '\\n- The rule applies to the visual objects within each image.'\n",
        "        '\\n- The visual objects may represent numbers rather than what they really are.'\n",
        "        '\\n- At the end of your chain of thought, put the extracted rule in the following template:'\n",
        "        '\\n  EXTRACTED_RULE: \"the rule you extracted\"'\n",
        "    )\n",
        "    if len(history_list) > 0:\n",
        "        system_role += '\\nHISTORY OF PREVIOUS TRIALS:'\n",
        "        for old_trial, (error_message, extracted_fol_rule, avg_test_auc) in enumerate(history_list):\n",
        "            system_role += f'\\n- Trial {old_trial+1} -> '\n",
        "            if error_message != '':\n",
        "                system_role += f'error: \"{error_message}\"'\n",
        "            else:\n",
        "                system_role += f'extracted rule: \"{extracted_fol_rule}\", average auc: {avg_test_auc}'\n",
        "        if avg_test_auc < logger.termination_auc:\n",
        "            system_role += '\\nIMPORTANT LESSON FROM HISTORY:'\n",
        "            if all(extracted_fol_rule == '' for _, extracted_fol_rule, _ in history_list):\n",
        "                system_role += '- Pay attention to the the instructions!'\n",
        "            else:\n",
        "                system_role += '- The next FOL rule must be an improved version of the above!'\n",
        "    logger.dump('system_role', system_role, False)\n",
        "\n",
        "    user_role = [{'type': 'text', 'text': 'These are the reference images:'}]\n",
        "    vlm_indices = torch.randperm(n_images)[:logger.vlm_load]\n",
        "    _, base64_image_list = symbols_to_images(vlm_indices, dimension, symbol_size, train_symbols, train_labels)\n",
        "    for base64_image in base64_image_list:\n",
        "        user_role.append({'type': 'image_url', 'image_url': {'url': f'data:image/png;base64,{base64_image}'}})\n",
        "\n",
        "    chat_completion = client.chat.completions.create(\n",
        "        messages=[\n",
        "            {'role': 'system', 'content': system_role},\n",
        "            {'role': 'user', 'content': user_role}\n",
        "        ],\n",
        "        model='meta-llama/llama-4-maverick-17b-128e-instruct',\n",
        "    )\n",
        "    response = chat_completion.choices[0].message.content\n",
        "    vlm_end_time = time.time()\n",
        "    logger.dump('response', response, False)\n",
        "\n",
        "    # D-LTN\n",
        "    dltn_start_time = time.time()\n",
        "    try:\n",
        "        extracted_fol_rule:str = re.search(r'EXTRACTED_RULE\\s*:\\s*\"([^\"]*)\"', response).group(1)\n",
        "        logger.dump('extracted_fol_rule', extracted_fol_rule, True)\n",
        "    except:\n",
        "        exception_message = 'No FOL rule could not be extracted from your response!'\n",
        "        history_list.append((exception_message, '', 0.0))\n",
        "        logger.dump('exception_message', exception_message, True)\n",
        "        continue\n",
        "\n",
        "    try:\n",
        "        ltn_formula = ltn_builder.make_formula(extracted_fol_rule)\n",
        "    except:\n",
        "        exception_message = 'No FOL rule could not be parsed from your response!'\n",
        "        history_list.append((exception_message, '', 0.0))\n",
        "        logger.dump('exception_message', exception_message, True)\n",
        "        continue\n",
        "\n",
        "    try:\n",
        "        ltn_formula.ground(\n",
        "            P_same_row=row_similarity,\n",
        "            P_same_col=col_similarity,\n",
        "            P_same_block=block_similarity,\n",
        "            P_same_loc=loc_similarity,\n",
        "            P_same_value=vector_similarity,\n",
        "            logical_and='goguen',\n",
        "            logical_or='goguen',\n",
        "            implies='reichenbach',\n",
        "            forall='power_mean',\n",
        "            exists='power_mean'\n",
        "        )\n",
        "        ltn_formula(\n",
        "            x1=torch.rand(1, 4, 4, device=logger.device),\n",
        "            x2=torch.rand(1, 4, 4, device=logger.device)\n",
        "        )\n",
        "    except:\n",
        "        exception_message = 'There were problems with your groundings!'\n",
        "        history_list.append((exception_message, '', 0.0))\n",
        "        logger.dump('exception_message', exception_message, True)\n",
        "        continue\n",
        "    dltn_end_time = time.time()\n",
        "\n",
        "    ## Visual Encoder\n",
        "    visual_encoder = VisualEncoder(\n",
        "        device = logger.device,\n",
        "        symbol_size = logger.symbol_size,\n",
        "        cnn_hidden_dims = logger.cnn_hidden_dims,\n",
        "        embed_dim = logger.embed_dim,\n",
        "        drop_prob = logger.drop_prob\n",
        "    )\n",
        "    optimizer = torch.optim.Adam(visual_encoder.parameters(), lr=logger.learning_rate)\n",
        "\n",
        "    ## Development\n",
        "    dev_start_time = time.time()\n",
        "    for epoch in range(logger.tot_epochs):\n",
        "\n",
        "        if epoch < 20:\n",
        "            power_mean_p = 1\n",
        "        elif epoch < 120:\n",
        "            power_mean_p = 2\n",
        "        elif epoch < 140:\n",
        "            power_mean_p = 4\n",
        "        elif epoch < 170:\n",
        "            power_mean_p = 6\n",
        "        elif epoch < 200:\n",
        "            power_mean_p = 8\n",
        "        else:\n",
        "            power_mean_p = 10\n",
        "        ltn_formula.control(\n",
        "            forall = {'p': power_mean_p}\n",
        "        )\n",
        "\n",
        "        visual_encoder.train()\n",
        "        train_loss_list = list[float]()\n",
        "        train_auc_list = list[float]()\n",
        "        for step in range(train_symbols.shape[0] // logger.batch_size):\n",
        "            x_train = visual_encoder(train_symbols[step * logger.batch_size:(step + 1) * logger.batch_size])\n",
        "            predictions = ltn_formula(\n",
        "                x1=x_train,\n",
        "                x2=x_train\n",
        "            )\n",
        "            targets = train_labels[step * logger.batch_size:(step + 1) * logger.batch_size].to(logger.device).to(torch.float32)\n",
        "            loss = torch.nn.functional.binary_cross_entropy(predictions, targets)\n",
        "            optimizer.zero_grad()\n",
        "            loss.backward()\n",
        "            optimizer.step()\n",
        "            try:\n",
        "                auc = roc_auc_score(targets.detach().cpu().numpy(), predictions.detach().cpu().numpy())\n",
        "            except ValueError:\n",
        "                auc = 0.5\n",
        "            train_loss_list.append(loss.item())\n",
        "            train_auc_list.append(auc)\n",
        "        avg_train_loss = sum(train_loss_list) / len(train_loss_list)\n",
        "        avg_train_auc = sum(train_auc_list) / len(train_auc_list)\n",
        "\n",
        "        visual_encoder.eval()\n",
        "        with torch.no_grad():\n",
        "            x_val = visual_encoder(val_symbols)\n",
        "            predictions = ltn_formula(\n",
        "                x1=x_val,\n",
        "                x2=x_val\n",
        "            )\n",
        "            targets = val_labels.to(logger.device).to(torch.float32)\n",
        "            loss = torch.nn.functional.binary_cross_entropy(predictions, targets)\n",
        "            try:\n",
        "                auc = roc_auc_score(targets.detach().cpu().numpy(), predictions.detach().cpu().numpy())\n",
        "            except ValueError:\n",
        "                auc = 0.5\n",
        "            avg_val_loss = loss.item()\n",
        "            avg_val_auc = auc\n",
        "\n",
        "        if epoch >= logger.observation_delay:\n",
        "            if avg_val_loss < best_val_loss:\n",
        "                best_model_epoch = epoch\n",
        "                best_train_loss = avg_train_loss\n",
        "                best_train_auc = avg_train_auc\n",
        "                best_val_loss = avg_val_loss\n",
        "                best_val_auc = avg_val_auc\n",
        "                best_model_state = visual_encoder.state_dict()\n",
        "                observation_counter = 0\n",
        "            else:\n",
        "                observation_counter += 1\n",
        "            if observation_counter >= logger.observation_patience:\n",
        "                break\n",
        "    dev_end_time = time.time()\n",
        "    logger.dump('stop_epoch', epoch, True)\n",
        "    logger.dump('best_epoch', best_model_epoch, True)\n",
        "    logger.dump('train_loss', avg_train_loss, True)\n",
        "    logger.dump('val_loss', avg_val_loss, True)\n",
        "    logger.dump('train_auc', avg_train_auc, True)\n",
        "    logger.dump('val_auc', avg_val_auc, True)\n",
        "\n",
        "    ## Evaluation\n",
        "    visual_encoder.load_state_dict(best_model_state)\n",
        "    visual_encoder.eval()\n",
        "    with torch.no_grad():\n",
        "        x_test = visual_encoder(test_symbols)\n",
        "        predictions = ltn_formula(\n",
        "            x1=x_test,\n",
        "            x2=x_test\n",
        "        )\n",
        "        targets = test_labels.to(logger.device).to(torch.float32)\n",
        "        loss = torch.nn.functional.binary_cross_entropy(predictions, targets)\n",
        "        try:\n",
        "            auc = roc_auc_score(targets.detach().cpu().numpy(), predictions.detach().cpu().numpy())\n",
        "        except ValueError:\n",
        "            auc = 0.5\n",
        "        avg_test_loss = loss.item()\n",
        "        avg_test_auc = auc\n",
        "    eval_end_time = time.time()\n",
        "    logger.dump('test_loss', avg_test_loss, True)\n",
        "    logger.dump('test_auc', avg_test_auc, True)\n",
        "\n",
        "    ## Delays\n",
        "    vlm_delay = vlm_end_time - vlm_start_time\n",
        "    dltn_delay = dltn_end_time - dltn_start_time\n",
        "    dev_delay = dev_end_time - dev_start_time\n",
        "    eval_delay = eval_end_time - dev_end_time\n",
        "    logger.dump('vlm_delay', vlm_delay, True)\n",
        "    logger.dump('dltn_delay', dltn_delay, True)\n",
        "    logger.dump('dev_delay', dev_delay, True)\n",
        "    logger.dump('eval_delay', eval_delay, True)\n",
        "\n",
        "    ## Loop Completion\n",
        "    history_list.append(('', extracted_fol_rule, avg_test_auc))\n",
        "    if avg_test_auc >= logger.termination_auc:\n",
        "        break"
      ],
      "metadata": {
        "id": "uYzeJOvfoiOf"
      },
      "execution_count": null,
      "outputs": []
    },
    {
      "cell_type": "markdown",
      "source": [
        "## Rule Test"
      ],
      "metadata": {
        "id": "cEooKbC22xng"
      }
    },
    {
      "cell_type": "code",
      "source": [
        "# dataset_name = 'mnist_4x4_split_11'\n",
        "# ltn_formula = LTNBuilder().make_formula('forall x1, x2 !P_same_loc(x1, x2) & (P_same_row(x1, x2) | P_same_col(x1, x2) | P_same_block(x1, x2)) implies !P_same_value(x1, x2)')\n",
        "\n",
        "# dataset_name = 'emnist_4x4_split_11'\n",
        "# ltn_formula = LTNBuilder().make_formula('forall x1 forall x2 (P_same_row(x1, x2) | P_same_col(x1, x2) | P_same_block(x1, x2)) & !P_same_loc(x1, x2) implies !P_same_value(x1, x2)')\n",
        "\n",
        "dataset_name = 'kmnist_4x4_split_11'\n",
        "ltn_formula = LTNBuilder().make_formula('forall x1, x2 (!P_same_loc(x1, x2) & P_same_value(x1, x2)) implies (!P_same_row(x1, x2) & !P_same_col(x1, x2) & !P_same_block(x1, x2))')\n",
        "print(ltn_formula.get('parsed'))\n",
        "\n",
        "device = 'cuda' if torch.cuda.is_available() else 'cpu'\n",
        "termination_auc = 0.95\n",
        "learning_rate = 0.001\n",
        "batch_size = 64\n",
        "tot_epochs = 400\n",
        "symbol_size = 28\n",
        "cnn_hidden_dims = (16, 32, 64)\n",
        "embed_dim = 128\n",
        "drop_prob = 0.1\n",
        "observation_delay = 100\n",
        "observation_patience = 50\n",
        "\n",
        "dataset_path = os.path.join(DATASETS_DIR, f'{dataset_name}.pt')\n",
        "data_dict:dict[str, dict[str, torch.Tensor]] = torch.load(dataset_path)\n",
        "\n",
        "train_dict = data_dict['train']\n",
        "train_symbols = train_dict['symbols']\n",
        "train_digits = train_dict['digits']\n",
        "train_labels = train_dict['labels']\n",
        "\n",
        "val_dict = data_dict['val']\n",
        "val_symbols = val_dict['symbols']\n",
        "val_digits = val_dict['digits']\n",
        "val_labels = val_dict['labels']\n",
        "\n",
        "test_dict = data_dict['test']\n",
        "test_symbols = test_dict['symbols']\n",
        "test_digits = test_dict['digits']\n",
        "test_labels = test_dict['labels']\n",
        "\n",
        "ltn_formula.ground(\n",
        "    P_same_row=row_similarity,\n",
        "    P_same_col=col_similarity,\n",
        "    P_same_block=block_similarity,\n",
        "    P_same_loc=loc_similarity,\n",
        "    P_same_value=vector_similarity,\n",
        "    logical_and='goguen',\n",
        "    logical_or='goguen',\n",
        "    implies='reichenbach',\n",
        "    forall='power_mean',\n",
        "    exists='power_mean'\n",
        ")\n",
        "print(ltn_formula.get('info'))\n",
        "\n",
        "visual_encoder = VisualEncoder(\n",
        "    device = device,\n",
        "    symbol_size = symbol_size,\n",
        "    cnn_hidden_dims = cnn_hidden_dims,\n",
        "    embed_dim = embed_dim,\n",
        "    drop_prob = drop_prob\n",
        ")\n",
        "optimizer = torch.optim.Adam(visual_encoder.parameters(), lr=learning_rate)\n",
        "\n",
        "observation_counter = 0\n",
        "best_model_epoch = -1\n",
        "best_train_loss = float('inf')\n",
        "best_train_auc = 0.0\n",
        "best_val_loss = float('inf')\n",
        "best_val_auc = 0.0\n",
        "best_model_state = torch.nn.Module()\n",
        "history_list = list[tuple[str, str, float]]()\n",
        "\n",
        "for epoch in range(tot_epochs):\n",
        "    pbar = tqdm(total=train_symbols.shape[0] // batch_size, desc=f'Epoch {epoch}/{tot_epochs}')\n",
        "\n",
        "    if epoch < 20:\n",
        "        power_mean_p = 1\n",
        "    elif epoch < 120:\n",
        "        power_mean_p = 2\n",
        "    elif epoch < 140:\n",
        "        power_mean_p = 4\n",
        "    elif epoch < 170:\n",
        "        power_mean_p = 6\n",
        "    elif epoch < 200:\n",
        "        power_mean_p = 8\n",
        "    else:\n",
        "        power_mean_p = 10\n",
        "    ltn_formula.control(\n",
        "        forall = {'p': power_mean_p}\n",
        "    )\n",
        "\n",
        "    visual_encoder.train()\n",
        "    train_loss_list = list[float]()\n",
        "    train_auc_list = list[float]()\n",
        "    for step in range(pbar.total):\n",
        "        x_train = visual_encoder(train_symbols[step * batch_size:(step + 1) * batch_size])\n",
        "        predictions = ltn_formula(\n",
        "            x1=x_train,\n",
        "            x2=x_train\n",
        "        )\n",
        "        targets = train_labels[step * batch_size:(step + 1) * batch_size].to(device).to(torch.float32)\n",
        "        loss = torch.nn.functional.binary_cross_entropy(predictions, targets)\n",
        "        optimizer.zero_grad()\n",
        "        loss.backward()\n",
        "        optimizer.step()\n",
        "        try:\n",
        "            auc = roc_auc_score(targets.detach().cpu().numpy(), predictions.detach().cpu().numpy())\n",
        "        except ValueError:\n",
        "            auc = 0.5\n",
        "        train_loss_list.append(loss.item())\n",
        "        train_auc_list.append(auc)\n",
        "        avg_train_loss = sum(train_loss_list) / len(train_loss_list)\n",
        "        avg_train_auc = sum(train_auc_list) / len(train_auc_list)\n",
        "        pbar.set_postfix_str(f'Train (Loss: {avg_train_loss:.4f}, AUC: {avg_train_auc:.4f})')\n",
        "        pbar.update()\n",
        "\n",
        "    visual_encoder.eval()\n",
        "    with torch.no_grad():\n",
        "        x_val = visual_encoder(val_symbols)\n",
        "        predictions = ltn_formula(\n",
        "            x1=x_val,\n",
        "            x2=x_val\n",
        "        )\n",
        "        targets = val_labels.to(device).to(torch.float32)\n",
        "        loss = torch.nn.functional.binary_cross_entropy(predictions, targets)\n",
        "        try:\n",
        "            auc = roc_auc_score(targets.detach().cpu().numpy(), predictions.detach().cpu().numpy())\n",
        "        except ValueError:\n",
        "            auc = 0.5\n",
        "        avg_val_loss = loss.item()\n",
        "        avg_val_auc = auc\n",
        "        pbar.set_postfix_str(f'Train (Loss: {avg_train_loss:.4f}, AUC: {avg_train_auc:.4f}), Val (Loss: {avg_val_loss:.4f}, AUC: {avg_val_auc:.4f})')\n",
        "    pbar.close()\n",
        "\n",
        "    if epoch >= observation_delay:\n",
        "        if avg_val_loss < best_val_loss:\n",
        "            best_model_epoch = epoch\n",
        "            best_train_loss = avg_train_loss\n",
        "            best_train_auc = avg_train_auc\n",
        "            best_val_loss = avg_val_loss\n",
        "            best_val_auc = avg_val_auc\n",
        "            best_model_state = visual_encoder.state_dict()\n",
        "            observation_counter = 0\n",
        "        else:\n",
        "            observation_counter += 1\n",
        "        if observation_counter >= observation_patience:\n",
        "            break\n",
        "\n",
        "visual_encoder.load_state_dict(best_model_state)\n",
        "visual_encoder.eval()\n",
        "with torch.no_grad():\n",
        "    x_test = visual_encoder(test_symbols)\n",
        "    predictions = ltn_formula(\n",
        "        x1=x_test,\n",
        "        x2=x_test\n",
        "    )\n",
        "    targets = test_labels.to(device).to(torch.float32)\n",
        "    loss = torch.nn.functional.binary_cross_entropy(predictions, targets)\n",
        "    try:\n",
        "        auc = roc_auc_score(targets.detach().cpu().numpy(), predictions.detach().cpu().numpy())\n",
        "    except ValueError:\n",
        "        auc = 0.5\n",
        "\n",
        "print('stop_epoch', epoch)\n",
        "print('best_epoch', best_model_epoch)\n",
        "print('train_loss', avg_train_loss)\n",
        "print('val_loss', avg_val_loss)\n",
        "print('test_loss', loss.item())\n",
        "print('train_auc', avg_train_auc)\n",
        "print('val_auc', avg_val_auc)\n",
        "print('test_auc', auc)"
      ],
      "metadata": {
        "colab": {
          "base_uri": "https://localhost:8080/",
          "height": 1000,
          "referenced_widgets": [
            "0f82c8fdb7664064828d0103070cb98e",
            "5487f8e715084e6eacd52084afd8ed74",
            "fcf16511f4b8459d87764305342f1c40",
            "a201d394a8dd40d5ab234a0874fb03d7",
            "c6649143cdcf445781a581c72e496985",
            "342cd0851a1141fcb974562f7bcd2204",
            "87ea2c5a9c284d8d9208816c9fdcad39",
            "bf9c2cde76884a4ba64dc5b06294e16c",
            "2b9ed25c007f4240b53d39fa86fb572e",
            "0d25f2590c22431195ca5d01da672cac",
            "405a167c383f425390d1068f09297468",
            "43a7a602ad50444e90949a18debf5378",
            "f53ae33c9af44ec49cbf64442e1e83ad",
            "27be9bd8cd9e4a1fbdc7e14078cabd04",
            "427d0420a39b429bb5da51bb5989d4f9",
            "17bb26430d3a42cb968cdcb0fd26207c",
            "52edf34fd40c488283b576f794a1fa59",
            "71083e0cffee4f6f83b08713c1133728",
            "c7ff0e8206de49efac06ded4feecfb33",
            "8d5417a1fff0405986cc194570598965",
            "2037dabee582413389988f47f8ff12b3",
            "543c32982bbb45f0b01e65e60e3bf53e",
            "077f7358e6ca4f9eb7fd62cff34b7049",
            "6b611c254596482093aef70fdb46eca5",
            "3ea647a746084c23923bf557ff5a97c9",
            "29fba1f1e1554209af7b25438fcf56fd",
            "8ed9dcfff9c94898b3b1c9154f6de546",
            "abe459513dd2432d9bf10d350a4b93d6",
            "cd14f8b1dfb548468465fc2fc2862965",
            "d163f3bff4494d88bf01130f06ba0c1d",
            "4b6d5f4bfb364a78a4d696b8781e13ee",
            "9160312c21964306aca7bc849406c1e1",
            "969d922ead8d4f02abea24bc4797cd6e",
            "6bf7a04561e14a09b6ad31bdc0e61ca3",
            "43463a5bba0d4244bd1fea2d46db5028",
            "62d62d1b8de640efb061b2d8bf3c2239",
            "ed3b8a8930ee4a5eb3a219775ce0f44e",
            "cd4b694b67b842b1a7dfa3a77fe1958d",
            "a7ef0dcc870f43cba46c4f6232e5fd39",
            "2d9f3d30a0ad49d390659d85d5b98b8d",
            "e6cc9150504946798e23974064070e94",
            "37b999af023544aab47cf14db6232baa",
            "4bab8f5fa66f4540ba251b25b2a6cf45",
            "d3932bfdb8244e04ad371413dd13f62f",
            "7d466dd6e17748c0a16827f9e6627f55",
            "2d76a9448fea4c7a9c8674e49b3ce961",
            "3fe74e039c0446b9ab3b749d863ccace",
            "66f6b336130a4af3808c665d82a92895",
            "ce5bf337465f4646a140811982a4bbc4",
            "b6ec2fecff5846d1860b7281b8e5e762",
            "86b7501b4c1f417297995c1dfec4d49c",
            "4322579a202a4d47850b28091433d61d",
            "696b8a3a22474b6b909c58144364ae59",
            "2da860dbfbb641438303437b343645ff",
            "9de6fe44304143bc8706b3e56aa09c11",
            "db1554a47a0f494f8d0784ecde95f432",
            "63208589b18a41dfa7600b0314bfee62",
            "c46f90bacfe845c78772f21cf2b669b8",
            "9697962073214e948a51d01d005eb255",
            "b8181b0116f5460195656b7e0ccb8dd9",
            "defb4872f2744a229a02ddd7e1e68c97",
            "3eb148a41f1542f4b157bd175e194064",
            "fe60676af9644d75a4b7b1a72b8714b0",
            "de081056193c43a895a6df645a8240f6",
            "f55b65a3ae334562a8def4142521671a",
            "305bcfed899741fdbd45c9b0c85a77d3",
            "2721625dc59c4e9eb6f41ce9f714997b",
            "2addda1b1b26414ea26a93daf0ed1118",
            "f813e9c1289b46c1bf58094dd2a2f360",
            "0f2c2c53aae24c6da38986871c4bc978",
            "91333eb48bf542f99212b396f606b713",
            "9f2ab33dc5f14c2c846daea5c570ab18",
            "b51c95050ed846fe977a5ff4280c3122",
            "42911dd617c046af93e7513d26fef70e",
            "e639299cb5ab4d9fa0cc12f93514daba",
            "5efab0a4b79742ab9ea0cc7b4a02e432",
            "a96b33af558b42819378fc7bc749caf8",
            "bde93162b17f483d9003daf32a5dc09c",
            "3995116d7ae54936a75e024ff35cdd50",
            "c0818c58e8794a7eb7fc89d35cc1dc65",
            "5375400d7f9246deb8ad7f6b1b6cfa21",
            "6a6377e39561498cb9a5054b07c4e00d",
            "327e6c3b0e624c63becc71a141a7de61",
            "4b83d28ef37a46009d02662652b28b94",
            "b5d3f40838da4379b49e8d6d3eb76cad",
            "94cb4eb7a6f6490e824410c141792e21",
            "08113f3bb9d244248291f195de810881",
            "dac69072cc32404fa44523d6b96f42e9",
            "8c34185350494500b9058af769608585",
            "117b883247cf4fc99ad5359a520211f9",
            "67c38ab66e8c48e5b1f14d0bd823fccd",
            "513bba7d361e4d908d78c84a07a293ca",
            "0aef4c17116449a685190f5bbb884223",
            "620122834cf042fd814b74e399adae1a",
            "c2ed7b39f38740d4ba9ff3e3382a80df",
            "b7d14f0cfe5f4e4b8e40205c1ad4d01e",
            "513849c6ff1f44db86103b211f88fc58",
            "1ce08b2f83104e4ca518cbeac8813688",
            "5eb253e9ba864c54a26cbfcad8bc7d03",
            "9879db8eeac447329dd71e229c4c1a69",
            "f8eb57272cf44cb08afae5b24b999719",
            "838b23bb782d4c12a70f3f4cfd849f13",
            "1b57429a18114baf8573e0dd7267aad6",
            "79940a91aa114babbb076ddd5286bb89",
            "9e886f8dcd0d4ae9b0195f4f1c9101ed",
            "63a2940c38214cf4ad2b6dbba1807965",
            "e965afa8180845908c7def846388562e",
            "e11e176d55c34c3ba6bea019bb614bea",
            "cb624403513142c3a2a0a2fa38b7b71d",
            "c6a78809d38a4170b46fab12fdd0c410",
            "508d26fb5dd542188265ee60732b7f31",
            "4f84c9bd9d32421499109417b525592c",
            "f5c8f62f75ad43b0877cce269608567e",
            "06ccc3d3c7f442daade4af300a03c4c8",
            "224a2e135abe474a9b7b76f4767f5dce",
            "1e3450a7690c41b8a905fd895ea85d30",
            "e8f7e3adc9fc499595661339592dcc8d",
            "5540b377f82e4f598fe172a7b9c4f9bf",
            "d84b174fb13f4a05b5f6e5f1a97197f6",
            "77b70efff9fd4041bda170e5375beded",
            "f74af95451ac4e04a231f8ac16e92ecc",
            "ba22ab3b4beb499f8398858894fc3170",
            "bb54091701c8432183a1ecab30db3660",
            "8d2f65a0f6e043d6af58151aa6cafbf0",
            "c7ab26ba8f054bbf876596145e6cd50f",
            "6daba6e2ec3d4cd492fcea909f8b5b05",
            "68c5f1ab7ba14965a2e9a44756f099ee",
            "4d3074963d1941c792674e339b7dd53c",
            "04cade0a4c164ea1a3ac0b4ab4a3c506",
            "e60de5b30e114f64889bde99b9120005",
            "a677dc72d3a24556b15b1cbd3d173c08",
            "967f4c4a86a243d5a9ba386ef97a45fb",
            "891c8c6e1744490d8fa093460723d653",
            "2b91a2d0384c4f56a68bc55b7161d564",
            "05e3c56b0ff04d7e9d1a8246f847fad7",
            "dba3a11ad7d8492e94205a25df7f9b07",
            "e92092f1042347b68b1c692044f85bd9",
            "21d8382e3693474ebcf0e229c53bec5a",
            "9fdea48e318d420eb945c3851f13c1e1",
            "cd508a7e91f242699308a92be375927c",
            "890fb29ff3ec4c37895253f8d839ee12",
            "c914cb1151674e20b9939b3873245a4b",
            "92ed598ea9124a6d9d9b7958e8e797e2",
            "56694494223749259a474bb649990b6b",
            "05b4be19a30e42d89684fe60283458b6",
            "69c835dfb3fc48cba0346c9e49ed8d57",
            "9c1d9adea8f744b9809334b74b22cfd0",
            "f668d57136a6466cae08b657bd6118bc",
            "4bb1afb20543458ea8f5155a3e6a4c9d",
            "75ddb181aaf348c398e143297200a6f5",
            "ad85ec7bc60a487aa6ceed01037256a5",
            "d26c417e7ae741f099d4a9b8c2a0aa18",
            "ce24841679bb455aa3c97eaf37bdc8b3",
            "6e1edd8392494060a57153427a594f6e",
            "a858a15aa26b4ec2aa9c4f96b7b837ad",
            "91c820cf7ca94946a2a60576e9fe8140",
            "4c8474961bc44806be62979a53c0974e",
            "bb0a1f71054f40c38ead6a4d6830be9a",
            "6acdcbc3ca034a2b8e4a5125609db13f",
            "1e82038cf69845979c67eeacc2337ef9",
            "1b448aa17b7b41049cf67afaa1bf9baa",
            "1c04614f92a04575b321aa4865beb7a2",
            "c6df7cac418041a1a0cd3d3603d13ac5",
            "a28aa158562f4b6b9ed85f4b2d92a324",
            "763e1066999049e19d2763aefe97445c",
            "6f34c16f668d462daace8e1e024d8926",
            "ccce6852f99f45719dd44fc9977afe36",
            "87cf3ec8164d4bf8af626e49dbe78d36",
            "f82e85d554934c88af83d2c14354cee4",
            "62605dedf7144dfab53543ea77f3059d",
            "cd0cf619659846fc8d6d47c351d51559",
            "fe73b132dbff4be4ac5752b2176c25ac",
            "810e59781dab486f8eafd21793753ca4",
            "75e7ba5a6ba94a898fe6fda2511c90e9",
            "cab9f868607642b9b966db3255ee4377",
            "ed18635d983c464699ea98ccb0b8fb9c",
            "44526ae4d5f14b4a9b8c2425a422cc82",
            "625b0726cf824e8fbb71b6fc31366204",
            "5f8e043c57d84eef87f602a350162346",
            "074e08305ceb48cda4d80084824fbd96",
            "ef807ed5dfb8435c95ff12dfde43c238",
            "55cf808909464463945224bb8b89718f",
            "b4668526e5cb4294882221239a549a3c",
            "9aae7165a2704da3a08b77ad5daf91db",
            "571671fa8f2946fd8226657c7a74ad93",
            "422d401d24c743ad9c8e5d31d4f3886d",
            "98d7a6d9063841ecad53ea961c4cd58e",
            "14f01148949b4505be98a29d7e96c934",
            "32220e04ebff430d9d8607334c4ccc64",
            "901141b2f6fd4bb9956e185208ebcbc8",
            "ba0123d8fdf04516ad33f9ad7f617f22",
            "6455f8a1ace0425ebce04fa6a3308ce3",
            "30ef9ee885bd429db1e9cd132d2e5d1b",
            "376a154059364d46a340244ab530ba8b",
            "a83f6486dbb34d769e7b90b2c3d3fcd0",
            "085dcdad9631449f8907b9d98dcd6577",
            "f8559acb96d34cabb42db5b22fe1c1ab",
            "d2f892d0746045dfa34e7e04d6427049",
            "62c344017d304863adb06a3bb71e8905",
            "7e9d40850dbe4159a703fb85a0c00d6a",
            "245047bb96b54710b84004315fd0c68a",
            "f64d8ebc176540e6bb901b0a0fc0fe1a",
            "53300edea2de488b90216a35b89bf4b4",
            "d58d3f0f4d1a4434a7b56592ee1b42df",
            "16dc1137ec234e22b58b46b4605f7456",
            "3687742c57224605872624680a6508da",
            "5ec2c64582814c40b4308578620e3682",
            "c40282ce545c4cad832e2fd7343aa05d",
            "5226960a70c74008b5ffadde8b0dacf8",
            "d13f9601965f4351b9d56f2c6af0a5bc",
            "fd1f5d8d00cb4ac69a2a2847c9814756",
            "04b9e040e28b4136bc403dd0d5d56c82",
            "41689a89013249fc9e6beba7b2ef28f9",
            "08850c76af984c1da2542757cc68561f",
            "cd5681cf2c144c0591a355148e00b66f",
            "faad1bf0861248d88594161600a6eb1f",
            "8ef5a0e089114e10bfe943ca0bec1493",
            "8f7c0fadd63b41d2be66b98e9a8c68b0",
            "671c12f07c554814b91eeaed584050bf",
            "39dc5710abd044699d14e5501d7e20ad",
            "eb92b3e1293e42d0bfdf5c20cdd77ef4",
            "b0803ea9f1914e39b9f8ea9685af2948",
            "507cc40242204c36bc303d202be6aa36",
            "16ba94c746a545e48e3977c86128a362",
            "3a1d97c3291d44e5a87bac30e700d262",
            "ac524c9ed90943beb9cee1cc66d48467",
            "5fc9dc4cac7c4ae9ac83939839e1c983",
            "5cc2aa0269f14c18868a005472751c57",
            "4c0fabd46c4a4a78807174f75a6b72b6",
            "d5e32ffd0c234bcf9db03cb99d391200",
            "cee52ee8440a4f4ab51cb80cf6a795fe",
            "61202c93de89461f8cf267ca7db77504",
            "5e66e109430b439395a7500b826bd5ae",
            "58689e46e7944a868eae4dd0fed5ce24",
            "b9d3dc1de8714132a915e05973d49e5b",
            "2e7bf03b4d3e43ea97a6ae905c9d897f",
            "9dccfe891cd146f480bcb1a48a398a58",
            "eb394a672e664c4da807c7a0987d19bf",
            "c3ac00ce61474efe941f257145376f40",
            "c82cfe8bc38b4d969082e4ea37438f6e",
            "814456f2f7e247edbada050698dc4df0",
            "2c39d91de72d4750bbea3b1ac14eeec6",
            "8c4ec6fd15a643e49dfbed3f8b9ce446",
            "609c45d26dda4f93aa29ee476ea56c61",
            "acd3a51095dd4336b1e6d755559c6983",
            "1591ab1312f6475c92dc82b7ab18ec13",
            "3475d339a767403e863bee75f9724720",
            "ce41315328f2499cbcd968befe59f653",
            "d2bf4b8445b64eff8c0332639cb410db",
            "a1a59a3a7c7246a4ad029d4487f79996",
            "720f94f4c6f04c7a88d439667a543cbb",
            "7e38185f633c4a4290114ded6ff7cbbd",
            "1b0dca06f1104fdc98ad7356ab91b8d0",
            "105d6ecbfdfe40fd94ac5565bfbdcf65",
            "ab1b323a2eac45bcb007660ecb1b65f2",
            "1c9618feb5954fc9a78e5a83cefeca6f",
            "2b181bdcfd9c47988aca12f379fe8695",
            "c676e23829c2431b9c0323631581b2d0",
            "889f24710a86461c928f9b6134208049",
            "aebf8032dc0245348e078efb1f4315c7",
            "71e9e07fff7246f790353608040b4704",
            "ba37d9fc8f644c578d28feba07c8c47e",
            "3f0fded6e0984256a0f453f2d8508781",
            "695db81b5e2e4cffb943db970e7326eb",
            "50c4942a9ca64ba2b0215cc560314c51",
            "e6f91df996f34ea2b24b5a49abf48c4a",
            "2acb334a77b14193a5124021d30b9b3b",
            "ddc5e03b156c44fe9d4a249409555cda",
            "d1cfc2adc3164b6bab23dd8a8d920777",
            "f28504e4ae57415d8d8aa114c75d65d8",
            "c49be1c0b7394565b3981892d559bf2d",
            "7f17ecf09c214c3bb23a1fc136a6d7ff",
            "7cb83878e2a3488d9cce3edbf8acd2ba",
            "b6aca45750ee471fb02ce385bf07e990",
            "e78645eb38ca442289079793fa8a0080",
            "481bab8fadb84ec798d5cf82586f7f9f",
            "9c27a4044be04b3f861e284e299d5110",
            "a9bcf8157fcb428e85de84512dc71aa3",
            "20210febd29343f586d6ed6fd13d5c28",
            "0ecca3ce92fc459d93f5f10ea967d4c7",
            "15e8db1f8aa545168809ea49b55472d0",
            "25895a3b57d9422a896e0ee45a262acd",
            "1d71f7228a76442e8fe8edbde95d46e3",
            "50d80bbc306445cbb9dbcb3a0264c1cd",
            "c786a06adeb84356a368ab135e3a10bf",
            "f630c3539b434f8aa13939bd8f843a4c",
            "618cf7a9c3914d73875efe14610c4b6e",
            "8e2ca0160ae04880b673694c28d171b1",
            "cae8f8bdfde84e2aa3fef6e9ca9be77f",
            "cdf9085ca8c34700ae02cc30db447875",
            "420f1be6741441bdae1c6a1e3dceae4c",
            "f3ca6fb813144a3fbfe00fdf6fd6611f",
            "27a11f3aaf2c41a0b4603814f3bce9c7",
            "1c6544cef65048cf8e388999356119a2",
            "93aa656e66854d49b584b2ddcaaf337b",
            "0a331f6149f648e3bff1e36af7321e22",
            "d4bacc12fa8a41878da07af62a60cacb",
            "6eae23a330fe4fcd9054441f3e5fa020",
            "ebe1b3e5b0de4de18cb40414e1d9c5a6",
            "eeffeca9b2cf4f98a037d14b0ccbe32a",
            "6054168b25634091855e4f3fffa39109",
            "087eec09d6754708b9ef186454c3a04b",
            "a8901f23583b4720a43d415e79f91bf3",
            "471d61f4df9143418ca25b0e7ffc4e64",
            "fa125fd31c664b3fa41a735079461c80",
            "da501c75a1d64a0a97ce2da2f3c5734e",
            "dd76c92b68a144c39d7ffbd4f26556bd",
            "08e201f2ab7a4a628aa8ce113a26386f",
            "14f49a4cd4374eef9438ef18fc373c64",
            "4d7fbd86cbbd46c48d279fb8e374184e",
            "afb747331c834bdeacf29c0db0af1379",
            "a02aa8cea0f644808166a5e4cf5c4651",
            "d7bb5644d0b74986bf06d82ee9aeaa75",
            "37ed73f2918b4a08bb2bbcf1bf5e2418",
            "63cf2671f39346de88b2491501394548",
            "9a5a2b1be4b0425dbdd58e7bf838167f",
            "47eab8300ab64dddaf8e1ddffede5322",
            "1b6ea0332c4d4d809f716edd99b91e32",
            "2b6425e2fa4648a49e48c7f2a2e3cf7a",
            "d363858c7a454750a64e1a3095229f24",
            "9bb70ecec7fc4a818fd37a1d7d443fbf",
            "e41eed2ae1434eb9be8f4d13af933c73",
            "8ca3a3b4d6254816a31bac7d32a46495",
            "7e7d7fbb7fd944e693cd18b1a4f4dc0c",
            "f0d36715f27349aa9fc98fa1c30c290a",
            "e4fe450aeee54bec9063379447fe330a",
            "49148319a1dd4bdc965285122bc4bb49",
            "cb4f6cd725bc48959d5a85447854b3c1",
            "71910fd9164a4492be0e0521cacfe6b9",
            "89810403d8464200be76ce7114a787ea",
            "9d58481db773400080973afd3c714c54",
            "b080f9a40c19466ab9c2a174730667c3",
            "2b31b73a93dd43a0a507321d6a41dae8",
            "38b97651569c4a35acc04eb8daa16d93",
            "e6cc6f5cf22a44d58c7cfc4e08ec04e2",
            "fc40f6f8c6534bbb8d4065763c973dd7",
            "94a5a375ed684ed19dbc927388b7b489",
            "7bc9b9e09a8447fe8f27ec5380f7f3a0",
            "3bcccc6a65294e94b425f4075bfba9f0",
            "a440ab61b96d4821854addb0fbf4bf31",
            "0564fee83d844dc08d01ef691e9182cc",
            "2e8d833654db4016be59188d478fc974",
            "34637fa60f1f4a66a1929d5b7e202300",
            "b38f88f1670b489393a7ab035d0c40fb",
            "4ccea29aae504a01a0b2f514cd3e84c4",
            "c06c71bb5a1042f5bdfdecde1fb7a9ed",
            "dfe16511b67348c19b20b25795fa59cc",
            "b05637cd85bf4e04aa9b57add4e52d67",
            "4368343c40844dc4a6edaee55b9cd7bf",
            "69d7312d75bd47a58998ad2e80848a82",
            "0de10ed258e744519a5de83d317f74fd",
            "a42bbd5c65244ecebae15ad98053af7f",
            "cebdc7ad14c2474ba78f2240194ebcf3",
            "52dbe88c38ea4196946a0608d2405283",
            "e30d39f0fae44843ba199725b2364a8a",
            "deb8545980304779afed5cd1b28e517d",
            "4f021908b94e420db86495f9c2606171",
            "d39641de37384eccbbda2058702e41fb",
            "c3aef506069f4be6b777d61eb7b9a42d",
            "f01624f0376841f9a57989b678921772",
            "05851c8ab61b4de897bc022759286b2d",
            "fad2d818cd51437f99c704c5bd685e26",
            "595923325b0d43b890434b5e51c5e8df",
            "3020c8a8a389448ea029e858a6b5ff23",
            "1a328f346fa646429d24855ddb6db93f",
            "9b6c01c49b5a4963a8062297e0b5d65f",
            "ff23f4fb48384ff19694c9b2d6caca39",
            "c29ebb2e95a841c8af90f2b974f0649e",
            "643fa8d6c5754f5187b89df2967c7b9e",
            "4f952a6e1eca4a11be545ff9a18f65a6",
            "8313164e7aec412c9b23ff31ff86380c",
            "6ce8329816b041da886ea6b58dcc9833",
            "d37723230c2541ca86e02bdb96611997",
            "a196197cc7cd46c68f2e0fcfc6a3629b",
            "d4530e7c97724fb0a8fbf6ed499a5cac",
            "ec886f74fe5741dc800caeaddee9ccda",
            "e7556f8f45584e91b14c958f9d2e7a43",
            "8f787c195bc740768c87828cdc2789d9",
            "061de4ac30b84d99a89c4a8ec8babf5c",
            "ef6c9335ba574c0f98d60d3b30905c89",
            "6aac17272ada4561bd5b3a40e139049a",
            "da8ba1d754d14ce9a8b6dfdfc559c819",
            "ed106ab3736845c8b290e20e470fbc7a",
            "73bbfdcae1474a739223ac64768b42bb",
            "f8f9a3b5697f4859abd55a2d3d3d7012",
            "4bf793fd666e498fb6a6b8b1583af64d",
            "052ee18a8c2b472fa16789aa4372a9a6",
            "5739c8e03f1b4fe981cf9e8ab6446bcb",
            "093a0d5978dd4a509b37b60d46fda693",
            "752792adf7154248b8ece7a7ccf5040f",
            "625d6d329ede464d9e368beb16ad8acf",
            "4a33e8f2e82b4e91b52a547636719eed",
            "2e29973b231f4e958415349e903177b1",
            "78c1ce3c50ab417493e2472b4ddb7ed3",
            "163585d693d24ba6adf85b2294165e3b",
            "287ebe8eeec04361adaa598d5bad2e45",
            "2894f31d251c4f8a89912d26ad183014",
            "f019d08b552c48ce84a9adb794114b17",
            "100ccebcf5c24b0891441c216c2281e2",
            "55413073fe074f8f8a9218c1c30bb2ff",
            "594e4f3c5a8c44e2b63056b46f5d87a5",
            "9870bc3a598d4ca9b6b6a1d428de7389",
            "b89a6acf4b9e49feb71cd0a103e285bb",
            "824ae980a31b4166a1d1b48b49a383c2",
            "4c017431a7d64a479a9c70fb4ded8ce1",
            "b665316821634e7a9439f2c61a53adf6",
            "f93d4a4c97ea4b8bb2e8b93b180eb66c",
            "f11dccd09fc34de4b688ac271c1c3bf9",
            "7af5ecc4e7a44325aad7cce3c7e49339",
            "37bc173a1df34f6a9e8f212392384d58",
            "a1efea50810e4e68818296c5a567bf54",
            "10c29687197944a88d83895af61ba231",
            "fce8a3c99e9e44a988d7c64d87911690",
            "88e264c6a187416e81f11c41ec00e440",
            "50ecd59de4d24cc2b38c5e2c9d35fa93",
            "30ca538e4d22445ea267373410a1728b",
            "d3823118068549378bec69cc911a8e96",
            "75e15185108f4db1abc61a00fc17a040",
            "7f130c2468784f15ac2baecfda5ccebb",
            "0b06e9e6269e4992a23feaaa7c69cea4",
            "2285af335beb4c7abd4809481ab3610f",
            "0339756709394d06ba168ed7d4a8e535",
            "142bb736b92840b299b4c7ac65827301",
            "55ab44d7dd034fc08cdae7a6191f4d01",
            "fc2ed58f9df6426b8b52ab9882cde700",
            "d8e247c1581d41f18e0edfd40b4a1655",
            "44934c304ded4ed98a2e960212e70bc9",
            "d6c754e3fce34729a4c125a63b65c902",
            "40ef3e3c189a4df5bd6001b5e07593b2",
            "94a681d016714702ba22775ecb091c08",
            "c4bdafed936d492691d10f0f7237d82f",
            "470b41f15476405bbff44b222a498023",
            "d203ec615c46466db6e35dd5767c2dd5",
            "27ea1f206d3a4b7ba3fe0692318de794",
            "1c1fc015b3c44a5e88d8d8a99f2ca7c0",
            "ef718843a4d5487690d24357c55b6e59",
            "876ff690f3bd47b2a2330f82b9e9d349",
            "e1831075d1394481b88d1d5a69ca8e50",
            "2d020f112616405bbebf3f025566aec5",
            "2ebef22c0e3c46eaa74943e9c209667f",
            "fa9bc893869f40e6ad0fc7c37d76938f",
            "dfc3a1ed9f0947c89a14caf5efdebf7d",
            "92d00ee1c6db4cd996a28348747ffa87",
            "3644b641dabc4858a8a3adfaddc36e30",
            "c0635589d45f47c087ee41c089b64eb7",
            "f72a78f745bd45d993f493b9bc674dfc",
            "ca420fa3ce5c4d2b9d0b2d9c3365c4bd",
            "9cdc9efb71fc4ac6a20e122b4dd4ee9b",
            "eeac7ccfe7ad450585be9c29dde68de5",
            "fc0ce9ef97944dd6a15b518ddae13f55",
            "b4183ff18b974447bd6625c0164d8728",
            "ea7b66918210425993c0bbb5bf4959e5",
            "ec5c54fc2dd24bc8b23f1e931414d2f3",
            "809941c9a9c04c51ae0a39207c93547c",
            "0148c7a2aade4bcd8b9619e91491700d",
            "5eba785644e947aaa4fc6b4adf019f2f",
            "50afd722ff064a639ca33bb9f4be27f3",
            "d077e2d5a6a449cc9f574529204fb153",
            "e1657023f0a24abead9944036211ae87",
            "8164ccd8f99145e58214d71f228c6aad",
            "d2110fa5997e4908a6f35b94277993ca",
            "c15db5b73ff442f2b211503648ae83fb",
            "366dbe60d60d4dd8a81b0970179c87a8",
            "22a6b94cf6ee4317a4d95a9670c933a3",
            "fee182adcbf44c7dba8311a84efce9b0",
            "7e381c7fcc9f4b61b991d263472923cd",
            "4ebac2a5a2d94495b0d664e74dd03441",
            "62421aea751c44168f9829ee0120a4fd",
            "90bb0858132c4aef8eca65aa10d19281",
            "f352b75c5d1944998d53b30e6c61b9b6",
            "d9a0eff278d54928a5a28a4d29e2e01b",
            "a4a86d126cb3423a9090b8f69cb32d87",
            "6232c4099de64a899df71f87b19b35d1",
            "a53bdcc9cf80471a9e6b740b6a1138d3",
            "0d2d47134a1e4457b228eedc9435fc6b",
            "9cd99c3eb3114adcab6f6a4f49a664ae",
            "6610aa0566794a8f94458f472c8c5583",
            "68afc10f7ef3410eb377d4cac600300f",
            "573a43702dc04342a4f7112e2da4fa25",
            "8327eb9eb1464d0b9f308ef2661bbece",
            "258ab91162494340a7c0fe0cca655213",
            "00d502d1ac9f413abe170a1bc4741bb3",
            "e665d55366a64218990488aeb617c01b",
            "2a4f3a2f32254cdd97a48c287940e363",
            "2179e2ff25144cf0bf71b0ef5851a9e9",
            "897d1fa38b654378aa1b13c3ffb0e9ea",
            "b5e435319ed840ccb8e26599aa16c45d",
            "4a45be0590e944caaae131051de6324e",
            "86e0462eeb354a09aa87682cb31abd4c",
            "0c86b50785bf4610b9de45bd602e9f4d",
            "87cb5480bcc643f28d232d0c9003445c",
            "a9860e36a2d646dbbb9b77834cb9ea09",
            "4508d08dcb874cafb63ebebb277223de",
            "7acf8475795b44bcb20e13ac892aa637",
            "1eb57a2c80784864966493dfc69da397",
            "d23ba0b4357c41808980469cd62f1e3a",
            "51cd76f6bab749fcb6cad2af7e6e90ae",
            "f465c07cd182494eb7810e53a42fa44a",
            "e8ae83a0f2724a60938f98a510c9e519",
            "ef301cde046f4c38968d74e5fc5546ba",
            "32213cb1d6424907b463bbcc21220a21",
            "e085891bde4241ab936e23c317dfb657",
            "a052aca2fcd744978b4f1d1d3972c5aa",
            "9d0139a3a6134da0912fbd3ca79c5e0e",
            "2ce73658249647d58662b1a8eca6214d",
            "147fea0089454252b8b9b2e935c34fa7",
            "a363741d0c324e1991a347c4721f5116",
            "ff0f8e90fdac4b1ba208b501ce198e76",
            "27fa865923b541eab910b16601daa19a",
            "ed06392c22854e478d85b055ab0f6976",
            "555b9ff438d740528b1b44082325e57c",
            "f307cb5233144645a94ccd8f1e4604c4",
            "d717116d368a4b0bb0147678699fc848",
            "9e71a7e1dbf4463daa40bfb8d530dfc3",
            "106f90bee411412c9b52e3ce4e890bff",
            "37c4311d7d2a4ba48076b2d1746072bb",
            "1c302b28e6634bea9382c126e2c424b3",
            "c56f551890764201857af8c9dbacef95",
            "238ca77cfcbd4a8680dd2c82d2dc78ab",
            "34f967dfe12b40a7befaf96960d6da3b",
            "8bc8d790ae0a4ce5bbf659dc133a4c35",
            "2aa909f1688d4d258cf2902416d4059f",
            "7180ade7db7f42c8bde88c8759ea74ad",
            "7e5ab8bd858344b1a995bf6e3dbce33d",
            "8e8a44be25e94ba68bab368c228bf25c",
            "b263b37de4d149d4b2971f4e84905962",
            "e13e26767b1a427c81dc3d32216e9574",
            "df752f0cebc44b4d8fa3b2c679a87ba8",
            "67a10d521f594649ad43aaba0965d78a",
            "3a2fb1e24407470eb41f5de175192a27",
            "11df9f8558d74708b636b361f8e090df",
            "ad56de733abc4460919fb2aeae8bfb22",
            "b31f8c3f423a4e179241af2b5fb87f95",
            "67f837ce88284451ac7875794d401466",
            "e845b44fc92744f39be81a8ebaf54b88",
            "d5f08a9f66b84e99accafd07de3bba2e",
            "8ce490d67b7b458585ea7d6a56e513bf",
            "3aac94783b50497192c9f38acfd83603",
            "7ed00fc924c54137959b7d6626eb461b",
            "5691e9a6ac1643adafb5a1c8816a3284",
            "e9cf8422b40a4fb68c2abedaea43bce2",
            "e3bd002824834106b1481458f05097cb",
            "26d24e206ca746cba3a581422d969f56",
            "7c07f8ef880a4b8099fbc8ff7b6ee827",
            "7caed76959624e89a2628c1833b89c1c",
            "9d010e7d61a7448ebd897d9943488ffb",
            "2b0c4572fbeb4a949cfcb91648fa5fdb",
            "4f44b1f201c2494c9b8755009f6b2ae7",
            "6ad31a7918ad4bdb9072f92c26aae98c",
            "2eaaef9823ee4850a2ecf615a5390aed",
            "92595ebdae454d62814ce2318c0f3974",
            "690fc629b1044b1b82e10e13c5053df0",
            "6af3a5bf3a804497af27793a66187c15",
            "c32fb06c1c984e0fafb0bdfaede53c2f",
            "613fb1e8ff884ed39e3d1fc981ddc1bc",
            "ea21b3aab6904a5fbaed571c21265d24",
            "2761cb919d3d49c1b2c975d5bac4ac60",
            "1ca444c6e7d844e391ed000b1d151541",
            "2221ffbffa8c4863b8db50767774234e",
            "677a1b6d44d94c54ae85b42ea831fab6",
            "7a5f942c27f44aada8ac2494198b3a4e",
            "575819937d2f485692aace62080bb6d4",
            "ee5d25fe4e12474c8ad31bf714363ae6",
            "4e5c27be574e4ca08afd175cc70c577b",
            "0d543a4b6fdf434d95babbad05e2d210",
            "14490de4ba28426d988502be519e039e",
            "9a97c61f7dd44dc8952113c79b7f26b6",
            "491e1bd397e94e1d8ca1aa39ed0a7d72",
            "da3882a36f5e490e944ea14b2b94b61e",
            "6248d51e6d53435da1c5d2bf967d8fc3",
            "223ac6a65a1b459095dcf7294807c083",
            "b28aba9c768d462e851ee66be448b7cf",
            "c9e1392477094588803a04cdf08cab01",
            "33c1cff044424b9d93b49b47d5186a72",
            "6470107acd4b4e0ba5875642bb621fed",
            "7ae03c8cf24b4df1b978b6aed9b6e41f",
            "42c1d87995764434b9e83a92e8897e34",
            "a2e2cfd7114b4da79889739807dd526e",
            "29fa138c50b145e0901f23bf22b6a6d4",
            "d3c476cf707a4333aa7fa514a0e17829",
            "022a6137df3e4f9aa3718e8e6b038987",
            "ac66ab39121848ebb9c90b795cb660fa",
            "d6e302c333e3403e918c20d4d617a762",
            "25338e311a324f60b97f48f3123b7563",
            "ce0d2143271142c8bed4d9c9fcb1ebc0",
            "ca9ed6db8e9f434383932d3704e04adb",
            "38136be4535e4bb4a2f3ea4571873755",
            "340f24f2fdad4477b746c37873112113",
            "a21f7fdf4ec947639a6fb2907ad6020c",
            "bbe2554d44ab4ee494a889d8c2cc193f",
            "2a3a5904f86b42da858b83a5654c550f",
            "2b956fe6dd1640238db905ffb4aeecdc",
            "5326b6a5ab9746b8ae0dd3e9848da329",
            "0e560e01c1204e7da85d40b52d063057",
            "d236606a74004e6984b7f7c6cd4f7b0c",
            "ddb38f618aeb46d1bbab507d089ac1c5",
            "3c04d52c52c8484c84a49f05e2b12a1a",
            "6359865dab1b4439ac91256ad19a4e4c",
            "fc22532eb0fa466f8546e28cabf8aa19",
            "edb54097b74e4f04928cc6ded497eabd",
            "fce658a3d82d420fa05fd3cc86ca0007",
            "fe73d968a5a347ad9d69eb3f32f6c7ec",
            "6bbb556faa9d4c5c819b7ba355e6bfdc",
            "d7b2ee295cd54409a2e6cf0628a75ac5",
            "21e7c2a19dd34ba78eadd972f7fe8be7",
            "8a1d9c783650408fbf8cc630ba17fcaa",
            "0eddaca2c46d412f967fc4bc7e879742",
            "d9a780dd924d46da89b4aa5d24f26ced",
            "3087628ed66343cda3cd5ff17cff37ed",
            "b332236f4c514466984eedbea889ab0b",
            "963ca5e62d7a42638ef1f92422312738",
            "55e375dc6ad94aa1a286afb76486ca84",
            "5d4cf0bd8eb642018d842b8c2bf4eb38",
            "5b45a7869ea5499f8e228205360a132a",
            "20992e4f6e7741a19fd6f7a9d9168739",
            "ab97e2171dc74b3e8a06a6b753d4bbad",
            "c2deeda1b149418cb0e52bc82ffde29a",
            "aa9ff52f7a63444893bd5d78baacd8a7",
            "2bf3a110cf644cef97a7cccd5e4072af",
            "98b5f7d355784e94895bc99a0604662c",
            "b269cf25a337443f91eb9a1c4a91cd78",
            "5f75b8180ced47d2b8daa19a8f674bbb",
            "68083aa8256842b4ad806095a874ffd2",
            "8d49c4e7914b4a3ca312d80beaa61616",
            "f513780de15b4f2d9d2fcca14cd8b007",
            "af6ceeccdbb24b9e9d60866512855699",
            "223bc147974447cfacfb6f1a425829b7",
            "14990612cfb346ab99d450f1b3843305",
            "01db0bc3ce44486a966fe29533106a33",
            "946e4e1a19064f75bdb129c9b53b659d",
            "d279d2fcb3424b69a880fb5f05ca098b",
            "aefc00c748bb40f99015dde19a413b0f",
            "f03a7ce8ddec445ebd47266dc3d79e1b",
            "8214f68afb6744858616d489bb35e275",
            "b534724ba768443597cabb774d960600",
            "13b74c33af9649d39492df1ec8d40d45",
            "4ba643b1a3e04163b4e262679f1cd6c6",
            "1b220bd0c11d46c096d308c6eb545814",
            "caacb931490f467b9f2e6e8b0635ff9e",
            "1b16589c102b4d4e8f29b2952d67ffcc",
            "4fb307c1f02347eba7c0898fab1e0cf2",
            "a8deca846dbb403a92908bd9bf960108",
            "8788275a3c2748d0b6ecd74d05cf2e7e",
            "d916aaa227ed4e8c859336708db4d22a",
            "689c50ab483a4dff96efa6d0d7e3e90b",
            "59a091c395c64b95ae0ffb46e9a57d95",
            "56622337a80547598ec9458575c95a4c",
            "721d4d0b64f3421a8e4ad4f7996b2ef9",
            "a7c029088e3842f9acb799e31c8b4df6",
            "fe58eaf830e6422d8113b8e17cfb5059",
            "bee07e1ee5ae44f59f315a2c95d9a4fe",
            "f68733aafa3a4629b83005b025e97a09",
            "5349e57ba13f479b9e396debff6eb5ff",
            "c40033b834704834aad43ec2d5fd6d92",
            "5c25160b64e84923a9768d1afae0262d",
            "5513afd3ce594666b9686c793a4b441c",
            "62b48fe5aa4944258037df301714c7d9",
            "a91f87bc9a25415eb8e16dee38506dd7",
            "f68d59aced724021b178fa0c3630ca17",
            "1f3fcf02303a417f8f421c2a937c8d34",
            "f3ac524785904e4b8a5be6f8768ff696",
            "2dfd6eb46df84e8d9ce9bfb26fe2bde0",
            "88c684af358d42d49e87454e5d1ad752",
            "d8b35730ec224539a4e25fbe4c19d33f",
            "826f41a3fb5d4cab9bba82595ca6ab81",
            "d1f66960247c46239a9926eddcd6eace",
            "b3152fcc7dc8435ba73226a2deb8c20f",
            "517f766587564e02b4e89462c820790b",
            "04b5a0ed95e242fa92136f026837b8f4",
            "fe886d454e434da1a837f4fe31817d6f",
            "3220aa3d94e74ee1beb3b2b10e528a3f",
            "0b8eefa02ef949d09dcddad76cd20cf1",
            "37ff53cb3a804d22a8728bba95cd6788",
            "d01bf706e0284e77a8fe6beed2741146",
            "df4af5ac5cd44b9db52cb45ee58dd6e6",
            "a06853bee0e04202a3e77a5526906e8c",
            "1bfdb51cdb19403d9f75318889d17ee6",
            "fb754f3cc407420e8520d63fabdf588d",
            "7d57f6a3b0e34c8487335639f0188566",
            "6e2665f1b07841039ad22b86a080ad79",
            "3b2ac0e86e5a4e35be684c136cb8b9be",
            "9646347d71b543a5bd4a2823b3ad455b",
            "0fc751ede8ed4639905eef67448cfd47",
            "74bef6035f6c4a62a689f64777817e02",
            "85aa4182a47f45bb81650a6273fdccb6",
            "fb773ba3b282483ab3023cf3bd284b92",
            "80631fa3839b4d49b1eab78c2e3df38d",
            "1d2dbaa2e742464281cbaf90c47ed9af",
            "220b1a5ce0e94d3f9af196c9b6b6932c",
            "054a9a844c44461bb35ed0244097cfd6",
            "3fad88b0f1da4c1a88f5555e80840f1f",
            "902ca124f6294ca597bc174f7fb5fcf1",
            "92d2c3e1ef874b078360de5bb0a40899",
            "581a395eb07845f0a0e94bbcabee6fa1",
            "9bcc387dbcc1496bb13e23bfc31ad3d5",
            "5b0a4fef5cdd4940bd7a01bde84b18d8",
            "6a8b99509789468d84f5fa36b9328a34",
            "c595d2d061144b5b8369c80ce5ab455d",
            "978b7328b0ca456d9f9d43c372cff846",
            "513ca6e42ca54964916f2656f96a67d8",
            "0d70a6253c4c4c098a593c59fa41b77a",
            "53d351630a2c4da5b903179973e5cb08",
            "b77f5322c4b540448a55364b874280ec",
            "1b7da7a6c74e4f51bfcf09ae840ba9b1",
            "8b682cc90d6e47c8b1aab18f1ec109c0",
            "32c106f084e147a8bc71f69d36fbec70",
            "6383a3c3951b451cbcf13564b6154977",
            "407d3e20e1fe4564bfb636ff7682278d",
            "e3adf6eba39a4640bb2a5039e8885930",
            "9517cac24d6b44f3ab8e13f8fdc29a0c",
            "f666955f29784cf0a19bbcc352a7476e",
            "ee5d1e0502ff42cf8d2659dc432d4aa6",
            "b0f1b6265048442c90219d7668f27c52",
            "f6644bf5ca894a6e808926e1b361cefa",
            "9b5763875b5649daac3ac9785ffdffb5",
            "6f8d00b6de01435cb238bc45302729b1",
            "e28faa9d3d284f799041102590b1645d",
            "420fb88bf70e467d8a9293d8aa93227e",
            "4f82f95248e7482299c9cf7563a53a76",
            "b955a7c685274ac4b7470ec994235df7",
            "fde03c7fa51847ba9c94949f66aabb3e",
            "f76ca989f28c45eb9266c6cefc19f06e",
            "1e21360bfe954cd58b2d408403e2d0c7",
            "5638c412fd204e66beecd827d217b059",
            "3dbc7de641234239a8e91d023ba0c92e",
            "38c0d0d434284cd988ce5568c3b22357",
            "8433f61cabda4769a2f70b6e54fe0e3c",
            "4981f4a13239477090df44ac49465f09",
            "517e2cee87454dc994ea378480a5d983",
            "0da9803404084dac9cb93db3682d3f14",
            "e086d35eb0d34dce88885c3b0b723207",
            "bf21d42340fd4873b8fffa00ad3a7394",
            "4e9ab0097a05426faeaa76524b78e4c6",
            "4b49c8f518c04dc78c26a016567a239c",
            "5b5456e2c04d467d962cb40bcb731c3f",
            "16f3fb76a7954007be9eaf08a0dd65bc",
            "9f2ab4170d4c402980148cd3ef45f3db",
            "c2fd77dda0a24a2ba0392730135b22df",
            "3a74335888c848aaad92d948ad8e9d69",
            "be0d499e415643a4a7fab235790187e1",
            "0d6769246d494b4f9a55c7fe89d78319",
            "f210f5437b804961a9f650b9851d1958",
            "3857774d517d4a0db4f25b97497e9e5d",
            "e6aeae1d50f144f6b4e4666c747bd073",
            "20d629ef333b4ea7893c1a0f18d16c8b",
            "27b9e11d4d1a4c239754bdb067f6a51c",
            "d3a72a9693ac457b8f6897b2f70e502e",
            "f476915933574f2094ac9b465deeb717",
            "05e7870a28384325b91dcb50724dc472",
            "ef960e4dd4b2494aac346fdbde3d6945",
            "cd39390529964a65869f567fc140c7fa",
            "b2745816f50b4007b29235c612f0ae5c",
            "4a5db265f39b41e4807e5ed5544c950b",
            "c028057816b34a7dba3bc7d93ed2d50b",
            "a7f4a5b550154b22b21839d6286443e2",
            "345eaa4dbb99466abb3f4ccd06413fd2",
            "f1e04e99935c43149e10174f6e156f54",
            "16c053aecf044d51acb0576bd4620043",
            "2187af38a8344dd3af8418498c335ad2",
            "e91a6eab5bf844c38c21e643416d9aea",
            "30c10acc3b69480fb32c41f1bb266e9b",
            "bcafb5125ac54d47808edd39da79bb2a",
            "cef93c6f4dce4e6f805f0a3784806f74",
            "31f4dfc28ebe4c7baf7c837cf733e027",
            "a4d25950324448caa4218075ef71b14e",
            "4b602aeba3cf4e9ea3fe737010ab189a",
            "ed5d548292e54caf898dc1ef118c3e3b",
            "5d1b1cf9bbdf40e298c7d1a2918d0bc8",
            "7e8203b7c07b4847ac4e7a2c8b1d859d",
            "68855fa2e99d4ef290cba8ea6c5977c4",
            "adfbdb5ee2d94892af6578f81f3ea9d8",
            "f4e877af93a741fe93b00aa60c89ef60",
            "082b494934f74f568ec33ba5f6ebe8d7",
            "b2de52cc6738484fa7fa14260d020c76",
            "16879498c16e4c20be4327a0767644c3",
            "0e4c507786f4430f994f4401463a317c",
            "9d3add1fade54086af57e1d7c5f3aeb0",
            "f6e6ca89511c4bb1be4835abbf010bdd",
            "e5e7be4a6b4e4b74979aff5709a31fed",
            "3467141c992a4e94a9c97065e5a8a210",
            "86e7363f8c2744699d33c410ef38dd61",
            "f65ab8e4bfc24a5db35cf6c304089496",
            "60a3dbca377a4e06846f2bdb9d9cc880",
            "786d4d961cd34a08af1bcab30719b28e",
            "4cfda8b68fc247be8377192f740ebe5e",
            "6b2bb6003e24489582c4609b4f79c0a7",
            "262cbec8e0b948c4afdb92ccecf78de8",
            "a32b761a28c44c1183bcd2c49f9bd19b",
            "326f8c7804564a11b29ac0313fa6408f",
            "c1bc8d55f05f4717ab77dbdac5776d6f",
            "8be64c2f10e1496a98acb746dc8edbc4",
            "d49ff445e4f24179a0042f9ae76cde4a",
            "9e21220c36fb4a499c48796d71fabe89",
            "a34fa6e37fda4c0db36d282f49195dae",
            "586acadbdaa64b57af87fd0810807571",
            "114500ecda5c496abc65d459f95e83d0",
            "97f7ceaa99dc42bba7c5ca190613bcd5",
            "92343d888b584d97a5fbe86e66e1ecd4",
            "d583ef5d8f5b42f1abea0110290c6000",
            "c42776e652eb41d2a8471305180a5426",
            "7a55586176974236906d0264aa83e8ce",
            "0006f3eda8b24f2385c4bd1ccd58e1e2",
            "8914ce362623462ba7bba648494355d1",
            "33f023b783dc4aaca5e4fe8316e69bf9",
            "ad2d3d0718024102bc641ed2b911bed8",
            "e1cc3c8d6fd643d0849f81c2a124a040",
            "06b165bb53ac43a59f43f44166567fe3",
            "c04df559383144e5b8bad9eec07a7271",
            "9afc57cb029141c0852e144fda7d7f99",
            "3663aee1e9ff45fb8649807135f1a4aa",
            "6fb9f83ca27f4b70a66fa45c74c9817c",
            "b8375abb82fd4229b3eeb4317f916605",
            "1b6f1e6dae4d4254a4c865e9f656a177",
            "d6c12231aaf7401ca3fb1eb8ca2c5c05",
            "dd4b3ea99fce4e3e8e677346cd9eaf61",
            "674991e8688d477b98e33d47e14eb8a7",
            "5b3ad5b790474a839b7996309726c04f",
            "8f86de64c5cf41a4a2bbf028e624b157",
            "16740debb90e452592301dbe3c901369",
            "3da3d0b2b2df4efb808f26ff74a1e49d",
            "365ff5eee9df4d2999f25698241f4422",
            "e0b19b9e93f440228ab13328b5e86e53",
            "5c58fb1ec8a749928dad182cdc2828ac",
            "820ed79b5fa34fb5b240f8b65e5805d3",
            "d8a5e57c4eab4d0cb3323c22ef3b3928",
            "e4e5e2bfcded4c818d8de98446e472ce",
            "93fad9f284fe4e4389f77e8ab2700823",
            "c170aa39fbbf4b3d807226407d74f6c8",
            "fe7215c166d94376bbc8a9b68fcfb10d",
            "6165be13fc6b4c11896b076dfa6e87f8",
            "04f1281cb1374bd7876af4a7a1777e0a",
            "de33d403532b4c1eba6cbf8906299424",
            "86abcfce22234f0a906e997b4fd20445",
            "bdd29cb1a6f745dca45bf0f4ea2a9db7",
            "0ddf39da14e940d8aff01475a7ec56d6",
            "237c4c9971d7406bbce6ee502bd8473b",
            "5bf5ea6a89d94824b4286091372d65cb",
            "fe33c2b4df9745a79c1d30f7e72e418d",
            "c60725bcd4734c2d8bad83def014fc90",
            "cb62b0c5bce540708f2a89a9bb4f35cf",
            "9031a615f25d4f13821f025839dbdbfa",
            "65de82ec06f942f4a2210610d7e4c84c",
            "36075b8dbf7147d49a3ff0654271c4d0",
            "e65a9469b754410dab0fcff58f691b53",
            "af6bc0bf7bab442e9d3bd946488f2783",
            "7dd9f6553e784fd2ace8fd0c976df2d4",
            "ebf92ce8c17a40cba93967e64701f8d7",
            "bd00935aaf8342c790066b26b0110e09",
            "eb7c0015263247b890423e44f5b9a10e",
            "db6502808ddc4a5a86c2df15dbacbf80",
            "626cd2cd3d314740a3e61a8ff9d1e719",
            "ce37f52f548a40f4bafa88423e5345a5",
            "b49d1fa6fa89412fb989fa766c7fde3c",
            "ef483fb1bed7420488f9e947d7101b89",
            "9fa38ce1d47d4030b7d1fa050d6d8a93",
            "113c42a765d442c4beb836e8d9342edf",
            "55ecdb4e4ee0448c955cda32e1ccb198",
            "c59c0a810d71417bb30151c7d66a2d2c",
            "bfadf26e217c4e468ee0ebe9bfb110c8",
            "413d2bf1bc84464094687ad532ab997e",
            "6718f668f72b4628a4c9af4c663c806c",
            "badbc9bdc19745c489c109ffec7c5c46",
            "7ec43588e1214af3ac8129f9982d6cf1",
            "2fbcfe5ae1e94a88b652fe62656f5974",
            "6f5abe0397aa4656a85b31963c713fae",
            "ea5d8aa21c7c45e3abfc9a2f600e396f",
            "5ffd1154413f4e0f9c343c5a6150d4ce",
            "ffdf58207d214be68ff6fc7a8279f43a",
            "928e1a7557144897ab6f11e6595f2ff8",
            "3f029ffcb06046f1b2d5dbaf473b96f0",
            "c8cd153b78b34c3fafcf38531b819705",
            "8bbfa2e3d88e4ae2a30f7823f923227c",
            "37e13825653e4b87ae81886ffb7cea51",
            "fb41dd0838d6455da32e0c031a290d23",
            "756fc247553d403a9370b436aeca5b0a",
            "87b971b310b64c86b5bc1120392701c4",
            "9b9af6148e7d4a15adfb86bec31e9029",
            "5051036e16d94d86b04bb0760238feed",
            "a1d92905849948f09f8e8cd3c1562413",
            "1e62f5e8344b41248b5344574e257abd",
            "f735b2ee83264a73b6837fa4c0284437",
            "a121384ff7034bbb87230ee094aac088",
            "b65b6f4df908465fa3ef43ff720ad4db",
            "366415b62d934357bca72cec524019ed",
            "a7744c69157f4214a5f8be35e7e2df54",
            "bd0d97b6905d46e7b5b312d9ea36eb98",
            "25f2cda2c00244fa8075feed67cdcbbf",
            "590a2eb2a38c41749b6cbc2dc67f8446",
            "12679d8fa44344b6ba2f0750785f6478",
            "be24b49dd38547b982a5db370600bee5",
            "eac3772682fe4af0b8d48e4add7092c9",
            "bbcd5fb20e984c66bd05629d8e099bf3",
            "f809386ef1a841a19abcae9b158afd5a",
            "2e2c6cbbeb7f4a5f99e10344fe6a5f49",
            "8883b759697848a9b3f982a56d704a54",
            "93b538c41199495ca601723a6265de37",
            "06360ede67da4bdc8f1a1457c768ff7a",
            "bac70eb03a9748a1a30fc451e4df078b",
            "e93d62336cd44409b9ff916715069b53",
            "2e7b3f0d575245ea9f45f2b6158fc494",
            "22f4a126c8854f8f92c8e53680e0231c",
            "47eabc61cd1842168871eadb5bbfac8f",
            "b6806ff39a6544758376f32f9fd38ccf",
            "89aafe5120bd4d9890a0240f0a1e8b67",
            "8c80df5819c4425badbaec9e186fb80d",
            "b8aba0fd051e47ec931e641c168fd82e",
            "4c50aa67f57041e38a6085bc51e5a80a",
            "3aa8d2fc2b974866933613094510767d",
            "888edd36a4354560ae77aacd118bb279",
            "c528b859fece4ad198ac71e50737211b",
            "cb665250d7764fd88a584cac70e53277",
            "b7e37a5502b7474abb923d90b5d3dacf",
            "28b665b045de4bd0b293e5f3604388d2",
            "88613573255f4bf5a15666c5472a71d9",
            "c83ea337b5a14dcd94f9902bc84dbaa4",
            "e809c5158b304a5a8e32042baa47d2ed",
            "2301cc9710644d7788789d71dcd72830",
            "b7bd951341da4b94a1e3deaab6e20e6a",
            "1db1a9a4e06e469ebb1cf08f645a1cc1",
            "9c0a16ae6e35432e92b0649e1b063680",
            "b5559be71b3f4a3c8374874fbd98cfa0",
            "ae2fd01e8e4d49cba96f9df2c59b45a6",
            "766d089b3e5048c0a70daa2f3a6490a1",
            "6511d357ee794cf6b04dd0664fd118ce",
            "0ac7c723fdb142799957d8ed902c2c91",
            "cd58992d47f9410eb6bcbca8824fb7aa",
            "b8421ff646fd46b787c97ec171e773f5",
            "a3660d1dd15d40329ae90159236fb11f",
            "35782552e7da4c0d98c7d2aa14ec299a",
            "8e7b6e0a25ce41c692b5c06820b3530c",
            "159e5902f71d4ae096aaccc185ede1a5",
            "145fb7693cc942079f8bd09f8f67f180",
            "78b8d0fe709d471c8a109ddd6e84f25a",
            "fba7e5dd010e4939a2ba4bb6a8ab1fa2",
            "5a3a70f5e555453e86a02d43f0f95036",
            "353195e19ff24bc89f7aaa5d18230eb7",
            "97455b4f40bc469ea5f403a4cc41e95b",
            "148cf5538bee400a998bfd6c313960c4",
            "17705c81b8c44467be649f96042eaed3",
            "7bf0a1de4ae64d5c9bf093a69c6e06ac",
            "81117e68e785430b8c57d2b72f184eae",
            "2e0ac679519748dda3b9ea267501b756",
            "331d98f37865449981d48b098d97af86",
            "8bc5f46bf09141848b10ff93dcd25114",
            "c0513cb7938d4da680329c9c6e5c83d2",
            "ec559031c2c84c5f9421295f66de0045",
            "f9731570124f42b9acadc8bc86cc19d6",
            "77d7fdfab48548b49e029f6b53de737b",
            "746b434ffac0495ca4f52e714566cf6b",
            "babb25a13b904524921aea456317a459",
            "9b2e8ad968874491b804c6284e28aa3b",
            "da6914ae01c84c6ca64211f723cab062",
            "9ba4a930112741aeab8a9428f73cacee",
            "4622d7e853fe4e40aefbdd2c972bc389",
            "08d40aa0006a4e18bbc7d9e85fb0e347",
            "193cd2ecc08a429baf3e9f35629fc0b8",
            "dece5d259abb4fa68b93434c76adfeb5",
            "eedc9eb82708440283c10f35a314db8d",
            "a93c8471c4b94cb880be8a08e988307b",
            "9bb4b3a8509b4bd2b523083687270c47",
            "7bacc241b51047d6a30efb36039475e9",
            "3a5c9f66de3549b39bd01de6900fe65d",
            "5059a4d25d9e490aa0ce15ee32d8d31c",
            "768b7d0ce0c24c5d818135a1d67f6d5e",
            "29f7ec41d1f441c395de3274c5b6a554",
            "b86b6e98614c44568da9bb3b9814d49d",
            "b93120850e184876b41fbdbb5ee9de10",
            "f800273f49c7426fb0bf286825e98c8c",
            "c9a1a80a92fb4043a630a62878e2c01d",
            "8874d000fe434f5a9fb236ceea231d50",
            "00c579f5d7ed4691a4f5c98a18d64ebc",
            "4fb1666d8bca429c88026f9e17d62a78",
            "eb50492cb8844f93a0892ddfb36d7788",
            "be4c2d0b237a41328bd8f86fdc1d3faa",
            "ff599a5a9a2b4301a6e0f80a5ee16911",
            "7d8746eb6edc4b8892c9072375872f37",
            "506c6e151e924f85b8731f8d152b8265",
            "532f75f865184cc0bc6848c989f377dc",
            "81d48d79921b4a8895b07eb64c230d8d",
            "88087589ed3f4678bedb2c5c6b8590fb",
            "0232702aa0174937b8745befe5f8df3c",
            "28084adf3ff64c8bafb4f091fbbb50c1",
            "0d0f81320f1a407088dae3fc734d9ccc",
            "3cf38832c3564b468763b674ad7daf72",
            "98c2c71c620b4351b8f0f45de9303d2f",
            "622055d7161b41bdbd55d70f0f58232f",
            "1b2d6526376d46c4baf959f573546d76",
            "02ee4a63e60c46fd8f522eebeb079c6b",
            "bf6cc38228c4430aa1df492fccb6fc38",
            "8b78166fee204000be351d49e5e83c01",
            "90869fec21fd46aebdb872d5239a0d7a",
            "d70e9a27bed045fda35f436d6bf6e210",
            "64519936f8d54bd38a2d07b97e83f3bf",
            "dbdfb31f817646ea9ba2be2b199fe292",
            "f7cc8ff9c7ad4dc189429a6a012b27ee",
            "bdd556e017824d62b7091eaf7fea9fab",
            "d44ce89e444c4c949ed6e1481678eebd",
            "4e719c3863784af0a8814edba8ee892c",
            "c9d92f5b1447454e8e43d1f0f0fe7de4",
            "944f5cf1629840dbbb6157c3ff6540e6",
            "9b58847ce92d40d5b1fa642b7f31edc9",
            "03d89673edff4272b7034098f27d4247",
            "7dac52b084514f87aead5c98021d67ae",
            "133b1cc864c34583b6515dc0a6ce36bb",
            "d739fb097c354b1a9cef81c03062486c",
            "83d5890aa4574be0b335051d10ffeb50",
            "a131efa527fa4dd9b980ea302cbbf61f",
            "ec425cef6e274c06bc280a6e27c22cb4",
            "9b898337d2224926846f7979ddc7506e",
            "59ab6a98343242b58d1fe6ebbb11b52e",
            "c36192104e6446cf99856d7f4a08eca6",
            "4dbe11ae30214721b586bf6a598112c9",
            "18482d568df3446eb62f73d48a75e7ab",
            "9295663fe703447a8b0a27b559bafc91",
            "7785f3f9284047f3a2f5b1b1943ae833",
            "429fa84d8feb417e82bc374b7efc654d",
            "18f08e043efc48bc82436c53fd7f01eb",
            "0ba1be69b25f4cd48f360fc751b2ba68",
            "8d7b46c2fba046edbd6109a77a79b187",
            "5baf29b7e7b34f89ace15fc9de48a727",
            "1c3b6fadb79f4554b15a4799b7f96e37",
            "fcb0f9d037174e54b5ba01c6dfcfc38c",
            "5cef6e63d4ce4461aabf7d6701705bd6",
            "fd28fb83b9cd474399f3fcfcc6fc3c80",
            "79f8ed4560bb4389abae1f198e636d12",
            "9550bccc14b7411a82eddb5b1efa2839",
            "e50bafa848224eef83c8d8257cffb55a",
            "9071aa16ea8b4d9dbed45a63eef669a0",
            "58669cf14b87414a82dd67bc004869ad",
            "e3bee585c01a4bb4951e19bbfc6883a4",
            "51fe46a481534ce395f7b0bb94206fc1",
            "34f96f8a08f0469babf2117630291c84",
            "5c0559f560734db690d72af31d64414c",
            "199c53fd62094795b9d8e9bae257bd6b",
            "ed8df9d1149f45ba90a171e4d2692e49",
            "53c1cd84ff0040c4aa6daec5f2867f62",
            "620a908fcf464c85923c434769446d33",
            "f279f932c9294103a17515e9a1704191",
            "75c4d6e7b76943dfb76c60973f4dae42",
            "109e1f0c98134860b2030aa8aa537bb7",
            "dd3cc8568fc848d4844a59c8bac55b25",
            "0dad138d3d6c4b98b6021c3ed3a73d25",
            "bf6d02e76ea144bea0b174ce26e81769",
            "4198f2276a6442618dadbfa81bc5356f",
            "d9876825e06c4e36ac7219800a037d3b",
            "e14424ea3c584f3f8854e04a41a05b04",
            "c40cc0433cc6412582863467bb37dd4d",
            "2e69f9c3c1014bbdbb58625670166c98",
            "674dc84b176149b19fa86069c2b31a2a",
            "3619176846ad4d2782d630b6722e9b59",
            "bb35ac2ca2ae45aea3f2c87e23e37c74",
            "d63f33a0c40f495784efa1b8ea3fae12",
            "dd9199eb1a2645af9139f15843903d40",
            "8d855948ed114967bce821c7a75eb7ac",
            "848d5032514c4471a16e5611c160c61d",
            "d23f36414ed4498495f884ce6a26dd7a",
            "9861586cbc1e401ebfc499c0420779d6",
            "b26a029c103848dda6ee9fd895dcb062",
            "60d0895a1da641f1a15575e9258174fe",
            "3c784f8b2c524e2d9a2a3e91d5cda409",
            "d6edce6b259848e087529689f169f37e",
            "259838f7e8f64e5ba656d9f0fffc8ecf",
            "39ab8672e8484823b242887d7bdb77a8",
            "85613873e3ee444a9f873fd633ab6acd",
            "4e2b0a0fb19e4efb88b76e6458d11c49",
            "1114e4647fcc4c5c8b2601e093e4e58c",
            "9a863ab995b94645a8edda900dab194b",
            "fe2283dcc607484da4512decf7fddd9f",
            "3dbeded0c0ce4f1b916b665d929e65df",
            "dcfeade4025c47daa79abb7e6c3762e8",
            "569496c3cea343788d5f3ff951ed837f",
            "12d85e93a10f4f2b83b52579d849c053",
            "e103e8bea7f54b6eb06b3338443ea996",
            "37a9eee0a4bb4b869bb90395d89d8ed3",
            "9117206df5434886bf2bbeb1248ec4c2",
            "d01ad7647f284835bad80cc16636d0ae",
            "356134d5c267435c91ed6c286f8ee616",
            "f41d8e9475e448a7a72624227666c00f",
            "a14c9d6e58754afe87cde71230e28b6b",
            "d1168b9bceb343dbb5d995550b81b55e",
            "616f831ca11442d19aa1decf87d052da",
            "03e01937804b4cbf820363f59c39abbe",
            "e77f982e67f2479295db9931faa443bf",
            "bf68ffee4adc441983505764c77ead28",
            "8a620c2203fc45139498d94010c479e3",
            "1f136979f8fa473fba849997dacd64f7",
            "9749d656467f4a15b007fb938c3e4532",
            "aeb47fe6533d4398add40fb38abfed7f",
            "8009c12fbd26421e84b4c25261bda2dc",
            "c7db0c9f20d943a3be6422fb21205ca0",
            "403eff3af5974858904ef39f263cd458",
            "91d1ec9083a04a2a9e78d4ecd1f376a9",
            "37f8e15130b2450fa60ed7733b3bee29",
            "1098f153ff5946acbfe49af10c90a1e9",
            "10a3da5b3ce447ce9eba861afd048ac0",
            "a972ea99e99744eda5c67544103684c4",
            "c4ce5b3bebaf454185838a3f9fe463f0",
            "284ca6f5070744b18ee03fdcb26e2222",
            "f8908c310ffd491c8c3e724d7bd3a970",
            "37142f77fff34ddf85ebe55c16f11b79",
            "c38031772b0e4554a85893ffb2858f66",
            "28b74c499443440184d3eb30ffc03739",
            "5a8618eb7afb4fc88eea4d03c225e9be",
            "7c2e6efae7ca444cbf299355564e6a9c",
            "d721dd7a2923493b846d28ebce64f157",
            "cbfd1b0323034d7e96dd9e773c10fd2f",
            "e05ebe89f9a74fdca7ea4e8e2b207575",
            "16726a0ac3314c49ac89c9578f3d3e8a",
            "d164b947d1c441cbbd6dde172aa6595b",
            "9fb668c72bd44dcf8532df6af2d4f603",
            "f28e8ce7cc0a482db0008afd3c9d11d8",
            "fef6ef2eba4b4f3696bfdbdabb1830f8",
            "89e245a9563940cabe53b7aa34fb95f5",
            "c0a9196d14464ba881eb6ed77cc5df07",
            "7a99c58fdbb74193a801cd8f5e95f0d0",
            "8813c69f0ed549afb6a69a1ba26254aa",
            "40f14e04e16445229c27423aa0272b59",
            "b81fe3bcaf184a9e96a5a4501333586a",
            "fdb73210ef204cde9e9f73caad1f8972",
            "88987621ade44fb99dc2909c240e14e7",
            "65956853bb6f4b1b98746b420418ede8",
            "5d29293c27c3484a95f40b7d41d134fb",
            "5dcdc6f1fcbb4c8d845327cdf3cfad64",
            "3d92dc1042324c55bcb6a4f92d04c22a",
            "b1b75fa538a546ac976cebf6692bce15",
            "0df3646334de4ad19c0058e315a3d861",
            "ffecd5b6cc064ffbb303a23a49c3fca2",
            "bfe9def9e1aa460598ae36ed84541129",
            "36e25e3140864af19859cd89d3602add",
            "22c6d8cc82894956ae8db5818e6e5095",
            "fc278285165d4a608dd2118985d8b77e",
            "45aa0496855b4f75962ffaae26f40674",
            "269ce450f5ea439d90d0081ef5fa73a8",
            "860c55abbcd44b54a095aa5d2b8386db",
            "3844f22ea15d42e3bfabea7a210b7b65",
            "0d1d8321664c48349d63f26cddef3551",
            "d86af2c78b814038bfd3d755137758dc",
            "046d9a3011054486878fba6f1be025be",
            "a5511cb48aec4110838a065470255dcf",
            "9782226008204f0c815ed2d6c1edb03a",
            "42da7a04bcee4e3c92454b103aa19858",
            "4f631d4703874e6580ad21823c79aa52",
            "58d1027e01714fc6863e90c838962a07",
            "03a27a305e6d4489aecfac4b3c6ae333",
            "c3085721a3dd437fb4639ffb089f49c1",
            "f6ed9b9a217d41598f9e97e568f6fdc5",
            "3d28b430347144e4af93d8b38fe87abc",
            "ebf9dcbf6deb4e89a8b94bef24653d21",
            "a3bac8b0b7b645cd8aa5e38c1bc65d6b",
            "07d24edc13a044fabba0662ac9cbf9f8",
            "2e2e15ac2d374e818d7cfc2d2693a10c",
            "68e03427877245999db2e52a97fb372b",
            "7953350477074a4eae2acc496ef7b7ab",
            "f75ad3d5ec384745909547cc9dcb8dbd",
            "7bb589af291044b69764beab274e4262",
            "bfabba9426aa4a098088d9417436af61",
            "6415eb1c8c0d48ec958874dfe8f7e42d",
            "ac3476090a2f4812ba60ea4935bd7aa9",
            "07426fb9234346e28abd8f3cac6dad58",
            "cfc33732744c4f7d98f3e1c26541139d",
            "4fb330a52dfe441eabd8f6c7b9d4cdec",
            "6f90964d8c2848c6a932214f2dc4be62",
            "c193a56762904f3a916c438916834c03",
            "96b3e37065b14fa4979cf34842c16145",
            "4621ff45a4194d6d90bfd746e2da7fc7",
            "3aad9673a67e4058993e81ad4493a818",
            "410f14ca9647498f978aeff8a76e4cfd",
            "bcd9969a38754ce2b363bf581586f7f4",
            "7724eb38e39d4584a36a95a2ada12d26",
            "595764a2cb154893a6665600ad9c370b",
            "15da78c22f224b49823d3ca33e864e71",
            "d09cdb9fa63c471d9cb73a5836fc9e90",
            "3eaf26434b8f44c0954adb8a10db0e90",
            "13d54b6a28344a7ca1448ef48006f0a2",
            "c28933d9846d44b6aadc01749ecd5d40",
            "33efc312785d4d8e893a7480870e7a0e",
            "bc5164c9427444ada631747f9b89d152",
            "d29aeaadf34d41cc82e37bf8d59409b7",
            "93b93de2cf254247be5bfc55ed96c653",
            "a21954b194a04694ad22ffe38e677171",
            "39d62ea36011480b9110f43d316f042e",
            "14c1279c0e7846ba97a4749f91b543dd",
            "9eb93779f8024b729d6b1cf4e21a71e8",
            "9a9a6093b4754ab48954e9b23ae07fad",
            "8850e1a34db04d16a2cd192ce25c701c",
            "0f7bc1ebc46a44eb955c681203673b2c",
            "adf1b059c8764678b311b1d96aab53f0",
            "5cf3eb02e94846709cf50e01e56e66c2",
            "5e42b65fe610409986cad36ff79fdc07",
            "2a8063c75a544fc7aa50a4b5d4aeaa03",
            "52b33021537f44e5b25498a635faa1b6",
            "4ce3f015f5994a3eabb44dcba1d13cfe",
            "9f2f014b6afc4093b9ac390984ae6e68",
            "ce239659d48e4b69bb807f1555e40bab",
            "4378fb7606624db3a61674e065b743bb",
            "c4fe183bbc654801a7ca2d197a0cb636",
            "c2d9c2f408184e2a890d9ced1b5b7ff7",
            "3381c474ee6240559647d65973c66cbc",
            "ae86de08b5ee494caa544c6b4d4f8ace",
            "d88d6a3391644ce381eb8e7a4ac261ba",
            "27a1baf005eb4aa5aec9a8a9b8a9334e",
            "70b439f68b724627b7605749bf7bda61",
            "c3989b548c804f36b54495adae677765",
            "94ae0113aa4e4698811ee35062d56fd1",
            "5fd8c2fcd77f43319390e3e98aa86451",
            "6a836c58156446ccb5e95d0408aab85f",
            "dad0a635b1d5454bb99c35ec85e98963",
            "5c16930feffb4da3aa87f3f3bda9840e",
            "e5313b9d85374df3b6e837e9aab8fb1c",
            "dc8050c8265347e393e2ab4ee977bd51",
            "b757fdf83ced41519bad2bb1c342b400",
            "9f26beedc5934590a0c1288af243989c",
            "84b5d8f78c124d238ce0d153891bf559",
            "1e0c3a8e73a94bce9ed9ec7a4a8ace0a",
            "25e4d53a10ca448a84a40c653dcfece9",
            "378a7cba54d64ea6b6d6ef50a76852c4",
            "a79b5d69ea304506994da639c66a018a",
            "d8dc6eeb4f3b40eb8cc51f4f4347c0f3",
            "5688e782c0284be9bcd76917c6af87a6",
            "72a967689c554160acd03084cca61990",
            "d2b7d86c37174947b25c010ac5331019",
            "27130da1c02b4612ae285f6734061ba5",
            "b955d8871e1f4da187b6a6807f1c8836",
            "aa8d1d456db54c9da62ef5e7cc1ee639",
            "4dfe4e7d95af4a97b2653c9a8a0dca9b",
            "b226eee08ce04b30a76748d2484bf3dc",
            "d47b70e950eb474387b914f7ff111c59",
            "2b83c6c3b81e4cd5a9fe775c1d27c51b",
            "08feb558be1648e7af5cba7507b35b20",
            "7b8019fce68a44349db0f2e7419bd3b1",
            "a23eb4015b8c4f2e81e4cf109cd12766",
            "f9e9d0a905e44bdcb2d13474c8c0a3ea",
            "99fe4501a97642f9aaf85552150bcfe8",
            "8a632d7352094641aef5cb8e8bfa08b4",
            "cb7fe8daf372440b9a1b7ea7946abfa4",
            "2793d4b227774b12866449b84f2bdf58",
            "2f89c3a7a23e450081f278443a3588c1",
            "199d2041071245448d0cb78337d95b7c",
            "ece49eedcb8f44eaa14743be1f9a9084",
            "bee0ec846f7545ac946d9f9cc7141350",
            "b1a84301444e4ef08ecae0b2671aab8f",
            "e4c0bc85b37b4c2294d03d6bc2365dc1",
            "901bcefe229f4726a2554c06911c64b2",
            "08a35b323d2a4fbf8a254c54e2b09a10",
            "9d7cd3d8f63e471dbacf614b06786285",
            "daf9382fc3da4f0ab0d4cd687f8a1d71",
            "e89cd31b9c3249479bbf6f76809b5deb",
            "ca481d59fd6542e092f91ecac55872b0",
            "86d50fa236a140a6ab21a55a51f38bd3",
            "b6196dfa45eb4ec2862a1a1ed0130f78",
            "61adb55db04a4352bf8711c6d0cc5f1a",
            "4c18547829ee44369d61b91d246e0617",
            "c8eadf842cbe4666b24dbe4d25a17624",
            "265be70d6ae74c938bc9ca4a5230f62a",
            "593ea42e0a4041a799a637e87aa51699",
            "d634dbff652b43128c8e457e288683b6",
            "08aea45fd5d0400eb4f4ee4395746b65",
            "ace465763c274e5881e2c04a993ad74c",
            "98169559cb724d95b48de6776b084b04",
            "616602c13aba4a3db4949946bab50569",
            "506aac68aec447dda1e2fcb60b692e8d",
            "da7b3f1aaba94a05b28da47ac669444e",
            "da9db6e4f36a4af18a1cc3cbc6ed0962",
            "6d4d61f5cd6a4f93a297a5f3b0d709b3",
            "f092f0dd981d4b74aba3191009ab84f7",
            "dce6c7c2cbd94b21b95ad76574642398",
            "f12c66b48c8c4c3fab2647cd90ad0173",
            "118a9b25e073459498c4b3f491829cbd",
            "5b3a3735185c44a08f05298b51d2ed0c",
            "766fa350fa894ebd9849641c3e548b35",
            "8b09b1f94cf04997aaa1c89910718ef6",
            "b6c4c3e2e11e4b2dbf1129ab46f014c4",
            "9c280eacd2f44635afbb508539bfbc3c",
            "543ac3e282fb4737bb21f6f6e06f4312",
            "472a3d28846746c8840fb0afaad3fa29",
            "5e56708e0d974be9b8d29f31a89b74b6",
            "225a3c372b1b44389d91807cd9d1f31b",
            "39b03bb4d12443e4bb3c315b77119d0f",
            "33b71e3c3d7742f2be68917381ac8537",
            "70e855934301415b958dfe6afbe2b100",
            "f7726de5f88d4ee1bc9a71cdf4a79c55",
            "068a0a24b2e64173a16c6629f8e0e41e",
            "f1362b00e6c54bce85ea381b41ee7b95",
            "85e60024a26844efa5a6a75ff719a6a1",
            "24388795a52f4ae892f60028349217a8",
            "1d8e19d7614f46529fe3173474222e00",
            "b5956f56e9614e13a89ec6dd71424b24",
            "d590451c1e3b42e5a29f9b9988f21ae3",
            "de70e8377bad450886d4cb06924a5317",
            "92c0e02c0c7e4b3787994312266d7509",
            "2e11bfed45414aabb860efb2a4591173",
            "8a031098dbd04357a2354c8bd331f874",
            "da6a14bb8d8447c29209994b91f756ee",
            "21126fab157149a28794a049afaad647",
            "52feaffa1e5d43e9a3c4705696cd3dc0",
            "f6f3e8be433e470a8c9f19a926abe738",
            "e8e9b766229e403ebcdd68dae78b73ae",
            "48883f9ac4464140ae142fe3027634dd",
            "c3bc6063e796467fa264cd7f14e55386",
            "55af5b86c25b4c0a924091ed2fc95bb0",
            "bc3ce883a94f4ab2811ca0de6c1b9f84",
            "98d775dae40e469cae0441a4b94bd122",
            "6f5fd4ec2a474860bb3267cc4bbde7e7",
            "d7b87fbc06b34e1f86ab416ae3e1b456",
            "a1362e0605c9490a9c07b562f95a8a71",
            "2dc8f4c88904467b85576f0b99bf2a1b",
            "e8025953beea48818791cc8a070c7cd3",
            "86d09d5074b14f7cbc605c5bc309243c",
            "58c8d0a33dba4cd8b5860c3999914e33",
            "7f027741c9af40c198f1ce0aae08f2ef",
            "0822f817cfc14327a39971a68abf4a60",
            "b9802fa17a8c4eefb92340df6370ca00",
            "c4ee388734de4c18b09725fa3fbf1128",
            "d7440555278848d1a9b1c9efb2d28c21",
            "2de27e34e6fd47c9b4c73c04d429813d",
            "3076be504c174190b05b02d45acff24d",
            "ab137ce702d54cb6a3fa866319b8de15",
            "8abc1025b6224a3ca040d5a8346e53b2",
            "a72ce3c4ccc7478c97fcb303b8b053fe",
            "5b79f737a6c943dab1b58553301f69a2",
            "8ba695ecddb04521a56c4eb3c19d473f",
            "049f9b04d09946d5bd98e1fa98ec7505",
            "d68b5207178e4785a0b14130b6e5d293",
            "4dd85e319f074e7d972faf209452bd4d",
            "81b95010309d45fd980d10e3500f43a8",
            "aedfbaee2dd4454bae8ab7cdcea5103c",
            "b2e9af2b47d446be9dbec017af1aa612",
            "f0f2eda6217d440bb3d791a09b5b1be1",
            "b93d7a27f9b44713b48b00bbc234fbf2",
            "c9a8f4a668274770a9de260bd8b69815",
            "39615c76a73847908d692753f64e9ed9",
            "0ecec41d9a7a4918b5d68d65025509a3",
            "02f93401605e40b88e315a0ac9919c90",
            "9c25ee56273b471ca5b85eb9853a4502",
            "52342c14d9b1433895bf06d29c3c794c",
            "194a085b22f64960b027a3e4a00df646",
            "5b7a24bc02db4b2b801b59470dc8b65f",
            "cb67b0b835c943bbab8c8171d45cee3a",
            "ebc1c6619eaa4e45bfb5d8fae0d16535",
            "1c9bf703bf1b4f12817acd03e34d6d09",
            "66c87acf072c4f638d654cfc4cf9cc1c",
            "1b189bf7f41f49a3952d81ae46b1bce2",
            "db53e1b41c1d4a6e9acebd577727a2e4",
            "60f92826cca84c5f8d955d8168691e55",
            "5ec8bf07f1e1433c9441cacce0aa1db1",
            "7e58f7a82f054e99852a47613b5dd921",
            "0d812c63e4e342a9a11182ca8c926993",
            "205be609cff6451ab92f01d2ef8c1249",
            "8b790310a58b408ea88cb26f9db7c3cc",
            "5e60ae9fd5e34656923d8015f9534ae8",
            "1d2daafde71b4bf5805d9e1a30fed308",
            "17635e60dc994973868162d0ac1971f3",
            "26dc923cfb8049c2a1ba7c19c0a9e183",
            "85a44ed995114f8883df773ae18f3995",
            "668ba2f04c5140fab116c1f4687f556a",
            "1b4c2907886f4eed9b83924a3a83d34e",
            "3631da796c6840798016aa55bc329a1b",
            "c51ba0263c85471298389272623d3c90",
            "5a80c87fe8ae462e9abb01b9643d6cb8",
            "3e333d2f5d7c45f8b6e68ebe7ce4d3a0",
            "9b5b9ced755f498dbafdc907d8db9eed",
            "bf434f31b039456ca9dd9e75e1fb7a01",
            "3a8cc592dffd4a3bbdca25fb92c6124a",
            "f3487d1f60fc4738aa40011aff0b0310",
            "abaeaeaa807e4f5a9680cbdf81d93bc6",
            "7bebab89eefc4f5b8d98905c2718aa12",
            "4607703e44724eea9e1a9a701d20bc26",
            "502fd110a1144b158dc284e6539284c0",
            "3a18a3791f574fa7ba955ee0cd1653ca",
            "88a818e25a354253b2a17331d02e135f",
            "097e99197599448c8a171909997bb870",
            "85a60cd48d8f44f3a4badb7fb16a18af",
            "5d1a996a555a4861be493b176254a54e",
            "3c5f48a23fdc4f14b91f390251ff3677",
            "3d52ae0b60504498aa60875af93774f6",
            "4df150441b3d4971a950ed3cef10f093",
            "a8b784b613f64a3f91f8c788ab24edc1",
            "001000149c124b679619214237d00d76",
            "423c07891c694ba498300e3cd9afcb21",
            "1f425bf91d89477eaf50894e9ba84161",
            "a5409177b80b4d94ba493b413284d16f",
            "ca8f28448ffb48c88ed46f852e093da7",
            "12f50f72d7054ab3997ee7e58e60b7f7",
            "e1abf6315392400c91c00adb5c0272df",
            "51c818f18e87486d895dd610cf657935",
            "efbfd778646c418b900a7ae0fcab8d34",
            "2e9713b5d5f140c98f847558baeeee09",
            "b930bdfa864246dea96aa4ed534eef56",
            "6accd44366f34235911d14656f14f699",
            "81c5b3c0761f4eaca2aeb18a697ccee0",
            "ac57f2f60ad9456683789405e114e044",
            "cf8453353a4d48e9adf97b3b7cd47e0c",
            "4c3c4be9a28f47fb89d1434919d37a5d",
            "e267d0526bef40bc95121f94cb462418",
            "461a5f27826c4b42a60cd73e4565e6db",
            "c765dbc3f6314ca089b16e35dffa1e56",
            "9ddbb816772e49d591981f63832fe4ea",
            "7e124acb80e04c9a840d9c29ed931435",
            "34d91539106d4e54874e1cdc7e7a5a4c",
            "4a7e9f94816d4bb9b104328cbf7daba8",
            "b074ce5e42c840529d2f86abb40e3638",
            "12d33679ca7041b6be051b452abc459e",
            "d03cd5c9e70846d3b309817f25b2bebd",
            "8d8581a92945499299661028de22e752",
            "39e91409f9c8419ab71a778f494e87a9",
            "ead1557e49f1402dbf87c682e39a3abc",
            "7cd8bad672844f39b579cf31b39340e1",
            "90d5ff4102d64a148a35cd80a0632f56",
            "4f6b1eaeed38488aa4086aa5654b16b6",
            "8ae982d701524212819502e55f69bea0",
            "4665580303b74305b6506716fd32dba6",
            "1856d60b314b419cbf875faa5721fe51",
            "6d117a1e16d34f53ba3ef18f404b05d9",
            "9d136b0e636f464cb952e5cc8896bf87",
            "162ce81af47f4d60b1503075e51650b9",
            "dcef5e9e6f7e4bbea17b1718c26dd240",
            "5da0ff6f56c0442c9fa138e3f7219d53",
            "9f907d1317f34c4d9cf3fc4ea596abbe",
            "a8a7b7e26890451abd48c7ddd8571228",
            "8df1b13f00ca4adaae343852afde81a2",
            "4b05b436cb7a4060acd1f0d90a01faa5",
            "29fa07952adb4159a6e3cf1ad2790c6d",
            "0a858ad8133d433d8109d85252a3de27",
            "4c2ae511ae9542759a39b0adcbd0938d",
            "d8dd5ba0d03a4aedbc3eef9ae97eae67",
            "9b50fdb565364a73b83b93d65c833688",
            "6db16e31d4904c719a36aeb25d03c1af",
            "927f84608bd6454b921d0d37657fa381",
            "f510858a4f784cd5b636ced3b80ef00c",
            "bddef717076d4c80a2867d3ebeef23af",
            "4fb952a300a74dcebdc5d3732dce13bb",
            "a59187ef2e064b0d9266dcc00e3aa3a4",
            "c83ae88d828b48079ce1fea4d4f820ef",
            "85318265482c47529e2c3b79428851fc",
            "39b1f527ab474ab3910d7a5f49859910",
            "e3bac915807f4ac3aeb5450e5b594601",
            "dfca6a6704fe4dc4a29cdf5677579e4c",
            "aac3272ecff24a33bad1b10a3431e04e",
            "0d9fa44663f14ae4b265443a2a12afab",
            "270318e22b454b38b27de593c1234f90",
            "bea5e36340e5455d8ac11a48142e83c3",
            "f90258e513b348829d72edb9926e0146",
            "4ece9b55c4fd4ac7b14d78ca492e6ed0",
            "49bbdcf6aa3d4d4384f444bfc9830095",
            "ac963f59c80a408caf3303deeeaf17a7",
            "2db5283ca69d4d29bf603ddc1f4c6ee3",
            "e7c8b974a1094b4d8003ca70d5e8f9c0",
            "1a1542001e8b4c31a052c81d5fd0e5e9",
            "61623d25f914458eb2adb433f6f216a5",
            "77c7f0761e7442459a192e71a02b3abe",
            "27975fe565dc4f689a2635b6cebe9e6f",
            "0306a7ea8ab9476488e10f6132bc450e",
            "991e7f2711934e9c804ef6f20e35f770",
            "0c59c99582dd46b085f60e1a31d51aea",
            "5046380b07cb4464bce76c51ca44e51e",
            "af9f2931ff3b4699aad5cd3aa35040d8",
            "4411d69ab4bb4bbfb0865920a426c0cb",
            "2ed5ba89f3f14a49a877da40723715f5",
            "795a890db2774f5281af6869b70cc33d",
            "08c350b394a74d53aa9b1991b52969f8",
            "94679f8f7f214836a1a281a959547c5e",
            "5d254d7450304d24a976055de832f528",
            "b5d5bb0643c342a0a31011617786ed78",
            "a1b389598116412cb92a84def0dae821",
            "cb5dce5636b44d6e9ec4fc7d0f0acdf1",
            "9c7659fbad6845c793c631cf48fe015a",
            "79e532197cb34c068ae2c3abef05588a",
            "a656061dce5845b3b1bdf893f904c29c",
            "dfb7dbe05434432dbda995ac160afb60",
            "bfbc4c40415e46108bd394f8be1018d9",
            "0f4206d5f54f4bf2a5249190fc11da91",
            "f3925cd337b140599c24f4c9b3e59010",
            "0659a3369a2c48f787d7bd7433182cb8",
            "c7a33c59beca42e28fdc23b7ee77ef92",
            "6274cb6af3fc4cb0994e8ee349235625",
            "07a2161456514061ad91cd4d92dfc5bc",
            "717c6cd207384da1b2ff17d352efa128",
            "d28f15b631484be3a1648bf51a32e4c1",
            "2bd3d978e62147b8a5a8222bce576656",
            "8e59837bc7c94aa38b2eb50f534afae8",
            "00b4fc07a8be4a4c896c9c1e5a344fbb",
            "5a646c10e49e4eae903cc45ad80c6952",
            "9bc502ece1dc4ca48b7b5fc7d1824621",
            "1cea8cdce8b7459eb551dd34f8440cde",
            "da46d1b93eaa47b5bd082787e98a82c3",
            "4619fc2b5a074c2384c497073132c6d4",
            "f9edafd85a94410daaf1e3e6ff37cfb3",
            "87bd54d31ba04d60813c7090129d8e31",
            "53cac061fe6a45ec83799e513d7ae5fb",
            "b211d21bbdf34d5fa1936b1d72468641",
            "8ec8fba68baa497fb607cb981ebcab6f",
            "748f8e3afb3a42268283371024793fae",
            "9e5b4384dacd459687a40be825eb466e",
            "296089e2b589454d86dd7afa577afb35",
            "d78709840bb94f8997fb5b7e5cdae963",
            "4ebdc4633d2e48cc8b502133bda36f65",
            "e2f534e919db461da18326317634fb12",
            "d9d6569a28664c1b94595eed3f9549bf",
            "a62df34074be44a89a929ecc47331bb1",
            "10de872e37f0474199073924c1d1a0f4",
            "0bb2b474c475426a97c9f1f49e2fcb63",
            "81b70c46b86d4c9cb55e219b77a8962e",
            "73c1a04188d24d7388fc5d9acd4c4326",
            "a66a9d11988749518383c8abcdb8d864",
            "cb55bbd030914433b57ccd77c0ad23d8",
            "b69a7a652fb140a4a38a1524b080f629",
            "3df7a34dfdf84256b1613445cfb1f5ca",
            "ead72f291cec4e26b3b4f8e35c7c36a7",
            "3a816def44244c69a57eac0515d7da0e",
            "9ad63a1ce3f24460aa68790c9fe238af",
            "46344209cdb54bf4967e9631a6fe107e",
            "ad09974258994dc0b5603d087e71f8a4",
            "9a5f8e7c18e147848058fc998f45e03e",
            "e10b657723064c5db69b80d439994d17",
            "b4f005526c2f4be6b6a28743526a74c4",
            "bfef9a3d6152405aa7c4af5fe40356f9",
            "d16f585bf44f492fbf312c133bc9c3d0",
            "9683b8482ebe45358662233fdf1469cc",
            "a1b651cfbfeb4cb89fc2414370f1a346",
            "a7f59258f9714e6e8b3665724d6a78f9",
            "059ba1731fd747628c3f07049755f849",
            "fc48e6dd8ba4457b97401bf217f397ef",
            "43b903290a2643ecaa473bd193470d43",
            "8af95b7452f543c2bd15c35db72914f3",
            "08e69fd384ff49648502f520597ad25b",
            "c6081448150d4aa7a3a188747b33e1cb",
            "c0fe167098b9494a8eb7bed216e58a11",
            "6a2e7cc29ba145719ad7e2ebbbd0f004",
            "e067e13edf28408d8696a0834186dbd6",
            "8725a20118c54a359e62432e460de0f5",
            "6576d7fead174607b60e69f4b0b150bd",
            "97bb0e9afa454a69b8379121aed80ee3",
            "01c985f57efa4f4c9a31e325712f77ae",
            "092f55b2524a4bf1ad69e35f46962840",
            "a6f83e711b814f21ae934df5c4912aac",
            "7d3273fa25d14ab7a48c82325569e1ef",
            "132256c97dbe4693982b3b2a33fbd299",
            "aed7de9cfdfb47f28cc028318f000210",
            "9ef9206d561a42bca368f689dd01c55f",
            "4e10a0e7990b42c399bb56cf66c3ce0a",
            "9973d220360141eb91faf9ea85eb8d2c",
            "fdd3f40cecec412cb82924936a5c6e93",
            "72c187a6a92f4b7a9104a8ea2b39d61c",
            "d93cc0ddbb954e6d800b5d3c34acba4b",
            "0d92c1a55f6b4923a747dfbc2921dab4",
            "1fc0ddbe289942af9f15e1ff21238ec4",
            "610a22bbe3d7407a817b510b1970d874",
            "7435ed35f188422387b3c7d22b98284c",
            "6ac8c1b8520940de933f0666c1968610",
            "a8f625ab6c414907bd7e98d603f8eb47",
            "1be4328e9b0e41ad99e69a7dc99527a1",
            "2c423afef7ce4a77b6d6349d5f65d9d6",
            "6524415915304ff49814ec65c9c0e43a",
            "9c34ec3d3f8d453c9486047a9d5b0209",
            "a34123dd1c114261993643a357ce7703",
            "5920fac7e67d44679802391d09723b83",
            "d09770f24fd94ac1b2a81e6a976b4a8d",
            "c794dc0a3c874ac186e847dbfeea94fe",
            "25b414d26f9642c89207cd62210f98be",
            "996ca0cfb8f7462198fb48ffa1f0c641",
            "6401e6ce39b54844958074902733928e",
            "c66f5a4daae64b5b82ea95821a465f20",
            "d32352b0f0d448e0a1bfd8ce05476eaf",
            "d947939aba224655aac4ab4adf547f16",
            "6a9e4a1e9528425aacefd488323bfc96",
            "6f7064c0e9934981b9a1144ce12b20c5",
            "fc68e285e52945c4bd4e66dd16159cab",
            "93a07a9629984e0882657ad2f5f12944",
            "dbf2f935b8394c04869ea68140c45d26",
            "7e1b420857b2409a9e0acaed0a014f8e",
            "1f2913539b2743dcbc4a09ac6ce409e4",
            "2e2812a09c104305a6966cc836fb6ff8",
            "425aa4f4c76543a89d41ee37b6e2224d",
            "b1f43e532980479eaf54e0a9c3b3dbf3",
            "8343c217c9ab4d4d9699fb4cd1c42663",
            "3d1bc80359f447f7994172256c16c0b2",
            "739950a34bec4905bdf4db9b2cb6df3b",
            "e395e100f931461dbec1b180df072f68",
            "2e197e926f5b47c6ba158896576cffe2",
            "c0e2276f935948b28fdbbe9b439b7b94",
            "4554c75445e04e0190d4ce56c8074acb",
            "1e820908fc314902987f74b6e18ab732",
            "2086529db4fc43c589f11313a2d11a8c",
            "5ccca65b10154a078c897b69e2c51182",
            "a4e1a28a27594803a897c8dd91c94d37",
            "711ab41aee8b4064ab7f0082fbcbb046",
            "5d6a6800ef294958bee6a7c91cfd7f74",
            "e110589b9d364dbb9d0b514d906e9b76",
            "de5b1041bdd54767a5329220f6829e08",
            "92724f3cc2ff45e9b31712164f08f4c7",
            "b9884087c0d743e793bb1814aa44030a",
            "7301fe56ddb84160b51aa3fe1c4bce17",
            "e315fbd0d8a04d68a66bdbebb853f10c",
            "56f0546d12ac47b49e57056da3bc35f4",
            "e099875fb9094c438bdd393ccb5c8a16",
            "e4b7749c22984b799103bc5276da5820",
            "1eaa409add8c480da3f70eb726398f53",
            "d2ff308c64dc4ebdb3886d1055e7469d",
            "8d9f12b6ed2042eea11c975967023b78",
            "74a5fa32b1aa438689fab3f1e2f718cc",
            "a11a718d02d6427693101b9e29febdf7",
            "6bde42102aed4eb292f454bb5b6e0c02",
            "3c1ab61c25a94f27ace898d42ba04af6",
            "848521bdb0864dc2bc7d4852cea4b966",
            "ffcc1c09fa434e72bce1fdbafad58115",
            "eb5fbac16d3549198572e54615e94f86",
            "f2d6bdfd5ea14c0ea6e67baba438143a",
            "c16c782e861e47f8a3a0490ffc2b200d",
            "c4f50f33322d42929afff66509659373",
            "0495146d52954b7fa998d4661b4ee8db",
            "419a1b55402541ee86b1e48f268e2f25",
            "9bf9185b77a74ea69c694853357eec15",
            "53b243c4965c40a98287bed0b8f56fc3",
            "d7e180655c3d4740998bbe60b52e2534",
            "68ee3e39af384627982ccdb55863f7d4",
            "0de3962cd8c044bba2880ad77018d6b4",
            "d3a968271feb42afb45a4f2480cea062",
            "a5c38bc6f6004eabb167f2e2056f9b70",
            "c961d2a20dd2466b9d2d260a97033020",
            "3b92b5a5dd8a4ce9aee35e845fb39a91",
            "e41ccf74c7e642eb9cd46afb65f40cc8",
            "c90366619020487588e08e7f81767de9",
            "c7065d9a639544d98b65634d5260924f",
            "b09f6723143946a295f30ae28a2bcbda",
            "b987b3577b18447ab72b2d0cd7c6d3c3",
            "fa9053ccb5f343a6b0ccad867d815284",
            "c88478fe0d034a9d876372a413e8eeaf",
            "d9c4fe22c82343afbd557fc201132e91",
            "a32ac92943f64b2aadc4c2c54766cd55",
            "3145c780cfa941c99c268eaa0a6ba45f",
            "735fea10f26e4a13902931b2179f6e16",
            "127788c34d9c46ed89c4cf18c2b5836d",
            "73c13fa02966422eac449ee396807f98",
            "c07c1cd5c7cf4bb2b5ab255b8f41afe6",
            "83e467992b624b62bbb0c1f0021be963",
            "c3d575a8f669486dbef27ac9c154e32a",
            "0ea5bed4da034958a328b34a645d4924",
            "b197da06d65244689d1cbb7fa6ab1018",
            "2326a300c0614baf9a0faa5893ecf8fc",
            "31ce9a078a374b0ba319c7bf0b80870b",
            "16d035e0e7de4891a849846edcce2242",
            "aba79b0dc16846c7a1baf25b61546334",
            "a82d88c4ee5c467d9f4fa98c40aa1d0b",
            "70517753fa904059b517556e5decf50a",
            "a66359ddb23940cda1eb67f2e518a64d",
            "8f983585b79646c6943c70886fc40857",
            "08c0aefb9b6b4df4bbf46a6eac392eb7",
            "7cd34977339146888d577c4e63e82e4e",
            "90e0b170eb164c0982102c5c124f2da2",
            "1573a396e3da4114b1b8b3e7596c8dc0",
            "69b26cc8183f423593620236e3f09db8",
            "fc5c7f2d586b4db7af4516cbceb0c0fa",
            "75d263477ae34553abf4ad08faeabdba",
            "444cd29e9d1f4578afa94cdf5c51dd6b",
            "d1986395787c4ec1a51c2ec5568f5c0b",
            "58d55bc78cf44e6b974800b152e2e6c6",
            "d4554585a1904116ab6ae0b6875ddc92",
            "8049c6baf01f461e96263618276dfa9d",
            "aef4941a501e46bfaab0f02633ce17c4",
            "66de26f2b4ef4696a4d5b031add6c7d7",
            "b1a60f23911642b4b36ca8b216e72e30",
            "96c99e10cd2b469fb5a649daf0ab296f",
            "98335d3a3fbb4c9dbeeea64206f1faff",
            "05f790de96724fd6b97a7b6c5f846863",
            "ff52f7d9c9024eec9e0e257de5aa6dd3",
            "09b06baf198a40dd8e5656cfaf134cc0",
            "45a5b087922741cda037e6b339696377",
            "de46bbf2b8bf49a3ac01a600549b9b0e",
            "62e919210ea14b48b420feda8536819c",
            "fb3bef1317724313b5642bc853636b10",
            "5946a05fbdc04f32a0e5aff1eccfeecc",
            "d8cbc5dc98c8480eaa55ccb4ed5656f2",
            "1181708c756744a592858b69298ff8f7",
            "b8b0623dc1a64e3da8194e38bc935644",
            "47568d71024d4924b7cc355b37703b60",
            "b5ce448cd8784753bc389d9e54150e78",
            "c7b02514966343f29d1f04b4fafe43d3",
            "bb88f8b436c7463589551a655ea02143",
            "87b381e951e14e5389fc2b780d48567d",
            "b1b0dafb4fc44aa3b74053f1d8655ef2",
            "af14c2ea50c84782988188f20e1e1f12",
            "a66a329562ec4f00aa2f09fb8828e04d",
            "fbb90f83cec44be496624dea974c7089",
            "7b244395303a41818b9938908998aef5",
            "036a46b99db545ae8ba9ca720e1341d3",
            "d641131454f54a6b92561a8ad40995c1",
            "70484e0f0ffe4f5eb51caaa4d1704324",
            "c8698b4e0e114109a9b320a0ffe5b9ff",
            "8c861c8d72434278ac5caae3e45de548",
            "101c7a19df574148aee72a7c7bb3e6ae",
            "c1ddc36cd16640fd8b41eb5a9d0be8ae",
            "0c912862861049eaa30f5058fcb54ffc",
            "815e67cb14944abd8e5e05b741e07ef1",
            "2cc214cb310a46e4b954e5199b61465b",
            "6b14991661804bb7ba3b5faf781cf18f",
            "281d8ea61b014424aef90bb6f597fafd",
            "54853d2df2614072b7c8ff3924c792db",
            "c506d22faa6d49338b8fa5ce1de05c4d",
            "6fce5fff1f3544c68c24ec92fb04c6df",
            "ddc7a240cc0643a8b2fc6a1ca8742ad3",
            "44c68503b00f4f62bed4b64d86c5668a",
            "c6279d333057472395cd0afa23712cf1",
            "11e4974f7c694fe5ad4f73987080594a",
            "0ffef676d4a84a5693eb9209b7eb6998",
            "d8154a09f5bb46cd910ccf35814717c1",
            "dd32e23eeacd40ba829ebb2db0f800cb",
            "1d2ab3be9b2141438469c0bc8ad4492d",
            "5849c8f22c8944aea8043c59eb6a9c28",
            "dadd4cac04d9420aa7abf75e72cce0bf",
            "44ca4c0c32d444f98d08e2502e734d54",
            "62d82929683b4af7995def9b3d456e43",
            "82be1b0031674f449177f1a57bdedfdb",
            "423574841e7a49fda474579a6fe17b85",
            "715192bcb00c4ce99a1d73299487b47f",
            "e83b3cbb02b0461fb3c1eee5bb17df99",
            "d315adfb2e1f4bfb926b5ed73d114c7e",
            "271a77e48d414ab9aab59bffc02b7bc9",
            "2706583932f847e5a5e30ce84db28bc7",
            "3e8554f66c78469ab21b62e83e9f446c",
            "d7411d7f475b4e7dbb5e5f60e6fed823",
            "874043f252d447a4898d67289e1333eb",
            "fe79b2966bc94565847004598102b9dc",
            "a4f1910462c0427ab142b857a8d3cd0a",
            "2115dbd3b42d44288b3dc4e25cd60930",
            "fdefff3594af4c88bade51509bd9be27",
            "f19ecc1691084fc998cac9447781a63f",
            "7ad750b239554c4182b770e42c95d555",
            "416fd4e170d7429aba13a03d66027d81",
            "5320f3d6edeb4830875a9f5f5031631f",
            "acc29a7d21924667a71b54b5d9e0ddfa",
            "e10c5943cb6f46329b97166a85b1d402",
            "d0db08b82a1d47daa5b73e5a03a695b0",
            "964ec0ff59fe49d1aed4a357b36f8d7f",
            "f1ec822d481f41c58d23faf85c22ad2b",
            "0ec0dd4f188c42d9a6f5c1b1c8ebc2d1",
            "0ac79022e3ad4c3b9d8a24797fd2b513",
            "125e8ddb2fb44548916dc6f18d88bfc1",
            "708016de54674221b69c78c60cbc9ad2",
            "6d2495dfbe764ce091a7d5ff4e7393dc",
            "d6dca942233c4223ac11117b9294b275",
            "8bc872ac983c49499e751de02f44faf8",
            "cc2f0515227247ebb0c6974f3b5046ca",
            "04e00116e06a4365b83765f23889c3c2",
            "8367fed9346949c99e9aad9a73205087",
            "3d6685ce674e471ba8c15511044085bf",
            "fbc9460351d9465991c2fd0ed4cc462c",
            "7e0e673331454cba94c1b9b90a00c158",
            "a013958d0b0b4f2c94b24bc46cd57aad",
            "2a4396b0253b42a3a4f3606afe726ecc",
            "b675bc7864b747ffb7ad58636cd0019c",
            "3576975f1d284e3ab83df25dd23e7d50",
            "9c65217a79374576817a252250404260",
            "8fbe1a9e83ed4f8fb29f9b78e931fe30",
            "ff2065eade0c45258490f2c91a6b0076",
            "4f27caedf4054031a1a6a1be0c7948f5",
            "683be455ad3c4f3ca4b71d4549faf6db",
            "64b70601d5764ebdaefe7813ba271ed8",
            "291267c5659b47cbb706f0954d8d623a",
            "a76e680861744e8ea19418e314630987",
            "c6e09c9f419b4e21bc4731c267a8c083",
            "66c16049a0b841a38b1de34893209557",
            "ee97c2afd5844c458b8695c9944cd50a",
            "10e05acc65cf4f7a9b2a4b8961e5d305",
            "9fd99d1f21424613a6b1e6f8281ed824",
            "c795da1d0a4742118e4ae3837e33db0c",
            "3533bf6095f049c98c4951b52626d7ba",
            "0f9ed16e4573465b98b66b15071da378",
            "c967846dcb97402081f5d4cb6026f68a",
            "8174960209f04a97b98cf3b316926446",
            "79d5e604ca054d06a133e34cd0e5964c",
            "1a9e5d3d039349e8a68751c4f5fa7095",
            "fef8d1fd19ff4f76888ad51ad65b6782",
            "e99134fb021a4c2e9e3b48a1786f4a84",
            "39b2963f39084adea87478cb4ce161bc",
            "b92845721f06451881c6cf2d708af757",
            "81dec63a87cb42728db83ec7c874883e",
            "7354b2d25e5443cea020b47097cfd3db",
            "28aab89143ac48d7900df68dbce5c5e6",
            "5375893264de418d9265d1eff09923b5",
            "f7b8a413e0804385939a42a779fe371d",
            "efaaa508fe7c4881ad29a628d3590590",
            "2be8c0e26a024febb3352ec057ef7e8d",
            "b3ac20acae41413bbaaefebd72b2d50d",
            "797defdcb2214bdd8cd848fb369b558c",
            "66b3a4dc2a244d0aa7a4455d975e6c6c",
            "fe376e40766c434a914a796d4789af4b",
            "0b9a106ddbd3404a8216d292f1f66b21",
            "cdf1a120351d4037aca9bd0df502856b",
            "41dd45476a8742c2bee061eaa35874ce",
            "1f18512cbb44457d8e1c9f95cf44cf62",
            "253887ab315049768e169dfea964df9d",
            "5c98c802a3f44e49928a8e72015a4401",
            "27f76634dc5b49d5a4defafa6a131522",
            "6053a7d4aa9546f68e28544970fd4df3",
            "4efe64759e3e4e62b6773207a69037a0",
            "b5c247df41f64ce0bb65be51d6edcce3",
            "7ad07e1b80af4cf8a09a2e03546a51a0",
            "27540dabdef0476085ae16e1194eadc8",
            "f9c14ad61d8b4019b678ad9d2c40290b",
            "9204574029244563b805ffcd6074a8b0",
            "eaa7182543ab4fc38962d5d1bce1b5ec",
            "17e41cae5deb4f5591ddf85536385e22",
            "18aed616c18e465190eba9578d1bfbe3",
            "c4d7da0354774dd6a3d55151aba0a6b7",
            "aa599d9e076e4e5ca8322d5e6d8f3e6b",
            "bec9ad407f2847da8da1917c0cb099c0",
            "6af0d851287144949062de23e8e9483d",
            "0a37c7528e3a4c98a5b972580127b4e4",
            "3934491d52b7453c9dcf4c3858625988",
            "87edcab9a49e4f559f2905b3710cdcf0",
            "1530d8b2b0104e729ae0456ae9a10321",
            "169cc5fad1ae413fa88c06ea28ac7466",
            "b49e397ea0584ab9b3d1814899857ccd",
            "c25401a1cdc2468dba6241b54d78dd98",
            "5ab64db3797748e5a446a434885585dc",
            "8c3dbdabfab1424ea8aab0904dfc1cf6",
            "d0ab57bae98a490ebce8a629eeb114bd",
            "960f24d11d0f4a1ab9f162fa3807967f",
            "37fabd72f6714a659ba094648ba62389",
            "7f29e97e918940a792cdac4bb8e7dd7e",
            "b75786ea70004b1a85289a4d10f4729a",
            "d8ae0690c92443f1a45594f34b3891ac",
            "1540a62cabba4dc4a3928ff3affcf1e5",
            "70d93778616141ad884b7acf73072f54",
            "8ff2c3cf4d6c41439beac622e2909786",
            "7eaa6edeac6846668ca700e9a06100d5",
            "7fccfbc8eac74a98bf94ef407ceb7287",
            "4abebb6466114697a12597be08b8843a",
            "12f049835375463088ea24a2f2afa38d",
            "d2e10d45676240e1b1fd5829d293fa40",
            "c37d78b1cf2a41988e6d18d52f077e71",
            "f641fccbd46a47408628161f9b00c32d",
            "47960a97111540b28f20dac5b776f3a4",
            "a1304f96b4924173bf1704d83fcb1440",
            "eb84c02b4b554e149a524191b4347994",
            "bc9dc692f96d4d5e9c6f8567e314ee39",
            "fccb809dddb542da8eb0e733be723eda",
            "1a3581f137124734a9f9484f00140fc4",
            "a4e539b8368a45c49320fa9438b93ce1",
            "a4dcb2a86d9146b18cfb6af554a158d9",
            "81d598fc0ba6422385b7682de073b73c",
            "fe16546c587c43848689511657e85db7",
            "8082c5af33ab45ac89a96e6b288ea6ff",
            "ad721a0d083841b9b3a2a7e55dc5fdfa",
            "d0d943fd4dee4cc6bc2757c9cee17bc8",
            "110d33005df640c28cee51cf40b9da03",
            "812b2acd8a92460b9de7713f2d4053e2",
            "ef93423894594347b8e520f2a5e57d55",
            "f723f17cc7b447e2898701d36f17f335",
            "dd3bf353e4504474b5117cd9ad79d776",
            "e44710226da74846ac19aac2e95e864b",
            "8bbb2ddb5f03473b8deb541ae1e5fd19",
            "7262aead364145198d7e78316d25e800",
            "02e5b4f9df134f1eb78e1183c90f88b0",
            "4178f949e6944fd785a0af76350d7c54",
            "5cc75288d1e947ce92c453f1b3c54f90",
            "e23387c3b424465e9dc77a97ffebc89f",
            "6d6c0237669b45f89cb4687101f45096",
            "a91d930ab9c3476fabd136b0f2363332",
            "dc3b0de45c1f4146b4f7c791d00dd0c8",
            "6e235dc8c6624466a476b57f82c8de95",
            "4e0c753592ad40bb99432ba9e3834553",
            "50b5e757c5164906aa1a9af9ef126aec",
            "b01b6dc3abf64a52b88d66439c7ea98e",
            "838e4e642b814f48aee339091d635479",
            "c89f92cdd6ed42d7a0d60a747615cd92",
            "440fa47e0680403997f2e55e5816ce20",
            "c4015f14c4d54a48b74f48982bbb241f",
            "e9a32fd8bac346938a55fc19c77ef4f7",
            "642924e038344101a31397079bd2d206",
            "e765dae2e8ef45ccb5f34815607d0b66",
            "147d655d62ee43b9b2e37cd808a70900",
            "88b7b60280474ebaaa4d1aac4ef56deb",
            "38c93f2f46f549758bb60c2a988122c5",
            "6c9a17995f374e9c992f2f22c7bb6e4f",
            "9d0224a9907946f49b392d1fe6bea09c",
            "9cbcd5fcf9f84ba09ea45e659ea74cae",
            "3ba0d2d3cf8d4e9cbd4ba8b7f4d5eadb",
            "efb47d437ea54376acfe2fbe49679a2b",
            "b1874ae24d864943b0536014673ed346",
            "0b9b167a69ba4dc4b9658956dbfe423f",
            "8bd3db79751f40f099f187e5a70a4e66",
            "d7822469c99a46c2b55ea4653a690254",
            "48ab15d6b8184dddbc1c8c22cd2aca81",
            "f25757243a474192a6b2180c6437b123",
            "0e07e9f74d1049ab846db0142b5fdb12",
            "7f0c19eff9d44a44b956c3c0c332ced8",
            "31b0f0f262f34e268f32d05c29d3b07b",
            "63948c6ca7754abe943cd57ef3c101d6",
            "6f48a32c69fb4fcc8552351a1638a34d",
            "b2be4e6ca9c84486bca3fb36196c5052",
            "f4696d73c27b4ab8b7a36fd87b4add2d",
            "31379c5512924e15be179e34978cc421",
            "b1356cf43b044db4a2838f123e616f61",
            "2779eeed192449c48f5f622f549ea9f1",
            "03bc96767a384975b33ae58232ea288d",
            "56b85b745023464a80792605997bae56",
            "e77a80bf45d5438b90fe483df38a7484",
            "24e15ef172024849ac2c6f16a306fce8",
            "42be995ce28944e1aedce2ea668ccfe9",
            "a6c7988f39594cbe8577733666441263",
            "20da3864b4a14b55b4e0d30433a67865",
            "326956ce51384ec7809d370bbf2ed315",
            "a3dea1e31de24cf8a23e0d83e31862dd",
            "44ee22eadfc042c4b14eff92eb88438a",
            "a47aba732cd0418a8800ade1e7d30d72",
            "87706f6e98014b65a4b3bf5817e22c47",
            "a1ec87df9f11460188aaf7a1ec885c85",
            "a8744f6e969d4c6e97f8715095c5342e",
            "6b6a9536ba4e4d029c805a0917345902",
            "c70e71dacc584f1a8b79d68335f829d9",
            "c9eae010732b45e69fb28d36ffc974c1",
            "d597fdee5981452ea04a0673aaeafe3c",
            "3f03575267e54069bfef821596839f41",
            "5b3f3f64c98243b8ae51a126274206a2",
            "8a387871e3b041a08f03d3248572026e",
            "0a980d193aab4fc48431698efa6acf1c",
            "44b7dea81e7445bfb8ef2658f899023a",
            "9fee8ac7601f40928b465d3d9e2c2d77",
            "0c1500915521480f8f78ee1157ad03d2",
            "2cd4a5149a204f1090b3ec46cd8137c8",
            "9b086f7518764ff6a30394b117f196fa",
            "fba7c6f147bc493189b5310c8211e76a",
            "729ae8d9e68a46ad85b1cf8f11f81ce6",
            "a1fb36ec2601423f8d744ab70016bcd1",
            "c3206ac1dd8f49c58e0f78ea806664dd",
            "2a9fe1201e414f89b9c444824450d1da",
            "54bb71cd0c3c492b8bfaad1fcbeb179e",
            "ef684a4d95ec4dc889faa84e4487ee72",
            "3a88281fe1164c71b2014e1af1fd7961",
            "cee4038670e247d387af0169b4110a39",
            "a80aadc7986448deaed60158237bcbb6",
            "1466a6c877c74c5ba46f1c9853622b52",
            "e9db7bf436c046a7800b2baebbb2fe5d",
            "e472f7233c7f40099faf45c942e7a680",
            "3b17ea77eba747c3a333f465631ce616",
            "6107b76b77034fe2875b97bf712276ae",
            "4b50ec306d794a789184a15d081172d7",
            "df4cc5258e9f49faaaf7b4207d05d1d5",
            "6464166fc83249649b489cb1418e39df",
            "11c6889a9dda4c05872a41488053866b",
            "7a5e17cda2bb4e48bbddecd59b2d1581",
            "0283b9a9d3154676bff1678c32dcf548",
            "cd7ef0bff4234f7f9937d7c5b5fccd30",
            "31873616bcdf4f8585f672ce1eeda218",
            "198d0a6622d3425ebdce7845aca58ca3",
            "a5a064c60fda4cde91e86aa4cb0ace81",
            "65f3315d71d24f19b0a81566cdd99986",
            "b017fee46574406d8a24e1d0da94b4b5",
            "bef7e185706140be8f9a5291a68d40d6",
            "bdd5726ac8ed4cf797e4f754b4df6424",
            "5cbe312fbd964eb9b7f6ed007381b59a",
            "bcd4caa5dd6841adb1b69d593affa7c8",
            "eea72268bef84e6db2f9ac7ff6dc071a",
            "870991a809784c098a1e42cb21cdeec5",
            "09b747a12eb943faa60c91e83ac436fc",
            "8980b779eaf24a1f8357b66cf7a9aafa",
            "bd512fef476c41a7a58632654e39c2e2",
            "90372465f0ce4c30a315e05f87033255",
            "286df169cc50495086fd732157e5a015",
            "a4b624ee7e824ed7aebdf05a6f3950b2",
            "d307668535754d32bb7f45a20f7ef866",
            "8987b1f2afcb4a1992ab540b100b06b6",
            "3cb238b84c3843a0a1881446aaf3219c",
            "74393977340a4620bbff5f93ff9613ec",
            "5c5342533cfc41ec8abf6e5f2918d1f0",
            "abc0f54fe07b4e48816f0e45a0bc06a6",
            "8f36e23b5374443d924d2df588aa3d47",
            "4f9200b40d164ec4a691b35330378c52",
            "3b40c031f4ef4a4ab42a78e7ef7270c7",
            "9465d915dabd4302b9d512e2f8785c93",
            "b843d53008ce48e0bafe66f9fca77c67",
            "f70aa2ad5bd74765a4b83435c7b7ac06",
            "2b8fdaf837364815bbd6968d5ba57557",
            "0c1f957efec847e19c4b801abb942de9",
            "d3b2879515b64dcba0e56be87d419035",
            "873f0ab1139f4cbd957700bf766c2bf3",
            "57df970708394b70b6eb187f6753d0ec",
            "e0089af7e19d4b1390fa2b56edf3d22c",
            "0c0b4484dfa54d799d36e50afa86a9e3",
            "eab082a317214046a23b0118561de1e5",
            "089679e42afe4bc3aa9da050d5ef0164",
            "0fcd11c7621142c083c8b9acfba7090a",
            "d8f730ff4f36465ba37da655ec9ce08c",
            "9ff78aff2bcb48bbbcecc73060391cee",
            "ab090b2ba3624416a44288725b0edcc8",
            "d1d6d6b2356a4e68992f15c70319c8d2",
            "13d505bf792d4ba68a3ee3233f8b07f7",
            "cfcd9f68b7ac461db00088e6097538cd",
            "1d0f4765216c48d39f5a69f682b86b5f",
            "99d32ebd6a3f4578a213e94b7befece6",
            "da6393dc4d6941179a4e81253bc591c2",
            "1ee31f541740440baaf37bcf1019a460",
            "7e286eb8654b4f7380d089cec193fc21",
            "616e84ecaf7446dd96577ce5d4faa3a2",
            "a7c15cfdd2374a3c89a179a429a8e18b",
            "e777cae0a99147e8bffef952380e36bf",
            "3fe9cbb027664e55b4e8121ce315fab6",
            "e71cf7ada5f84507b8cc6b88470ea50f",
            "6f401626d821401ba7dbf993aabb7a32",
            "829c33c96dfa4d47898134dc67c97b7c",
            "5a9dafbbd46946eca8485d7e7482b102",
            "7ee94b20aa204c6eb9847311453f1c5a",
            "d511694e371e4f47b130e35b930a7d10",
            "64964c10cc264ea3a113818a6f9e27c9",
            "13099b0769ab4d0fa4b51b0191baf364",
            "71698cc3914b4a428e331014fa6e6224",
            "90ec211aef0249c190d55392aec6436f",
            "e9f3c7a1b0124c0885099c8a9997cf24",
            "b0475ba70b67488098b125cccf1574c3",
            "274985e471264270bfd540d3448a1c28",
            "dfcf00e2f4fd4bc99a15bcdcde8f534a",
            "16b3b95c09814826ab92a61628fe23c3",
            "b5ffadf52076465aa15a84c3176bc6c2",
            "63e74f0314af4831be28df5f8866be39",
            "cf8de3bb49734b0fba1ec5a58c78aa65",
            "438c42169a5a48ffabe74701731702de",
            "3cc0fbbed33449aa85f73ab0854bb536",
            "68d0e87502e94a4489f77ed844ce3422",
            "ce9f4e961823478fbb7db86c4b86b33d",
            "1619b805b411428c9ea3bf2a2af0f387",
            "669b9949b7204b72beccedc0ad6e0961",
            "d0a9bc68953143198a7c45c4d20ad55e",
            "3a66baada3964d1ea1c1cc3df0ea0732",
            "2a035ba9940743a8bc684201e13c4c92",
            "b18bef92c6894278a3e8eca3a45c3683",
            "05b240780d2f402aa2e4c146ed7955dd",
            "aafb3463564247ba993576159f071f82",
            "0991252517ef4fed8f5f5190a92c5555",
            "1737d5b729ad43328bc251b0804969de",
            "30a859d779fd4fd9952e7e4fa697377f",
            "ef9ab187d14444f3aac6a9fdb9a2fc03",
            "2df572c8b4f64165a095773a1b7c6882",
            "3bb9134282c4477a8d08fa8d64f1da94",
            "e6c14656eef84f8581dbcc921096da0e",
            "cc658fd6d72441a2a88468bdbcef8ca3",
            "a1eb02436748422d99509e7bb8b09312",
            "5620f5a47f2b458a853c20b6794dacdf",
            "a99ab84e989349f181c4008651a3c80a",
            "96f53c1af66047ed826ae3ff1bbf6ee2",
            "8fef9fc6c0b8420cb63aa6304713fd85",
            "56c29ae63493471fabd9bcd32679267b",
            "7878e1cefa4c4e3fa47bf716f4d7381d",
            "9142f32f92b340a7a1cfa3b3969943d1",
            "33ffcc66a4cc4881b5eafef0fc7a78cd",
            "d669f0171b23408d9f0194fa88bb01b9",
            "c73d93aca72b42edb54de03013c03f3e",
            "95d10f34aeb74d6eb6015c946699433a",
            "42ef54616d7a460abdf4b12e68962be9",
            "0143eea9893d43bfba6a71ff374280b3",
            "c497e1b96c604d428d7b84a90079e2ac",
            "24769dda8c7d4da6a19bf6113c84adaa",
            "8ca340ef890040ecb7259ec54cac0075",
            "50ef938a89774e0cb346502be41b9b4c",
            "b72782d256814e18aaa8e8362ebef530",
            "23d2ef8f30a342e49e277f20d5d6ca4f",
            "c9ba64ff4b5e4106ad9694694378ce8c",
            "4c68d95d506d45cc9eef6789c31e5a49",
            "589491e1f0384ad691d9d2b760be3c2c",
            "0b71c0990670406789f4dec0a36d9f6a",
            "756af0333fa64b8a90349797fd78a3e0",
            "75717172c6f04e8486122c04abb0c222",
            "aee6ef486fc34201b0a3b5733b0c279e",
            "0acc6110a2ec4d9ba77f3f6da22a5b22",
            "d6fada8026634e26b5afa85471791ca4",
            "76fcb7837c5840b3be4629a3bff8b583",
            "c20211bc7fb346fab5b7755336d5e9f9",
            "680cf07c7444414d8772103da7e41598",
            "cc315c30dc7c426a9771735df2d07fa1",
            "77896f2253b6486a80049083080807d8",
            "efc66a898bdb4e1f8a9a9ae7edd4cac7",
            "efe7ba57005142b5a9dad34b19b6f59a",
            "bc115554e60a45d08f3a5c624f807f08",
            "92e4662b38e147279cb0f2d646c90174",
            "fcb13ef7e97847d0a8bd6ac8ddb0ea43",
            "67ca083794a745e29a4249f5fb893df8",
            "d5be8975e0a14cab94f58cc9f3dc9fab",
            "60db529e332044c4b23a80e205ba4711",
            "97804d1b44a24b5ab1f19e807f2d25d5",
            "d760168be9704896bbe7264424baa69a",
            "b4c9b969c5034d4eab7df883e7b0ea0b",
            "f016a457e5824745aac46bea35a16755",
            "abb4b966120845b8a077278bef051398",
            "bea216ebb00f4a5fb0557c050b58dd45",
            "8e1f432555ba455796dd6a42197dd1f8",
            "d7f7a72ac86841e98be80bd732f3918f",
            "02bfd30fac13422ca5c11a978b2d81a0",
            "adf8812121e246d5bf84d939927e2210",
            "f938e490de4846cfacc87631b46d2c7f",
            "e24b046291dd48c790d90b154e78313a",
            "ef6c9cf98aae4756a25dc8b40cb7b35b",
            "170de302ba734ac184c955b060ed7213",
            "731ec5da235e4d179a41476ae252dcb0",
            "41f5ed9e1e294e77b804c8fc02af27b8",
            "17c93f8a959d439a81d19cca489113bb",
            "2ceffbcf07d94774a79686661ec8de9c",
            "cdf0eed512c045b98d47de17d4a26f0a",
            "cd79887a523241d0a8bee0c9d127a514",
            "4ea58d82815c43aea1f8770de0077b97",
            "0fc351184a79466e8e15db91187be664",
            "e3cbcd01f6c0435b8780950df55799b3",
            "1915e4a766d14d52bcb9a9fdc254edeb",
            "2331202041ae4766892eb79f3b48dea0",
            "6d2111cc85814f67b6f65b42dca371d6",
            "244b2328674e41fdb497a3051a9a3d01",
            "47236efdf37b4d7a833a250398d45d58",
            "bf5a69f1088d4f478169b61404c9c4ee",
            "abaf5a5a4eaf48b7a51c61c72d9c544c",
            "f3f7c36c55c74016a72da9992f4ac35c",
            "22ff0ecf9c274134aebc9ebdf32ac005",
            "2dc2ec11d7c24471a3efe3909fb9ef3b",
            "7032fb1c91474386960e884f36fcde53",
            "ad8d993db3e346d6a0810ba0b9a9b925",
            "c5a041a3cd5b4608a4449b213df50be0",
            "fec6245291444003b5c2d1bb3dedf398",
            "7d11aefaf5fd46db877ffe55dab9c919",
            "f3ee0c70c04544e4a9f2592586eebf07",
            "49d0b53fe8844a6185196c181b5be161",
            "a27c5336031e4992b8736700b53d45c3",
            "1e9ceb97edd546d8962c011b4b67f23b",
            "deaf3deb3ad44d46a9c997a7cba8d997",
            "92d4ef094cfb45b4b602abb1f1f73255",
            "ab16cccb42f74dbab0423f99872300ad",
            "f41437004d7348fc89f93483606d8caf",
            "e3f38ed1ab5d44b19344dcffb67f201e",
            "7f968128cffd461fa2d6474a5f4f27cf",
            "0b267d6025dc43eca679e22fedb9fa8e",
            "fad53f710dd847e094743cfa3015205f",
            "467ed9c6cba04750982944135dba272d",
            "20fec9e1847541f1a60104f1154b10f5",
            "1a21f151a5d44139af9b305c43738787",
            "7759b5cd82c14a0aaf1961e949cb46c7",
            "9f65932d400b4e5bb76a7ef84b0d8c10",
            "258740d085ef4302b7dfd31dfbed1ec2",
            "b93e1bbcee4e49689e089cd30d543e63",
            "68a48261f4d947b49e43c3f668e2194d",
            "d499a044224f4a0db48ca7764e431275",
            "ce68982ad7934a958c25eeb7d84db037",
            "c6ea0edd9c394d4da2b3232493548452",
            "b4fc1ac3e0a64b738756dc347810b35f",
            "b1486b470f6c4a48b21a6d8fb5f9feaa",
            "61669262ecdb45039814180020c64ba4",
            "36e1117fb0d7429dbed5a589baf4064c",
            "a315c7e5f47e4029a877b2b61b44f0af",
            "48708493144546b590872fc79198407b",
            "2cc2cc7aa3b14d43b33209357596f030",
            "e9dfa4a9f98844b38768864672a609ea",
            "031e95a5eff34e69adc250b1f5a4aedd",
            "bbfaed194af94951ad61ab8ba07be268",
            "5989aceb450e43bc979367fbb6772f51",
            "bfdb4e2c09214b4db35390ff8aa38fb8",
            "46869938b61d437abfb84267e8250795",
            "cf621c74e6f14d1784a99f4322c3795f",
            "19a5b5b32a6449bbb6ae8ad45a147047",
            "a5a8300fa08644dc84298cd85d6d1bf8",
            "6478004b39264664b2727bb61e85e6bd",
            "0254816d0ec540d2a4a94c899f3a6b17",
            "03242f0675474347a56bbb4cf032f9ed",
            "ad4e6325c5e54e6398c81a56229dab29",
            "5b5039e103994c39a4776aabc6f676a0",
            "55c65aac8d7e46b58c020206cd4b6183",
            "8e47189fe15b40ef9b83104f73ef77c7",
            "44267bfb27f944f3a4f37fc4721126da",
            "9b1768430e774b73afc583c3cd8c4ad4",
            "479f421ff1094c0db58885a869af4147",
            "f5f124e546f643e09df69cbfe3695ae9",
            "721eaa78274040d68fecc78d1c38e6d1",
            "31e24986ad1f40d785c3bbd7dd9de193",
            "3bca4e8e144a4fca8fc9ad90f1f81a90",
            "f8c5b59b214540cba00b50859eab7d83",
            "447ad3156ac84a41b6253e34506a3e95",
            "e4b3f628a50a476383cf0366564cc18f",
            "bcfeb2d000844d5cab1ea6b5d4491d57",
            "4078d8bab3af4ea6bb896ac347c8cbf0",
            "a4b501bc6172491c91b3ad6ccd6235bf",
            "1ec6a4759fb842e59168bc0099b95fca",
            "69ac957feb6b4858a6839b3350bdb644",
            "95ba9be6f11a41909c9ca6e321d760bb",
            "2ff04ebedfbe4ab88233cfec51e1d090",
            "33d5e8c8f4df409daf8e88b886bf6ed4",
            "5f8be1fcca1041fb84251fb509f22c89",
            "054624efd16a40bebdb0f303669ec142",
            "3dc52cf6821b435ea575b874c593bc42",
            "9d4aa3b3a1df4f3bb38a5d9a42bde123",
            "466e20b260484c61bceb4f66f386c03e",
            "1116e740f6114107809d0ad6e3ae6450",
            "7d8240f944184a14a0f7aed073eb415e",
            "fa48b17030ac4fef9328b34bff93093c",
            "a89f6a757d9c42878ac507ec0ee3c09e",
            "1c4a08fe26b641ff9f089b74d246eb7f",
            "9673f50fee8240adb0ac27fa10cc4345",
            "e9ea79bf438c4a47bc814ab4bfcd905d",
            "f48c5d3fd07d45ffba34403d84d4ab05",
            "db6d175245af46d1805f6fd1f888ad84",
            "736d11b5f73746879ff9bb3cb5e2d4f9",
            "831f54e8c4fb4134a0514aab69858fab",
            "c965de2f23d247b59f262f216de29f49",
            "9cb4c46694be4faab9eb0881180ae9d7",
            "5db717ff5f9548cd83559db14641e8fd",
            "d9d2a5d4d41149cfbe55d75950e26c4d",
            "c436d11083de4b53b1b47912df590f97",
            "5981a94eefac4101a3b24e27dfc8b72b",
            "2267f2ee4a7a49efa49dcfca93c2fb3e",
            "a2de6f66ea8a4831a1e61b28aae81726",
            "649e713d872b45aab6a9aa0d3cbd37f1",
            "4a26c78d2df241d8bd903f80a68629f5",
            "61bb01141a5d4bb4a399390d25777b9e",
            "985eade30a9243938d9e3229b727d786",
            "74da767f7440454b82d432181b7fc3b0",
            "22831a5d051e499f915c92272dafe214",
            "f074fb29c798485cbea1a4d8c1f50c73",
            "4ab96ab9b86b4d46bc3a57637f128c56",
            "3efeb4993e60489e8130d10b42d43bd4",
            "f03e85734dae44f0872b6a035e0e6c2d",
            "633d6c51ccf64c25854ca33b95238a34",
            "3222bf17504b4d33af3837c5cdd9111e",
            "5bf35e9af7aa420f9ba6f053d9f5173a",
            "fc4057ef48594aed9b754a39943697dd",
            "5a91e5dd07474802bdc4a2f2da034eb5",
            "52ecfdb75bf94632b414f7926cc1eddf",
            "bc9e92dbcf0a457dae26003c492fb388",
            "452b6e8860eb421295549c0349262b62",
            "d46578f929cf4785a9fc3b38bb451928",
            "cac1838ef96447ecad2acc3bcdbca11a",
            "d004f87998c341faa28133681bacd9b4",
            "9e6a37eda2d9421391e2d144b879ad33",
            "70d81c4da1444b70aa025b7b725239ec",
            "499f7892ab0d43439d9cf445943b825d",
            "bcd1bc397b6f4a30b91dcbcc025cc897",
            "0be5d5d35aa0418ab24de1cb29911bf0",
            "d4150a99d6de40198d185cdb05a23e6b",
            "ab5e60f7f73642ce8b04c99e99196088",
            "6bedc730b441466080804c108bce1617",
            "10e8a4729ba54c2bbb03b2405f51af84",
            "3deefba6cd5a4d12a2d339a595314d90",
            "4098680c684641caa2eb32debcf492c7",
            "84ee02f563ee479397397a3a55614966",
            "9f1bada6abe74ee58877adc1711acce3",
            "96c94d2ccfe44733af2abccdb6d390c1",
            "0b50a9c3e55544f28d6d3bc8052ab635",
            "dd203a7cc1304804beb49fd8d29fe6f5",
            "c93aeee2b19d4fe1bcdff473aec40c35",
            "1da4179a63c5493c873d4ebc4512c4b9",
            "655b3b8dc27f48ae909ec50c72ae65d6",
            "20a3262ddda84026b10447c3fa3fd58c",
            "ed2a627d7fae41baa9e4228357cc4ca4",
            "8fd0b6a684364047b1390e767ad457e4",
            "c580c11d72894faf8dfe74e7df3c47ed",
            "ff52a139083a433daff07d04c0f7ad03",
            "3faeffabf0df42cca5b6f6158c4bd4f0",
            "e0879d4c0a6c4e8587a14bbb8e15e0d7",
            "e8313a65f01444d6ad831940e840c2be",
            "5d665761a55a4bc499792a7667df21d1",
            "1dd3b61c10d448629165789c1799794e",
            "b1230a600bba48bb893845a21071c0e6",
            "c6e3d5154b1246439ef018d56cd60fcc",
            "babf2af26e904a32a453bd1f203391c9",
            "bdf455ff4a514129b81b8124a29e3434",
            "9f392e0a9e2544ca891821fb7f18659a",
            "8f68c3f0a7114873ac2bf8599b7fb832",
            "6d34cd67859e4844bf042fb14d432ad1",
            "8a79e301fb82401e85c5483151859f01",
            "7e3eb50f33d843af82fae1fb11904196",
            "ce38d34437f14a088919bfd3b4160c39",
            "93557b21d1d44579b7303249d8694624",
            "39d78de9287945139cd2b1daf750e609",
            "88effb60ab6a44e7b2c69729cebfe912",
            "59974fda00ca41c59715c38deb3c3fd0",
            "73a9de73d6db48f8987d0275f2e9ba71",
            "e6aeb9878f0a4e169c953afb7e9d21fb",
            "f7c7fe5094e94a878a8b984839a76692",
            "dec1d17a397a464fb21bbd544212d50d",
            "21c9db2a37da4f498a52bc03762de456",
            "59322ad9eec6429dbc4e73d14745dc8c",
            "0a9752ec48fc464bbbd9fb2bc02a9f69",
            "f81c7ea5f97a41ae864c51924f90cefe",
            "cbe5f3f9d8d24db9a8ba98c02e699c5d",
            "f9c3c494393c4e8084f80b031a741c06",
            "f7767bfc8234461e82341885e9b44558",
            "640ba3df119d4ce8b6fa1fd92e896dcd",
            "0eeb80b8a3b04ae5afecd4befbb8ed17",
            "168c1e3c4b1240d6856dd42ffcb1f30a",
            "c9dbc5578c964ce8ac9e1ed5c29b048b",
            "790ce31c29294ff7b86a4392533dccdb",
            "a30d18c488894119a854b4296daff6ea",
            "d71895abe128488a8625bcacfeb80e47",
            "498f0ba610e04550b69f54948c5097e8",
            "2cb46ac4b43145eda2c6fabfe0bb8567",
            "3e041221c27240fe95fef08e53374e6e",
            "093588a78ad044b5ab0d63f56e079154",
            "3d3a19e7b7324882b92e399abe6d9079",
            "7397165a5136477fb345a9f202ab7d29",
            "0d9af7f2493d4ebcb165f6dfc153dc7d",
            "406e2983cf58458496772feafc624dd4",
            "b52362e62186462ab8db337d25a99ba6",
            "d5ab2ad0d83c496e812f729ed6531dc2",
            "9833ad99fea64bbd9233732034ad0ee3",
            "345aa4e9f7594397bdd125aea4131282",
            "3311fc4a7f4e4e93a2caf5dc141de30f",
            "10ba06aebeb84e5da7a241e1a5415392",
            "94b2fcc957944ef294c6461a21e95d2f",
            "401325c639db40bc8b9eed694342fa0b",
            "70937a2cdae24995a03eb1bc1f80fde1",
            "09dc874f540a4f49b10f7f884dc12f60",
            "b5334b465adf4780a9d32c8ac27dfcd3",
            "4288657c0f0643189dca12d219232c68",
            "efcffc9f53ac4b838076d4fb526aa54e",
            "b28fcc8de0944077aa9573a3c467dac6",
            "b3d75d043a4548dfa463546cd8844eba",
            "ad33c011b21d47fd8159a52783fc690d",
            "b197f0b101e64613a1c183b82553fd5a",
            "f362c69b038b4637a558789ea83ea8a0",
            "c287cb2951d341108d45e37f894588a9",
            "5072e161be614fd883b5a0f2c8fd8a88",
            "5b020c92b6274daa82e66406d320c6c3",
            "b5f856a19a7145a99360a43b193208e6",
            "72be13e2a3f4492e900f809aa18d421f",
            "381366e3408d4c23b3f3f0e6a67d0436",
            "3e2affabd3324b96bb9041cda9b5d625",
            "18a3c2b9db7c49dca21e627861393db0",
            "fed8086ff71441328cfb12ce1663633e",
            "42eeb676cc5f4592a6bf90d965251207",
            "786a8f71ffdb4a8aae7438212fa55f54",
            "ce86be8fb9934753afbb696dcbcd267d",
            "5d1ebb414e78449eb136c0c63a95c17c",
            "aaf6dfdf19a240a29f8f7e8ccf758d72",
            "74eaf42dca5d40808cd6d65f67e13522",
            "3d2a1d57e68146ad8633a359856ca588",
            "efb2eaf704614ce9bcbe9f1dad8785f6",
            "d63a6f4228aa4709b66f58742e137678",
            "483c8b0837e64dbd977303af532e9839",
            "7e4504e482734745949babcf9c908cf2",
            "36763b4b24a84243bbd9578ca2fc72a2",
            "735971c325c24db09f2e279bbe821e2e",
            "e89a278c41254c079039ecec8b0341ea",
            "69b33ccc380147a1b7478227efb3c33e",
            "ea904556a6864be2b09f367dc3ebc3e1",
            "7face692fa384e44a1e5947c0e5f950e",
            "ca54e317889042079416016eb036c528",
            "5d605b33349c401db0701a80e8c3435b",
            "e93b5ab1e0cd471a9727ef247367bbee",
            "f35ae0594318480f9dbea27b5d052601",
            "4294f147cf8d49fcbea29c9dd31bdc5a",
            "ec99c820a17247f89e7af58a2952840c",
            "5cac9531ff694a76a3594ac5160e071e",
            "328b7c9351f0409aaea32e8eade7444e",
            "4b789f0f18b04cb0b30de50dad585c98",
            "71be1a588b604695ac451781318803a9",
            "d01aca58456140a1a472deb587744683",
            "d02074ee666147d7837154f6fce32093",
            "767ee2fdc39a4ea39443ad255e745553",
            "3745bd9629a347f5aebaf4559ab967fc",
            "9f4f93a1151b4e2683837416f78af862",
            "d8a39415517d453cb3c57a4afd69d971",
            "19e0425ab9e142ad9f9247a576ea1ab2",
            "aea27b0437424769980ec74e4f8ab0b6",
            "49b9b5e942df43589ed9e3ec69861018",
            "4f3e80eafe4b485f8473275092e9967d",
            "f5089eec17164877b92a2e5767322c3b",
            "0ceb6e9f2293422ea7d45a0e9b3bf271",
            "1cd0d476c113455fb919639d881f06cf",
            "e05571c1fedc4c4f92639ef98fe1aba1",
            "bd9f1358c6fd41b199743eee6d23755d",
            "bb21bc2d1e284408b1f0ffc7bea15b54",
            "06658df5cf014abd9fafdf4944cf5415",
            "c0f192ece51c488f9925697743632004",
            "3d09d53eb9de427ba51dd4d675a39c84",
            "f497bd6bb9e54d14ad65cf6d72b2d038",
            "fc659a7698564b23b26545af08d9d1b3",
            "d5668270eb874b9db783243711a0073c",
            "f62d870c2ea5492aabe7e1570011d877",
            "c91bc28fe09d41cc9b49465a6734185c",
            "f05f8e7afbe947c7897732e1da955972",
            "1172a13f5ae945ba882e82867ac01cee",
            "24a7e36a7d544b50ac3ecdc2836aef55",
            "ad176f13b87f405380baaba123ddad51",
            "35667354215241918315e6572bcb2333",
            "a11530a1e61c495084eab6039ec98d29",
            "5e8d05706c0346349170136b8c9a1302",
            "b08692a034824f0b8e8dd5b8f277d584",
            "389b2833373744e4a9b96c27476b2c3a",
            "3a51c1dcea414a20953c2944e60ce1be",
            "ad91b9c5413b45a2a45ce0cee73c2645",
            "bdb1521eae974c44aaccbef9436509b2",
            "729da0e3b93a4fb3b678916b8dd42599",
            "a9486073227d4c48835e77f5be1f26cf",
            "98bbb855e1d14f349b000533b42c519e",
            "84aad23d34e046fd8869e88dd34843ec",
            "c2853b30c1334812b683d5712cd926ba",
            "50cdebdc38174eceb1b4321bbe06d88b",
            "e04175f2ca1e4f89a7d08e942e2bb556",
            "ccba27f84c1342cf8d776fb46b9b9496",
            "f9e90fbbe75f4370a62a9149c8229e56",
            "db634376103a4ecfbb3e3ad27c3a4429",
            "fe78f28fe37e458e93c48b2948b75f5d",
            "9a7844eae8514436a28aa048969ed91e",
            "bbe68289bf9d4d38ba7878bae2012ce7",
            "b4a1f08a1f1a4f9f9d0b9324c790741b",
            "9e99761dc97b4673b4d67ce455d839bc",
            "14fc54805b28418e8bac6407c207981e",
            "2cd529464bc946b488825215b93c798b",
            "990aa1a47ffa459c9469da7b14c4a6ab",
            "273e445d61db42cda608660d486acb75",
            "5e263cc3720643af972a5d91b26de42c",
            "3a5e47f00c2041bbb70ae8ea390372c0",
            "1a7cf20f44ff48c4af3cc7f10137b287",
            "14c713ea090b432f9ab208106ce2d627",
            "ba70a8a4ae774c10a39812de68e64195",
            "e2e1221b2b764af6887794bda42ed72f",
            "280c8d8c127147c28f331f2dbffe678d",
            "8468a47946e0400fb089379e54481da8",
            "992c8c315d884dff9f343c6691f742e7",
            "1294baf7ae19412e8416b717351f2659",
            "596602d1403445339cf1a70ae99eeecc",
            "cdd2f904dfea4a83a725aeb4f3c786ad",
            "8930e069f2b54882b3951016875790cf",
            "3b85a56301df4cca8345ca89643c133d",
            "6bddd5f0aa05491fa5466f8c486cce62",
            "bd288e77e918407fbd28b758eeafe0f9",
            "80d7e3cff2d04fd1a30ed03d09691d0a",
            "b4f4a22fad124deea7c238c893d5da7b",
            "868f737e58b040e7b1ab39c0087bd2bb",
            "dc7ee5da065c49db820d81e29615496a",
            "71119723009344e88eaa67ed10ef2a36",
            "0ccf1c4d9fc741a4ad30b33a133b9038",
            "23803a2f17b04fb9a75247b619328341",
            "8f03278f14e64993a856743b7fdd3ecd",
            "aeb107cfccf54990a0e5c6e82a012c4f",
            "fbbe54ea1f4a4eabac02b53d8fb17f8c",
            "008b5453616f4b19ac7608c3a588e17d",
            "9c5329d38acc46d5a820ef1c8595040d",
            "0450f50327434abf904c6573080d142d",
            "be341650865349a4823521c7fd5ef4a9",
            "4cd3bebc7c934173baf1bcd487f794bf",
            "fbbeb66abb8442edba72665bec8258f6",
            "914be457652e49009d3672cd36166e19",
            "786a69ad88d24b78ad86738b375fa054",
            "6b43cdfa742a49b5a3fbcc9716788f9b",
            "0c4ff5220c7b4502966b685ec504ec62",
            "1a560eb8e7d44e38ac98bec41be085e7",
            "4bb8f11cc0db4861bf6ddd4822dc3f78",
            "f6e67cc65c7844b99ccbb88b7fe0d0b4",
            "4f9130c809394f5f9a45f55f4ef69ff3",
            "ffddd82ab49d4d2b923806c69dfa8bf9",
            "66f41fdaffa641899a6e4a15788d2120",
            "2dd6b09672e44d6f86faaf8dfc584283",
            "d43a4912fc544b788acb224e28711563",
            "3f3de1358ee346539661e5f1253f2a53",
            "5b2c2f49a945441795ab4093cd24244c",
            "72f7f534410a4aa08eb6f184b71b059c",
            "e7ebc4429bac4967a823aabd94c7d879",
            "b29991d820bc4daf919e653a360d8613",
            "ee7d298e4bf349d7adf60536db0ad1c0",
            "e07d3ee03a31418ebed8f3378461debd",
            "439478da2dfd485ab70a384ac13e736d",
            "75103e28e4824b3db060461ed746c7e6",
            "0b9037642eef4bf990e455c78a11d766",
            "faf936c2d197413983f7a1eaa2fca920",
            "93b598fedd8546f08fcd8caa3f016512",
            "492bf30235344755b988e5d274233002",
            "2eda8f348daa40509611206163d8610e",
            "ca19fe717dea4082bfc1c0bb6d8684f3",
            "c2f4e1fa3bc54e8198eba7226efeb3f5",
            "629235f8f70c4dfab07717e200aeeeec",
            "622c01fca55b4606a35126dc191fe674",
            "6cf39638494542dca64954ff78964ea8",
            "46f7eaa1fe0b40a9a686011415c236a2",
            "fc4f498b51ef416786052516daf3b4be",
            "3f90bad927664a55a105b4caa9dd53a7",
            "9fe843b024f84bd585f7546e627cba9b",
            "52b73bc3cb004e6189c3422d04c4d584",
            "6f9bf907f24440998671aa15fd92f4ab",
            "2d95f28f885949fd8099da55b0b30b57",
            "2acdde9078c14d848876a0ac11c9a2f3",
            "9f9e15a08b1b4d868d795c54ae5c9d88",
            "07fa61032fc3494e8d0097df6363375c",
            "831aad9326374c878b1e3334d045c159",
            "a761d77ab6d14e90a1b9e7bdea5dd69e",
            "31ab9575f82c49dd88b2581656204438",
            "9cfab1bbbcc24339b2ae2582bcf01182",
            "71c03517f2004f58b05ae91f87a2555d",
            "608e17f4cb014725aaa4005f379a37d7",
            "3fecad470cc14c248fe7a14a164aee42",
            "96fa83ea7706403189602ab27c652719",
            "b16a7128ee624040a13b47307bedd4ad",
            "ef2a4851f3624709bd3b438bb250c744",
            "700d47d7aabf481aa9fe21212e623f0c",
            "ecb10597177a433f8f4fd925861bb4d8",
            "7e850810572a4a38ba89c4b883be2e98",
            "2c692d84102245198b70b6e209e7c2cd",
            "577568b5b0864a098da4e292031db4ab",
            "d0aa93dacbf84cbfb677c2d048b142a8",
            "66b57a45cafe42cd9294bf3db6e50bf2",
            "0156ddd961a740918bbdfe8866b44e93",
            "baa2a961fb494305ada4cfbf27bd23c2",
            "b7d8e99779db4968ae93434e8aad5953",
            "ee4da71591a245dfaf127c3977c15479",
            "ed30ae9a87f24a428b468691431bf9b3",
            "07b0deb7677a489aa6471a1f449366ed",
            "cbbfcd1240d54f3795093f783b868d0d",
            "78bc2f502b7b48489ed04c69ea08def7",
            "849df8af9ea244f49c2d1efb9e7d3a0b",
            "3a6cecb8f1d848fd82f37f2f784c7145",
            "6132fa4f00914271a51d111f6f5c9040",
            "723d900396214152a59542c857de82b3",
            "be67d008bff94932b5cd239794605c35",
            "35a54d89908544c3bbf949938c56eaeb",
            "9e47d7a61fac47a6b0054cbaaa51c663",
            "e1fe965f797c4e22bdcc2acf7a1effbd",
            "a1140d867b204a3a88e160a2bcb1f238",
            "dc1ba716df8f4cc6962a5e06919b9cf0",
            "e4bf40fc5f64453c95bb05f3a77e6964",
            "549e4ebd84d448dca513f12b881ba3dd",
            "f1fdc7b8a27c49288951da4018b6887d",
            "fc1846279498428099bb508a018cbc40",
            "43e05d31c2b5418cbcd7a809e80055b0",
            "c5770d2c6ae14638a4bfff31a4e73e4c",
            "87e5288c22454117af396cae49b2418f",
            "e663c1f54f714b5fbab59a12ef269afa",
            "b6781d09d8f348d5b3fecf80681bf335",
            "0027c0ced09d47a5889fbba88e7dc053",
            "a6340b4901f249be8b5720a284def353",
            "f904ff70fe8a4ef086da1298a13785f3",
            "4d514b7aae6e4dea89859d7708e3e1a5",
            "7f157be3483a4f21bb1fe36554ba9c65",
            "8cd22efcf2a341b8a3eb43711b1a0e0b",
            "96f2764ae51041409f76477fa9166f42",
            "bc08eb5897f34fb2a85ecaf842e11017",
            "d9dd5c1ad1e94d97ad19ff39c554f2e3",
            "571f8bfabfed4843bd704a7e91f76fba",
            "60d2136f7c4a4616be36a97cf945a53e",
            "9b92e035f0d94518a8d9d0e1341c05ab",
            "0ebe51a73abb48c296a39eaaa56c3875",
            "fe3ff67a28e246a4948511bbfaa31e6d",
            "c400ea1090904d948993becd35ae2aec",
            "b4b078584e7f4b83853766c064f5758e",
            "81c01891620e4df8b0740a3a479a7164",
            "6d6435d3af1441cf8210c931643c5984",
            "cf362e5a10d54ff98e8046310c112856",
            "a7840985f45f4e42865da6981e8714fe",
            "297f0956f87c488f91f6ca509ecc96d1",
            "e4e40f51c9534cfb836d3e24a0fc493f",
            "b016ac45c9644a9b9f4b802aaccb4b65",
            "87878ce3038c4303b2745b0eafedab8e",
            "36af75379b594e1bb62e5b7c5b8cd6e1",
            "3e6489124da34e778c99c0a3a136cb2e",
            "c275c4cdb3d24913bade4bb11deaca04",
            "6d4896a72c7e49dd9dd0f01e3f357919",
            "d6439247260d47c0bc0f51ca49c4f944",
            "f95bd91c5a534ab58d5e022c7201d869",
            "0888e33a02f74c54982cca638ed6ce58",
            "c18e443d7e9e4352ba7f83febd59450e",
            "5c6a187424594c4babd90def5084437f",
            "ba20a90f91374ffaa8107b1358f86b9a",
            "332fd7e501fb4e59a9d0b9041a71a216",
            "dacdb8e0e640497788a8c88946373d8b",
            "2ddd523d13654f6ba88639dca33043d8",
            "81d84840ddbb449e8ff2182d7a27abe8",
            "4f0f7820e89a4b728de5a4f78b10b41f",
            "a4ea3219c99f4fdbbbdb4e1025e07a96",
            "7e58456e30794a37bbc3f1ea790603ba",
            "d129dd9ae0f445ba8ad7eed34f4acdc7",
            "1b9952c97515408b80034123b98c0624",
            "9642163776464466b08dbdfbf7882a3b",
            "91dad11eabfa4bac8ef526f4ad183c2d",
            "fb1e3fa5e4884c06af5878b557d2aea1",
            "35c40cc04d8c40599577f00645d6fe62",
            "9a9d2f7e544d4b949227172530516db9",
            "0c47e9cd62824d02889d7ba6cd276603",
            "98ab7afdb88e4c3f841b823b65b42c5a",
            "a8cc67fc51174e798266e54846e6dd20",
            "08cf842ad6454fd6b0296f8e984003d9",
            "199e0845232447fca93165146a6efeff",
            "51151974f57c46478dda4af8f38273e3",
            "aab5bcc6dddd449eb18d1d5f7f4bc21f",
            "81d867c84f4a444ea1dc846a35712fa6",
            "a7b779e6e7c946acaaab7e5dbce4ce9a",
            "ee394b0f0b39491d9d7a7428924827c7",
            "eb8a9abeffae40bca44a186b9008159d",
            "16f2469cfbeb413a996c1378ce869707",
            "333a9fafb11a4d05b883d855b640d87c",
            "92b3bd7137bf4b398f99ffb0a1fb4c85",
            "cce7f20bb95740e5aa1e0537af627a71",
            "d1861d7ea9244035aea514990bd131b4",
            "412b9db9c1734798b6bcb705f072862d",
            "d27c4bf69ca74380841157034a372871",
            "e5d569176290429cadde1c91e0b43206",
            "483f57fb81ed49d3ac49c28a16160eda",
            "d68d668870ce4b528b114488c04dff9a",
            "876876cc94de46b69d8680ec5f10671e",
            "6bb70da824aa49e2bb0935a2bd2c8858",
            "0c6e9cfb25bf4187a954489da7f21e58",
            "86604612435d4c18bf3d902492021b38",
            "7f160bf365aa4515bbdf091716cf6fcb",
            "2599611ffeca4193ba5c59e32f51272b",
            "92bb3d10c1b240c78e98cad185afe5f6",
            "e5a39588fe574d11994e4d743356989e",
            "7ac60f6790a34addb274659c02aefcd6",
            "9cfa67702b2c4d6ab7c58472c167772d",
            "906e02d0276549b08b17d5a810c4363d",
            "5bbe88e5fd9f4890b33a3419c3be8dc0",
            "cfae1a5c6076403fb6ac508124d42806",
            "78f09c23d2754c2a803d57fe18eabb96",
            "e3f7a0fdaff341c3ae1ad3e28b50ec0d",
            "f9115bcaaeed40598bbc7dcd4b8175f0",
            "25810bddfb0440148d24f59df0359470",
            "5d74cf8342b44bf08dab0301fd03aa1d",
            "8113cc1c5ef84f4a9e626387f5ad579a",
            "a5a076d86fa44a7ebc8cad2bec037ea9",
            "64347d51b04a40ccb2c46bc7a07d79ae",
            "d5b5b8a0ae084b6c8d2d24f74c645286",
            "350f95532b5c4b4ba04cc563c9f8b82e",
            "539dc2500a294fa9a69a0e0240bd6748",
            "170ac2650d574192b9fcd142859a5c4a",
            "509548348832423a91e7c19ca6d2e30f",
            "29bfd65e851f4ef7b3c7fec56f28519d",
            "219a504bebb44a6e9abd779e42092132",
            "36118a60ea0e441e87f616d046a40680",
            "94bd49c87120492ca372220c3e9f3c7a",
            "ad2a0393ec78481f8b79ff9c836b792a",
            "049a2ca9560343b5b8ed19c6891f3bbe",
            "686748aa3588493288dea8284b8587f3",
            "5f9c3e48a65240fa937b6f6c9cbaeb1b",
            "0b2254c67a24413196b6d98482b887af",
            "ee63e2a7ede14c90bb8c2107e8faef9f",
            "c795b16497fe48f9affa3e50f9ee79a4",
            "646c95afc4084a408ac1adf3605a9185",
            "c841a26ef6f14b1d8ba0ea885ac61fbb",
            "d48716e74cca4db5bc7e827f92f34f8e",
            "969b00ec35614c65ae750e35102e9140",
            "5f3d9d48958f440286bb4fd7ac8b0b1a",
            "06a846b5124d4cdfb319f9222ae0cdf8",
            "185cc446f5234cd2b940b8ecc8b5a4e2",
            "a921387dcfdb41928b81a85954b4464f",
            "ab1e965dd9cd4907a2c3a9b804b7f8c8",
            "4e257d15e6e64083bdd5312f2ba0a6ab",
            "5be4f99104cd46d19c09e2531efa30ba",
            "e8b8f8c4acbc43b8949290b4ea8676d5",
            "e6f50fd0b4cf46808a0c8c3a11517804",
            "6f323ee7acb6479abd723945b0eb6430",
            "b5228dc1cf0e45efa845b27cdbf6b1d0",
            "84d5494805a0470d949a5e540afe8908",
            "606b0b8aa4fe40c5b08952a42ef998f1",
            "6bf25396885f462980a30aeafcd991ce",
            "9e2f2769d2eb40f4b06acf2f5822130d",
            "2f35d6c2fd2541a199b4c62c672d4fe0",
            "7766758322dd4d7c93dff79b0c6b1952",
            "3766eb803af2465797ed4bd1094f8c91",
            "cddf51bfd8b741899771ed8a2eaab11d",
            "39ea0cbadbc34af4ae66880ae89a609c",
            "94fa42e141f74078af55dc1f29b15ef4",
            "cd402288063d4c9e95da15d1fb2e4aff",
            "ee7df7989f4749e4bf8862fcb9f15abd",
            "47effe289995473588a8f1abe4e22db0",
            "19968b5a787144d8b8396188f8f27a3c",
            "ac8fa819ac9645a7b9774207ea11e188",
            "9180a90fdee74e5484a15c40eddec298",
            "76d8d0e9f9d94c82bde010e3655edcb5",
            "81b0553ec9aa4539b4d2d2e63a3a46fe",
            "2d813707b3da4085bc8e581611477ccd",
            "343d47b074a0488587936df8717f07ba",
            "c2c309b3b5514c699df6b64b29d28e1e",
            "c776e86353434b0c99cb79ecdaac41f9",
            "1e10fceb42c642eea964a784409c35bc",
            "78dabdf26a44466a843d43596601ed48",
            "ae8f95f1853a4f3fada5fb765a0d52e1",
            "12c395d796c44819a14d733306364a67",
            "83a5658e306c4631a12c91e36d7cdf55",
            "cf89ea954fb74bd2a9c3e02e626e2638",
            "f13ace4459dc447682ddede30ba02e52",
            "56577383d8f44258af348626b30721a4",
            "c5ab972d8a7b45ccafefdc1c2b841dc6",
            "2ec2e03ca47c4f3ba2ae0c923a8b470c",
            "86e1d3bf23d64ca19e7efee21e151328",
            "698f8bea80d149a8816b418f6d62490d",
            "ba9a19e491b04d9cb7d76661f0456534",
            "0af185b4e59f47fcbec69ab1f1dcde57",
            "f874c0b9d2174d8993ce86e0010f545f",
            "a9b304536b42401da03df5cb324917ea",
            "5b1fb40296b4474ba2fe33af7aecafac",
            "c05c47abfda747b6a7e1f5642ae7b307",
            "cc1c2b8160224072a3423f9700deac6e",
            "b0dc5bf1c8f540cba47269042dbe5a27",
            "7cc0f558be0d44d6b003a14ee45d9269",
            "070728311b324bf699cfecfe1feccec1",
            "d3ca4b9900ba4b70a5986665242a42fa",
            "d4ec176c13b846f2aa5096c624174802",
            "b65f45a16b924a85a346e97b94c5323f",
            "b8d07333fa574d4eae1a010af748c1e3",
            "f609c56d55da420290b4d00af31a2c18",
            "38de659027dd4fc693c9cc31007d8267",
            "4210d2124e83451a90a861617a50bd09",
            "13c945ccaae74d7489fdfcf514b79d4c",
            "5591472f011c41f993c788ab11d32de7",
            "6a50fd3fbb084f5692700737af63bf09",
            "7228a943d4e94941bd8aed9b5556e946",
            "03e63c77d1ee43f2adad3c9d8a2e4fdc",
            "f627828780e345de859cceba6f5a4944",
            "5735354add1c48b99411c51ab5de8e53",
            "f4931033b04c4432a75545becb810c2d",
            "150c9d62edc749ce9fa3a024ab35ef04",
            "4a58c036f36e4eaea605031ca2c5e331",
            "ae032e0d19be4ff79cd4ce95a496b168",
            "aec43b99cda4459eb49549ff3010c3b3",
            "82c5845de62a4c948ef1214bccb0421a",
            "ff0d88508578478c869ecf656da4a95d",
            "6e219ef1ef0344dd854c238145bf540d",
            "6d839464286141f5898bdc61f9359b2c",
            "5ed3303f9dd74edc96cdcd832728fdb9",
            "d0db9aba2b464407a30f68eeca9e0b00",
            "903a5ad2703548939c7e3a722887a2e2",
            "706006c670904d67bd10d7a422aeb0ce",
            "f164279846e84be08b29b0636c05d257",
            "0cf0cdcbbb0e4803b8756366639fcfe4",
            "4961ed59523749d7aabd3e0841ca939c",
            "9b1ac093a422491f9ed988b280d3b62e",
            "23503ea24be94548b82f1b87f6b1868f",
            "8d19928554bc45c5a648f1fd37b10ee7",
            "af335fd0fcc949bf98c11b0cc47c65b1",
            "bd2091de14b74394b9399da9ca743388",
            "e489dc9e471443baad3fabfd1225f5d5",
            "ad8aaf1557c64b47b1220f5f471d0b91",
            "ef3d6fc47d8d4600b5553fc345dda2f6",
            "8e0f5841822f44f48237eac4e10839f7",
            "971e7d07d12c40b38adfb362f1a63f62",
            "df5488151fdb4feeb4548af28b8e03da",
            "70d60d86a535490faede5be127294c10",
            "e4d1722559784132aa78eb98a262b1cb",
            "00b7e379be1a4384817b589490400674",
            "beda3ad6d3ac42229798e064d1218106",
            "7860a1ffb8884df797553dadd91f867e",
            "b243c488bb1341929a51dd2edbe2916c",
            "70aeefd6a24c4996925fec04c41a9616",
            "5b8d2e2ad21b499c850bc59239402840",
            "f208f3fe3e9e47c487ef83facfda0032",
            "d4a38a12a5aa428bbdc0554e7a377f91",
            "997c8eead2a24405973436ff574851c5",
            "2500407c38ae4a1792106a3d3061341a",
            "9cdc182f03954cf7a3e8a68417751369",
            "c27aac36e3cc409f96b3b432e87633f8",
            "0814929e68c34c9985a99b438eed19ac",
            "6c867a1a5ce348c8ba32f7c02832202d",
            "9ac4af24b21e4e6184ef7c6041ca3cf7",
            "a6819a2ee680436ba75d47d3081e9434",
            "b0844360d7d54805b2a370324749092a",
            "73b429a923004d1a8696814a28980020",
            "fe8084b2f2c34c1289341a000fdb3c4d",
            "72d0d239d8284214926eccec9a66fb4f",
            "15bc33026abc4ee7babcc9effe9952cf",
            "225e302cde464da3b2a5f99fcef6bb42",
            "4bc95f5e3fa74bdd961730f27c48d6e6",
            "518b4f385e5c48119506995a7fe213aa",
            "fa9f36f06f514ae2b4ca9c54c9b9e5a9",
            "1d8300be847c403ba727fe1d57166a22",
            "14ce454c9b9a4391953f8f554f180e43",
            "c25c844952e840a1a4267a6ac9074253",
            "ae50dbaa88ad4413b676563a6a529d04",
            "7197df2691f74659978ccf76d375ba45",
            "0ffd1d552eb44774a633ac74d2fc81c7",
            "cdd123e43c4e40eda92fe50373e429c1",
            "064d529ca7a14f27bf6fbc29a8f525b6",
            "1fe9229c27df444899fb05fb35466f73",
            "805e0d44b88d4de68dd338a6ed00eba6",
            "0bc444629bc54844a95c47f71e3c0098",
            "07c15646c42446b9be505a35afe24644",
            "02e2bbf03f224bf197c010673b27b24f",
            "14903b2de36e4dffae90147e3d148019",
            "bb7f16f89e3d42e19261f2ffd612ba84",
            "d384c6b97d1b4f9da79163d51c01a397",
            "915d76e041b54e459ba046437c1ec236",
            "9582f5ab054c47728d819ba2bf5c5f96",
            "85aaf995130145e39837485448cf2e77",
            "dadeb1c63da547d59ea1dd2be30a1162",
            "4509ca95c54b42afb19e8aab798dbb0c",
            "e26dd3c6a8854fe299f975a3509b2ed4",
            "6b44e7bf92614816979b38b8ca4af0b1",
            "87c34165ee2644ca850deb79e3fa80d2",
            "c5a4c8411c1b41aaa3ca8b80b23be491",
            "7a3fbc01b9a04049a2e97396b788a400",
            "e29d7e10afd24f6eb6bfca1113b600bd",
            "d357805ca61d4369a4f113e0b435f0e9",
            "939f31c4fe9840768e60e4b1ce299176",
            "2774fd5b7f254052bc727b5bf6ea9178",
            "04ce8e37d4d4436db13775f4d111da58",
            "99559c0c7ee94a7091554fa15101291f",
            "689ee3d11e34485bbd9085b693d1f32f",
            "81e636797af440a8bc9a97c083df66e9",
            "2fe40602165f464f95796963f5fe71bc",
            "06daf7ba0ea244ca9dbd1b5faf998109",
            "d1ea89673d2d4837bca5833046dfe220",
            "15f64a99925b4fd6b698700a5a713439",
            "13110cf822ac4b34ab17e07aaae7caff",
            "3c4dc1325e3842b4b60c545e96377799",
            "dcd9e2f4801e415e9d4117f664fae6d7",
            "a342db5d8a9d48b4a61c0bd281d22b31",
            "b8275a45e6424c25b4f0966f574b8d12",
            "23c8acc3f41d47deb014436907daa990",
            "e8e2ee03396d42a48ba4dec9303dd126",
            "377edaf5836a44fa827747cb9bec24f2",
            "5922550e18674af7bfec2483e29a2d4e",
            "f352a22a7f1c4e84a5cadc3afc2ca015",
            "94588b3dc6e24c919ca843cb5f73d920",
            "38892df0eaca4a5f97bd4c58bddf29ef",
            "c8c54d006db14534b9aaf6407321466a",
            "e04f83256f3e40079552264e12148c81",
            "f4739abb313a494d965570aeb4663e19",
            "cd239f43002648f7aa339fa6d0140081",
            "3570b71fc9a34713929e9efd49983503",
            "9df0acf56e1c49ea956dab884e05eead",
            "0ee53b058b114c2aa530306dd9f43215",
            "c2a638dee22e452a82d3afcdb752abb2",
            "45edeca1a6634df986164a8f6e99a293",
            "98bd07cabda443739e64f3359334c234",
            "f448b187ba574004bfe613ba519422ee",
            "d1e40051919045e9a05d82138a75628f",
            "ff374593a40e42d78396d7f6b45dbc47",
            "2d5232ab28c44ce785dbcfedcd96dbfb",
            "552bee194226444fbe123b1f65693934",
            "f64c41cbc85a4a6fb9e934d1b9d2f019",
            "2dde1a2abd6b4e24b298ec966e28ff80",
            "264043d9f66747c8bc509420fb7000d3",
            "e94e2c99a1b54028a16975ee72a4bf4e",
            "5e9f27db664b4c21966346815f0870ba",
            "d77f9638e1f44d1e87dbf2eea0b9a1bb",
            "a905ded83ae243268eec8cb576f7b64d",
            "8ca3783293594affbbf37ba76f285bfd",
            "d546155815c24003957e1178042e1872",
            "b98a7b458101457dafb5a0ceb7a6e281",
            "0a9517f3ecf64e2fba4d1c42d99bb8c1",
            "bb21758f54ed4b7580c60d291a609795",
            "80c00dc0f03645a59ab6b1d30af6eabb",
            "d286206f2a4e4e22bd3d095b0358776e",
            "ef9f494489b6428399149db92c712dc4",
            "642f8469bbef41d590e3758257c875d0",
            "cc2e314090e148e8a9c6613add1a0d5c",
            "29894db702b64fbbae37ce698a965ca6",
            "cdf8340eeb324c8bb0457b06b9ce51ce",
            "d43fa6ee68a24e459cef8b7c3fd8a15d",
            "f9ca96f008754beaa7170ca357200ade",
            "0c0851459b1b46c894be5b695b899598",
            "29b00a7e2ffe40dc939301259527804e",
            "58191a91e6b340d39b298217b8dc0a9a",
            "1c448d06c9764f8ca9a8e428813f52d2",
            "a0b048adf307412bb2c353ac4f0f7745",
            "b6fb869227764bc9a835f19a437f83e6",
            "33a57afeea2f4f41805fd3b61a49dec6",
            "544c2e95b96244fab4fd69ed5a69beac",
            "ca15c8b060624760adba916f24de180b",
            "ebc0938f25f543469c2d84c65ce14e18",
            "3077a4ddf7d24f42b68b24bb72f883ea",
            "278553b52fff471bac6a0b09a01ec3f6",
            "986fe6be977246e988d053023243691a",
            "1ff56250446743dd94178f35b225f428",
            "262e9c97294c4eb188ebf9083a8d28c1",
            "41f5142bec2148dcb52bd30be84c2eda",
            "b2244c1668994129a6695c6f8f649f35",
            "1b190cb5774440df9a4b7109a0e5e871",
            "bfe82c4f33784c96a6b02adbb4cf2553",
            "f0b068d960a04709af658483640227d6",
            "2635bd8cd3e34ade8208eb39bb0dc4f8",
            "cc13289a2daa4acfac83d77d89d6d86e",
            "3ce5d09319494fb7ad7326c6b517d342",
            "c8a536183e1e43f9b33f007a14796350",
            "1bc845097a214b02bf0ed4b5ebe15bb4",
            "fcba72a809d64bef901ad54904a3a751",
            "767dfbd8ae144426bc921f83b116df1b",
            "06a363e83eb44f48aa827a3516fc9f3d",
            "cc8dc5c342cf4470b04a47f74ba6b970",
            "dd7b7f80c50a4f4b861e7d3a9d59a1d3",
            "606824b336cd40ffaeef48efa0e13a00",
            "c808bef542ac4f64a6b53aa8892543be",
            "b6019d4407164b9f92bb108f8e146759",
            "ef7a467b6ee240ca80784f82238ec259",
            "a48335c018994e2cab9e6b87b6a676c1",
            "46ce3b99bf26488a8528477ff378237b",
            "a28cae1cc12b43f8aae3baeeedb8c4f3",
            "08719b5e96ed4806b1215cc71b812cf0",
            "88df53bd0d3048089fc0546aab549a05",
            "a6fa75f2b81d407eba3924f6611dfe73",
            "499abafd2bbf4a45ad92d57cf62b89f2",
            "c5d720f6423b4c1fb0f1a49be5a57637",
            "5d12093c4c2c4aa19370035de9ad7160",
            "e693a57955434beab497ea5f17535f57",
            "161beddf89f94512afbc8e1768026c18",
            "ed1ac3e138a94949aff297854635dac7",
            "c96941842f4c4a1ca9ff4d1211ef1a89",
            "74cf36ab4e114ccca648dc42cb3c7ba5",
            "4508b14b2dd843129d918c4d17b88873",
            "b8ff3cc9c1d841d2afd097113658f14d",
            "a6368008c96b44c79074e674d1b4b579",
            "0fa599c28db744189e30ea4c63c1d2f0",
            "2a7420f742514a958cb010216f269a8f",
            "e68b0d24ed2f4fbdbdc358396d4f9c3d",
            "ab6832c9af8541f99cfa2d90c84d13e7",
            "6b645ea5f26a4984bbc99072491d7dfb",
            "a8be22954148464494bd69c9fbc4645a",
            "787de770454a47e8915d7c1b6ddbbbf6",
            "ca1f4833675848888db9885183c5ca66",
            "ed03aaa29dae446282e848d1b077f1d1",
            "7b1fa0a1dfbc4d2d8fb2a4d48cdca793",
            "4b0f6141099f4c6cb74b51c2a0930ae7",
            "19af2fa958e94a68aa95ba2c3d56a29b",
            "d1dbb7e669644525bbfeebaf39caa7b4",
            "4131674b52974824a96fc752630943e2",
            "c807c1a364a94582a66bc4f18c8207ce",
            "61f12f60292245ac85b706e0f6c057ff",
            "2ea23268b75a4d65b1d1f2eca3df4ef6",
            "6d81c6d27ab8426a823ec2494dd38644",
            "5aca889c4d7141bc8c6b1add83310214",
            "854a6896ebb74c31965b37f4e21c97c6",
            "cb5d7d5c937a42efae44239d961f7efe",
            "ea1b67022c4f4baf916faa29d67cd4d6",
            "325301adec3a4b2e9a14d296ceb736c8",
            "cfa17adaa6f04211b62321ab68e4e37b",
            "567d7e1ef34a4273a1a92756ab317ec5",
            "cd4f8382ad684512b6bdc31a7bc645e3",
            "148ddb15e2274586be3b2babde4d5fdd",
            "3831a6382712401dad9540b1f8996136",
            "94f34386712247ca802eb29b4849f84d",
            "c95127e3cd7b46ef8558f74032fe2fe2",
            "ff354ed4e5af4b58bfaa8d119179e9a7",
            "9d954bc28ef74edea2486707afff58b7",
            "b9e635eac2cd4f8d8cf74344af09d3ff",
            "eb98873b991347a58570bb64dbf3341c",
            "81555654195e4785a2a42645df25498c",
            "82090543f0f345c39ade71e7d10f0dc7",
            "23541329533447fead8b69b5ab63a23a",
            "9434b2cce6fe4038bf8322106f60aeeb",
            "ea82e367cc2f4473822d881130ef14b5",
            "80dddc31c04446f3aeafee0292d5d808",
            "5378f720bfda4943a67147d281c09bfa",
            "930b3a0a1ccb40fd8693cba31c42584f",
            "c4675a132e98442bada661f2bbc2dd83",
            "0553f8568f87466ca00c2c1b3b689394",
            "eaacb163e7ae4ec88aab1f06628ee77f",
            "6c8d58975dd04fb38c4b89cce793f3eb",
            "ccdb21bbddd647748fa30ccd3eec4879",
            "5ea8e3acdaf74a899592eed5db1caff6",
            "7f83427a66374c9f9af0cb3b75738322",
            "a15d3f10e03048f8883ca024f3609e35",
            "66a6b14c382e48d7ad544599ab6f33f0",
            "b400d0d389a54b69b414193a8e340c33",
            "1e46f931f2c74a9796e5dc24995ade94",
            "8de3f15b022144939982b75917fda1f2",
            "27fa76aee93c488abca61ebb0dc5162d",
            "9e3219ac78a145a8b97aab2d65b1bf21",
            "06ede4774bd2446da0d97f59ae9ce741",
            "68a2c29a23474af590deb3eaac477838",
            "4bb26e0acf8e40478b4d2c1fce9d389a",
            "4fdace5b58524aed81c996851fba98db",
            "0bfcebb8851e456b9693ae0343cdb77e",
            "d7465c520b114ef88c0ad20efeb7b783",
            "274cdc9f1c874ba4bef04ba43101260e",
            "8cf9889ea4f740d4acf59c671b0a8004",
            "d67f24c3d61e41fd82ec9232ef240f2e",
            "ea17088571df431fa3dd820033a0d8d5",
            "afc1553a39d74a3a81f4280501a4ea4b",
            "af8adacf802f4301ac5e02020bc3d6b9",
            "6b1a64a0d18f418c8e3e2fbdcb5d1195",
            "8e6b515bd02b41f9b29832acf7e44709",
            "fbda0dc2b20f4b3ba52308f9dd3f9e31",
            "9d6e0de1d7cf45e390e4a543e925bda0",
            "20743cf274f84ccebb5aa386263f0488",
            "761b72b5944547b1bdadeab728cd2adc",
            "8c7b051c76424d23b21b11bf2e9a062a",
            "2d767274c8124be58e6a701346be38b9",
            "f09464a4718246d08f81b3906dab77ed",
            "0b651097868849079f2afa5c6b2fc5b3",
            "e8c0a640f1b44e549dbcfd7dc7c1a5f4",
            "3ce2f5df9893407988cc454556f1b995",
            "c6329c52f714444297597b0656136051",
            "f7a49cb7fdfb4657b6df86d5c50d556a",
            "8f06c1a53a8641d6b742a6f65950ed70",
            "b4942992804042f5b86748e77656d846",
            "eac1d2d352dd47cd9c9a7b83b67477b2",
            "e9d023614376404e9ced0eb1f538124e",
            "22b3b1389a5b4b00a9daff9ce5a8c4b0",
            "0b6229932e0445b49b0e64dc14f646c4",
            "a283ea85b1c244348c93923be13d3340",
            "c10bd50242634e1c8534ea057da371fa",
            "0bd498b2d2134abcb5c5ccd90b9cc25a",
            "a59a251e8ded44e9acb8e8a9585f27ae",
            "632883c794ed4f638b0b4e7d00822f01",
            "0f276a27de2645829dcfaf9fbe0cca60",
            "47b8c57866e243a8b3898ea7dceba3d7",
            "da93a0a5041849ecb93155918fba0243",
            "d5e44e7b80024db5b149b4d26d8873d7",
            "3aead318c933448b98648d4b521ad9ab",
            "c3e9dc8e9f3043d8a73018f88e83c018",
            "f4b58657db394be4a2fc83a2c7a6c3b2",
            "f44713bb16d14cf9934a81e9a86045da",
            "4fc485be02e8422d91b8320fe1b4f327",
            "ebef1e6bf7c544a9b9e6dc3d7512d3a7",
            "8e285160029345968dd0692901f5987e",
            "98ec809c3efb47ce96913d0e709ddf0b",
            "416e00013d7e402d8e001e555c3863be",
            "d0f2f2b971044bb0ab2ac57e0b78a0ea",
            "d070593f2a17476c81acc7366bb6d6e6",
            "3a6f6111e6c442199f8a217f2e22490e",
            "2ab8cbb152c941c2843a6d157806c14a",
            "5c0e3265eabd4b94adf4004cb93075d4",
            "b2228716696d4fceabbe4d9913a1a34e",
            "d3fe89db93d349cf82277a0d38d211b4",
            "cc3b6fc9745a439fb90460d7296bd871",
            "f57393cd6ee643a59ababdfb9d4b6b04",
            "bd838add2dc741679e017250910cbcb1",
            "d7fadf99eb7046c8a219668efaa89e34",
            "419002db9bae471ab4d02ded1915b1c5",
            "7335fcebddaf471c970a0701a1ce2595",
            "5290fe75586c4b079a943c9d56355772",
            "79212a84bfe945e6a8cebcf917b84fe5",
            "44ade6cd0ccf40b8ab2b86e7a18a76aa",
            "298f2f6d94b0464ca2a9848a64cf9f8f",
            "a842db78f83448e08e77f4f2bb9ba981",
            "e3143c1156fc4dffb36b49570301649d",
            "15ee3427ac0b45f5a5f20c4e833f7cc5",
            "2b1f79618fb04ca6956518ab8a777697",
            "a3bdb20136524c44bda421c6263ab2f6",
            "60b228e4b3734a2bb976c7829dbce2ab",
            "14e52a5445ca4341b2d051adb735f50a",
            "be00551dbbd84a52ae294b057e75f7d5",
            "504bf5fd5550468c9eb6a63a5aedfac7",
            "afca53ad16124ef185b11f2667ef2ca6",
            "4f4d37bd21c24ba5805664767e006a7a",
            "eb0ac1d5abc34850968959f98122f137",
            "a7815d2cef974b25aca2f6aa5cff83f8",
            "fbcb0be712704080aac9ae8748b6cb8a",
            "d72d4cc4bd974a7586d362b20de19e32",
            "d3ec96fce1854cf2a1696b22536bb283",
            "8fd53d9ee6dd403289b9e64d7a3ef779",
            "ea24bc2bd658497aaeae3dff54be4c27",
            "aed1bc3eda9e44ecb8d9be061dca1d00",
            "74d6361215ad474b817ca092ed49252d",
            "ef202cdcbec94bf59f84cbeff213f4fe",
            "0c9d7e40525845b4849aaf2ff81dfce9",
            "65df1dbfd33549d7ae770aeec8600b6e",
            "443992a463954f0881018450c0bdcbac",
            "3c51777764544984830a215bcb1521e1",
            "331c501565f94370998dc4a929049860",
            "c139bafc8188495685ff9efd6b90760e",
            "608877a534fe425c983dd66c45f15bf5",
            "e1f62122ff8141e09c04c4b139509968",
            "aab6bae23fc94cdca80ad1facc1c6193",
            "990bb4af9f5145d2a16a912282af6ee7",
            "8b047d64075a495d877060f57cb9d0de",
            "967dbd8f27a245dc8f465ee00edee85f",
            "d56f48d9826e4665842699e4362e7862",
            "5789a820a6184e2b97d46c581e094096",
            "e5495a83d8174181b27651e576841a78",
            "4a80d3ec4b984e32a5a5699bc6433dd9",
            "1188d828e7b644a897a4c58d4b73ff48",
            "40bb91896f6b49afa090de137c3a31a2",
            "97dd095ef32a4158bcee543dfeb3f1ff",
            "2e90533f361e4783969083a57720beb6",
            "e05e6e0c2a314513b083eeb071f855a4",
            "8fd1fb2aabc54f54b079892ba14598e6",
            "72ab74d9559e4e02be7d045d3492425b",
            "b1d0c06157414f93900e9b55d0400a1b",
            "0af90e32c25a42ffb196ee6d3f46b062",
            "8555996ac3794e068c534ab4d620d02c",
            "f2f4fa495b374e83abf23598ffa7584e",
            "7c2dbcc4799c47f1b2ac25c273805215",
            "6ac65471e2784abf9cd02dfed2a8fe89",
            "396363ef82ff41e99b17cd429618cffb",
            "4436ff15149d4ee880493594d6e4b661",
            "21747c40fe9349d19d77c98a00524d81",
            "7def7671efa5401bb4bac5a635947708",
            "85c41390ad2f47c681c0335c8742621c",
            "5816c811595f4bab8e892d3e08e06d37",
            "14c83706d66443c48c50217de823cfc9",
            "fcce5efda5174439a528a5056feb2539",
            "0e26b06ebaf5409784a0f9812125308a",
            "7ee1b086bed143df9b599bf4ab009821",
            "ebae4a5bfd15462a9e1811b36f2dc8e8",
            "cc095448384a435897a8fa60a84cb052",
            "10741060eda24a85b88b0512aed1e830",
            "b9c7fe21263b4e62acbac921e9a5ad92",
            "91a0a9fe6ad84af38c3b1dcb6cc76443",
            "319a5bdb9deb4794afd7ba6e2438f675",
            "447ba03402854b7692d71d15db06b42f",
            "9b2da1a19bc340bd806040ebe95e244d",
            "df5f09efbaa844fa841f4a04216ccc38",
            "af16be3c7eba4144bdacc0c085ddaa51",
            "6d0621b3e7034ff2862b890877682716",
            "435ca0c00c424b8c8714f8e469a0ae3b",
            "3a27bbec594148fbbf5f19f118568376",
            "c9148bcf1cb9448ca9ea0a393dba5869",
            "df4f188fe7ee415c8ab8e8e959a4cbf3",
            "f8b5ae10db9a45a4a7fc0c0bcc5611e6",
            "8d46475d44cf47feba69b773572ff1d0",
            "69b75c708dae4f11ab57e4ef0ef1acab",
            "fbabcd8506e24e45942e3b7a879a9622",
            "1e2894d3800f4cffbbcc6243a29ea7c6",
            "4a51d766cd6043ba8ad866042025b5bb",
            "30c9cd8703fb4b0ca3fdb389c9cbbf62",
            "b796e0d3d385426d89ab2f6fbe25d35a",
            "d2a4fb5822a245d2a6a421a25d3b8a4b",
            "befb78e2afb347b0848ede9991292fea",
            "8beffd2c99624a78aec723158116613e",
            "a1aaf48a1109490f96499982c6f517e4",
            "c55d6b6712bc4800b50b912fc71d0561",
            "de0e47e6ccc54de18e6ed094f84eae8a",
            "763dfe69aeae4f94b794ac74e3451cb7",
            "da3a8afec8df4232ab736331224dce92",
            "c2e0473b289a4b15a31feac11cdf3a69",
            "a6b4a2f5cfe64b7e88ffce9a345180dd",
            "527df6f0cd29439fa58c2f9f017e4b9a",
            "7f39309e2b2243c3bcd19b8767bf9f5d",
            "4a39318ae9c34569a4b505d76c59ec44",
            "2d9155f22d094113a6f077a8c22cd1c4",
            "10794b7c7e874671b65e4ae19fb16e3a",
            "3731d58b361b4581ae761a2c2aebb7c6",
            "42a79e5db2ba472eb90a2b48214b00d8",
            "a002aebcfffc4bfa94ee8375035bf9fb",
            "f3a8a7d5b2ba4db7817fbca835cd995a",
            "40aad5cd1c0d42eeae575a76731ac52b",
            "67a7052303d441e5bd523e6734647f1c",
            "a3204ffc23714cffa00687648582dda3",
            "09d0291670e74d609249b86d97b2f21e",
            "fa4d62c17fe940aead7723f8e9e84aba",
            "406c7f74192f48ec935fabdd2c50f139",
            "716a9419851e4979a63279e4f418f02d",
            "ad419698248d433c94a133d477c5a1f5",
            "a52e1f64a20f4ed6a82eae0aae4b546c",
            "a9c4a8b272394ecc90936d3af4c48351",
            "677f66f45d03416695a90125fe8e96c1",
            "b73d14c3f5c24cd1a449f273aa7fd465",
            "647f7a386ff2460e86fe0c56eabac883",
            "c8e94dcff4994de594d5073e46f10bba",
            "009ec2893adb4382ba2f0152bf1c6adb",
            "c4473fbf16cc45388c7518775e8ace86",
            "7b3c74f9a71d49da84131b1c7cd177d8",
            "54a021b8fcaa456eae4f2a703040fecc",
            "2892389ebe004371b6d055e7b830289e",
            "b6924b5079c74955b59dd69c825a1cdf",
            "b86b98683dd443c48439bde0fc765e01",
            "f5beaf73bb89481e907f39f79d078e11",
            "819c0033729949b2861be698a130077f",
            "db3ffd5de5e7440c883ba3337a007658",
            "5ddb10c135804ff3876ec98d58c35f03",
            "05ad855cf12548b0b9d9be3cb12d4730",
            "29d25356d4df4f82bb4a53e3a7edab45",
            "a58a4402edae425384ca8769c238dd28",
            "4c3c746dd4de4e10b000ca0ef7d781a9",
            "b31b6a1093134da7ac87d7e6a9fad185",
            "be1f279f341f498fb3d55962781bab96",
            "07b9fa93ccb4464ba32bc88dc7b35392",
            "824b5340fdbd45ca98d38604c3a0272d",
            "ef4b0bb4e5564e64b2653d63ac2f1585",
            "5692f1c1e30549aa9aa85916bbba0ba0",
            "aab47578ab394ff4ba06c5d1aaae770d",
            "551cb51f227843e4889e82529b5c1b0d",
            "36a92222172a417eaed0d900cf173135",
            "c7da43c8991941f9b4c103770920870f",
            "ee7114e6ed9148eaa868050de2cd238a",
            "903a551286f24bc4afc98d0997197986",
            "3e2fb032d54c454da80bcbabc72e3ee2",
            "6b967dd0e45f48b0b601c7d1cecd451b",
            "18828541ddba481f89f512776ea2b399",
            "29c8916cb2284f6b8b3672a3d35e0498",
            "a92173d857324055bae2aa2e563f373c",
            "0eaa14ed006a49b384e98dce3a6502ee",
            "881007cfbb664c5684e46355a13e3b93",
            "3287c6035acd459c849bb3600e882efd",
            "a69f82508f9b4b0a8a42b58775a8e7f5",
            "06060056ba3f47c698c29018c1127111",
            "37296ee7f3ad4a00a8c9984d1d9119da",
            "b020f9b6d132454a83bb17838880e2d9",
            "5345335c032c4875ba8490f6a16f0367",
            "7dcc9fa8923e4a41811153e77661f152",
            "eb8b3466765d448883d5989abaa86e2f",
            "b095436a97e9481a84c247bd49756292",
            "8622810a7d3446179e0f6f2bac09ef72",
            "9590839751544d4499960098d356aec0",
            "224d3164e422475f8eeacedc86f521d8",
            "71b6f024904a406699d5f6e7618e5fbf",
            "34e9041dc6a74d60b756f6f77a420bb4",
            "a882734cc5ba483ba7a15b4bdf9478b5",
            "81d809a980d949239910548a0d4f2a26",
            "343ffff95b734708b5c14342e5b67e91",
            "6b029540829049948189d12356e9f33d",
            "f903d06b41c548a88b40af401b47c75d",
            "f2e476be49c748d39077ecb255abbdab",
            "13f84f4e23cf4fa791af2ad21c0cfabb",
            "e9b5cc88331b43a087c299b99f5891d1",
            "39427c965a1c46168fcd969d943925e6",
            "aadef327b6c74f4eaacfc202fbc600fb",
            "f4a388ed80c04668aa0c5a3d6a016234",
            "1877161c1c52410d92f23ce137fa4881",
            "babe90194d144069a4e785a30530e8ea",
            "56354665459c4661ac71c544b97de787",
            "e71e699aee87478da0087dc4ef98d387",
            "cf85d29587e14636afefd69c6a3cdd65",
            "0481233b76a04abe904d46a3cebc9457",
            "3bc4882684c64d549f2e2b37d4838aa8",
            "f8411d78b5ca415da855e44c68103cb2",
            "92590358989a4e028df1c3efb3fb06e5",
            "64e8eaa6e59349358acf516b48e2c46d",
            "bae665ecf83740af9d362e15f496eb6f",
            "ee3f4c0f930948448d77ba3041f14774",
            "c0329a8cec9a47d5a9514d55b2f9bf20",
            "b0bd01389a024d5ea8d098347bdf2b58",
            "8edb5c37077d4b208fc7cba799c5ffb9",
            "a893174f15dc4c138cbbd9d9ddc51154",
            "6033b3aae5bc4c5ba1cf902f7ac181d2",
            "9bb42b0ec3c94a63b08deab6e88f523c",
            "10968bfc36bb4782b63880dfd6391166",
            "fcd28e79d2294ff19985be7f4a6ccd3c",
            "7a86ff64213d42e18a5758420667e5f2",
            "1ca3cfdbb98f4e0f899b3fa682f5a9b4",
            "3ca59f0508f34b2c89206506facce81d",
            "05db6b0b2ee34f9d99af3dc61e818713",
            "c40fc67b0e8042b48a6b5759081fee8e",
            "dd8958a3e3644952a97977ab0f57a3ef",
            "eb9fea308f0f46269079a0470f9de550",
            "bcaeecdef2494b1585c4b304c220ec24",
            "73342e529c8146c9ae6ff14432d6bf95",
            "c649f2d7651448ddb8ddd222069a69ae",
            "f6c964ef49ce46b599cea0082ca7cd1d",
            "9f2f757b35d74d90835ab68ab3727680",
            "da13ad77fafb43ac87f5452f9fe726c7",
            "3738089e82544fab97a44b6c142c6fcb",
            "8f148c0889f4486891bcfd9498cec813",
            "95582cc210de49e3a5ab608bf2eb85be",
            "f3425c42415442708d3e4d31ac1888a9",
            "3bb8334f530247c490e3675f554ed042",
            "d1d6680ed9f8459a857b8f93f7ae2110",
            "c7efb9501dc2413cb5baabc4af68579f",
            "f9076921991749c8a0f7e8fab984e515",
            "8400c4a254814701ad6b9707bffdfff5",
            "3bd8d27f17374001be6ea43a651c9b56",
            "79fd6a138dc24139a518bfd78c465f6d",
            "86a32cdcd23a4298925e055309ed9bce",
            "6e82326523754ba688fded6e760791a7",
            "57e0aa73dd284b0a81fafb2b7937823a",
            "17b703f8a5a044bbb9ecb97fe1aba8a1",
            "6a750401b1b84e038fe30d048d7bdcc9",
            "2fb8298945724daaa45f88a0ab9f1eb9",
            "a984d3e4ed824b018cc9ddee88cde11b",
            "6fd438915d27428eb60c9fb7cdd69860",
            "942de7cb01034939a75b8625fc191011",
            "f756ecc0ae3b42a0b35927b8deb8e4e2",
            "ea73dd4f56d54742b32a16bcabb183b4",
            "8b3fd7b7314d46efa25cb7b6098238e7",
            "4f0e98b4237543488af7051fd021ffd6",
            "9b96c10a11ac449a9a2fe42fee24b5c7",
            "9bd4f4b0fac9432da744718b2dec3d10",
            "336e388c49014f97b97d1c404f2e244c",
            "a42904f949a743ed9fc93efe0ac609a6",
            "68f9e4dfbcf843bfb4da8d0d8e671c20",
            "9e4bbd988c734267b0125afa2ac49c9f",
            "5b36275ee9034be9833295619ec990dd",
            "79a2bdd35f9d48148d610d15578b1e69",
            "1dd764bc1d35459e9008f7968384772e",
            "c9a4c07a84b447f685e45b98e50a974a",
            "f1d997fd492a4b4eb3c5cb9b8cce54c1",
            "e6ff540a9184487baa2c63bb8ea7a11c",
            "fbc30d23ab2c40d8b5075f788dd339e5",
            "04b6c5eed9bf4a8aa794972d4e938bae",
            "dc0e868747274557967c2c844467ab97",
            "ad3a51f2babe4d3298b3069742d8c36d",
            "60ea9c8695f843cf8307e2ad6c4b3239",
            "2a3d466c72654b49ab6eda3eac0e5791",
            "965461e23eae4368976adbc3286f23cd",
            "d135cf75b8a34913914fcae6d08df8b7",
            "1b4d68e5b92f41259c673d369719061f",
            "3ec5bbd02dbc48ac8dc9979114c04eea",
            "2db0ce59fced41ccaec848abf11ef47a",
            "c8a7007bc2ae4b158a8225405a24249a",
            "848f6d54ac694da58431e4daae38a8d8",
            "a406873be0b54f108c94a71549de9fd1",
            "e628066ecacb41a091f7733a10514b86",
            "a0efabd7786a49d08d98b82c6be6726b",
            "8eea6b9714864d7a9643664e013c453a",
            "88463c06eab84089bd4b2b9a4c5af64c",
            "3783229dac174e5a93ad0493b0a07ed9",
            "f8cda0a7c54f43afb8ba5b7ed0876f87",
            "999e264fe15e4746a16b2e419ec03821",
            "d7915a339aed49b38e2856841d4de276",
            "2961a315d64c402eaa6917f68dc7077b",
            "352a83ebdd364880a75ae346c8a936a1",
            "c7f87a09d4b44dfda1fb118ad1a866fd",
            "e90c97fb7ac842dab32f422bea9e9e27",
            "6bc85238788d4ef38cdf376986b7f8c0",
            "e977e07c9add468daedc6806196b5f89",
            "e2cface1bdb948a7a46e4c99d2edff82",
            "948c7f34d9fc452bb5fa7f66c88d9d46",
            "ba5a2f1174374efa803aae112bb7df5e",
            "ea117484b1744570bddf1e4b1386c5d9",
            "d2d09169709946f6bde6b4cc6d40838f",
            "19a799720bf3485896cdadb9ef609a9d",
            "796e1de4b9d04baeaacc94957e2e9313",
            "8f3e4e106871458ebc3b78fcee99a54b",
            "80be0b503b874b5ba014f53607368ef2",
            "5b04d3e3ae604d2988f730693fcfa7e9",
            "68b37ade91344de58fd7237bd1327371",
            "0af20671efdd4c798a885af7ba43f2af",
            "39ebc19d40344aafbeb21c9072326918",
            "d87f99a133104fa3b54311a94a28a8d5",
            "84f59c0813e046ca8fb5081ecc0224ec",
            "66e3c88211554be5b7ac80b4c53ed651",
            "4cd3883ae1874af4b6ae410f4922505b",
            "dd2f101e8b6b4a6eac4cf629589f7ebe",
            "109695b48aa64507afb552a8b7990e85",
            "ae9dd6fd0892484a8ba1857dea508345",
            "52fb34004cc54ee1a88e3028131ca2c0",
            "3ce4a3fe0e05451aa55b7d9f096a42f0",
            "31ad93bffb9740138b9106969fcb5cc3",
            "19165fe2da2a40b7a067f47f1542a375",
            "e8703d2732ca437788c5323b95fdafa6",
            "f452e278a5724b15958372f8c55b0342",
            "420d47cb33ec4066bc12a76701169480",
            "7623ccf13662487085a214030b0a6d2d",
            "8c599dd6e15d4a08ab0a67f3862458ba",
            "103cdc86e9934bff8881713f3641aef7",
            "86b2475f41ad4a96b6851bad53884545",
            "d4163fbe6d584a86b321cf2d452213bf",
            "b1f0f9cfa7e24202aecf37ee90ad3840",
            "552c9c9bcd4c426383f080e9441a8f8a",
            "0e86a53812164489a94b7b5db96fb814",
            "1630bb2a688245e5bf112e1fa1b3df84",
            "a22f199183c94eb9a8aa37cb1310e7ae",
            "4213429b523b4c1b91b44992080294b2",
            "4090b998c77141f2886f88fbbba9f5e9",
            "1cecc410f7fa4c719f186cba82cae52b",
            "c838bf65c41a4c609815568d29119a7b",
            "3e66d953b1e341259a53daf2f072b704",
            "30e7b9c827a74a43b9904fce19cedceb",
            "7a53d5edacc94abf9a266e277da9e4b4",
            "68d5ecb8c3814e73b10be863dcaf75d4",
            "cf70703cdd0d48bb98e06a3b5f4c6ca8",
            "849bb6567c3e46cb89e81bb2de850579",
            "fb4fab68cee847b480b0f61bfab133f7",
            "359f4c4bb46f4639ad1ca299e11f8679",
            "d3f6d9764f9e416ebde3a1b4ec136702",
            "ae6aee3c65424b2d813d9eb82760f35e",
            "91b0a96e3bef4e679c218efe8df7a7bc",
            "f8aaeb5b59fe4ec7846f112002de373e",
            "b576ed531db24e4ca98478d070cdb1fe",
            "be638da82e43474cba0d6f501c70d74f",
            "fe8542485222467c9bfb3925939b5531",
            "8033a24bf7544d70a99e9ac09b9cb9b7",
            "a72e486343494473b76577a19c729a84",
            "7eb579fc89cb4053a2e754432a27b824",
            "3eb97be747854ca086b917f202165a10",
            "29bb5919ee1042ca81ec26c9ec0d3338",
            "898dd7f45dfe4f47bcc4fe770ded4e9c",
            "2f1aa152a9f9417eb91bfe2c3641c5bb",
            "3ed37a2f959144eb980e30800dac80e4",
            "7a768a33c6344712b52e1134e221083e",
            "3948107bd8de46ef9a8b0d6c6fd19582",
            "ae6900273cd547039c36a673b9a66c30",
            "1f980b4be9454ebea98bec818192b044",
            "26274deec81a4134ae20efde26437cb6",
            "4d4a28cc1cdf444797fe18e8679c4506",
            "f894ec45ffd247e59655bed7bfdd5e70",
            "cfb14b1bcd96432db0584047d81116d4",
            "26773284e5044ebd8ab0c1ee8230122f",
            "494d2b626da1463ba271048e4af576a4",
            "0d01ea6dc67b4e38a6522a37a0f97691",
            "e8b0565439704fecb1666b50605a4cac",
            "929489b50ae947509fad51ff2e639872",
            "b85feb134d004d928c1f21c49c8636de",
            "ec621e55eed74ac6885d5b1d0aa7ca18",
            "71976720f82943ef8f50209890dda39d",
            "de4e4f2b249f46438bdd59abe988624b",
            "00818bdf19644fd98c127f96c54ea6ee",
            "92d049a75944422eaab2c40e2ff15e94",
            "17282bf693db418cb5009d78109cae48",
            "7f9607a0c5a3466b99c674d103a15f86",
            "18ae5432095f4a6e9b545e2b357e0bd8",
            "8d14f7d3cc4a4ae7b336f18a3001693e",
            "990c809a381644d88a0aa5b6e3fede7a",
            "8ea654beeb6440608a099c034d764d46",
            "25c739582d954b15ac4259bba2630a3c",
            "f8a5909b00a14a18abb2eda9ff622ebe",
            "de9eedcbc18a4eecab5d912ea5ca096a",
            "15c85fb25d004074880b6cd5664be04d",
            "db1c9c365da8465ea686ff905e2d8ad2",
            "6722248a2d4247c9bac0ab60c3ee3a23",
            "33990941f8af4f13881f8803d3d81ceb",
            "9a265182f1b04eb3b1982a3b81245b39",
            "756f4e2979a64daaa3061b412c25d7e0",
            "a1ed6a2c4e174acca372cbc260c2eac8",
            "92adf35643124a1182f8993ee8facb35",
            "66900e864c04488cab9c5054ce1e26cb",
            "890900e7c37d4388a8351190bbd7b2fe",
            "87222f195acc4cde8eb0da6ff5a31539",
            "dbe4a48edd894eed86f556559b32d50a",
            "24bbeb0643bb47faa05a1f29af17e5c4",
            "6cc6643d37564d63b8f5248f66c14f5d",
            "fd2ea371e2064bc5846bc4d67a449a9e",
            "f0ee678d6f4244cf9f5bcc7d6a130452",
            "48d6c40c23064cc5bad8520b6e216c27",
            "b8e0edc598f742019139779fa6466ff0",
            "d108d1f895fa4196a68f766456e93531",
            "ec29efd4c89b47f69b72b4f268941fbd",
            "989bf967d3cc4eb88bbb8cd424eca2c7",
            "00420178971c4fd0ba1c4391ea68d434",
            "800ef0b4c0d2468c81b59b95e48c5a70",
            "9862e40e5e2949e0a895e7484e45811d",
            "203794ee7a3f4ff1b67c1e403a15cba3",
            "174c03463d4342dd9609fa77fc77aedb",
            "fdfb949b065840c7a85c6f8d726779ab",
            "81a7e5b3aff648b48ca88569ea62ec75",
            "75ab9e054b104452b4489c35fa2e4b9e",
            "cbb15573d4e34ba48a98b115fac6863a",
            "fed48ae4e7a14f279f92673d560302e9",
            "6702c4443a424031ae411aef3e8bd356",
            "838879de8c144e619581bffdbcfdfb43",
            "cf41e3c3b206471585c29724370e33b1",
            "f34446d26dc245238fc21d9dba7895a9",
            "e0a41720b0ff4c5eaa25b0500cc49440",
            "13fef2a1673d44cbb6d2e239be123006",
            "7db965ec9da845dfab7da38856203cbd",
            "72d5c2405b82475f86579a8c6ecafe78",
            "61f36b4b673341329848136360a52ca5",
            "b685e87aa8484d5d9ea213cc7c60d893",
            "9194367fd1e544259c87d6f7715fc9c4",
            "9e7501489f1c4b789b5e14592a0b7c76",
            "8876f764b609447b931aa1835f87dbfb",
            "a22c589fab034d63ab1e985893652d21",
            "309130f299ec494b88ca811252e53799",
            "c60672bf2e0e40d886e2daff64d9da87",
            "c6f78c5974ee47f59beac22c6a4e336a",
            "4a406f6497154a2197a60f91dc795580",
            "df97fbc572fb43af9b15fd6221c5b215",
            "5ca96a03397643eabc780964442d7dc7",
            "c42b929bb17e42f0a29449297fd697f8",
            "98df4cc3efe344269d3fd2378e540265",
            "55373289117e4963a8a5fee26f73de4a",
            "2446092c0b874c94a2bcbcf78e40e1cb",
            "e809babc82c04692bee9d8eaa31c61cb",
            "f6094bf2ffb84759834e2ff6acdb1bb5",
            "bb7e0ff9729a48debe917b14423a5841",
            "5ef22f0b0e6842c798f6afe7aa2ac000",
            "3189b9357c0a417ca583766019795f4f",
            "56c5197daa1345f79ee94a7c222344bc",
            "ca7a457a0c714971b7b35ed06a6d7dd1",
            "061cf86358c1456ebc6bc94ae3ae2e6c",
            "7d209bf80751411db26753e19eca8193",
            "10ba1b254c1e4e3c9775fb1720f91880",
            "c6364b3894984e4c874edc1467c5ec70",
            "c0cfd329269d458d955a0135c2b4f9ea",
            "55f6e44414d24298be261bb8ffa94f7e",
            "edad7d6b56324399a1595383a17dfd82",
            "317367e03ec04075ad1cc78c39460002",
            "751c3f8025fd4863b2e3be32d9ca58a9",
            "15c50d5c05c74bde85c89cf15c7e87d1",
            "1627974b514c4583a85a2c2834718fbe",
            "b95381dd38c24108916cbcff2a780b37",
            "03895d6e97fc4f8092c076a8f2374ad1",
            "864e4c97288b4e48891a8f766e6cf232",
            "7b519dd88183483abb7caafc7c0b1971",
            "cad1206233e94466b6f41b0fac1935db",
            "d976d9592e1247c6ba44743af01b5793",
            "c92a41ae1dd34e08886ff67132a5b7c2",
            "ae3a1125662b410ba17105186f31c832",
            "ce7e2a95bb3043dd8d12681b2c37a973",
            "d4f33ba40aab48058b6e8ede704c578e",
            "eb2e8768629a42acb244cb18a158acef",
            "08401deafdb3418b80832d944edf4fe9",
            "8acedbf222ce4201b4a6d6cd9d9af26e",
            "cd1af92c6efa4a528fd4f993431e3c20",
            "37f902d26b9e407bba02933431283af8",
            "8d3c2c93876b4022b850d50a7ee99d57",
            "fef7645d84e545fba34cb615cada9164",
            "6dba216fca674095baeb34886e5d4b06",
            "1496079498244448b4d2756b9aa71c61",
            "c40bd76936e94693b0e4eb689d967a24",
            "7d21e678e2fe4f9b81fbe5a831d70216",
            "039c6c0468ab41529349ab7566f2d460",
            "eb185f6c280e497a8025a2c9a3154163",
            "e82d598109f4447798ae2ae9cf7255cd",
            "8b86cdc07a8a49c094351fb8038a18c6",
            "9980897a9fbd4af8a3669a0d77deb3a9",
            "c7a83dcfa9c14f1c9d4bacec20a5f87a",
            "e6978676aa7b45e6908d745918a49051",
            "ca5ef210e9884a5da83918b7270b3711",
            "66c1c32bc33941ddbd6b01079d2c4dd4",
            "1318132fe7c84879ac1fafadaa164f7a",
            "22aa7c02acdd42bba283279bf5ec312f",
            "b30d7cb884d44d4fbcf6d8e48c6d7e17",
            "e6ba0254e222409aa7dfdc2a17b62e92",
            "c2b9eb8d25934d1daa2458c97d3c3d9f",
            "1b475a8265a542cf948f1ee23e16954d",
            "0d6f0ca7cb9245d8ba854ccebcb6e0bb",
            "800ddda74b56415c88ba7868205a5216",
            "6c2cfc3625e74380b9267a244afb6543",
            "3833fd523ba84d2983cca75e25d674a4",
            "d1a48cf13f9944f7b817e9b62cc8784f",
            "2da8479d27934c7896d94f0ca8f1ca1a",
            "f1d09c29f55c4e798c01037aa9acdef7",
            "e3d2b31638ef4520ba1bc7e4e289c631",
            "dd94a01e9f134dcc97a874d14c3d57ef",
            "4cabec694bc148c7937e81c92adb4ebe",
            "dd8322d8186049989ce47951186f3ef3",
            "f03a34f8693c4feb8f9abe5c63f9d083",
            "2a4ed7a8a6354b7f877a965ace577c81",
            "ef5fbd134bfa4a1696d266f3b7cf42c6",
            "4572d31985f148dcbaec911a667396e3",
            "e5368ffb3d3e463c829377c49403f47a",
            "a3eb946e193a4a3f9a76c3dc5080f319",
            "80e3fb0cfc8744c287fdbb866f18f860",
            "6d9f41edf47c43df95dd2dd3f35d9519",
            "72f9ab0450914e8b9772c2db263bc4b6",
            "9ec2e9e597c34f3fb5c09992bfe18242",
            "9cb34e2a48624b1ba919d12f4121fab8",
            "017f31ea4e004570b8d2d62b8ec587c8",
            "32794860b8fc45b398963eb4bd173531",
            "19ea80523c1d4bce98574deb7cd52504",
            "8f8e94ebb50f4f01a98dfc1dfc24c47b",
            "c8e8ce82475647728ac336e85d17e56f",
            "82bf76593e184a37a1cb616ba6fc3638",
            "f37ceedc494d47a3b0f628bcde035072",
            "cfa5412bac0348ffb4d182557a09743b",
            "7df71d966ae24b3a9059baa40f07188b",
            "95cf104ebaac429d9e19a30a0cd523c0",
            "3d4e4907ca6b436684ab7d4ebcdfad50",
            "17abbcf70eea463883ba5ed0adc3d0e1",
            "50ee961582484079842375c4e7a9d2e8",
            "7b71e69493254f79a20f8fe59a38b123",
            "72f7bcd0f4444e83aefe2710d4f72514",
            "483460b2859244d98713a496c744e112",
            "19e81deb77a0405dac53dd369c6f7423",
            "f0777d83ec4d445b9ac481c870653b05",
            "22400bd8895e4286a9ddac6109b01300",
            "4f0e02adc10b441e9cf3e8ef2a984412",
            "eb7d2a8c91904fb49c251638f7275ed0",
            "9490e99dbc8b491ca874a25f4c1972e7",
            "615088c6c98e46c7bd82c12a015366cb",
            "4fba2e9dbe0d465986dff3a46c5277aa",
            "45e15aeadec546b68998a58c976f667a",
            "b6a7d4b464b94db38cbb2f2a072d3fd3",
            "5b19d9b7cb864975a195ea26bc6a09d7",
            "48d870620a4642d3a565ddfb95bfc78b",
            "eb4530761c324b5497d532c94d6b55e1",
            "62cb49fbed574003894b0ff70e54492b",
            "d05e66878b7940a4a0fa16cd66e55c3d",
            "8945d58b7319468d85c9f767ebb44113",
            "91863f344a854e76aa6844087da07e27",
            "3bfd3cbcd91b46e0a25a9488547dad6d",
            "4361ae8a68e34059be06ca443a9eea5b",
            "e2fb5e3001bf46ec81a9a208bb2aafbf",
            "3873e97ce1e3457e90b47b18a22dc10e",
            "713e5453e19f44f0a0ddba207dd95a2b",
            "ff8ea4bc94d94fc792e0e21c8d5ef805",
            "e951b86dba5446d38be438bdbdb1f5dd",
            "dfb97580e49c4e2f8a52fad47bf26d3d",
            "a7979083e5f743baa5a71d18087ea5dd",
            "3c527cdc2fc54d70bf5ea09a66cccb33",
            "7c178443415f4ab5949f88caac370f3b",
            "a9fab58d66504cea8db0cb1a7fe57172",
            "2db72c30fc544097b495247b7477d296",
            "b3d78065fd9c42fe81877a6aa6d43482",
            "536711e734e14c10a29bc317c08536a6",
            "52c43456ae304006a6edd1c6fd90fb0b",
            "37b4a31106e5407da8048f9e05bf73c8",
            "0ce31ab33fec42c69704b8de49452562",
            "64f45a4a648f4320bcf57c7e6a2e8373",
            "9a8a8db6857c4c62807611f98ddb4e39",
            "cbe8b2d3d9164779bc40f870dac25f0d",
            "b04110ae246d4ca28cb7408fca93618b",
            "ccd795eb387c4fe4b5d2470b67ef9493",
            "d1119dc572c2456fab521ce5c49b4191",
            "2cef3576b86c4bf899daed8f652e80a1",
            "4321aeff74744f19b7000210999fa3c5",
            "4068a5511ec74c90848d624f879e7920",
            "1d8356c42ac44575a7ebe832bf1a07af",
            "9c3ca7d594034f3da7fd8ba7ced94998",
            "67bf54c5ec1f4296b6ed709b3a2d835c",
            "fe6b41ccf77549dc9f565ef39b5ca281",
            "044f9d63268d4d0cb34c6a674cae7be2",
            "ddc1c9e561b5491585fcafaed43c309b",
            "1871c2c09a3a4ae1ad08c6851e01b2f7",
            "87af17b0b15447b384a19d2bf93b6c99",
            "77fe4f207fd94fd18e4d99e520bab94c",
            "8f51b297925844368346725dcb830538",
            "58c83368bad546c1b13c110525b76f1b",
            "2ad4f9b7625a4fb396b807f2b3e3cf5b",
            "3baa353854db46aa8ab6348efe103600",
            "758b324c11634a5b984b0572fd5365ea",
            "0cd3ed2cfe484abaa7a39ee71ff42432",
            "a8c8b099d999496c90bd5c1519fcb100",
            "964cf6f032c947d48d1d70df6a5d35bc",
            "a61d53e1a30443a6b56b3572384d0f9b",
            "6203b08a629e49a2a8e5ca7e8ddca3cf",
            "cb4ccc0c73704c5b8973b55f18db15f1",
            "7bbfa278eac3453ab0c0f02f6a71d56a",
            "e25b2c18366645e19ebcaf9f409516ec",
            "9c85984f285a4d3c889f92166ff01643",
            "1fe6dc2465b3407bbd38d949a6306bd1",
            "ace27a2d516b437ea01ca3b661311bbc",
            "3b16eeb514da453fa5e8c98853b5afa9",
            "424203eee2a84f3c9c6c9eb618da62dc",
            "5bc283bfc4544f069105b5e22725769e",
            "e4bf9c0ede5e4af7aea091653f583dfe",
            "b66afccf577749e48d1b8d5275c02cc3",
            "d7a77faacc8547a4a9fda75942fa51ba",
            "b283039cc4834470bcae75aaab1c7773",
            "b248b069fde148f59a066ed755c5e4cc",
            "e57a1e804e09492ea41cd8d976fd4fdf",
            "521c17a4a47e457abf66f80ac83bf67c",
            "38aaf5751973479dac7c7565bdfc631a",
            "4c48315c12454d61ac4fa6f56158a2fa",
            "c6a6846f1c004c9bb351832ed4de351d",
            "f748c9d6806a46b99307edab39a4ed1a",
            "89ff06e74329465ea32fa473b0501572",
            "e763941bef9e4f44b8e98693c6ad65b0",
            "61ab17044a0e4e7b98ef51cb256a21fe",
            "02151686d9004d3d9922b3bc26814a9c",
            "0e0175c124174995a116d4e3fa43b5b3",
            "1dfb27886ba044e999f494fb65206cc7",
            "0585a163d9ec4a13bfdeca2f67a89272",
            "10c3614964964b60afa4873bf7a79873",
            "ab1e490328e140dbbb44f9da3414fe44",
            "c13d70901a244557854a5ca451ded046",
            "fccae5833c844a9b90c0ff1678c1db7f",
            "bcd29dc78f9b46db91fad94dac160043",
            "e9df20c624044bdc90a3bd986fc91f68",
            "c61f21c0ce6f459fafa45489441a9b0b",
            "cff42be970b141759e7f2d46086a7b43",
            "542f3ebb290640379bc46c73166b8974",
            "7add30f3ed8a4c86b9ab37cafd8826c0",
            "007501c91e22459c9b0b6d3d3b52dead",
            "51e923b970f6452e90178564efca80ee",
            "ce06c4f07f334ea78189550e4c300022",
            "447c210ff3fb4435b49eeefd5914dda3",
            "62d0b8e64cdd4ff797035ed4a13f2e6f",
            "bd15878e6e25447697d484280c5f2f51",
            "c89340b1bb6d4529b3b88f7a38b0d6bb",
            "9c9f670c583e48048cba22b2c92309ed",
            "f4cf3d5074824f5a8c4228fbb70278a6",
            "7487319a48ec461ca790558f0bce5421",
            "22c8f7b9e25a4f10aafa36f483571946",
            "1ddf5e1e832c47528f8d773b9e039fdc",
            "025c0e14065f465093674b15ff0844d0",
            "ef119138ecb04a72b8f788447e0b5fea",
            "ce8d0fb861e24ff38264cae4718511c2",
            "b752a6781acf407aa4098446a74b817f",
            "8056512573df459398f669d88e226338",
            "600e25bcbab4440f8f22d2137ef7865b",
            "7fd447d3d03a490788dc56f30671657b",
            "1ef568e255d5487794c20361905200dc",
            "fd6cdd9ca8a7415ba2427622283f84be",
            "aac4c024572c4e27ae8c8d88b1086ce4",
            "6bb81ecc6ead4466a59138bb168360a3",
            "49eaed6c52874fafafd5a54df833d522",
            "11c11d90a34f409cb169637c52246684",
            "6d631fedcd6347fdb3801c9f43794d02",
            "e7a0a07fc2eb4308aa822025e9de3f6b",
            "3579016014ce4491a0491670143e8727",
            "76df222009664f7e941a92e68bc4f92c",
            "b186240a48da490b9f4cd7e06ec02c45",
            "370062557e524d10a42d176e95d493e3",
            "8cc757c03b7145f894f211862cf044d7",
            "d0934a7607c74d80987daeecd3b44c1f",
            "00d5a6444cbe4c629039f0f8d4068af0",
            "84a013eb0e58494383258f7165d54fc8",
            "7cb234432f0c4a31ade519fc4c4d3b0d",
            "da751959467d4dddb2870145ee2c4c0c",
            "6b4c94ad706e440bb7f343ef2312054b",
            "d223186daa1c4019aa935d163a9c6ce3",
            "4a44ad7ea761460e953ed2daf1a5438b",
            "61d2681a6b904a919bcfd72b80326622",
            "04372fc43911450e879094a47ec4fff0",
            "4d31cc641441446aaa59ca94788fb2f7",
            "7295ade41f404a8482ec5ce87bdf07a6",
            "db7ec1e2a1e741ffa3bcaf169c289ac5",
            "fcff2c86ad5a433094f0632334567800",
            "1b6950458ce245f7bf16cc6207635673",
            "32f04fbc39444ee0a632771bc2143cd4",
            "c08de349936a44f58be2499f967703ef",
            "5888b355a7d84e4a9fff78ed10ad5c9a",
            "98fbd15d174945aaa0078db6d961467c",
            "b7bca42799ab4da88b5117e1f90a60b7",
            "d211aff112c24653b7158cb716de7e03",
            "34060ab8bf4643979e5bfea5f5458bde",
            "d20e89daa7b044979c3ed424f168d9dd",
            "157a09f9039a438e9025a6003c8e5a0f",
            "45a3cd3588f046eeb7187fe575793c38",
            "42d50b10d04d486cb691adae1d08c8dd",
            "63fe7b41e2814c90a796eee20e7ac75b",
            "5762bf7f5bef4851b84d5b1459c1484e",
            "7406d01e5c254c65905a2030d953fb53",
            "f8709c4a6edb46d7ba8df652ae48e7d3",
            "2f820a1074764c47a7831fc0daf3010c",
            "1a81a9d673e543f0bb0d251e81e68f73",
            "43699f6c83df4f7582313bbacf4146af",
            "d17c976445c7457eaaf798ffff2b626d",
            "e5e78a4ce6284a9390cef8399689c1ae",
            "7fe2a2aa5fc942c487f4966b86ab5873",
            "04424c2783e3464b9263c2c8fb53ec2d",
            "879543bbc5d34f64a4f2d1eca04783d7",
            "52602e86199c4d2ba136e5143dd348ef",
            "c342cdedf3e1445fac8fd144c39793d6",
            "79f07f3d64bb43aeb498431f5dd8b47c",
            "c751b961ab3b4a11861dc3e0f36cdce0",
            "b93cbe1ea44b48808c84f39848559d0e",
            "49489a6fb36c472f9aa43cd4d776a742",
            "80301ff639734a23b708431cde54d848",
            "fc8d7ea9ab514e738889ad1f80746052",
            "58e28dca713d41118bb0973549cd627c",
            "ff3d30e2107c4bfcafa98f71eafebcb3",
            "8d31be46a8d143a0b6396d32e022c10a",
            "59fe95b1a6964b87bbd615ec44928e62",
            "9efc1257253041699cab1243eec6616b",
            "3f3e186bb1d24d55b3683f5a03563a95",
            "4bc5439fd8cb400888b9b98c59275b6c",
            "8198770d6a9747bebd0949a78f6d39e1",
            "dcef5a7a159b40a2a01348d16238c3eb",
            "bf4b435433a7404faa1e64a07184423c",
            "271e55f38b1045c895ce60bd15878dac",
            "d4fc9b095bbe4be2aee52be0ca3c3667",
            "641972c7e19145d4aeacff8212f1589c",
            "40630f74b2754552a4185a2abcb133f2",
            "7cecd0641a354f82b9a9acb9ec6239ae",
            "203dd7ac113e414b90039ea87b6968d2",
            "f59843b1155848808406ae0a26f70e53",
            "949a6ece656140b889a5098ef5a07d05",
            "a3f9528b497c4b3daf40a955fa7e5f76",
            "78ef37de781e4537a94a97c62898106e",
            "09272daead254329b62ee2a4aad10ec3",
            "e700c53dc2f14647a049250bc6a10f64",
            "1fa11dd20a1c4a6a92b28c7ea7a42ae5",
            "3cccaad35d1440dba83ca4231f63bd2b",
            "e3ef7c2e88104651b1181841e8dc264a",
            "1fcaac8a4ea0498f8d5ae62634a07969",
            "041b6d4806224040a15142d533470b21",
            "3ad96c23f7034caf9a7711e0205af06c",
            "eccda7e378924f9b89e81fbe7390317d",
            "c893c7a7dcc844af81643b83012eef53",
            "62eaa398032740c29bfd8f538c6eea7d",
            "366500c808084e5890190f428e692d40",
            "de6d938811864cd4bbfdf11e211d9e81",
            "a6fdc0adf0c3440e8d8ff608db92eecc",
            "b399782bb31d45009e6c7409c65bb262",
            "fa02330588b34db59bad183384fc16dd",
            "3ddee26047764020b0452c0b07a08621",
            "9b58d9dcbafb4d8ba08643ef4dd77c4c",
            "b3848760189c44feae8dc193ce38573e",
            "704c3c06d0de4059a064b3ef2709aa69",
            "2a79efaf78924b1281ab4d9d888476ba",
            "4df7f5d140db4af491ba87c45ceeaf44",
            "f76d7d6f9af544e1ab10258c78dcc5f8",
            "8f16e694647847698e18799c2df638bf",
            "03a9b2639a9b43c59344ef30c207d5f8",
            "a1030b289677404eb152a53680535110",
            "294ff9fa7ade486cbf0d462bb4a22f23",
            "2ce2b9fd7cf748da8f78de3f9b783ca5",
            "271a7e7de9be4002adbff3ffd646cab6",
            "8f400485cf464dfab79409fe10c087b0",
            "fb8331d95a1343d6a4f15a1e9670d4a3",
            "49a091987f6d4666aab8741f54698567",
            "968d1335692544efbde066297bad54ac",
            "de52c60514904dc3b4d04480f2513456",
            "e03659d3acce486da094029eb8770593",
            "30478e4b34704ea6875d294ebf787a07",
            "53d44a5a00bb444386ae4281a2af048b",
            "51ac339f11ae4e83b2bde795e9eb6e4f",
            "dd4ad5857cbe4696b16536315090af77",
            "4af88c0391144831afd45825da03c5c4",
            "2122b2d2859540f2881cd3536bfcacb1",
            "258bcbccc7834c9ebd079c643d796581",
            "cdf9fd3c6f5b475c917376cc6c7493ea",
            "b2507faa77a54780af5ba4f3107e5ec8",
            "4e1bd81414fb4223acb184a83fe57e28",
            "9e348448972b4484a5bbeb07482f792d",
            "665e5f6e6385418e90712794c1e8ac02",
            "fed62f9cb70b4cacbf8282d2a7d2409f",
            "d3ea08e764994c339b6abb86c13998e8",
            "e8bd1b608df5460ebaddfa7d7c017e12",
            "08a98dbd8bad45c7b343c5db20889470",
            "d589b84ad04946b4b85b51666429cdfe",
            "11338b35877342bba15d41429732598c",
            "aaefd91b05ee4a879f4614283df1d12c",
            "70ae861e7582432483e0ddbc6d53d293",
            "d61f2f75047d4123a1f2c868e89b21ec",
            "8cb47cfc23b547c2b200bb591cdc85bc",
            "562b5512cc4e404cb7601ef732a8cbd0",
            "de02e1b618be48e180943a9949695236",
            "7a92898b6ef24b67b5f64662efe3ba1e",
            "f1e2409737934920a15b236531bad4fe",
            "60b62fcb72884d07b684ed46c92df9cc",
            "ad71548a78f44f08ab50a1ff70b43f36",
            "8a9d841f15524b9da930948879c39881",
            "df48f886e9c24c82bbd65b6b9bd05a39",
            "b8ccbc7a3ca446dba83e757e7f45988a",
            "25b64ca669b94920b7f79ad39c9d31f9",
            "4db7110014e44f7e9751e57522bf8afa",
            "f8c69f232af543b08a47ace463c9b30b",
            "6cd6b038dc1743e5a31901e814222a38",
            "bcf41b019c69426cb9b03b8663519149",
            "c02cb1f0e43248c7813cd589c4d41d12",
            "72826acd171648b59ae899b2d9c2deda",
            "5165a0c7cc9d4525ae80ab537b948dd1",
            "4d87b3f51ea141349f4eb0a7cb1aa2e3",
            "55dee655833649aa94ca4022c70aa674",
            "b1d2e47150c24432b27d956a39dce049",
            "0c5140b09e4d46be8acb69a5011b0f71",
            "dfa0fc11db3940bcbef1439d77bb61fc",
            "cbccd85c73cd43219cc701dafb63f37a",
            "e06458b072a6462ca3054af87e274e97",
            "cf0ebc52a09f41f7875c9d9b9c48adf6",
            "9811ac0949de42b1b0e67e75a118066a",
            "e1db6fdfefd44f929ddf212e1086234c",
            "5abd2a01aa0443e1bd0364c46636a4e0",
            "af740a0ca507430b91f11fed8c574f9c",
            "751e3ecb95e24c5f9f25a3a02cfe04ce",
            "ad2f1a22ddc64dae9caff6c32464f9fd",
            "4d07b4a0c1d149febb93b47c5f7d28ca",
            "fc48ed15485041a0862e587ad0057f79",
            "6eab24addb4a404ebb75c916edbcbee8",
            "f6fa24ef4fed4fcb8c59aef9d4ef44a8",
            "8d33f6b4d20b496fbb75c3fb036f1a04",
            "bd4e3bea38f54de68e8392492d000396",
            "97aaa319ef4f4ffd9033a6ec7420a815",
            "1b58be8382324a85ac9ac190f3037d9d",
            "7c6b819fc4ec4d03bda6b93a70f8d7ff",
            "dc8e3541a3c340ba9911ca441c26d4cc",
            "0f8023fa6a674d44819a1bc92745672e",
            "5a4f022110d046008fc4924a98888c88",
            "3e22e7f1e14249a19b1f2a70257fbb8d",
            "1a05640582604204b73031332c6d688e",
            "29b27b12421440fa9eaa66980a820c9d",
            "26a5db9ad1af4b97b667f819e1bac34d",
            "4662029283e4499e817b352720acf85a",
            "93c086f5e2f842f699a3cad63ea5d5a3",
            "40213ddb21cd4db1a35aa3ca5ef0a330",
            "fda9110775204c889477f437b24e7823",
            "64558e697f2e4663a530c344d5ffec1f",
            "13422ee135a44282b822350717b3c6c1",
            "684edc3c1aa74e18bc0e36bae9f77b1a",
            "469bc4ff8175448e8dee357c398114f3",
            "15372b4f966d41eca07312d3890c4018",
            "9fec14e370494485ba30156f56f6791d",
            "fecad48a097643e7bda236cdafa52108",
            "3fad8cb703714d00a30500e7cb5e0e6d",
            "cb9b684eaf0c45a389eecf3448fba9a0",
            "fa1a7b45c3f342a9b74d4c0db48c0ce9",
            "07a8c6e461ce4d63a39f849ab874480b",
            "fd9e9ab17f35485b8e5361eabe6b9ace",
            "63143a1860604df5aca30267268a594b",
            "dbc2566cd6f641509da7349e590092f6",
            "0a1f1dfad8f64b43aecfc49a9e34cb28",
            "f719373b320f412c8640459a08f51f56",
            "21a23cdfc75147038cb0fc62295ddeb4",
            "ec73e2c2dff34c559e6e8dbedf6a5962",
            "53d8cb70d7f4429b9b8180eaf42b659c",
            "781815754e214fe09afb9586a22e2c4d",
            "ef789db5962f45c193cee1a6a3c244e2",
            "c78a8048c5cb4670a677d18138093d3a",
            "e16c464cd7194443911d543000a441f0",
            "5cd4fa60fb504266b58d8f48a5fa3827",
            "46e174c5d4be4fa7a2da42b82d99c778",
            "9c6f949b261f4553ade597e1f445e27f",
            "c83a9b07c13f45f6be05202e629d6f72",
            "f174787c7dd541e8a102e9a2c580e49a",
            "7c94eab6cd264c36ba465d4806a691b1",
            "77fcefbfe9d743fda4ab0723d706d49c",
            "0229e9b93dbe417dab4e06eff8c0ebe8",
            "ab1c673641154c5dbf4c3c4ff8507b07",
            "50650c07e6bf4af6a2a9e0d0ed2d95ee",
            "fd15f5d024e94b6f89fec74f38f4024d",
            "dbe7ace0bd6d4733bfbd0390fa39f6b9",
            "fbc8066ecb734893a09b133401ab7ed8",
            "857bead2e46c4fa3bce0198771490c4d",
            "a579fb11bcd440919a60a810949c01a0",
            "5697db7502f34031940c552fdedea9c8",
            "d1d4070e39d6486da347a61ea1f9e7bd",
            "39217d8856ff492aa835bdaff9c817be",
            "325759625b134b46839dd7c3ec6bfb9c",
            "cd319a1f5a99476d8d540f84c6e58f45",
            "2ce8b96163f44b2aa62ef9b3ab84ff80",
            "e3b0946561ae41eab27462d7bb95063e",
            "b33102923cf14ad88da32d501b5d2a55",
            "a86a1a39e43645c2a8f87b3b3af9e894",
            "fe20fce9bdc34924a25c240e0401a1ad",
            "999586fe72ea4d9c82a958b8a1d18bce",
            "3a9323ccbe134ffeabb76d67902a7835",
            "53004a79941941a5a909d0fc5706831b",
            "b77791da31ea423786ef12927c1d8a9f",
            "6075a3e4a0b94c4fa75fad27c91a1639",
            "28a5eca4b169453d9bef14fd4e64fdb5",
            "fce1675c0f2149b5822223d0fee6c0e7",
            "74fc6bb9536f40ad99063f7ad58b444f",
            "1c7a57f390ae41af9c7a42c14ccf16ee",
            "19068c432b474a2dbbc71ca6c3bb743b",
            "61e594263a8b4311a4d0c469c40ac59d",
            "c09b0299166a4a9ab5b95288ca9ec7b5",
            "a35488a6e3f54a99b6f2a81336b6a743",
            "9ac4404ff5d54061b3e7ef81c6a9e75f",
            "bfc5c702d68341c0a0ee0b6245bb142d",
            "376bded62153452498c9752ec79ab19a",
            "1800c88d2fe6420c868922358b0362de",
            "ce17583a11ee41798d4ec7be74996e9d",
            "11f32b728d244423ac1c03748cb45f48",
            "08debe489d25453bbde870f80dc42aab",
            "9017ed7c17874c9faeca8541eb41db78",
            "1b7e756856c847bc950fa785326f9051",
            "3a5da726575c42028b2be6141d9bf464",
            "d0a0ae7b309645ada0c4b681f2b44930",
            "d927b36da62948d6bf20179664dcec04",
            "9c9f4725f90b40f8bf27ac778487ddc1",
            "d7b5c6176ddc4322bdb6480ea78ebc2f",
            "47797e7dffc8409fa9d3955fc0587e1b",
            "a827115c227d47088ed4c7385c5624ff",
            "efc99961c4f249eb8c670f9d22027115",
            "597f07dcea22473d833f00427f83919b",
            "0602bb51e82a4236a79466505fdeae74",
            "38c5fb76cd0a43fa9b127b3b67ecec4d",
            "2b4bf886461044048c66a51888649cd3",
            "e56fa9f64d6548c8ad57ebf7334d6c7a",
            "9959670a06014efb9d6515ef55ac4174",
            "e861cb676a1440a1907229d1d0d0e719",
            "a78c97a5e5ff4547a1a05ab498199ef2",
            "5006e99e2d5045cab654a2f83d969c2c",
            "7b17b72ffc3b42f2be6caa29b7ec69ff",
            "9ef121299ca940949399ce99eafda5dd",
            "82e341f2963d46f3b9b76acf5e516577",
            "0d3748f31d4d4022a98cf50e182571f9",
            "40e625c13a3348138e6c8631e8464a49",
            "5a6d3fcdff90406db9b093dbb62f2a53",
            "c1fa392bf8e544d9992bd5cf572bd8e3",
            "4de2c9d6970647cca9b95144802a0f98",
            "24cbcbfddf1f466dafc8bc2040ceb0e0",
            "5338d1279a7a420eb819cfd433436b84",
            "fda84973b1004fd6bf4e31aae33a7bf3",
            "8c62b69af6fc439eb404f2e7c3e79f82",
            "c424062205834cef8d4a855e4a7d0b82",
            "647bc5478e7341e795bae9298cefb1e5",
            "8d095ec64a0847fb8d6a0d61e12b1165",
            "814ed516a09e458ea1f091859f856659",
            "8a952923e48a4c788b913bc4bf3070be",
            "9231cc72c8104700ad35fc7e59cef1de",
            "45228d89b5624d14aa4cd9f8017af7bb",
            "0e9f72ed6c8a4ce5a6f2e0e2b99dd354",
            "a315347dad364aa395143744123706ae",
            "ecdb3b8c45914884b1a2691396dc9023",
            "bfe2096ac4d94211a90685f95b0b7352",
            "f8083895daa542e5872074d64e337b49",
            "ce8954ee284c46b1a3dd194367e3ea1a",
            "b97d9535d3c747238b9b4f232ac3fe9e",
            "07d251e8b33d4999ad4a331b42f446fb",
            "9d5397be597e487fb839ae93bc3dca87",
            "69c4b005a6454ed9b9042b54c53b7329",
            "a7981c44ab2d4c60833ea6cd3e7b28c9",
            "a87cc1bef9e845829db1b2b9df702eed",
            "e8f497ecdcd64cbe8f381052dbbf121e",
            "ea359360566c42389e848443f16d3afc",
            "9d264d41d6dd4351b4ae1aeec2f5652e",
            "3502053eb6f9447c99496941712b44bc",
            "a75f8263eea24dba81f0554a54fe5c28",
            "aa8f14bbe2a84037bf891709d29da71e",
            "7e7bc98989074bbc9a1f81235f16f430",
            "ebe5138a12754b00930b1488a0a0c06f",
            "b59a683eda594a848c412b8a1b967d19",
            "0a0e06910b5f4553b08f9d239d9f2a7d",
            "0ee3af4f574f4d5c89649b5d37baa198",
            "536863eedcb64b36bee2d00973d144e0",
            "24545a45bfd14159a0a558adeb60d576",
            "87cde240c8fb4751a2992d2d6596073f",
            "e926b8eea18f48c696ee02736132250a",
            "de7d5acfaee247dbbed056ea8dd5a84a",
            "f04e4c14ec674f74b1fa9587340df949",
            "48b356fd6f544e9f8b358dffab438d72",
            "50580abc685a475cb607e333787312c6",
            "4d173cbd8b994b768b20da366404b07d",
            "57567bb7d8a3406785ccc69497df0644",
            "80db6922eaa640f6ae72d21ebcf206d8",
            "1d03e371ba3a4f72bacff0d7e9528b58",
            "010df0da04674fcaa0edeaa2fad142f7",
            "62b4c060d5b4418db26601410810a57f",
            "676677c972db40ec9cdebd7ca56e914b",
            "c17519598851465cadb21c8ae9da0b26",
            "444a2e1da24d4537b6efcc3a780710b7",
            "2585ee6e04a84553b8f3e0de9ce79feb",
            "58ad5a206a95474493bbb0348e9e6b5c",
            "dac783db7a95402196eae360a3cde714",
            "1f6c16ca19df42e5a0473f44b0e86e16",
            "0b7b1b58610a42c7bf6fd71fc4c2305b",
            "b7cae775eb3341d78d0be4ae9eaffddb",
            "a98a2f5f858746d3808667f0418ddde6",
            "102f918c4c8c4f49b725391e43ac44ef",
            "19ac8e758bc74cd181560bb14151ac14",
            "4d0739e2a99c41e78edb773a5e94ade9",
            "aee8b0c980a449b9acacb613bca5dad6",
            "03bc0edde5da4adfabc9c9e49c0c30fc",
            "1ecf47aa887840989660c93a2ea7a7b2",
            "37aff4e02a624005937148cc56de353e",
            "391c6ffa1757462d87afd86f06377c83",
            "d9f1dd1578254fca8a4d6456e11f2fd0",
            "badcd01f25984e6e993eb433a0b9cfb5",
            "d0121bceae8d47118f39bff4c0c8fd4b",
            "415e9620b96841e098dda69d4565b18f",
            "d6bbbbd7672944f8af908f6128ba7a11",
            "efef6ff023ca4f579ea62b57ad582efe",
            "4c12c5164468490fb9e68d833fa731ce",
            "861b3930610a4ea182de939282ce332c",
            "af9bd042dea746a59e29c551d0009fa9",
            "8fac8c8a2b2140d2a6ea8434a9744a77",
            "553e6e3393fb441189304371d9973963",
            "1c5fb583b02042e4baaf07ccdf147e5e",
            "894fc918d2e4466aabd7f7bef9c03c70",
            "535224fb4c1b49ac9ff323c64e9e7e1d",
            "3f2b29e98cf147b2ad8a7b55c4ea0e24",
            "905d2faa3c00477b947cfa29f5902485",
            "cb6ef8d5654e43559b8256a751f4b864",
            "c8031c9c2887413b8403f981d64b3929",
            "1b74f86ca3c1461cb5ef4cba7d6310f2",
            "1ff5cc4d4d0b4047a594e49e420a62a1",
            "5629d71fa196455f8a8610b14f086ac9",
            "4875fc4995d54890aa9d13e9ff71b685",
            "6f11969d32b942e882ac7f4a9051ac1c",
            "8d963bc776bb4859a315704c297606b2",
            "de5244ce0701456291b719c4970975c7",
            "ce1a7c1eb827448cb4d495a34547725c",
            "6bc2389c45994270bcd6527153514796",
            "0ba3d8ff5a1b430da3a2204fe18d5f22",
            "36e8fbcc580947d3b59dac8a3ee3c157",
            "1c9db555d3614dc5b4dffa6aac379b36",
            "b723889d7e724ebda41c3ae2f397755a",
            "a9345526ddb84d8ba6c04f8fd6d1dac2",
            "14c77ba0858d4c30836c4f1085a60a8e",
            "794353fed5f341f381d2ec0d42b38bf6",
            "f87c8d4400de4ad9adc0db7964237991",
            "115d8a3dacf64e88aca69a9f16240dd1",
            "9ff908c3c9724c17a676cf96a59d4cf2",
            "2721c964e63944bfb2b2dc5dd57b5a7b",
            "4ef10a204fcf4a1b8909c5ede480fa58",
            "c317b4d767304750a08a6321fd9c64a8",
            "7d939da7fcb4439ab5c9a27edf41103c",
            "ca55369244474ce589532ac98c87eb4f",
            "c2b23d27a65147a0873ed4e3573f608e",
            "ceb00049ddee43a8a43e5d48a8d7e9ec",
            "bddedfea089a46c9bb05699ab29a4507",
            "904dc79b553b4665ba412464bc293e3b",
            "16afe2eefcb54dcab77122082c0d4118",
            "84e167f93a7a4344b5cd6ee3cdbf854b",
            "f98c5e17e76c4146a6ba50761df90065",
            "8ead37aea4c848c0b4694e6adeb67842",
            "d2a849f6ea124e21abe86c48f66f1bfb",
            "b1477925090c461e8a461d4ae8969ed4",
            "c08f9c876334426e86a0cb7cc98c3cf3",
            "c0eee97eecb74b508f6eb2d6dddb828b",
            "0e091950abe4424a80afa392399c6725",
            "5f8aa671a6124958af640309b9516a0e",
            "311b38b7735e46238bd8430732757b0d",
            "ae96413cd71b418a8f2dab4e0daa7582",
            "a190ed1d03184acfbec46c96e3aca3bc",
            "aaf9be85fa06429b906214751b5d5893",
            "a33288bc686e47048c5a1b9b2d20c522",
            "663ccca58c6043089c089386f1900227",
            "f66b7c97cf5f40d0b05c4175c7e8be98",
            "b32f18a1551046fbba5ce2d3af3cc90d",
            "36721aeee38943ddbf2b2feef3a7d295",
            "796d93779bd54eecbf714508e79e5888",
            "9d3d25a20add4db7aac9bdf29d5cc7cf",
            "5ec106cc1141489782a89a777dc09a3c",
            "17f03b07138f45d39faed0b11f7795b1",
            "f7af27305a6a47158d1f6461bd541d84",
            "dab11e3e328b43c89b57008d03ecf249",
            "c58fd4172f18431fbf794a147761dfa5",
            "fffbfdf870864fa48f47911ac279bf33",
            "6289970ad6fe4095af5e2a6b32cd6d9f",
            "b6200377547349a99042c97679fac6f3",
            "93d8d4b8fecf4ef0be647b4db0077639",
            "3922a6a899cf4bbea3d425a476981fb9",
            "d8768256bd24478faad7ea8093d32718",
            "81c45b304ed945f5b797408157d0c6f4",
            "77f7c2c56d3d4b849c7fc437f88a1b09",
            "b1a1b0fa367740dfa01de9ed3679139d",
            "58c316c14b7f4608817cd8ee3068d9c0",
            "8d7d134acc5340eb9ffdbb0b2d6eeb51",
            "138ced30796b4c7dbc660fb4098dc52e",
            "a61e5da3978840f9a6722d3f1018301a",
            "e7c25f60255f4632ae7d784a648f8e1e",
            "bba021c27b434878b6335eb5cdf670bf",
            "42334ee434f54c5c92327d28cd464e70",
            "e66dd4e276c34d7da8a8abbb8545083a",
            "1745c4510e0c4a31bb1a629512449872",
            "390b3b7e87a34bfbb22b41dba190445b",
            "509d5fad444441acadcc331d77136f03",
            "8a4dd9021fa145d7808b8506f5c0612f",
            "999f75d2365846438364a56c1aba8884",
            "4a0517507ed2466d9862c522a3884b57",
            "e80a82c1c64743689179571a6e1aa6bd",
            "d8d4a9510af34c00a646d0731b8fe789",
            "d43daa77e80642d1a58da1d894e9073e",
            "457e431dfe0847f4b9bc2c7e4cb0237f",
            "20c0a46c6c2c487798dbaf8050c0dc0f",
            "0f194d43645746d5bb30cca8e1500f58",
            "35e6d17833864bca8e0112b85688a966",
            "f40ef6bdc8e549fba0bf6ceef531e04a",
            "b7c30a23e84e45c6956bf999b9f1de4c",
            "e6484dfbbfa84d79844b39083e782fbb",
            "6f67bb10898c4bd48e23a3dcf6d4eba6",
            "a8018f8b89844349899eb8aa19722a69",
            "7185fa9658fa48468fd9a2d4b7bc068e",
            "b30c85cdac47486799f26ab114586d32",
            "7c8047362c00475ca683db5ff8eb5857",
            "fb2e13e83f704818af975f6b1711e097",
            "cdb7ca906fcb4e6286e38ee77c4299ad",
            "2b2a12cefbee4b0da3f73dd82af8e18f",
            "16d91320c15e4c33bfea99d9db6d2c99",
            "f48ed5bf503846c396339594d0cdb1d9",
            "8c488e360798466c823f66d1952e0005",
            "485a8fd87ffc46a59889075197c31766",
            "6c47c59142cc428e8b631f7cf8053991",
            "74e5331680b543dc8c5f9d71d67a034c",
            "d425d0eccaab491ea818996f87d30450",
            "3021e8b82bcc47c7b3318feeb6bc77b8",
            "1f8d5598787842f080c2981a65b28faf",
            "fb8a9ca9af4c4c7fa8dbba60293e02fe",
            "aa7915849b0c47d0b4323cee755a74a5",
            "fd608ee08abf48a297b511636647c886",
            "7607bc51879d4e299d631daad27cd18b",
            "f63ed9858f4843e39e33a72585df6a81",
            "5ace497851914a3d95aa4693d7c28c92",
            "5a6f0848c7b545d698102b015013eb60",
            "9bb351c67ffa4dbe9b7b9f845cd819ba",
            "b6d399ef482d4e809afbce8745d013d0",
            "da6abd840a754ae4a709ea53dbc4abd1",
            "e987355031194eecae739ca7fcee8eb6",
            "744ae1b66a314bb8a34182723289eddc",
            "620bdf1a95904a059c7eb9280d3e45a7",
            "21d5f42938c347faa0640218d9c90640",
            "e27734aedf444c1498163b2458b0a7c2",
            "dc23a3d95c9c4a54889a52b39d950472",
            "52068f52e7da4102a9440836b3695d62",
            "c2e8e735acbe43e8ac28934c1ca0240d",
            "5a9f0a8fd74d45359ea88b60f28832ce",
            "17d49bc804cd43e18971d3d596145908",
            "a527117598944d2a95fafdcad469f2d7",
            "4b7ef08af9a14051a34898e7ee1a407d",
            "b6f341f161db42ae99fbf603632d21f6",
            "f41d9c1c347e47aa8c96c73260b27ddd",
            "5c616bc322234a8c981f243962caf18a",
            "74f0b4b08f6142cab05191f923bffb6b",
            "e32e5bf955764e05a33bc30a9acb3332",
            "86b84fcf8e854ea9b62cc786062bbb01",
            "76e2da0ab6ec46d09f35393f5b855997",
            "a84271707f994efa92438606489baf05",
            "f147bce418454c06bc4e12fe94383f2e",
            "64499cab47f043a09d851851ffbe937d",
            "15fd1db1d2fe487c93ba5bce6607e711",
            "b1127e64a2884b79abe54d9fb65719dd",
            "5c56f6dadf394553b581e5ae5f35f9b1",
            "66a97016b6ee4220807d0401b7b795e0",
            "6843cfb6f85a477e85a1e926d36c2380",
            "f3cc44a780c34872955621971abf724f",
            "e0072bb09b514812a51d2bb3fb2da6d0",
            "eeeda769872044698676fa1a0704beae",
            "7db990e88e3543269797c8f08b022881",
            "5854143527454288bea0a09f2a567708",
            "559767f96b72461e95b3f1ba5fe70ec5",
            "5be886f16b374245968aac8b56ab4c18",
            "3e82d747698a4e87b8154c78282049d8",
            "c2188c7b9ca74ae5890efd673632be3f",
            "c2cedbf66bd7413da9a95ce082034795",
            "9ad1398516b8448abbb62133287c3c68",
            "2725a7597ff840369fc2e0ac36473a26",
            "4e4a6a02c5f44592992dbb28da3884fb",
            "63162df1ce6c4e089e150baffa72f44b",
            "53424a8946c44d95bcb340a1387e1021",
            "b7de05b88c5e4cb89e79c687f5c2106f",
            "013b4ff6297f47fd869c5ef717b7b017",
            "766854d152de44ba853e98d2a513cdf1",
            "81d2a72d0c634f4990864c257dd5bbfe",
            "76960cd91059443790facc31dcab1c7a",
            "dadcbc89f31b41f5862c796a964c54db",
            "2317e8efdcf74bd98bd58e5d155544d5",
            "3eaeaea5db754683b2a3dcbaa572e38d",
            "8b369f29d72642aea94c22ad45b9f17e",
            "cb829bc7194949c4b4d24d939e55f02b",
            "81e1c6a90d394bffae8b54f8a44a4564",
            "1d02d316bd4f44d783e69e240450b7f5",
            "226668389f7844ac805115bd1f8994a3",
            "62ebf34d31b1468ca5b12a643c969fb1",
            "f8d4ba8193a44b438f2486446b2593cd",
            "ad564a92233e42608e19c99bcd20e795",
            "d87ac925ed5b4a55865fd0abd3d9f61c",
            "5f75cc91dbaa40fa96e376eafc0e4a95",
            "2b2ede26fe854f49900b0125c1b31cde",
            "a9e8bbe73ae646c08ad1a1513705e255",
            "1b5396dc97bd450e9b261254847475d7",
            "3699d8602d6a4a7abce8c995346ca124",
            "0c23ac96357944b5ab02819c6a91126e",
            "a7773f21a43740b1b78e7e1b3308e357",
            "cf7a756941d2484b942b432553c83c0f",
            "89bb46943c72412eb13b4af3a84d81ef",
            "0a5344c2e82d4c848f2f1c92da9e201c",
            "4eccf0e581cc474bbb2946c68365df6f",
            "8f7035cd070049369175fb7a04623d6a",
            "6c82ed70c31446e8aafd75f8370c5f5d",
            "7978a5a0e1624fb6bf8e8bbfe96d3060",
            "853a669cad8d471c9682d0083566bdaa",
            "55d4803e40c84846a398b21e77cf5963",
            "a253a7c74a754236b8cc2b4e8bd88d18",
            "23bfa5e6209e4e67b3d3fff4151a1662",
            "90858457152c4848b1417276b1f006ea",
            "5731bb7b21bc4a5e824cbe50be333ec0",
            "38fbccfa7c74449692b8b54b554bbd84",
            "ac2e553871c94e16b81a11f555318070",
            "37a3bcaf48094bc6a52c05555a91499c",
            "8d8b0ca2d4594fc5b99688f7635db4c5",
            "6474a53b03a44dacafeb6d9137108dbe",
            "1080dc89b33947ef86aa8aa5c7b460b7",
            "3ad0289b8d104133bb7da601e3b11f91",
            "b279b32fb63e4e95892685999b8b1ee1",
            "0e4e7b910f4e468b82b749a734813c6e",
            "cead6caa597b4da9a13b3234916bdc11",
            "cea930a25a734f379c3aef87ed672c81",
            "8375c2b4f6ef471293b652fb48420f59",
            "56d71bf02c9148e884ab126cb7b189e5",
            "1903656dd3824480817c75e4ee301ec0",
            "2eba24b21745433a8a7a6ed4fd831fec",
            "50e2ce4a39cf4b2babab172c86c76081",
            "7846137eb3044958b799eb58e97ec226",
            "af533f6a41e147438650ea9706f78d1a",
            "a6468dddfd964ad5a924b7712f867180",
            "8a8105545a674ec78125908789c80390",
            "527734caa2dd4526b4a5bde60c3423c8",
            "c82e51b4d8a94fcbaf0b32471e010ae6",
            "ca87aad1e9694e2ea012316b19abd245",
            "18eac98305594bc98b2dfc0515fd4a6f",
            "a0cb4d850bdf4e9486a4e92c9bc1ffcc",
            "70b53758dd9f44efb271b45f05784732",
            "42a9f41ce53446d1912c4fe63e69b612",
            "ee39e3d5870c4086ac2271ee83cad5a6",
            "6544650698cc4538b3f76fc16de57b17",
            "52af142b856d4533b47540c068cef6e5",
            "4ca712711e20473dbda52ee5ef6a187b",
            "dcee84b5a6ed4b97ad0f849b6a1ef4d6",
            "42f4eea808ba46afa9e06509e92cdcbd",
            "fa042ba24ab54ac1a30d7ee60e5128ae",
            "bb3d5a66b30a4e6e80b8b9fb81309cb2",
            "c4559c6f814f45908e79ef88aedbcd7a",
            "fd328b9d0f524c02959ee345b10b1d04",
            "ba59be0be8d44120bda11a2c1f325f6b",
            "c99fee90dee84ff6bd4e604f419f9dd0",
            "57a5b5420af24799a685fe354f2bb68e",
            "29428d08a9d646cd86acfec48b8279f8",
            "8c0837d685e440c6bbbc9a5c3c013bc3",
            "6f2b96eff50f4625950e485216f087a4",
            "12a61255218d430c9af28f6102067c37",
            "220cc9894604432c9be044e0f4ab5d4a",
            "933b17c0826f4986bcbc24899124f5eb",
            "6b9407d49bb345c0a213739ac5da0e4a",
            "784b64c516a34b6f8be52d2595c24991",
            "13eb5d18545440969b8bb306f2e1534d",
            "f245667698be4bc4874082b8179eb767",
            "e55957169c7f418ba3b0a0b9238cfe8f",
            "f93989464cf64a2f822c5a9c9c22a44f",
            "bb9ba8d4bfd64a81b17be045337bb0ba",
            "80ee26ecd8164d9389002870ec6b38e4",
            "48b91cc638e047fc869e83e077b7d206",
            "0d689d09eff7446683725b172aed2ed6",
            "84ad24cdb68f4555845c20aa1676074d",
            "74a1d6f98f804e518d03f5e46b3d585b",
            "88be05f69f5b4f1eb371fa9d3af5e70e",
            "394c073c797f4397a6daf1964bc699cf",
            "d9f9a56ec3444cdbb76c0234050088cb",
            "ea2aceaa92564b958b6565c0ee625ef2",
            "fc03443944a34b0c9d89b39ecf1ff8f4",
            "f38e77a3d8864571ae33384696f99898",
            "51c2116fb1074a35bde922029741d381",
            "32e3dd3f8b414402bec6edfdc6038a24",
            "e461d54e59c34e06aae77d3e8a1a663a",
            "86ac5dd08c6c45779733448ad097babc",
            "115f9949661d45ab93e9c681efcbe02d",
            "98b36a298cab4df88533678e436b538f",
            "ef615acc4a9e48b78d29fb09a573cc5b",
            "a1e30ea5ad5141fab3842300fc1f479e",
            "f0dea061e22d45d5b08b22b775d861c8",
            "b1bac57f325d46bbbef0e721e7a667a1",
            "1e1987fa3ca24d6fb873116c2e53adab",
            "22fa2657d7724f9590dc8816fa2d2574",
            "18d2dc04429f44fcb2b9b68e4f5f3c84",
            "9b4859624f2c4330a7e24b54e2bd227c",
            "2882b357fcc84b65abbbc56323b8524a",
            "789f8659b8fa4ed59ecab74d0db4269b",
            "9ab223f316e649bea762edc9d8f96a88",
            "7145a25640544a8995c6ee51fbf0a5dd",
            "f5388b7d93734c98b9039744fe5ada95",
            "c5a34e97f2344ae8b845cdb5b99b6d7f",
            "afb0337fb2f34c6c98e7e88191e5965a",
            "b079b98aa0d7412ba2d240d861c797ea",
            "c8c32da8bf9241d1aeb00893519c14ea",
            "2e40b85fdde446b39b0ce80d0356e4c6",
            "8c5ee149338344a983f32f498cce148b",
            "042d3b6cad1844268748df55aef4d7f4",
            "1083b3e7fcac4defad14e8b32a03846c",
            "978a63fecf7d48c28922d852242d2e1c",
            "22cfe2fae70a468ca90d995ac23f307d",
            "5fb6d391fdad44feacce22cefa34146a",
            "110a991f6d7e459987acdbcf398d4146",
            "f1ae24da13a348f28ef4606a5e63c9cf",
            "3a60647798b24c7ca60dccd86c2c05e8",
            "dcb893ef4b8a44ad9b7e7a237a434187",
            "ffa8a2a736e347269684da956a428068",
            "b55c0887393148f08e0670bb97cf7591",
            "4790d2d925d545ffbd247d0f16350d63",
            "cc09bb0590374a92b84a14d4ddcd0043",
            "47d816caccfd44e3a01ae6edb543d19d",
            "cac9d77e80f24a5087645ef23fb37a5a",
            "75ed9afc57ac45b598ae9b3f1c81f2aa",
            "7e1d7f8c05bb4e32b17bc1ff99295827",
            "1222741af5134a7b8859e20a3f98a3ac",
            "1c14c5e8fda4484cb0b1c39db830aab8",
            "6aae738291964c688c013c9d89cb7332",
            "d8c109e6f088451594e9653b183678dc",
            "cc357997305946bf9e2008ae88e2ef69",
            "110212f874cc4659b03261cafab78499",
            "a05c72906f3446d5ac300fba795f2771",
            "7f0eb0f58b104a888c3d632dd363e95e",
            "ee59693f504d492db2241d2e92c986c2",
            "720f0ca5b977406395cc6f25af9bc4b8",
            "8a1de6c760534b8abeb06e4436f2315e",
            "5429c76981f24f669bc98a3289348805",
            "7b29f0cae6e74d7db97a3b87dab0a530",
            "d53b65c119b24d8abdda1b0a6c1088b0",
            "32c6cbe518134b5cbbe1adc043fc40d4",
            "e15013f2fd1b4575bef3b505850fc201",
            "cecd2ab264994aa8b2903a82b025f4a7",
            "15cac20872d748a78aabb996d01569de",
            "5a240031f2764b6fb898f2c6b53e979c",
            "89580175467746fcb6e22ccaa13ccf75",
            "1e016ca87886419da45b6dcdc3cd6e20",
            "b266343bd4004a198573c81b44d479ba",
            "37d1d923156044a398b5224382860303",
            "113f21bade1049ae85bca3f3211f6a57",
            "6226a295842140109289867a62a79cb2",
            "0f9fa37b287b41888fa73e0dfa88e90d",
            "471d864b3ae94a2a87ffc7a990862a69",
            "e2aa8d67801846fd87d97a5d7cd704df",
            "8d9e22ebae404222bdfde7d35b9cb107",
            "8165e9c8c21e4261ac7597348b53caa2",
            "77149c96e6a04dc2a11a0e155cd2cd27",
            "0c25269bfb10412d9376345ac944969f",
            "0941b30515704452bacaee0409e9a6cc",
            "c89dea58ca674fcf9b859501fbdc7fc9",
            "648cf2fe30cd45608d74e10a31ef139c",
            "527269ce6bd4407082bdf71f27b61b88",
            "9f57f2343ae64277b1680b2217f4bd03",
            "9fe2a124fdf54da98cceab9311e5bc4b",
            "8b178f42e60148d4a97dc8b827761d88",
            "fdf74d936c9b49bf99ff038165675cbf",
            "0e54c8bc2f5d4d6e9545ac8f1683c443",
            "e7200106ee7b4023aa7c94f776c31387",
            "e73c3385dc71480b843dbce7c59caae3",
            "4ae2957ee4df4783be9ec1bcb5c770c5",
            "16ae599cb5ef468291648b31e063800d",
            "2ea8701022964c319d6131e38b1fbdb8",
            "e5db62b039624a8ea251cd8b1e60c751",
            "026135d1c1b44ec2976d612e76bcbcd0",
            "ca30e8c91004473ba67582aeb3451a22",
            "3e04f556c4d24a899725ab163c85d591",
            "a9580d1bf0cb4b42b4f30b9d7df6edfe",
            "5c39541cb25c4850980ba99a8d8faeb7",
            "af71a504f46e44089df73539945bf406",
            "849d3502357a4b84909e575a7eab751d",
            "c24f9fa454954aa18b4ba9c21673d95c",
            "d51ba97bb3a24e14a948b513eef3c38f",
            "a4a2809b18014196999805656e1c2386",
            "94fbc52949804ea282641110438caf62",
            "965d80b640f245339e45526482953534",
            "36ebd96ca0864310b9748a895effcd99",
            "6a694496f8cb46a6b2326008e2d41ea0",
            "d52c4ecd0bae4f9b9715c12d5be4537f",
            "a9b8b41db0c2414296be7ceed26dd628",
            "cddb0b2bc4bc4f208187b86da809a83b",
            "b24e366152714565ad1172252ebc6a2d",
            "2cf78cfe01304dacb390094bf52becc8",
            "4884248f122543e082c3541793322802",
            "455c905a208c4b999f69a7a88cd0a7bf",
            "68dc8e94bc164e4ab359806bf03005c0",
            "deb0881b9c434fe89f783ef8269aad0a",
            "9377236201764de6b602e433b5682cb4",
            "4ff62b1c90114ab6bf16cccc4707ddbd",
            "f7a4ed38077c45a1a51db3e5586bdced",
            "51cb39759b8845fba073fffc6666b19f",
            "09c23d326ce5470aa73a4a9b37242e20",
            "0717a92a6d80411580f66dd935a5e078",
            "d091a31ebba1430e8137dbe832f01807",
            "af8d9c0cbf7e4b15a46366c79f671291",
            "f54af0ce0a5c4585afa4b6ae8d617f2d",
            "d82505893e3042ac8a26ebcb572d56c3",
            "2a7bc099c72d4b4c9f2c155943cd1c3d",
            "3f5fa870031a4e0a9ac3d77e39fae415",
            "a27bd63322914472b895b297f0119bbf",
            "4ea388cdc50c4ab4a72f210888976e0a",
            "c7724bb0700b4c18bb25d87c37c06325",
            "88e3d7a4c2c941668fc93eeda5a1e240",
            "03536bed5710470b87674f9efd808ddf",
            "1b6b8604885e484eb26e60099ecf5fe0",
            "f5e0c185bf4d4569935b9d09c0e55fd8",
            "8b8b177e243642e98cc384a7621d3489",
            "2c8eb82d5d7140e980e32792055d59a3",
            "def0634eb253407d83dcbb3d5ecb742a"
          ]
        },
        "id": "FK-bjtr0oWkI",
        "outputId": "b10afeb0-8bfb-46d8-a0e3-84a0da135923"
      },
      "execution_count": 23,
      "outputs": [
        {
          "output_type": "stream",
          "name": "stdout",
          "text": [
            "forall[x1, x2]((!(P_same_loc(x1, x2)) & P_same_value(x1, x2)) implies (!(P_same_row(x1, x2)) & !(P_same_col(x1, x2)) & !(P_same_block(x1, x2))))\n",
            "Ungrounded Symbols:\n",
            "  x1 -> variable\n",
            "  x2 -> variable\n",
            "Grounded Symbols:\n",
            "  P_same_block -> block_similarity[n/a]\n",
            "  P_same_col -> col_similarity[n/a]\n",
            "  P_same_loc -> loc_similarity[n/a]\n",
            "  P_same_row -> row_similarity[n/a]\n",
            "  P_same_value -> vector_similarity[n/a]\n",
            "  logical_not -> complementation[1 - x]*, \n",
            "  wrapper -> identity[x]*, \n",
            "  implies -> reichenbach[1 - x1 + x1 * x2]*, lukasiewicz[min(1, 1 - x1 + x2)], godel[1 if x1 <= x2 else x2], goguen[1 if x1 <=x2 else x2 / x1], kleene_dienes[max(1 - x1, x2)]\n",
            "  logical_and -> goguen[x1 * x2]*, lukasiewicz[max(0, x1 + x2 - 1)], godel[min(x1, x2)]\n",
            "  forall -> power_mean[1 - mean((1 - xi) ** p) ** (1 / p), 1 hyper-arg, 0 empty]*, lukasiewicz[max(0, sum(xi) - n + 1)], godel[min(xi)], goguen[prod(xi)]\n",
            "Footnotes:\n",
            "  * -> current grounding\n"
          ]
        },
        {
          "output_type": "display_data",
          "data": {
            "text/plain": [
              "Epoch 0/400:   0%|          | 0/3 [00:00<?, ?it/s]"
            ],
            "application/vnd.jupyter.widget-view+json": {
              "version_major": 2,
              "version_minor": 0,
              "model_id": "0f82c8fdb7664064828d0103070cb98e"
            }
          },
          "metadata": {}
        },
        {
          "output_type": "display_data",
          "data": {
            "text/plain": [
              "Epoch 1/400:   0%|          | 0/3 [00:00<?, ?it/s]"
            ],
            "application/vnd.jupyter.widget-view+json": {
              "version_major": 2,
              "version_minor": 0,
              "model_id": "43a7a602ad50444e90949a18debf5378"
            }
          },
          "metadata": {}
        },
        {
          "output_type": "display_data",
          "data": {
            "text/plain": [
              "Epoch 2/400:   0%|          | 0/3 [00:00<?, ?it/s]"
            ],
            "application/vnd.jupyter.widget-view+json": {
              "version_major": 2,
              "version_minor": 0,
              "model_id": "077f7358e6ca4f9eb7fd62cff34b7049"
            }
          },
          "metadata": {}
        },
        {
          "output_type": "display_data",
          "data": {
            "text/plain": [
              "Epoch 3/400:   0%|          | 0/3 [00:00<?, ?it/s]"
            ],
            "application/vnd.jupyter.widget-view+json": {
              "version_major": 2,
              "version_minor": 0,
              "model_id": "6bf7a04561e14a09b6ad31bdc0e61ca3"
            }
          },
          "metadata": {}
        },
        {
          "output_type": "display_data",
          "data": {
            "text/plain": [
              "Epoch 4/400:   0%|          | 0/3 [00:00<?, ?it/s]"
            ],
            "application/vnd.jupyter.widget-view+json": {
              "version_major": 2,
              "version_minor": 0,
              "model_id": "7d466dd6e17748c0a16827f9e6627f55"
            }
          },
          "metadata": {}
        },
        {
          "output_type": "display_data",
          "data": {
            "text/plain": [
              "Epoch 5/400:   0%|          | 0/3 [00:00<?, ?it/s]"
            ],
            "application/vnd.jupyter.widget-view+json": {
              "version_major": 2,
              "version_minor": 0,
              "model_id": "db1554a47a0f494f8d0784ecde95f432"
            }
          },
          "metadata": {}
        },
        {
          "output_type": "display_data",
          "data": {
            "text/plain": [
              "Epoch 6/400:   0%|          | 0/3 [00:00<?, ?it/s]"
            ],
            "application/vnd.jupyter.widget-view+json": {
              "version_major": 2,
              "version_minor": 0,
              "model_id": "2721625dc59c4e9eb6f41ce9f714997b"
            }
          },
          "metadata": {}
        },
        {
          "output_type": "display_data",
          "data": {
            "text/plain": [
              "Epoch 7/400:   0%|          | 0/3 [00:00<?, ?it/s]"
            ],
            "application/vnd.jupyter.widget-view+json": {
              "version_major": 2,
              "version_minor": 0,
              "model_id": "bde93162b17f483d9003daf32a5dc09c"
            }
          },
          "metadata": {}
        },
        {
          "output_type": "display_data",
          "data": {
            "text/plain": [
              "Epoch 8/400:   0%|          | 0/3 [00:00<?, ?it/s]"
            ],
            "application/vnd.jupyter.widget-view+json": {
              "version_major": 2,
              "version_minor": 0,
              "model_id": "8c34185350494500b9058af769608585"
            }
          },
          "metadata": {}
        },
        {
          "output_type": "display_data",
          "data": {
            "text/plain": [
              "Epoch 9/400:   0%|          | 0/3 [00:00<?, ?it/s]"
            ],
            "application/vnd.jupyter.widget-view+json": {
              "version_major": 2,
              "version_minor": 0,
              "model_id": "9879db8eeac447329dd71e229c4c1a69"
            }
          },
          "metadata": {}
        },
        {
          "output_type": "display_data",
          "data": {
            "text/plain": [
              "Epoch 10/400:   0%|          | 0/3 [00:00<?, ?it/s]"
            ],
            "application/vnd.jupyter.widget-view+json": {
              "version_major": 2,
              "version_minor": 0,
              "model_id": "508d26fb5dd542188265ee60732b7f31"
            }
          },
          "metadata": {}
        },
        {
          "output_type": "display_data",
          "data": {
            "text/plain": [
              "Epoch 11/400:   0%|          | 0/3 [00:00<?, ?it/s]"
            ],
            "application/vnd.jupyter.widget-view+json": {
              "version_major": 2,
              "version_minor": 0,
              "model_id": "ba22ab3b4beb499f8398858894fc3170"
            }
          },
          "metadata": {}
        },
        {
          "output_type": "display_data",
          "data": {
            "text/plain": [
              "Epoch 12/400:   0%|          | 0/3 [00:00<?, ?it/s]"
            ],
            "application/vnd.jupyter.widget-view+json": {
              "version_major": 2,
              "version_minor": 0,
              "model_id": "891c8c6e1744490d8fa093460723d653"
            }
          },
          "metadata": {}
        },
        {
          "output_type": "display_data",
          "data": {
            "text/plain": [
              "Epoch 13/400:   0%|          | 0/3 [00:00<?, ?it/s]"
            ],
            "application/vnd.jupyter.widget-view+json": {
              "version_major": 2,
              "version_minor": 0,
              "model_id": "56694494223749259a474bb649990b6b"
            }
          },
          "metadata": {}
        },
        {
          "output_type": "display_data",
          "data": {
            "text/plain": [
              "Epoch 14/400:   0%|          | 0/3 [00:00<?, ?it/s]"
            ],
            "application/vnd.jupyter.widget-view+json": {
              "version_major": 2,
              "version_minor": 0,
              "model_id": "a858a15aa26b4ec2aa9c4f96b7b837ad"
            }
          },
          "metadata": {}
        },
        {
          "output_type": "display_data",
          "data": {
            "text/plain": [
              "Epoch 15/400:   0%|          | 0/3 [00:00<?, ?it/s]"
            ],
            "application/vnd.jupyter.widget-view+json": {
              "version_major": 2,
              "version_minor": 0,
              "model_id": "6f34c16f668d462daace8e1e024d8926"
            }
          },
          "metadata": {}
        },
        {
          "output_type": "display_data",
          "data": {
            "text/plain": [
              "Epoch 16/400:   0%|          | 0/3 [00:00<?, ?it/s]"
            ],
            "application/vnd.jupyter.widget-view+json": {
              "version_major": 2,
              "version_minor": 0,
              "model_id": "44526ae4d5f14b4a9b8c2425a422cc82"
            }
          },
          "metadata": {}
        },
        {
          "output_type": "display_data",
          "data": {
            "text/plain": [
              "Epoch 17/400:   0%|          | 0/3 [00:00<?, ?it/s]"
            ],
            "application/vnd.jupyter.widget-view+json": {
              "version_major": 2,
              "version_minor": 0,
              "model_id": "14f01148949b4505be98a29d7e96c934"
            }
          },
          "metadata": {}
        },
        {
          "output_type": "display_data",
          "data": {
            "text/plain": [
              "Epoch 18/400:   0%|          | 0/3 [00:00<?, ?it/s]"
            ],
            "application/vnd.jupyter.widget-view+json": {
              "version_major": 2,
              "version_minor": 0,
              "model_id": "62c344017d304863adb06a3bb71e8905"
            }
          },
          "metadata": {}
        },
        {
          "output_type": "display_data",
          "data": {
            "text/plain": [
              "Epoch 19/400:   0%|          | 0/3 [00:00<?, ?it/s]"
            ],
            "application/vnd.jupyter.widget-view+json": {
              "version_major": 2,
              "version_minor": 0,
              "model_id": "d13f9601965f4351b9d56f2c6af0a5bc"
            }
          },
          "metadata": {}
        },
        {
          "output_type": "display_data",
          "data": {
            "text/plain": [
              "Epoch 20/400:   0%|          | 0/3 [00:00<?, ?it/s]"
            ],
            "application/vnd.jupyter.widget-view+json": {
              "version_major": 2,
              "version_minor": 0,
              "model_id": "eb92b3e1293e42d0bfdf5c20cdd77ef4"
            }
          },
          "metadata": {}
        },
        {
          "output_type": "display_data",
          "data": {
            "text/plain": [
              "Epoch 21/400:   0%|          | 0/3 [00:00<?, ?it/s]"
            ],
            "application/vnd.jupyter.widget-view+json": {
              "version_major": 2,
              "version_minor": 0,
              "model_id": "61202c93de89461f8cf267ca7db77504"
            }
          },
          "metadata": {}
        },
        {
          "output_type": "display_data",
          "data": {
            "text/plain": [
              "Epoch 22/400:   0%|          | 0/3 [00:00<?, ?it/s]"
            ],
            "application/vnd.jupyter.widget-view+json": {
              "version_major": 2,
              "version_minor": 0,
              "model_id": "8c4ec6fd15a643e49dfbed3f8b9ce446"
            }
          },
          "metadata": {}
        },
        {
          "output_type": "display_data",
          "data": {
            "text/plain": [
              "Epoch 23/400:   0%|          | 0/3 [00:00<?, ?it/s]"
            ],
            "application/vnd.jupyter.widget-view+json": {
              "version_major": 2,
              "version_minor": 0,
              "model_id": "105d6ecbfdfe40fd94ac5565bfbdcf65"
            }
          },
          "metadata": {}
        },
        {
          "output_type": "display_data",
          "data": {
            "text/plain": [
              "Epoch 24/400:   0%|          | 0/3 [00:00<?, ?it/s]"
            ],
            "application/vnd.jupyter.widget-view+json": {
              "version_major": 2,
              "version_minor": 0,
              "model_id": "50c4942a9ca64ba2b0215cc560314c51"
            }
          },
          "metadata": {}
        },
        {
          "output_type": "display_data",
          "data": {
            "text/plain": [
              "Epoch 25/400:   0%|          | 0/3 [00:00<?, ?it/s]"
            ],
            "application/vnd.jupyter.widget-view+json": {
              "version_major": 2,
              "version_minor": 0,
              "model_id": "481bab8fadb84ec798d5cf82586f7f9f"
            }
          },
          "metadata": {}
        },
        {
          "output_type": "display_data",
          "data": {
            "text/plain": [
              "Epoch 26/400:   0%|          | 0/3 [00:00<?, ?it/s]"
            ],
            "application/vnd.jupyter.widget-view+json": {
              "version_major": 2,
              "version_minor": 0,
              "model_id": "618cf7a9c3914d73875efe14610c4b6e"
            }
          },
          "metadata": {}
        },
        {
          "output_type": "display_data",
          "data": {
            "text/plain": [
              "Epoch 27/400:   0%|          | 0/3 [00:00<?, ?it/s]"
            ],
            "application/vnd.jupyter.widget-view+json": {
              "version_major": 2,
              "version_minor": 0,
              "model_id": "6eae23a330fe4fcd9054441f3e5fa020"
            }
          },
          "metadata": {}
        },
        {
          "output_type": "display_data",
          "data": {
            "text/plain": [
              "Epoch 28/400:   0%|          | 0/3 [00:00<?, ?it/s]"
            ],
            "application/vnd.jupyter.widget-view+json": {
              "version_major": 2,
              "version_minor": 0,
              "model_id": "14f49a4cd4374eef9438ef18fc373c64"
            }
          },
          "metadata": {}
        },
        {
          "output_type": "display_data",
          "data": {
            "text/plain": [
              "Epoch 29/400:   0%|          | 0/3 [00:00<?, ?it/s]"
            ],
            "application/vnd.jupyter.widget-view+json": {
              "version_major": 2,
              "version_minor": 0,
              "model_id": "d363858c7a454750a64e1a3095229f24"
            }
          },
          "metadata": {}
        },
        {
          "output_type": "display_data",
          "data": {
            "text/plain": [
              "Epoch 30/400:   0%|          | 0/3 [00:00<?, ?it/s]"
            ],
            "application/vnd.jupyter.widget-view+json": {
              "version_major": 2,
              "version_minor": 0,
              "model_id": "9d58481db773400080973afd3c714c54"
            }
          },
          "metadata": {}
        },
        {
          "output_type": "display_data",
          "data": {
            "text/plain": [
              "Epoch 31/400:   0%|          | 0/3 [00:00<?, ?it/s]"
            ],
            "application/vnd.jupyter.widget-view+json": {
              "version_major": 2,
              "version_minor": 0,
              "model_id": "2e8d833654db4016be59188d478fc974"
            }
          },
          "metadata": {}
        },
        {
          "output_type": "display_data",
          "data": {
            "text/plain": [
              "Epoch 32/400:   0%|          | 0/3 [00:00<?, ?it/s]"
            ],
            "application/vnd.jupyter.widget-view+json": {
              "version_major": 2,
              "version_minor": 0,
              "model_id": "cebdc7ad14c2474ba78f2240194ebcf3"
            }
          },
          "metadata": {}
        },
        {
          "output_type": "display_data",
          "data": {
            "text/plain": [
              "Epoch 33/400:   0%|          | 0/3 [00:00<?, ?it/s]"
            ],
            "application/vnd.jupyter.widget-view+json": {
              "version_major": 2,
              "version_minor": 0,
              "model_id": "3020c8a8a389448ea029e858a6b5ff23"
            }
          },
          "metadata": {}
        },
        {
          "output_type": "display_data",
          "data": {
            "text/plain": [
              "Epoch 34/400:   0%|          | 0/3 [00:00<?, ?it/s]"
            ],
            "application/vnd.jupyter.widget-view+json": {
              "version_major": 2,
              "version_minor": 0,
              "model_id": "d4530e7c97724fb0a8fbf6ed499a5cac"
            }
          },
          "metadata": {}
        },
        {
          "output_type": "display_data",
          "data": {
            "text/plain": [
              "Epoch 35/400:   0%|          | 0/3 [00:00<?, ?it/s]"
            ],
            "application/vnd.jupyter.widget-view+json": {
              "version_major": 2,
              "version_minor": 0,
              "model_id": "4bf793fd666e498fb6a6b8b1583af64d"
            }
          },
          "metadata": {}
        },
        {
          "output_type": "display_data",
          "data": {
            "text/plain": [
              "Epoch 36/400:   0%|          | 0/3 [00:00<?, ?it/s]"
            ],
            "application/vnd.jupyter.widget-view+json": {
              "version_major": 2,
              "version_minor": 0,
              "model_id": "2894f31d251c4f8a89912d26ad183014"
            }
          },
          "metadata": {}
        },
        {
          "output_type": "display_data",
          "data": {
            "text/plain": [
              "Epoch 37/400:   0%|          | 0/3 [00:00<?, ?it/s]"
            ],
            "application/vnd.jupyter.widget-view+json": {
              "version_major": 2,
              "version_minor": 0,
              "model_id": "f11dccd09fc34de4b688ac271c1c3bf9"
            }
          },
          "metadata": {}
        },
        {
          "output_type": "display_data",
          "data": {
            "text/plain": [
              "Epoch 38/400:   0%|          | 0/3 [00:00<?, ?it/s]"
            ],
            "application/vnd.jupyter.widget-view+json": {
              "version_major": 2,
              "version_minor": 0,
              "model_id": "7f130c2468784f15ac2baecfda5ccebb"
            }
          },
          "metadata": {}
        },
        {
          "output_type": "display_data",
          "data": {
            "text/plain": [
              "Epoch 39/400:   0%|          | 0/3 [00:00<?, ?it/s]"
            ],
            "application/vnd.jupyter.widget-view+json": {
              "version_major": 2,
              "version_minor": 0,
              "model_id": "94a681d016714702ba22775ecb091c08"
            }
          },
          "metadata": {}
        },
        {
          "output_type": "display_data",
          "data": {
            "text/plain": [
              "Epoch 40/400:   0%|          | 0/3 [00:00<?, ?it/s]"
            ],
            "application/vnd.jupyter.widget-view+json": {
              "version_major": 2,
              "version_minor": 0,
              "model_id": "fa9bc893869f40e6ad0fc7c37d76938f"
            }
          },
          "metadata": {}
        },
        {
          "output_type": "display_data",
          "data": {
            "text/plain": [
              "Epoch 41/400:   0%|          | 0/3 [00:00<?, ?it/s]"
            ],
            "application/vnd.jupyter.widget-view+json": {
              "version_major": 2,
              "version_minor": 0,
              "model_id": "ea7b66918210425993c0bbb5bf4959e5"
            }
          },
          "metadata": {}
        },
        {
          "output_type": "display_data",
          "data": {
            "text/plain": [
              "Epoch 42/400:   0%|          | 0/3 [00:00<?, ?it/s]"
            ],
            "application/vnd.jupyter.widget-view+json": {
              "version_major": 2,
              "version_minor": 0,
              "model_id": "366dbe60d60d4dd8a81b0970179c87a8"
            }
          },
          "metadata": {}
        },
        {
          "output_type": "display_data",
          "data": {
            "text/plain": [
              "Epoch 43/400:   0%|          | 0/3 [00:00<?, ?it/s]"
            ],
            "application/vnd.jupyter.widget-view+json": {
              "version_major": 2,
              "version_minor": 0,
              "model_id": "a53bdcc9cf80471a9e6b740b6a1138d3"
            }
          },
          "metadata": {}
        },
        {
          "output_type": "display_data",
          "data": {
            "text/plain": [
              "Epoch 44/400:   0%|          | 0/3 [00:00<?, ?it/s]"
            ],
            "application/vnd.jupyter.widget-view+json": {
              "version_major": 2,
              "version_minor": 0,
              "model_id": "2179e2ff25144cf0bf71b0ef5851a9e9"
            }
          },
          "metadata": {}
        },
        {
          "output_type": "display_data",
          "data": {
            "text/plain": [
              "Epoch 45/400:   0%|          | 0/3 [00:00<?, ?it/s]"
            ],
            "application/vnd.jupyter.widget-view+json": {
              "version_major": 2,
              "version_minor": 0,
              "model_id": "d23ba0b4357c41808980469cd62f1e3a"
            }
          },
          "metadata": {}
        },
        {
          "output_type": "display_data",
          "data": {
            "text/plain": [
              "Epoch 46/400:   0%|          | 0/3 [00:00<?, ?it/s]"
            ],
            "application/vnd.jupyter.widget-view+json": {
              "version_major": 2,
              "version_minor": 0,
              "model_id": "a363741d0c324e1991a347c4721f5116"
            }
          },
          "metadata": {}
        },
        {
          "output_type": "display_data",
          "data": {
            "text/plain": [
              "Epoch 47/400:   0%|          | 0/3 [00:00<?, ?it/s]"
            ],
            "application/vnd.jupyter.widget-view+json": {
              "version_major": 2,
              "version_minor": 0,
              "model_id": "c56f551890764201857af8c9dbacef95"
            }
          },
          "metadata": {}
        },
        {
          "output_type": "display_data",
          "data": {
            "text/plain": [
              "Epoch 48/400:   0%|          | 0/3 [00:00<?, ?it/s]"
            ],
            "application/vnd.jupyter.widget-view+json": {
              "version_major": 2,
              "version_minor": 0,
              "model_id": "67a10d521f594649ad43aaba0965d78a"
            }
          },
          "metadata": {}
        },
        {
          "output_type": "display_data",
          "data": {
            "text/plain": [
              "Epoch 49/400:   0%|          | 0/3 [00:00<?, ?it/s]"
            ],
            "application/vnd.jupyter.widget-view+json": {
              "version_major": 2,
              "version_minor": 0,
              "model_id": "5691e9a6ac1643adafb5a1c8816a3284"
            }
          },
          "metadata": {}
        },
        {
          "output_type": "display_data",
          "data": {
            "text/plain": [
              "Epoch 50/400:   0%|          | 0/3 [00:00<?, ?it/s]"
            ],
            "application/vnd.jupyter.widget-view+json": {
              "version_major": 2,
              "version_minor": 0,
              "model_id": "92595ebdae454d62814ce2318c0f3974"
            }
          },
          "metadata": {}
        },
        {
          "output_type": "display_data",
          "data": {
            "text/plain": [
              "Epoch 51/400:   0%|          | 0/3 [00:00<?, ?it/s]"
            ],
            "application/vnd.jupyter.widget-view+json": {
              "version_major": 2,
              "version_minor": 0,
              "model_id": "575819937d2f485692aace62080bb6d4"
            }
          },
          "metadata": {}
        },
        {
          "output_type": "display_data",
          "data": {
            "text/plain": [
              "Epoch 52/400:   0%|          | 0/3 [00:00<?, ?it/s]"
            ],
            "application/vnd.jupyter.widget-view+json": {
              "version_major": 2,
              "version_minor": 0,
              "model_id": "c9e1392477094588803a04cdf08cab01"
            }
          },
          "metadata": {}
        },
        {
          "output_type": "display_data",
          "data": {
            "text/plain": [
              "Epoch 53/400:   0%|          | 0/3 [00:00<?, ?it/s]"
            ],
            "application/vnd.jupyter.widget-view+json": {
              "version_major": 2,
              "version_minor": 0,
              "model_id": "25338e311a324f60b97f48f3123b7563"
            }
          },
          "metadata": {}
        },
        {
          "output_type": "display_data",
          "data": {
            "text/plain": [
              "Epoch 54/400:   0%|          | 0/3 [00:00<?, ?it/s]"
            ],
            "application/vnd.jupyter.widget-view+json": {
              "version_major": 2,
              "version_minor": 0,
              "model_id": "d236606a74004e6984b7f7c6cd4f7b0c"
            }
          },
          "metadata": {}
        },
        {
          "output_type": "display_data",
          "data": {
            "text/plain": [
              "Epoch 55/400:   0%|          | 0/3 [00:00<?, ?it/s]"
            ],
            "application/vnd.jupyter.widget-view+json": {
              "version_major": 2,
              "version_minor": 0,
              "model_id": "8a1d9c783650408fbf8cc630ba17fcaa"
            }
          },
          "metadata": {}
        },
        {
          "output_type": "display_data",
          "data": {
            "text/plain": [
              "Epoch 56/400:   0%|          | 0/3 [00:00<?, ?it/s]"
            ],
            "application/vnd.jupyter.widget-view+json": {
              "version_major": 2,
              "version_minor": 0,
              "model_id": "c2deeda1b149418cb0e52bc82ffde29a"
            }
          },
          "metadata": {}
        },
        {
          "output_type": "display_data",
          "data": {
            "text/plain": [
              "Epoch 57/400:   0%|          | 0/3 [00:00<?, ?it/s]"
            ],
            "application/vnd.jupyter.widget-view+json": {
              "version_major": 2,
              "version_minor": 0,
              "model_id": "14990612cfb346ab99d450f1b3843305"
            }
          },
          "metadata": {}
        },
        {
          "output_type": "display_data",
          "data": {
            "text/plain": [
              "Epoch 58/400:   0%|          | 0/3 [00:00<?, ?it/s]"
            ],
            "application/vnd.jupyter.widget-view+json": {
              "version_major": 2,
              "version_minor": 0,
              "model_id": "caacb931490f467b9f2e6e8b0635ff9e"
            }
          },
          "metadata": {}
        },
        {
          "output_type": "display_data",
          "data": {
            "text/plain": [
              "Epoch 59/400:   0%|          | 0/3 [00:00<?, ?it/s]"
            ],
            "application/vnd.jupyter.widget-view+json": {
              "version_major": 2,
              "version_minor": 0,
              "model_id": "fe58eaf830e6422d8113b8e17cfb5059"
            }
          },
          "metadata": {}
        },
        {
          "output_type": "display_data",
          "data": {
            "text/plain": [
              "Epoch 60/400:   0%|          | 0/3 [00:00<?, ?it/s]"
            ],
            "application/vnd.jupyter.widget-view+json": {
              "version_major": 2,
              "version_minor": 0,
              "model_id": "f3ac524785904e4b8a5be6f8768ff696"
            }
          },
          "metadata": {}
        },
        {
          "output_type": "display_data",
          "data": {
            "text/plain": [
              "Epoch 61/400:   0%|          | 0/3 [00:00<?, ?it/s]"
            ],
            "application/vnd.jupyter.widget-view+json": {
              "version_major": 2,
              "version_minor": 0,
              "model_id": "0b8eefa02ef949d09dcddad76cd20cf1"
            }
          },
          "metadata": {}
        },
        {
          "output_type": "display_data",
          "data": {
            "text/plain": [
              "Epoch 62/400:   0%|          | 0/3 [00:00<?, ?it/s]"
            ],
            "application/vnd.jupyter.widget-view+json": {
              "version_major": 2,
              "version_minor": 0,
              "model_id": "0fc751ede8ed4639905eef67448cfd47"
            }
          },
          "metadata": {}
        },
        {
          "output_type": "display_data",
          "data": {
            "text/plain": [
              "Epoch 63/400:   0%|          | 0/3 [00:00<?, ?it/s]"
            ],
            "application/vnd.jupyter.widget-view+json": {
              "version_major": 2,
              "version_minor": 0,
              "model_id": "581a395eb07845f0a0e94bbcabee6fa1"
            }
          },
          "metadata": {}
        },
        {
          "output_type": "display_data",
          "data": {
            "text/plain": [
              "Epoch 64/400:   0%|          | 0/3 [00:00<?, ?it/s]"
            ],
            "application/vnd.jupyter.widget-view+json": {
              "version_major": 2,
              "version_minor": 0,
              "model_id": "8b682cc90d6e47c8b1aab18f1ec109c0"
            }
          },
          "metadata": {}
        },
        {
          "output_type": "display_data",
          "data": {
            "text/plain": [
              "Epoch 65/400:   0%|          | 0/3 [00:00<?, ?it/s]"
            ],
            "application/vnd.jupyter.widget-view+json": {
              "version_major": 2,
              "version_minor": 0,
              "model_id": "6f8d00b6de01435cb238bc45302729b1"
            }
          },
          "metadata": {}
        },
        {
          "output_type": "display_data",
          "data": {
            "text/plain": [
              "Epoch 66/400:   0%|          | 0/3 [00:00<?, ?it/s]"
            ],
            "application/vnd.jupyter.widget-view+json": {
              "version_major": 2,
              "version_minor": 0,
              "model_id": "8433f61cabda4769a2f70b6e54fe0e3c"
            }
          },
          "metadata": {}
        },
        {
          "output_type": "display_data",
          "data": {
            "text/plain": [
              "Epoch 67/400:   0%|          | 0/3 [00:00<?, ?it/s]"
            ],
            "application/vnd.jupyter.widget-view+json": {
              "version_major": 2,
              "version_minor": 0,
              "model_id": "c2fd77dda0a24a2ba0392730135b22df"
            }
          },
          "metadata": {}
        },
        {
          "output_type": "display_data",
          "data": {
            "text/plain": [
              "Epoch 68/400:   0%|          | 0/3 [00:00<?, ?it/s]"
            ],
            "application/vnd.jupyter.widget-view+json": {
              "version_major": 2,
              "version_minor": 0,
              "model_id": "05e7870a28384325b91dcb50724dc472"
            }
          },
          "metadata": {}
        },
        {
          "output_type": "display_data",
          "data": {
            "text/plain": [
              "Epoch 69/400:   0%|          | 0/3 [00:00<?, ?it/s]"
            ],
            "application/vnd.jupyter.widget-view+json": {
              "version_major": 2,
              "version_minor": 0,
              "model_id": "e91a6eab5bf844c38c21e643416d9aea"
            }
          },
          "metadata": {}
        },
        {
          "output_type": "display_data",
          "data": {
            "text/plain": [
              "Epoch 70/400:   0%|          | 0/3 [00:00<?, ?it/s]"
            ],
            "application/vnd.jupyter.widget-view+json": {
              "version_major": 2,
              "version_minor": 0,
              "model_id": "adfbdb5ee2d94892af6578f81f3ea9d8"
            }
          },
          "metadata": {}
        },
        {
          "output_type": "display_data",
          "data": {
            "text/plain": [
              "Epoch 71/400:   0%|          | 0/3 [00:00<?, ?it/s]"
            ],
            "application/vnd.jupyter.widget-view+json": {
              "version_major": 2,
              "version_minor": 0,
              "model_id": "f65ab8e4bfc24a5db35cf6c304089496"
            }
          },
          "metadata": {}
        },
        {
          "output_type": "display_data",
          "data": {
            "text/plain": [
              "Epoch 72/400:   0%|          | 0/3 [00:00<?, ?it/s]"
            ],
            "application/vnd.jupyter.widget-view+json": {
              "version_major": 2,
              "version_minor": 0,
              "model_id": "9e21220c36fb4a499c48796d71fabe89"
            }
          },
          "metadata": {}
        },
        {
          "output_type": "display_data",
          "data": {
            "text/plain": [
              "Epoch 73/400:   0%|          | 0/3 [00:00<?, ?it/s]"
            ],
            "application/vnd.jupyter.widget-view+json": {
              "version_major": 2,
              "version_minor": 0,
              "model_id": "33f023b783dc4aaca5e4fe8316e69bf9"
            }
          },
          "metadata": {}
        },
        {
          "output_type": "display_data",
          "data": {
            "text/plain": [
              "Epoch 74/400:   0%|          | 0/3 [00:00<?, ?it/s]"
            ],
            "application/vnd.jupyter.widget-view+json": {
              "version_major": 2,
              "version_minor": 0,
              "model_id": "dd4b3ea99fce4e3e8e677346cd9eaf61"
            }
          },
          "metadata": {}
        },
        {
          "output_type": "display_data",
          "data": {
            "text/plain": [
              "Epoch 75/400:   0%|          | 0/3 [00:00<?, ?it/s]"
            ],
            "application/vnd.jupyter.widget-view+json": {
              "version_major": 2,
              "version_minor": 0,
              "model_id": "e4e5e2bfcded4c818d8de98446e472ce"
            }
          },
          "metadata": {}
        },
        {
          "output_type": "display_data",
          "data": {
            "text/plain": [
              "Epoch 76/400:   0%|          | 0/3 [00:00<?, ?it/s]"
            ],
            "application/vnd.jupyter.widget-view+json": {
              "version_major": 2,
              "version_minor": 0,
              "model_id": "5bf5ea6a89d94824b4286091372d65cb"
            }
          },
          "metadata": {}
        },
        {
          "output_type": "display_data",
          "data": {
            "text/plain": [
              "Epoch 77/400:   0%|          | 0/3 [00:00<?, ?it/s]"
            ],
            "application/vnd.jupyter.widget-view+json": {
              "version_major": 2,
              "version_minor": 0,
              "model_id": "bd00935aaf8342c790066b26b0110e09"
            }
          },
          "metadata": {}
        },
        {
          "output_type": "display_data",
          "data": {
            "text/plain": [
              "Epoch 78/400:   0%|          | 0/3 [00:00<?, ?it/s]"
            ],
            "application/vnd.jupyter.widget-view+json": {
              "version_major": 2,
              "version_minor": 0,
              "model_id": "bfadf26e217c4e468ee0ebe9bfb110c8"
            }
          },
          "metadata": {}
        },
        {
          "output_type": "display_data",
          "data": {
            "text/plain": [
              "Epoch 79/400:   0%|          | 0/3 [00:00<?, ?it/s]"
            ],
            "application/vnd.jupyter.widget-view+json": {
              "version_major": 2,
              "version_minor": 0,
              "model_id": "3f029ffcb06046f1b2d5dbaf473b96f0"
            }
          },
          "metadata": {}
        },
        {
          "output_type": "display_data",
          "data": {
            "text/plain": [
              "Epoch 80/400:   0%|          | 0/3 [00:00<?, ?it/s]"
            ],
            "application/vnd.jupyter.widget-view+json": {
              "version_major": 2,
              "version_minor": 0,
              "model_id": "f735b2ee83264a73b6837fa4c0284437"
            }
          },
          "metadata": {}
        },
        {
          "output_type": "display_data",
          "data": {
            "text/plain": [
              "Epoch 81/400:   0%|          | 0/3 [00:00<?, ?it/s]"
            ],
            "application/vnd.jupyter.widget-view+json": {
              "version_major": 2,
              "version_minor": 0,
              "model_id": "bbcd5fb20e984c66bd05629d8e099bf3"
            }
          },
          "metadata": {}
        },
        {
          "output_type": "display_data",
          "data": {
            "text/plain": [
              "Epoch 82/400:   0%|          | 0/3 [00:00<?, ?it/s]"
            ],
            "application/vnd.jupyter.widget-view+json": {
              "version_major": 2,
              "version_minor": 0,
              "model_id": "b6806ff39a6544758376f32f9fd38ccf"
            }
          },
          "metadata": {}
        },
        {
          "output_type": "display_data",
          "data": {
            "text/plain": [
              "Epoch 83/400:   0%|          | 0/3 [00:00<?, ?it/s]"
            ],
            "application/vnd.jupyter.widget-view+json": {
              "version_major": 2,
              "version_minor": 0,
              "model_id": "88613573255f4bf5a15666c5472a71d9"
            }
          },
          "metadata": {}
        },
        {
          "output_type": "display_data",
          "data": {
            "text/plain": [
              "Epoch 84/400:   0%|          | 0/3 [00:00<?, ?it/s]"
            ],
            "application/vnd.jupyter.widget-view+json": {
              "version_major": 2,
              "version_minor": 0,
              "model_id": "0ac7c723fdb142799957d8ed902c2c91"
            }
          },
          "metadata": {}
        },
        {
          "output_type": "display_data",
          "data": {
            "text/plain": [
              "Epoch 85/400:   0%|          | 0/3 [00:00<?, ?it/s]"
            ],
            "application/vnd.jupyter.widget-view+json": {
              "version_major": 2,
              "version_minor": 0,
              "model_id": "353195e19ff24bc89f7aaa5d18230eb7"
            }
          },
          "metadata": {}
        },
        {
          "output_type": "display_data",
          "data": {
            "text/plain": [
              "Epoch 86/400:   0%|          | 0/3 [00:00<?, ?it/s]"
            ],
            "application/vnd.jupyter.widget-view+json": {
              "version_major": 2,
              "version_minor": 0,
              "model_id": "f9731570124f42b9acadc8bc86cc19d6"
            }
          },
          "metadata": {}
        },
        {
          "output_type": "display_data",
          "data": {
            "text/plain": [
              "Epoch 87/400:   0%|          | 0/3 [00:00<?, ?it/s]"
            ],
            "application/vnd.jupyter.widget-view+json": {
              "version_major": 2,
              "version_minor": 0,
              "model_id": "eedc9eb82708440283c10f35a314db8d"
            }
          },
          "metadata": {}
        },
        {
          "output_type": "display_data",
          "data": {
            "text/plain": [
              "Epoch 88/400:   0%|          | 0/3 [00:00<?, ?it/s]"
            ],
            "application/vnd.jupyter.widget-view+json": {
              "version_major": 2,
              "version_minor": 0,
              "model_id": "c9a1a80a92fb4043a630a62878e2c01d"
            }
          },
          "metadata": {}
        },
        {
          "output_type": "display_data",
          "data": {
            "text/plain": [
              "Epoch 89/400:   0%|          | 0/3 [00:00<?, ?it/s]"
            ],
            "application/vnd.jupyter.widget-view+json": {
              "version_major": 2,
              "version_minor": 0,
              "model_id": "88087589ed3f4678bedb2c5c6b8590fb"
            }
          },
          "metadata": {}
        },
        {
          "output_type": "display_data",
          "data": {
            "text/plain": [
              "Epoch 90/400:   0%|          | 0/3 [00:00<?, ?it/s]"
            ],
            "application/vnd.jupyter.widget-view+json": {
              "version_major": 2,
              "version_minor": 0,
              "model_id": "90869fec21fd46aebdb872d5239a0d7a"
            }
          },
          "metadata": {}
        },
        {
          "output_type": "display_data",
          "data": {
            "text/plain": [
              "Epoch 91/400:   0%|          | 0/3 [00:00<?, ?it/s]"
            ],
            "application/vnd.jupyter.widget-view+json": {
              "version_major": 2,
              "version_minor": 0,
              "model_id": "03d89673edff4272b7034098f27d4247"
            }
          },
          "metadata": {}
        },
        {
          "output_type": "display_data",
          "data": {
            "text/plain": [
              "Epoch 92/400:   0%|          | 0/3 [00:00<?, ?it/s]"
            ],
            "application/vnd.jupyter.widget-view+json": {
              "version_major": 2,
              "version_minor": 0,
              "model_id": "18482d568df3446eb62f73d48a75e7ab"
            }
          },
          "metadata": {}
        },
        {
          "output_type": "display_data",
          "data": {
            "text/plain": [
              "Epoch 93/400:   0%|          | 0/3 [00:00<?, ?it/s]"
            ],
            "application/vnd.jupyter.widget-view+json": {
              "version_major": 2,
              "version_minor": 0,
              "model_id": "fd28fb83b9cd474399f3fcfcc6fc3c80"
            }
          },
          "metadata": {}
        },
        {
          "output_type": "display_data",
          "data": {
            "text/plain": [
              "Epoch 94/400:   0%|          | 0/3 [00:00<?, ?it/s]"
            ],
            "application/vnd.jupyter.widget-view+json": {
              "version_major": 2,
              "version_minor": 0,
              "model_id": "ed8df9d1149f45ba90a171e4d2692e49"
            }
          },
          "metadata": {}
        },
        {
          "output_type": "display_data",
          "data": {
            "text/plain": [
              "Epoch 95/400:   0%|          | 0/3 [00:00<?, ?it/s]"
            ],
            "application/vnd.jupyter.widget-view+json": {
              "version_major": 2,
              "version_minor": 0,
              "model_id": "e14424ea3c584f3f8854e04a41a05b04"
            }
          },
          "metadata": {}
        },
        {
          "output_type": "display_data",
          "data": {
            "text/plain": [
              "Epoch 96/400:   0%|          | 0/3 [00:00<?, ?it/s]"
            ],
            "application/vnd.jupyter.widget-view+json": {
              "version_major": 2,
              "version_minor": 0,
              "model_id": "9861586cbc1e401ebfc499c0420779d6"
            }
          },
          "metadata": {}
        },
        {
          "output_type": "display_data",
          "data": {
            "text/plain": [
              "Epoch 97/400:   0%|          | 0/3 [00:00<?, ?it/s]"
            ],
            "application/vnd.jupyter.widget-view+json": {
              "version_major": 2,
              "version_minor": 0,
              "model_id": "fe2283dcc607484da4512decf7fddd9f"
            }
          },
          "metadata": {}
        },
        {
          "output_type": "display_data",
          "data": {
            "text/plain": [
              "Epoch 98/400:   0%|          | 0/3 [00:00<?, ?it/s]"
            ],
            "application/vnd.jupyter.widget-view+json": {
              "version_major": 2,
              "version_minor": 0,
              "model_id": "a14c9d6e58754afe87cde71230e28b6b"
            }
          },
          "metadata": {}
        },
        {
          "output_type": "display_data",
          "data": {
            "text/plain": [
              "Epoch 99/400:   0%|          | 0/3 [00:00<?, ?it/s]"
            ],
            "application/vnd.jupyter.widget-view+json": {
              "version_major": 2,
              "version_minor": 0,
              "model_id": "c7db0c9f20d943a3be6422fb21205ca0"
            }
          },
          "metadata": {}
        },
        {
          "output_type": "display_data",
          "data": {
            "text/plain": [
              "Epoch 100/400:   0%|          | 0/3 [00:00<?, ?it/s]"
            ],
            "application/vnd.jupyter.widget-view+json": {
              "version_major": 2,
              "version_minor": 0,
              "model_id": "c38031772b0e4554a85893ffb2858f66"
            }
          },
          "metadata": {}
        },
        {
          "output_type": "display_data",
          "data": {
            "text/plain": [
              "Epoch 101/400:   0%|          | 0/3 [00:00<?, ?it/s]"
            ],
            "application/vnd.jupyter.widget-view+json": {
              "version_major": 2,
              "version_minor": 0,
              "model_id": "fef6ef2eba4b4f3696bfdbdabb1830f8"
            }
          },
          "metadata": {}
        },
        {
          "output_type": "display_data",
          "data": {
            "text/plain": [
              "Epoch 102/400:   0%|          | 0/3 [00:00<?, ?it/s]"
            ],
            "application/vnd.jupyter.widget-view+json": {
              "version_major": 2,
              "version_minor": 0,
              "model_id": "5dcdc6f1fcbb4c8d845327cdf3cfad64"
            }
          },
          "metadata": {}
        },
        {
          "output_type": "display_data",
          "data": {
            "text/plain": [
              "Epoch 103/400:   0%|          | 0/3 [00:00<?, ?it/s]"
            ],
            "application/vnd.jupyter.widget-view+json": {
              "version_major": 2,
              "version_minor": 0,
              "model_id": "860c55abbcd44b54a095aa5d2b8386db"
            }
          },
          "metadata": {}
        },
        {
          "output_type": "display_data",
          "data": {
            "text/plain": [
              "Epoch 104/400:   0%|          | 0/3 [00:00<?, ?it/s]"
            ],
            "application/vnd.jupyter.widget-view+json": {
              "version_major": 2,
              "version_minor": 0,
              "model_id": "c3085721a3dd437fb4639ffb089f49c1"
            }
          },
          "metadata": {}
        },
        {
          "output_type": "display_data",
          "data": {
            "text/plain": [
              "Epoch 105/400:   0%|          | 0/3 [00:00<?, ?it/s]"
            ],
            "application/vnd.jupyter.widget-view+json": {
              "version_major": 2,
              "version_minor": 0,
              "model_id": "bfabba9426aa4a098088d9417436af61"
            }
          },
          "metadata": {}
        },
        {
          "output_type": "display_data",
          "data": {
            "text/plain": [
              "Epoch 106/400:   0%|          | 0/3 [00:00<?, ?it/s]"
            ],
            "application/vnd.jupyter.widget-view+json": {
              "version_major": 2,
              "version_minor": 0,
              "model_id": "410f14ca9647498f978aeff8a76e4cfd"
            }
          },
          "metadata": {}
        },
        {
          "output_type": "display_data",
          "data": {
            "text/plain": [
              "Epoch 107/400:   0%|          | 0/3 [00:00<?, ?it/s]"
            ],
            "application/vnd.jupyter.widget-view+json": {
              "version_major": 2,
              "version_minor": 0,
              "model_id": "d29aeaadf34d41cc82e37bf8d59409b7"
            }
          },
          "metadata": {}
        },
        {
          "output_type": "display_data",
          "data": {
            "text/plain": [
              "Epoch 108/400:   0%|          | 0/3 [00:00<?, ?it/s]"
            ],
            "application/vnd.jupyter.widget-view+json": {
              "version_major": 2,
              "version_minor": 0,
              "model_id": "5e42b65fe610409986cad36ff79fdc07"
            }
          },
          "metadata": {}
        },
        {
          "output_type": "display_data",
          "data": {
            "text/plain": [
              "Epoch 109/400:   0%|          | 0/3 [00:00<?, ?it/s]"
            ],
            "application/vnd.jupyter.widget-view+json": {
              "version_major": 2,
              "version_minor": 0,
              "model_id": "d88d6a3391644ce381eb8e7a4ac261ba"
            }
          },
          "metadata": {}
        },
        {
          "output_type": "display_data",
          "data": {
            "text/plain": [
              "Epoch 110/400:   0%|          | 0/3 [00:00<?, ?it/s]"
            ],
            "application/vnd.jupyter.widget-view+json": {
              "version_major": 2,
              "version_minor": 0,
              "model_id": "b757fdf83ced41519bad2bb1c342b400"
            }
          },
          "metadata": {}
        },
        {
          "output_type": "display_data",
          "data": {
            "text/plain": [
              "Epoch 111/400:   0%|          | 0/3 [00:00<?, ?it/s]"
            ],
            "application/vnd.jupyter.widget-view+json": {
              "version_major": 2,
              "version_minor": 0,
              "model_id": "27130da1c02b4612ae285f6734061ba5"
            }
          },
          "metadata": {}
        },
        {
          "output_type": "display_data",
          "data": {
            "text/plain": [
              "Epoch 112/400:   0%|          | 0/3 [00:00<?, ?it/s]"
            ],
            "application/vnd.jupyter.widget-view+json": {
              "version_major": 2,
              "version_minor": 0,
              "model_id": "99fe4501a97642f9aaf85552150bcfe8"
            }
          },
          "metadata": {}
        },
        {
          "output_type": "display_data",
          "data": {
            "text/plain": [
              "Epoch 113/400:   0%|          | 0/3 [00:00<?, ?it/s]"
            ],
            "application/vnd.jupyter.widget-view+json": {
              "version_major": 2,
              "version_minor": 0,
              "model_id": "08a35b323d2a4fbf8a254c54e2b09a10"
            }
          },
          "metadata": {}
        },
        {
          "output_type": "display_data",
          "data": {
            "text/plain": [
              "Epoch 114/400:   0%|          | 0/3 [00:00<?, ?it/s]"
            ],
            "application/vnd.jupyter.widget-view+json": {
              "version_major": 2,
              "version_minor": 0,
              "model_id": "593ea42e0a4041a799a637e87aa51699"
            }
          },
          "metadata": {}
        },
        {
          "output_type": "display_data",
          "data": {
            "text/plain": [
              "Epoch 115/400:   0%|          | 0/3 [00:00<?, ?it/s]"
            ],
            "application/vnd.jupyter.widget-view+json": {
              "version_major": 2,
              "version_minor": 0,
              "model_id": "dce6c7c2cbd94b21b95ad76574642398"
            }
          },
          "metadata": {}
        },
        {
          "output_type": "display_data",
          "data": {
            "text/plain": [
              "Epoch 116/400:   0%|          | 0/3 [00:00<?, ?it/s]"
            ],
            "application/vnd.jupyter.widget-view+json": {
              "version_major": 2,
              "version_minor": 0,
              "model_id": "225a3c372b1b44389d91807cd9d1f31b"
            }
          },
          "metadata": {}
        },
        {
          "output_type": "display_data",
          "data": {
            "text/plain": [
              "Epoch 117/400:   0%|          | 0/3 [00:00<?, ?it/s]"
            ],
            "application/vnd.jupyter.widget-view+json": {
              "version_major": 2,
              "version_minor": 0,
              "model_id": "d590451c1e3b42e5a29f9b9988f21ae3"
            }
          },
          "metadata": {}
        },
        {
          "output_type": "display_data",
          "data": {
            "text/plain": [
              "Epoch 118/400:   0%|          | 0/3 [00:00<?, ?it/s]"
            ],
            "application/vnd.jupyter.widget-view+json": {
              "version_major": 2,
              "version_minor": 0,
              "model_id": "c3bc6063e796467fa264cd7f14e55386"
            }
          },
          "metadata": {}
        },
        {
          "output_type": "display_data",
          "data": {
            "text/plain": [
              "Epoch 119/400:   0%|          | 0/3 [00:00<?, ?it/s]"
            ],
            "application/vnd.jupyter.widget-view+json": {
              "version_major": 2,
              "version_minor": 0,
              "model_id": "7f027741c9af40c198f1ce0aae08f2ef"
            }
          },
          "metadata": {}
        },
        {
          "output_type": "display_data",
          "data": {
            "text/plain": [
              "Epoch 120/400:   0%|          | 0/3 [00:00<?, ?it/s]"
            ],
            "application/vnd.jupyter.widget-view+json": {
              "version_major": 2,
              "version_minor": 0,
              "model_id": "8ba695ecddb04521a56c4eb3c19d473f"
            }
          },
          "metadata": {}
        },
        {
          "output_type": "display_data",
          "data": {
            "text/plain": [
              "Epoch 121/400:   0%|          | 0/3 [00:00<?, ?it/s]"
            ],
            "application/vnd.jupyter.widget-view+json": {
              "version_major": 2,
              "version_minor": 0,
              "model_id": "0ecec41d9a7a4918b5d68d65025509a3"
            }
          },
          "metadata": {}
        },
        {
          "output_type": "display_data",
          "data": {
            "text/plain": [
              "Epoch 122/400:   0%|          | 0/3 [00:00<?, ?it/s]"
            ],
            "application/vnd.jupyter.widget-view+json": {
              "version_major": 2,
              "version_minor": 0,
              "model_id": "db53e1b41c1d4a6e9acebd577727a2e4"
            }
          },
          "metadata": {}
        },
        {
          "output_type": "display_data",
          "data": {
            "text/plain": [
              "Epoch 123/400:   0%|          | 0/3 [00:00<?, ?it/s]"
            ],
            "application/vnd.jupyter.widget-view+json": {
              "version_major": 2,
              "version_minor": 0,
              "model_id": "85a44ed995114f8883df773ae18f3995"
            }
          },
          "metadata": {}
        },
        {
          "output_type": "display_data",
          "data": {
            "text/plain": [
              "Epoch 124/400:   0%|          | 0/3 [00:00<?, ?it/s]"
            ],
            "application/vnd.jupyter.widget-view+json": {
              "version_major": 2,
              "version_minor": 0,
              "model_id": "abaeaeaa807e4f5a9680cbdf81d93bc6"
            }
          },
          "metadata": {}
        },
        {
          "output_type": "display_data",
          "data": {
            "text/plain": [
              "Epoch 125/400:   0%|          | 0/3 [00:00<?, ?it/s]"
            ],
            "application/vnd.jupyter.widget-view+json": {
              "version_major": 2,
              "version_minor": 0,
              "model_id": "4df150441b3d4971a950ed3cef10f093"
            }
          },
          "metadata": {}
        },
        {
          "output_type": "display_data",
          "data": {
            "text/plain": [
              "Epoch 126/400:   0%|          | 0/3 [00:00<?, ?it/s]"
            ],
            "application/vnd.jupyter.widget-view+json": {
              "version_major": 2,
              "version_minor": 0,
              "model_id": "2e9713b5d5f140c98f847558baeeee09"
            }
          },
          "metadata": {}
        },
        {
          "output_type": "display_data",
          "data": {
            "text/plain": [
              "Epoch 127/400:   0%|          | 0/3 [00:00<?, ?it/s]"
            ],
            "application/vnd.jupyter.widget-view+json": {
              "version_major": 2,
              "version_minor": 0,
              "model_id": "7e124acb80e04c9a840d9c29ed931435"
            }
          },
          "metadata": {}
        },
        {
          "output_type": "display_data",
          "data": {
            "text/plain": [
              "Epoch 128/400:   0%|          | 0/3 [00:00<?, ?it/s]"
            ],
            "application/vnd.jupyter.widget-view+json": {
              "version_major": 2,
              "version_minor": 0,
              "model_id": "4f6b1eaeed38488aa4086aa5654b16b6"
            }
          },
          "metadata": {}
        },
        {
          "output_type": "display_data",
          "data": {
            "text/plain": [
              "Epoch 129/400:   0%|          | 0/3 [00:00<?, ?it/s]"
            ],
            "application/vnd.jupyter.widget-view+json": {
              "version_major": 2,
              "version_minor": 0,
              "model_id": "8df1b13f00ca4adaae343852afde81a2"
            }
          },
          "metadata": {}
        },
        {
          "output_type": "display_data",
          "data": {
            "text/plain": [
              "Epoch 130/400:   0%|          | 0/3 [00:00<?, ?it/s]"
            ],
            "application/vnd.jupyter.widget-view+json": {
              "version_major": 2,
              "version_minor": 0,
              "model_id": "4fb952a300a74dcebdc5d3732dce13bb"
            }
          },
          "metadata": {}
        },
        {
          "output_type": "display_data",
          "data": {
            "text/plain": [
              "Epoch 131/400:   0%|          | 0/3 [00:00<?, ?it/s]"
            ],
            "application/vnd.jupyter.widget-view+json": {
              "version_major": 2,
              "version_minor": 0,
              "model_id": "f90258e513b348829d72edb9926e0146"
            }
          },
          "metadata": {}
        },
        {
          "output_type": "display_data",
          "data": {
            "text/plain": [
              "Epoch 132/400:   0%|          | 0/3 [00:00<?, ?it/s]"
            ],
            "application/vnd.jupyter.widget-view+json": {
              "version_major": 2,
              "version_minor": 0,
              "model_id": "991e7f2711934e9c804ef6f20e35f770"
            }
          },
          "metadata": {}
        },
        {
          "output_type": "display_data",
          "data": {
            "text/plain": [
              "Epoch 133/400:   0%|          | 0/3 [00:00<?, ?it/s]"
            ],
            "application/vnd.jupyter.widget-view+json": {
              "version_major": 2,
              "version_minor": 0,
              "model_id": "a1b389598116412cb92a84def0dae821"
            }
          },
          "metadata": {}
        },
        {
          "output_type": "display_data",
          "data": {
            "text/plain": [
              "Epoch 134/400:   0%|          | 0/3 [00:00<?, ?it/s]"
            ],
            "application/vnd.jupyter.widget-view+json": {
              "version_major": 2,
              "version_minor": 0,
              "model_id": "6274cb6af3fc4cb0994e8ee349235625"
            }
          },
          "metadata": {}
        },
        {
          "output_type": "display_data",
          "data": {
            "text/plain": [
              "Epoch 135/400:   0%|          | 0/3 [00:00<?, ?it/s]"
            ],
            "application/vnd.jupyter.widget-view+json": {
              "version_major": 2,
              "version_minor": 0,
              "model_id": "4619fc2b5a074c2384c497073132c6d4"
            }
          },
          "metadata": {}
        },
        {
          "output_type": "display_data",
          "data": {
            "text/plain": [
              "Epoch 136/400:   0%|          | 0/3 [00:00<?, ?it/s]"
            ],
            "application/vnd.jupyter.widget-view+json": {
              "version_major": 2,
              "version_minor": 0,
              "model_id": "e2f534e919db461da18326317634fb12"
            }
          },
          "metadata": {}
        },
        {
          "output_type": "display_data",
          "data": {
            "text/plain": [
              "Epoch 137/400:   0%|          | 0/3 [00:00<?, ?it/s]"
            ],
            "application/vnd.jupyter.widget-view+json": {
              "version_major": 2,
              "version_minor": 0,
              "model_id": "ead72f291cec4e26b3b4f8e35c7c36a7"
            }
          },
          "metadata": {}
        },
        {
          "output_type": "display_data",
          "data": {
            "text/plain": [
              "Epoch 138/400:   0%|          | 0/3 [00:00<?, ?it/s]"
            ],
            "application/vnd.jupyter.widget-view+json": {
              "version_major": 2,
              "version_minor": 0,
              "model_id": "a1b651cfbfeb4cb89fc2414370f1a346"
            }
          },
          "metadata": {}
        },
        {
          "output_type": "display_data",
          "data": {
            "text/plain": [
              "Epoch 139/400:   0%|          | 0/3 [00:00<?, ?it/s]"
            ],
            "application/vnd.jupyter.widget-view+json": {
              "version_major": 2,
              "version_minor": 0,
              "model_id": "8725a20118c54a359e62432e460de0f5"
            }
          },
          "metadata": {}
        },
        {
          "output_type": "display_data",
          "data": {
            "text/plain": [
              "Epoch 140/400:   0%|          | 0/3 [00:00<?, ?it/s]"
            ],
            "application/vnd.jupyter.widget-view+json": {
              "version_major": 2,
              "version_minor": 0,
              "model_id": "9973d220360141eb91faf9ea85eb8d2c"
            }
          },
          "metadata": {}
        },
        {
          "output_type": "display_data",
          "data": {
            "text/plain": [
              "Epoch 141/400:   0%|          | 0/3 [00:00<?, ?it/s]"
            ],
            "application/vnd.jupyter.widget-view+json": {
              "version_major": 2,
              "version_minor": 0,
              "model_id": "2c423afef7ce4a77b6d6349d5f65d9d6"
            }
          },
          "metadata": {}
        },
        {
          "output_type": "display_data",
          "data": {
            "text/plain": [
              "Epoch 142/400:   0%|          | 0/3 [00:00<?, ?it/s]"
            ],
            "application/vnd.jupyter.widget-view+json": {
              "version_major": 2,
              "version_minor": 0,
              "model_id": "d32352b0f0d448e0a1bfd8ce05476eaf"
            }
          },
          "metadata": {}
        },
        {
          "output_type": "display_data",
          "data": {
            "text/plain": [
              "Epoch 143/400:   0%|          | 0/3 [00:00<?, ?it/s]"
            ],
            "application/vnd.jupyter.widget-view+json": {
              "version_major": 2,
              "version_minor": 0,
              "model_id": "b1f43e532980479eaf54e0a9c3b3dbf3"
            }
          },
          "metadata": {}
        },
        {
          "output_type": "display_data",
          "data": {
            "text/plain": [
              "Epoch 144/400:   0%|          | 0/3 [00:00<?, ?it/s]"
            ],
            "application/vnd.jupyter.widget-view+json": {
              "version_major": 2,
              "version_minor": 0,
              "model_id": "a4e1a28a27594803a897c8dd91c94d37"
            }
          },
          "metadata": {}
        },
        {
          "output_type": "display_data",
          "data": {
            "text/plain": [
              "Epoch 145/400:   0%|          | 0/3 [00:00<?, ?it/s]"
            ],
            "application/vnd.jupyter.widget-view+json": {
              "version_major": 2,
              "version_minor": 0,
              "model_id": "e4b7749c22984b799103bc5276da5820"
            }
          },
          "metadata": {}
        },
        {
          "output_type": "display_data",
          "data": {
            "text/plain": [
              "Epoch 146/400:   0%|          | 0/3 [00:00<?, ?it/s]"
            ],
            "application/vnd.jupyter.widget-view+json": {
              "version_major": 2,
              "version_minor": 0,
              "model_id": "f2d6bdfd5ea14c0ea6e67baba438143a"
            }
          },
          "metadata": {}
        },
        {
          "output_type": "display_data",
          "data": {
            "text/plain": [
              "Epoch 147/400:   0%|          | 0/3 [00:00<?, ?it/s]"
            ],
            "application/vnd.jupyter.widget-view+json": {
              "version_major": 2,
              "version_minor": 0,
              "model_id": "a5c38bc6f6004eabb167f2e2056f9b70"
            }
          },
          "metadata": {}
        },
        {
          "output_type": "display_data",
          "data": {
            "text/plain": [
              "Epoch 148/400:   0%|          | 0/3 [00:00<?, ?it/s]"
            ],
            "application/vnd.jupyter.widget-view+json": {
              "version_major": 2,
              "version_minor": 0,
              "model_id": "a32ac92943f64b2aadc4c2c54766cd55"
            }
          },
          "metadata": {}
        },
        {
          "output_type": "display_data",
          "data": {
            "text/plain": [
              "Epoch 149/400:   0%|          | 0/3 [00:00<?, ?it/s]"
            ],
            "application/vnd.jupyter.widget-view+json": {
              "version_major": 2,
              "version_minor": 0,
              "model_id": "31ce9a078a374b0ba319c7bf0b80870b"
            }
          },
          "metadata": {}
        },
        {
          "output_type": "display_data",
          "data": {
            "text/plain": [
              "Epoch 150/400:   0%|          | 0/3 [00:00<?, ?it/s]"
            ],
            "application/vnd.jupyter.widget-view+json": {
              "version_major": 2,
              "version_minor": 0,
              "model_id": "69b26cc8183f423593620236e3f09db8"
            }
          },
          "metadata": {}
        },
        {
          "output_type": "display_data",
          "data": {
            "text/plain": [
              "Epoch 151/400:   0%|          | 0/3 [00:00<?, ?it/s]"
            ],
            "application/vnd.jupyter.widget-view+json": {
              "version_major": 2,
              "version_minor": 0,
              "model_id": "96c99e10cd2b469fb5a649daf0ab296f"
            }
          },
          "metadata": {}
        },
        {
          "output_type": "display_data",
          "data": {
            "text/plain": [
              "Epoch 152/400:   0%|          | 0/3 [00:00<?, ?it/s]"
            ],
            "application/vnd.jupyter.widget-view+json": {
              "version_major": 2,
              "version_minor": 0,
              "model_id": "1181708c756744a592858b69298ff8f7"
            }
          },
          "metadata": {}
        },
        {
          "output_type": "display_data",
          "data": {
            "text/plain": [
              "Epoch 153/400:   0%|          | 0/3 [00:00<?, ?it/s]"
            ],
            "application/vnd.jupyter.widget-view+json": {
              "version_major": 2,
              "version_minor": 0,
              "model_id": "7b244395303a41818b9938908998aef5"
            }
          },
          "metadata": {}
        },
        {
          "output_type": "display_data",
          "data": {
            "text/plain": [
              "Epoch 154/400:   0%|          | 0/3 [00:00<?, ?it/s]"
            ],
            "application/vnd.jupyter.widget-view+json": {
              "version_major": 2,
              "version_minor": 0,
              "model_id": "6b14991661804bb7ba3b5faf781cf18f"
            }
          },
          "metadata": {}
        },
        {
          "output_type": "display_data",
          "data": {
            "text/plain": [
              "Epoch 155/400:   0%|          | 0/3 [00:00<?, ?it/s]"
            ],
            "application/vnd.jupyter.widget-view+json": {
              "version_major": 2,
              "version_minor": 0,
              "model_id": "dd32e23eeacd40ba829ebb2db0f800cb"
            }
          },
          "metadata": {}
        },
        {
          "output_type": "display_data",
          "data": {
            "text/plain": [
              "Epoch 156/400:   0%|          | 0/3 [00:00<?, ?it/s]"
            ],
            "application/vnd.jupyter.widget-view+json": {
              "version_major": 2,
              "version_minor": 0,
              "model_id": "271a77e48d414ab9aab59bffc02b7bc9"
            }
          },
          "metadata": {}
        },
        {
          "output_type": "display_data",
          "data": {
            "text/plain": [
              "Epoch 157/400:   0%|          | 0/3 [00:00<?, ?it/s]"
            ],
            "application/vnd.jupyter.widget-view+json": {
              "version_major": 2,
              "version_minor": 0,
              "model_id": "416fd4e170d7429aba13a03d66027d81"
            }
          },
          "metadata": {}
        },
        {
          "output_type": "display_data",
          "data": {
            "text/plain": [
              "Epoch 158/400:   0%|          | 0/3 [00:00<?, ?it/s]"
            ],
            "application/vnd.jupyter.widget-view+json": {
              "version_major": 2,
              "version_minor": 0,
              "model_id": "6d2495dfbe764ce091a7d5ff4e7393dc"
            }
          },
          "metadata": {}
        },
        {
          "output_type": "display_data",
          "data": {
            "text/plain": [
              "Epoch 159/400:   0%|          | 0/3 [00:00<?, ?it/s]"
            ],
            "application/vnd.jupyter.widget-view+json": {
              "version_major": 2,
              "version_minor": 0,
              "model_id": "b675bc7864b747ffb7ad58636cd0019c"
            }
          },
          "metadata": {}
        },
        {
          "output_type": "display_data",
          "data": {
            "text/plain": [
              "Epoch 160/400:   0%|          | 0/3 [00:00<?, ?it/s]"
            ],
            "application/vnd.jupyter.widget-view+json": {
              "version_major": 2,
              "version_minor": 0,
              "model_id": "66c16049a0b841a38b1de34893209557"
            }
          },
          "metadata": {}
        },
        {
          "output_type": "display_data",
          "data": {
            "text/plain": [
              "Epoch 161/400:   0%|          | 0/3 [00:00<?, ?it/s]"
            ],
            "application/vnd.jupyter.widget-view+json": {
              "version_major": 2,
              "version_minor": 0,
              "model_id": "fef8d1fd19ff4f76888ad51ad65b6782"
            }
          },
          "metadata": {}
        },
        {
          "output_type": "display_data",
          "data": {
            "text/plain": [
              "Epoch 162/400:   0%|          | 0/3 [00:00<?, ?it/s]"
            ],
            "application/vnd.jupyter.widget-view+json": {
              "version_major": 2,
              "version_minor": 0,
              "model_id": "b3ac20acae41413bbaaefebd72b2d50d"
            }
          },
          "metadata": {}
        },
        {
          "output_type": "display_data",
          "data": {
            "text/plain": [
              "Epoch 163/400:   0%|          | 0/3 [00:00<?, ?it/s]"
            ],
            "application/vnd.jupyter.widget-view+json": {
              "version_major": 2,
              "version_minor": 0,
              "model_id": "6053a7d4aa9546f68e28544970fd4df3"
            }
          },
          "metadata": {}
        },
        {
          "output_type": "display_data",
          "data": {
            "text/plain": [
              "Epoch 164/400:   0%|          | 0/3 [00:00<?, ?it/s]"
            ],
            "application/vnd.jupyter.widget-view+json": {
              "version_major": 2,
              "version_minor": 0,
              "model_id": "aa599d9e076e4e5ca8322d5e6d8f3e6b"
            }
          },
          "metadata": {}
        },
        {
          "output_type": "display_data",
          "data": {
            "text/plain": [
              "Epoch 165/400:   0%|          | 0/3 [00:00<?, ?it/s]"
            ],
            "application/vnd.jupyter.widget-view+json": {
              "version_major": 2,
              "version_minor": 0,
              "model_id": "8c3dbdabfab1424ea8aab0904dfc1cf6"
            }
          },
          "metadata": {}
        },
        {
          "output_type": "display_data",
          "data": {
            "text/plain": [
              "Epoch 166/400:   0%|          | 0/3 [00:00<?, ?it/s]"
            ],
            "application/vnd.jupyter.widget-view+json": {
              "version_major": 2,
              "version_minor": 0,
              "model_id": "7fccfbc8eac74a98bf94ef407ceb7287"
            }
          },
          "metadata": {}
        },
        {
          "output_type": "display_data",
          "data": {
            "text/plain": [
              "Epoch 167/400:   0%|          | 0/3 [00:00<?, ?it/s]"
            ],
            "application/vnd.jupyter.widget-view+json": {
              "version_major": 2,
              "version_minor": 0,
              "model_id": "1a3581f137124734a9f9484f00140fc4"
            }
          },
          "metadata": {}
        },
        {
          "output_type": "display_data",
          "data": {
            "text/plain": [
              "Epoch 168/400:   0%|          | 0/3 [00:00<?, ?it/s]"
            ],
            "application/vnd.jupyter.widget-view+json": {
              "version_major": 2,
              "version_minor": 0,
              "model_id": "f723f17cc7b447e2898701d36f17f335"
            }
          },
          "metadata": {}
        },
        {
          "output_type": "display_data",
          "data": {
            "text/plain": [
              "Epoch 169/400:   0%|          | 0/3 [00:00<?, ?it/s]"
            ],
            "application/vnd.jupyter.widget-view+json": {
              "version_major": 2,
              "version_minor": 0,
              "model_id": "dc3b0de45c1f4146b4f7c791d00dd0c8"
            }
          },
          "metadata": {}
        },
        {
          "output_type": "display_data",
          "data": {
            "text/plain": [
              "Epoch 170/400:   0%|          | 0/3 [00:00<?, ?it/s]"
            ],
            "application/vnd.jupyter.widget-view+json": {
              "version_major": 2,
              "version_minor": 0,
              "model_id": "e765dae2e8ef45ccb5f34815607d0b66"
            }
          },
          "metadata": {}
        },
        {
          "output_type": "display_data",
          "data": {
            "text/plain": [
              "Epoch 171/400:   0%|          | 0/3 [00:00<?, ?it/s]"
            ],
            "application/vnd.jupyter.widget-view+json": {
              "version_major": 2,
              "version_minor": 0,
              "model_id": "8bd3db79751f40f099f187e5a70a4e66"
            }
          },
          "metadata": {}
        },
        {
          "output_type": "display_data",
          "data": {
            "text/plain": [
              "Epoch 172/400:   0%|          | 0/3 [00:00<?, ?it/s]"
            ],
            "application/vnd.jupyter.widget-view+json": {
              "version_major": 2,
              "version_minor": 0,
              "model_id": "31379c5512924e15be179e34978cc421"
            }
          },
          "metadata": {}
        },
        {
          "output_type": "display_data",
          "data": {
            "text/plain": [
              "Epoch 173/400:   0%|          | 0/3 [00:00<?, ?it/s]"
            ],
            "application/vnd.jupyter.widget-view+json": {
              "version_major": 2,
              "version_minor": 0,
              "model_id": "a3dea1e31de24cf8a23e0d83e31862dd"
            }
          },
          "metadata": {}
        },
        {
          "output_type": "display_data",
          "data": {
            "text/plain": [
              "Epoch 174/400:   0%|          | 0/3 [00:00<?, ?it/s]"
            ],
            "application/vnd.jupyter.widget-view+json": {
              "version_major": 2,
              "version_minor": 0,
              "model_id": "5b3f3f64c98243b8ae51a126274206a2"
            }
          },
          "metadata": {}
        },
        {
          "output_type": "display_data",
          "data": {
            "text/plain": [
              "Epoch 175/400:   0%|          | 0/3 [00:00<?, ?it/s]"
            ],
            "application/vnd.jupyter.widget-view+json": {
              "version_major": 2,
              "version_minor": 0,
              "model_id": "c3206ac1dd8f49c58e0f78ea806664dd"
            }
          },
          "metadata": {}
        },
        {
          "output_type": "display_data",
          "data": {
            "text/plain": [
              "Epoch 176/400:   0%|          | 0/3 [00:00<?, ?it/s]"
            ],
            "application/vnd.jupyter.widget-view+json": {
              "version_major": 2,
              "version_minor": 0,
              "model_id": "6107b76b77034fe2875b97bf712276ae"
            }
          },
          "metadata": {}
        },
        {
          "output_type": "display_data",
          "data": {
            "text/plain": [
              "Epoch 177/400:   0%|          | 0/3 [00:00<?, ?it/s]"
            ],
            "application/vnd.jupyter.widget-view+json": {
              "version_major": 2,
              "version_minor": 0,
              "model_id": "65f3315d71d24f19b0a81566cdd99986"
            }
          },
          "metadata": {}
        },
        {
          "output_type": "display_data",
          "data": {
            "text/plain": [
              "Epoch 178/400:   0%|          | 0/3 [00:00<?, ?it/s]"
            ],
            "application/vnd.jupyter.widget-view+json": {
              "version_major": 2,
              "version_minor": 0,
              "model_id": "90372465f0ce4c30a315e05f87033255"
            }
          },
          "metadata": {}
        },
        {
          "output_type": "display_data",
          "data": {
            "text/plain": [
              "Epoch 179/400:   0%|          | 0/3 [00:00<?, ?it/s]"
            ],
            "application/vnd.jupyter.widget-view+json": {
              "version_major": 2,
              "version_minor": 0,
              "model_id": "3b40c031f4ef4a4ab42a78e7ef7270c7"
            }
          },
          "metadata": {}
        },
        {
          "output_type": "display_data",
          "data": {
            "text/plain": [
              "Epoch 180/400:   0%|          | 0/3 [00:00<?, ?it/s]"
            ],
            "application/vnd.jupyter.widget-view+json": {
              "version_major": 2,
              "version_minor": 0,
              "model_id": "eab082a317214046a23b0118561de1e5"
            }
          },
          "metadata": {}
        },
        {
          "output_type": "display_data",
          "data": {
            "text/plain": [
              "Epoch 181/400:   0%|          | 0/3 [00:00<?, ?it/s]"
            ],
            "application/vnd.jupyter.widget-view+json": {
              "version_major": 2,
              "version_minor": 0,
              "model_id": "da6393dc4d6941179a4e81253bc591c2"
            }
          },
          "metadata": {}
        },
        {
          "output_type": "display_data",
          "data": {
            "text/plain": [
              "Epoch 182/400:   0%|          | 0/3 [00:00<?, ?it/s]"
            ],
            "application/vnd.jupyter.widget-view+json": {
              "version_major": 2,
              "version_minor": 0,
              "model_id": "7ee94b20aa204c6eb9847311453f1c5a"
            }
          },
          "metadata": {}
        },
        {
          "output_type": "display_data",
          "data": {
            "text/plain": [
              "Epoch 183/400:   0%|          | 0/3 [00:00<?, ?it/s]"
            ],
            "application/vnd.jupyter.widget-view+json": {
              "version_major": 2,
              "version_minor": 0,
              "model_id": "b5ffadf52076465aa15a84c3176bc6c2"
            }
          },
          "metadata": {}
        },
        {
          "output_type": "display_data",
          "data": {
            "text/plain": [
              "Epoch 184/400:   0%|          | 0/3 [00:00<?, ?it/s]"
            ],
            "application/vnd.jupyter.widget-view+json": {
              "version_major": 2,
              "version_minor": 0,
              "model_id": "2a035ba9940743a8bc684201e13c4c92"
            }
          },
          "metadata": {}
        },
        {
          "output_type": "display_data",
          "data": {
            "text/plain": [
              "Epoch 185/400:   0%|          | 0/3 [00:00<?, ?it/s]"
            ],
            "application/vnd.jupyter.widget-view+json": {
              "version_major": 2,
              "version_minor": 0,
              "model_id": "cc658fd6d72441a2a88468bdbcef8ca3"
            }
          },
          "metadata": {}
        },
        {
          "output_type": "display_data",
          "data": {
            "text/plain": [
              "Epoch 186/400:   0%|          | 0/3 [00:00<?, ?it/s]"
            ],
            "application/vnd.jupyter.widget-view+json": {
              "version_major": 2,
              "version_minor": 0,
              "model_id": "c73d93aca72b42edb54de03013c03f3e"
            }
          },
          "metadata": {}
        },
        {
          "output_type": "display_data",
          "data": {
            "text/plain": [
              "Epoch 187/400:   0%|          | 0/3 [00:00<?, ?it/s]"
            ],
            "application/vnd.jupyter.widget-view+json": {
              "version_major": 2,
              "version_minor": 0,
              "model_id": "4c68d95d506d45cc9eef6789c31e5a49"
            }
          },
          "metadata": {}
        },
        {
          "output_type": "display_data",
          "data": {
            "text/plain": [
              "Epoch 188/400:   0%|          | 0/3 [00:00<?, ?it/s]"
            ],
            "application/vnd.jupyter.widget-view+json": {
              "version_major": 2,
              "version_minor": 0,
              "model_id": "cc315c30dc7c426a9771735df2d07fa1"
            }
          },
          "metadata": {}
        },
        {
          "output_type": "display_data",
          "data": {
            "text/plain": [
              "Epoch 189/400:   0%|          | 0/3 [00:00<?, ?it/s]"
            ],
            "application/vnd.jupyter.widget-view+json": {
              "version_major": 2,
              "version_minor": 0,
              "model_id": "d760168be9704896bbe7264424baa69a"
            }
          },
          "metadata": {}
        },
        {
          "output_type": "display_data",
          "data": {
            "text/plain": [
              "Epoch 190/400:   0%|          | 0/3 [00:00<?, ?it/s]"
            ],
            "application/vnd.jupyter.widget-view+json": {
              "version_major": 2,
              "version_minor": 0,
              "model_id": "ef6c9cf98aae4756a25dc8b40cb7b35b"
            }
          },
          "metadata": {}
        },
        {
          "output_type": "display_data",
          "data": {
            "text/plain": [
              "Epoch 191/400:   0%|          | 0/3 [00:00<?, ?it/s]"
            ],
            "application/vnd.jupyter.widget-view+json": {
              "version_major": 2,
              "version_minor": 0,
              "model_id": "1915e4a766d14d52bcb9a9fdc254edeb"
            }
          },
          "metadata": {}
        },
        {
          "output_type": "display_data",
          "data": {
            "text/plain": [
              "Epoch 192/400:   0%|          | 0/3 [00:00<?, ?it/s]"
            ],
            "application/vnd.jupyter.widget-view+json": {
              "version_major": 2,
              "version_minor": 0,
              "model_id": "ad8d993db3e346d6a0810ba0b9a9b925"
            }
          },
          "metadata": {}
        },
        {
          "output_type": "display_data",
          "data": {
            "text/plain": [
              "Epoch 193/400:   0%|          | 0/3 [00:00<?, ?it/s]"
            ],
            "application/vnd.jupyter.widget-view+json": {
              "version_major": 2,
              "version_minor": 0,
              "model_id": "f41437004d7348fc89f93483606d8caf"
            }
          },
          "metadata": {}
        },
        {
          "output_type": "display_data",
          "data": {
            "text/plain": [
              "Epoch 194/400:   0%|          | 0/3 [00:00<?, ?it/s]"
            ],
            "application/vnd.jupyter.widget-view+json": {
              "version_major": 2,
              "version_minor": 0,
              "model_id": "b93e1bbcee4e49689e089cd30d543e63"
            }
          },
          "metadata": {}
        },
        {
          "output_type": "display_data",
          "data": {
            "text/plain": [
              "Epoch 195/400:   0%|          | 0/3 [00:00<?, ?it/s]"
            ],
            "application/vnd.jupyter.widget-view+json": {
              "version_major": 2,
              "version_minor": 0,
              "model_id": "2cc2cc7aa3b14d43b33209357596f030"
            }
          },
          "metadata": {}
        },
        {
          "output_type": "display_data",
          "data": {
            "text/plain": [
              "Epoch 196/400:   0%|          | 0/3 [00:00<?, ?it/s]"
            ],
            "application/vnd.jupyter.widget-view+json": {
              "version_major": 2,
              "version_minor": 0,
              "model_id": "0254816d0ec540d2a4a94c899f3a6b17"
            }
          },
          "metadata": {}
        },
        {
          "output_type": "display_data",
          "data": {
            "text/plain": [
              "Epoch 197/400:   0%|          | 0/3 [00:00<?, ?it/s]"
            ],
            "application/vnd.jupyter.widget-view+json": {
              "version_major": 2,
              "version_minor": 0,
              "model_id": "31e24986ad1f40d785c3bbd7dd9de193"
            }
          },
          "metadata": {}
        },
        {
          "output_type": "display_data",
          "data": {
            "text/plain": [
              "Epoch 198/400:   0%|          | 0/3 [00:00<?, ?it/s]"
            ],
            "application/vnd.jupyter.widget-view+json": {
              "version_major": 2,
              "version_minor": 0,
              "model_id": "2ff04ebedfbe4ab88233cfec51e1d090"
            }
          },
          "metadata": {}
        },
        {
          "output_type": "display_data",
          "data": {
            "text/plain": [
              "Epoch 199/400:   0%|          | 0/3 [00:00<?, ?it/s]"
            ],
            "application/vnd.jupyter.widget-view+json": {
              "version_major": 2,
              "version_minor": 0,
              "model_id": "1c4a08fe26b641ff9f089b74d246eb7f"
            }
          },
          "metadata": {}
        },
        {
          "output_type": "display_data",
          "data": {
            "text/plain": [
              "Epoch 200/400:   0%|          | 0/3 [00:00<?, ?it/s]"
            ],
            "application/vnd.jupyter.widget-view+json": {
              "version_major": 2,
              "version_minor": 0,
              "model_id": "c436d11083de4b53b1b47912df590f97"
            }
          },
          "metadata": {}
        },
        {
          "output_type": "display_data",
          "data": {
            "text/plain": [
              "Epoch 201/400:   0%|          | 0/3 [00:00<?, ?it/s]"
            ],
            "application/vnd.jupyter.widget-view+json": {
              "version_major": 2,
              "version_minor": 0,
              "model_id": "4ab96ab9b86b4d46bc3a57637f128c56"
            }
          },
          "metadata": {}
        },
        {
          "output_type": "display_data",
          "data": {
            "text/plain": [
              "Epoch 202/400:   0%|          | 0/3 [00:00<?, ?it/s]"
            ],
            "application/vnd.jupyter.widget-view+json": {
              "version_major": 2,
              "version_minor": 0,
              "model_id": "d46578f929cf4785a9fc3b38bb451928"
            }
          },
          "metadata": {}
        },
        {
          "output_type": "display_data",
          "data": {
            "text/plain": [
              "Epoch 203/400:   0%|          | 0/3 [00:00<?, ?it/s]"
            ],
            "application/vnd.jupyter.widget-view+json": {
              "version_major": 2,
              "version_minor": 0,
              "model_id": "10e8a4729ba54c2bbb03b2405f51af84"
            }
          },
          "metadata": {}
        },
        {
          "output_type": "display_data",
          "data": {
            "text/plain": [
              "Epoch 204/400:   0%|          | 0/3 [00:00<?, ?it/s]"
            ],
            "application/vnd.jupyter.widget-view+json": {
              "version_major": 2,
              "version_minor": 0,
              "model_id": "20a3262ddda84026b10447c3fa3fd58c"
            }
          },
          "metadata": {}
        },
        {
          "output_type": "display_data",
          "data": {
            "text/plain": [
              "Epoch 205/400:   0%|          | 0/3 [00:00<?, ?it/s]"
            ],
            "application/vnd.jupyter.widget-view+json": {
              "version_major": 2,
              "version_minor": 0,
              "model_id": "c6e3d5154b1246439ef018d56cd60fcc"
            }
          },
          "metadata": {}
        },
        {
          "output_type": "display_data",
          "data": {
            "text/plain": [
              "Epoch 206/400:   0%|          | 0/3 [00:00<?, ?it/s]"
            ],
            "application/vnd.jupyter.widget-view+json": {
              "version_major": 2,
              "version_minor": 0,
              "model_id": "88effb60ab6a44e7b2c69729cebfe912"
            }
          },
          "metadata": {}
        },
        {
          "output_type": "display_data",
          "data": {
            "text/plain": [
              "Epoch 207/400:   0%|          | 0/3 [00:00<?, ?it/s]"
            ],
            "application/vnd.jupyter.widget-view+json": {
              "version_major": 2,
              "version_minor": 0,
              "model_id": "f9c3c494393c4e8084f80b031a741c06"
            }
          },
          "metadata": {}
        },
        {
          "output_type": "display_data",
          "data": {
            "text/plain": [
              "Epoch 208/400:   0%|          | 0/3 [00:00<?, ?it/s]"
            ],
            "application/vnd.jupyter.widget-view+json": {
              "version_major": 2,
              "version_minor": 0,
              "model_id": "3e041221c27240fe95fef08e53374e6e"
            }
          },
          "metadata": {}
        },
        {
          "output_type": "display_data",
          "data": {
            "text/plain": [
              "Epoch 209/400:   0%|          | 0/3 [00:00<?, ?it/s]"
            ],
            "application/vnd.jupyter.widget-view+json": {
              "version_major": 2,
              "version_minor": 0,
              "model_id": "10ba06aebeb84e5da7a241e1a5415392"
            }
          },
          "metadata": {}
        },
        {
          "output_type": "display_data",
          "data": {
            "text/plain": [
              "Epoch 210/400:   0%|          | 0/3 [00:00<?, ?it/s]"
            ],
            "application/vnd.jupyter.widget-view+json": {
              "version_major": 2,
              "version_minor": 0,
              "model_id": "b197f0b101e64613a1c183b82553fd5a"
            }
          },
          "metadata": {}
        },
        {
          "output_type": "display_data",
          "data": {
            "text/plain": [
              "Epoch 211/400:   0%|          | 0/3 [00:00<?, ?it/s]"
            ],
            "application/vnd.jupyter.widget-view+json": {
              "version_major": 2,
              "version_minor": 0,
              "model_id": "42eeb676cc5f4592a6bf90d965251207"
            }
          },
          "metadata": {}
        },
        {
          "output_type": "display_data",
          "data": {
            "text/plain": [
              "Epoch 212/400:   0%|          | 0/3 [00:00<?, ?it/s]"
            ],
            "application/vnd.jupyter.widget-view+json": {
              "version_major": 2,
              "version_minor": 0,
              "model_id": "36763b4b24a84243bbd9578ca2fc72a2"
            }
          },
          "metadata": {}
        },
        {
          "output_type": "display_data",
          "data": {
            "text/plain": [
              "Epoch 213/400:   0%|          | 0/3 [00:00<?, ?it/s]"
            ],
            "application/vnd.jupyter.widget-view+json": {
              "version_major": 2,
              "version_minor": 0,
              "model_id": "ec99c820a17247f89e7af58a2952840c"
            }
          },
          "metadata": {}
        },
        {
          "output_type": "display_data",
          "data": {
            "text/plain": [
              "Epoch 214/400:   0%|          | 0/3 [00:00<?, ?it/s]"
            ],
            "application/vnd.jupyter.widget-view+json": {
              "version_major": 2,
              "version_minor": 0,
              "model_id": "19e0425ab9e142ad9f9247a576ea1ab2"
            }
          },
          "metadata": {}
        },
        {
          "output_type": "display_data",
          "data": {
            "text/plain": [
              "Epoch 215/400:   0%|          | 0/3 [00:00<?, ?it/s]"
            ],
            "application/vnd.jupyter.widget-view+json": {
              "version_major": 2,
              "version_minor": 0,
              "model_id": "c0f192ece51c488f9925697743632004"
            }
          },
          "metadata": {}
        },
        {
          "output_type": "display_data",
          "data": {
            "text/plain": [
              "Epoch 216/400:   0%|          | 0/3 [00:00<?, ?it/s]"
            ],
            "application/vnd.jupyter.widget-view+json": {
              "version_major": 2,
              "version_minor": 0,
              "model_id": "35667354215241918315e6572bcb2333"
            }
          },
          "metadata": {}
        },
        {
          "output_type": "display_data",
          "data": {
            "text/plain": [
              "Epoch 217/400:   0%|          | 0/3 [00:00<?, ?it/s]"
            ],
            "application/vnd.jupyter.widget-view+json": {
              "version_major": 2,
              "version_minor": 0,
              "model_id": "84aad23d34e046fd8869e88dd34843ec"
            }
          },
          "metadata": {}
        },
        {
          "output_type": "display_data",
          "data": {
            "text/plain": [
              "Epoch 218/400:   0%|          | 0/3 [00:00<?, ?it/s]"
            ],
            "application/vnd.jupyter.widget-view+json": {
              "version_major": 2,
              "version_minor": 0,
              "model_id": "9e99761dc97b4673b4d67ce455d839bc"
            }
          },
          "metadata": {}
        },
        {
          "output_type": "display_data",
          "data": {
            "text/plain": [
              "Epoch 219/400:   0%|          | 0/3 [00:00<?, ?it/s]"
            ],
            "application/vnd.jupyter.widget-view+json": {
              "version_major": 2,
              "version_minor": 0,
              "model_id": "280c8d8c127147c28f331f2dbffe678d"
            }
          },
          "metadata": {}
        },
        {
          "output_type": "display_data",
          "data": {
            "text/plain": [
              "Epoch 220/400:   0%|          | 0/3 [00:00<?, ?it/s]"
            ],
            "application/vnd.jupyter.widget-view+json": {
              "version_major": 2,
              "version_minor": 0,
              "model_id": "b4f4a22fad124deea7c238c893d5da7b"
            }
          },
          "metadata": {}
        },
        {
          "output_type": "display_data",
          "data": {
            "text/plain": [
              "Epoch 221/400:   0%|          | 0/3 [00:00<?, ?it/s]"
            ],
            "application/vnd.jupyter.widget-view+json": {
              "version_major": 2,
              "version_minor": 0,
              "model_id": "0450f50327434abf904c6573080d142d"
            }
          },
          "metadata": {}
        },
        {
          "output_type": "display_data",
          "data": {
            "text/plain": [
              "Epoch 222/400:   0%|          | 0/3 [00:00<?, ?it/s]"
            ],
            "application/vnd.jupyter.widget-view+json": {
              "version_major": 2,
              "version_minor": 0,
              "model_id": "4f9130c809394f5f9a45f55f4ef69ff3"
            }
          },
          "metadata": {}
        },
        {
          "output_type": "display_data",
          "data": {
            "text/plain": [
              "Epoch 223/400:   0%|          | 0/3 [00:00<?, ?it/s]"
            ],
            "application/vnd.jupyter.widget-view+json": {
              "version_major": 2,
              "version_minor": 0,
              "model_id": "e07d3ee03a31418ebed8f3378461debd"
            }
          },
          "metadata": {}
        },
        {
          "output_type": "display_data",
          "data": {
            "text/plain": [
              "Epoch 224/400:   0%|          | 0/3 [00:00<?, ?it/s]"
            ],
            "application/vnd.jupyter.widget-view+json": {
              "version_major": 2,
              "version_minor": 0,
              "model_id": "622c01fca55b4606a35126dc191fe674"
            }
          },
          "metadata": {}
        },
        {
          "output_type": "display_data",
          "data": {
            "text/plain": [
              "Epoch 225/400:   0%|          | 0/3 [00:00<?, ?it/s]"
            ],
            "application/vnd.jupyter.widget-view+json": {
              "version_major": 2,
              "version_minor": 0,
              "model_id": "07fa61032fc3494e8d0097df6363375c"
            }
          },
          "metadata": {}
        },
        {
          "output_type": "display_data",
          "data": {
            "text/plain": [
              "Epoch 226/400:   0%|          | 0/3 [00:00<?, ?it/s]"
            ],
            "application/vnd.jupyter.widget-view+json": {
              "version_major": 2,
              "version_minor": 0,
              "model_id": "700d47d7aabf481aa9fe21212e623f0c"
            }
          },
          "metadata": {}
        },
        {
          "output_type": "display_data",
          "data": {
            "text/plain": [
              "Epoch 227/400:   0%|          | 0/3 [00:00<?, ?it/s]"
            ],
            "application/vnd.jupyter.widget-view+json": {
              "version_major": 2,
              "version_minor": 0,
              "model_id": "ed30ae9a87f24a428b468691431bf9b3"
            }
          },
          "metadata": {}
        },
        {
          "output_type": "display_data",
          "data": {
            "text/plain": [
              "Epoch 228/400:   0%|          | 0/3 [00:00<?, ?it/s]"
            ],
            "application/vnd.jupyter.widget-view+json": {
              "version_major": 2,
              "version_minor": 0,
              "model_id": "e1fe965f797c4e22bdcc2acf7a1effbd"
            }
          },
          "metadata": {}
        },
        {
          "output_type": "display_data",
          "data": {
            "text/plain": [
              "Epoch 229/400:   0%|          | 0/3 [00:00<?, ?it/s]"
            ],
            "application/vnd.jupyter.widget-view+json": {
              "version_major": 2,
              "version_minor": 0,
              "model_id": "b6781d09d8f348d5b3fecf80681bf335"
            }
          },
          "metadata": {}
        },
        {
          "output_type": "display_data",
          "data": {
            "text/plain": [
              "Epoch 230/400:   0%|          | 0/3 [00:00<?, ?it/s]"
            ],
            "application/vnd.jupyter.widget-view+json": {
              "version_major": 2,
              "version_minor": 0,
              "model_id": "60d2136f7c4a4616be36a97cf945a53e"
            }
          },
          "metadata": {}
        },
        {
          "output_type": "display_data",
          "data": {
            "text/plain": [
              "Epoch 231/400:   0%|          | 0/3 [00:00<?, ?it/s]"
            ],
            "application/vnd.jupyter.widget-view+json": {
              "version_major": 2,
              "version_minor": 0,
              "model_id": "e4e40f51c9534cfb836d3e24a0fc493f"
            }
          },
          "metadata": {}
        },
        {
          "output_type": "display_data",
          "data": {
            "text/plain": [
              "Epoch 232/400:   0%|          | 0/3 [00:00<?, ?it/s]"
            ],
            "application/vnd.jupyter.widget-view+json": {
              "version_major": 2,
              "version_minor": 0,
              "model_id": "5c6a187424594c4babd90def5084437f"
            }
          },
          "metadata": {}
        },
        {
          "output_type": "display_data",
          "data": {
            "text/plain": [
              "Epoch 233/400:   0%|          | 0/3 [00:00<?, ?it/s]"
            ],
            "application/vnd.jupyter.widget-view+json": {
              "version_major": 2,
              "version_minor": 0,
              "model_id": "9642163776464466b08dbdfbf7882a3b"
            }
          },
          "metadata": {}
        },
        {
          "output_type": "display_data",
          "data": {
            "text/plain": [
              "Epoch 234/400:   0%|          | 0/3 [00:00<?, ?it/s]"
            ],
            "application/vnd.jupyter.widget-view+json": {
              "version_major": 2,
              "version_minor": 0,
              "model_id": "aab5bcc6dddd449eb18d1d5f7f4bc21f"
            }
          },
          "metadata": {}
        },
        {
          "output_type": "display_data",
          "data": {
            "text/plain": [
              "Epoch 235/400:   0%|          | 0/3 [00:00<?, ?it/s]"
            ],
            "application/vnd.jupyter.widget-view+json": {
              "version_major": 2,
              "version_minor": 0,
              "model_id": "d27c4bf69ca74380841157034a372871"
            }
          },
          "metadata": {}
        },
        {
          "output_type": "display_data",
          "data": {
            "text/plain": [
              "Epoch 236/400:   0%|          | 0/3 [00:00<?, ?it/s]"
            ],
            "application/vnd.jupyter.widget-view+json": {
              "version_major": 2,
              "version_minor": 0,
              "model_id": "e5a39588fe574d11994e4d743356989e"
            }
          },
          "metadata": {}
        },
        {
          "output_type": "display_data",
          "data": {
            "text/plain": [
              "Epoch 237/400:   0%|          | 0/3 [00:00<?, ?it/s]"
            ],
            "application/vnd.jupyter.widget-view+json": {
              "version_major": 2,
              "version_minor": 0,
              "model_id": "8113cc1c5ef84f4a9e626387f5ad579a"
            }
          },
          "metadata": {}
        },
        {
          "output_type": "display_data",
          "data": {
            "text/plain": [
              "Epoch 238/400:   0%|          | 0/3 [00:00<?, ?it/s]"
            ],
            "application/vnd.jupyter.widget-view+json": {
              "version_major": 2,
              "version_minor": 0,
              "model_id": "94bd49c87120492ca372220c3e9f3c7a"
            }
          },
          "metadata": {}
        },
        {
          "output_type": "display_data",
          "data": {
            "text/plain": [
              "Epoch 239/400:   0%|          | 0/3 [00:00<?, ?it/s]"
            ],
            "application/vnd.jupyter.widget-view+json": {
              "version_major": 2,
              "version_minor": 0,
              "model_id": "969b00ec35614c65ae750e35102e9140"
            }
          },
          "metadata": {}
        },
        {
          "output_type": "display_data",
          "data": {
            "text/plain": [
              "Epoch 240/400:   0%|          | 0/3 [00:00<?, ?it/s]"
            ],
            "application/vnd.jupyter.widget-view+json": {
              "version_major": 2,
              "version_minor": 0,
              "model_id": "b5228dc1cf0e45efa845b27cdbf6b1d0"
            }
          },
          "metadata": {}
        },
        {
          "output_type": "display_data",
          "data": {
            "text/plain": [
              "Epoch 241/400:   0%|          | 0/3 [00:00<?, ?it/s]"
            ],
            "application/vnd.jupyter.widget-view+json": {
              "version_major": 2,
              "version_minor": 0,
              "model_id": "cd402288063d4c9e95da15d1fb2e4aff"
            }
          },
          "metadata": {}
        },
        {
          "output_type": "display_data",
          "data": {
            "text/plain": [
              "Epoch 242/400:   0%|          | 0/3 [00:00<?, ?it/s]"
            ],
            "application/vnd.jupyter.widget-view+json": {
              "version_major": 2,
              "version_minor": 0,
              "model_id": "c776e86353434b0c99cb79ecdaac41f9"
            }
          },
          "metadata": {}
        },
        {
          "output_type": "display_data",
          "data": {
            "text/plain": [
              "Epoch 243/400:   0%|          | 0/3 [00:00<?, ?it/s]"
            ],
            "application/vnd.jupyter.widget-view+json": {
              "version_major": 2,
              "version_minor": 0,
              "model_id": "86e1d3bf23d64ca19e7efee21e151328"
            }
          },
          "metadata": {}
        },
        {
          "output_type": "display_data",
          "data": {
            "text/plain": [
              "Epoch 244/400:   0%|          | 0/3 [00:00<?, ?it/s]"
            ],
            "application/vnd.jupyter.widget-view+json": {
              "version_major": 2,
              "version_minor": 0,
              "model_id": "070728311b324bf699cfecfe1feccec1"
            }
          },
          "metadata": {}
        },
        {
          "output_type": "display_data",
          "data": {
            "text/plain": [
              "Epoch 245/400:   0%|          | 0/3 [00:00<?, ?it/s]"
            ],
            "application/vnd.jupyter.widget-view+json": {
              "version_major": 2,
              "version_minor": 0,
              "model_id": "7228a943d4e94941bd8aed9b5556e946"
            }
          },
          "metadata": {}
        },
        {
          "output_type": "display_data",
          "data": {
            "text/plain": [
              "Epoch 246/400:   0%|          | 0/3 [00:00<?, ?it/s]"
            ],
            "application/vnd.jupyter.widget-view+json": {
              "version_major": 2,
              "version_minor": 0,
              "model_id": "6e219ef1ef0344dd854c238145bf540d"
            }
          },
          "metadata": {}
        },
        {
          "output_type": "display_data",
          "data": {
            "text/plain": [
              "Epoch 247/400:   0%|          | 0/3 [00:00<?, ?it/s]"
            ],
            "application/vnd.jupyter.widget-view+json": {
              "version_major": 2,
              "version_minor": 0,
              "model_id": "8d19928554bc45c5a648f1fd37b10ee7"
            }
          },
          "metadata": {}
        },
        {
          "output_type": "display_data",
          "data": {
            "text/plain": [
              "Epoch 248/400:   0%|          | 0/3 [00:00<?, ?it/s]"
            ],
            "application/vnd.jupyter.widget-view+json": {
              "version_major": 2,
              "version_minor": 0,
              "model_id": "00b7e379be1a4384817b589490400674"
            }
          },
          "metadata": {}
        },
        {
          "output_type": "display_data",
          "data": {
            "text/plain": [
              "Epoch 249/400:   0%|          | 0/3 [00:00<?, ?it/s]"
            ],
            "application/vnd.jupyter.widget-view+json": {
              "version_major": 2,
              "version_minor": 0,
              "model_id": "c27aac36e3cc409f96b3b432e87633f8"
            }
          },
          "metadata": {}
        },
        {
          "output_type": "display_data",
          "data": {
            "text/plain": [
              "Epoch 250/400:   0%|          | 0/3 [00:00<?, ?it/s]"
            ],
            "application/vnd.jupyter.widget-view+json": {
              "version_major": 2,
              "version_minor": 0,
              "model_id": "4bc95f5e3fa74bdd961730f27c48d6e6"
            }
          },
          "metadata": {}
        },
        {
          "output_type": "display_data",
          "data": {
            "text/plain": [
              "Epoch 251/400:   0%|          | 0/3 [00:00<?, ?it/s]"
            ],
            "application/vnd.jupyter.widget-view+json": {
              "version_major": 2,
              "version_minor": 0,
              "model_id": "1fe9229c27df444899fb05fb35466f73"
            }
          },
          "metadata": {}
        },
        {
          "output_type": "display_data",
          "data": {
            "text/plain": [
              "Epoch 252/400:   0%|          | 0/3 [00:00<?, ?it/s]"
            ],
            "application/vnd.jupyter.widget-view+json": {
              "version_major": 2,
              "version_minor": 0,
              "model_id": "dadeb1c63da547d59ea1dd2be30a1162"
            }
          },
          "metadata": {}
        },
        {
          "output_type": "display_data",
          "data": {
            "text/plain": [
              "Epoch 253/400:   0%|          | 0/3 [00:00<?, ?it/s]"
            ],
            "application/vnd.jupyter.widget-view+json": {
              "version_major": 2,
              "version_minor": 0,
              "model_id": "04ce8e37d4d4436db13775f4d111da58"
            }
          },
          "metadata": {}
        },
        {
          "output_type": "display_data",
          "data": {
            "text/plain": [
              "Epoch 254/400:   0%|          | 0/3 [00:00<?, ?it/s]"
            ],
            "application/vnd.jupyter.widget-view+json": {
              "version_major": 2,
              "version_minor": 0,
              "model_id": "a342db5d8a9d48b4a61c0bd281d22b31"
            }
          },
          "metadata": {}
        },
        {
          "output_type": "display_data",
          "data": {
            "text/plain": [
              "Epoch 255/400:   0%|          | 0/3 [00:00<?, ?it/s]"
            ],
            "application/vnd.jupyter.widget-view+json": {
              "version_major": 2,
              "version_minor": 0,
              "model_id": "f4739abb313a494d965570aeb4663e19"
            }
          },
          "metadata": {}
        },
        {
          "output_type": "display_data",
          "data": {
            "text/plain": [
              "Epoch 256/400:   0%|          | 0/3 [00:00<?, ?it/s]"
            ],
            "application/vnd.jupyter.widget-view+json": {
              "version_major": 2,
              "version_minor": 0,
              "model_id": "2d5232ab28c44ce785dbcfedcd96dbfb"
            }
          },
          "metadata": {}
        },
        {
          "output_type": "display_data",
          "data": {
            "text/plain": [
              "Epoch 257/400:   0%|          | 0/3 [00:00<?, ?it/s]"
            ],
            "application/vnd.jupyter.widget-view+json": {
              "version_major": 2,
              "version_minor": 0,
              "model_id": "b98a7b458101457dafb5a0ceb7a6e281"
            }
          },
          "metadata": {}
        },
        {
          "output_type": "display_data",
          "data": {
            "text/plain": [
              "Epoch 258/400:   0%|          | 0/3 [00:00<?, ?it/s]"
            ],
            "application/vnd.jupyter.widget-view+json": {
              "version_major": 2,
              "version_minor": 0,
              "model_id": "f9ca96f008754beaa7170ca357200ade"
            }
          },
          "metadata": {}
        },
        {
          "output_type": "display_data",
          "data": {
            "text/plain": [
              "Epoch 259/400:   0%|          | 0/3 [00:00<?, ?it/s]"
            ],
            "application/vnd.jupyter.widget-view+json": {
              "version_major": 2,
              "version_minor": 0,
              "model_id": "3077a4ddf7d24f42b68b24bb72f883ea"
            }
          },
          "metadata": {}
        },
        {
          "output_type": "display_data",
          "data": {
            "text/plain": [
              "Epoch 260/400:   0%|          | 0/3 [00:00<?, ?it/s]"
            ],
            "application/vnd.jupyter.widget-view+json": {
              "version_major": 2,
              "version_minor": 0,
              "model_id": "cc13289a2daa4acfac83d77d89d6d86e"
            }
          },
          "metadata": {}
        },
        {
          "output_type": "display_data",
          "data": {
            "text/plain": [
              "Epoch 261/400:   0%|          | 0/3 [00:00<?, ?it/s]"
            ],
            "application/vnd.jupyter.widget-view+json": {
              "version_major": 2,
              "version_minor": 0,
              "model_id": "b6019d4407164b9f92bb108f8e146759"
            }
          },
          "metadata": {}
        },
        {
          "output_type": "display_data",
          "data": {
            "text/plain": [
              "Epoch 262/400:   0%|          | 0/3 [00:00<?, ?it/s]"
            ],
            "application/vnd.jupyter.widget-view+json": {
              "version_major": 2,
              "version_minor": 0,
              "model_id": "e693a57955434beab497ea5f17535f57"
            }
          },
          "metadata": {}
        },
        {
          "output_type": "display_data",
          "data": {
            "text/plain": [
              "Epoch 263/400:   0%|          | 0/3 [00:00<?, ?it/s]"
            ],
            "application/vnd.jupyter.widget-view+json": {
              "version_major": 2,
              "version_minor": 0,
              "model_id": "ab6832c9af8541f99cfa2d90c84d13e7"
            }
          },
          "metadata": {}
        },
        {
          "output_type": "display_data",
          "data": {
            "text/plain": [
              "Epoch 264/400:   0%|          | 0/3 [00:00<?, ?it/s]"
            ],
            "application/vnd.jupyter.widget-view+json": {
              "version_major": 2,
              "version_minor": 0,
              "model_id": "c807c1a364a94582a66bc4f18c8207ce"
            }
          },
          "metadata": {}
        },
        {
          "output_type": "display_data",
          "data": {
            "text/plain": [
              "Epoch 265/400:   0%|          | 0/3 [00:00<?, ?it/s]"
            ],
            "application/vnd.jupyter.widget-view+json": {
              "version_major": 2,
              "version_minor": 0,
              "model_id": "cd4f8382ad684512b6bdc31a7bc645e3"
            }
          },
          "metadata": {}
        },
        {
          "output_type": "display_data",
          "data": {
            "text/plain": [
              "Epoch 266/400:   0%|          | 0/3 [00:00<?, ?it/s]"
            ],
            "application/vnd.jupyter.widget-view+json": {
              "version_major": 2,
              "version_minor": 0,
              "model_id": "23541329533447fead8b69b5ab63a23a"
            }
          },
          "metadata": {}
        },
        {
          "output_type": "display_data",
          "data": {
            "text/plain": [
              "Epoch 267/400:   0%|          | 0/3 [00:00<?, ?it/s]"
            ],
            "application/vnd.jupyter.widget-view+json": {
              "version_major": 2,
              "version_minor": 0,
              "model_id": "5ea8e3acdaf74a899592eed5db1caff6"
            }
          },
          "metadata": {}
        },
        {
          "output_type": "display_data",
          "data": {
            "text/plain": [
              "Epoch 268/400:   0%|          | 0/3 [00:00<?, ?it/s]"
            ],
            "application/vnd.jupyter.widget-view+json": {
              "version_major": 2,
              "version_minor": 0,
              "model_id": "4bb26e0acf8e40478b4d2c1fce9d389a"
            }
          },
          "metadata": {}
        },
        {
          "output_type": "display_data",
          "data": {
            "text/plain": [
              "Epoch 269/400:   0%|          | 0/3 [00:00<?, ?it/s]"
            ],
            "application/vnd.jupyter.widget-view+json": {
              "version_major": 2,
              "version_minor": 0,
              "model_id": "8e6b515bd02b41f9b29832acf7e44709"
            }
          },
          "metadata": {}
        },
        {
          "output_type": "display_data",
          "data": {
            "text/plain": [
              "Epoch 270/400:   0%|          | 0/3 [00:00<?, ?it/s]"
            ],
            "application/vnd.jupyter.widget-view+json": {
              "version_major": 2,
              "version_minor": 0,
              "model_id": "c6329c52f714444297597b0656136051"
            }
          },
          "metadata": {}
        },
        {
          "output_type": "display_data",
          "data": {
            "text/plain": [
              "Epoch 271/400:   0%|          | 0/3 [00:00<?, ?it/s]"
            ],
            "application/vnd.jupyter.widget-view+json": {
              "version_major": 2,
              "version_minor": 0,
              "model_id": "a59a251e8ded44e9acb8e8a9585f27ae"
            }
          },
          "metadata": {}
        },
        {
          "output_type": "display_data",
          "data": {
            "text/plain": [
              "Epoch 272/400:   0%|          | 0/3 [00:00<?, ?it/s]"
            ],
            "application/vnd.jupyter.widget-view+json": {
              "version_major": 2,
              "version_minor": 0,
              "model_id": "ebef1e6bf7c544a9b9e6dc3d7512d3a7"
            }
          },
          "metadata": {}
        },
        {
          "output_type": "display_data",
          "data": {
            "text/plain": [
              "Epoch 273/400:   0%|          | 0/3 [00:00<?, ?it/s]"
            ],
            "application/vnd.jupyter.widget-view+json": {
              "version_major": 2,
              "version_minor": 0,
              "model_id": "cc3b6fc9745a439fb90460d7296bd871"
            }
          },
          "metadata": {}
        },
        {
          "output_type": "display_data",
          "data": {
            "text/plain": [
              "Epoch 274/400:   0%|          | 0/3 [00:00<?, ?it/s]"
            ],
            "application/vnd.jupyter.widget-view+json": {
              "version_major": 2,
              "version_minor": 0,
              "model_id": "e3143c1156fc4dffb36b49570301649d"
            }
          },
          "metadata": {}
        },
        {
          "output_type": "display_data",
          "data": {
            "text/plain": [
              "Epoch 275/400:   0%|          | 0/3 [00:00<?, ?it/s]"
            ],
            "application/vnd.jupyter.widget-view+json": {
              "version_major": 2,
              "version_minor": 0,
              "model_id": "a7815d2cef974b25aca2f6aa5cff83f8"
            }
          },
          "metadata": {}
        },
        {
          "output_type": "display_data",
          "data": {
            "text/plain": [
              "Epoch 276/400:   0%|          | 0/3 [00:00<?, ?it/s]"
            ],
            "application/vnd.jupyter.widget-view+json": {
              "version_major": 2,
              "version_minor": 0,
              "model_id": "443992a463954f0881018450c0bdcbac"
            }
          },
          "metadata": {}
        },
        {
          "output_type": "display_data",
          "data": {
            "text/plain": [
              "Epoch 277/400:   0%|          | 0/3 [00:00<?, ?it/s]"
            ],
            "application/vnd.jupyter.widget-view+json": {
              "version_major": 2,
              "version_minor": 0,
              "model_id": "5789a820a6184e2b97d46c581e094096"
            }
          },
          "metadata": {}
        },
        {
          "output_type": "display_data",
          "data": {
            "text/plain": [
              "Epoch 278/400:   0%|          | 0/3 [00:00<?, ?it/s]"
            ],
            "application/vnd.jupyter.widget-view+json": {
              "version_major": 2,
              "version_minor": 0,
              "model_id": "0af90e32c25a42ffb196ee6d3f46b062"
            }
          },
          "metadata": {}
        },
        {
          "output_type": "display_data",
          "data": {
            "text/plain": [
              "Epoch 279/400:   0%|          | 0/3 [00:00<?, ?it/s]"
            ],
            "application/vnd.jupyter.widget-view+json": {
              "version_major": 2,
              "version_minor": 0,
              "model_id": "14c83706d66443c48c50217de823cfc9"
            }
          },
          "metadata": {}
        },
        {
          "output_type": "display_data",
          "data": {
            "text/plain": [
              "Epoch 280/400:   0%|          | 0/3 [00:00<?, ?it/s]"
            ],
            "application/vnd.jupyter.widget-view+json": {
              "version_major": 2,
              "version_minor": 0,
              "model_id": "9b2da1a19bc340bd806040ebe95e244d"
            }
          },
          "metadata": {}
        },
        {
          "output_type": "display_data",
          "data": {
            "text/plain": [
              "Epoch 281/400:   0%|          | 0/3 [00:00<?, ?it/s]"
            ],
            "application/vnd.jupyter.widget-view+json": {
              "version_major": 2,
              "version_minor": 0,
              "model_id": "fbabcd8506e24e45942e3b7a879a9622"
            }
          },
          "metadata": {}
        },
        {
          "output_type": "display_data",
          "data": {
            "text/plain": [
              "Epoch 282/400:   0%|          | 0/3 [00:00<?, ?it/s]"
            ],
            "application/vnd.jupyter.widget-view+json": {
              "version_major": 2,
              "version_minor": 0,
              "model_id": "763dfe69aeae4f94b794ac74e3451cb7"
            }
          },
          "metadata": {}
        },
        {
          "output_type": "display_data",
          "data": {
            "text/plain": [
              "Epoch 283/400:   0%|          | 0/3 [00:00<?, ?it/s]"
            ],
            "application/vnd.jupyter.widget-view+json": {
              "version_major": 2,
              "version_minor": 0,
              "model_id": "a002aebcfffc4bfa94ee8375035bf9fb"
            }
          },
          "metadata": {}
        },
        {
          "output_type": "display_data",
          "data": {
            "text/plain": [
              "Epoch 284/400:   0%|          | 0/3 [00:00<?, ?it/s]"
            ],
            "application/vnd.jupyter.widget-view+json": {
              "version_major": 2,
              "version_minor": 0,
              "model_id": "a9c4a8b272394ecc90936d3af4c48351"
            }
          },
          "metadata": {}
        },
        {
          "output_type": "display_data",
          "data": {
            "text/plain": [
              "Epoch 285/400:   0%|          | 0/3 [00:00<?, ?it/s]"
            ],
            "application/vnd.jupyter.widget-view+json": {
              "version_major": 2,
              "version_minor": 0,
              "model_id": "b86b98683dd443c48439bde0fc765e01"
            }
          },
          "metadata": {}
        },
        {
          "output_type": "display_data",
          "data": {
            "text/plain": [
              "Epoch 286/400:   0%|          | 0/3 [00:00<?, ?it/s]"
            ],
            "application/vnd.jupyter.widget-view+json": {
              "version_major": 2,
              "version_minor": 0,
              "model_id": "07b9fa93ccb4464ba32bc88dc7b35392"
            }
          },
          "metadata": {}
        },
        {
          "output_type": "display_data",
          "data": {
            "text/plain": [
              "Epoch 287/400:   0%|          | 0/3 [00:00<?, ?it/s]"
            ],
            "application/vnd.jupyter.widget-view+json": {
              "version_major": 2,
              "version_minor": 0,
              "model_id": "6b967dd0e45f48b0b601c7d1cecd451b"
            }
          },
          "metadata": {}
        },
        {
          "output_type": "display_data",
          "data": {
            "text/plain": [
              "Epoch 288/400:   0%|          | 0/3 [00:00<?, ?it/s]"
            ],
            "application/vnd.jupyter.widget-view+json": {
              "version_major": 2,
              "version_minor": 0,
              "model_id": "5345335c032c4875ba8490f6a16f0367"
            }
          },
          "metadata": {}
        },
        {
          "output_type": "display_data",
          "data": {
            "text/plain": [
              "Epoch 289/400:   0%|          | 0/3 [00:00<?, ?it/s]"
            ],
            "application/vnd.jupyter.widget-view+json": {
              "version_major": 2,
              "version_minor": 0,
              "model_id": "343ffff95b734708b5c14342e5b67e91"
            }
          },
          "metadata": {}
        },
        {
          "output_type": "display_data",
          "data": {
            "text/plain": [
              "Epoch 290/400:   0%|          | 0/3 [00:00<?, ?it/s]"
            ],
            "application/vnd.jupyter.widget-view+json": {
              "version_major": 2,
              "version_minor": 0,
              "model_id": "56354665459c4661ac71c544b97de787"
            }
          },
          "metadata": {}
        },
        {
          "output_type": "display_data",
          "data": {
            "text/plain": [
              "Epoch 291/400:   0%|          | 0/3 [00:00<?, ?it/s]"
            ],
            "application/vnd.jupyter.widget-view+json": {
              "version_major": 2,
              "version_minor": 0,
              "model_id": "b0bd01389a024d5ea8d098347bdf2b58"
            }
          },
          "metadata": {}
        },
        {
          "output_type": "display_data",
          "data": {
            "text/plain": [
              "Epoch 292/400:   0%|          | 0/3 [00:00<?, ?it/s]"
            ],
            "application/vnd.jupyter.widget-view+json": {
              "version_major": 2,
              "version_minor": 0,
              "model_id": "c40fc67b0e8042b48a6b5759081fee8e"
            }
          },
          "metadata": {}
        },
        {
          "output_type": "display_data",
          "data": {
            "text/plain": [
              "Epoch 293/400:   0%|          | 0/3 [00:00<?, ?it/s]"
            ],
            "application/vnd.jupyter.widget-view+json": {
              "version_major": 2,
              "version_minor": 0,
              "model_id": "95582cc210de49e3a5ab608bf2eb85be"
            }
          },
          "metadata": {}
        },
        {
          "output_type": "display_data",
          "data": {
            "text/plain": [
              "Epoch 294/400:   0%|          | 0/3 [00:00<?, ?it/s]"
            ],
            "application/vnd.jupyter.widget-view+json": {
              "version_major": 2,
              "version_minor": 0,
              "model_id": "57e0aa73dd284b0a81fafb2b7937823a"
            }
          },
          "metadata": {}
        },
        {
          "output_type": "display_data",
          "data": {
            "text/plain": [
              "Epoch 295/400:   0%|          | 0/3 [00:00<?, ?it/s]"
            ],
            "application/vnd.jupyter.widget-view+json": {
              "version_major": 2,
              "version_minor": 0,
              "model_id": "9b96c10a11ac449a9a2fe42fee24b5c7"
            }
          },
          "metadata": {}
        },
        {
          "output_type": "display_data",
          "data": {
            "text/plain": [
              "Epoch 296/400:   0%|          | 0/3 [00:00<?, ?it/s]"
            ],
            "application/vnd.jupyter.widget-view+json": {
              "version_major": 2,
              "version_minor": 0,
              "model_id": "e6ff540a9184487baa2c63bb8ea7a11c"
            }
          },
          "metadata": {}
        },
        {
          "output_type": "display_data",
          "data": {
            "text/plain": [
              "Epoch 297/400:   0%|          | 0/3 [00:00<?, ?it/s]"
            ],
            "application/vnd.jupyter.widget-view+json": {
              "version_major": 2,
              "version_minor": 0,
              "model_id": "2db0ce59fced41ccaec848abf11ef47a"
            }
          },
          "metadata": {}
        },
        {
          "output_type": "display_data",
          "data": {
            "text/plain": [
              "Epoch 298/400:   0%|          | 0/3 [00:00<?, ?it/s]"
            ],
            "application/vnd.jupyter.widget-view+json": {
              "version_major": 2,
              "version_minor": 0,
              "model_id": "d7915a339aed49b38e2856841d4de276"
            }
          },
          "metadata": {}
        },
        {
          "output_type": "display_data",
          "data": {
            "text/plain": [
              "Epoch 299/400:   0%|          | 0/3 [00:00<?, ?it/s]"
            ],
            "application/vnd.jupyter.widget-view+json": {
              "version_major": 2,
              "version_minor": 0,
              "model_id": "d2d09169709946f6bde6b4cc6d40838f"
            }
          },
          "metadata": {}
        },
        {
          "output_type": "display_data",
          "data": {
            "text/plain": [
              "Epoch 300/400:   0%|          | 0/3 [00:00<?, ?it/s]"
            ],
            "application/vnd.jupyter.widget-view+json": {
              "version_major": 2,
              "version_minor": 0,
              "model_id": "66e3c88211554be5b7ac80b4c53ed651"
            }
          },
          "metadata": {}
        },
        {
          "output_type": "display_data",
          "data": {
            "text/plain": [
              "Epoch 301/400:   0%|          | 0/3 [00:00<?, ?it/s]"
            ],
            "application/vnd.jupyter.widget-view+json": {
              "version_major": 2,
              "version_minor": 0,
              "model_id": "420d47cb33ec4066bc12a76701169480"
            }
          },
          "metadata": {}
        },
        {
          "output_type": "display_data",
          "data": {
            "text/plain": [
              "Epoch 302/400:   0%|          | 0/3 [00:00<?, ?it/s]"
            ],
            "application/vnd.jupyter.widget-view+json": {
              "version_major": 2,
              "version_minor": 0,
              "model_id": "4213429b523b4c1b91b44992080294b2"
            }
          },
          "metadata": {}
        },
        {
          "output_type": "display_data",
          "data": {
            "text/plain": [
              "Epoch 303/400:   0%|          | 0/3 [00:00<?, ?it/s]"
            ],
            "application/vnd.jupyter.widget-view+json": {
              "version_major": 2,
              "version_minor": 0,
              "model_id": "359f4c4bb46f4639ad1ca299e11f8679"
            }
          },
          "metadata": {}
        },
        {
          "output_type": "display_data",
          "data": {
            "text/plain": [
              "Epoch 304/400:   0%|          | 0/3 [00:00<?, ?it/s]"
            ],
            "application/vnd.jupyter.widget-view+json": {
              "version_major": 2,
              "version_minor": 0,
              "model_id": "3eb97be747854ca086b917f202165a10"
            }
          },
          "metadata": {}
        },
        {
          "output_type": "display_data",
          "data": {
            "text/plain": [
              "Epoch 305/400:   0%|          | 0/3 [00:00<?, ?it/s]"
            ],
            "application/vnd.jupyter.widget-view+json": {
              "version_major": 2,
              "version_minor": 0,
              "model_id": "f894ec45ffd247e59655bed7bfdd5e70"
            }
          },
          "metadata": {}
        },
        {
          "output_type": "display_data",
          "data": {
            "text/plain": [
              "Epoch 306/400:   0%|          | 0/3 [00:00<?, ?it/s]"
            ],
            "application/vnd.jupyter.widget-view+json": {
              "version_major": 2,
              "version_minor": 0,
              "model_id": "00818bdf19644fd98c127f96c54ea6ee"
            }
          },
          "metadata": {}
        },
        {
          "output_type": "display_data",
          "data": {
            "text/plain": [
              "Epoch 307/400:   0%|          | 0/3 [00:00<?, ?it/s]"
            ],
            "application/vnd.jupyter.widget-view+json": {
              "version_major": 2,
              "version_minor": 0,
              "model_id": "15c85fb25d004074880b6cd5664be04d"
            }
          },
          "metadata": {}
        },
        {
          "output_type": "display_data",
          "data": {
            "text/plain": [
              "Epoch 308/400:   0%|          | 0/3 [00:00<?, ?it/s]"
            ],
            "application/vnd.jupyter.widget-view+json": {
              "version_major": 2,
              "version_minor": 0,
              "model_id": "dbe4a48edd894eed86f556559b32d50a"
            }
          },
          "metadata": {}
        },
        {
          "output_type": "display_data",
          "data": {
            "text/plain": [
              "Epoch 309/400:   0%|          | 0/3 [00:00<?, ?it/s]"
            ],
            "application/vnd.jupyter.widget-view+json": {
              "version_major": 2,
              "version_minor": 0,
              "model_id": "800ef0b4c0d2468c81b59b95e48c5a70"
            }
          },
          "metadata": {}
        },
        {
          "output_type": "display_data",
          "data": {
            "text/plain": [
              "Epoch 310/400:   0%|          | 0/3 [00:00<?, ?it/s]"
            ],
            "application/vnd.jupyter.widget-view+json": {
              "version_major": 2,
              "version_minor": 0,
              "model_id": "cf41e3c3b206471585c29724370e33b1"
            }
          },
          "metadata": {}
        },
        {
          "output_type": "display_data",
          "data": {
            "text/plain": [
              "Epoch 311/400:   0%|          | 0/3 [00:00<?, ?it/s]"
            ],
            "application/vnd.jupyter.widget-view+json": {
              "version_major": 2,
              "version_minor": 0,
              "model_id": "a22c589fab034d63ab1e985893652d21"
            }
          },
          "metadata": {}
        },
        {
          "output_type": "display_data",
          "data": {
            "text/plain": [
              "Epoch 312/400:   0%|          | 0/3 [00:00<?, ?it/s]"
            ],
            "application/vnd.jupyter.widget-view+json": {
              "version_major": 2,
              "version_minor": 0,
              "model_id": "e809babc82c04692bee9d8eaa31c61cb"
            }
          },
          "metadata": {}
        },
        {
          "output_type": "display_data",
          "data": {
            "text/plain": [
              "Epoch 313/400:   0%|          | 0/3 [00:00<?, ?it/s]"
            ],
            "application/vnd.jupyter.widget-view+json": {
              "version_major": 2,
              "version_minor": 0,
              "model_id": "c0cfd329269d458d955a0135c2b4f9ea"
            }
          },
          "metadata": {}
        },
        {
          "output_type": "display_data",
          "data": {
            "text/plain": [
              "Epoch 314/400:   0%|          | 0/3 [00:00<?, ?it/s]"
            ],
            "application/vnd.jupyter.widget-view+json": {
              "version_major": 2,
              "version_minor": 0,
              "model_id": "cad1206233e94466b6f41b0fac1935db"
            }
          },
          "metadata": {}
        },
        {
          "output_type": "display_data",
          "data": {
            "text/plain": [
              "Epoch 315/400:   0%|          | 0/3 [00:00<?, ?it/s]"
            ],
            "application/vnd.jupyter.widget-view+json": {
              "version_major": 2,
              "version_minor": 0,
              "model_id": "8d3c2c93876b4022b850d50a7ee99d57"
            }
          },
          "metadata": {}
        },
        {
          "output_type": "display_data",
          "data": {
            "text/plain": [
              "Epoch 316/400:   0%|          | 0/3 [00:00<?, ?it/s]"
            ],
            "application/vnd.jupyter.widget-view+json": {
              "version_major": 2,
              "version_minor": 0,
              "model_id": "c7a83dcfa9c14f1c9d4bacec20a5f87a"
            }
          },
          "metadata": {}
        },
        {
          "output_type": "display_data",
          "data": {
            "text/plain": [
              "Epoch 317/400:   0%|          | 0/3 [00:00<?, ?it/s]"
            ],
            "application/vnd.jupyter.widget-view+json": {
              "version_major": 2,
              "version_minor": 0,
              "model_id": "800ddda74b56415c88ba7868205a5216"
            }
          },
          "metadata": {}
        },
        {
          "output_type": "display_data",
          "data": {
            "text/plain": [
              "Epoch 318/400:   0%|          | 0/3 [00:00<?, ?it/s]"
            ],
            "application/vnd.jupyter.widget-view+json": {
              "version_major": 2,
              "version_minor": 0,
              "model_id": "2a4ed7a8a6354b7f877a965ace577c81"
            }
          },
          "metadata": {}
        },
        {
          "output_type": "display_data",
          "data": {
            "text/plain": [
              "Epoch 319/400:   0%|          | 0/3 [00:00<?, ?it/s]"
            ],
            "application/vnd.jupyter.widget-view+json": {
              "version_major": 2,
              "version_minor": 0,
              "model_id": "32794860b8fc45b398963eb4bd173531"
            }
          },
          "metadata": {}
        },
        {
          "output_type": "display_data",
          "data": {
            "text/plain": [
              "Epoch 320/400:   0%|          | 0/3 [00:00<?, ?it/s]"
            ],
            "application/vnd.jupyter.widget-view+json": {
              "version_major": 2,
              "version_minor": 0,
              "model_id": "50ee961582484079842375c4e7a9d2e8"
            }
          },
          "metadata": {}
        },
        {
          "output_type": "display_data",
          "data": {
            "text/plain": [
              "Epoch 321/400:   0%|          | 0/3 [00:00<?, ?it/s]"
            ],
            "application/vnd.jupyter.widget-view+json": {
              "version_major": 2,
              "version_minor": 0,
              "model_id": "4fba2e9dbe0d465986dff3a46c5277aa"
            }
          },
          "metadata": {}
        },
        {
          "output_type": "display_data",
          "data": {
            "text/plain": [
              "Epoch 322/400:   0%|          | 0/3 [00:00<?, ?it/s]"
            ],
            "application/vnd.jupyter.widget-view+json": {
              "version_major": 2,
              "version_minor": 0,
              "model_id": "4361ae8a68e34059be06ca443a9eea5b"
            }
          },
          "metadata": {}
        },
        {
          "output_type": "display_data",
          "data": {
            "text/plain": [
              "Epoch 323/400:   0%|          | 0/3 [00:00<?, ?it/s]"
            ],
            "application/vnd.jupyter.widget-view+json": {
              "version_major": 2,
              "version_minor": 0,
              "model_id": "2db72c30fc544097b495247b7477d296"
            }
          },
          "metadata": {}
        },
        {
          "output_type": "display_data",
          "data": {
            "text/plain": [
              "Epoch 324/400:   0%|          | 0/3 [00:00<?, ?it/s]"
            ],
            "application/vnd.jupyter.widget-view+json": {
              "version_major": 2,
              "version_minor": 0,
              "model_id": "d1119dc572c2456fab521ce5c49b4191"
            }
          },
          "metadata": {}
        },
        {
          "output_type": "display_data",
          "data": {
            "text/plain": [
              "Epoch 325/400:   0%|          | 0/3 [00:00<?, ?it/s]"
            ],
            "application/vnd.jupyter.widget-view+json": {
              "version_major": 2,
              "version_minor": 0,
              "model_id": "87af17b0b15447b384a19d2bf93b6c99"
            }
          },
          "metadata": {}
        },
        {
          "output_type": "display_data",
          "data": {
            "text/plain": [
              "Epoch 326/400:   0%|          | 0/3 [00:00<?, ?it/s]"
            ],
            "application/vnd.jupyter.widget-view+json": {
              "version_major": 2,
              "version_minor": 0,
              "model_id": "6203b08a629e49a2a8e5ca7e8ddca3cf"
            }
          },
          "metadata": {}
        },
        {
          "output_type": "display_data",
          "data": {
            "text/plain": [
              "Epoch 327/400:   0%|          | 0/3 [00:00<?, ?it/s]"
            ],
            "application/vnd.jupyter.widget-view+json": {
              "version_major": 2,
              "version_minor": 0,
              "model_id": "b66afccf577749e48d1b8d5275c02cc3"
            }
          },
          "metadata": {}
        },
        {
          "output_type": "display_data",
          "data": {
            "text/plain": [
              "Epoch 328/400:   0%|          | 0/3 [00:00<?, ?it/s]"
            ],
            "application/vnd.jupyter.widget-view+json": {
              "version_major": 2,
              "version_minor": 0,
              "model_id": "e763941bef9e4f44b8e98693c6ad65b0"
            }
          },
          "metadata": {}
        },
        {
          "output_type": "display_data",
          "data": {
            "text/plain": [
              "Epoch 329/400:   0%|          | 0/3 [00:00<?, ?it/s]"
            ],
            "application/vnd.jupyter.widget-view+json": {
              "version_major": 2,
              "version_minor": 0,
              "model_id": "e9df20c624044bdc90a3bd986fc91f68"
            }
          },
          "metadata": {}
        },
        {
          "output_type": "display_data",
          "data": {
            "text/plain": [
              "Epoch 330/400:   0%|          | 0/3 [00:00<?, ?it/s]"
            ],
            "application/vnd.jupyter.widget-view+json": {
              "version_major": 2,
              "version_minor": 0,
              "model_id": "c89340b1bb6d4529b3b88f7a38b0d6bb"
            }
          },
          "metadata": {}
        },
        {
          "output_type": "display_data",
          "data": {
            "text/plain": [
              "Epoch 331/400:   0%|          | 0/3 [00:00<?, ?it/s]"
            ],
            "application/vnd.jupyter.widget-view+json": {
              "version_major": 2,
              "version_minor": 0,
              "model_id": "600e25bcbab4440f8f22d2137ef7865b"
            }
          },
          "metadata": {}
        },
        {
          "output_type": "display_data",
          "data": {
            "text/plain": [
              "Epoch 332/400:   0%|          | 0/3 [00:00<?, ?it/s]"
            ],
            "application/vnd.jupyter.widget-view+json": {
              "version_major": 2,
              "version_minor": 0,
              "model_id": "76df222009664f7e941a92e68bc4f92c"
            }
          },
          "metadata": {}
        },
        {
          "output_type": "display_data",
          "data": {
            "text/plain": [
              "Epoch 333/400:   0%|          | 0/3 [00:00<?, ?it/s]"
            ],
            "application/vnd.jupyter.widget-view+json": {
              "version_major": 2,
              "version_minor": 0,
              "model_id": "4a44ad7ea761460e953ed2daf1a5438b"
            }
          },
          "metadata": {}
        },
        {
          "output_type": "display_data",
          "data": {
            "text/plain": [
              "Epoch 334/400:   0%|          | 0/3 [00:00<?, ?it/s]"
            ],
            "application/vnd.jupyter.widget-view+json": {
              "version_major": 2,
              "version_minor": 0,
              "model_id": "98fbd15d174945aaa0078db6d961467c"
            }
          },
          "metadata": {}
        },
        {
          "output_type": "display_data",
          "data": {
            "text/plain": [
              "Epoch 335/400:   0%|          | 0/3 [00:00<?, ?it/s]"
            ],
            "application/vnd.jupyter.widget-view+json": {
              "version_major": 2,
              "version_minor": 0,
              "model_id": "f8709c4a6edb46d7ba8df652ae48e7d3"
            }
          },
          "metadata": {}
        },
        {
          "output_type": "display_data",
          "data": {
            "text/plain": [
              "Epoch 336/400:   0%|          | 0/3 [00:00<?, ?it/s]"
            ],
            "application/vnd.jupyter.widget-view+json": {
              "version_major": 2,
              "version_minor": 0,
              "model_id": "79f07f3d64bb43aeb498431f5dd8b47c"
            }
          },
          "metadata": {}
        },
        {
          "output_type": "display_data",
          "data": {
            "text/plain": [
              "Epoch 337/400:   0%|          | 0/3 [00:00<?, ?it/s]"
            ],
            "application/vnd.jupyter.widget-view+json": {
              "version_major": 2,
              "version_minor": 0,
              "model_id": "3f3e186bb1d24d55b3683f5a03563a95"
            }
          },
          "metadata": {}
        },
        {
          "output_type": "display_data",
          "data": {
            "text/plain": [
              "Epoch 338/400:   0%|          | 0/3 [00:00<?, ?it/s]"
            ],
            "application/vnd.jupyter.widget-view+json": {
              "version_major": 2,
              "version_minor": 0,
              "model_id": "f59843b1155848808406ae0a26f70e53"
            }
          },
          "metadata": {}
        },
        {
          "output_type": "display_data",
          "data": {
            "text/plain": [
              "Epoch 339/400:   0%|          | 0/3 [00:00<?, ?it/s]"
            ],
            "application/vnd.jupyter.widget-view+json": {
              "version_major": 2,
              "version_minor": 0,
              "model_id": "3ad96c23f7034caf9a7711e0205af06c"
            }
          },
          "metadata": {}
        },
        {
          "output_type": "display_data",
          "data": {
            "text/plain": [
              "Epoch 340/400:   0%|          | 0/3 [00:00<?, ?it/s]"
            ],
            "application/vnd.jupyter.widget-view+json": {
              "version_major": 2,
              "version_minor": 0,
              "model_id": "b3848760189c44feae8dc193ce38573e"
            }
          },
          "metadata": {}
        },
        {
          "output_type": "display_data",
          "data": {
            "text/plain": [
              "Epoch 341/400:   0%|          | 0/3 [00:00<?, ?it/s]"
            ],
            "application/vnd.jupyter.widget-view+json": {
              "version_major": 2,
              "version_minor": 0,
              "model_id": "8f400485cf464dfab79409fe10c087b0"
            }
          },
          "metadata": {}
        },
        {
          "output_type": "display_data",
          "data": {
            "text/plain": [
              "Epoch 342/400:   0%|          | 0/3 [00:00<?, ?it/s]"
            ],
            "application/vnd.jupyter.widget-view+json": {
              "version_major": 2,
              "version_minor": 0,
              "model_id": "2122b2d2859540f2881cd3536bfcacb1"
            }
          },
          "metadata": {}
        },
        {
          "output_type": "display_data",
          "data": {
            "text/plain": [
              "Epoch 343/400:   0%|          | 0/3 [00:00<?, ?it/s]"
            ],
            "application/vnd.jupyter.widget-view+json": {
              "version_major": 2,
              "version_minor": 0,
              "model_id": "d589b84ad04946b4b85b51666429cdfe"
            }
          },
          "metadata": {}
        },
        {
          "output_type": "display_data",
          "data": {
            "text/plain": [
              "Epoch 344/400:   0%|          | 0/3 [00:00<?, ?it/s]"
            ],
            "application/vnd.jupyter.widget-view+json": {
              "version_major": 2,
              "version_minor": 0,
              "model_id": "ad71548a78f44f08ab50a1ff70b43f36"
            }
          },
          "metadata": {}
        },
        {
          "output_type": "display_data",
          "data": {
            "text/plain": [
              "Epoch 345/400:   0%|          | 0/3 [00:00<?, ?it/s]"
            ],
            "application/vnd.jupyter.widget-view+json": {
              "version_major": 2,
              "version_minor": 0,
              "model_id": "5165a0c7cc9d4525ae80ab537b948dd1"
            }
          },
          "metadata": {}
        },
        {
          "output_type": "display_data",
          "data": {
            "text/plain": [
              "Epoch 346/400:   0%|          | 0/3 [00:00<?, ?it/s]"
            ],
            "application/vnd.jupyter.widget-view+json": {
              "version_major": 2,
              "version_minor": 0,
              "model_id": "5abd2a01aa0443e1bd0364c46636a4e0"
            }
          },
          "metadata": {}
        },
        {
          "output_type": "display_data",
          "data": {
            "text/plain": [
              "Epoch 347/400:   0%|          | 0/3 [00:00<?, ?it/s]"
            ],
            "application/vnd.jupyter.widget-view+json": {
              "version_major": 2,
              "version_minor": 0,
              "model_id": "1b58be8382324a85ac9ac190f3037d9d"
            }
          },
          "metadata": {}
        },
        {
          "output_type": "display_data",
          "data": {
            "text/plain": [
              "Epoch 348/400:   0%|          | 0/3 [00:00<?, ?it/s]"
            ],
            "application/vnd.jupyter.widget-view+json": {
              "version_major": 2,
              "version_minor": 0,
              "model_id": "40213ddb21cd4db1a35aa3ca5ef0a330"
            }
          },
          "metadata": {}
        },
        {
          "output_type": "display_data",
          "data": {
            "text/plain": [
              "Epoch 349/400:   0%|          | 0/3 [00:00<?, ?it/s]"
            ],
            "application/vnd.jupyter.widget-view+json": {
              "version_major": 2,
              "version_minor": 0,
              "model_id": "fa1a7b45c3f342a9b74d4c0db48c0ce9"
            }
          },
          "metadata": {}
        },
        {
          "output_type": "display_data",
          "data": {
            "text/plain": [
              "Epoch 350/400:   0%|          | 0/3 [00:00<?, ?it/s]"
            ],
            "application/vnd.jupyter.widget-view+json": {
              "version_major": 2,
              "version_minor": 0,
              "model_id": "ef789db5962f45c193cee1a6a3c244e2"
            }
          },
          "metadata": {}
        },
        {
          "output_type": "display_data",
          "data": {
            "text/plain": [
              "Epoch 351/400:   0%|          | 0/3 [00:00<?, ?it/s]"
            ],
            "application/vnd.jupyter.widget-view+json": {
              "version_major": 2,
              "version_minor": 0,
              "model_id": "ab1c673641154c5dbf4c3c4ff8507b07"
            }
          },
          "metadata": {}
        },
        {
          "output_type": "display_data",
          "data": {
            "text/plain": [
              "Epoch 352/400:   0%|          | 0/3 [00:00<?, ?it/s]"
            ],
            "application/vnd.jupyter.widget-view+json": {
              "version_major": 2,
              "version_minor": 0,
              "model_id": "cd319a1f5a99476d8d540f84c6e58f45"
            }
          },
          "metadata": {}
        },
        {
          "output_type": "display_data",
          "data": {
            "text/plain": [
              "Epoch 353/400:   0%|          | 0/3 [00:00<?, ?it/s]"
            ],
            "application/vnd.jupyter.widget-view+json": {
              "version_major": 2,
              "version_minor": 0,
              "model_id": "28a5eca4b169453d9bef14fd4e64fdb5"
            }
          },
          "metadata": {}
        },
        {
          "output_type": "display_data",
          "data": {
            "text/plain": [
              "Epoch 354/400:   0%|          | 0/3 [00:00<?, ?it/s]"
            ],
            "application/vnd.jupyter.widget-view+json": {
              "version_major": 2,
              "version_minor": 0,
              "model_id": "1800c88d2fe6420c868922358b0362de"
            }
          },
          "metadata": {}
        },
        {
          "output_type": "display_data",
          "data": {
            "text/plain": [
              "Epoch 355/400:   0%|          | 0/3 [00:00<?, ?it/s]"
            ],
            "application/vnd.jupyter.widget-view+json": {
              "version_major": 2,
              "version_minor": 0,
              "model_id": "47797e7dffc8409fa9d3955fc0587e1b"
            }
          },
          "metadata": {}
        },
        {
          "output_type": "display_data",
          "data": {
            "text/plain": [
              "Epoch 356/400:   0%|          | 0/3 [00:00<?, ?it/s]"
            ],
            "application/vnd.jupyter.widget-view+json": {
              "version_major": 2,
              "version_minor": 0,
              "model_id": "5006e99e2d5045cab654a2f83d969c2c"
            }
          },
          "metadata": {}
        },
        {
          "output_type": "display_data",
          "data": {
            "text/plain": [
              "Epoch 357/400:   0%|          | 0/3 [00:00<?, ?it/s]"
            ],
            "application/vnd.jupyter.widget-view+json": {
              "version_major": 2,
              "version_minor": 0,
              "model_id": "fda84973b1004fd6bf4e31aae33a7bf3"
            }
          },
          "metadata": {}
        },
        {
          "output_type": "display_data",
          "data": {
            "text/plain": [
              "Epoch 358/400:   0%|          | 0/3 [00:00<?, ?it/s]"
            ],
            "application/vnd.jupyter.widget-view+json": {
              "version_major": 2,
              "version_minor": 0,
              "model_id": "ecdb3b8c45914884b1a2691396dc9023"
            }
          },
          "metadata": {}
        },
        {
          "output_type": "display_data",
          "data": {
            "text/plain": [
              "Epoch 359/400:   0%|          | 0/3 [00:00<?, ?it/s]"
            ],
            "application/vnd.jupyter.widget-view+json": {
              "version_major": 2,
              "version_minor": 0,
              "model_id": "ea359360566c42389e848443f16d3afc"
            }
          },
          "metadata": {}
        },
        {
          "output_type": "display_data",
          "data": {
            "text/plain": [
              "Epoch 360/400:   0%|          | 0/3 [00:00<?, ?it/s]"
            ],
            "application/vnd.jupyter.widget-view+json": {
              "version_major": 2,
              "version_minor": 0,
              "model_id": "24545a45bfd14159a0a558adeb60d576"
            }
          },
          "metadata": {}
        },
        {
          "output_type": "display_data",
          "data": {
            "text/plain": [
              "Epoch 361/400:   0%|          | 0/3 [00:00<?, ?it/s]"
            ],
            "application/vnd.jupyter.widget-view+json": {
              "version_major": 2,
              "version_minor": 0,
              "model_id": "010df0da04674fcaa0edeaa2fad142f7"
            }
          },
          "metadata": {}
        },
        {
          "output_type": "display_data",
          "data": {
            "text/plain": [
              "Epoch 362/400:   0%|          | 0/3 [00:00<?, ?it/s]"
            ],
            "application/vnd.jupyter.widget-view+json": {
              "version_major": 2,
              "version_minor": 0,
              "model_id": "a98a2f5f858746d3808667f0418ddde6"
            }
          },
          "metadata": {}
        },
        {
          "output_type": "display_data",
          "data": {
            "text/plain": [
              "Epoch 363/400:   0%|          | 0/3 [00:00<?, ?it/s]"
            ],
            "application/vnd.jupyter.widget-view+json": {
              "version_major": 2,
              "version_minor": 0,
              "model_id": "d0121bceae8d47118f39bff4c0c8fd4b"
            }
          },
          "metadata": {}
        },
        {
          "output_type": "display_data",
          "data": {
            "text/plain": [
              "Epoch 364/400:   0%|          | 0/3 [00:00<?, ?it/s]"
            ],
            "application/vnd.jupyter.widget-view+json": {
              "version_major": 2,
              "version_minor": 0,
              "model_id": "535224fb4c1b49ac9ff323c64e9e7e1d"
            }
          },
          "metadata": {}
        },
        {
          "output_type": "display_data",
          "data": {
            "text/plain": [
              "Epoch 365/400:   0%|          | 0/3 [00:00<?, ?it/s]"
            ],
            "application/vnd.jupyter.widget-view+json": {
              "version_major": 2,
              "version_minor": 0,
              "model_id": "de5244ce0701456291b719c4970975c7"
            }
          },
          "metadata": {}
        },
        {
          "output_type": "display_data",
          "data": {
            "text/plain": [
              "Epoch 366/400:   0%|          | 0/3 [00:00<?, ?it/s]"
            ],
            "application/vnd.jupyter.widget-view+json": {
              "version_major": 2,
              "version_minor": 0,
              "model_id": "115d8a3dacf64e88aca69a9f16240dd1"
            }
          },
          "metadata": {}
        },
        {
          "output_type": "display_data",
          "data": {
            "text/plain": [
              "Epoch 367/400:   0%|          | 0/3 [00:00<?, ?it/s]"
            ],
            "application/vnd.jupyter.widget-view+json": {
              "version_major": 2,
              "version_minor": 0,
              "model_id": "16afe2eefcb54dcab77122082c0d4118"
            }
          },
          "metadata": {}
        },
        {
          "output_type": "display_data",
          "data": {
            "text/plain": [
              "Epoch 368/400:   0%|          | 0/3 [00:00<?, ?it/s]"
            ],
            "application/vnd.jupyter.widget-view+json": {
              "version_major": 2,
              "version_minor": 0,
              "model_id": "ae96413cd71b418a8f2dab4e0daa7582"
            }
          },
          "metadata": {}
        },
        {
          "output_type": "display_data",
          "data": {
            "text/plain": [
              "Epoch 369/400:   0%|          | 0/3 [00:00<?, ?it/s]"
            ],
            "application/vnd.jupyter.widget-view+json": {
              "version_major": 2,
              "version_minor": 0,
              "model_id": "17f03b07138f45d39faed0b11f7795b1"
            }
          },
          "metadata": {}
        },
        {
          "output_type": "display_data",
          "data": {
            "text/plain": [
              "Epoch 370/400:   0%|          | 0/3 [00:00<?, ?it/s]"
            ],
            "application/vnd.jupyter.widget-view+json": {
              "version_major": 2,
              "version_minor": 0,
              "model_id": "77f7c2c56d3d4b849c7fc437f88a1b09"
            }
          },
          "metadata": {}
        },
        {
          "output_type": "display_data",
          "data": {
            "text/plain": [
              "Epoch 371/400:   0%|          | 0/3 [00:00<?, ?it/s]"
            ],
            "application/vnd.jupyter.widget-view+json": {
              "version_major": 2,
              "version_minor": 0,
              "model_id": "390b3b7e87a34bfbb22b41dba190445b"
            }
          },
          "metadata": {}
        },
        {
          "output_type": "display_data",
          "data": {
            "text/plain": [
              "Epoch 372/400:   0%|          | 0/3 [00:00<?, ?it/s]"
            ],
            "application/vnd.jupyter.widget-view+json": {
              "version_major": 2,
              "version_minor": 0,
              "model_id": "35e6d17833864bca8e0112b85688a966"
            }
          },
          "metadata": {}
        },
        {
          "output_type": "display_data",
          "data": {
            "text/plain": [
              "Epoch 373/400:   0%|          | 0/3 [00:00<?, ?it/s]"
            ],
            "application/vnd.jupyter.widget-view+json": {
              "version_major": 2,
              "version_minor": 0,
              "model_id": "2b2a12cefbee4b0da3f73dd82af8e18f"
            }
          },
          "metadata": {}
        },
        {
          "output_type": "display_data",
          "data": {
            "text/plain": [
              "Epoch 374/400:   0%|          | 0/3 [00:00<?, ?it/s]"
            ],
            "application/vnd.jupyter.widget-view+json": {
              "version_major": 2,
              "version_minor": 0,
              "model_id": "aa7915849b0c47d0b4323cee755a74a5"
            }
          },
          "metadata": {}
        },
        {
          "output_type": "display_data",
          "data": {
            "text/plain": [
              "Epoch 375/400:   0%|          | 0/3 [00:00<?, ?it/s]"
            ],
            "application/vnd.jupyter.widget-view+json": {
              "version_major": 2,
              "version_minor": 0,
              "model_id": "620bdf1a95904a059c7eb9280d3e45a7"
            }
          },
          "metadata": {}
        },
        {
          "output_type": "display_data",
          "data": {
            "text/plain": [
              "Epoch 376/400:   0%|          | 0/3 [00:00<?, ?it/s]"
            ],
            "application/vnd.jupyter.widget-view+json": {
              "version_major": 2,
              "version_minor": 0,
              "model_id": "f41d9c1c347e47aa8c96c73260b27ddd"
            }
          },
          "metadata": {}
        },
        {
          "output_type": "display_data",
          "data": {
            "text/plain": [
              "Epoch 377/400:   0%|          | 0/3 [00:00<?, ?it/s]"
            ],
            "application/vnd.jupyter.widget-view+json": {
              "version_major": 2,
              "version_minor": 0,
              "model_id": "5c56f6dadf394553b581e5ae5f35f9b1"
            }
          },
          "metadata": {}
        },
        {
          "output_type": "display_data",
          "data": {
            "text/plain": [
              "Epoch 378/400:   0%|          | 0/3 [00:00<?, ?it/s]"
            ],
            "application/vnd.jupyter.widget-view+json": {
              "version_major": 2,
              "version_minor": 0,
              "model_id": "c2188c7b9ca74ae5890efd673632be3f"
            }
          },
          "metadata": {}
        },
        {
          "output_type": "display_data",
          "data": {
            "text/plain": [
              "Epoch 379/400:   0%|          | 0/3 [00:00<?, ?it/s]"
            ],
            "application/vnd.jupyter.widget-view+json": {
              "version_major": 2,
              "version_minor": 0,
              "model_id": "76960cd91059443790facc31dcab1c7a"
            }
          },
          "metadata": {}
        },
        {
          "output_type": "display_data",
          "data": {
            "text/plain": [
              "Epoch 380/400:   0%|          | 0/3 [00:00<?, ?it/s]"
            ],
            "application/vnd.jupyter.widget-view+json": {
              "version_major": 2,
              "version_minor": 0,
              "model_id": "ad564a92233e42608e19c99bcd20e795"
            }
          },
          "metadata": {}
        },
        {
          "output_type": "display_data",
          "data": {
            "text/plain": [
              "Epoch 381/400:   0%|          | 0/3 [00:00<?, ?it/s]"
            ],
            "application/vnd.jupyter.widget-view+json": {
              "version_major": 2,
              "version_minor": 0,
              "model_id": "0a5344c2e82d4c848f2f1c92da9e201c"
            }
          },
          "metadata": {}
        },
        {
          "output_type": "display_data",
          "data": {
            "text/plain": [
              "Epoch 382/400:   0%|          | 0/3 [00:00<?, ?it/s]"
            ],
            "application/vnd.jupyter.widget-view+json": {
              "version_major": 2,
              "version_minor": 0,
              "model_id": "38fbccfa7c74449692b8b54b554bbd84"
            }
          },
          "metadata": {}
        },
        {
          "output_type": "display_data",
          "data": {
            "text/plain": [
              "Epoch 383/400:   0%|          | 0/3 [00:00<?, ?it/s]"
            ],
            "application/vnd.jupyter.widget-view+json": {
              "version_major": 2,
              "version_minor": 0,
              "model_id": "8375c2b4f6ef471293b652fb48420f59"
            }
          },
          "metadata": {}
        },
        {
          "output_type": "display_data",
          "data": {
            "text/plain": [
              "Epoch 384/400:   0%|          | 0/3 [00:00<?, ?it/s]"
            ],
            "application/vnd.jupyter.widget-view+json": {
              "version_major": 2,
              "version_minor": 0,
              "model_id": "ca87aad1e9694e2ea012316b19abd245"
            }
          },
          "metadata": {}
        },
        {
          "output_type": "display_data",
          "data": {
            "text/plain": [
              "Epoch 385/400:   0%|          | 0/3 [00:00<?, ?it/s]"
            ],
            "application/vnd.jupyter.widget-view+json": {
              "version_major": 2,
              "version_minor": 0,
              "model_id": "fa042ba24ab54ac1a30d7ee60e5128ae"
            }
          },
          "metadata": {}
        },
        {
          "output_type": "display_data",
          "data": {
            "text/plain": [
              "Epoch 386/400:   0%|          | 0/3 [00:00<?, ?it/s]"
            ],
            "application/vnd.jupyter.widget-view+json": {
              "version_major": 2,
              "version_minor": 0,
              "model_id": "220cc9894604432c9be044e0f4ab5d4a"
            }
          },
          "metadata": {}
        },
        {
          "output_type": "display_data",
          "data": {
            "text/plain": [
              "Epoch 387/400:   0%|          | 0/3 [00:00<?, ?it/s]"
            ],
            "application/vnd.jupyter.widget-view+json": {
              "version_major": 2,
              "version_minor": 0,
              "model_id": "0d689d09eff7446683725b172aed2ed6"
            }
          },
          "metadata": {}
        },
        {
          "output_type": "display_data",
          "data": {
            "text/plain": [
              "Epoch 388/400:   0%|          | 0/3 [00:00<?, ?it/s]"
            ],
            "application/vnd.jupyter.widget-view+json": {
              "version_major": 2,
              "version_minor": 0,
              "model_id": "e461d54e59c34e06aae77d3e8a1a663a"
            }
          },
          "metadata": {}
        },
        {
          "output_type": "display_data",
          "data": {
            "text/plain": [
              "Epoch 389/400:   0%|          | 0/3 [00:00<?, ?it/s]"
            ],
            "application/vnd.jupyter.widget-view+json": {
              "version_major": 2,
              "version_minor": 0,
              "model_id": "9b4859624f2c4330a7e24b54e2bd227c"
            }
          },
          "metadata": {}
        },
        {
          "output_type": "display_data",
          "data": {
            "text/plain": [
              "Epoch 390/400:   0%|          | 0/3 [00:00<?, ?it/s]"
            ],
            "application/vnd.jupyter.widget-view+json": {
              "version_major": 2,
              "version_minor": 0,
              "model_id": "8c5ee149338344a983f32f498cce148b"
            }
          },
          "metadata": {}
        },
        {
          "output_type": "display_data",
          "data": {
            "text/plain": [
              "Epoch 391/400:   0%|          | 0/3 [00:00<?, ?it/s]"
            ],
            "application/vnd.jupyter.widget-view+json": {
              "version_major": 2,
              "version_minor": 0,
              "model_id": "b55c0887393148f08e0670bb97cf7591"
            }
          },
          "metadata": {}
        },
        {
          "output_type": "display_data",
          "data": {
            "text/plain": [
              "Epoch 392/400:   0%|          | 0/3 [00:00<?, ?it/s]"
            ],
            "application/vnd.jupyter.widget-view+json": {
              "version_major": 2,
              "version_minor": 0,
              "model_id": "cc357997305946bf9e2008ae88e2ef69"
            }
          },
          "metadata": {}
        },
        {
          "output_type": "display_data",
          "data": {
            "text/plain": [
              "Epoch 393/400:   0%|          | 0/3 [00:00<?, ?it/s]"
            ],
            "application/vnd.jupyter.widget-view+json": {
              "version_major": 2,
              "version_minor": 0,
              "model_id": "e15013f2fd1b4575bef3b505850fc201"
            }
          },
          "metadata": {}
        },
        {
          "output_type": "display_data",
          "data": {
            "text/plain": [
              "Epoch 394/400:   0%|          | 0/3 [00:00<?, ?it/s]"
            ],
            "application/vnd.jupyter.widget-view+json": {
              "version_major": 2,
              "version_minor": 0,
              "model_id": "471d864b3ae94a2a87ffc7a990862a69"
            }
          },
          "metadata": {}
        },
        {
          "output_type": "display_data",
          "data": {
            "text/plain": [
              "Epoch 395/400:   0%|          | 0/3 [00:00<?, ?it/s]"
            ],
            "application/vnd.jupyter.widget-view+json": {
              "version_major": 2,
              "version_minor": 0,
              "model_id": "9fe2a124fdf54da98cceab9311e5bc4b"
            }
          },
          "metadata": {}
        },
        {
          "output_type": "display_data",
          "data": {
            "text/plain": [
              "Epoch 396/400:   0%|          | 0/3 [00:00<?, ?it/s]"
            ],
            "application/vnd.jupyter.widget-view+json": {
              "version_major": 2,
              "version_minor": 0,
              "model_id": "ca30e8c91004473ba67582aeb3451a22"
            }
          },
          "metadata": {}
        },
        {
          "output_type": "display_data",
          "data": {
            "text/plain": [
              "Epoch 397/400:   0%|          | 0/3 [00:00<?, ?it/s]"
            ],
            "application/vnd.jupyter.widget-view+json": {
              "version_major": 2,
              "version_minor": 0,
              "model_id": "36ebd96ca0864310b9748a895effcd99"
            }
          },
          "metadata": {}
        },
        {
          "output_type": "display_data",
          "data": {
            "text/plain": [
              "Epoch 398/400:   0%|          | 0/3 [00:00<?, ?it/s]"
            ],
            "application/vnd.jupyter.widget-view+json": {
              "version_major": 2,
              "version_minor": 0,
              "model_id": "9377236201764de6b602e433b5682cb4"
            }
          },
          "metadata": {}
        },
        {
          "output_type": "display_data",
          "data": {
            "text/plain": [
              "Epoch 399/400:   0%|          | 0/3 [00:00<?, ?it/s]"
            ],
            "application/vnd.jupyter.widget-view+json": {
              "version_major": 2,
              "version_minor": 0,
              "model_id": "3f5fa870031a4e0a9ac3d77e39fae415"
            }
          },
          "metadata": {}
        },
        {
          "output_type": "stream",
          "name": "stdout",
          "text": [
            "stop_epoch 399\n",
            "best_epoch 357\n",
            "train_loss 0.29039762417475384\n",
            "val_loss 0.42546984553337097\n",
            "train_auc 0.9918619791666666\n",
            "val_auc 0.9586\n",
            "test_loss 0.4025028944015503\n",
            "test_auc 0.97565\n"
          ]
        }
      ]
    },
    {
      "cell_type": "markdown",
      "source": [
        "# Other Tests"
      ],
      "metadata": {
        "id": "Rv4VQiLLX6Gl"
      }
    },
    {
      "cell_type": "code",
      "source": [
        "data_dict:dict[str, dict[str, torch.Tensor]] = torch.load(os.path.join(DATASETS_DIR, 'mnist_4x4_split_11.pt'))\n",
        "\n",
        "train_dict = data_dict['train']\n",
        "train_symbols = train_dict['symbols']\n",
        "train_digits = train_dict['digits']\n",
        "train_labels = train_dict['labels']\n",
        "\n",
        "n_images, dimension, _, symbol_size, _ = train_symbols.shape\n",
        "n_blocks = int(dimension ** 0.5)\n",
        "\n",
        "vlm_indices = torch.randperm(n_images)[:5]\n",
        "pil_image_list, base64_image_list = symbols_to_images(vlm_indices, dimension, symbol_size, train_symbols, train_labels)\n",
        "\n",
        "n_rows = torch.floor(torch.tensor(vlm_indices.shape[0] ** 0.5)).int().item()\n",
        "n_cols = torch.ceil(torch.tensor(vlm_indices.shape[0] / n_rows)).int().item()\n",
        "fig, axs = plt.subplots(nrows=n_rows, ncols=n_cols, figsize=(n_cols * 2.5, n_rows * 2.5))\n",
        "for k, ax in enumerate(axs.flatten()):\n",
        "    ax.axis('off')\n",
        "    if k < vlm_indices.shape[0]:\n",
        "        ax.imshow(pil_image_list[k], cmap='gray')\n",
        "        ax.set_title(f'Img: {k}, Idx: {vlm_indices[k]}', fontsize=10)\n",
        "fig.tight_layout()\n",
        "fig.show()\n",
        "\n",
        "for n, vlm_index in enumerate(vlm_indices):\n",
        "    print(f'Img: {k}, Idx: {vlm_index}, Lbl: {train_labels[vlm_index].item()}')\n",
        "    print(test_digits[n, :, :])"
      ],
      "metadata": {
        "id": "MkWleaM7X-ya"
      },
      "execution_count": null,
      "outputs": []
    }
  ]
}